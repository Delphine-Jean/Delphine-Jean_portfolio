{
  "nbformat": 4,
  "nbformat_minor": 0,
  "metadata": {
    "colab": {
      "name": "Tree Classifier.ipynb",
      "provenance": []
    },
    "kernelspec": {
      "name": "python3",
      "display_name": "Python 3"
    }
  },
  "cells": [
    {
      "cell_type": "code",
      "metadata": {
        "id": "HgFaBYmPZxo8",
        "outputId": "71bb7b5c-6794-423c-faf3-9b748a2b9b3d",
        "colab": {
          "base_uri": "https://localhost:8080/",
          "height": 51
        }
      },
      "source": [
        "import pandas as pd \n",
        "import numpy as np\n",
        "import seaborn as sns\n",
        "import matplotlib as plt"
      ],
      "execution_count": null,
      "outputs": [
        {
          "output_type": "stream",
          "text": [
            "/usr/local/lib/python3.6/dist-packages/statsmodels/tools/_testing.py:19: FutureWarning: pandas.util.testing is deprecated. Use the functions in the public API at pandas.testing instead.\n",
            "  import pandas.util.testing as tm\n"
          ],
          "name": "stderr"
        }
      ]
    },
    {
      "cell_type": "code",
      "metadata": {
        "id": "KrLsy2DTaC6q"
      },
      "source": [
        "dataset = pd.read_csv('https://raw.githubusercontent.com/JedhaBootcamp/FULL_STACK_24_WEEK_PROGRAM/master/S0.7%20--%20ML%20supervis%C3%A9%20-%20Decision%20Tree%20%26%20Random%20Forest/S7-A%20-%20Decision%20Tree/bl.txt?token=AGKBMYLQDL2HH6HEE2BPDI267D2OW')"
      ],
      "execution_count": null,
      "outputs": []
    },
    {
      "cell_type": "code",
      "metadata": {
        "id": "5kVTA1tJcHTP",
        "outputId": "5a23a403-a4b9-4a8f-e5a3-04325c2eeb0b",
        "colab": {
          "base_uri": "https://localhost:8080/",
          "height": 204
        }
      },
      "source": [
        "dataset.head()"
      ],
      "execution_count": null,
      "outputs": [
        {
          "output_type": "execute_result",
          "data": {
            "text/html": [
              "<div>\n",
              "<style scoped>\n",
              "    .dataframe tbody tr th:only-of-type {\n",
              "        vertical-align: middle;\n",
              "    }\n",
              "\n",
              "    .dataframe tbody tr th {\n",
              "        vertical-align: top;\n",
              "    }\n",
              "\n",
              "    .dataframe thead th {\n",
              "        text-align: right;\n",
              "    }\n",
              "</style>\n",
              "<table border=\"1\" class=\"dataframe\">\n",
              "  <thead>\n",
              "    <tr style=\"text-align: right;\">\n",
              "      <th></th>\n",
              "      <th>balance</th>\n",
              "      <th>left_weight</th>\n",
              "      <th>left_distance</th>\n",
              "      <th>right_weight</th>\n",
              "      <th>right_distance</th>\n",
              "    </tr>\n",
              "  </thead>\n",
              "  <tbody>\n",
              "    <tr>\n",
              "      <th>0</th>\n",
              "      <td>B</td>\n",
              "      <td>1</td>\n",
              "      <td>1</td>\n",
              "      <td>1</td>\n",
              "      <td>1</td>\n",
              "    </tr>\n",
              "    <tr>\n",
              "      <th>1</th>\n",
              "      <td>R</td>\n",
              "      <td>1</td>\n",
              "      <td>1</td>\n",
              "      <td>1</td>\n",
              "      <td>2</td>\n",
              "    </tr>\n",
              "    <tr>\n",
              "      <th>2</th>\n",
              "      <td>R</td>\n",
              "      <td>1</td>\n",
              "      <td>1</td>\n",
              "      <td>1</td>\n",
              "      <td>3</td>\n",
              "    </tr>\n",
              "    <tr>\n",
              "      <th>3</th>\n",
              "      <td>R</td>\n",
              "      <td>1</td>\n",
              "      <td>1</td>\n",
              "      <td>1</td>\n",
              "      <td>4</td>\n",
              "    </tr>\n",
              "    <tr>\n",
              "      <th>4</th>\n",
              "      <td>R</td>\n",
              "      <td>1</td>\n",
              "      <td>1</td>\n",
              "      <td>1</td>\n",
              "      <td>5</td>\n",
              "    </tr>\n",
              "  </tbody>\n",
              "</table>\n",
              "</div>"
            ],
            "text/plain": [
              "  balance  left_weight  left_distance  right_weight  right_distance\n",
              "0       B            1              1             1               1\n",
              "1       R            1              1             1               2\n",
              "2       R            1              1             1               3\n",
              "3       R            1              1             1               4\n",
              "4       R            1              1             1               5"
            ]
          },
          "metadata": {
            "tags": []
          },
          "execution_count": 7
        }
      ]
    },
    {
      "cell_type": "code",
      "metadata": {
        "id": "Gqb7R938cJ5w",
        "outputId": "faf0d179-e0fd-45a5-ecda-5495b8e214d0",
        "colab": {
          "base_uri": "https://localhost:8080/",
          "height": 297
        }
      },
      "source": [
        "dataset.describe()      "
      ],
      "execution_count": null,
      "outputs": [
        {
          "output_type": "execute_result",
          "data": {
            "text/html": [
              "<div>\n",
              "<style scoped>\n",
              "    .dataframe tbody tr th:only-of-type {\n",
              "        vertical-align: middle;\n",
              "    }\n",
              "\n",
              "    .dataframe tbody tr th {\n",
              "        vertical-align: top;\n",
              "    }\n",
              "\n",
              "    .dataframe thead th {\n",
              "        text-align: right;\n",
              "    }\n",
              "</style>\n",
              "<table border=\"1\" class=\"dataframe\">\n",
              "  <thead>\n",
              "    <tr style=\"text-align: right;\">\n",
              "      <th></th>\n",
              "      <th>left_weight</th>\n",
              "      <th>left_distance</th>\n",
              "      <th>right_weight</th>\n",
              "      <th>right_distance</th>\n",
              "    </tr>\n",
              "  </thead>\n",
              "  <tbody>\n",
              "    <tr>\n",
              "      <th>count</th>\n",
              "      <td>625.000000</td>\n",
              "      <td>625.000000</td>\n",
              "      <td>625.000000</td>\n",
              "      <td>625.000000</td>\n",
              "    </tr>\n",
              "    <tr>\n",
              "      <th>mean</th>\n",
              "      <td>3.000000</td>\n",
              "      <td>3.000000</td>\n",
              "      <td>3.000000</td>\n",
              "      <td>3.000000</td>\n",
              "    </tr>\n",
              "    <tr>\n",
              "      <th>std</th>\n",
              "      <td>1.415346</td>\n",
              "      <td>1.415346</td>\n",
              "      <td>1.415346</td>\n",
              "      <td>1.415346</td>\n",
              "    </tr>\n",
              "    <tr>\n",
              "      <th>min</th>\n",
              "      <td>1.000000</td>\n",
              "      <td>1.000000</td>\n",
              "      <td>1.000000</td>\n",
              "      <td>1.000000</td>\n",
              "    </tr>\n",
              "    <tr>\n",
              "      <th>25%</th>\n",
              "      <td>2.000000</td>\n",
              "      <td>2.000000</td>\n",
              "      <td>2.000000</td>\n",
              "      <td>2.000000</td>\n",
              "    </tr>\n",
              "    <tr>\n",
              "      <th>50%</th>\n",
              "      <td>3.000000</td>\n",
              "      <td>3.000000</td>\n",
              "      <td>3.000000</td>\n",
              "      <td>3.000000</td>\n",
              "    </tr>\n",
              "    <tr>\n",
              "      <th>75%</th>\n",
              "      <td>4.000000</td>\n",
              "      <td>4.000000</td>\n",
              "      <td>4.000000</td>\n",
              "      <td>4.000000</td>\n",
              "    </tr>\n",
              "    <tr>\n",
              "      <th>max</th>\n",
              "      <td>5.000000</td>\n",
              "      <td>5.000000</td>\n",
              "      <td>5.000000</td>\n",
              "      <td>5.000000</td>\n",
              "    </tr>\n",
              "  </tbody>\n",
              "</table>\n",
              "</div>"
            ],
            "text/plain": [
              "       left_weight  left_distance  right_weight  right_distance\n",
              "count   625.000000     625.000000    625.000000      625.000000\n",
              "mean      3.000000       3.000000      3.000000        3.000000\n",
              "std       1.415346       1.415346      1.415346        1.415346\n",
              "min       1.000000       1.000000      1.000000        1.000000\n",
              "25%       2.000000       2.000000      2.000000        2.000000\n",
              "50%       3.000000       3.000000      3.000000        3.000000\n",
              "75%       4.000000       4.000000      4.000000        4.000000\n",
              "max       5.000000       5.000000      5.000000        5.000000"
            ]
          },
          "metadata": {
            "tags": []
          },
          "execution_count": 8
        }
      ]
    },
    {
      "cell_type": "code",
      "metadata": {
        "id": "qAD-zislcOW0",
        "outputId": "00393bd8-9956-44f1-ac9a-7248ddcd6bd7",
        "colab": {
          "base_uri": "https://localhost:8080/",
          "height": 34
        }
      },
      "source": [
        "dataset.shape"
      ],
      "execution_count": null,
      "outputs": [
        {
          "output_type": "execute_result",
          "data": {
            "text/plain": [
              "(625, 5)"
            ]
          },
          "metadata": {
            "tags": []
          },
          "execution_count": 9
        }
      ]
    },
    {
      "cell_type": "code",
      "metadata": {
        "id": "Qstg1QLTchDw"
      },
      "source": [
        "X = dataset.iloc[:,1:]\n",
        "y = dataset.iloc[:,0]"
      ],
      "execution_count": null,
      "outputs": []
    },
    {
      "cell_type": "code",
      "metadata": {
        "id": "x72-Hq4IdChL"
      },
      "source": [
        "from sklearn.model_selection import train_test_split\n",
        "\n",
        "X_train, X_test, y_train, y_test = train_test_split(X, y, test_size=0.3, random_state=42, stratify = y)"
      ],
      "execution_count": null,
      "outputs": []
    },
    {
      "cell_type": "code",
      "metadata": {
        "id": "fD01i-iMdDP3",
        "outputId": "fd6c31ab-92af-4ec0-a0dd-3a1cb6bbe5b3",
        "colab": {
          "base_uri": "https://localhost:8080/",
          "height": 119
        }
      },
      "source": [
        "from sklearn.tree import DecisionTreeClassifier\n",
        "\n",
        "classifier_gini = DecisionTreeClassifier(criterion=\"gini\")\n",
        "classifier_gini.fit(X_train,y_train)"
      ],
      "execution_count": null,
      "outputs": [
        {
          "output_type": "execute_result",
          "data": {
            "text/plain": [
              "DecisionTreeClassifier(ccp_alpha=0.0, class_weight=None, criterion='gini',\n",
              "                       max_depth=None, max_features=None, max_leaf_nodes=None,\n",
              "                       min_impurity_decrease=0.0, min_impurity_split=None,\n",
              "                       min_samples_leaf=1, min_samples_split=2,\n",
              "                       min_weight_fraction_leaf=0.0, presort='deprecated',\n",
              "                       random_state=None, splitter='best')"
            ]
          },
          "metadata": {
            "tags": []
          },
          "execution_count": 12
        }
      ]
    },
    {
      "cell_type": "code",
      "metadata": {
        "id": "GF7lfq1yfDUV"
      },
      "source": [
        "import graphviz\n",
        "from sklearn.tree import export_graphviz"
      ],
      "execution_count": null,
      "outputs": []
    },
    {
      "cell_type": "code",
      "metadata": {
        "id": "6c7oO5i9gkjg",
        "outputId": "179f5ad9-59dc-45a1-f1ea-85b409f349bc",
        "colab": {
          "base_uri": "https://localhost:8080/",
          "height": 1000
        }
      },
      "source": [
        "dot_data = export_graphviz(classifier_gini, out_file=None, feature_names= X.columns) \n",
        "\n",
        "graph = graphviz.Source(dot_data) \n",
        "graph"
      ],
      "execution_count": null,
      "outputs": [
        {
          "output_type": "execute_result",
          "data": {
            "text/plain": [
              "<graphviz.files.Source at 0x7f39c13b7c18>"
            ],
            "image/svg+xml": "<?xml version=\"1.0\" encoding=\"UTF-8\" standalone=\"no\"?>\n<!DOCTYPE svg PUBLIC \"-//W3C//DTD SVG 1.1//EN\"\n \"http://www.w3.org/Graphics/SVG/1.1/DTD/svg11.dtd\">\n<!-- Generated by graphviz version 2.40.1 (20161225.0304)\n -->\n<!-- Title: Tree Pages: 1 -->\n<svg width=\"7367pt\" height=\"1101pt\"\n viewBox=\"0.00 0.00 7367.00 1101.00\" xmlns=\"http://www.w3.org/2000/svg\" xmlns:xlink=\"http://www.w3.org/1999/xlink\">\n<g id=\"graph0\" class=\"graph\" transform=\"scale(1 1) rotate(0) translate(4 1097)\">\n<title>Tree</title>\n<polygon fill=\"#ffffff\" stroke=\"transparent\" points=\"-4,4 -4,-1097 7363,-1097 7363,4 -4,4\"/>\n<!-- 0 -->\n<g id=\"node1\" class=\"node\">\n<title>0</title>\n<polygon fill=\"none\" stroke=\"#000000\" points=\"3021.5,-1093 2874.5,-1093 2874.5,-1025 3021.5,-1025 3021.5,-1093\"/>\n<text text-anchor=\"middle\" x=\"2948\" y=\"-1077.8\" font-family=\"Times,serif\" font-size=\"14.00\" fill=\"#000000\">right_distance &lt;= 2.5</text>\n<text text-anchor=\"middle\" x=\"2948\" y=\"-1062.8\" font-family=\"Times,serif\" font-size=\"14.00\" fill=\"#000000\">gini = 0.569</text>\n<text text-anchor=\"middle\" x=\"2948\" y=\"-1047.8\" font-family=\"Times,serif\" font-size=\"14.00\" fill=\"#000000\">samples = 437</text>\n<text text-anchor=\"middle\" x=\"2948\" y=\"-1032.8\" font-family=\"Times,serif\" font-size=\"14.00\" fill=\"#000000\">value = [34, 201, 202]</text>\n</g>\n<!-- 1 -->\n<g id=\"node2\" class=\"node\">\n<title>1</title>\n<polygon fill=\"none\" stroke=\"#000000\" points=\"2498,-989 2358,-989 2358,-921 2498,-921 2498,-989\"/>\n<text text-anchor=\"middle\" x=\"2428\" y=\"-973.8\" font-family=\"Times,serif\" font-size=\"14.00\" fill=\"#000000\">left_distance &lt;= 2.5</text>\n<text text-anchor=\"middle\" x=\"2428\" y=\"-958.8\" font-family=\"Times,serif\" font-size=\"14.00\" fill=\"#000000\">gini = 0.44</text>\n<text text-anchor=\"middle\" x=\"2428\" y=\"-943.8\" font-family=\"Times,serif\" font-size=\"14.00\" fill=\"#000000\">samples = 168</text>\n<text text-anchor=\"middle\" x=\"2428\" y=\"-928.8\" font-family=\"Times,serif\" font-size=\"14.00\" fill=\"#000000\">value = [13, 120, 35]</text>\n</g>\n<!-- 0&#45;&gt;1 -->\n<g id=\"edge1\" class=\"edge\">\n<title>0&#45;&gt;1</title>\n<path fill=\"none\" stroke=\"#000000\" d=\"M2874.3244,-1044.2649C2777.4867,-1024.8973 2607.9995,-990.9999 2508.0774,-971.0155\"/>\n<polygon fill=\"#000000\" stroke=\"#000000\" points=\"2508.5265,-967.5361 2498.0343,-969.0069 2507.1537,-974.4001 2508.5265,-967.5361\"/>\n<text text-anchor=\"middle\" x=\"2511.9018\" y=\"-986.1081\" font-family=\"Times,serif\" font-size=\"14.00\" fill=\"#000000\">True</text>\n</g>\n<!-- 82 -->\n<g id=\"node83\" class=\"node\">\n<title>82</title>\n<polygon fill=\"none\" stroke=\"#000000\" points=\"3983,-989 3843,-989 3843,-921 3983,-921 3983,-989\"/>\n<text text-anchor=\"middle\" x=\"3913\" y=\"-973.8\" font-family=\"Times,serif\" font-size=\"14.00\" fill=\"#000000\">right_weight &lt;= 2.5</text>\n<text text-anchor=\"middle\" x=\"3913\" y=\"-958.8\" font-family=\"Times,serif\" font-size=\"14.00\" fill=\"#000000\">gini = 0.518</text>\n<text text-anchor=\"middle\" x=\"3913\" y=\"-943.8\" font-family=\"Times,serif\" font-size=\"14.00\" fill=\"#000000\">samples = 269</text>\n<text text-anchor=\"middle\" x=\"3913\" y=\"-928.8\" font-family=\"Times,serif\" font-size=\"14.00\" fill=\"#000000\">value = [21, 81, 167]</text>\n</g>\n<!-- 0&#45;&gt;82 -->\n<g id=\"edge82\" class=\"edge\">\n<title>0&#45;&gt;82</title>\n<path fill=\"none\" stroke=\"#000000\" d=\"M3021.7213,-1051.0549C3199.1199,-1031.9363 3648.6973,-983.4844 3832.6611,-963.6583\"/>\n<polygon fill=\"#000000\" stroke=\"#000000\" points=\"3833.2391,-967.1164 3842.8065,-962.5649 3832.489,-960.1567 3833.2391,-967.1164\"/>\n<text text-anchor=\"middle\" x=\"3827.1248\" y=\"-978.335\" font-family=\"Times,serif\" font-size=\"14.00\" fill=\"#000000\">False</text>\n</g>\n<!-- 2 -->\n<g id=\"node3\" class=\"node\">\n<title>2</title>\n<polygon fill=\"none\" stroke=\"#000000\" points=\"1366.5,-885 1233.5,-885 1233.5,-817 1366.5,-817 1366.5,-885\"/>\n<text text-anchor=\"middle\" x=\"1300\" y=\"-869.8\" font-family=\"Times,serif\" font-size=\"14.00\" fill=\"#000000\">right_weight &lt;= 2.5</text>\n<text text-anchor=\"middle\" x=\"1300\" y=\"-854.8\" font-family=\"Times,serif\" font-size=\"14.00\" fill=\"#000000\">gini = 0.617</text>\n<text text-anchor=\"middle\" x=\"1300\" y=\"-839.8\" font-family=\"Times,serif\" font-size=\"14.00\" fill=\"#000000\">samples = 59</text>\n<text text-anchor=\"middle\" x=\"1300\" y=\"-824.8\" font-family=\"Times,serif\" font-size=\"14.00\" fill=\"#000000\">value = [9, 24, 26]</text>\n</g>\n<!-- 1&#45;&gt;2 -->\n<g id=\"edge2\" class=\"edge\">\n<title>1&#45;&gt;2</title>\n<path fill=\"none\" stroke=\"#000000\" d=\"M2357.8647,-948.5336C2157.7623,-930.0845 1585.1611,-877.2915 1376.9098,-858.091\"/>\n<polygon fill=\"#000000\" stroke=\"#000000\" points=\"1376.957,-854.5806 1366.6779,-857.1476 1376.3143,-861.551 1376.957,-854.5806\"/>\n</g>\n<!-- 51 -->\n<g id=\"node52\" class=\"node\">\n<title>51</title>\n<polygon fill=\"none\" stroke=\"#000000\" points=\"2490,-885 2366,-885 2366,-817 2490,-817 2490,-885\"/>\n<text text-anchor=\"middle\" x=\"2428\" y=\"-869.8\" font-family=\"Times,serif\" font-size=\"14.00\" fill=\"#000000\">left_weight &lt;= 1.5</text>\n<text text-anchor=\"middle\" x=\"2428\" y=\"-854.8\" font-family=\"Times,serif\" font-size=\"14.00\" fill=\"#000000\">gini = 0.216</text>\n<text text-anchor=\"middle\" x=\"2428\" y=\"-839.8\" font-family=\"Times,serif\" font-size=\"14.00\" fill=\"#000000\">samples = 109</text>\n<text text-anchor=\"middle\" x=\"2428\" y=\"-824.8\" font-family=\"Times,serif\" font-size=\"14.00\" fill=\"#000000\">value = [4, 96, 9]</text>\n</g>\n<!-- 1&#45;&gt;51 -->\n<g id=\"edge51\" class=\"edge\">\n<title>1&#45;&gt;51</title>\n<path fill=\"none\" stroke=\"#000000\" d=\"M2428,-920.9465C2428,-912.776 2428,-903.9318 2428,-895.3697\"/>\n<polygon fill=\"#000000\" stroke=\"#000000\" points=\"2431.5001,-895.13 2428,-885.13 2424.5001,-895.13 2431.5001,-895.13\"/>\n</g>\n<!-- 3 -->\n<g id=\"node4\" class=\"node\">\n<title>3</title>\n<polygon fill=\"none\" stroke=\"#000000\" points=\"527,-781 403,-781 403,-713 527,-713 527,-781\"/>\n<text text-anchor=\"middle\" x=\"465\" y=\"-765.8\" font-family=\"Times,serif\" font-size=\"14.00\" fill=\"#000000\">left_weight &lt;= 1.5</text>\n<text text-anchor=\"middle\" x=\"465\" y=\"-750.8\" font-family=\"Times,serif\" font-size=\"14.00\" fill=\"#000000\">gini = 0.51</text>\n<text text-anchor=\"middle\" x=\"465\" y=\"-735.8\" font-family=\"Times,serif\" font-size=\"14.00\" fill=\"#000000\">samples = 23</text>\n<text text-anchor=\"middle\" x=\"465\" y=\"-720.8\" font-family=\"Times,serif\" font-size=\"14.00\" fill=\"#000000\">value = [5, 15, 3]</text>\n</g>\n<!-- 2&#45;&gt;3 -->\n<g id=\"edge3\" class=\"edge\">\n<title>2&#45;&gt;3</title>\n<path fill=\"none\" stroke=\"#000000\" d=\"M1233.4309,-842.7088C1078.9912,-823.4732 697.3317,-775.9371 537.3703,-756.0138\"/>\n<polygon fill=\"#000000\" stroke=\"#000000\" points=\"537.5153,-752.5049 527.1593,-754.742 536.65,-759.4512 537.5153,-752.5049\"/>\n</g>\n<!-- 22 -->\n<g id=\"node23\" class=\"node\">\n<title>22</title>\n<polygon fill=\"none\" stroke=\"#000000\" points=\"1362,-781 1238,-781 1238,-713 1362,-713 1362,-781\"/>\n<text text-anchor=\"middle\" x=\"1300\" y=\"-765.8\" font-family=\"Times,serif\" font-size=\"14.00\" fill=\"#000000\">left_weight &lt;= 3.5</text>\n<text text-anchor=\"middle\" x=\"1300\" y=\"-750.8\" font-family=\"Times,serif\" font-size=\"14.00\" fill=\"#000000\">gini = 0.517</text>\n<text text-anchor=\"middle\" x=\"1300\" y=\"-735.8\" font-family=\"Times,serif\" font-size=\"14.00\" fill=\"#000000\">samples = 36</text>\n<text text-anchor=\"middle\" x=\"1300\" y=\"-720.8\" font-family=\"Times,serif\" font-size=\"14.00\" fill=\"#000000\">value = [4, 9, 23]</text>\n</g>\n<!-- 2&#45;&gt;22 -->\n<g id=\"edge22\" class=\"edge\">\n<title>2&#45;&gt;22</title>\n<path fill=\"none\" stroke=\"#000000\" d=\"M1300,-816.9465C1300,-808.776 1300,-799.9318 1300,-791.3697\"/>\n<polygon fill=\"#000000\" stroke=\"#000000\" points=\"1303.5001,-791.13 1300,-781.13 1296.5001,-791.13 1303.5001,-791.13\"/>\n</g>\n<!-- 4 -->\n<g id=\"node5\" class=\"node\">\n<title>4</title>\n<polygon fill=\"none\" stroke=\"#000000\" points=\"320.5,-677 187.5,-677 187.5,-609 320.5,-609 320.5,-677\"/>\n<text text-anchor=\"middle\" x=\"254\" y=\"-661.8\" font-family=\"Times,serif\" font-size=\"14.00\" fill=\"#000000\">right_weight &lt;= 1.5</text>\n<text text-anchor=\"middle\" x=\"254\" y=\"-646.8\" font-family=\"Times,serif\" font-size=\"14.00\" fill=\"#000000\">gini = 0.444</text>\n<text text-anchor=\"middle\" x=\"254\" y=\"-631.8\" font-family=\"Times,serif\" font-size=\"14.00\" fill=\"#000000\">samples = 3</text>\n<text text-anchor=\"middle\" x=\"254\" y=\"-616.8\" font-family=\"Times,serif\" font-size=\"14.00\" fill=\"#000000\">value = [2, 0, 1]</text>\n</g>\n<!-- 3&#45;&gt;4 -->\n<g id=\"edge4\" class=\"edge\">\n<title>3&#45;&gt;4</title>\n<path fill=\"none\" stroke=\"#000000\" d=\"M402.8343,-716.3591C379.9825,-705.0956 353.8476,-692.214 329.921,-680.4208\"/>\n<polygon fill=\"#000000\" stroke=\"#000000\" points=\"331.3874,-677.2416 320.8704,-675.9598 328.2927,-683.5203 331.3874,-677.2416\"/>\n</g>\n<!-- 7 -->\n<g id=\"node8\" class=\"node\">\n<title>7</title>\n<polygon fill=\"none\" stroke=\"#000000\" points=\"531.5,-677 398.5,-677 398.5,-609 531.5,-609 531.5,-677\"/>\n<text text-anchor=\"middle\" x=\"465\" y=\"-661.8\" font-family=\"Times,serif\" font-size=\"14.00\" fill=\"#000000\">right_weight &lt;= 1.5</text>\n<text text-anchor=\"middle\" x=\"465\" y=\"-646.8\" font-family=\"Times,serif\" font-size=\"14.00\" fill=\"#000000\">gini = 0.405</text>\n<text text-anchor=\"middle\" x=\"465\" y=\"-631.8\" font-family=\"Times,serif\" font-size=\"14.00\" fill=\"#000000\">samples = 20</text>\n<text text-anchor=\"middle\" x=\"465\" y=\"-616.8\" font-family=\"Times,serif\" font-size=\"14.00\" fill=\"#000000\">value = [3, 15, 2]</text>\n</g>\n<!-- 3&#45;&gt;7 -->\n<g id=\"edge7\" class=\"edge\">\n<title>3&#45;&gt;7</title>\n<path fill=\"none\" stroke=\"#000000\" d=\"M465,-712.9465C465,-704.776 465,-695.9318 465,-687.3697\"/>\n<polygon fill=\"#000000\" stroke=\"#000000\" points=\"468.5001,-687.13 465,-677.13 461.5001,-687.13 468.5001,-687.13\"/>\n</g>\n<!-- 5 -->\n<g id=\"node6\" class=\"node\">\n<title>5</title>\n<polygon fill=\"none\" stroke=\"#000000\" points=\"181,-565.5 71,-565.5 71,-512.5 181,-512.5 181,-565.5\"/>\n<text text-anchor=\"middle\" x=\"126\" y=\"-550.3\" font-family=\"Times,serif\" font-size=\"14.00\" fill=\"#000000\">gini = 0.0</text>\n<text text-anchor=\"middle\" x=\"126\" y=\"-535.3\" font-family=\"Times,serif\" font-size=\"14.00\" fill=\"#000000\">samples = 2</text>\n<text text-anchor=\"middle\" x=\"126\" y=\"-520.3\" font-family=\"Times,serif\" font-size=\"14.00\" fill=\"#000000\">value = [2, 0, 0]</text>\n</g>\n<!-- 4&#45;&gt;5 -->\n<g id=\"edge5\" class=\"edge\">\n<title>4&#45;&gt;5</title>\n<path fill=\"none\" stroke=\"#000000\" d=\"M212.088,-608.9465C197.4467,-597.0504 181.0474,-583.726 166.5215,-571.9237\"/>\n<polygon fill=\"#000000\" stroke=\"#000000\" points=\"168.6355,-569.1317 158.6673,-565.5422 164.2214,-574.5645 168.6355,-569.1317\"/>\n</g>\n<!-- 6 -->\n<g id=\"node7\" class=\"node\">\n<title>6</title>\n<polygon fill=\"none\" stroke=\"#000000\" points=\"309,-565.5 199,-565.5 199,-512.5 309,-512.5 309,-565.5\"/>\n<text text-anchor=\"middle\" x=\"254\" y=\"-550.3\" font-family=\"Times,serif\" font-size=\"14.00\" fill=\"#000000\">gini = 0.0</text>\n<text text-anchor=\"middle\" x=\"254\" y=\"-535.3\" font-family=\"Times,serif\" font-size=\"14.00\" fill=\"#000000\">samples = 1</text>\n<text text-anchor=\"middle\" x=\"254\" y=\"-520.3\" font-family=\"Times,serif\" font-size=\"14.00\" fill=\"#000000\">value = [0, 0, 1]</text>\n</g>\n<!-- 4&#45;&gt;6 -->\n<g id=\"edge6\" class=\"edge\">\n<title>4&#45;&gt;6</title>\n<path fill=\"none\" stroke=\"#000000\" d=\"M254,-608.9465C254,-598.2621 254,-586.4254 254,-575.5742\"/>\n<polygon fill=\"#000000\" stroke=\"#000000\" points=\"257.5001,-575.5421 254,-565.5422 250.5001,-575.5422 257.5001,-575.5421\"/>\n</g>\n<!-- 8 -->\n<g id=\"node9\" class=\"node\">\n<title>8</title>\n<polygon fill=\"none\" stroke=\"#000000\" points=\"437,-565.5 327,-565.5 327,-512.5 437,-512.5 437,-565.5\"/>\n<text text-anchor=\"middle\" x=\"382\" y=\"-550.3\" font-family=\"Times,serif\" font-size=\"14.00\" fill=\"#000000\">gini = 0.0</text>\n<text text-anchor=\"middle\" x=\"382\" y=\"-535.3\" font-family=\"Times,serif\" font-size=\"14.00\" fill=\"#000000\">samples = 9</text>\n<text text-anchor=\"middle\" x=\"382\" y=\"-520.3\" font-family=\"Times,serif\" font-size=\"14.00\" fill=\"#000000\">value = [0, 9, 0]</text>\n</g>\n<!-- 7&#45;&gt;8 -->\n<g id=\"edge8\" class=\"edge\">\n<title>7&#45;&gt;8</title>\n<path fill=\"none\" stroke=\"#000000\" d=\"M437.8227,-608.9465C428.7682,-597.6012 418.677,-584.9567 409.5914,-573.5724\"/>\n<polygon fill=\"#000000\" stroke=\"#000000\" points=\"412.1561,-571.175 403.1827,-565.5422 406.6849,-575.5414 412.1561,-571.175\"/>\n</g>\n<!-- 9 -->\n<g id=\"node10\" class=\"node\">\n<title>9</title>\n<polygon fill=\"none\" stroke=\"#000000\" points=\"595,-573 455,-573 455,-505 595,-505 595,-573\"/>\n<text text-anchor=\"middle\" x=\"525\" y=\"-557.8\" font-family=\"Times,serif\" font-size=\"14.00\" fill=\"#000000\">right_distance &lt;= 1.5</text>\n<text text-anchor=\"middle\" x=\"525\" y=\"-542.8\" font-family=\"Times,serif\" font-size=\"14.00\" fill=\"#000000\">gini = 0.595</text>\n<text text-anchor=\"middle\" x=\"525\" y=\"-527.8\" font-family=\"Times,serif\" font-size=\"14.00\" fill=\"#000000\">samples = 11</text>\n<text text-anchor=\"middle\" x=\"525\" y=\"-512.8\" font-family=\"Times,serif\" font-size=\"14.00\" fill=\"#000000\">value = [3, 6, 2]</text>\n</g>\n<!-- 7&#45;&gt;9 -->\n<g id=\"edge9\" class=\"edge\">\n<title>7&#45;&gt;9</title>\n<path fill=\"none\" stroke=\"#000000\" d=\"M484.6462,-608.9465C489.619,-600.3271 495.0243,-590.9579 500.2148,-581.9611\"/>\n<polygon fill=\"#000000\" stroke=\"#000000\" points=\"503.344,-583.5409 505.3096,-573.13 497.2807,-580.0428 503.344,-583.5409\"/>\n</g>\n<!-- 10 -->\n<g id=\"node11\" class=\"node\">\n<title>10</title>\n<polygon fill=\"none\" stroke=\"#000000\" points=\"375,-469 251,-469 251,-401 375,-401 375,-469\"/>\n<text text-anchor=\"middle\" x=\"313\" y=\"-453.8\" font-family=\"Times,serif\" font-size=\"14.00\" fill=\"#000000\">left_weight &lt;= 2.5</text>\n<text text-anchor=\"middle\" x=\"313\" y=\"-438.8\" font-family=\"Times,serif\" font-size=\"14.00\" fill=\"#000000\">gini = 0.278</text>\n<text text-anchor=\"middle\" x=\"313\" y=\"-423.8\" font-family=\"Times,serif\" font-size=\"14.00\" fill=\"#000000\">samples = 6</text>\n<text text-anchor=\"middle\" x=\"313\" y=\"-408.8\" font-family=\"Times,serif\" font-size=\"14.00\" fill=\"#000000\">value = [1, 5, 0]</text>\n</g>\n<!-- 9&#45;&gt;10 -->\n<g id=\"edge10\" class=\"edge\">\n<title>9&#45;&gt;10</title>\n<path fill=\"none\" stroke=\"#000000\" d=\"M455.5833,-504.9465C432.6628,-493.7025 407.1413,-481.1825 384.0971,-469.8778\"/>\n<polygon fill=\"#000000\" stroke=\"#000000\" points=\"385.5824,-466.708 375.063,-465.446 382.4994,-472.9926 385.5824,-466.708\"/>\n</g>\n<!-- 15 -->\n<g id=\"node16\" class=\"node\">\n<title>15</title>\n<polygon fill=\"none\" stroke=\"#000000\" points=\"590.5,-469 459.5,-469 459.5,-401 590.5,-401 590.5,-469\"/>\n<text text-anchor=\"middle\" x=\"525\" y=\"-453.8\" font-family=\"Times,serif\" font-size=\"14.00\" fill=\"#000000\">left_distance &lt;= 1.5</text>\n<text text-anchor=\"middle\" x=\"525\" y=\"-438.8\" font-family=\"Times,serif\" font-size=\"14.00\" fill=\"#000000\">gini = 0.64</text>\n<text text-anchor=\"middle\" x=\"525\" y=\"-423.8\" font-family=\"Times,serif\" font-size=\"14.00\" fill=\"#000000\">samples = 5</text>\n<text text-anchor=\"middle\" x=\"525\" y=\"-408.8\" font-family=\"Times,serif\" font-size=\"14.00\" fill=\"#000000\">value = [2, 1, 2]</text>\n</g>\n<!-- 9&#45;&gt;15 -->\n<g id=\"edge15\" class=\"edge\">\n<title>9&#45;&gt;15</title>\n<path fill=\"none\" stroke=\"#000000\" d=\"M525,-504.9465C525,-496.776 525,-487.9318 525,-479.3697\"/>\n<polygon fill=\"#000000\" stroke=\"#000000\" points=\"528.5001,-479.13 525,-469.13 521.5001,-479.13 528.5001,-479.13\"/>\n</g>\n<!-- 11 -->\n<g id=\"node12\" class=\"node\">\n<title>11</title>\n<polygon fill=\"none\" stroke=\"#000000\" points=\"239.5,-365 108.5,-365 108.5,-297 239.5,-297 239.5,-365\"/>\n<text text-anchor=\"middle\" x=\"174\" y=\"-349.8\" font-family=\"Times,serif\" font-size=\"14.00\" fill=\"#000000\">left_distance &lt;= 1.5</text>\n<text text-anchor=\"middle\" x=\"174\" y=\"-334.8\" font-family=\"Times,serif\" font-size=\"14.00\" fill=\"#000000\">gini = 0.5</text>\n<text text-anchor=\"middle\" x=\"174\" y=\"-319.8\" font-family=\"Times,serif\" font-size=\"14.00\" fill=\"#000000\">samples = 2</text>\n<text text-anchor=\"middle\" x=\"174\" y=\"-304.8\" font-family=\"Times,serif\" font-size=\"14.00\" fill=\"#000000\">value = [1, 1, 0]</text>\n</g>\n<!-- 10&#45;&gt;11 -->\n<g id=\"edge11\" class=\"edge\">\n<title>10&#45;&gt;11</title>\n<path fill=\"none\" stroke=\"#000000\" d=\"M267.4862,-400.9465C254.766,-391.4293 240.824,-380.9978 227.6794,-371.163\"/>\n<polygon fill=\"#000000\" stroke=\"#000000\" points=\"229.7198,-368.3184 219.6161,-365.13 225.5262,-373.9232 229.7198,-368.3184\"/>\n</g>\n<!-- 14 -->\n<g id=\"node15\" class=\"node\">\n<title>14</title>\n<polygon fill=\"none\" stroke=\"#000000\" points=\"368,-357.5 258,-357.5 258,-304.5 368,-304.5 368,-357.5\"/>\n<text text-anchor=\"middle\" x=\"313\" y=\"-342.3\" font-family=\"Times,serif\" font-size=\"14.00\" fill=\"#000000\">gini = 0.0</text>\n<text text-anchor=\"middle\" x=\"313\" y=\"-327.3\" font-family=\"Times,serif\" font-size=\"14.00\" fill=\"#000000\">samples = 4</text>\n<text text-anchor=\"middle\" x=\"313\" y=\"-312.3\" font-family=\"Times,serif\" font-size=\"14.00\" fill=\"#000000\">value = [0, 4, 0]</text>\n</g>\n<!-- 10&#45;&gt;14 -->\n<g id=\"edge14\" class=\"edge\">\n<title>10&#45;&gt;14</title>\n<path fill=\"none\" stroke=\"#000000\" d=\"M313,-400.9465C313,-390.2621 313,-378.4254 313,-367.5742\"/>\n<polygon fill=\"#000000\" stroke=\"#000000\" points=\"316.5001,-367.5421 313,-357.5422 309.5001,-367.5422 316.5001,-367.5421\"/>\n</g>\n<!-- 12 -->\n<g id=\"node13\" class=\"node\">\n<title>12</title>\n<polygon fill=\"none\" stroke=\"#000000\" points=\"110,-253.5 0,-253.5 0,-200.5 110,-200.5 110,-253.5\"/>\n<text text-anchor=\"middle\" x=\"55\" y=\"-238.3\" font-family=\"Times,serif\" font-size=\"14.00\" fill=\"#000000\">gini = 0.0</text>\n<text text-anchor=\"middle\" x=\"55\" y=\"-223.3\" font-family=\"Times,serif\" font-size=\"14.00\" fill=\"#000000\">samples = 1</text>\n<text text-anchor=\"middle\" x=\"55\" y=\"-208.3\" font-family=\"Times,serif\" font-size=\"14.00\" fill=\"#000000\">value = [1, 0, 0]</text>\n</g>\n<!-- 11&#45;&gt;12 -->\n<g id=\"edge12\" class=\"edge\">\n<title>11&#45;&gt;12</title>\n<path fill=\"none\" stroke=\"#000000\" d=\"M135.0349,-296.9465C121.5491,-285.1606 106.4591,-271.9726 93.0479,-260.2519\"/>\n<polygon fill=\"#000000\" stroke=\"#000000\" points=\"95.2033,-257.4874 85.3704,-253.5422 90.5969,-262.7582 95.2033,-257.4874\"/>\n</g>\n<!-- 13 -->\n<g id=\"node14\" class=\"node\">\n<title>13</title>\n<polygon fill=\"none\" stroke=\"#000000\" points=\"238,-253.5 128,-253.5 128,-200.5 238,-200.5 238,-253.5\"/>\n<text text-anchor=\"middle\" x=\"183\" y=\"-238.3\" font-family=\"Times,serif\" font-size=\"14.00\" fill=\"#000000\">gini = 0.0</text>\n<text text-anchor=\"middle\" x=\"183\" y=\"-223.3\" font-family=\"Times,serif\" font-size=\"14.00\" fill=\"#000000\">samples = 1</text>\n<text text-anchor=\"middle\" x=\"183\" y=\"-208.3\" font-family=\"Times,serif\" font-size=\"14.00\" fill=\"#000000\">value = [0, 1, 0]</text>\n</g>\n<!-- 11&#45;&gt;13 -->\n<g id=\"edge13\" class=\"edge\">\n<title>11&#45;&gt;13</title>\n<path fill=\"none\" stroke=\"#000000\" d=\"M176.9469,-296.9465C177.8716,-286.2621 178.8959,-274.4254 179.8349,-263.5742\"/>\n<polygon fill=\"#000000\" stroke=\"#000000\" points=\"183.3278,-263.8067 180.7031,-253.5422 176.3539,-263.2031 183.3278,-263.8067\"/>\n</g>\n<!-- 16 -->\n<g id=\"node17\" class=\"node\">\n<title>16</title>\n<polygon fill=\"none\" stroke=\"#000000\" points=\"510,-365 386,-365 386,-297 510,-297 510,-365\"/>\n<text text-anchor=\"middle\" x=\"448\" y=\"-349.8\" font-family=\"Times,serif\" font-size=\"14.00\" fill=\"#000000\">left_weight &lt;= 3.5</text>\n<text text-anchor=\"middle\" x=\"448\" y=\"-334.8\" font-family=\"Times,serif\" font-size=\"14.00\" fill=\"#000000\">gini = 0.444</text>\n<text text-anchor=\"middle\" x=\"448\" y=\"-319.8\" font-family=\"Times,serif\" font-size=\"14.00\" fill=\"#000000\">samples = 3</text>\n<text text-anchor=\"middle\" x=\"448\" y=\"-304.8\" font-family=\"Times,serif\" font-size=\"14.00\" fill=\"#000000\">value = [1, 0, 2]</text>\n</g>\n<!-- 15&#45;&gt;16 -->\n<g id=\"edge16\" class=\"edge\">\n<title>15&#45;&gt;16</title>\n<path fill=\"none\" stroke=\"#000000\" d=\"M499.7873,-400.9465C493.2727,-392.1475 486.1795,-382.5672 479.3918,-373.3993\"/>\n<polygon fill=\"#000000\" stroke=\"#000000\" points=\"482.0327,-371.0843 473.2693,-365.13 476.4069,-375.2496 482.0327,-371.0843\"/>\n</g>\n<!-- 19 -->\n<g id=\"node20\" class=\"node\">\n<title>19</title>\n<polygon fill=\"none\" stroke=\"#000000\" points=\"652,-365 528,-365 528,-297 652,-297 652,-365\"/>\n<text text-anchor=\"middle\" x=\"590\" y=\"-349.8\" font-family=\"Times,serif\" font-size=\"14.00\" fill=\"#000000\">left_weight &lt;= 2.5</text>\n<text text-anchor=\"middle\" x=\"590\" y=\"-334.8\" font-family=\"Times,serif\" font-size=\"14.00\" fill=\"#000000\">gini = 0.5</text>\n<text text-anchor=\"middle\" x=\"590\" y=\"-319.8\" font-family=\"Times,serif\" font-size=\"14.00\" fill=\"#000000\">samples = 2</text>\n<text text-anchor=\"middle\" x=\"590\" y=\"-304.8\" font-family=\"Times,serif\" font-size=\"14.00\" fill=\"#000000\">value = [1, 1, 0]</text>\n</g>\n<!-- 15&#45;&gt;19 -->\n<g id=\"edge19\" class=\"edge\">\n<title>15&#45;&gt;19</title>\n<path fill=\"none\" stroke=\"#000000\" d=\"M546.2834,-400.9465C551.7267,-392.2373 557.6484,-382.7626 563.325,-373.6801\"/>\n<polygon fill=\"#000000\" stroke=\"#000000\" points=\"566.3367,-375.465 568.6688,-365.13 560.4007,-371.755 566.3367,-375.465\"/>\n</g>\n<!-- 17 -->\n<g id=\"node18\" class=\"node\">\n<title>17</title>\n<polygon fill=\"none\" stroke=\"#000000\" points=\"375,-253.5 265,-253.5 265,-200.5 375,-200.5 375,-253.5\"/>\n<text text-anchor=\"middle\" x=\"320\" y=\"-238.3\" font-family=\"Times,serif\" font-size=\"14.00\" fill=\"#000000\">gini = 0.0</text>\n<text text-anchor=\"middle\" x=\"320\" y=\"-223.3\" font-family=\"Times,serif\" font-size=\"14.00\" fill=\"#000000\">samples = 2</text>\n<text text-anchor=\"middle\" x=\"320\" y=\"-208.3\" font-family=\"Times,serif\" font-size=\"14.00\" fill=\"#000000\">value = [0, 0, 2]</text>\n</g>\n<!-- 16&#45;&gt;17 -->\n<g id=\"edge17\" class=\"edge\">\n<title>16&#45;&gt;17</title>\n<path fill=\"none\" stroke=\"#000000\" d=\"M406.088,-296.9465C391.4467,-285.0504 375.0474,-271.726 360.5215,-259.9237\"/>\n<polygon fill=\"#000000\" stroke=\"#000000\" points=\"362.6355,-257.1317 352.6673,-253.5422 358.2214,-262.5645 362.6355,-257.1317\"/>\n</g>\n<!-- 18 -->\n<g id=\"node19\" class=\"node\">\n<title>18</title>\n<polygon fill=\"none\" stroke=\"#000000\" points=\"503,-253.5 393,-253.5 393,-200.5 503,-200.5 503,-253.5\"/>\n<text text-anchor=\"middle\" x=\"448\" y=\"-238.3\" font-family=\"Times,serif\" font-size=\"14.00\" fill=\"#000000\">gini = 0.0</text>\n<text text-anchor=\"middle\" x=\"448\" y=\"-223.3\" font-family=\"Times,serif\" font-size=\"14.00\" fill=\"#000000\">samples = 1</text>\n<text text-anchor=\"middle\" x=\"448\" y=\"-208.3\" font-family=\"Times,serif\" font-size=\"14.00\" fill=\"#000000\">value = [1, 0, 0]</text>\n</g>\n<!-- 16&#45;&gt;18 -->\n<g id=\"edge18\" class=\"edge\">\n<title>16&#45;&gt;18</title>\n<path fill=\"none\" stroke=\"#000000\" d=\"M448,-296.9465C448,-286.2621 448,-274.4254 448,-263.5742\"/>\n<polygon fill=\"#000000\" stroke=\"#000000\" points=\"451.5001,-263.5421 448,-253.5422 444.5001,-263.5422 451.5001,-263.5421\"/>\n</g>\n<!-- 20 -->\n<g id=\"node21\" class=\"node\">\n<title>20</title>\n<polygon fill=\"none\" stroke=\"#000000\" points=\"631,-253.5 521,-253.5 521,-200.5 631,-200.5 631,-253.5\"/>\n<text text-anchor=\"middle\" x=\"576\" y=\"-238.3\" font-family=\"Times,serif\" font-size=\"14.00\" fill=\"#000000\">gini = 0.0</text>\n<text text-anchor=\"middle\" x=\"576\" y=\"-223.3\" font-family=\"Times,serif\" font-size=\"14.00\" fill=\"#000000\">samples = 1</text>\n<text text-anchor=\"middle\" x=\"576\" y=\"-208.3\" font-family=\"Times,serif\" font-size=\"14.00\" fill=\"#000000\">value = [1, 0, 0]</text>\n</g>\n<!-- 19&#45;&gt;20 -->\n<g id=\"edge20\" class=\"edge\">\n<title>19&#45;&gt;20</title>\n<path fill=\"none\" stroke=\"#000000\" d=\"M585.4159,-296.9465C583.9776,-286.2621 582.3842,-274.4254 580.9235,-263.5742\"/>\n<polygon fill=\"#000000\" stroke=\"#000000\" points=\"584.3759,-262.9858 579.573,-253.5422 577.4385,-263.9197 584.3759,-262.9858\"/>\n</g>\n<!-- 21 -->\n<g id=\"node22\" class=\"node\">\n<title>21</title>\n<polygon fill=\"none\" stroke=\"#000000\" points=\"759,-253.5 649,-253.5 649,-200.5 759,-200.5 759,-253.5\"/>\n<text text-anchor=\"middle\" x=\"704\" y=\"-238.3\" font-family=\"Times,serif\" font-size=\"14.00\" fill=\"#000000\">gini = 0.0</text>\n<text text-anchor=\"middle\" x=\"704\" y=\"-223.3\" font-family=\"Times,serif\" font-size=\"14.00\" fill=\"#000000\">samples = 1</text>\n<text text-anchor=\"middle\" x=\"704\" y=\"-208.3\" font-family=\"Times,serif\" font-size=\"14.00\" fill=\"#000000\">value = [0, 1, 0]</text>\n</g>\n<!-- 19&#45;&gt;21 -->\n<g id=\"edge21\" class=\"edge\">\n<title>19&#45;&gt;21</title>\n<path fill=\"none\" stroke=\"#000000\" d=\"M627.3279,-296.9465C640.1263,-285.2707 654.433,-272.219 667.1901,-260.5809\"/>\n<polygon fill=\"#000000\" stroke=\"#000000\" points=\"669.8769,-262.8675 674.9057,-253.5422 665.1591,-257.6961 669.8769,-262.8675\"/>\n</g>\n<!-- 23 -->\n<g id=\"node24\" class=\"node\">\n<title>23</title>\n<polygon fill=\"none\" stroke=\"#000000\" points=\"1220,-677 1096,-677 1096,-609 1220,-609 1220,-677\"/>\n<text text-anchor=\"middle\" x=\"1158\" y=\"-661.8\" font-family=\"Times,serif\" font-size=\"14.00\" fill=\"#000000\">left_weight &lt;= 1.5</text>\n<text text-anchor=\"middle\" x=\"1158\" y=\"-646.8\" font-family=\"Times,serif\" font-size=\"14.00\" fill=\"#000000\">gini = 0.244</text>\n<text text-anchor=\"middle\" x=\"1158\" y=\"-631.8\" font-family=\"Times,serif\" font-size=\"14.00\" fill=\"#000000\">samples = 22</text>\n<text text-anchor=\"middle\" x=\"1158\" y=\"-616.8\" font-family=\"Times,serif\" font-size=\"14.00\" fill=\"#000000\">value = [1, 2, 19]</text>\n</g>\n<!-- 22&#45;&gt;23 -->\n<g id=\"edge23\" class=\"edge\">\n<title>22&#45;&gt;23</title>\n<path fill=\"none\" stroke=\"#000000\" d=\"M1253.5039,-712.9465C1240.5092,-703.4293 1226.2663,-692.9978 1212.8379,-683.163\"/>\n<polygon fill=\"#000000\" stroke=\"#000000\" points=\"1214.7363,-680.2151 1204.6006,-677.13 1210.6002,-685.8624 1214.7363,-680.2151\"/>\n</g>\n<!-- 38 -->\n<g id=\"node39\" class=\"node\">\n<title>38</title>\n<polygon fill=\"none\" stroke=\"#000000\" points=\"1472.5,-677 1341.5,-677 1341.5,-609 1472.5,-609 1472.5,-677\"/>\n<text text-anchor=\"middle\" x=\"1407\" y=\"-661.8\" font-family=\"Times,serif\" font-size=\"14.00\" fill=\"#000000\">left_distance &lt;= 1.5</text>\n<text text-anchor=\"middle\" x=\"1407\" y=\"-646.8\" font-family=\"Times,serif\" font-size=\"14.00\" fill=\"#000000\">gini = 0.622</text>\n<text text-anchor=\"middle\" x=\"1407\" y=\"-631.8\" font-family=\"Times,serif\" font-size=\"14.00\" fill=\"#000000\">samples = 14</text>\n<text text-anchor=\"middle\" x=\"1407\" y=\"-616.8\" font-family=\"Times,serif\" font-size=\"14.00\" fill=\"#000000\">value = [3, 7, 4]</text>\n</g>\n<!-- 22&#45;&gt;38 -->\n<g id=\"edge38\" class=\"edge\">\n<title>22&#45;&gt;38</title>\n<path fill=\"none\" stroke=\"#000000\" d=\"M1335.0358,-712.9465C1344.4581,-703.7884 1354.7513,-693.7838 1364.5304,-684.2788\"/>\n<polygon fill=\"#000000\" stroke=\"#000000\" points=\"1367.154,-686.6097 1371.8855,-677.13 1362.2751,-681.59 1367.154,-686.6097\"/>\n</g>\n<!-- 24 -->\n<g id=\"node25\" class=\"node\">\n<title>24</title>\n<polygon fill=\"none\" stroke=\"#000000\" points=\"1073.5,-565.5 956.5,-565.5 956.5,-512.5 1073.5,-512.5 1073.5,-565.5\"/>\n<text text-anchor=\"middle\" x=\"1015\" y=\"-550.3\" font-family=\"Times,serif\" font-size=\"14.00\" fill=\"#000000\">gini = 0.0</text>\n<text text-anchor=\"middle\" x=\"1015\" y=\"-535.3\" font-family=\"Times,serif\" font-size=\"14.00\" fill=\"#000000\">samples = 10</text>\n<text text-anchor=\"middle\" x=\"1015\" y=\"-520.3\" font-family=\"Times,serif\" font-size=\"14.00\" fill=\"#000000\">value = [0, 0, 10]</text>\n</g>\n<!-- 23&#45;&gt;24 -->\n<g id=\"edge24\" class=\"edge\">\n<title>23&#45;&gt;24</title>\n<path fill=\"none\" stroke=\"#000000\" d=\"M1111.1765,-608.9465C1094.6679,-596.9403 1076.1588,-583.4791 1059.8198,-571.5962\"/>\n<polygon fill=\"#000000\" stroke=\"#000000\" points=\"1061.6415,-568.5933 1051.4955,-565.5422 1057.5242,-574.2545 1061.6415,-568.5933\"/>\n</g>\n<!-- 25 -->\n<g id=\"node26\" class=\"node\">\n<title>25</title>\n<polygon fill=\"none\" stroke=\"#000000\" points=\"1224.5,-573 1091.5,-573 1091.5,-505 1224.5,-505 1224.5,-573\"/>\n<text text-anchor=\"middle\" x=\"1158\" y=\"-557.8\" font-family=\"Times,serif\" font-size=\"14.00\" fill=\"#000000\">right_weight &lt;= 3.5</text>\n<text text-anchor=\"middle\" x=\"1158\" y=\"-542.8\" font-family=\"Times,serif\" font-size=\"14.00\" fill=\"#000000\">gini = 0.403</text>\n<text text-anchor=\"middle\" x=\"1158\" y=\"-527.8\" font-family=\"Times,serif\" font-size=\"14.00\" fill=\"#000000\">samples = 12</text>\n<text text-anchor=\"middle\" x=\"1158\" y=\"-512.8\" font-family=\"Times,serif\" font-size=\"14.00\" fill=\"#000000\">value = [1, 2, 9]</text>\n</g>\n<!-- 23&#45;&gt;25 -->\n<g id=\"edge25\" class=\"edge\">\n<title>23&#45;&gt;25</title>\n<path fill=\"none\" stroke=\"#000000\" d=\"M1158,-608.9465C1158,-600.776 1158,-591.9318 1158,-583.3697\"/>\n<polygon fill=\"#000000\" stroke=\"#000000\" points=\"1161.5001,-583.13 1158,-573.13 1154.5001,-583.13 1161.5001,-583.13\"/>\n</g>\n<!-- 26 -->\n<g id=\"node27\" class=\"node\">\n<title>26</title>\n<polygon fill=\"none\" stroke=\"#000000\" points=\"1033,-469 909,-469 909,-401 1033,-401 1033,-469\"/>\n<text text-anchor=\"middle\" x=\"971\" y=\"-453.8\" font-family=\"Times,serif\" font-size=\"14.00\" fill=\"#000000\">left_weight &lt;= 2.5</text>\n<text text-anchor=\"middle\" x=\"971\" y=\"-438.8\" font-family=\"Times,serif\" font-size=\"14.00\" fill=\"#000000\">gini = 0.667</text>\n<text text-anchor=\"middle\" x=\"971\" y=\"-423.8\" font-family=\"Times,serif\" font-size=\"14.00\" fill=\"#000000\">samples = 3</text>\n<text text-anchor=\"middle\" x=\"971\" y=\"-408.8\" font-family=\"Times,serif\" font-size=\"14.00\" fill=\"#000000\">value = [1, 1, 1]</text>\n</g>\n<!-- 25&#45;&gt;26 -->\n<g id=\"edge26\" class=\"edge\">\n<title>25&#45;&gt;26</title>\n<path fill=\"none\" stroke=\"#000000\" d=\"M1096.7692,-504.9465C1079.0107,-495.0701 1059.482,-484.2093 1041.2189,-474.0522\"/>\n<polygon fill=\"#000000\" stroke=\"#000000\" points=\"1042.8089,-470.9317 1032.3684,-469.13 1039.4066,-477.0492 1042.8089,-470.9317\"/>\n</g>\n<!-- 31 -->\n<g id=\"node32\" class=\"node\">\n<title>31</title>\n<polygon fill=\"none\" stroke=\"#000000\" points=\"1228,-469 1088,-469 1088,-401 1228,-401 1228,-469\"/>\n<text text-anchor=\"middle\" x=\"1158\" y=\"-453.8\" font-family=\"Times,serif\" font-size=\"14.00\" fill=\"#000000\">right_distance &lt;= 1.5</text>\n<text text-anchor=\"middle\" x=\"1158\" y=\"-438.8\" font-family=\"Times,serif\" font-size=\"14.00\" fill=\"#000000\">gini = 0.198</text>\n<text text-anchor=\"middle\" x=\"1158\" y=\"-423.8\" font-family=\"Times,serif\" font-size=\"14.00\" fill=\"#000000\">samples = 9</text>\n<text text-anchor=\"middle\" x=\"1158\" y=\"-408.8\" font-family=\"Times,serif\" font-size=\"14.00\" fill=\"#000000\">value = [0, 1, 8]</text>\n</g>\n<!-- 25&#45;&gt;31 -->\n<g id=\"edge31\" class=\"edge\">\n<title>25&#45;&gt;31</title>\n<path fill=\"none\" stroke=\"#000000\" d=\"M1158,-504.9465C1158,-496.776 1158,-487.9318 1158,-479.3697\"/>\n<polygon fill=\"#000000\" stroke=\"#000000\" points=\"1161.5001,-479.13 1158,-469.13 1154.5001,-479.13 1161.5001,-479.13\"/>\n</g>\n<!-- 27 -->\n<g id=\"node28\" class=\"node\">\n<title>27</title>\n<polygon fill=\"none\" stroke=\"#000000\" points=\"897.5,-365 766.5,-365 766.5,-297 897.5,-297 897.5,-365\"/>\n<text text-anchor=\"middle\" x=\"832\" y=\"-349.8\" font-family=\"Times,serif\" font-size=\"14.00\" fill=\"#000000\">left_distance &lt;= 1.5</text>\n<text text-anchor=\"middle\" x=\"832\" y=\"-334.8\" font-family=\"Times,serif\" font-size=\"14.00\" fill=\"#000000\">gini = 0.5</text>\n<text text-anchor=\"middle\" x=\"832\" y=\"-319.8\" font-family=\"Times,serif\" font-size=\"14.00\" fill=\"#000000\">samples = 2</text>\n<text text-anchor=\"middle\" x=\"832\" y=\"-304.8\" font-family=\"Times,serif\" font-size=\"14.00\" fill=\"#000000\">value = [0, 1, 1]</text>\n</g>\n<!-- 26&#45;&gt;27 -->\n<g id=\"edge27\" class=\"edge\">\n<title>26&#45;&gt;27</title>\n<path fill=\"none\" stroke=\"#000000\" d=\"M925.4862,-400.9465C912.766,-391.4293 898.824,-380.9978 885.6794,-371.163\"/>\n<polygon fill=\"#000000\" stroke=\"#000000\" points=\"887.7198,-368.3184 877.6161,-365.13 883.5262,-373.9232 887.7198,-368.3184\"/>\n</g>\n<!-- 30 -->\n<g id=\"node31\" class=\"node\">\n<title>30</title>\n<polygon fill=\"none\" stroke=\"#000000\" points=\"1026,-357.5 916,-357.5 916,-304.5 1026,-304.5 1026,-357.5\"/>\n<text text-anchor=\"middle\" x=\"971\" y=\"-342.3\" font-family=\"Times,serif\" font-size=\"14.00\" fill=\"#000000\">gini = 0.0</text>\n<text text-anchor=\"middle\" x=\"971\" y=\"-327.3\" font-family=\"Times,serif\" font-size=\"14.00\" fill=\"#000000\">samples = 1</text>\n<text text-anchor=\"middle\" x=\"971\" y=\"-312.3\" font-family=\"Times,serif\" font-size=\"14.00\" fill=\"#000000\">value = [1, 0, 0]</text>\n</g>\n<!-- 26&#45;&gt;30 -->\n<g id=\"edge30\" class=\"edge\">\n<title>26&#45;&gt;30</title>\n<path fill=\"none\" stroke=\"#000000\" d=\"M971,-400.9465C971,-390.2621 971,-378.4254 971,-367.5742\"/>\n<polygon fill=\"#000000\" stroke=\"#000000\" points=\"974.5001,-367.5421 971,-357.5422 967.5001,-367.5422 974.5001,-367.5421\"/>\n</g>\n<!-- 28 -->\n<g id=\"node29\" class=\"node\">\n<title>28</title>\n<polygon fill=\"none\" stroke=\"#000000\" points=\"887,-253.5 777,-253.5 777,-200.5 887,-200.5 887,-253.5\"/>\n<text text-anchor=\"middle\" x=\"832\" y=\"-238.3\" font-family=\"Times,serif\" font-size=\"14.00\" fill=\"#000000\">gini = 0.0</text>\n<text text-anchor=\"middle\" x=\"832\" y=\"-223.3\" font-family=\"Times,serif\" font-size=\"14.00\" fill=\"#000000\">samples = 1</text>\n<text text-anchor=\"middle\" x=\"832\" y=\"-208.3\" font-family=\"Times,serif\" font-size=\"14.00\" fill=\"#000000\">value = [0, 0, 1]</text>\n</g>\n<!-- 27&#45;&gt;28 -->\n<g id=\"edge28\" class=\"edge\">\n<title>27&#45;&gt;28</title>\n<path fill=\"none\" stroke=\"#000000\" d=\"M832,-296.9465C832,-286.2621 832,-274.4254 832,-263.5742\"/>\n<polygon fill=\"#000000\" stroke=\"#000000\" points=\"835.5001,-263.5421 832,-253.5422 828.5001,-263.5422 835.5001,-263.5421\"/>\n</g>\n<!-- 29 -->\n<g id=\"node30\" class=\"node\">\n<title>29</title>\n<polygon fill=\"none\" stroke=\"#000000\" points=\"1015,-253.5 905,-253.5 905,-200.5 1015,-200.5 1015,-253.5\"/>\n<text text-anchor=\"middle\" x=\"960\" y=\"-238.3\" font-family=\"Times,serif\" font-size=\"14.00\" fill=\"#000000\">gini = 0.0</text>\n<text text-anchor=\"middle\" x=\"960\" y=\"-223.3\" font-family=\"Times,serif\" font-size=\"14.00\" fill=\"#000000\">samples = 1</text>\n<text text-anchor=\"middle\" x=\"960\" y=\"-208.3\" font-family=\"Times,serif\" font-size=\"14.00\" fill=\"#000000\">value = [0, 1, 0]</text>\n</g>\n<!-- 27&#45;&gt;29 -->\n<g id=\"edge29\" class=\"edge\">\n<title>27&#45;&gt;29</title>\n<path fill=\"none\" stroke=\"#000000\" d=\"M873.912,-296.9465C888.5533,-285.0504 904.9526,-271.726 919.4785,-259.9237\"/>\n<polygon fill=\"#000000\" stroke=\"#000000\" points=\"921.7786,-262.5645 927.3327,-253.5422 917.3645,-257.1317 921.7786,-262.5645\"/>\n</g>\n<!-- 32 -->\n<g id=\"node33\" class=\"node\">\n<title>32</title>\n<polygon fill=\"none\" stroke=\"#000000\" points=\"1168,-365 1044,-365 1044,-297 1168,-297 1168,-365\"/>\n<text text-anchor=\"middle\" x=\"1106\" y=\"-349.8\" font-family=\"Times,serif\" font-size=\"14.00\" fill=\"#000000\">left_weight &lt;= 2.5</text>\n<text text-anchor=\"middle\" x=\"1106\" y=\"-334.8\" font-family=\"Times,serif\" font-size=\"14.00\" fill=\"#000000\">gini = 0.375</text>\n<text text-anchor=\"middle\" x=\"1106\" y=\"-319.8\" font-family=\"Times,serif\" font-size=\"14.00\" fill=\"#000000\">samples = 4</text>\n<text text-anchor=\"middle\" x=\"1106\" y=\"-304.8\" font-family=\"Times,serif\" font-size=\"14.00\" fill=\"#000000\">value = [0, 1, 3]</text>\n</g>\n<!-- 31&#45;&gt;32 -->\n<g id=\"edge32\" class=\"edge\">\n<title>31&#45;&gt;32</title>\n<path fill=\"none\" stroke=\"#000000\" d=\"M1140.9733,-400.9465C1136.7085,-392.4169 1132.0765,-383.153 1127.6212,-374.2424\"/>\n<polygon fill=\"#000000\" stroke=\"#000000\" points=\"1130.6677,-372.509 1123.065,-365.13 1124.4067,-375.6395 1130.6677,-372.509\"/>\n</g>\n<!-- 37 -->\n<g id=\"node38\" class=\"node\">\n<title>37</title>\n<polygon fill=\"none\" stroke=\"#000000\" points=\"1296,-357.5 1186,-357.5 1186,-304.5 1296,-304.5 1296,-357.5\"/>\n<text text-anchor=\"middle\" x=\"1241\" y=\"-342.3\" font-family=\"Times,serif\" font-size=\"14.00\" fill=\"#000000\">gini = 0.0</text>\n<text text-anchor=\"middle\" x=\"1241\" y=\"-327.3\" font-family=\"Times,serif\" font-size=\"14.00\" fill=\"#000000\">samples = 5</text>\n<text text-anchor=\"middle\" x=\"1241\" y=\"-312.3\" font-family=\"Times,serif\" font-size=\"14.00\" fill=\"#000000\">value = [0, 0, 5]</text>\n</g>\n<!-- 31&#45;&gt;37 -->\n<g id=\"edge37\" class=\"edge\">\n<title>31&#45;&gt;37</title>\n<path fill=\"none\" stroke=\"#000000\" d=\"M1185.1773,-400.9465C1194.2318,-389.6012 1204.323,-376.9567 1213.4086,-365.5724\"/>\n<polygon fill=\"#000000\" stroke=\"#000000\" points=\"1216.3151,-367.5414 1219.8173,-357.5422 1210.8439,-363.175 1216.3151,-367.5414\"/>\n</g>\n<!-- 33 -->\n<g id=\"node34\" class=\"node\">\n<title>33</title>\n<polygon fill=\"none\" stroke=\"#000000\" points=\"1152,-253.5 1042,-253.5 1042,-200.5 1152,-200.5 1152,-253.5\"/>\n<text text-anchor=\"middle\" x=\"1097\" y=\"-238.3\" font-family=\"Times,serif\" font-size=\"14.00\" fill=\"#000000\">gini = 0.0</text>\n<text text-anchor=\"middle\" x=\"1097\" y=\"-223.3\" font-family=\"Times,serif\" font-size=\"14.00\" fill=\"#000000\">samples = 2</text>\n<text text-anchor=\"middle\" x=\"1097\" y=\"-208.3\" font-family=\"Times,serif\" font-size=\"14.00\" fill=\"#000000\">value = [0, 0, 2]</text>\n</g>\n<!-- 32&#45;&gt;33 -->\n<g id=\"edge33\" class=\"edge\">\n<title>32&#45;&gt;33</title>\n<path fill=\"none\" stroke=\"#000000\" d=\"M1103.0531,-296.9465C1102.1284,-286.2621 1101.1041,-274.4254 1100.1651,-263.5742\"/>\n<polygon fill=\"#000000\" stroke=\"#000000\" points=\"1103.6461,-263.2031 1099.2969,-253.5422 1096.6722,-263.8067 1103.6461,-263.2031\"/>\n</g>\n<!-- 34 -->\n<g id=\"node35\" class=\"node\">\n<title>34</title>\n<polygon fill=\"none\" stroke=\"#000000\" points=\"1301.5,-261 1170.5,-261 1170.5,-193 1301.5,-193 1301.5,-261\"/>\n<text text-anchor=\"middle\" x=\"1236\" y=\"-245.8\" font-family=\"Times,serif\" font-size=\"14.00\" fill=\"#000000\">left_distance &lt;= 1.5</text>\n<text text-anchor=\"middle\" x=\"1236\" y=\"-230.8\" font-family=\"Times,serif\" font-size=\"14.00\" fill=\"#000000\">gini = 0.5</text>\n<text text-anchor=\"middle\" x=\"1236\" y=\"-215.8\" font-family=\"Times,serif\" font-size=\"14.00\" fill=\"#000000\">samples = 2</text>\n<text text-anchor=\"middle\" x=\"1236\" y=\"-200.8\" font-family=\"Times,serif\" font-size=\"14.00\" fill=\"#000000\">value = [0, 1, 1]</text>\n</g>\n<!-- 32&#45;&gt;34 -->\n<g id=\"edge34\" class=\"edge\">\n<title>32&#45;&gt;34</title>\n<path fill=\"none\" stroke=\"#000000\" d=\"M1148.5669,-296.9465C1160.3512,-287.519 1173.2568,-277.1946 1185.4481,-267.4415\"/>\n<polygon fill=\"#000000\" stroke=\"#000000\" points=\"1187.7152,-270.11 1193.3375,-261.13 1183.3423,-264.6439 1187.7152,-270.11\"/>\n</g>\n<!-- 35 -->\n<g id=\"node36\" class=\"node\">\n<title>35</title>\n<polygon fill=\"none\" stroke=\"#000000\" points=\"1227,-149.5 1117,-149.5 1117,-96.5 1227,-96.5 1227,-149.5\"/>\n<text text-anchor=\"middle\" x=\"1172\" y=\"-134.3\" font-family=\"Times,serif\" font-size=\"14.00\" fill=\"#000000\">gini = 0.0</text>\n<text text-anchor=\"middle\" x=\"1172\" y=\"-119.3\" font-family=\"Times,serif\" font-size=\"14.00\" fill=\"#000000\">samples = 1</text>\n<text text-anchor=\"middle\" x=\"1172\" y=\"-104.3\" font-family=\"Times,serif\" font-size=\"14.00\" fill=\"#000000\">value = [0, 0, 1]</text>\n</g>\n<!-- 34&#45;&gt;35 -->\n<g id=\"edge35\" class=\"edge\">\n<title>34&#45;&gt;35</title>\n<path fill=\"none\" stroke=\"#000000\" d=\"M1215.044,-192.9465C1208.1978,-181.8215 1200.5829,-169.4473 1193.6843,-158.237\"/>\n<polygon fill=\"#000000\" stroke=\"#000000\" points=\"1196.5555,-156.2244 1188.3336,-149.5422 1190.5939,-159.8931 1196.5555,-156.2244\"/>\n</g>\n<!-- 36 -->\n<g id=\"node37\" class=\"node\">\n<title>36</title>\n<polygon fill=\"none\" stroke=\"#000000\" points=\"1355,-149.5 1245,-149.5 1245,-96.5 1355,-96.5 1355,-149.5\"/>\n<text text-anchor=\"middle\" x=\"1300\" y=\"-134.3\" font-family=\"Times,serif\" font-size=\"14.00\" fill=\"#000000\">gini = 0.0</text>\n<text text-anchor=\"middle\" x=\"1300\" y=\"-119.3\" font-family=\"Times,serif\" font-size=\"14.00\" fill=\"#000000\">samples = 1</text>\n<text text-anchor=\"middle\" x=\"1300\" y=\"-104.3\" font-family=\"Times,serif\" font-size=\"14.00\" fill=\"#000000\">value = [0, 1, 0]</text>\n</g>\n<!-- 34&#45;&gt;36 -->\n<g id=\"edge36\" class=\"edge\">\n<title>34&#45;&gt;36</title>\n<path fill=\"none\" stroke=\"#000000\" d=\"M1256.956,-192.9465C1263.8022,-181.8215 1271.4171,-169.4473 1278.3157,-158.237\"/>\n<polygon fill=\"#000000\" stroke=\"#000000\" points=\"1281.4061,-159.8931 1283.6664,-149.5422 1275.4445,-156.2244 1281.4061,-159.8931\"/>\n</g>\n<!-- 39 -->\n<g id=\"node40\" class=\"node\">\n<title>39</title>\n<polygon fill=\"none\" stroke=\"#000000\" points=\"1477,-573 1337,-573 1337,-505 1477,-505 1477,-573\"/>\n<text text-anchor=\"middle\" x=\"1407\" y=\"-557.8\" font-family=\"Times,serif\" font-size=\"14.00\" fill=\"#000000\">right_distance &lt;= 1.5</text>\n<text text-anchor=\"middle\" x=\"1407\" y=\"-542.8\" font-family=\"Times,serif\" font-size=\"14.00\" fill=\"#000000\">gini = 0.625</text>\n<text text-anchor=\"middle\" x=\"1407\" y=\"-527.8\" font-family=\"Times,serif\" font-size=\"14.00\" fill=\"#000000\">samples = 8</text>\n<text text-anchor=\"middle\" x=\"1407\" y=\"-512.8\" font-family=\"Times,serif\" font-size=\"14.00\" fill=\"#000000\">value = [2, 2, 4]</text>\n</g>\n<!-- 38&#45;&gt;39 -->\n<g id=\"edge39\" class=\"edge\">\n<title>38&#45;&gt;39</title>\n<path fill=\"none\" stroke=\"#000000\" d=\"M1407,-608.9465C1407,-600.776 1407,-591.9318 1407,-583.3697\"/>\n<polygon fill=\"#000000\" stroke=\"#000000\" points=\"1410.5001,-583.13 1407,-573.13 1403.5001,-583.13 1410.5001,-583.13\"/>\n</g>\n<!-- 44 -->\n<g id=\"node45\" class=\"node\">\n<title>44</title>\n<polygon fill=\"none\" stroke=\"#000000\" points=\"1690,-573 1550,-573 1550,-505 1690,-505 1690,-573\"/>\n<text text-anchor=\"middle\" x=\"1620\" y=\"-557.8\" font-family=\"Times,serif\" font-size=\"14.00\" fill=\"#000000\">right_distance &lt;= 1.5</text>\n<text text-anchor=\"middle\" x=\"1620\" y=\"-542.8\" font-family=\"Times,serif\" font-size=\"14.00\" fill=\"#000000\">gini = 0.278</text>\n<text text-anchor=\"middle\" x=\"1620\" y=\"-527.8\" font-family=\"Times,serif\" font-size=\"14.00\" fill=\"#000000\">samples = 6</text>\n<text text-anchor=\"middle\" x=\"1620\" y=\"-512.8\" font-family=\"Times,serif\" font-size=\"14.00\" fill=\"#000000\">value = [1, 5, 0]</text>\n</g>\n<!-- 38&#45;&gt;44 -->\n<g id=\"edge44\" class=\"edge\">\n<title>38&#45;&gt;44</title>\n<path fill=\"none\" stroke=\"#000000\" d=\"M1472.645,-610.948C1494.2391,-600.4044 1518.4745,-588.5711 1540.9577,-577.5934\"/>\n<polygon fill=\"#000000\" stroke=\"#000000\" points=\"1542.6891,-580.643 1550.1395,-573.1103 1539.6177,-574.3528 1542.6891,-580.643\"/>\n</g>\n<!-- 40 -->\n<g id=\"node41\" class=\"node\">\n<title>40</title>\n<polygon fill=\"none\" stroke=\"#000000\" points=\"1418.5,-469 1285.5,-469 1285.5,-401 1418.5,-401 1418.5,-469\"/>\n<text text-anchor=\"middle\" x=\"1352\" y=\"-453.8\" font-family=\"Times,serif\" font-size=\"14.00\" fill=\"#000000\">right_weight &lt;= 3.5</text>\n<text text-anchor=\"middle\" x=\"1352\" y=\"-438.8\" font-family=\"Times,serif\" font-size=\"14.00\" fill=\"#000000\">gini = 0.5</text>\n<text text-anchor=\"middle\" x=\"1352\" y=\"-423.8\" font-family=\"Times,serif\" font-size=\"14.00\" fill=\"#000000\">samples = 4</text>\n<text text-anchor=\"middle\" x=\"1352\" y=\"-408.8\" font-family=\"Times,serif\" font-size=\"14.00\" fill=\"#000000\">value = [2, 2, 0]</text>\n</g>\n<!-- 39&#45;&gt;40 -->\n<g id=\"edge40\" class=\"edge\">\n<title>39&#45;&gt;40</title>\n<path fill=\"none\" stroke=\"#000000\" d=\"M1388.9909,-504.9465C1384.4801,-496.4169 1379.5809,-487.153 1374.8686,-478.2424\"/>\n<polygon fill=\"#000000\" stroke=\"#000000\" points=\"1377.8185,-476.3337 1370.0495,-469.13 1371.6306,-479.6062 1377.8185,-476.3337\"/>\n</g>\n<!-- 43 -->\n<g id=\"node44\" class=\"node\">\n<title>43</title>\n<polygon fill=\"none\" stroke=\"#000000\" points=\"1547,-461.5 1437,-461.5 1437,-408.5 1547,-408.5 1547,-461.5\"/>\n<text text-anchor=\"middle\" x=\"1492\" y=\"-446.3\" font-family=\"Times,serif\" font-size=\"14.00\" fill=\"#000000\">gini = 0.0</text>\n<text text-anchor=\"middle\" x=\"1492\" y=\"-431.3\" font-family=\"Times,serif\" font-size=\"14.00\" fill=\"#000000\">samples = 4</text>\n<text text-anchor=\"middle\" x=\"1492\" y=\"-416.3\" font-family=\"Times,serif\" font-size=\"14.00\" fill=\"#000000\">value = [0, 0, 4]</text>\n</g>\n<!-- 39&#45;&gt;43 -->\n<g id=\"edge43\" class=\"edge\">\n<title>39&#45;&gt;43</title>\n<path fill=\"none\" stroke=\"#000000\" d=\"M1434.8322,-504.9465C1444.1048,-493.6012 1454.4392,-480.9567 1463.7437,-469.5724\"/>\n<polygon fill=\"#000000\" stroke=\"#000000\" points=\"1466.6885,-471.5 1470.3069,-461.5422 1461.2685,-467.0701 1466.6885,-471.5\"/>\n</g>\n<!-- 41 -->\n<g id=\"node42\" class=\"node\">\n<title>41</title>\n<polygon fill=\"none\" stroke=\"#000000\" points=\"1424,-357.5 1314,-357.5 1314,-304.5 1424,-304.5 1424,-357.5\"/>\n<text text-anchor=\"middle\" x=\"1369\" y=\"-342.3\" font-family=\"Times,serif\" font-size=\"14.00\" fill=\"#000000\">gini = 0.0</text>\n<text text-anchor=\"middle\" x=\"1369\" y=\"-327.3\" font-family=\"Times,serif\" font-size=\"14.00\" fill=\"#000000\">samples = 2</text>\n<text text-anchor=\"middle\" x=\"1369\" y=\"-312.3\" font-family=\"Times,serif\" font-size=\"14.00\" fill=\"#000000\">value = [0, 2, 0]</text>\n</g>\n<!-- 40&#45;&gt;41 -->\n<g id=\"edge41\" class=\"edge\">\n<title>40&#45;&gt;41</title>\n<path fill=\"none\" stroke=\"#000000\" d=\"M1357.5664,-400.9465C1359.3129,-390.2621 1361.2478,-378.4254 1363.0215,-367.5742\"/>\n<polygon fill=\"#000000\" stroke=\"#000000\" points=\"1366.5022,-367.9758 1364.6614,-357.5422 1359.5939,-366.8465 1366.5022,-367.9758\"/>\n</g>\n<!-- 42 -->\n<g id=\"node43\" class=\"node\">\n<title>42</title>\n<polygon fill=\"none\" stroke=\"#000000\" points=\"1552,-357.5 1442,-357.5 1442,-304.5 1552,-304.5 1552,-357.5\"/>\n<text text-anchor=\"middle\" x=\"1497\" y=\"-342.3\" font-family=\"Times,serif\" font-size=\"14.00\" fill=\"#000000\">gini = 0.0</text>\n<text text-anchor=\"middle\" x=\"1497\" y=\"-327.3\" font-family=\"Times,serif\" font-size=\"14.00\" fill=\"#000000\">samples = 2</text>\n<text text-anchor=\"middle\" x=\"1497\" y=\"-312.3\" font-family=\"Times,serif\" font-size=\"14.00\" fill=\"#000000\">value = [2, 0, 0]</text>\n</g>\n<!-- 40&#45;&gt;42 -->\n<g id=\"edge42\" class=\"edge\">\n<title>40&#45;&gt;42</title>\n<path fill=\"none\" stroke=\"#000000\" d=\"M1399.4784,-400.9465C1416.2179,-388.9403 1434.9858,-375.4791 1451.5533,-363.5962\"/>\n<polygon fill=\"#000000\" stroke=\"#000000\" points=\"1453.908,-366.2146 1459.9941,-357.5422 1449.8282,-360.5264 1453.908,-366.2146\"/>\n</g>\n<!-- 45 -->\n<g id=\"node46\" class=\"node\">\n<title>45</title>\n<polygon fill=\"none\" stroke=\"#000000\" points=\"1675,-461.5 1565,-461.5 1565,-408.5 1675,-408.5 1675,-461.5\"/>\n<text text-anchor=\"middle\" x=\"1620\" y=\"-446.3\" font-family=\"Times,serif\" font-size=\"14.00\" fill=\"#000000\">gini = 0.0</text>\n<text text-anchor=\"middle\" x=\"1620\" y=\"-431.3\" font-family=\"Times,serif\" font-size=\"14.00\" fill=\"#000000\">samples = 3</text>\n<text text-anchor=\"middle\" x=\"1620\" y=\"-416.3\" font-family=\"Times,serif\" font-size=\"14.00\" fill=\"#000000\">value = [0, 3, 0]</text>\n</g>\n<!-- 44&#45;&gt;45 -->\n<g id=\"edge45\" class=\"edge\">\n<title>44&#45;&gt;45</title>\n<path fill=\"none\" stroke=\"#000000\" d=\"M1620,-504.9465C1620,-494.2621 1620,-482.4254 1620,-471.5742\"/>\n<polygon fill=\"#000000\" stroke=\"#000000\" points=\"1623.5001,-471.5421 1620,-461.5422 1616.5001,-471.5422 1623.5001,-471.5421\"/>\n</g>\n<!-- 46 -->\n<g id=\"node47\" class=\"node\">\n<title>46</title>\n<polygon fill=\"none\" stroke=\"#000000\" points=\"1817,-469 1693,-469 1693,-401 1817,-401 1817,-469\"/>\n<text text-anchor=\"middle\" x=\"1755\" y=\"-453.8\" font-family=\"Times,serif\" font-size=\"14.00\" fill=\"#000000\">left_weight &lt;= 4.5</text>\n<text text-anchor=\"middle\" x=\"1755\" y=\"-438.8\" font-family=\"Times,serif\" font-size=\"14.00\" fill=\"#000000\">gini = 0.444</text>\n<text text-anchor=\"middle\" x=\"1755\" y=\"-423.8\" font-family=\"Times,serif\" font-size=\"14.00\" fill=\"#000000\">samples = 3</text>\n<text text-anchor=\"middle\" x=\"1755\" y=\"-408.8\" font-family=\"Times,serif\" font-size=\"14.00\" fill=\"#000000\">value = [1, 2, 0]</text>\n</g>\n<!-- 44&#45;&gt;46 -->\n<g id=\"edge46\" class=\"edge\">\n<title>44&#45;&gt;46</title>\n<path fill=\"none\" stroke=\"#000000\" d=\"M1664.204,-504.9465C1676.4416,-495.519 1689.8436,-485.1946 1702.5038,-475.4415\"/>\n<polygon fill=\"#000000\" stroke=\"#000000\" points=\"1704.9107,-478.0055 1710.6966,-469.13 1700.6388,-472.4601 1704.9107,-478.0055\"/>\n</g>\n<!-- 47 -->\n<g id=\"node48\" class=\"node\">\n<title>47</title>\n<polygon fill=\"none\" stroke=\"#000000\" points=\"1742.5,-365 1609.5,-365 1609.5,-297 1742.5,-297 1742.5,-365\"/>\n<text text-anchor=\"middle\" x=\"1676\" y=\"-349.8\" font-family=\"Times,serif\" font-size=\"14.00\" fill=\"#000000\">right_weight &lt;= 3.5</text>\n<text text-anchor=\"middle\" x=\"1676\" y=\"-334.8\" font-family=\"Times,serif\" font-size=\"14.00\" fill=\"#000000\">gini = 0.5</text>\n<text text-anchor=\"middle\" x=\"1676\" y=\"-319.8\" font-family=\"Times,serif\" font-size=\"14.00\" fill=\"#000000\">samples = 2</text>\n<text text-anchor=\"middle\" x=\"1676\" y=\"-304.8\" font-family=\"Times,serif\" font-size=\"14.00\" fill=\"#000000\">value = [1, 1, 0]</text>\n</g>\n<!-- 46&#45;&gt;47 -->\n<g id=\"edge47\" class=\"edge\">\n<title>46&#45;&gt;47</title>\n<path fill=\"none\" stroke=\"#000000\" d=\"M1729.1324,-400.9465C1722.3804,-392.0578 1715.0226,-382.3716 1707.9941,-373.1188\"/>\n<polygon fill=\"#000000\" stroke=\"#000000\" points=\"1710.7617,-370.976 1701.9257,-365.13 1705.1875,-375.2102 1710.7617,-370.976\"/>\n</g>\n<!-- 50 -->\n<g id=\"node51\" class=\"node\">\n<title>50</title>\n<polygon fill=\"none\" stroke=\"#000000\" points=\"1871,-357.5 1761,-357.5 1761,-304.5 1871,-304.5 1871,-357.5\"/>\n<text text-anchor=\"middle\" x=\"1816\" y=\"-342.3\" font-family=\"Times,serif\" font-size=\"14.00\" fill=\"#000000\">gini = 0.0</text>\n<text text-anchor=\"middle\" x=\"1816\" y=\"-327.3\" font-family=\"Times,serif\" font-size=\"14.00\" fill=\"#000000\">samples = 1</text>\n<text text-anchor=\"middle\" x=\"1816\" y=\"-312.3\" font-family=\"Times,serif\" font-size=\"14.00\" fill=\"#000000\">value = [0, 1, 0]</text>\n</g>\n<!-- 46&#45;&gt;50 -->\n<g id=\"edge50\" class=\"edge\">\n<title>46&#45;&gt;50</title>\n<path fill=\"none\" stroke=\"#000000\" d=\"M1774.9737,-400.9465C1781.499,-389.8215 1788.7569,-377.4473 1795.3322,-366.237\"/>\n<polygon fill=\"#000000\" stroke=\"#000000\" points=\"1798.3916,-367.9387 1800.432,-357.5422 1792.3536,-364.3971 1798.3916,-367.9387\"/>\n</g>\n<!-- 48 -->\n<g id=\"node49\" class=\"node\">\n<title>48</title>\n<polygon fill=\"none\" stroke=\"#000000\" points=\"1667,-253.5 1557,-253.5 1557,-200.5 1667,-200.5 1667,-253.5\"/>\n<text text-anchor=\"middle\" x=\"1612\" y=\"-238.3\" font-family=\"Times,serif\" font-size=\"14.00\" fill=\"#000000\">gini = 0.0</text>\n<text text-anchor=\"middle\" x=\"1612\" y=\"-223.3\" font-family=\"Times,serif\" font-size=\"14.00\" fill=\"#000000\">samples = 1</text>\n<text text-anchor=\"middle\" x=\"1612\" y=\"-208.3\" font-family=\"Times,serif\" font-size=\"14.00\" fill=\"#000000\">value = [0, 1, 0]</text>\n</g>\n<!-- 47&#45;&gt;48 -->\n<g id=\"edge48\" class=\"edge\">\n<title>47&#45;&gt;48</title>\n<path fill=\"none\" stroke=\"#000000\" d=\"M1655.044,-296.9465C1648.1978,-285.8215 1640.5829,-273.4473 1633.6843,-262.237\"/>\n<polygon fill=\"#000000\" stroke=\"#000000\" points=\"1636.5555,-260.2244 1628.3336,-253.5422 1630.5939,-263.8931 1636.5555,-260.2244\"/>\n</g>\n<!-- 49 -->\n<g id=\"node50\" class=\"node\">\n<title>49</title>\n<polygon fill=\"none\" stroke=\"#000000\" points=\"1795,-253.5 1685,-253.5 1685,-200.5 1795,-200.5 1795,-253.5\"/>\n<text text-anchor=\"middle\" x=\"1740\" y=\"-238.3\" font-family=\"Times,serif\" font-size=\"14.00\" fill=\"#000000\">gini = 0.0</text>\n<text text-anchor=\"middle\" x=\"1740\" y=\"-223.3\" font-family=\"Times,serif\" font-size=\"14.00\" fill=\"#000000\">samples = 1</text>\n<text text-anchor=\"middle\" x=\"1740\" y=\"-208.3\" font-family=\"Times,serif\" font-size=\"14.00\" fill=\"#000000\">value = [1, 0, 0]</text>\n</g>\n<!-- 47&#45;&gt;49 -->\n<g id=\"edge49\" class=\"edge\">\n<title>47&#45;&gt;49</title>\n<path fill=\"none\" stroke=\"#000000\" d=\"M1696.956,-296.9465C1703.8022,-285.8215 1711.4171,-273.4473 1718.3157,-262.237\"/>\n<polygon fill=\"#000000\" stroke=\"#000000\" points=\"1721.4061,-263.8931 1723.6664,-253.5422 1715.4445,-260.2244 1721.4061,-263.8931\"/>\n</g>\n<!-- 52 -->\n<g id=\"node53\" class=\"node\">\n<title>52</title>\n<polygon fill=\"none\" stroke=\"#000000\" points=\"2387.5,-781 2254.5,-781 2254.5,-713 2387.5,-713 2387.5,-781\"/>\n<text text-anchor=\"middle\" x=\"2321\" y=\"-765.8\" font-family=\"Times,serif\" font-size=\"14.00\" fill=\"#000000\">right_weight &lt;= 2.5</text>\n<text text-anchor=\"middle\" x=\"2321\" y=\"-750.8\" font-family=\"Times,serif\" font-size=\"14.00\" fill=\"#000000\">gini = 0.615</text>\n<text text-anchor=\"middle\" x=\"2321\" y=\"-735.8\" font-family=\"Times,serif\" font-size=\"14.00\" fill=\"#000000\">samples = 20</text>\n<text text-anchor=\"middle\" x=\"2321\" y=\"-720.8\" font-family=\"Times,serif\" font-size=\"14.00\" fill=\"#000000\">value = [3, 9, 8]</text>\n</g>\n<!-- 51&#45;&gt;52 -->\n<g id=\"edge52\" class=\"edge\">\n<title>51&#45;&gt;52</title>\n<path fill=\"none\" stroke=\"#000000\" d=\"M2392.9642,-816.9465C2383.5419,-807.7884 2373.2487,-797.7838 2363.4696,-788.2788\"/>\n<polygon fill=\"#000000\" stroke=\"#000000\" points=\"2365.7249,-785.59 2356.1145,-781.13 2360.846,-790.6097 2365.7249,-785.59\"/>\n</g>\n<!-- 67 -->\n<g id=\"node68\" class=\"node\">\n<title>67</title>\n<polygon fill=\"none\" stroke=\"#000000\" points=\"2600.5,-781 2469.5,-781 2469.5,-713 2600.5,-713 2600.5,-781\"/>\n<text text-anchor=\"middle\" x=\"2535\" y=\"-765.8\" font-family=\"Times,serif\" font-size=\"14.00\" fill=\"#000000\">left_distance &lt;= 3.5</text>\n<text text-anchor=\"middle\" x=\"2535\" y=\"-750.8\" font-family=\"Times,serif\" font-size=\"14.00\" fill=\"#000000\">gini = 0.044</text>\n<text text-anchor=\"middle\" x=\"2535\" y=\"-735.8\" font-family=\"Times,serif\" font-size=\"14.00\" fill=\"#000000\">samples = 89</text>\n<text text-anchor=\"middle\" x=\"2535\" y=\"-720.8\" font-family=\"Times,serif\" font-size=\"14.00\" fill=\"#000000\">value = [1, 87, 1]</text>\n</g>\n<!-- 51&#45;&gt;67 -->\n<g id=\"edge67\" class=\"edge\">\n<title>51&#45;&gt;67</title>\n<path fill=\"none\" stroke=\"#000000\" d=\"M2463.0358,-816.9465C2472.4581,-807.7884 2482.7513,-797.7838 2492.5304,-788.2788\"/>\n<polygon fill=\"#000000\" stroke=\"#000000\" points=\"2495.154,-790.6097 2499.8855,-781.13 2490.2751,-785.59 2495.154,-790.6097\"/>\n</g>\n<!-- 53 -->\n<g id=\"node54\" class=\"node\">\n<title>53</title>\n<polygon fill=\"none\" stroke=\"#000000\" points=\"2084.5,-677 1951.5,-677 1951.5,-609 2084.5,-609 2084.5,-677\"/>\n<text text-anchor=\"middle\" x=\"2018\" y=\"-661.8\" font-family=\"Times,serif\" font-size=\"14.00\" fill=\"#000000\">right_weight &lt;= 1.5</text>\n<text text-anchor=\"middle\" x=\"2018\" y=\"-646.8\" font-family=\"Times,serif\" font-size=\"14.00\" fill=\"#000000\">gini = 0.219</text>\n<text text-anchor=\"middle\" x=\"2018\" y=\"-631.8\" font-family=\"Times,serif\" font-size=\"14.00\" fill=\"#000000\">samples = 8</text>\n<text text-anchor=\"middle\" x=\"2018\" y=\"-616.8\" font-family=\"Times,serif\" font-size=\"14.00\" fill=\"#000000\">value = [1, 7, 0]</text>\n</g>\n<!-- 52&#45;&gt;53 -->\n<g id=\"edge53\" class=\"edge\">\n<title>52&#45;&gt;53</title>\n<path fill=\"none\" stroke=\"#000000\" d=\"M2254.1303,-724.048C2206.9119,-707.841 2143.5444,-686.0912 2094.3417,-669.2031\"/>\n<polygon fill=\"#000000\" stroke=\"#000000\" points=\"2095.2936,-665.8294 2084.699,-665.8934 2093.021,-672.4503 2095.2936,-665.8294\"/>\n</g>\n<!-- 58 -->\n<g id=\"node59\" class=\"node\">\n<title>58</title>\n<polygon fill=\"none\" stroke=\"#000000\" points=\"2391,-677 2251,-677 2251,-609 2391,-609 2391,-677\"/>\n<text text-anchor=\"middle\" x=\"2321\" y=\"-661.8\" font-family=\"Times,serif\" font-size=\"14.00\" fill=\"#000000\">right_distance &lt;= 1.5</text>\n<text text-anchor=\"middle\" x=\"2321\" y=\"-646.8\" font-family=\"Times,serif\" font-size=\"14.00\" fill=\"#000000\">gini = 0.5</text>\n<text text-anchor=\"middle\" x=\"2321\" y=\"-631.8\" font-family=\"Times,serif\" font-size=\"14.00\" fill=\"#000000\">samples = 12</text>\n<text text-anchor=\"middle\" x=\"2321\" y=\"-616.8\" font-family=\"Times,serif\" font-size=\"14.00\" fill=\"#000000\">value = [2, 2, 8]</text>\n</g>\n<!-- 52&#45;&gt;58 -->\n<g id=\"edge58\" class=\"edge\">\n<title>52&#45;&gt;58</title>\n<path fill=\"none\" stroke=\"#000000\" d=\"M2321,-712.9465C2321,-704.776 2321,-695.9318 2321,-687.3697\"/>\n<polygon fill=\"#000000\" stroke=\"#000000\" points=\"2324.5001,-687.13 2321,-677.13 2317.5001,-687.13 2324.5001,-687.13\"/>\n</g>\n<!-- 54 -->\n<g id=\"node55\" class=\"node\">\n<title>54</title>\n<polygon fill=\"none\" stroke=\"#000000\" points=\"1930,-565.5 1820,-565.5 1820,-512.5 1930,-512.5 1930,-565.5\"/>\n<text text-anchor=\"middle\" x=\"1875\" y=\"-550.3\" font-family=\"Times,serif\" font-size=\"14.00\" fill=\"#000000\">gini = 0.0</text>\n<text text-anchor=\"middle\" x=\"1875\" y=\"-535.3\" font-family=\"Times,serif\" font-size=\"14.00\" fill=\"#000000\">samples = 4</text>\n<text text-anchor=\"middle\" x=\"1875\" y=\"-520.3\" font-family=\"Times,serif\" font-size=\"14.00\" fill=\"#000000\">value = [0, 4, 0]</text>\n</g>\n<!-- 53&#45;&gt;54 -->\n<g id=\"edge54\" class=\"edge\">\n<title>53&#45;&gt;54</title>\n<path fill=\"none\" stroke=\"#000000\" d=\"M1971.1765,-608.9465C1954.6679,-596.9403 1936.1588,-583.4791 1919.8198,-571.5962\"/>\n<polygon fill=\"#000000\" stroke=\"#000000\" points=\"1921.6415,-568.5933 1911.4955,-565.5422 1917.5242,-574.2545 1921.6415,-568.5933\"/>\n</g>\n<!-- 55 -->\n<g id=\"node56\" class=\"node\">\n<title>55</title>\n<polygon fill=\"none\" stroke=\"#000000\" points=\"2088,-573 1948,-573 1948,-505 2088,-505 2088,-573\"/>\n<text text-anchor=\"middle\" x=\"2018\" y=\"-557.8\" font-family=\"Times,serif\" font-size=\"14.00\" fill=\"#000000\">right_distance &lt;= 1.5</text>\n<text text-anchor=\"middle\" x=\"2018\" y=\"-542.8\" font-family=\"Times,serif\" font-size=\"14.00\" fill=\"#000000\">gini = 0.375</text>\n<text text-anchor=\"middle\" x=\"2018\" y=\"-527.8\" font-family=\"Times,serif\" font-size=\"14.00\" fill=\"#000000\">samples = 4</text>\n<text text-anchor=\"middle\" x=\"2018\" y=\"-512.8\" font-family=\"Times,serif\" font-size=\"14.00\" fill=\"#000000\">value = [1, 3, 0]</text>\n</g>\n<!-- 53&#45;&gt;55 -->\n<g id=\"edge55\" class=\"edge\">\n<title>53&#45;&gt;55</title>\n<path fill=\"none\" stroke=\"#000000\" d=\"M2018,-608.9465C2018,-600.776 2018,-591.9318 2018,-583.3697\"/>\n<polygon fill=\"#000000\" stroke=\"#000000\" points=\"2021.5001,-583.13 2018,-573.13 2014.5001,-583.13 2021.5001,-583.13\"/>\n</g>\n<!-- 56 -->\n<g id=\"node57\" class=\"node\">\n<title>56</title>\n<polygon fill=\"none\" stroke=\"#000000\" points=\"1945,-461.5 1835,-461.5 1835,-408.5 1945,-408.5 1945,-461.5\"/>\n<text text-anchor=\"middle\" x=\"1890\" y=\"-446.3\" font-family=\"Times,serif\" font-size=\"14.00\" fill=\"#000000\">gini = 0.0</text>\n<text text-anchor=\"middle\" x=\"1890\" y=\"-431.3\" font-family=\"Times,serif\" font-size=\"14.00\" fill=\"#000000\">samples = 3</text>\n<text text-anchor=\"middle\" x=\"1890\" y=\"-416.3\" font-family=\"Times,serif\" font-size=\"14.00\" fill=\"#000000\">value = [0, 3, 0]</text>\n</g>\n<!-- 55&#45;&gt;56 -->\n<g id=\"edge56\" class=\"edge\">\n<title>55&#45;&gt;56</title>\n<path fill=\"none\" stroke=\"#000000\" d=\"M1976.088,-504.9465C1961.4467,-493.0504 1945.0474,-479.726 1930.5215,-467.9237\"/>\n<polygon fill=\"#000000\" stroke=\"#000000\" points=\"1932.6355,-465.1317 1922.6673,-461.5422 1928.2214,-470.5645 1932.6355,-465.1317\"/>\n</g>\n<!-- 57 -->\n<g id=\"node58\" class=\"node\">\n<title>57</title>\n<polygon fill=\"none\" stroke=\"#000000\" points=\"2073,-461.5 1963,-461.5 1963,-408.5 2073,-408.5 2073,-461.5\"/>\n<text text-anchor=\"middle\" x=\"2018\" y=\"-446.3\" font-family=\"Times,serif\" font-size=\"14.00\" fill=\"#000000\">gini = 0.0</text>\n<text text-anchor=\"middle\" x=\"2018\" y=\"-431.3\" font-family=\"Times,serif\" font-size=\"14.00\" fill=\"#000000\">samples = 1</text>\n<text text-anchor=\"middle\" x=\"2018\" y=\"-416.3\" font-family=\"Times,serif\" font-size=\"14.00\" fill=\"#000000\">value = [1, 0, 0]</text>\n</g>\n<!-- 55&#45;&gt;57 -->\n<g id=\"edge57\" class=\"edge\">\n<title>55&#45;&gt;57</title>\n<path fill=\"none\" stroke=\"#000000\" d=\"M2018,-504.9465C2018,-494.2621 2018,-482.4254 2018,-471.5742\"/>\n<polygon fill=\"#000000\" stroke=\"#000000\" points=\"2021.5001,-471.5421 2018,-461.5422 2014.5001,-471.5422 2021.5001,-471.5421\"/>\n</g>\n<!-- 59 -->\n<g id=\"node60\" class=\"node\">\n<title>59</title>\n<polygon fill=\"none\" stroke=\"#000000\" points=\"2312.5,-573 2181.5,-573 2181.5,-505 2312.5,-505 2312.5,-573\"/>\n<text text-anchor=\"middle\" x=\"2247\" y=\"-557.8\" font-family=\"Times,serif\" font-size=\"14.00\" fill=\"#000000\">left_distance &lt;= 4.5</text>\n<text text-anchor=\"middle\" x=\"2247\" y=\"-542.8\" font-family=\"Times,serif\" font-size=\"14.00\" fill=\"#000000\">gini = 0.667</text>\n<text text-anchor=\"middle\" x=\"2247\" y=\"-527.8\" font-family=\"Times,serif\" font-size=\"14.00\" fill=\"#000000\">samples = 6</text>\n<text text-anchor=\"middle\" x=\"2247\" y=\"-512.8\" font-family=\"Times,serif\" font-size=\"14.00\" fill=\"#000000\">value = [2, 2, 2]</text>\n</g>\n<!-- 58&#45;&gt;59 -->\n<g id=\"edge59\" class=\"edge\">\n<title>58&#45;&gt;59</title>\n<path fill=\"none\" stroke=\"#000000\" d=\"M2296.7696,-608.9465C2290.5088,-600.1475 2283.692,-590.5672 2277.1687,-581.3993\"/>\n<polygon fill=\"#000000\" stroke=\"#000000\" points=\"2279.9342,-579.2488 2271.2848,-573.13 2274.2306,-583.3071 2279.9342,-579.2488\"/>\n</g>\n<!-- 66 -->\n<g id=\"node67\" class=\"node\">\n<title>66</title>\n<polygon fill=\"none\" stroke=\"#000000\" points=\"2441,-565.5 2331,-565.5 2331,-512.5 2441,-512.5 2441,-565.5\"/>\n<text text-anchor=\"middle\" x=\"2386\" y=\"-550.3\" font-family=\"Times,serif\" font-size=\"14.00\" fill=\"#000000\">gini = 0.0</text>\n<text text-anchor=\"middle\" x=\"2386\" y=\"-535.3\" font-family=\"Times,serif\" font-size=\"14.00\" fill=\"#000000\">samples = 6</text>\n<text text-anchor=\"middle\" x=\"2386\" y=\"-520.3\" font-family=\"Times,serif\" font-size=\"14.00\" fill=\"#000000\">value = [0, 0, 6]</text>\n</g>\n<!-- 58&#45;&gt;66 -->\n<g id=\"edge66\" class=\"edge\">\n<title>58&#45;&gt;66</title>\n<path fill=\"none\" stroke=\"#000000\" d=\"M2342.2834,-608.9465C2349.2366,-597.8215 2356.9705,-585.4473 2363.9769,-574.237\"/>\n<polygon fill=\"#000000\" stroke=\"#000000\" points=\"2367.0791,-575.8772 2369.4111,-565.5422 2361.1431,-572.1671 2367.0791,-575.8772\"/>\n</g>\n<!-- 60 -->\n<g id=\"node61\" class=\"node\">\n<title>60</title>\n<polygon fill=\"none\" stroke=\"#000000\" points=\"2224.5,-469 2091.5,-469 2091.5,-401 2224.5,-401 2224.5,-469\"/>\n<text text-anchor=\"middle\" x=\"2158\" y=\"-453.8\" font-family=\"Times,serif\" font-size=\"14.00\" fill=\"#000000\">right_weight &lt;= 3.5</text>\n<text text-anchor=\"middle\" x=\"2158\" y=\"-438.8\" font-family=\"Times,serif\" font-size=\"14.00\" fill=\"#000000\">gini = 0.444</text>\n<text text-anchor=\"middle\" x=\"2158\" y=\"-423.8\" font-family=\"Times,serif\" font-size=\"14.00\" fill=\"#000000\">samples = 3</text>\n<text text-anchor=\"middle\" x=\"2158\" y=\"-408.8\" font-family=\"Times,serif\" font-size=\"14.00\" fill=\"#000000\">value = [1, 0, 2]</text>\n</g>\n<!-- 59&#45;&gt;60 -->\n<g id=\"edge60\" class=\"edge\">\n<title>59&#45;&gt;60</title>\n<path fill=\"none\" stroke=\"#000000\" d=\"M2217.8581,-504.9465C2210.1745,-495.968 2201.7947,-486.1758 2193.8041,-476.8385\"/>\n<polygon fill=\"#000000\" stroke=\"#000000\" points=\"2196.3685,-474.4521 2187.2074,-469.13 2191.0501,-479.0034 2196.3685,-474.4521\"/>\n</g>\n<!-- 63 -->\n<g id=\"node64\" class=\"node\">\n<title>63</title>\n<polygon fill=\"none\" stroke=\"#000000\" points=\"2375.5,-469 2242.5,-469 2242.5,-401 2375.5,-401 2375.5,-469\"/>\n<text text-anchor=\"middle\" x=\"2309\" y=\"-453.8\" font-family=\"Times,serif\" font-size=\"14.00\" fill=\"#000000\">right_weight &lt;= 4.5</text>\n<text text-anchor=\"middle\" x=\"2309\" y=\"-438.8\" font-family=\"Times,serif\" font-size=\"14.00\" fill=\"#000000\">gini = 0.444</text>\n<text text-anchor=\"middle\" x=\"2309\" y=\"-423.8\" font-family=\"Times,serif\" font-size=\"14.00\" fill=\"#000000\">samples = 3</text>\n<text text-anchor=\"middle\" x=\"2309\" y=\"-408.8\" font-family=\"Times,serif\" font-size=\"14.00\" fill=\"#000000\">value = [1, 2, 0]</text>\n</g>\n<!-- 59&#45;&gt;63 -->\n<g id=\"edge63\" class=\"edge\">\n<title>59&#45;&gt;63</title>\n<path fill=\"none\" stroke=\"#000000\" d=\"M2267.3011,-504.9465C2272.4396,-496.3271 2278.0251,-486.9579 2283.3886,-477.9611\"/>\n<polygon fill=\"#000000\" stroke=\"#000000\" points=\"2286.5389,-479.5117 2288.6533,-469.13 2280.5263,-475.9272 2286.5389,-479.5117\"/>\n</g>\n<!-- 61 -->\n<g id=\"node62\" class=\"node\">\n<title>61</title>\n<polygon fill=\"none\" stroke=\"#000000\" points=\"2018,-357.5 1908,-357.5 1908,-304.5 2018,-304.5 2018,-357.5\"/>\n<text text-anchor=\"middle\" x=\"1963\" y=\"-342.3\" font-family=\"Times,serif\" font-size=\"14.00\" fill=\"#000000\">gini = 0.0</text>\n<text text-anchor=\"middle\" x=\"1963\" y=\"-327.3\" font-family=\"Times,serif\" font-size=\"14.00\" fill=\"#000000\">samples = 1</text>\n<text text-anchor=\"middle\" x=\"1963\" y=\"-312.3\" font-family=\"Times,serif\" font-size=\"14.00\" fill=\"#000000\">value = [1, 0, 0]</text>\n</g>\n<!-- 60&#45;&gt;61 -->\n<g id=\"edge61\" class=\"edge\">\n<title>60&#45;&gt;61</title>\n<path fill=\"none\" stroke=\"#000000\" d=\"M2094.1497,-400.9465C2070.8119,-388.4997 2044.5423,-374.4892 2021.6773,-362.2946\"/>\n<polygon fill=\"#000000\" stroke=\"#000000\" points=\"2023.2372,-359.1599 2012.7666,-357.5422 2019.943,-365.3363 2023.2372,-359.1599\"/>\n</g>\n<!-- 62 -->\n<g id=\"node63\" class=\"node\">\n<title>62</title>\n<polygon fill=\"none\" stroke=\"#000000\" points=\"2146,-357.5 2036,-357.5 2036,-304.5 2146,-304.5 2146,-357.5\"/>\n<text text-anchor=\"middle\" x=\"2091\" y=\"-342.3\" font-family=\"Times,serif\" font-size=\"14.00\" fill=\"#000000\">gini = 0.0</text>\n<text text-anchor=\"middle\" x=\"2091\" y=\"-327.3\" font-family=\"Times,serif\" font-size=\"14.00\" fill=\"#000000\">samples = 2</text>\n<text text-anchor=\"middle\" x=\"2091\" y=\"-312.3\" font-family=\"Times,serif\" font-size=\"14.00\" fill=\"#000000\">value = [0, 0, 2]</text>\n</g>\n<!-- 60&#45;&gt;62 -->\n<g id=\"edge62\" class=\"edge\">\n<title>60&#45;&gt;62</title>\n<path fill=\"none\" stroke=\"#000000\" d=\"M2136.0617,-400.9465C2128.8946,-389.8215 2120.9227,-377.4473 2113.7007,-366.237\"/>\n<polygon fill=\"#000000\" stroke=\"#000000\" points=\"2116.4574,-364.0532 2108.0993,-357.5422 2110.5728,-367.8442 2116.4574,-364.0532\"/>\n</g>\n<!-- 64 -->\n<g id=\"node65\" class=\"node\">\n<title>64</title>\n<polygon fill=\"none\" stroke=\"#000000\" points=\"2274,-357.5 2164,-357.5 2164,-304.5 2274,-304.5 2274,-357.5\"/>\n<text text-anchor=\"middle\" x=\"2219\" y=\"-342.3\" font-family=\"Times,serif\" font-size=\"14.00\" fill=\"#000000\">gini = 0.0</text>\n<text text-anchor=\"middle\" x=\"2219\" y=\"-327.3\" font-family=\"Times,serif\" font-size=\"14.00\" fill=\"#000000\">samples = 2</text>\n<text text-anchor=\"middle\" x=\"2219\" y=\"-312.3\" font-family=\"Times,serif\" font-size=\"14.00\" fill=\"#000000\">value = [0, 2, 0]</text>\n</g>\n<!-- 63&#45;&gt;64 -->\n<g id=\"edge64\" class=\"edge\">\n<title>63&#45;&gt;64</title>\n<path fill=\"none\" stroke=\"#000000\" d=\"M2279.5306,-400.9465C2269.6172,-389.491 2258.5576,-376.711 2248.6318,-365.2412\"/>\n<polygon fill=\"#000000\" stroke=\"#000000\" points=\"2251.1596,-362.8135 2241.9692,-357.5422 2245.8664,-367.3942 2251.1596,-362.8135\"/>\n</g>\n<!-- 65 -->\n<g id=\"node66\" class=\"node\">\n<title>65</title>\n<polygon fill=\"none\" stroke=\"#000000\" points=\"2402,-357.5 2292,-357.5 2292,-304.5 2402,-304.5 2402,-357.5\"/>\n<text text-anchor=\"middle\" x=\"2347\" y=\"-342.3\" font-family=\"Times,serif\" font-size=\"14.00\" fill=\"#000000\">gini = 0.0</text>\n<text text-anchor=\"middle\" x=\"2347\" y=\"-327.3\" font-family=\"Times,serif\" font-size=\"14.00\" fill=\"#000000\">samples = 1</text>\n<text text-anchor=\"middle\" x=\"2347\" y=\"-312.3\" font-family=\"Times,serif\" font-size=\"14.00\" fill=\"#000000\">value = [1, 0, 0]</text>\n</g>\n<!-- 63&#45;&gt;65 -->\n<g id=\"edge65\" class=\"edge\">\n<title>63&#45;&gt;65</title>\n<path fill=\"none\" stroke=\"#000000\" d=\"M2321.4426,-400.9465C2325.3868,-390.1519 2329.7607,-378.1813 2333.7589,-367.2389\"/>\n<polygon fill=\"#000000\" stroke=\"#000000\" points=\"2337.1573,-368.136 2337.3019,-357.5422 2330.5825,-365.7336 2337.1573,-368.136\"/>\n</g>\n<!-- 68 -->\n<g id=\"node69\" class=\"node\">\n<title>68</title>\n<polygon fill=\"none\" stroke=\"#000000\" points=\"2601.5,-677 2468.5,-677 2468.5,-609 2601.5,-609 2601.5,-677\"/>\n<text text-anchor=\"middle\" x=\"2535\" y=\"-661.8\" font-family=\"Times,serif\" font-size=\"14.00\" fill=\"#000000\">right_weight &lt;= 4.5</text>\n<text text-anchor=\"middle\" x=\"2535\" y=\"-646.8\" font-family=\"Times,serif\" font-size=\"14.00\" fill=\"#000000\">gini = 0.123</text>\n<text text-anchor=\"middle\" x=\"2535\" y=\"-631.8\" font-family=\"Times,serif\" font-size=\"14.00\" fill=\"#000000\">samples = 31</text>\n<text text-anchor=\"middle\" x=\"2535\" y=\"-616.8\" font-family=\"Times,serif\" font-size=\"14.00\" fill=\"#000000\">value = [1, 29, 1]</text>\n</g>\n<!-- 67&#45;&gt;68 -->\n<g id=\"edge68\" class=\"edge\">\n<title>67&#45;&gt;68</title>\n<path fill=\"none\" stroke=\"#000000\" d=\"M2535,-712.9465C2535,-704.776 2535,-695.9318 2535,-687.3697\"/>\n<polygon fill=\"#000000\" stroke=\"#000000\" points=\"2538.5001,-687.13 2535,-677.13 2531.5001,-687.13 2538.5001,-687.13\"/>\n</g>\n<!-- 81 -->\n<g id=\"node82\" class=\"node\">\n<title>81</title>\n<polygon fill=\"none\" stroke=\"#000000\" points=\"2736.5,-669.5 2619.5,-669.5 2619.5,-616.5 2736.5,-616.5 2736.5,-669.5\"/>\n<text text-anchor=\"middle\" x=\"2678\" y=\"-654.3\" font-family=\"Times,serif\" font-size=\"14.00\" fill=\"#000000\">gini = 0.0</text>\n<text text-anchor=\"middle\" x=\"2678\" y=\"-639.3\" font-family=\"Times,serif\" font-size=\"14.00\" fill=\"#000000\">samples = 58</text>\n<text text-anchor=\"middle\" x=\"2678\" y=\"-624.3\" font-family=\"Times,serif\" font-size=\"14.00\" fill=\"#000000\">value = [0, 58, 0]</text>\n</g>\n<!-- 67&#45;&gt;81 -->\n<g id=\"edge81\" class=\"edge\">\n<title>67&#45;&gt;81</title>\n<path fill=\"none\" stroke=\"#000000\" d=\"M2581.8235,-712.9465C2598.3321,-700.9403 2616.8412,-687.4791 2633.1802,-675.5962\"/>\n<polygon fill=\"#000000\" stroke=\"#000000\" points=\"2635.4758,-678.2545 2641.5045,-669.5422 2631.3585,-672.5933 2635.4758,-678.2545\"/>\n</g>\n<!-- 69 -->\n<g id=\"node70\" class=\"node\">\n<title>69</title>\n<polygon fill=\"none\" stroke=\"#000000\" points=\"2597,-573 2473,-573 2473,-505 2597,-505 2597,-573\"/>\n<text text-anchor=\"middle\" x=\"2535\" y=\"-557.8\" font-family=\"Times,serif\" font-size=\"14.00\" fill=\"#000000\">left_weight &lt;= 2.5</text>\n<text text-anchor=\"middle\" x=\"2535\" y=\"-542.8\" font-family=\"Times,serif\" font-size=\"14.00\" fill=\"#000000\">gini = 0.071</text>\n<text text-anchor=\"middle\" x=\"2535\" y=\"-527.8\" font-family=\"Times,serif\" font-size=\"14.00\" fill=\"#000000\">samples = 27</text>\n<text text-anchor=\"middle\" x=\"2535\" y=\"-512.8\" font-family=\"Times,serif\" font-size=\"14.00\" fill=\"#000000\">value = [1, 26, 0]</text>\n</g>\n<!-- 68&#45;&gt;69 -->\n<g id=\"edge69\" class=\"edge\">\n<title>68&#45;&gt;69</title>\n<path fill=\"none\" stroke=\"#000000\" d=\"M2535,-608.9465C2535,-600.776 2535,-591.9318 2535,-583.3697\"/>\n<polygon fill=\"#000000\" stroke=\"#000000\" points=\"2538.5001,-583.13 2535,-573.13 2531.5001,-583.13 2538.5001,-583.13\"/>\n</g>\n<!-- 76 -->\n<g id=\"node77\" class=\"node\">\n<title>76</title>\n<polygon fill=\"none\" stroke=\"#000000\" points=\"2826,-573 2702,-573 2702,-505 2826,-505 2826,-573\"/>\n<text text-anchor=\"middle\" x=\"2764\" y=\"-557.8\" font-family=\"Times,serif\" font-size=\"14.00\" fill=\"#000000\">left_weight &lt;= 3.5</text>\n<text text-anchor=\"middle\" x=\"2764\" y=\"-542.8\" font-family=\"Times,serif\" font-size=\"14.00\" fill=\"#000000\">gini = 0.375</text>\n<text text-anchor=\"middle\" x=\"2764\" y=\"-527.8\" font-family=\"Times,serif\" font-size=\"14.00\" fill=\"#000000\">samples = 4</text>\n<text text-anchor=\"middle\" x=\"2764\" y=\"-512.8\" font-family=\"Times,serif\" font-size=\"14.00\" fill=\"#000000\">value = [0, 3, 1]</text>\n</g>\n<!-- 68&#45;&gt;76 -->\n<g id=\"edge76\" class=\"edge\">\n<title>68&#45;&gt;76</title>\n<path fill=\"none\" stroke=\"#000000\" d=\"M2601.5439,-612.7792C2630.0232,-599.8454 2663.3337,-584.7175 2692.3527,-571.5385\"/>\n<polygon fill=\"#000000\" stroke=\"#000000\" points=\"2693.9543,-574.6552 2701.6121,-567.3334 2691.0598,-568.2817 2693.9543,-574.6552\"/>\n</g>\n<!-- 70 -->\n<g id=\"node71\" class=\"node\">\n<title>70</title>\n<polygon fill=\"none\" stroke=\"#000000\" points=\"2540.5,-469 2407.5,-469 2407.5,-401 2540.5,-401 2540.5,-469\"/>\n<text text-anchor=\"middle\" x=\"2474\" y=\"-453.8\" font-family=\"Times,serif\" font-size=\"14.00\" fill=\"#000000\">right_weight &lt;= 2.5</text>\n<text text-anchor=\"middle\" x=\"2474\" y=\"-438.8\" font-family=\"Times,serif\" font-size=\"14.00\" fill=\"#000000\">gini = 0.245</text>\n<text text-anchor=\"middle\" x=\"2474\" y=\"-423.8\" font-family=\"Times,serif\" font-size=\"14.00\" fill=\"#000000\">samples = 7</text>\n<text text-anchor=\"middle\" x=\"2474\" y=\"-408.8\" font-family=\"Times,serif\" font-size=\"14.00\" fill=\"#000000\">value = [1, 6, 0]</text>\n</g>\n<!-- 69&#45;&gt;70 -->\n<g id=\"edge70\" class=\"edge\">\n<title>69&#45;&gt;70</title>\n<path fill=\"none\" stroke=\"#000000\" d=\"M2515.0263,-504.9465C2509.9707,-496.3271 2504.4753,-486.9579 2499.1983,-477.9611\"/>\n<polygon fill=\"#000000\" stroke=\"#000000\" points=\"2502.0969,-475.985 2494.0186,-469.13 2496.0589,-479.5265 2502.0969,-475.985\"/>\n</g>\n<!-- 75 -->\n<g id=\"node76\" class=\"node\">\n<title>75</title>\n<polygon fill=\"none\" stroke=\"#000000\" points=\"2675.5,-461.5 2558.5,-461.5 2558.5,-408.5 2675.5,-408.5 2675.5,-461.5\"/>\n<text text-anchor=\"middle\" x=\"2617\" y=\"-446.3\" font-family=\"Times,serif\" font-size=\"14.00\" fill=\"#000000\">gini = 0.0</text>\n<text text-anchor=\"middle\" x=\"2617\" y=\"-431.3\" font-family=\"Times,serif\" font-size=\"14.00\" fill=\"#000000\">samples = 20</text>\n<text text-anchor=\"middle\" x=\"2617\" y=\"-416.3\" font-family=\"Times,serif\" font-size=\"14.00\" fill=\"#000000\">value = [0, 20, 0]</text>\n</g>\n<!-- 69&#45;&gt;75 -->\n<g id=\"edge75\" class=\"edge\">\n<title>69&#45;&gt;75</title>\n<path fill=\"none\" stroke=\"#000000\" d=\"M2561.8499,-504.9465C2570.7952,-493.6012 2580.7649,-480.9567 2589.741,-469.5724\"/>\n<polygon fill=\"#000000\" stroke=\"#000000\" points=\"2592.6294,-471.5619 2596.0725,-461.5422 2587.1325,-467.2278 2592.6294,-471.5619\"/>\n</g>\n<!-- 71 -->\n<g id=\"node72\" class=\"node\">\n<title>71</title>\n<polygon fill=\"none\" stroke=\"#000000\" points=\"2530,-357.5 2420,-357.5 2420,-304.5 2530,-304.5 2530,-357.5\"/>\n<text text-anchor=\"middle\" x=\"2475\" y=\"-342.3\" font-family=\"Times,serif\" font-size=\"14.00\" fill=\"#000000\">gini = 0.0</text>\n<text text-anchor=\"middle\" x=\"2475\" y=\"-327.3\" font-family=\"Times,serif\" font-size=\"14.00\" fill=\"#000000\">samples = 4</text>\n<text text-anchor=\"middle\" x=\"2475\" y=\"-312.3\" font-family=\"Times,serif\" font-size=\"14.00\" fill=\"#000000\">value = [0, 4, 0]</text>\n</g>\n<!-- 70&#45;&gt;71 -->\n<g id=\"edge71\" class=\"edge\">\n<title>70&#45;&gt;71</title>\n<path fill=\"none\" stroke=\"#000000\" d=\"M2474.3274,-400.9465C2474.4302,-390.2621 2474.544,-378.4254 2474.6483,-367.5742\"/>\n<polygon fill=\"#000000\" stroke=\"#000000\" points=\"2478.1484,-367.5754 2474.7448,-357.5422 2471.1487,-367.508 2478.1484,-367.5754\"/>\n</g>\n<!-- 72 -->\n<g id=\"node73\" class=\"node\">\n<title>72</title>\n<polygon fill=\"none\" stroke=\"#000000\" points=\"2688,-365 2548,-365 2548,-297 2688,-297 2688,-365\"/>\n<text text-anchor=\"middle\" x=\"2618\" y=\"-349.8\" font-family=\"Times,serif\" font-size=\"14.00\" fill=\"#000000\">right_distance &lt;= 1.5</text>\n<text text-anchor=\"middle\" x=\"2618\" y=\"-334.8\" font-family=\"Times,serif\" font-size=\"14.00\" fill=\"#000000\">gini = 0.444</text>\n<text text-anchor=\"middle\" x=\"2618\" y=\"-319.8\" font-family=\"Times,serif\" font-size=\"14.00\" fill=\"#000000\">samples = 3</text>\n<text text-anchor=\"middle\" x=\"2618\" y=\"-304.8\" font-family=\"Times,serif\" font-size=\"14.00\" fill=\"#000000\">value = [1, 2, 0]</text>\n</g>\n<!-- 70&#45;&gt;72 -->\n<g id=\"edge72\" class=\"edge\">\n<title>70&#45;&gt;72</title>\n<path fill=\"none\" stroke=\"#000000\" d=\"M2521.151,-400.9465C2534.3287,-391.4293 2548.7722,-380.9978 2562.3897,-371.163\"/>\n<polygon fill=\"#000000\" stroke=\"#000000\" points=\"2564.6855,-373.8223 2570.7431,-365.13 2560.587,-368.1476 2564.6855,-373.8223\"/>\n</g>\n<!-- 73 -->\n<g id=\"node74\" class=\"node\">\n<title>73</title>\n<polygon fill=\"none\" stroke=\"#000000\" points=\"2609,-253.5 2499,-253.5 2499,-200.5 2609,-200.5 2609,-253.5\"/>\n<text text-anchor=\"middle\" x=\"2554\" y=\"-238.3\" font-family=\"Times,serif\" font-size=\"14.00\" fill=\"#000000\">gini = 0.0</text>\n<text text-anchor=\"middle\" x=\"2554\" y=\"-223.3\" font-family=\"Times,serif\" font-size=\"14.00\" fill=\"#000000\">samples = 2</text>\n<text text-anchor=\"middle\" x=\"2554\" y=\"-208.3\" font-family=\"Times,serif\" font-size=\"14.00\" fill=\"#000000\">value = [0, 2, 0]</text>\n</g>\n<!-- 72&#45;&gt;73 -->\n<g id=\"edge73\" class=\"edge\">\n<title>72&#45;&gt;73</title>\n<path fill=\"none\" stroke=\"#000000\" d=\"M2597.044,-296.9465C2590.1978,-285.8215 2582.5829,-273.4473 2575.6843,-262.237\"/>\n<polygon fill=\"#000000\" stroke=\"#000000\" points=\"2578.5555,-260.2244 2570.3336,-253.5422 2572.5939,-263.8931 2578.5555,-260.2244\"/>\n</g>\n<!-- 74 -->\n<g id=\"node75\" class=\"node\">\n<title>74</title>\n<polygon fill=\"none\" stroke=\"#000000\" points=\"2737,-253.5 2627,-253.5 2627,-200.5 2737,-200.5 2737,-253.5\"/>\n<text text-anchor=\"middle\" x=\"2682\" y=\"-238.3\" font-family=\"Times,serif\" font-size=\"14.00\" fill=\"#000000\">gini = 0.0</text>\n<text text-anchor=\"middle\" x=\"2682\" y=\"-223.3\" font-family=\"Times,serif\" font-size=\"14.00\" fill=\"#000000\">samples = 1</text>\n<text text-anchor=\"middle\" x=\"2682\" y=\"-208.3\" font-family=\"Times,serif\" font-size=\"14.00\" fill=\"#000000\">value = [1, 0, 0]</text>\n</g>\n<!-- 72&#45;&gt;74 -->\n<g id=\"edge74\" class=\"edge\">\n<title>72&#45;&gt;74</title>\n<path fill=\"none\" stroke=\"#000000\" d=\"M2638.956,-296.9465C2645.8022,-285.8215 2653.4171,-273.4473 2660.3157,-262.237\"/>\n<polygon fill=\"#000000\" stroke=\"#000000\" points=\"2663.4061,-263.8931 2665.6664,-253.5422 2657.4445,-260.2244 2663.4061,-263.8931\"/>\n</g>\n<!-- 77 -->\n<g id=\"node78\" class=\"node\">\n<title>77</title>\n<polygon fill=\"none\" stroke=\"#000000\" points=\"2834,-469 2694,-469 2694,-401 2834,-401 2834,-469\"/>\n<text text-anchor=\"middle\" x=\"2764\" y=\"-453.8\" font-family=\"Times,serif\" font-size=\"14.00\" fill=\"#000000\">right_distance &lt;= 1.5</text>\n<text text-anchor=\"middle\" x=\"2764\" y=\"-438.8\" font-family=\"Times,serif\" font-size=\"14.00\" fill=\"#000000\">gini = 0.5</text>\n<text text-anchor=\"middle\" x=\"2764\" y=\"-423.8\" font-family=\"Times,serif\" font-size=\"14.00\" fill=\"#000000\">samples = 2</text>\n<text text-anchor=\"middle\" x=\"2764\" y=\"-408.8\" font-family=\"Times,serif\" font-size=\"14.00\" fill=\"#000000\">value = [0, 1, 1]</text>\n</g>\n<!-- 76&#45;&gt;77 -->\n<g id=\"edge77\" class=\"edge\">\n<title>76&#45;&gt;77</title>\n<path fill=\"none\" stroke=\"#000000\" d=\"M2764,-504.9465C2764,-496.776 2764,-487.9318 2764,-479.3697\"/>\n<polygon fill=\"#000000\" stroke=\"#000000\" points=\"2767.5001,-479.13 2764,-469.13 2760.5001,-479.13 2767.5001,-479.13\"/>\n</g>\n<!-- 80 -->\n<g id=\"node81\" class=\"node\">\n<title>80</title>\n<polygon fill=\"none\" stroke=\"#000000\" points=\"2962,-461.5 2852,-461.5 2852,-408.5 2962,-408.5 2962,-461.5\"/>\n<text text-anchor=\"middle\" x=\"2907\" y=\"-446.3\" font-family=\"Times,serif\" font-size=\"14.00\" fill=\"#000000\">gini = 0.0</text>\n<text text-anchor=\"middle\" x=\"2907\" y=\"-431.3\" font-family=\"Times,serif\" font-size=\"14.00\" fill=\"#000000\">samples = 2</text>\n<text text-anchor=\"middle\" x=\"2907\" y=\"-416.3\" font-family=\"Times,serif\" font-size=\"14.00\" fill=\"#000000\">value = [0, 2, 0]</text>\n</g>\n<!-- 76&#45;&gt;80 -->\n<g id=\"edge80\" class=\"edge\">\n<title>76&#45;&gt;80</title>\n<path fill=\"none\" stroke=\"#000000\" d=\"M2810.8235,-504.9465C2827.3321,-492.9403 2845.8412,-479.4791 2862.1802,-467.5962\"/>\n<polygon fill=\"#000000\" stroke=\"#000000\" points=\"2864.4758,-470.2545 2870.5045,-461.5422 2860.3585,-464.5933 2864.4758,-470.2545\"/>\n</g>\n<!-- 78 -->\n<g id=\"node79\" class=\"node\">\n<title>78</title>\n<polygon fill=\"none\" stroke=\"#000000\" points=\"2818,-357.5 2708,-357.5 2708,-304.5 2818,-304.5 2818,-357.5\"/>\n<text text-anchor=\"middle\" x=\"2763\" y=\"-342.3\" font-family=\"Times,serif\" font-size=\"14.00\" fill=\"#000000\">gini = 0.0</text>\n<text text-anchor=\"middle\" x=\"2763\" y=\"-327.3\" font-family=\"Times,serif\" font-size=\"14.00\" fill=\"#000000\">samples = 1</text>\n<text text-anchor=\"middle\" x=\"2763\" y=\"-312.3\" font-family=\"Times,serif\" font-size=\"14.00\" fill=\"#000000\">value = [0, 1, 0]</text>\n</g>\n<!-- 77&#45;&gt;78 -->\n<g id=\"edge78\" class=\"edge\">\n<title>77&#45;&gt;78</title>\n<path fill=\"none\" stroke=\"#000000\" d=\"M2763.6726,-400.9465C2763.5698,-390.2621 2763.456,-378.4254 2763.3517,-367.5742\"/>\n<polygon fill=\"#000000\" stroke=\"#000000\" points=\"2766.8513,-367.508 2763.2552,-357.5422 2759.8516,-367.5754 2766.8513,-367.508\"/>\n</g>\n<!-- 79 -->\n<g id=\"node80\" class=\"node\">\n<title>79</title>\n<polygon fill=\"none\" stroke=\"#000000\" points=\"2946,-357.5 2836,-357.5 2836,-304.5 2946,-304.5 2946,-357.5\"/>\n<text text-anchor=\"middle\" x=\"2891\" y=\"-342.3\" font-family=\"Times,serif\" font-size=\"14.00\" fill=\"#000000\">gini = 0.0</text>\n<text text-anchor=\"middle\" x=\"2891\" y=\"-327.3\" font-family=\"Times,serif\" font-size=\"14.00\" fill=\"#000000\">samples = 1</text>\n<text text-anchor=\"middle\" x=\"2891\" y=\"-312.3\" font-family=\"Times,serif\" font-size=\"14.00\" fill=\"#000000\">value = [0, 0, 1]</text>\n</g>\n<!-- 77&#45;&gt;79 -->\n<g id=\"edge79\" class=\"edge\">\n<title>77&#45;&gt;79</title>\n<path fill=\"none\" stroke=\"#000000\" d=\"M2805.5845,-400.9465C2820.1115,-389.0504 2836.3827,-375.726 2850.7951,-363.9237\"/>\n<polygon fill=\"#000000\" stroke=\"#000000\" points=\"2853.0686,-366.5858 2858.5879,-357.5422 2848.6335,-361.17 2853.0686,-366.5858\"/>\n</g>\n<!-- 83 -->\n<g id=\"node84\" class=\"node\">\n<title>83</title>\n<polygon fill=\"none\" stroke=\"#000000\" points=\"3975.5,-885 3850.5,-885 3850.5,-817 3975.5,-817 3975.5,-885\"/>\n<text text-anchor=\"middle\" x=\"3913\" y=\"-869.8\" font-family=\"Times,serif\" font-size=\"14.00\" fill=\"#000000\">left_weight &lt;= 2.5</text>\n<text text-anchor=\"middle\" x=\"3913\" y=\"-854.8\" font-family=\"Times,serif\" font-size=\"14.00\" fill=\"#000000\">gini = 0.541</text>\n<text text-anchor=\"middle\" x=\"3913\" y=\"-839.8\" font-family=\"Times,serif\" font-size=\"14.00\" fill=\"#000000\">samples = 100</text>\n<text text-anchor=\"middle\" x=\"3913\" y=\"-824.8\" font-family=\"Times,serif\" font-size=\"14.00\" fill=\"#000000\">value = [9, 59, 32]</text>\n</g>\n<!-- 82&#45;&gt;83 -->\n<g id=\"edge83\" class=\"edge\">\n<title>82&#45;&gt;83</title>\n<path fill=\"none\" stroke=\"#000000\" d=\"M3913,-920.9465C3913,-912.776 3913,-903.9318 3913,-895.3697\"/>\n<polygon fill=\"#000000\" stroke=\"#000000\" points=\"3916.5001,-895.13 3913,-885.13 3909.5001,-895.13 3916.5001,-895.13\"/>\n</g>\n<!-- 142 -->\n<g id=\"node143\" class=\"node\">\n<title>142</title>\n<polygon fill=\"none\" stroke=\"#000000\" points=\"5252,-885 5112,-885 5112,-817 5252,-817 5252,-885\"/>\n<text text-anchor=\"middle\" x=\"5182\" y=\"-869.8\" font-family=\"Times,serif\" font-size=\"14.00\" fill=\"#000000\">left_distance &lt;= 3.5</text>\n<text text-anchor=\"middle\" x=\"5182\" y=\"-854.8\" font-family=\"Times,serif\" font-size=\"14.00\" fill=\"#000000\">gini = 0.34</text>\n<text text-anchor=\"middle\" x=\"5182\" y=\"-839.8\" font-family=\"Times,serif\" font-size=\"14.00\" fill=\"#000000\">samples = 169</text>\n<text text-anchor=\"middle\" x=\"5182\" y=\"-824.8\" font-family=\"Times,serif\" font-size=\"14.00\" fill=\"#000000\">value = [12, 22, 135]</text>\n</g>\n<!-- 82&#45;&gt;142 -->\n<g id=\"edge142\" class=\"edge\">\n<title>82&#45;&gt;142</title>\n<path fill=\"none\" stroke=\"#000000\" d=\"M3983.0345,-949.2604C4201.523,-931.3543 4869.8445,-876.5825 5101.7422,-857.5775\"/>\n<polygon fill=\"#000000\" stroke=\"#000000\" points=\"5102.1116,-861.059 5111.7923,-856.7538 5101.5398,-854.0824 5102.1116,-861.059\"/>\n</g>\n<!-- 84 -->\n<g id=\"node85\" class=\"node\">\n<title>84</title>\n<polygon fill=\"none\" stroke=\"#000000\" points=\"3653.5,-781 3522.5,-781 3522.5,-713 3653.5,-713 3653.5,-781\"/>\n<text text-anchor=\"middle\" x=\"3588\" y=\"-765.8\" font-family=\"Times,serif\" font-size=\"14.00\" fill=\"#000000\">left_distance &lt;= 2.5</text>\n<text text-anchor=\"middle\" x=\"3588\" y=\"-750.8\" font-family=\"Times,serif\" font-size=\"14.00\" fill=\"#000000\">gini = 0.542</text>\n<text text-anchor=\"middle\" x=\"3588\" y=\"-735.8\" font-family=\"Times,serif\" font-size=\"14.00\" fill=\"#000000\">samples = 37</text>\n<text text-anchor=\"middle\" x=\"3588\" y=\"-720.8\" font-family=\"Times,serif\" font-size=\"14.00\" fill=\"#000000\">value = [7, 7, 23]</text>\n</g>\n<!-- 83&#45;&gt;84 -->\n<g id=\"edge84\" class=\"edge\">\n<title>83&#45;&gt;84</title>\n<path fill=\"none\" stroke=\"#000000\" d=\"M3850.3367,-830.9478C3796.8929,-813.8457 3719.9263,-789.2164 3663.1744,-771.0558\"/>\n<polygon fill=\"#000000\" stroke=\"#000000\" points=\"3664.1274,-767.686 3653.5364,-767.9716 3661.9939,-774.353 3664.1274,-767.686\"/>\n</g>\n<!-- 117 -->\n<g id=\"node118\" class=\"node\">\n<title>117</title>\n<polygon fill=\"none\" stroke=\"#000000\" points=\"4163.5,-781 4032.5,-781 4032.5,-713 4163.5,-713 4163.5,-781\"/>\n<text text-anchor=\"middle\" x=\"4098\" y=\"-765.8\" font-family=\"Times,serif\" font-size=\"14.00\" fill=\"#000000\">left_distance &lt;= 1.5</text>\n<text text-anchor=\"middle\" x=\"4098\" y=\"-750.8\" font-family=\"Times,serif\" font-size=\"14.00\" fill=\"#000000\">gini = 0.297</text>\n<text text-anchor=\"middle\" x=\"4098\" y=\"-735.8\" font-family=\"Times,serif\" font-size=\"14.00\" fill=\"#000000\">samples = 63</text>\n<text text-anchor=\"middle\" x=\"4098\" y=\"-720.8\" font-family=\"Times,serif\" font-size=\"14.00\" fill=\"#000000\">value = [2, 52, 9]</text>\n</g>\n<!-- 83&#45;&gt;117 -->\n<g id=\"edge117\" class=\"edge\">\n<title>83&#45;&gt;117</title>\n<path fill=\"none\" stroke=\"#000000\" d=\"M3973.5759,-816.9465C3991.1445,-807.0701 4010.4643,-796.2093 4028.5321,-786.0522\"/>\n<polygon fill=\"#000000\" stroke=\"#000000\" points=\"4030.2861,-789.0814 4037.288,-781.13 4026.8558,-782.9795 4030.2861,-789.0814\"/>\n</g>\n<!-- 85 -->\n<g id=\"node86\" class=\"node\">\n<title>85</title>\n<polygon fill=\"none\" stroke=\"#000000\" points=\"3236,-677 3112,-677 3112,-609 3236,-609 3236,-677\"/>\n<text text-anchor=\"middle\" x=\"3174\" y=\"-661.8\" font-family=\"Times,serif\" font-size=\"14.00\" fill=\"#000000\">left_weight &lt;= 1.5</text>\n<text text-anchor=\"middle\" x=\"3174\" y=\"-646.8\" font-family=\"Times,serif\" font-size=\"14.00\" fill=\"#000000\">gini = 0.227</text>\n<text text-anchor=\"middle\" x=\"3174\" y=\"-631.8\" font-family=\"Times,serif\" font-size=\"14.00\" fill=\"#000000\">samples = 16</text>\n<text text-anchor=\"middle\" x=\"3174\" y=\"-616.8\" font-family=\"Times,serif\" font-size=\"14.00\" fill=\"#000000\">value = [1, 1, 14]</text>\n</g>\n<!-- 84&#45;&gt;85 -->\n<g id=\"edge85\" class=\"edge\">\n<title>84&#45;&gt;85</title>\n<path fill=\"none\" stroke=\"#000000\" d=\"M3522.4005,-730.5209C3447.0756,-711.5987 3323.9005,-680.6562 3245.9881,-661.084\"/>\n<polygon fill=\"#000000\" stroke=\"#000000\" points=\"3246.7983,-657.6788 3236.2469,-658.6369 3245.0928,-664.4679 3246.7983,-657.6788\"/>\n</g>\n<!-- 96 -->\n<g id=\"node97\" class=\"node\">\n<title>96</title>\n<polygon fill=\"none\" stroke=\"#000000\" points=\"3654.5,-677 3521.5,-677 3521.5,-609 3654.5,-609 3654.5,-677\"/>\n<text text-anchor=\"middle\" x=\"3588\" y=\"-661.8\" font-family=\"Times,serif\" font-size=\"14.00\" fill=\"#000000\">right_weight &lt;= 1.5</text>\n<text text-anchor=\"middle\" x=\"3588\" y=\"-646.8\" font-family=\"Times,serif\" font-size=\"14.00\" fill=\"#000000\">gini = 0.653</text>\n<text text-anchor=\"middle\" x=\"3588\" y=\"-631.8\" font-family=\"Times,serif\" font-size=\"14.00\" fill=\"#000000\">samples = 21</text>\n<text text-anchor=\"middle\" x=\"3588\" y=\"-616.8\" font-family=\"Times,serif\" font-size=\"14.00\" fill=\"#000000\">value = [6, 6, 9]</text>\n</g>\n<!-- 84&#45;&gt;96 -->\n<g id=\"edge96\" class=\"edge\">\n<title>84&#45;&gt;96</title>\n<path fill=\"none\" stroke=\"#000000\" d=\"M3588,-712.9465C3588,-704.776 3588,-695.9318 3588,-687.3697\"/>\n<polygon fill=\"#000000\" stroke=\"#000000\" points=\"3591.5001,-687.13 3588,-677.13 3584.5001,-687.13 3591.5001,-687.13\"/>\n</g>\n<!-- 86 -->\n<g id=\"node87\" class=\"node\">\n<title>86</title>\n<polygon fill=\"none\" stroke=\"#000000\" points=\"3085.5,-565.5 2968.5,-565.5 2968.5,-512.5 3085.5,-512.5 3085.5,-565.5\"/>\n<text text-anchor=\"middle\" x=\"3027\" y=\"-550.3\" font-family=\"Times,serif\" font-size=\"14.00\" fill=\"#000000\">gini = 0.0</text>\n<text text-anchor=\"middle\" x=\"3027\" y=\"-535.3\" font-family=\"Times,serif\" font-size=\"14.00\" fill=\"#000000\">samples = 10</text>\n<text text-anchor=\"middle\" x=\"3027\" y=\"-520.3\" font-family=\"Times,serif\" font-size=\"14.00\" fill=\"#000000\">value = [0, 0, 10]</text>\n</g>\n<!-- 85&#45;&gt;86 -->\n<g id=\"edge86\" class=\"edge\">\n<title>85&#45;&gt;86</title>\n<path fill=\"none\" stroke=\"#000000\" d=\"M3125.8667,-608.9465C3108.8963,-596.9403 3089.8696,-583.4791 3073.0735,-571.5962\"/>\n<polygon fill=\"#000000\" stroke=\"#000000\" points=\"3074.7013,-568.4605 3064.5163,-565.5422 3070.6584,-574.175 3074.7013,-568.4605\"/>\n</g>\n<!-- 87 -->\n<g id=\"node88\" class=\"node\">\n<title>87</title>\n<polygon fill=\"none\" stroke=\"#000000\" points=\"3244,-573 3104,-573 3104,-505 3244,-505 3244,-573\"/>\n<text text-anchor=\"middle\" x=\"3174\" y=\"-557.8\" font-family=\"Times,serif\" font-size=\"14.00\" fill=\"#000000\">right_distance &lt;= 3.5</text>\n<text text-anchor=\"middle\" x=\"3174\" y=\"-542.8\" font-family=\"Times,serif\" font-size=\"14.00\" fill=\"#000000\">gini = 0.5</text>\n<text text-anchor=\"middle\" x=\"3174\" y=\"-527.8\" font-family=\"Times,serif\" font-size=\"14.00\" fill=\"#000000\">samples = 6</text>\n<text text-anchor=\"middle\" x=\"3174\" y=\"-512.8\" font-family=\"Times,serif\" font-size=\"14.00\" fill=\"#000000\">value = [1, 1, 4]</text>\n</g>\n<!-- 85&#45;&gt;87 -->\n<g id=\"edge87\" class=\"edge\">\n<title>85&#45;&gt;87</title>\n<path fill=\"none\" stroke=\"#000000\" d=\"M3174,-608.9465C3174,-600.776 3174,-591.9318 3174,-583.3697\"/>\n<polygon fill=\"#000000\" stroke=\"#000000\" points=\"3177.5001,-583.13 3174,-573.13 3170.5001,-583.13 3177.5001,-583.13\"/>\n</g>\n<!-- 88 -->\n<g id=\"node89\" class=\"node\">\n<title>88</title>\n<polygon fill=\"none\" stroke=\"#000000\" points=\"3090,-461.5 2980,-461.5 2980,-408.5 3090,-408.5 3090,-461.5\"/>\n<text text-anchor=\"middle\" x=\"3035\" y=\"-446.3\" font-family=\"Times,serif\" font-size=\"14.00\" fill=\"#000000\">gini = 0.0</text>\n<text text-anchor=\"middle\" x=\"3035\" y=\"-431.3\" font-family=\"Times,serif\" font-size=\"14.00\" fill=\"#000000\">samples = 1</text>\n<text text-anchor=\"middle\" x=\"3035\" y=\"-416.3\" font-family=\"Times,serif\" font-size=\"14.00\" fill=\"#000000\">value = [0, 1, 0]</text>\n</g>\n<!-- 87&#45;&gt;88 -->\n<g id=\"edge88\" class=\"edge\">\n<title>87&#45;&gt;88</title>\n<path fill=\"none\" stroke=\"#000000\" d=\"M3128.4862,-504.9465C3112.4394,-492.9403 3094.4481,-479.4791 3078.5661,-467.5962\"/>\n<polygon fill=\"#000000\" stroke=\"#000000\" points=\"3080.5783,-464.7306 3070.4746,-461.5422 3076.3848,-470.3354 3080.5783,-464.7306\"/>\n</g>\n<!-- 89 -->\n<g id=\"node90\" class=\"node\">\n<title>89</title>\n<polygon fill=\"none\" stroke=\"#000000\" points=\"3239.5,-469 3108.5,-469 3108.5,-401 3239.5,-401 3239.5,-469\"/>\n<text text-anchor=\"middle\" x=\"3174\" y=\"-453.8\" font-family=\"Times,serif\" font-size=\"14.00\" fill=\"#000000\">left_distance &lt;= 1.5</text>\n<text text-anchor=\"middle\" x=\"3174\" y=\"-438.8\" font-family=\"Times,serif\" font-size=\"14.00\" fill=\"#000000\">gini = 0.32</text>\n<text text-anchor=\"middle\" x=\"3174\" y=\"-423.8\" font-family=\"Times,serif\" font-size=\"14.00\" fill=\"#000000\">samples = 5</text>\n<text text-anchor=\"middle\" x=\"3174\" y=\"-408.8\" font-family=\"Times,serif\" font-size=\"14.00\" fill=\"#000000\">value = [1, 0, 4]</text>\n</g>\n<!-- 87&#45;&gt;89 -->\n<g id=\"edge89\" class=\"edge\">\n<title>87&#45;&gt;89</title>\n<path fill=\"none\" stroke=\"#000000\" d=\"M3174,-504.9465C3174,-496.776 3174,-487.9318 3174,-479.3697\"/>\n<polygon fill=\"#000000\" stroke=\"#000000\" points=\"3177.5001,-479.13 3174,-469.13 3170.5001,-479.13 3177.5001,-479.13\"/>\n</g>\n<!-- 90 -->\n<g id=\"node91\" class=\"node\">\n<title>90</title>\n<polygon fill=\"none\" stroke=\"#000000\" points=\"3079,-357.5 2969,-357.5 2969,-304.5 3079,-304.5 3079,-357.5\"/>\n<text text-anchor=\"middle\" x=\"3024\" y=\"-342.3\" font-family=\"Times,serif\" font-size=\"14.00\" fill=\"#000000\">gini = 0.0</text>\n<text text-anchor=\"middle\" x=\"3024\" y=\"-327.3\" font-family=\"Times,serif\" font-size=\"14.00\" fill=\"#000000\">samples = 2</text>\n<text text-anchor=\"middle\" x=\"3024\" y=\"-312.3\" font-family=\"Times,serif\" font-size=\"14.00\" fill=\"#000000\">value = [0, 0, 2]</text>\n</g>\n<!-- 89&#45;&gt;90 -->\n<g id=\"edge90\" class=\"edge\">\n<title>89&#45;&gt;90</title>\n<path fill=\"none\" stroke=\"#000000\" d=\"M3124.8844,-400.9465C3107.4088,-388.8301 3087.7962,-375.232 3070.5427,-363.2696\"/>\n<polygon fill=\"#000000\" stroke=\"#000000\" points=\"3072.4942,-360.3637 3062.282,-357.5422 3068.5057,-366.1163 3072.4942,-360.3637\"/>\n</g>\n<!-- 91 -->\n<g id=\"node92\" class=\"node\">\n<title>91</title>\n<polygon fill=\"none\" stroke=\"#000000\" points=\"3237,-365 3097,-365 3097,-297 3237,-297 3237,-365\"/>\n<text text-anchor=\"middle\" x=\"3167\" y=\"-349.8\" font-family=\"Times,serif\" font-size=\"14.00\" fill=\"#000000\">right_distance &lt;= 4.5</text>\n<text text-anchor=\"middle\" x=\"3167\" y=\"-334.8\" font-family=\"Times,serif\" font-size=\"14.00\" fill=\"#000000\">gini = 0.444</text>\n<text text-anchor=\"middle\" x=\"3167\" y=\"-319.8\" font-family=\"Times,serif\" font-size=\"14.00\" fill=\"#000000\">samples = 3</text>\n<text text-anchor=\"middle\" x=\"3167\" y=\"-304.8\" font-family=\"Times,serif\" font-size=\"14.00\" fill=\"#000000\">value = [1, 0, 2]</text>\n</g>\n<!-- 89&#45;&gt;91 -->\n<g id=\"edge91\" class=\"edge\">\n<title>89&#45;&gt;91</title>\n<path fill=\"none\" stroke=\"#000000\" d=\"M3171.7079,-400.9465C3171.158,-392.776 3170.5627,-383.9318 3169.9864,-375.3697\"/>\n<polygon fill=\"#000000\" stroke=\"#000000\" points=\"3173.461,-374.8723 3169.2972,-365.13 3166.4768,-375.3425 3173.461,-374.8723\"/>\n</g>\n<!-- 92 -->\n<g id=\"node93\" class=\"node\">\n<title>92</title>\n<polygon fill=\"none\" stroke=\"#000000\" points=\"3013.5,-261 2880.5,-261 2880.5,-193 3013.5,-193 3013.5,-261\"/>\n<text text-anchor=\"middle\" x=\"2947\" y=\"-245.8\" font-family=\"Times,serif\" font-size=\"14.00\" fill=\"#000000\">right_weight &lt;= 1.5</text>\n<text text-anchor=\"middle\" x=\"2947\" y=\"-230.8\" font-family=\"Times,serif\" font-size=\"14.00\" fill=\"#000000\">gini = 0.5</text>\n<text text-anchor=\"middle\" x=\"2947\" y=\"-215.8\" font-family=\"Times,serif\" font-size=\"14.00\" fill=\"#000000\">samples = 2</text>\n<text text-anchor=\"middle\" x=\"2947\" y=\"-200.8\" font-family=\"Times,serif\" font-size=\"14.00\" fill=\"#000000\">value = [1, 0, 1]</text>\n</g>\n<!-- 91&#45;&gt;92 -->\n<g id=\"edge92\" class=\"edge\">\n<title>91&#45;&gt;92</title>\n<path fill=\"none\" stroke=\"#000000\" d=\"M3096.7858,-297.8078C3073.1465,-286.6329 3046.6742,-274.1187 3022.6357,-262.7551\"/>\n<polygon fill=\"#000000\" stroke=\"#000000\" points=\"3024.0895,-259.571 3013.5529,-258.4614 3021.0978,-265.8995 3024.0895,-259.571\"/>\n</g>\n<!-- 95 -->\n<g id=\"node96\" class=\"node\">\n<title>95</title>\n<polygon fill=\"none\" stroke=\"#000000\" points=\"3142,-253.5 3032,-253.5 3032,-200.5 3142,-200.5 3142,-253.5\"/>\n<text text-anchor=\"middle\" x=\"3087\" y=\"-238.3\" font-family=\"Times,serif\" font-size=\"14.00\" fill=\"#000000\">gini = 0.0</text>\n<text text-anchor=\"middle\" x=\"3087\" y=\"-223.3\" font-family=\"Times,serif\" font-size=\"14.00\" fill=\"#000000\">samples = 1</text>\n<text text-anchor=\"middle\" x=\"3087\" y=\"-208.3\" font-family=\"Times,serif\" font-size=\"14.00\" fill=\"#000000\">value = [0, 0, 1]</text>\n</g>\n<!-- 91&#45;&gt;95 -->\n<g id=\"edge95\" class=\"edge\">\n<title>91&#45;&gt;95</title>\n<path fill=\"none\" stroke=\"#000000\" d=\"M3140.805,-296.9465C3132.0778,-285.6012 3122.3513,-272.9567 3113.5941,-261.5724\"/>\n<polygon fill=\"#000000\" stroke=\"#000000\" points=\"3116.2884,-259.3344 3107.417,-253.5422 3110.74,-263.6024 3116.2884,-259.3344\"/>\n</g>\n<!-- 93 -->\n<g id=\"node94\" class=\"node\">\n<title>93</title>\n<polygon fill=\"none\" stroke=\"#000000\" points=\"2938,-149.5 2828,-149.5 2828,-96.5 2938,-96.5 2938,-149.5\"/>\n<text text-anchor=\"middle\" x=\"2883\" y=\"-134.3\" font-family=\"Times,serif\" font-size=\"14.00\" fill=\"#000000\">gini = 0.0</text>\n<text text-anchor=\"middle\" x=\"2883\" y=\"-119.3\" font-family=\"Times,serif\" font-size=\"14.00\" fill=\"#000000\">samples = 1</text>\n<text text-anchor=\"middle\" x=\"2883\" y=\"-104.3\" font-family=\"Times,serif\" font-size=\"14.00\" fill=\"#000000\">value = [1, 0, 0]</text>\n</g>\n<!-- 92&#45;&gt;93 -->\n<g id=\"edge93\" class=\"edge\">\n<title>92&#45;&gt;93</title>\n<path fill=\"none\" stroke=\"#000000\" d=\"M2926.044,-192.9465C2919.1978,-181.8215 2911.5829,-169.4473 2904.6843,-158.237\"/>\n<polygon fill=\"#000000\" stroke=\"#000000\" points=\"2907.5555,-156.2244 2899.3336,-149.5422 2901.5939,-159.8931 2907.5555,-156.2244\"/>\n</g>\n<!-- 94 -->\n<g id=\"node95\" class=\"node\">\n<title>94</title>\n<polygon fill=\"none\" stroke=\"#000000\" points=\"3066,-149.5 2956,-149.5 2956,-96.5 3066,-96.5 3066,-149.5\"/>\n<text text-anchor=\"middle\" x=\"3011\" y=\"-134.3\" font-family=\"Times,serif\" font-size=\"14.00\" fill=\"#000000\">gini = 0.0</text>\n<text text-anchor=\"middle\" x=\"3011\" y=\"-119.3\" font-family=\"Times,serif\" font-size=\"14.00\" fill=\"#000000\">samples = 1</text>\n<text text-anchor=\"middle\" x=\"3011\" y=\"-104.3\" font-family=\"Times,serif\" font-size=\"14.00\" fill=\"#000000\">value = [0, 0, 1]</text>\n</g>\n<!-- 92&#45;&gt;94 -->\n<g id=\"edge94\" class=\"edge\">\n<title>92&#45;&gt;94</title>\n<path fill=\"none\" stroke=\"#000000\" d=\"M2967.956,-192.9465C2974.8022,-181.8215 2982.4171,-169.4473 2989.3157,-158.237\"/>\n<polygon fill=\"#000000\" stroke=\"#000000\" points=\"2992.4061,-159.8931 2994.6664,-149.5422 2986.4445,-156.2244 2992.4061,-159.8931\"/>\n</g>\n<!-- 97 -->\n<g id=\"node98\" class=\"node\">\n<title>97</title>\n<polygon fill=\"none\" stroke=\"#000000\" points=\"3579,-573 3455,-573 3455,-505 3579,-505 3579,-573\"/>\n<text text-anchor=\"middle\" x=\"3517\" y=\"-557.8\" font-family=\"Times,serif\" font-size=\"14.00\" fill=\"#000000\">left_weight &lt;= 1.5</text>\n<text text-anchor=\"middle\" x=\"3517\" y=\"-542.8\" font-family=\"Times,serif\" font-size=\"14.00\" fill=\"#000000\">gini = 0.595</text>\n<text text-anchor=\"middle\" x=\"3517\" y=\"-527.8\" font-family=\"Times,serif\" font-size=\"14.00\" fill=\"#000000\">samples = 11</text>\n<text text-anchor=\"middle\" x=\"3517\" y=\"-512.8\" font-family=\"Times,serif\" font-size=\"14.00\" fill=\"#000000\">value = [3, 6, 2]</text>\n</g>\n<!-- 96&#45;&gt;97 -->\n<g id=\"edge97\" class=\"edge\">\n<title>96&#45;&gt;97</title>\n<path fill=\"none\" stroke=\"#000000\" d=\"M3564.7519,-608.9465C3558.745,-600.1475 3552.2045,-590.5672 3545.9457,-581.3993\"/>\n<polygon fill=\"#000000\" stroke=\"#000000\" points=\"3548.8293,-579.4155 3540.3003,-573.13 3543.048,-583.3623 3548.8293,-579.4155\"/>\n</g>\n<!-- 110 -->\n<g id=\"node111\" class=\"node\">\n<title>110</title>\n<polygon fill=\"none\" stroke=\"#000000\" points=\"3721,-573 3597,-573 3597,-505 3721,-505 3721,-573\"/>\n<text text-anchor=\"middle\" x=\"3659\" y=\"-557.8\" font-family=\"Times,serif\" font-size=\"14.00\" fill=\"#000000\">left_weight &lt;= 1.5</text>\n<text text-anchor=\"middle\" x=\"3659\" y=\"-542.8\" font-family=\"Times,serif\" font-size=\"14.00\" fill=\"#000000\">gini = 0.42</text>\n<text text-anchor=\"middle\" x=\"3659\" y=\"-527.8\" font-family=\"Times,serif\" font-size=\"14.00\" fill=\"#000000\">samples = 10</text>\n<text text-anchor=\"middle\" x=\"3659\" y=\"-512.8\" font-family=\"Times,serif\" font-size=\"14.00\" fill=\"#000000\">value = [3, 0, 7]</text>\n</g>\n<!-- 96&#45;&gt;110 -->\n<g id=\"edge110\" class=\"edge\">\n<title>96&#45;&gt;110</title>\n<path fill=\"none\" stroke=\"#000000\" d=\"M3611.2481,-608.9465C3617.255,-600.1475 3623.7955,-590.5672 3630.0543,-581.3993\"/>\n<polygon fill=\"#000000\" stroke=\"#000000\" points=\"3632.952,-583.3623 3635.6997,-573.13 3627.1707,-579.4155 3632.952,-583.3623\"/>\n</g>\n<!-- 98 -->\n<g id=\"node99\" class=\"node\">\n<title>98</title>\n<polygon fill=\"none\" stroke=\"#000000\" points=\"3448,-469 3308,-469 3308,-401 3448,-401 3448,-469\"/>\n<text text-anchor=\"middle\" x=\"3378\" y=\"-453.8\" font-family=\"Times,serif\" font-size=\"14.00\" fill=\"#000000\">right_distance &lt;= 4.5</text>\n<text text-anchor=\"middle\" x=\"3378\" y=\"-438.8\" font-family=\"Times,serif\" font-size=\"14.00\" fill=\"#000000\">gini = 0.653</text>\n<text text-anchor=\"middle\" x=\"3378\" y=\"-423.8\" font-family=\"Times,serif\" font-size=\"14.00\" fill=\"#000000\">samples = 7</text>\n<text text-anchor=\"middle\" x=\"3378\" y=\"-408.8\" font-family=\"Times,serif\" font-size=\"14.00\" fill=\"#000000\">value = [3, 2, 2]</text>\n</g>\n<!-- 97&#45;&gt;98 -->\n<g id=\"edge98\" class=\"edge\">\n<title>97&#45;&gt;98</title>\n<path fill=\"none\" stroke=\"#000000\" d=\"M3471.4862,-504.9465C3458.766,-495.4293 3444.824,-484.9978 3431.6794,-475.163\"/>\n<polygon fill=\"#000000\" stroke=\"#000000\" points=\"3433.7198,-472.3184 3423.6161,-469.13 3429.5262,-477.9232 3433.7198,-472.3184\"/>\n</g>\n<!-- 109 -->\n<g id=\"node110\" class=\"node\">\n<title>109</title>\n<polygon fill=\"none\" stroke=\"#000000\" points=\"3576,-461.5 3466,-461.5 3466,-408.5 3576,-408.5 3576,-461.5\"/>\n<text text-anchor=\"middle\" x=\"3521\" y=\"-446.3\" font-family=\"Times,serif\" font-size=\"14.00\" fill=\"#000000\">gini = 0.0</text>\n<text text-anchor=\"middle\" x=\"3521\" y=\"-431.3\" font-family=\"Times,serif\" font-size=\"14.00\" fill=\"#000000\">samples = 4</text>\n<text text-anchor=\"middle\" x=\"3521\" y=\"-416.3\" font-family=\"Times,serif\" font-size=\"14.00\" fill=\"#000000\">value = [0, 4, 0]</text>\n</g>\n<!-- 97&#45;&gt;109 -->\n<g id=\"edge109\" class=\"edge\">\n<title>97&#45;&gt;109</title>\n<path fill=\"none\" stroke=\"#000000\" d=\"M3518.3097,-504.9465C3518.7207,-494.2621 3519.1759,-482.4254 3519.5933,-471.5742\"/>\n<polygon fill=\"#000000\" stroke=\"#000000\" points=\"3523.0921,-471.6693 3519.9791,-461.5422 3516.0973,-471.4002 3523.0921,-471.6693\"/>\n</g>\n<!-- 99 -->\n<g id=\"node100\" class=\"node\">\n<title>99</title>\n<polygon fill=\"none\" stroke=\"#000000\" points=\"3414.5,-365 3283.5,-365 3283.5,-297 3414.5,-297 3414.5,-365\"/>\n<text text-anchor=\"middle\" x=\"3349\" y=\"-349.8\" font-family=\"Times,serif\" font-size=\"14.00\" fill=\"#000000\">left_distance &lt;= 3.5</text>\n<text text-anchor=\"middle\" x=\"3349\" y=\"-334.8\" font-family=\"Times,serif\" font-size=\"14.00\" fill=\"#000000\">gini = 0.5</text>\n<text text-anchor=\"middle\" x=\"3349\" y=\"-319.8\" font-family=\"Times,serif\" font-size=\"14.00\" fill=\"#000000\">samples = 4</text>\n<text text-anchor=\"middle\" x=\"3349\" y=\"-304.8\" font-family=\"Times,serif\" font-size=\"14.00\" fill=\"#000000\">value = [2, 2, 0]</text>\n</g>\n<!-- 98&#45;&gt;99 -->\n<g id=\"edge99\" class=\"edge\">\n<title>98&#45;&gt;99</title>\n<path fill=\"none\" stroke=\"#000000\" d=\"M3368.5043,-400.9465C3366.1759,-392.5965 3363.6513,-383.5427 3361.215,-374.8056\"/>\n<polygon fill=\"#000000\" stroke=\"#000000\" points=\"3364.5745,-373.8224 3358.517,-365.13 3357.8317,-375.7026 3364.5745,-373.8224\"/>\n</g>\n<!-- 106 -->\n<g id=\"node107\" class=\"node\">\n<title>106</title>\n<polygon fill=\"none\" stroke=\"#000000\" points=\"3563.5,-365 3432.5,-365 3432.5,-297 3563.5,-297 3563.5,-365\"/>\n<text text-anchor=\"middle\" x=\"3498\" y=\"-349.8\" font-family=\"Times,serif\" font-size=\"14.00\" fill=\"#000000\">left_distance &lt;= 4.5</text>\n<text text-anchor=\"middle\" x=\"3498\" y=\"-334.8\" font-family=\"Times,serif\" font-size=\"14.00\" fill=\"#000000\">gini = 0.444</text>\n<text text-anchor=\"middle\" x=\"3498\" y=\"-319.8\" font-family=\"Times,serif\" font-size=\"14.00\" fill=\"#000000\">samples = 3</text>\n<text text-anchor=\"middle\" x=\"3498\" y=\"-304.8\" font-family=\"Times,serif\" font-size=\"14.00\" fill=\"#000000\">value = [1, 0, 2]</text>\n</g>\n<!-- 98&#45;&gt;106 -->\n<g id=\"edge106\" class=\"edge\">\n<title>98&#45;&gt;106</title>\n<path fill=\"none\" stroke=\"#000000\" d=\"M3417.2925,-400.9465C3428.0667,-391.6088 3439.8564,-381.3911 3451.015,-371.7203\"/>\n<polygon fill=\"#000000\" stroke=\"#000000\" points=\"3453.3546,-374.3243 3458.6192,-365.13 3448.7701,-369.0344 3453.3546,-374.3243\"/>\n</g>\n<!-- 100 -->\n<g id=\"node101\" class=\"node\">\n<title>100</title>\n<polygon fill=\"none\" stroke=\"#000000\" points=\"3270,-253.5 3160,-253.5 3160,-200.5 3270,-200.5 3270,-253.5\"/>\n<text text-anchor=\"middle\" x=\"3215\" y=\"-238.3\" font-family=\"Times,serif\" font-size=\"14.00\" fill=\"#000000\">gini = 0.0</text>\n<text text-anchor=\"middle\" x=\"3215\" y=\"-223.3\" font-family=\"Times,serif\" font-size=\"14.00\" fill=\"#000000\">samples = 1</text>\n<text text-anchor=\"middle\" x=\"3215\" y=\"-208.3\" font-family=\"Times,serif\" font-size=\"14.00\" fill=\"#000000\">value = [1, 0, 0]</text>\n</g>\n<!-- 99&#45;&gt;100 -->\n<g id=\"edge100\" class=\"edge\">\n<title>99&#45;&gt;100</title>\n<path fill=\"none\" stroke=\"#000000\" d=\"M3305.1234,-296.9465C3289.7957,-285.0504 3272.6277,-271.726 3257.4209,-259.9237\"/>\n<polygon fill=\"#000000\" stroke=\"#000000\" points=\"3259.2444,-256.9085 3249.1986,-253.5422 3254.9525,-262.4384 3259.2444,-256.9085\"/>\n</g>\n<!-- 101 -->\n<g id=\"node102\" class=\"node\">\n<title>101</title>\n<polygon fill=\"none\" stroke=\"#000000\" points=\"3419.5,-261 3288.5,-261 3288.5,-193 3419.5,-193 3419.5,-261\"/>\n<text text-anchor=\"middle\" x=\"3354\" y=\"-245.8\" font-family=\"Times,serif\" font-size=\"14.00\" fill=\"#000000\">left_distance &lt;= 4.5</text>\n<text text-anchor=\"middle\" x=\"3354\" y=\"-230.8\" font-family=\"Times,serif\" font-size=\"14.00\" fill=\"#000000\">gini = 0.444</text>\n<text text-anchor=\"middle\" x=\"3354\" y=\"-215.8\" font-family=\"Times,serif\" font-size=\"14.00\" fill=\"#000000\">samples = 3</text>\n<text text-anchor=\"middle\" x=\"3354\" y=\"-200.8\" font-family=\"Times,serif\" font-size=\"14.00\" fill=\"#000000\">value = [1, 2, 0]</text>\n</g>\n<!-- 99&#45;&gt;101 -->\n<g id=\"edge101\" class=\"edge\">\n<title>99&#45;&gt;101</title>\n<path fill=\"none\" stroke=\"#000000\" d=\"M3350.6372,-296.9465C3351.03,-288.776 3351.4552,-279.9318 3351.8668,-271.3697\"/>\n<polygon fill=\"#000000\" stroke=\"#000000\" points=\"3355.3748,-271.2866 3352.3591,-261.13 3348.3829,-270.9504 3355.3748,-271.2866\"/>\n</g>\n<!-- 102 -->\n<g id=\"node103\" class=\"node\">\n<title>102</title>\n<polygon fill=\"none\" stroke=\"#000000\" points=\"3353,-157 3213,-157 3213,-89 3353,-89 3353,-157\"/>\n<text text-anchor=\"middle\" x=\"3283\" y=\"-141.8\" font-family=\"Times,serif\" font-size=\"14.00\" fill=\"#000000\">right_distance &lt;= 3.5</text>\n<text text-anchor=\"middle\" x=\"3283\" y=\"-126.8\" font-family=\"Times,serif\" font-size=\"14.00\" fill=\"#000000\">gini = 0.5</text>\n<text text-anchor=\"middle\" x=\"3283\" y=\"-111.8\" font-family=\"Times,serif\" font-size=\"14.00\" fill=\"#000000\">samples = 2</text>\n<text text-anchor=\"middle\" x=\"3283\" y=\"-96.8\" font-family=\"Times,serif\" font-size=\"14.00\" fill=\"#000000\">value = [1, 1, 0]</text>\n</g>\n<!-- 101&#45;&gt;102 -->\n<g id=\"edge102\" class=\"edge\">\n<title>101&#45;&gt;102</title>\n<path fill=\"none\" stroke=\"#000000\" d=\"M3330.7519,-192.9465C3324.745,-184.1475 3318.2045,-174.5672 3311.9457,-165.3993\"/>\n<polygon fill=\"#000000\" stroke=\"#000000\" points=\"3314.8293,-163.4155 3306.3003,-157.13 3309.048,-167.3623 3314.8293,-163.4155\"/>\n</g>\n<!-- 105 -->\n<g id=\"node106\" class=\"node\">\n<title>105</title>\n<polygon fill=\"none\" stroke=\"#000000\" points=\"3481,-149.5 3371,-149.5 3371,-96.5 3481,-96.5 3481,-149.5\"/>\n<text text-anchor=\"middle\" x=\"3426\" y=\"-134.3\" font-family=\"Times,serif\" font-size=\"14.00\" fill=\"#000000\">gini = 0.0</text>\n<text text-anchor=\"middle\" x=\"3426\" y=\"-119.3\" font-family=\"Times,serif\" font-size=\"14.00\" fill=\"#000000\">samples = 1</text>\n<text text-anchor=\"middle\" x=\"3426\" y=\"-104.3\" font-family=\"Times,serif\" font-size=\"14.00\" fill=\"#000000\">value = [0, 1, 0]</text>\n</g>\n<!-- 101&#45;&gt;105 -->\n<g id=\"edge105\" class=\"edge\">\n<title>101&#45;&gt;105</title>\n<path fill=\"none\" stroke=\"#000000\" d=\"M3377.5755,-192.9465C3385.3537,-181.7113 3394.0139,-169.2021 3401.8355,-157.9043\"/>\n<polygon fill=\"#000000\" stroke=\"#000000\" points=\"3404.8102,-159.7564 3407.6247,-149.5422 3399.0548,-155.7719 3404.8102,-159.7564\"/>\n</g>\n<!-- 103 -->\n<g id=\"node104\" class=\"node\">\n<title>103</title>\n<polygon fill=\"none\" stroke=\"#000000\" points=\"3274,-53 3164,-53 3164,0 3274,0 3274,-53\"/>\n<text text-anchor=\"middle\" x=\"3219\" y=\"-37.8\" font-family=\"Times,serif\" font-size=\"14.00\" fill=\"#000000\">gini = 0.0</text>\n<text text-anchor=\"middle\" x=\"3219\" y=\"-22.8\" font-family=\"Times,serif\" font-size=\"14.00\" fill=\"#000000\">samples = 1</text>\n<text text-anchor=\"middle\" x=\"3219\" y=\"-7.8\" font-family=\"Times,serif\" font-size=\"14.00\" fill=\"#000000\">value = [0, 1, 0]</text>\n</g>\n<!-- 102&#45;&gt;103 -->\n<g id=\"edge103\" class=\"edge\">\n<title>102&#45;&gt;103</title>\n<path fill=\"none\" stroke=\"#000000\" d=\"M3260.436,-88.9777C3254.6059,-80.187 3248.3169,-70.7044 3242.443,-61.8477\"/>\n<polygon fill=\"#000000\" stroke=\"#000000\" points=\"3245.1838,-59.6478 3236.7399,-53.2485 3239.3502,-63.5167 3245.1838,-59.6478\"/>\n</g>\n<!-- 104 -->\n<g id=\"node105\" class=\"node\">\n<title>104</title>\n<polygon fill=\"none\" stroke=\"#000000\" points=\"3402,-53 3292,-53 3292,0 3402,0 3402,-53\"/>\n<text text-anchor=\"middle\" x=\"3347\" y=\"-37.8\" font-family=\"Times,serif\" font-size=\"14.00\" fill=\"#000000\">gini = 0.0</text>\n<text text-anchor=\"middle\" x=\"3347\" y=\"-22.8\" font-family=\"Times,serif\" font-size=\"14.00\" fill=\"#000000\">samples = 1</text>\n<text text-anchor=\"middle\" x=\"3347\" y=\"-7.8\" font-family=\"Times,serif\" font-size=\"14.00\" fill=\"#000000\">value = [1, 0, 0]</text>\n</g>\n<!-- 102&#45;&gt;104 -->\n<g id=\"edge104\" class=\"edge\">\n<title>102&#45;&gt;104</title>\n<path fill=\"none\" stroke=\"#000000\" d=\"M3305.564,-88.9777C3311.3941,-80.187 3317.6831,-70.7044 3323.557,-61.8477\"/>\n<polygon fill=\"#000000\" stroke=\"#000000\" points=\"3326.6498,-63.5167 3329.2601,-53.2485 3320.8162,-59.6478 3326.6498,-63.5167\"/>\n</g>\n<!-- 107 -->\n<g id=\"node108\" class=\"node\">\n<title>107</title>\n<polygon fill=\"none\" stroke=\"#000000\" points=\"3548,-253.5 3438,-253.5 3438,-200.5 3548,-200.5 3548,-253.5\"/>\n<text text-anchor=\"middle\" x=\"3493\" y=\"-238.3\" font-family=\"Times,serif\" font-size=\"14.00\" fill=\"#000000\">gini = 0.0</text>\n<text text-anchor=\"middle\" x=\"3493\" y=\"-223.3\" font-family=\"Times,serif\" font-size=\"14.00\" fill=\"#000000\">samples = 2</text>\n<text text-anchor=\"middle\" x=\"3493\" y=\"-208.3\" font-family=\"Times,serif\" font-size=\"14.00\" fill=\"#000000\">value = [0, 0, 2]</text>\n</g>\n<!-- 106&#45;&gt;107 -->\n<g id=\"edge107\" class=\"edge\">\n<title>106&#45;&gt;107</title>\n<path fill=\"none\" stroke=\"#000000\" d=\"M3496.3628,-296.9465C3495.8491,-286.2621 3495.2801,-274.4254 3494.7584,-263.5742\"/>\n<polygon fill=\"#000000\" stroke=\"#000000\" points=\"3498.2523,-263.3625 3494.2761,-253.5422 3491.2604,-263.6987 3498.2523,-263.3625\"/>\n</g>\n<!-- 108 -->\n<g id=\"node109\" class=\"node\">\n<title>108</title>\n<polygon fill=\"none\" stroke=\"#000000\" points=\"3676,-253.5 3566,-253.5 3566,-200.5 3676,-200.5 3676,-253.5\"/>\n<text text-anchor=\"middle\" x=\"3621\" y=\"-238.3\" font-family=\"Times,serif\" font-size=\"14.00\" fill=\"#000000\">gini = 0.0</text>\n<text text-anchor=\"middle\" x=\"3621\" y=\"-223.3\" font-family=\"Times,serif\" font-size=\"14.00\" fill=\"#000000\">samples = 1</text>\n<text text-anchor=\"middle\" x=\"3621\" y=\"-208.3\" font-family=\"Times,serif\" font-size=\"14.00\" fill=\"#000000\">value = [1, 0, 0]</text>\n</g>\n<!-- 106&#45;&gt;108 -->\n<g id=\"edge108\" class=\"edge\">\n<title>106&#45;&gt;108</title>\n<path fill=\"none\" stroke=\"#000000\" d=\"M3538.2748,-296.9465C3552.2139,-285.1606 3567.8112,-271.9726 3581.6732,-260.2519\"/>\n<polygon fill=\"#000000\" stroke=\"#000000\" points=\"3584.2324,-262.6715 3589.6088,-253.5422 3579.7127,-257.3262 3584.2324,-262.6715\"/>\n</g>\n<!-- 111 -->\n<g id=\"node112\" class=\"node\">\n<title>111</title>\n<polygon fill=\"none\" stroke=\"#000000\" points=\"3711,-461.5 3601,-461.5 3601,-408.5 3711,-408.5 3711,-461.5\"/>\n<text text-anchor=\"middle\" x=\"3656\" y=\"-446.3\" font-family=\"Times,serif\" font-size=\"14.00\" fill=\"#000000\">gini = 0.0</text>\n<text text-anchor=\"middle\" x=\"3656\" y=\"-431.3\" font-family=\"Times,serif\" font-size=\"14.00\" fill=\"#000000\">samples = 5</text>\n<text text-anchor=\"middle\" x=\"3656\" y=\"-416.3\" font-family=\"Times,serif\" font-size=\"14.00\" fill=\"#000000\">value = [0, 0, 5]</text>\n</g>\n<!-- 110&#45;&gt;111 -->\n<g id=\"edge111\" class=\"edge\">\n<title>110&#45;&gt;111</title>\n<path fill=\"none\" stroke=\"#000000\" d=\"M3658.0177,-504.9465C3657.7095,-494.2621 3657.368,-482.4254 3657.055,-471.5742\"/>\n<polygon fill=\"#000000\" stroke=\"#000000\" points=\"3660.5526,-471.4371 3656.7656,-461.5422 3653.5555,-471.639 3660.5526,-471.4371\"/>\n</g>\n<!-- 112 -->\n<g id=\"node113\" class=\"node\">\n<title>112</title>\n<polygon fill=\"none\" stroke=\"#000000\" points=\"3860.5,-469 3729.5,-469 3729.5,-401 3860.5,-401 3860.5,-469\"/>\n<text text-anchor=\"middle\" x=\"3795\" y=\"-453.8\" font-family=\"Times,serif\" font-size=\"14.00\" fill=\"#000000\">left_distance &lt;= 3.5</text>\n<text text-anchor=\"middle\" x=\"3795\" y=\"-438.8\" font-family=\"Times,serif\" font-size=\"14.00\" fill=\"#000000\">gini = 0.48</text>\n<text text-anchor=\"middle\" x=\"3795\" y=\"-423.8\" font-family=\"Times,serif\" font-size=\"14.00\" fill=\"#000000\">samples = 5</text>\n<text text-anchor=\"middle\" x=\"3795\" y=\"-408.8\" font-family=\"Times,serif\" font-size=\"14.00\" fill=\"#000000\">value = [3, 0, 2]</text>\n</g>\n<!-- 110&#45;&gt;112 -->\n<g id=\"edge112\" class=\"edge\">\n<title>110&#45;&gt;112</title>\n<path fill=\"none\" stroke=\"#000000\" d=\"M3703.5315,-504.9465C3715.8597,-495.519 3729.3609,-485.1946 3742.115,-475.4415\"/>\n<polygon fill=\"#000000\" stroke=\"#000000\" points=\"3744.551,-477.9848 3750.3685,-469.13 3740.2988,-472.4243 3744.551,-477.9848\"/>\n</g>\n<!-- 113 -->\n<g id=\"node114\" class=\"node\">\n<title>113</title>\n<polygon fill=\"none\" stroke=\"#000000\" points=\"3778,-365 3638,-365 3638,-297 3778,-297 3778,-365\"/>\n<text text-anchor=\"middle\" x=\"3708\" y=\"-349.8\" font-family=\"Times,serif\" font-size=\"14.00\" fill=\"#000000\">right_distance &lt;= 3.5</text>\n<text text-anchor=\"middle\" x=\"3708\" y=\"-334.8\" font-family=\"Times,serif\" font-size=\"14.00\" fill=\"#000000\">gini = 0.444</text>\n<text text-anchor=\"middle\" x=\"3708\" y=\"-319.8\" font-family=\"Times,serif\" font-size=\"14.00\" fill=\"#000000\">samples = 3</text>\n<text text-anchor=\"middle\" x=\"3708\" y=\"-304.8\" font-family=\"Times,serif\" font-size=\"14.00\" fill=\"#000000\">value = [1, 0, 2]</text>\n</g>\n<!-- 112&#45;&gt;113 -->\n<g id=\"edge113\" class=\"edge\">\n<title>112&#45;&gt;113</title>\n<path fill=\"none\" stroke=\"#000000\" d=\"M3766.5129,-400.9465C3759.0021,-391.968 3750.8105,-382.1758 3742.9995,-372.8385\"/>\n<polygon fill=\"#000000\" stroke=\"#000000\" points=\"3745.652,-370.5544 3736.5511,-365.13 3740.2829,-375.0459 3745.652,-370.5544\"/>\n</g>\n<!-- 116 -->\n<g id=\"node117\" class=\"node\">\n<title>116</title>\n<polygon fill=\"none\" stroke=\"#000000\" points=\"3906,-357.5 3796,-357.5 3796,-304.5 3906,-304.5 3906,-357.5\"/>\n<text text-anchor=\"middle\" x=\"3851\" y=\"-342.3\" font-family=\"Times,serif\" font-size=\"14.00\" fill=\"#000000\">gini = 0.0</text>\n<text text-anchor=\"middle\" x=\"3851\" y=\"-327.3\" font-family=\"Times,serif\" font-size=\"14.00\" fill=\"#000000\">samples = 2</text>\n<text text-anchor=\"middle\" x=\"3851\" y=\"-312.3\" font-family=\"Times,serif\" font-size=\"14.00\" fill=\"#000000\">value = [2, 0, 0]</text>\n</g>\n<!-- 112&#45;&gt;116 -->\n<g id=\"edge116\" class=\"edge\">\n<title>112&#45;&gt;116</title>\n<path fill=\"none\" stroke=\"#000000\" d=\"M3813.3365,-400.9465C3819.2676,-389.9316 3825.8581,-377.6922 3831.8468,-366.5703\"/>\n<polygon fill=\"#000000\" stroke=\"#000000\" points=\"3835.0487,-368.0063 3836.7081,-357.5422 3828.8854,-364.6875 3835.0487,-368.0063\"/>\n</g>\n<!-- 114 -->\n<g id=\"node115\" class=\"node\">\n<title>114</title>\n<polygon fill=\"none\" stroke=\"#000000\" points=\"3804,-253.5 3694,-253.5 3694,-200.5 3804,-200.5 3804,-253.5\"/>\n<text text-anchor=\"middle\" x=\"3749\" y=\"-238.3\" font-family=\"Times,serif\" font-size=\"14.00\" fill=\"#000000\">gini = 0.0</text>\n<text text-anchor=\"middle\" x=\"3749\" y=\"-223.3\" font-family=\"Times,serif\" font-size=\"14.00\" fill=\"#000000\">samples = 1</text>\n<text text-anchor=\"middle\" x=\"3749\" y=\"-208.3\" font-family=\"Times,serif\" font-size=\"14.00\" fill=\"#000000\">value = [1, 0, 0]</text>\n</g>\n<!-- 113&#45;&gt;114 -->\n<g id=\"edge114\" class=\"edge\">\n<title>113&#45;&gt;114</title>\n<path fill=\"none\" stroke=\"#000000\" d=\"M3721.4249,-296.9465C3725.7239,-286.0418 3730.4961,-273.9368 3734.8454,-262.9043\"/>\n<polygon fill=\"#000000\" stroke=\"#000000\" points=\"3738.1247,-264.129 3738.5363,-253.5422 3731.6125,-261.5617 3738.1247,-264.129\"/>\n</g>\n<!-- 115 -->\n<g id=\"node116\" class=\"node\">\n<title>115</title>\n<polygon fill=\"none\" stroke=\"#000000\" points=\"3932,-253.5 3822,-253.5 3822,-200.5 3932,-200.5 3932,-253.5\"/>\n<text text-anchor=\"middle\" x=\"3877\" y=\"-238.3\" font-family=\"Times,serif\" font-size=\"14.00\" fill=\"#000000\">gini = 0.0</text>\n<text text-anchor=\"middle\" x=\"3877\" y=\"-223.3\" font-family=\"Times,serif\" font-size=\"14.00\" fill=\"#000000\">samples = 2</text>\n<text text-anchor=\"middle\" x=\"3877\" y=\"-208.3\" font-family=\"Times,serif\" font-size=\"14.00\" fill=\"#000000\">value = [0, 0, 2]</text>\n</g>\n<!-- 113&#45;&gt;115 -->\n<g id=\"edge115\" class=\"edge\">\n<title>113&#45;&gt;115</title>\n<path fill=\"none\" stroke=\"#000000\" d=\"M3763.3369,-296.9465C3783.2051,-284.72 3805.5249,-270.9847 3825.0914,-258.9437\"/>\n<polygon fill=\"#000000\" stroke=\"#000000\" points=\"3827.1867,-261.764 3833.869,-253.5422 3823.518,-255.8024 3827.1867,-261.764\"/>\n</g>\n<!-- 118 -->\n<g id=\"node119\" class=\"node\">\n<title>118</title>\n<polygon fill=\"none\" stroke=\"#000000\" points=\"4168,-677 4028,-677 4028,-609 4168,-609 4168,-677\"/>\n<text text-anchor=\"middle\" x=\"4098\" y=\"-661.8\" font-family=\"Times,serif\" font-size=\"14.00\" fill=\"#000000\">right_distance &lt;= 4.5</text>\n<text text-anchor=\"middle\" x=\"4098\" y=\"-646.8\" font-family=\"Times,serif\" font-size=\"14.00\" fill=\"#000000\">gini = 0.54</text>\n<text text-anchor=\"middle\" x=\"4098\" y=\"-631.8\" font-family=\"Times,serif\" font-size=\"14.00\" fill=\"#000000\">samples = 10</text>\n<text text-anchor=\"middle\" x=\"4098\" y=\"-616.8\" font-family=\"Times,serif\" font-size=\"14.00\" fill=\"#000000\">value = [1, 3, 6]</text>\n</g>\n<!-- 117&#45;&gt;118 -->\n<g id=\"edge118\" class=\"edge\">\n<title>117&#45;&gt;118</title>\n<path fill=\"none\" stroke=\"#000000\" d=\"M4098,-712.9465C4098,-704.776 4098,-695.9318 4098,-687.3697\"/>\n<polygon fill=\"#000000\" stroke=\"#000000\" points=\"4101.5001,-687.13 4098,-677.13 4094.5001,-687.13 4101.5001,-687.13\"/>\n</g>\n<!-- 127 -->\n<g id=\"node128\" class=\"node\">\n<title>127</title>\n<polygon fill=\"none\" stroke=\"#000000\" points=\"4383.5,-677 4252.5,-677 4252.5,-609 4383.5,-609 4383.5,-677\"/>\n<text text-anchor=\"middle\" x=\"4318\" y=\"-661.8\" font-family=\"Times,serif\" font-size=\"14.00\" fill=\"#000000\">left_distance &lt;= 2.5</text>\n<text text-anchor=\"middle\" x=\"4318\" y=\"-646.8\" font-family=\"Times,serif\" font-size=\"14.00\" fill=\"#000000\">gini = 0.142</text>\n<text text-anchor=\"middle\" x=\"4318\" y=\"-631.8\" font-family=\"Times,serif\" font-size=\"14.00\" fill=\"#000000\">samples = 53</text>\n<text text-anchor=\"middle\" x=\"4318\" y=\"-616.8\" font-family=\"Times,serif\" font-size=\"14.00\" fill=\"#000000\">value = [1, 49, 3]</text>\n</g>\n<!-- 117&#45;&gt;127 -->\n<g id=\"edge127\" class=\"edge\">\n<title>117&#45;&gt;127</title>\n<path fill=\"none\" stroke=\"#000000\" d=\"M4163.7093,-715.9374C4188.6305,-704.1565 4217.1929,-690.6543 4242.9139,-678.4953\"/>\n<polygon fill=\"#000000\" stroke=\"#000000\" points=\"4244.7046,-681.5202 4252.2494,-674.0821 4241.7129,-675.1917 4244.7046,-681.5202\"/>\n</g>\n<!-- 119 -->\n<g id=\"node120\" class=\"node\">\n<title>119</title>\n<polygon fill=\"none\" stroke=\"#000000\" points=\"4097.5,-573 3964.5,-573 3964.5,-505 4097.5,-505 4097.5,-573\"/>\n<text text-anchor=\"middle\" x=\"4031\" y=\"-557.8\" font-family=\"Times,serif\" font-size=\"14.00\" fill=\"#000000\">right_weight &lt;= 1.5</text>\n<text text-anchor=\"middle\" x=\"4031\" y=\"-542.8\" font-family=\"Times,serif\" font-size=\"14.00\" fill=\"#000000\">gini = 0.56</text>\n<text text-anchor=\"middle\" x=\"4031\" y=\"-527.8\" font-family=\"Times,serif\" font-size=\"14.00\" fill=\"#000000\">samples = 5</text>\n<text text-anchor=\"middle\" x=\"4031\" y=\"-512.8\" font-family=\"Times,serif\" font-size=\"14.00\" fill=\"#000000\">value = [1, 3, 1]</text>\n</g>\n<!-- 118&#45;&gt;119 -->\n<g id=\"edge119\" class=\"edge\">\n<title>118&#45;&gt;119</title>\n<path fill=\"none\" stroke=\"#000000\" d=\"M4076.0617,-608.9465C4070.451,-600.2373 4064.3471,-590.7626 4058.4958,-581.6801\"/>\n<polygon fill=\"#000000\" stroke=\"#000000\" points=\"4061.3457,-579.641 4052.9876,-573.13 4055.4611,-583.4321 4061.3457,-579.641\"/>\n</g>\n<!-- 126 -->\n<g id=\"node127\" class=\"node\">\n<title>126</title>\n<polygon fill=\"none\" stroke=\"#000000\" points=\"4226,-565.5 4116,-565.5 4116,-512.5 4226,-512.5 4226,-565.5\"/>\n<text text-anchor=\"middle\" x=\"4171\" y=\"-550.3\" font-family=\"Times,serif\" font-size=\"14.00\" fill=\"#000000\">gini = 0.0</text>\n<text text-anchor=\"middle\" x=\"4171\" y=\"-535.3\" font-family=\"Times,serif\" font-size=\"14.00\" fill=\"#000000\">samples = 5</text>\n<text text-anchor=\"middle\" x=\"4171\" y=\"-520.3\" font-family=\"Times,serif\" font-size=\"14.00\" fill=\"#000000\">value = [0, 0, 5]</text>\n</g>\n<!-- 118&#45;&gt;126 -->\n<g id=\"edge126\" class=\"edge\">\n<title>118&#45;&gt;126</title>\n<path fill=\"none\" stroke=\"#000000\" d=\"M4121.9029,-608.9465C4129.7892,-597.7113 4138.5697,-585.2021 4146.4998,-573.9043\"/>\n<polygon fill=\"#000000\" stroke=\"#000000\" points=\"4149.4889,-575.7379 4152.3694,-565.5422 4143.7595,-571.7163 4149.4889,-575.7379\"/>\n</g>\n<!-- 120 -->\n<g id=\"node121\" class=\"node\">\n<title>120</title>\n<polygon fill=\"none\" stroke=\"#000000\" points=\"4041,-469 3901,-469 3901,-401 4041,-401 4041,-469\"/>\n<text text-anchor=\"middle\" x=\"3971\" y=\"-453.8\" font-family=\"Times,serif\" font-size=\"14.00\" fill=\"#000000\">right_distance &lt;= 3.5</text>\n<text text-anchor=\"middle\" x=\"3971\" y=\"-438.8\" font-family=\"Times,serif\" font-size=\"14.00\" fill=\"#000000\">gini = 0.375</text>\n<text text-anchor=\"middle\" x=\"3971\" y=\"-423.8\" font-family=\"Times,serif\" font-size=\"14.00\" fill=\"#000000\">samples = 4</text>\n<text text-anchor=\"middle\" x=\"3971\" y=\"-408.8\" font-family=\"Times,serif\" font-size=\"14.00\" fill=\"#000000\">value = [1, 3, 0]</text>\n</g>\n<!-- 119&#45;&gt;120 -->\n<g id=\"edge120\" class=\"edge\">\n<title>119&#45;&gt;120</title>\n<path fill=\"none\" stroke=\"#000000\" d=\"M4011.3538,-504.9465C4006.381,-496.3271 4000.9757,-486.9579 3995.7852,-477.9611\"/>\n<polygon fill=\"#000000\" stroke=\"#000000\" points=\"3998.7193,-476.0428 3990.6904,-469.13 3992.656,-479.5409 3998.7193,-476.0428\"/>\n</g>\n<!-- 125 -->\n<g id=\"node126\" class=\"node\">\n<title>125</title>\n<polygon fill=\"none\" stroke=\"#000000\" points=\"4169,-461.5 4059,-461.5 4059,-408.5 4169,-408.5 4169,-461.5\"/>\n<text text-anchor=\"middle\" x=\"4114\" y=\"-446.3\" font-family=\"Times,serif\" font-size=\"14.00\" fill=\"#000000\">gini = 0.0</text>\n<text text-anchor=\"middle\" x=\"4114\" y=\"-431.3\" font-family=\"Times,serif\" font-size=\"14.00\" fill=\"#000000\">samples = 1</text>\n<text text-anchor=\"middle\" x=\"4114\" y=\"-416.3\" font-family=\"Times,serif\" font-size=\"14.00\" fill=\"#000000\">value = [0, 0, 1]</text>\n</g>\n<!-- 119&#45;&gt;125 -->\n<g id=\"edge125\" class=\"edge\">\n<title>119&#45;&gt;125</title>\n<path fill=\"none\" stroke=\"#000000\" d=\"M4058.1773,-504.9465C4067.2318,-493.6012 4077.323,-480.9567 4086.4086,-469.5724\"/>\n<polygon fill=\"#000000\" stroke=\"#000000\" points=\"4089.3151,-471.5414 4092.8173,-461.5422 4083.8439,-467.175 4089.3151,-471.5414\"/>\n</g>\n<!-- 121 -->\n<g id=\"node122\" class=\"node\">\n<title>121</title>\n<polygon fill=\"none\" stroke=\"#000000\" points=\"4034,-357.5 3924,-357.5 3924,-304.5 4034,-304.5 4034,-357.5\"/>\n<text text-anchor=\"middle\" x=\"3979\" y=\"-342.3\" font-family=\"Times,serif\" font-size=\"14.00\" fill=\"#000000\">gini = 0.0</text>\n<text text-anchor=\"middle\" x=\"3979\" y=\"-327.3\" font-family=\"Times,serif\" font-size=\"14.00\" fill=\"#000000\">samples = 2</text>\n<text text-anchor=\"middle\" x=\"3979\" y=\"-312.3\" font-family=\"Times,serif\" font-size=\"14.00\" fill=\"#000000\">value = [0, 2, 0]</text>\n</g>\n<!-- 120&#45;&gt;121 -->\n<g id=\"edge121\" class=\"edge\">\n<title>120&#45;&gt;121</title>\n<path fill=\"none\" stroke=\"#000000\" d=\"M3973.6195,-400.9465C3974.4414,-390.2621 3975.3519,-378.4254 3976.1866,-367.5742\"/>\n<polygon fill=\"#000000\" stroke=\"#000000\" points=\"3979.6809,-367.7812 3976.9583,-357.5422 3972.7015,-367.2442 3979.6809,-367.7812\"/>\n</g>\n<!-- 122 -->\n<g id=\"node123\" class=\"node\">\n<title>122</title>\n<polygon fill=\"none\" stroke=\"#000000\" points=\"4176,-365 4052,-365 4052,-297 4176,-297 4176,-365\"/>\n<text text-anchor=\"middle\" x=\"4114\" y=\"-349.8\" font-family=\"Times,serif\" font-size=\"14.00\" fill=\"#000000\">left_weight &lt;= 4.5</text>\n<text text-anchor=\"middle\" x=\"4114\" y=\"-334.8\" font-family=\"Times,serif\" font-size=\"14.00\" fill=\"#000000\">gini = 0.5</text>\n<text text-anchor=\"middle\" x=\"4114\" y=\"-319.8\" font-family=\"Times,serif\" font-size=\"14.00\" fill=\"#000000\">samples = 2</text>\n<text text-anchor=\"middle\" x=\"4114\" y=\"-304.8\" font-family=\"Times,serif\" font-size=\"14.00\" fill=\"#000000\">value = [1, 1, 0]</text>\n</g>\n<!-- 120&#45;&gt;122 -->\n<g id=\"edge122\" class=\"edge\">\n<title>120&#45;&gt;122</title>\n<path fill=\"none\" stroke=\"#000000\" d=\"M4017.8235,-400.9465C4030.9098,-391.4293 4045.253,-380.9978 4058.7759,-371.163\"/>\n<polygon fill=\"#000000\" stroke=\"#000000\" points=\"4061.0425,-373.8423 4067.0713,-365.13 4056.9253,-368.1812 4061.0425,-373.8423\"/>\n</g>\n<!-- 123 -->\n<g id=\"node124\" class=\"node\">\n<title>123</title>\n<polygon fill=\"none\" stroke=\"#000000\" points=\"4115,-253.5 4005,-253.5 4005,-200.5 4115,-200.5 4115,-253.5\"/>\n<text text-anchor=\"middle\" x=\"4060\" y=\"-238.3\" font-family=\"Times,serif\" font-size=\"14.00\" fill=\"#000000\">gini = 0.0</text>\n<text text-anchor=\"middle\" x=\"4060\" y=\"-223.3\" font-family=\"Times,serif\" font-size=\"14.00\" fill=\"#000000\">samples = 1</text>\n<text text-anchor=\"middle\" x=\"4060\" y=\"-208.3\" font-family=\"Times,serif\" font-size=\"14.00\" fill=\"#000000\">value = [1, 0, 0]</text>\n</g>\n<!-- 122&#45;&gt;123 -->\n<g id=\"edge123\" class=\"edge\">\n<title>122&#45;&gt;123</title>\n<path fill=\"none\" stroke=\"#000000\" d=\"M4096.3184,-296.9465C4090.5991,-285.9316 4084.244,-273.6922 4078.4692,-262.5703\"/>\n<polygon fill=\"#000000\" stroke=\"#000000\" points=\"4081.496,-260.8043 4073.7815,-253.5422 4075.2835,-264.03 4081.496,-260.8043\"/>\n</g>\n<!-- 124 -->\n<g id=\"node125\" class=\"node\">\n<title>124</title>\n<polygon fill=\"none\" stroke=\"#000000\" points=\"4243,-253.5 4133,-253.5 4133,-200.5 4243,-200.5 4243,-253.5\"/>\n<text text-anchor=\"middle\" x=\"4188\" y=\"-238.3\" font-family=\"Times,serif\" font-size=\"14.00\" fill=\"#000000\">gini = 0.0</text>\n<text text-anchor=\"middle\" x=\"4188\" y=\"-223.3\" font-family=\"Times,serif\" font-size=\"14.00\" fill=\"#000000\">samples = 1</text>\n<text text-anchor=\"middle\" x=\"4188\" y=\"-208.3\" font-family=\"Times,serif\" font-size=\"14.00\" fill=\"#000000\">value = [0, 1, 0]</text>\n</g>\n<!-- 122&#45;&gt;124 -->\n<g id=\"edge124\" class=\"edge\">\n<title>122&#45;&gt;124</title>\n<path fill=\"none\" stroke=\"#000000\" d=\"M4138.2304,-296.9465C4146.2246,-285.7113 4155.1254,-273.2021 4163.1642,-261.9043\"/>\n<polygon fill=\"#000000\" stroke=\"#000000\" points=\"4166.1684,-263.7192 4169.1142,-253.5422 4160.4649,-259.6609 4166.1684,-263.7192\"/>\n</g>\n<!-- 128 -->\n<g id=\"node129\" class=\"node\">\n<title>128</title>\n<polygon fill=\"none\" stroke=\"#000000\" points=\"4384.5,-573 4251.5,-573 4251.5,-505 4384.5,-505 4384.5,-573\"/>\n<text text-anchor=\"middle\" x=\"4318\" y=\"-557.8\" font-family=\"Times,serif\" font-size=\"14.00\" fill=\"#000000\">right_weight &lt;= 1.5</text>\n<text text-anchor=\"middle\" x=\"4318\" y=\"-542.8\" font-family=\"Times,serif\" font-size=\"14.00\" fill=\"#000000\">gini = 0.46</text>\n<text text-anchor=\"middle\" x=\"4318\" y=\"-527.8\" font-family=\"Times,serif\" font-size=\"14.00\" fill=\"#000000\">samples = 10</text>\n<text text-anchor=\"middle\" x=\"4318\" y=\"-512.8\" font-family=\"Times,serif\" font-size=\"14.00\" fill=\"#000000\">value = [1, 7, 2]</text>\n</g>\n<!-- 127&#45;&gt;128 -->\n<g id=\"edge128\" class=\"edge\">\n<title>127&#45;&gt;128</title>\n<path fill=\"none\" stroke=\"#000000\" d=\"M4318,-608.9465C4318,-600.776 4318,-591.9318 4318,-583.3697\"/>\n<polygon fill=\"#000000\" stroke=\"#000000\" points=\"4321.5001,-583.13 4318,-573.13 4314.5001,-583.13 4321.5001,-583.13\"/>\n</g>\n<!-- 133 -->\n<g id=\"node134\" class=\"node\">\n<title>133</title>\n<polygon fill=\"none\" stroke=\"#000000\" points=\"4602,-573 4462,-573 4462,-505 4602,-505 4602,-573\"/>\n<text text-anchor=\"middle\" x=\"4532\" y=\"-557.8\" font-family=\"Times,serif\" font-size=\"14.00\" fill=\"#000000\">right_distance &lt;= 4.5</text>\n<text text-anchor=\"middle\" x=\"4532\" y=\"-542.8\" font-family=\"Times,serif\" font-size=\"14.00\" fill=\"#000000\">gini = 0.045</text>\n<text text-anchor=\"middle\" x=\"4532\" y=\"-527.8\" font-family=\"Times,serif\" font-size=\"14.00\" fill=\"#000000\">samples = 43</text>\n<text text-anchor=\"middle\" x=\"4532\" y=\"-512.8\" font-family=\"Times,serif\" font-size=\"14.00\" fill=\"#000000\">value = [0, 42, 1]</text>\n</g>\n<!-- 127&#45;&gt;133 -->\n<g id=\"edge133\" class=\"edge\">\n<title>127&#45;&gt;133</title>\n<path fill=\"none\" stroke=\"#000000\" d=\"M4383.6614,-611.0898C4405.4745,-600.489 4429.9962,-588.572 4452.7251,-577.5261\"/>\n<polygon fill=\"#000000\" stroke=\"#000000\" points=\"4454.5416,-580.5348 4462.0059,-573.0158 4451.4819,-574.2389 4454.5416,-580.5348\"/>\n</g>\n<!-- 129 -->\n<g id=\"node130\" class=\"node\">\n<title>129</title>\n<polygon fill=\"none\" stroke=\"#000000\" points=\"4297,-461.5 4187,-461.5 4187,-408.5 4297,-408.5 4297,-461.5\"/>\n<text text-anchor=\"middle\" x=\"4242\" y=\"-446.3\" font-family=\"Times,serif\" font-size=\"14.00\" fill=\"#000000\">gini = 0.0</text>\n<text text-anchor=\"middle\" x=\"4242\" y=\"-431.3\" font-family=\"Times,serif\" font-size=\"14.00\" fill=\"#000000\">samples = 7</text>\n<text text-anchor=\"middle\" x=\"4242\" y=\"-416.3\" font-family=\"Times,serif\" font-size=\"14.00\" fill=\"#000000\">value = [0, 7, 0]</text>\n</g>\n<!-- 128&#45;&gt;129 -->\n<g id=\"edge129\" class=\"edge\">\n<title>128&#45;&gt;129</title>\n<path fill=\"none\" stroke=\"#000000\" d=\"M4293.1148,-504.9465C4284.9044,-493.7113 4275.7631,-481.2021 4267.507,-469.9043\"/>\n<polygon fill=\"#000000\" stroke=\"#000000\" points=\"4270.1223,-467.551 4261.3962,-461.5422 4264.4705,-471.6812 4270.1223,-467.551\"/>\n</g>\n<!-- 130 -->\n<g id=\"node131\" class=\"node\">\n<title>130</title>\n<polygon fill=\"none\" stroke=\"#000000\" points=\"4455,-469 4315,-469 4315,-401 4455,-401 4455,-469\"/>\n<text text-anchor=\"middle\" x=\"4385\" y=\"-453.8\" font-family=\"Times,serif\" font-size=\"14.00\" fill=\"#000000\">right_distance &lt;= 4.5</text>\n<text text-anchor=\"middle\" x=\"4385\" y=\"-438.8\" font-family=\"Times,serif\" font-size=\"14.00\" fill=\"#000000\">gini = 0.444</text>\n<text text-anchor=\"middle\" x=\"4385\" y=\"-423.8\" font-family=\"Times,serif\" font-size=\"14.00\" fill=\"#000000\">samples = 3</text>\n<text text-anchor=\"middle\" x=\"4385\" y=\"-408.8\" font-family=\"Times,serif\" font-size=\"14.00\" fill=\"#000000\">value = [1, 0, 2]</text>\n</g>\n<!-- 128&#45;&gt;130 -->\n<g id=\"edge130\" class=\"edge\">\n<title>128&#45;&gt;130</title>\n<path fill=\"none\" stroke=\"#000000\" d=\"M4339.9383,-504.9465C4345.549,-496.2373 4351.6529,-486.7626 4357.5042,-477.6801\"/>\n<polygon fill=\"#000000\" stroke=\"#000000\" points=\"4360.5389,-479.4321 4363.0124,-469.13 4354.6543,-475.641 4360.5389,-479.4321\"/>\n</g>\n<!-- 131 -->\n<g id=\"node132\" class=\"node\">\n<title>131</title>\n<polygon fill=\"none\" stroke=\"#000000\" points=\"4316,-357.5 4206,-357.5 4206,-304.5 4316,-304.5 4316,-357.5\"/>\n<text text-anchor=\"middle\" x=\"4261\" y=\"-342.3\" font-family=\"Times,serif\" font-size=\"14.00\" fill=\"#000000\">gini = 0.0</text>\n<text text-anchor=\"middle\" x=\"4261\" y=\"-327.3\" font-family=\"Times,serif\" font-size=\"14.00\" fill=\"#000000\">samples = 1</text>\n<text text-anchor=\"middle\" x=\"4261\" y=\"-312.3\" font-family=\"Times,serif\" font-size=\"14.00\" fill=\"#000000\">value = [1, 0, 0]</text>\n</g>\n<!-- 130&#45;&gt;131 -->\n<g id=\"edge131\" class=\"edge\">\n<title>130&#45;&gt;131</title>\n<path fill=\"none\" stroke=\"#000000\" d=\"M4344.3978,-400.9465C4330.3453,-389.1606 4314.6212,-375.9726 4300.6465,-364.2519\"/>\n<polygon fill=\"#000000\" stroke=\"#000000\" points=\"4302.5575,-361.2866 4292.6464,-357.5422 4298.0592,-366.65 4302.5575,-361.2866\"/>\n</g>\n<!-- 132 -->\n<g id=\"node133\" class=\"node\">\n<title>132</title>\n<polygon fill=\"none\" stroke=\"#000000\" points=\"4444,-357.5 4334,-357.5 4334,-304.5 4444,-304.5 4444,-357.5\"/>\n<text text-anchor=\"middle\" x=\"4389\" y=\"-342.3\" font-family=\"Times,serif\" font-size=\"14.00\" fill=\"#000000\">gini = 0.0</text>\n<text text-anchor=\"middle\" x=\"4389\" y=\"-327.3\" font-family=\"Times,serif\" font-size=\"14.00\" fill=\"#000000\">samples = 2</text>\n<text text-anchor=\"middle\" x=\"4389\" y=\"-312.3\" font-family=\"Times,serif\" font-size=\"14.00\" fill=\"#000000\">value = [0, 0, 2]</text>\n</g>\n<!-- 130&#45;&gt;132 -->\n<g id=\"edge132\" class=\"edge\">\n<title>130&#45;&gt;132</title>\n<path fill=\"none\" stroke=\"#000000\" d=\"M4386.3097,-400.9465C4386.7207,-390.2621 4387.1759,-378.4254 4387.5933,-367.5742\"/>\n<polygon fill=\"#000000\" stroke=\"#000000\" points=\"4391.0921,-367.6693 4387.9791,-357.5422 4384.0973,-367.4002 4391.0921,-367.6693\"/>\n</g>\n<!-- 134 -->\n<g id=\"node135\" class=\"node\">\n<title>134</title>\n<polygon fill=\"none\" stroke=\"#000000\" points=\"4590.5,-461.5 4473.5,-461.5 4473.5,-408.5 4590.5,-408.5 4590.5,-461.5\"/>\n<text text-anchor=\"middle\" x=\"4532\" y=\"-446.3\" font-family=\"Times,serif\" font-size=\"14.00\" fill=\"#000000\">gini = 0.0</text>\n<text text-anchor=\"middle\" x=\"4532\" y=\"-431.3\" font-family=\"Times,serif\" font-size=\"14.00\" fill=\"#000000\">samples = 30</text>\n<text text-anchor=\"middle\" x=\"4532\" y=\"-416.3\" font-family=\"Times,serif\" font-size=\"14.00\" fill=\"#000000\">value = [0, 30, 0]</text>\n</g>\n<!-- 133&#45;&gt;134 -->\n<g id=\"edge134\" class=\"edge\">\n<title>133&#45;&gt;134</title>\n<path fill=\"none\" stroke=\"#000000\" d=\"M4532,-504.9465C4532,-494.2621 4532,-482.4254 4532,-471.5742\"/>\n<polygon fill=\"#000000\" stroke=\"#000000\" points=\"4535.5001,-471.5421 4532,-461.5422 4528.5001,-471.5422 4535.5001,-471.5421\"/>\n</g>\n<!-- 135 -->\n<g id=\"node136\" class=\"node\">\n<title>135</title>\n<polygon fill=\"none\" stroke=\"#000000\" points=\"4733,-469 4609,-469 4609,-401 4733,-401 4733,-469\"/>\n<text text-anchor=\"middle\" x=\"4671\" y=\"-453.8\" font-family=\"Times,serif\" font-size=\"14.00\" fill=\"#000000\">left_weight &lt;= 3.5</text>\n<text text-anchor=\"middle\" x=\"4671\" y=\"-438.8\" font-family=\"Times,serif\" font-size=\"14.00\" fill=\"#000000\">gini = 0.142</text>\n<text text-anchor=\"middle\" x=\"4671\" y=\"-423.8\" font-family=\"Times,serif\" font-size=\"14.00\" fill=\"#000000\">samples = 13</text>\n<text text-anchor=\"middle\" x=\"4671\" y=\"-408.8\" font-family=\"Times,serif\" font-size=\"14.00\" fill=\"#000000\">value = [0, 12, 1]</text>\n</g>\n<!-- 133&#45;&gt;135 -->\n<g id=\"edge135\" class=\"edge\">\n<title>133&#45;&gt;135</title>\n<path fill=\"none\" stroke=\"#000000\" d=\"M4577.5138,-504.9465C4590.234,-495.4293 4604.176,-484.9978 4617.3206,-475.163\"/>\n<polygon fill=\"#000000\" stroke=\"#000000\" points=\"4619.4738,-477.9232 4625.3839,-469.13 4615.2802,-472.3184 4619.4738,-477.9232\"/>\n</g>\n<!-- 136 -->\n<g id=\"node137\" class=\"node\">\n<title>136</title>\n<polygon fill=\"none\" stroke=\"#000000\" points=\"4597.5,-365 4466.5,-365 4466.5,-297 4597.5,-297 4597.5,-365\"/>\n<text text-anchor=\"middle\" x=\"4532\" y=\"-349.8\" font-family=\"Times,serif\" font-size=\"14.00\" fill=\"#000000\">left_distance &lt;= 3.5</text>\n<text text-anchor=\"middle\" x=\"4532\" y=\"-334.8\" font-family=\"Times,serif\" font-size=\"14.00\" fill=\"#000000\">gini = 0.32</text>\n<text text-anchor=\"middle\" x=\"4532\" y=\"-319.8\" font-family=\"Times,serif\" font-size=\"14.00\" fill=\"#000000\">samples = 5</text>\n<text text-anchor=\"middle\" x=\"4532\" y=\"-304.8\" font-family=\"Times,serif\" font-size=\"14.00\" fill=\"#000000\">value = [0, 4, 1]</text>\n</g>\n<!-- 135&#45;&gt;136 -->\n<g id=\"edge136\" class=\"edge\">\n<title>135&#45;&gt;136</title>\n<path fill=\"none\" stroke=\"#000000\" d=\"M4625.4862,-400.9465C4612.766,-391.4293 4598.824,-380.9978 4585.6794,-371.163\"/>\n<polygon fill=\"#000000\" stroke=\"#000000\" points=\"4587.7198,-368.3184 4577.6161,-365.13 4583.5262,-373.9232 4587.7198,-368.3184\"/>\n</g>\n<!-- 141 -->\n<g id=\"node142\" class=\"node\">\n<title>141</title>\n<polygon fill=\"none\" stroke=\"#000000\" points=\"4726,-357.5 4616,-357.5 4616,-304.5 4726,-304.5 4726,-357.5\"/>\n<text text-anchor=\"middle\" x=\"4671\" y=\"-342.3\" font-family=\"Times,serif\" font-size=\"14.00\" fill=\"#000000\">gini = 0.0</text>\n<text text-anchor=\"middle\" x=\"4671\" y=\"-327.3\" font-family=\"Times,serif\" font-size=\"14.00\" fill=\"#000000\">samples = 8</text>\n<text text-anchor=\"middle\" x=\"4671\" y=\"-312.3\" font-family=\"Times,serif\" font-size=\"14.00\" fill=\"#000000\">value = [0, 8, 0]</text>\n</g>\n<!-- 135&#45;&gt;141 -->\n<g id=\"edge141\" class=\"edge\">\n<title>135&#45;&gt;141</title>\n<path fill=\"none\" stroke=\"#000000\" d=\"M4671,-400.9465C4671,-390.2621 4671,-378.4254 4671,-367.5742\"/>\n<polygon fill=\"#000000\" stroke=\"#000000\" points=\"4674.5001,-367.5421 4671,-357.5422 4667.5001,-367.5422 4674.5001,-367.5421\"/>\n</g>\n<!-- 137 -->\n<g id=\"node138\" class=\"node\">\n<title>137</title>\n<polygon fill=\"none\" stroke=\"#000000\" points=\"4528.5,-261 4395.5,-261 4395.5,-193 4528.5,-193 4528.5,-261\"/>\n<text text-anchor=\"middle\" x=\"4462\" y=\"-245.8\" font-family=\"Times,serif\" font-size=\"14.00\" fill=\"#000000\">right_weight &lt;= 1.5</text>\n<text text-anchor=\"middle\" x=\"4462\" y=\"-230.8\" font-family=\"Times,serif\" font-size=\"14.00\" fill=\"#000000\">gini = 0.5</text>\n<text text-anchor=\"middle\" x=\"4462\" y=\"-215.8\" font-family=\"Times,serif\" font-size=\"14.00\" fill=\"#000000\">samples = 2</text>\n<text text-anchor=\"middle\" x=\"4462\" y=\"-200.8\" font-family=\"Times,serif\" font-size=\"14.00\" fill=\"#000000\">value = [0, 1, 1]</text>\n</g>\n<!-- 136&#45;&gt;137 -->\n<g id=\"edge137\" class=\"edge\">\n<title>136&#45;&gt;137</title>\n<path fill=\"none\" stroke=\"#000000\" d=\"M4509.0794,-296.9465C4503.2174,-288.2373 4496.8402,-278.7626 4490.727,-269.6801\"/>\n<polygon fill=\"#000000\" stroke=\"#000000\" points=\"4493.4595,-267.4716 4484.9721,-261.13 4487.6524,-271.3802 4493.4595,-267.4716\"/>\n</g>\n<!-- 140 -->\n<g id=\"node141\" class=\"node\">\n<title>140</title>\n<polygon fill=\"none\" stroke=\"#000000\" points=\"4657,-253.5 4547,-253.5 4547,-200.5 4657,-200.5 4657,-253.5\"/>\n<text text-anchor=\"middle\" x=\"4602\" y=\"-238.3\" font-family=\"Times,serif\" font-size=\"14.00\" fill=\"#000000\">gini = 0.0</text>\n<text text-anchor=\"middle\" x=\"4602\" y=\"-223.3\" font-family=\"Times,serif\" font-size=\"14.00\" fill=\"#000000\">samples = 3</text>\n<text text-anchor=\"middle\" x=\"4602\" y=\"-208.3\" font-family=\"Times,serif\" font-size=\"14.00\" fill=\"#000000\">value = [0, 3, 0]</text>\n</g>\n<!-- 136&#45;&gt;140 -->\n<g id=\"edge140\" class=\"edge\">\n<title>136&#45;&gt;140</title>\n<path fill=\"none\" stroke=\"#000000\" d=\"M4554.9206,-296.9465C4562.4828,-285.7113 4570.9024,-273.2021 4578.5067,-261.9043\"/>\n<polygon fill=\"#000000\" stroke=\"#000000\" points=\"4581.4548,-263.7924 4584.1351,-253.5422 4575.6477,-259.8837 4581.4548,-263.7924\"/>\n</g>\n<!-- 138 -->\n<g id=\"node139\" class=\"node\">\n<title>138</title>\n<polygon fill=\"none\" stroke=\"#000000\" points=\"4453,-149.5 4343,-149.5 4343,-96.5 4453,-96.5 4453,-149.5\"/>\n<text text-anchor=\"middle\" x=\"4398\" y=\"-134.3\" font-family=\"Times,serif\" font-size=\"14.00\" fill=\"#000000\">gini = 0.0</text>\n<text text-anchor=\"middle\" x=\"4398\" y=\"-119.3\" font-family=\"Times,serif\" font-size=\"14.00\" fill=\"#000000\">samples = 1</text>\n<text text-anchor=\"middle\" x=\"4398\" y=\"-104.3\" font-family=\"Times,serif\" font-size=\"14.00\" fill=\"#000000\">value = [0, 1, 0]</text>\n</g>\n<!-- 137&#45;&gt;138 -->\n<g id=\"edge138\" class=\"edge\">\n<title>137&#45;&gt;138</title>\n<path fill=\"none\" stroke=\"#000000\" d=\"M4441.044,-192.9465C4434.1978,-181.8215 4426.5829,-169.4473 4419.6843,-158.237\"/>\n<polygon fill=\"#000000\" stroke=\"#000000\" points=\"4422.5555,-156.2244 4414.3336,-149.5422 4416.5939,-159.8931 4422.5555,-156.2244\"/>\n</g>\n<!-- 139 -->\n<g id=\"node140\" class=\"node\">\n<title>139</title>\n<polygon fill=\"none\" stroke=\"#000000\" points=\"4581,-149.5 4471,-149.5 4471,-96.5 4581,-96.5 4581,-149.5\"/>\n<text text-anchor=\"middle\" x=\"4526\" y=\"-134.3\" font-family=\"Times,serif\" font-size=\"14.00\" fill=\"#000000\">gini = 0.0</text>\n<text text-anchor=\"middle\" x=\"4526\" y=\"-119.3\" font-family=\"Times,serif\" font-size=\"14.00\" fill=\"#000000\">samples = 1</text>\n<text text-anchor=\"middle\" x=\"4526\" y=\"-104.3\" font-family=\"Times,serif\" font-size=\"14.00\" fill=\"#000000\">value = [0, 0, 1]</text>\n</g>\n<!-- 137&#45;&gt;139 -->\n<g id=\"edge139\" class=\"edge\">\n<title>137&#45;&gt;139</title>\n<path fill=\"none\" stroke=\"#000000\" d=\"M4482.956,-192.9465C4489.8022,-181.8215 4497.4171,-169.4473 4504.3157,-158.237\"/>\n<polygon fill=\"#000000\" stroke=\"#000000\" points=\"4507.4061,-159.8931 4509.6664,-149.5422 4501.4445,-156.2244 4507.4061,-159.8931\"/>\n</g>\n<!-- 143 -->\n<g id=\"node144\" class=\"node\">\n<title>143</title>\n<polygon fill=\"none\" stroke=\"#000000\" points=\"5247.5,-781 5116.5,-781 5116.5,-713 5247.5,-713 5247.5,-781\"/>\n<text text-anchor=\"middle\" x=\"5182\" y=\"-765.8\" font-family=\"Times,serif\" font-size=\"14.00\" fill=\"#000000\">left_distance &lt;= 2.5</text>\n<text text-anchor=\"middle\" x=\"5182\" y=\"-750.8\" font-family=\"Times,serif\" font-size=\"14.00\" fill=\"#000000\">gini = 0.131</text>\n<text text-anchor=\"middle\" x=\"5182\" y=\"-735.8\" font-family=\"Times,serif\" font-size=\"14.00\" fill=\"#000000\">samples = 101</text>\n<text text-anchor=\"middle\" x=\"5182\" y=\"-720.8\" font-family=\"Times,serif\" font-size=\"14.00\" fill=\"#000000\">value = [4, 3, 94]</text>\n</g>\n<!-- 142&#45;&gt;143 -->\n<g id=\"edge143\" class=\"edge\">\n<title>142&#45;&gt;143</title>\n<path fill=\"none\" stroke=\"#000000\" d=\"M5182,-816.9465C5182,-808.776 5182,-799.9318 5182,-791.3697\"/>\n<polygon fill=\"#000000\" stroke=\"#000000\" points=\"5185.5001,-791.13 5182,-781.13 5178.5001,-791.13 5185.5001,-791.13\"/>\n</g>\n<!-- 170 -->\n<g id=\"node171\" class=\"node\">\n<title>170</title>\n<polygon fill=\"none\" stroke=\"#000000\" points=\"6275.5,-781 6150.5,-781 6150.5,-713 6275.5,-713 6275.5,-781\"/>\n<text text-anchor=\"middle\" x=\"6213\" y=\"-765.8\" font-family=\"Times,serif\" font-size=\"14.00\" fill=\"#000000\">left_weight &lt;= 3.5</text>\n<text text-anchor=\"middle\" x=\"6213\" y=\"-750.8\" font-family=\"Times,serif\" font-size=\"14.00\" fill=\"#000000\">gini = 0.545</text>\n<text text-anchor=\"middle\" x=\"6213\" y=\"-735.8\" font-family=\"Times,serif\" font-size=\"14.00\" fill=\"#000000\">samples = 68</text>\n<text text-anchor=\"middle\" x=\"6213\" y=\"-720.8\" font-family=\"Times,serif\" font-size=\"14.00\" fill=\"#000000\">value = [8, 19, 41]</text>\n</g>\n<!-- 142&#45;&gt;170 -->\n<g id=\"edge170\" class=\"edge\">\n<title>142&#45;&gt;170</title>\n<path fill=\"none\" stroke=\"#000000\" d=\"M5252.0543,-843.9334C5439.303,-825.0451 5950.0658,-773.5229 6140.3111,-754.3323\"/>\n<polygon fill=\"#000000\" stroke=\"#000000\" points=\"6140.8843,-757.7924 6150.4825,-753.3063 6140.1817,-750.8277 6140.8843,-757.7924\"/>\n</g>\n<!-- 144 -->\n<g id=\"node145\" class=\"node\">\n<title>144</title>\n<polygon fill=\"none\" stroke=\"#000000\" points=\"5099,-677 4975,-677 4975,-609 5099,-609 5099,-677\"/>\n<text text-anchor=\"middle\" x=\"5037\" y=\"-661.8\" font-family=\"Times,serif\" font-size=\"14.00\" fill=\"#000000\">left_weight &lt;= 4.5</text>\n<text text-anchor=\"middle\" x=\"5037\" y=\"-646.8\" font-family=\"Times,serif\" font-size=\"14.00\" fill=\"#000000\">gini = 0.029</text>\n<text text-anchor=\"middle\" x=\"5037\" y=\"-631.8\" font-family=\"Times,serif\" font-size=\"14.00\" fill=\"#000000\">samples = 68</text>\n<text text-anchor=\"middle\" x=\"5037\" y=\"-616.8\" font-family=\"Times,serif\" font-size=\"14.00\" fill=\"#000000\">value = [0, 1, 67]</text>\n</g>\n<!-- 143&#45;&gt;144 -->\n<g id=\"edge144\" class=\"edge\">\n<title>143&#45;&gt;144</title>\n<path fill=\"none\" stroke=\"#000000\" d=\"M5134.5216,-712.9465C5121.2523,-703.4293 5106.7085,-692.9978 5092.9965,-683.163\"/>\n<polygon fill=\"#000000\" stroke=\"#000000\" points=\"5094.751,-680.1142 5084.5851,-677.13 5090.6712,-685.8024 5094.751,-680.1142\"/>\n</g>\n<!-- 151 -->\n<g id=\"node152\" class=\"node\">\n<title>151</title>\n<polygon fill=\"none\" stroke=\"#000000\" points=\"5328,-677 5188,-677 5188,-609 5328,-609 5328,-677\"/>\n<text text-anchor=\"middle\" x=\"5258\" y=\"-661.8\" font-family=\"Times,serif\" font-size=\"14.00\" fill=\"#000000\">right_distance &lt;= 3.5</text>\n<text text-anchor=\"middle\" x=\"5258\" y=\"-646.8\" font-family=\"Times,serif\" font-size=\"14.00\" fill=\"#000000\">gini = 0.312</text>\n<text text-anchor=\"middle\" x=\"5258\" y=\"-631.8\" font-family=\"Times,serif\" font-size=\"14.00\" fill=\"#000000\">samples = 33</text>\n<text text-anchor=\"middle\" x=\"5258\" y=\"-616.8\" font-family=\"Times,serif\" font-size=\"14.00\" fill=\"#000000\">value = [4, 2, 27]</text>\n</g>\n<!-- 143&#45;&gt;151 -->\n<g id=\"edge151\" class=\"edge\">\n<title>143&#45;&gt;151</title>\n<path fill=\"none\" stroke=\"#000000\" d=\"M5206.8852,-712.9465C5213.3153,-704.1475 5220.3163,-694.5672 5227.0159,-685.3993\"/>\n<polygon fill=\"#000000\" stroke=\"#000000\" points=\"5229.9845,-687.269 5233.0588,-677.13 5224.3328,-683.1389 5229.9845,-687.269\"/>\n</g>\n<!-- 145 -->\n<g id=\"node146\" class=\"node\">\n<title>145</title>\n<polygon fill=\"none\" stroke=\"#000000\" points=\"4952.5,-565.5 4835.5,-565.5 4835.5,-512.5 4952.5,-512.5 4952.5,-565.5\"/>\n<text text-anchor=\"middle\" x=\"4894\" y=\"-550.3\" font-family=\"Times,serif\" font-size=\"14.00\" fill=\"#000000\">gini = 0.0</text>\n<text text-anchor=\"middle\" x=\"4894\" y=\"-535.3\" font-family=\"Times,serif\" font-size=\"14.00\" fill=\"#000000\">samples = 57</text>\n<text text-anchor=\"middle\" x=\"4894\" y=\"-520.3\" font-family=\"Times,serif\" font-size=\"14.00\" fill=\"#000000\">value = [0, 0, 57]</text>\n</g>\n<!-- 144&#45;&gt;145 -->\n<g id=\"edge145\" class=\"edge\">\n<title>144&#45;&gt;145</title>\n<path fill=\"none\" stroke=\"#000000\" d=\"M4990.1765,-608.9465C4973.6679,-596.9403 4955.1588,-583.4791 4938.8198,-571.5962\"/>\n<polygon fill=\"#000000\" stroke=\"#000000\" points=\"4940.6415,-568.5933 4930.4955,-565.5422 4936.5242,-574.2545 4940.6415,-568.5933\"/>\n</g>\n<!-- 146 -->\n<g id=\"node147\" class=\"node\">\n<title>146</title>\n<polygon fill=\"none\" stroke=\"#000000\" points=\"5103.5,-573 4970.5,-573 4970.5,-505 5103.5,-505 5103.5,-573\"/>\n<text text-anchor=\"middle\" x=\"5037\" y=\"-557.8\" font-family=\"Times,serif\" font-size=\"14.00\" fill=\"#000000\">right_weight &lt;= 3.5</text>\n<text text-anchor=\"middle\" x=\"5037\" y=\"-542.8\" font-family=\"Times,serif\" font-size=\"14.00\" fill=\"#000000\">gini = 0.165</text>\n<text text-anchor=\"middle\" x=\"5037\" y=\"-527.8\" font-family=\"Times,serif\" font-size=\"14.00\" fill=\"#000000\">samples = 11</text>\n<text text-anchor=\"middle\" x=\"5037\" y=\"-512.8\" font-family=\"Times,serif\" font-size=\"14.00\" fill=\"#000000\">value = [0, 1, 10]</text>\n</g>\n<!-- 144&#45;&gt;146 -->\n<g id=\"edge146\" class=\"edge\">\n<title>144&#45;&gt;146</title>\n<path fill=\"none\" stroke=\"#000000\" d=\"M5037,-608.9465C5037,-600.776 5037,-591.9318 5037,-583.3697\"/>\n<polygon fill=\"#000000\" stroke=\"#000000\" points=\"5040.5001,-583.13 5037,-573.13 5033.5001,-583.13 5040.5001,-583.13\"/>\n</g>\n<!-- 147 -->\n<g id=\"node148\" class=\"node\">\n<title>147</title>\n<polygon fill=\"none\" stroke=\"#000000\" points=\"4964,-469 4824,-469 4824,-401 4964,-401 4964,-469\"/>\n<text text-anchor=\"middle\" x=\"4894\" y=\"-453.8\" font-family=\"Times,serif\" font-size=\"14.00\" fill=\"#000000\">right_distance &lt;= 4.0</text>\n<text text-anchor=\"middle\" x=\"4894\" y=\"-438.8\" font-family=\"Times,serif\" font-size=\"14.00\" fill=\"#000000\">gini = 0.444</text>\n<text text-anchor=\"middle\" x=\"4894\" y=\"-423.8\" font-family=\"Times,serif\" font-size=\"14.00\" fill=\"#000000\">samples = 3</text>\n<text text-anchor=\"middle\" x=\"4894\" y=\"-408.8\" font-family=\"Times,serif\" font-size=\"14.00\" fill=\"#000000\">value = [0, 1, 2]</text>\n</g>\n<!-- 146&#45;&gt;147 -->\n<g id=\"edge147\" class=\"edge\">\n<title>146&#45;&gt;147</title>\n<path fill=\"none\" stroke=\"#000000\" d=\"M4990.1765,-504.9465C4977.0902,-495.4293 4962.747,-484.9978 4949.2241,-475.163\"/>\n<polygon fill=\"#000000\" stroke=\"#000000\" points=\"4951.0747,-472.1812 4940.9287,-469.13 4946.9575,-477.8423 4951.0747,-472.1812\"/>\n</g>\n<!-- 150 -->\n<g id=\"node151\" class=\"node\">\n<title>150</title>\n<polygon fill=\"none\" stroke=\"#000000\" points=\"5092,-461.5 4982,-461.5 4982,-408.5 5092,-408.5 5092,-461.5\"/>\n<text text-anchor=\"middle\" x=\"5037\" y=\"-446.3\" font-family=\"Times,serif\" font-size=\"14.00\" fill=\"#000000\">gini = 0.0</text>\n<text text-anchor=\"middle\" x=\"5037\" y=\"-431.3\" font-family=\"Times,serif\" font-size=\"14.00\" fill=\"#000000\">samples = 8</text>\n<text text-anchor=\"middle\" x=\"5037\" y=\"-416.3\" font-family=\"Times,serif\" font-size=\"14.00\" fill=\"#000000\">value = [0, 0, 8]</text>\n</g>\n<!-- 146&#45;&gt;150 -->\n<g id=\"edge150\" class=\"edge\">\n<title>146&#45;&gt;150</title>\n<path fill=\"none\" stroke=\"#000000\" d=\"M5037,-504.9465C5037,-494.2621 5037,-482.4254 5037,-471.5742\"/>\n<polygon fill=\"#000000\" stroke=\"#000000\" points=\"5040.5001,-471.5421 5037,-461.5422 5033.5001,-471.5422 5040.5001,-471.5421\"/>\n</g>\n<!-- 148 -->\n<g id=\"node149\" class=\"node\">\n<title>148</title>\n<polygon fill=\"none\" stroke=\"#000000\" points=\"4854,-357.5 4744,-357.5 4744,-304.5 4854,-304.5 4854,-357.5\"/>\n<text text-anchor=\"middle\" x=\"4799\" y=\"-342.3\" font-family=\"Times,serif\" font-size=\"14.00\" fill=\"#000000\">gini = 0.0</text>\n<text text-anchor=\"middle\" x=\"4799\" y=\"-327.3\" font-family=\"Times,serif\" font-size=\"14.00\" fill=\"#000000\">samples = 1</text>\n<text text-anchor=\"middle\" x=\"4799\" y=\"-312.3\" font-family=\"Times,serif\" font-size=\"14.00\" fill=\"#000000\">value = [0, 1, 0]</text>\n</g>\n<!-- 147&#45;&gt;148 -->\n<g id=\"edge148\" class=\"edge\">\n<title>147&#45;&gt;148</title>\n<path fill=\"none\" stroke=\"#000000\" d=\"M4862.8934,-400.9465C4852.4293,-389.491 4840.7553,-376.711 4830.278,-365.2412\"/>\n<polygon fill=\"#000000\" stroke=\"#000000\" points=\"4832.5738,-362.565 4823.2452,-357.5422 4827.4055,-367.2861 4832.5738,-362.565\"/>\n</g>\n<!-- 149 -->\n<g id=\"node150\" class=\"node\">\n<title>149</title>\n<polygon fill=\"none\" stroke=\"#000000\" points=\"4982,-357.5 4872,-357.5 4872,-304.5 4982,-304.5 4982,-357.5\"/>\n<text text-anchor=\"middle\" x=\"4927\" y=\"-342.3\" font-family=\"Times,serif\" font-size=\"14.00\" fill=\"#000000\">gini = 0.0</text>\n<text text-anchor=\"middle\" x=\"4927\" y=\"-327.3\" font-family=\"Times,serif\" font-size=\"14.00\" fill=\"#000000\">samples = 2</text>\n<text text-anchor=\"middle\" x=\"4927\" y=\"-312.3\" font-family=\"Times,serif\" font-size=\"14.00\" fill=\"#000000\">value = [0, 0, 2]</text>\n</g>\n<!-- 147&#45;&gt;149 -->\n<g id=\"edge149\" class=\"edge\">\n<title>147&#45;&gt;149</title>\n<path fill=\"none\" stroke=\"#000000\" d=\"M4904.8054,-400.9465C4908.2306,-390.1519 4912.029,-378.1813 4915.5011,-367.2389\"/>\n<polygon fill=\"#000000\" stroke=\"#000000\" points=\"4918.8895,-368.1324 4918.578,-357.5422 4912.2173,-366.0152 4918.8895,-368.1324\"/>\n</g>\n<!-- 152 -->\n<g id=\"node153\" class=\"node\">\n<title>152</title>\n<polygon fill=\"none\" stroke=\"#000000\" points=\"5320,-573 5196,-573 5196,-505 5320,-505 5320,-573\"/>\n<text text-anchor=\"middle\" x=\"5258\" y=\"-557.8\" font-family=\"Times,serif\" font-size=\"14.00\" fill=\"#000000\">left_weight &lt;= 3.5</text>\n<text text-anchor=\"middle\" x=\"5258\" y=\"-542.8\" font-family=\"Times,serif\" font-size=\"14.00\" fill=\"#000000\">gini = 0.595</text>\n<text text-anchor=\"middle\" x=\"5258\" y=\"-527.8\" font-family=\"Times,serif\" font-size=\"14.00\" fill=\"#000000\">samples = 11</text>\n<text text-anchor=\"middle\" x=\"5258\" y=\"-512.8\" font-family=\"Times,serif\" font-size=\"14.00\" fill=\"#000000\">value = [3, 2, 6]</text>\n</g>\n<!-- 151&#45;&gt;152 -->\n<g id=\"edge152\" class=\"edge\">\n<title>151&#45;&gt;152</title>\n<path fill=\"none\" stroke=\"#000000\" d=\"M5258,-608.9465C5258,-600.776 5258,-591.9318 5258,-583.3697\"/>\n<polygon fill=\"#000000\" stroke=\"#000000\" points=\"5261.5001,-583.13 5258,-573.13 5254.5001,-583.13 5261.5001,-583.13\"/>\n</g>\n<!-- 165 -->\n<g id=\"node166\" class=\"node\">\n<title>165</title>\n<polygon fill=\"none\" stroke=\"#000000\" points=\"5533,-573 5409,-573 5409,-505 5533,-505 5533,-573\"/>\n<text text-anchor=\"middle\" x=\"5471\" y=\"-557.8\" font-family=\"Times,serif\" font-size=\"14.00\" fill=\"#000000\">left_weight &lt;= 4.5</text>\n<text text-anchor=\"middle\" x=\"5471\" y=\"-542.8\" font-family=\"Times,serif\" font-size=\"14.00\" fill=\"#000000\">gini = 0.087</text>\n<text text-anchor=\"middle\" x=\"5471\" y=\"-527.8\" font-family=\"Times,serif\" font-size=\"14.00\" fill=\"#000000\">samples = 22</text>\n<text text-anchor=\"middle\" x=\"5471\" y=\"-512.8\" font-family=\"Times,serif\" font-size=\"14.00\" fill=\"#000000\">value = [1, 0, 21]</text>\n</g>\n<!-- 151&#45;&gt;165 -->\n<g id=\"edge165\" class=\"edge\">\n<title>151&#45;&gt;165</title>\n<path fill=\"none\" stroke=\"#000000\" d=\"M5327.7442,-608.9465C5350.8798,-597.6502 5376.6532,-585.066 5399.8905,-573.7201\"/>\n<polygon fill=\"#000000\" stroke=\"#000000\" points=\"5401.5477,-576.806 5408.9981,-569.2732 5398.4763,-570.5157 5401.5477,-576.806\"/>\n</g>\n<!-- 153 -->\n<g id=\"node154\" class=\"node\">\n<title>153</title>\n<polygon fill=\"none\" stroke=\"#000000\" points=\"5243.5,-469 5110.5,-469 5110.5,-401 5243.5,-401 5243.5,-469\"/>\n<text text-anchor=\"middle\" x=\"5177\" y=\"-453.8\" font-family=\"Times,serif\" font-size=\"14.00\" fill=\"#000000\">right_weight &lt;= 3.5</text>\n<text text-anchor=\"middle\" x=\"5177\" y=\"-438.8\" font-family=\"Times,serif\" font-size=\"14.00\" fill=\"#000000\">gini = 0.278</text>\n<text text-anchor=\"middle\" x=\"5177\" y=\"-423.8\" font-family=\"Times,serif\" font-size=\"14.00\" fill=\"#000000\">samples = 6</text>\n<text text-anchor=\"middle\" x=\"5177\" y=\"-408.8\" font-family=\"Times,serif\" font-size=\"14.00\" fill=\"#000000\">value = [1, 0, 5]</text>\n</g>\n<!-- 152&#45;&gt;153 -->\n<g id=\"edge153\" class=\"edge\">\n<title>152&#45;&gt;153</title>\n<path fill=\"none\" stroke=\"#000000\" d=\"M5231.4776,-504.9465C5224.5546,-496.0578 5217.0106,-486.3716 5209.804,-477.1188\"/>\n<polygon fill=\"#000000\" stroke=\"#000000\" points=\"5212.488,-474.8688 5203.582,-469.13 5206.9654,-479.1701 5212.488,-474.8688\"/>\n</g>\n<!-- 156 -->\n<g id=\"node157\" class=\"node\">\n<title>156</title>\n<polygon fill=\"none\" stroke=\"#000000\" points=\"5394.5,-469 5261.5,-469 5261.5,-401 5394.5,-401 5394.5,-469\"/>\n<text text-anchor=\"middle\" x=\"5328\" y=\"-453.8\" font-family=\"Times,serif\" font-size=\"14.00\" fill=\"#000000\">right_weight &lt;= 4.5</text>\n<text text-anchor=\"middle\" x=\"5328\" y=\"-438.8\" font-family=\"Times,serif\" font-size=\"14.00\" fill=\"#000000\">gini = 0.64</text>\n<text text-anchor=\"middle\" x=\"5328\" y=\"-423.8\" font-family=\"Times,serif\" font-size=\"14.00\" fill=\"#000000\">samples = 5</text>\n<text text-anchor=\"middle\" x=\"5328\" y=\"-408.8\" font-family=\"Times,serif\" font-size=\"14.00\" fill=\"#000000\">value = [2, 2, 1]</text>\n</g>\n<!-- 152&#45;&gt;156 -->\n<g id=\"edge156\" class=\"edge\">\n<title>152&#45;&gt;156</title>\n<path fill=\"none\" stroke=\"#000000\" d=\"M5280.9206,-504.9465C5286.7826,-496.2373 5293.1598,-486.7626 5299.273,-477.6801\"/>\n<polygon fill=\"#000000\" stroke=\"#000000\" points=\"5302.3476,-479.3802 5305.0279,-469.13 5296.5405,-475.4716 5302.3476,-479.3802\"/>\n</g>\n<!-- 154 -->\n<g id=\"node155\" class=\"node\">\n<title>154</title>\n<polygon fill=\"none\" stroke=\"#000000\" points=\"5110,-357.5 5000,-357.5 5000,-304.5 5110,-304.5 5110,-357.5\"/>\n<text text-anchor=\"middle\" x=\"5055\" y=\"-342.3\" font-family=\"Times,serif\" font-size=\"14.00\" fill=\"#000000\">gini = 0.0</text>\n<text text-anchor=\"middle\" x=\"5055\" y=\"-327.3\" font-family=\"Times,serif\" font-size=\"14.00\" fill=\"#000000\">samples = 1</text>\n<text text-anchor=\"middle\" x=\"5055\" y=\"-312.3\" font-family=\"Times,serif\" font-size=\"14.00\" fill=\"#000000\">value = [1, 0, 0]</text>\n</g>\n<!-- 153&#45;&gt;154 -->\n<g id=\"edge154\" class=\"edge\">\n<title>153&#45;&gt;154</title>\n<path fill=\"none\" stroke=\"#000000\" d=\"M5137.0526,-400.9465C5123.2268,-389.1606 5107.7564,-375.9726 5094.0071,-364.2519\"/>\n<polygon fill=\"#000000\" stroke=\"#000000\" points=\"5096.0168,-361.366 5086.136,-357.5422 5091.4756,-366.6931 5096.0168,-361.366\"/>\n</g>\n<!-- 155 -->\n<g id=\"node156\" class=\"node\">\n<title>155</title>\n<polygon fill=\"none\" stroke=\"#000000\" points=\"5238,-357.5 5128,-357.5 5128,-304.5 5238,-304.5 5238,-357.5\"/>\n<text text-anchor=\"middle\" x=\"5183\" y=\"-342.3\" font-family=\"Times,serif\" font-size=\"14.00\" fill=\"#000000\">gini = 0.0</text>\n<text text-anchor=\"middle\" x=\"5183\" y=\"-327.3\" font-family=\"Times,serif\" font-size=\"14.00\" fill=\"#000000\">samples = 5</text>\n<text text-anchor=\"middle\" x=\"5183\" y=\"-312.3\" font-family=\"Times,serif\" font-size=\"14.00\" fill=\"#000000\">value = [0, 0, 5]</text>\n</g>\n<!-- 153&#45;&gt;155 -->\n<g id=\"edge155\" class=\"edge\">\n<title>153&#45;&gt;155</title>\n<path fill=\"none\" stroke=\"#000000\" d=\"M5178.9646,-400.9465C5179.581,-390.2621 5180.2639,-378.4254 5180.8899,-367.5742\"/>\n<polygon fill=\"#000000\" stroke=\"#000000\" points=\"5184.3869,-367.7272 5181.4687,-357.5422 5177.3985,-367.3239 5184.3869,-367.7272\"/>\n</g>\n<!-- 157 -->\n<g id=\"node158\" class=\"node\">\n<title>157</title>\n<polygon fill=\"none\" stroke=\"#000000\" points=\"5389.5,-365 5256.5,-365 5256.5,-297 5389.5,-297 5389.5,-365\"/>\n<text text-anchor=\"middle\" x=\"5323\" y=\"-349.8\" font-family=\"Times,serif\" font-size=\"14.00\" fill=\"#000000\">right_weight &lt;= 3.5</text>\n<text text-anchor=\"middle\" x=\"5323\" y=\"-334.8\" font-family=\"Times,serif\" font-size=\"14.00\" fill=\"#000000\">gini = 0.444</text>\n<text text-anchor=\"middle\" x=\"5323\" y=\"-319.8\" font-family=\"Times,serif\" font-size=\"14.00\" fill=\"#000000\">samples = 3</text>\n<text text-anchor=\"middle\" x=\"5323\" y=\"-304.8\" font-family=\"Times,serif\" font-size=\"14.00\" fill=\"#000000\">value = [1, 2, 0]</text>\n</g>\n<!-- 156&#45;&gt;157 -->\n<g id=\"edge157\" class=\"edge\">\n<title>156&#45;&gt;157</title>\n<path fill=\"none\" stroke=\"#000000\" d=\"M5326.3628,-400.9465C5325.97,-392.776 5325.5448,-383.9318 5325.1332,-375.3697\"/>\n<polygon fill=\"#000000\" stroke=\"#000000\" points=\"5328.6171,-374.9504 5324.6409,-365.13 5321.6252,-375.2866 5328.6171,-374.9504\"/>\n</g>\n<!-- 162 -->\n<g id=\"node163\" class=\"node\">\n<title>162</title>\n<polygon fill=\"none\" stroke=\"#000000\" points=\"5532,-365 5408,-365 5408,-297 5532,-297 5532,-365\"/>\n<text text-anchor=\"middle\" x=\"5470\" y=\"-349.8\" font-family=\"Times,serif\" font-size=\"14.00\" fill=\"#000000\">left_weight &lt;= 4.5</text>\n<text text-anchor=\"middle\" x=\"5470\" y=\"-334.8\" font-family=\"Times,serif\" font-size=\"14.00\" fill=\"#000000\">gini = 0.5</text>\n<text text-anchor=\"middle\" x=\"5470\" y=\"-319.8\" font-family=\"Times,serif\" font-size=\"14.00\" fill=\"#000000\">samples = 2</text>\n<text text-anchor=\"middle\" x=\"5470\" y=\"-304.8\" font-family=\"Times,serif\" font-size=\"14.00\" fill=\"#000000\">value = [1, 0, 1]</text>\n</g>\n<!-- 156&#45;&gt;162 -->\n<g id=\"edge162\" class=\"edge\">\n<title>156&#45;&gt;162</title>\n<path fill=\"none\" stroke=\"#000000\" d=\"M5374.4961,-400.9465C5387.4908,-391.4293 5401.7337,-380.9978 5415.1621,-371.163\"/>\n<polygon fill=\"#000000\" stroke=\"#000000\" points=\"5417.3998,-373.8624 5423.3994,-365.13 5413.2637,-368.2151 5417.3998,-373.8624\"/>\n</g>\n<!-- 158 -->\n<g id=\"node159\" class=\"node\">\n<title>158</title>\n<polygon fill=\"none\" stroke=\"#000000\" points=\"5246,-253.5 5136,-253.5 5136,-200.5 5246,-200.5 5246,-253.5\"/>\n<text text-anchor=\"middle\" x=\"5191\" y=\"-238.3\" font-family=\"Times,serif\" font-size=\"14.00\" fill=\"#000000\">gini = 0.0</text>\n<text text-anchor=\"middle\" x=\"5191\" y=\"-223.3\" font-family=\"Times,serif\" font-size=\"14.00\" fill=\"#000000\">samples = 1</text>\n<text text-anchor=\"middle\" x=\"5191\" y=\"-208.3\" font-family=\"Times,serif\" font-size=\"14.00\" fill=\"#000000\">value = [0, 1, 0]</text>\n</g>\n<!-- 157&#45;&gt;158 -->\n<g id=\"edge158\" class=\"edge\">\n<title>157&#45;&gt;158</title>\n<path fill=\"none\" stroke=\"#000000\" d=\"M5279.7783,-296.9465C5264.6794,-285.0504 5247.7676,-271.726 5232.7878,-259.9237\"/>\n<polygon fill=\"#000000\" stroke=\"#000000\" points=\"5234.7091,-256.9817 5224.6881,-253.5422 5230.377,-262.4802 5234.7091,-256.9817\"/>\n</g>\n<!-- 159 -->\n<g id=\"node160\" class=\"node\">\n<title>159</title>\n<polygon fill=\"none\" stroke=\"#000000\" points=\"5388,-261 5264,-261 5264,-193 5388,-193 5388,-261\"/>\n<text text-anchor=\"middle\" x=\"5326\" y=\"-245.8\" font-family=\"Times,serif\" font-size=\"14.00\" fill=\"#000000\">left_weight &lt;= 4.5</text>\n<text text-anchor=\"middle\" x=\"5326\" y=\"-230.8\" font-family=\"Times,serif\" font-size=\"14.00\" fill=\"#000000\">gini = 0.5</text>\n<text text-anchor=\"middle\" x=\"5326\" y=\"-215.8\" font-family=\"Times,serif\" font-size=\"14.00\" fill=\"#000000\">samples = 2</text>\n<text text-anchor=\"middle\" x=\"5326\" y=\"-200.8\" font-family=\"Times,serif\" font-size=\"14.00\" fill=\"#000000\">value = [1, 1, 0]</text>\n</g>\n<!-- 157&#45;&gt;159 -->\n<g id=\"edge159\" class=\"edge\">\n<title>157&#45;&gt;159</title>\n<path fill=\"none\" stroke=\"#000000\" d=\"M5323.9823,-296.9465C5324.218,-288.776 5324.4731,-279.9318 5324.7201,-271.3697\"/>\n<polygon fill=\"#000000\" stroke=\"#000000\" points=\"5328.2256,-271.2268 5325.0155,-261.13 5321.2285,-271.0249 5328.2256,-271.2268\"/>\n</g>\n<!-- 160 -->\n<g id=\"node161\" class=\"node\">\n<title>160</title>\n<polygon fill=\"none\" stroke=\"#000000\" points=\"5317,-149.5 5207,-149.5 5207,-96.5 5317,-96.5 5317,-149.5\"/>\n<text text-anchor=\"middle\" x=\"5262\" y=\"-134.3\" font-family=\"Times,serif\" font-size=\"14.00\" fill=\"#000000\">gini = 0.0</text>\n<text text-anchor=\"middle\" x=\"5262\" y=\"-119.3\" font-family=\"Times,serif\" font-size=\"14.00\" fill=\"#000000\">samples = 1</text>\n<text text-anchor=\"middle\" x=\"5262\" y=\"-104.3\" font-family=\"Times,serif\" font-size=\"14.00\" fill=\"#000000\">value = [1, 0, 0]</text>\n</g>\n<!-- 159&#45;&gt;160 -->\n<g id=\"edge160\" class=\"edge\">\n<title>159&#45;&gt;160</title>\n<path fill=\"none\" stroke=\"#000000\" d=\"M5305.044,-192.9465C5298.1978,-181.8215 5290.5829,-169.4473 5283.6843,-158.237\"/>\n<polygon fill=\"#000000\" stroke=\"#000000\" points=\"5286.5555,-156.2244 5278.3336,-149.5422 5280.5939,-159.8931 5286.5555,-156.2244\"/>\n</g>\n<!-- 161 -->\n<g id=\"node162\" class=\"node\">\n<title>161</title>\n<polygon fill=\"none\" stroke=\"#000000\" points=\"5445,-149.5 5335,-149.5 5335,-96.5 5445,-96.5 5445,-149.5\"/>\n<text text-anchor=\"middle\" x=\"5390\" y=\"-134.3\" font-family=\"Times,serif\" font-size=\"14.00\" fill=\"#000000\">gini = 0.0</text>\n<text text-anchor=\"middle\" x=\"5390\" y=\"-119.3\" font-family=\"Times,serif\" font-size=\"14.00\" fill=\"#000000\">samples = 1</text>\n<text text-anchor=\"middle\" x=\"5390\" y=\"-104.3\" font-family=\"Times,serif\" font-size=\"14.00\" fill=\"#000000\">value = [0, 1, 0]</text>\n</g>\n<!-- 159&#45;&gt;161 -->\n<g id=\"edge161\" class=\"edge\">\n<title>159&#45;&gt;161</title>\n<path fill=\"none\" stroke=\"#000000\" d=\"M5346.956,-192.9465C5353.8022,-181.8215 5361.4171,-169.4473 5368.3157,-158.237\"/>\n<polygon fill=\"#000000\" stroke=\"#000000\" points=\"5371.4061,-159.8931 5373.6664,-149.5422 5365.4445,-156.2244 5371.4061,-159.8931\"/>\n</g>\n<!-- 163 -->\n<g id=\"node164\" class=\"node\">\n<title>163</title>\n<polygon fill=\"none\" stroke=\"#000000\" points=\"5519,-253.5 5409,-253.5 5409,-200.5 5519,-200.5 5519,-253.5\"/>\n<text text-anchor=\"middle\" x=\"5464\" y=\"-238.3\" font-family=\"Times,serif\" font-size=\"14.00\" fill=\"#000000\">gini = 0.0</text>\n<text text-anchor=\"middle\" x=\"5464\" y=\"-223.3\" font-family=\"Times,serif\" font-size=\"14.00\" fill=\"#000000\">samples = 1</text>\n<text text-anchor=\"middle\" x=\"5464\" y=\"-208.3\" font-family=\"Times,serif\" font-size=\"14.00\" fill=\"#000000\">value = [0, 0, 1]</text>\n</g>\n<!-- 162&#45;&gt;163 -->\n<g id=\"edge163\" class=\"edge\">\n<title>162&#45;&gt;163</title>\n<path fill=\"none\" stroke=\"#000000\" d=\"M5468.0354,-296.9465C5467.419,-286.2621 5466.7361,-274.4254 5466.1101,-263.5742\"/>\n<polygon fill=\"#000000\" stroke=\"#000000\" points=\"5469.6015,-263.3239 5465.5313,-253.5422 5462.6131,-263.7272 5469.6015,-263.3239\"/>\n</g>\n<!-- 164 -->\n<g id=\"node165\" class=\"node\">\n<title>164</title>\n<polygon fill=\"none\" stroke=\"#000000\" points=\"5647,-253.5 5537,-253.5 5537,-200.5 5647,-200.5 5647,-253.5\"/>\n<text text-anchor=\"middle\" x=\"5592\" y=\"-238.3\" font-family=\"Times,serif\" font-size=\"14.00\" fill=\"#000000\">gini = 0.0</text>\n<text text-anchor=\"middle\" x=\"5592\" y=\"-223.3\" font-family=\"Times,serif\" font-size=\"14.00\" fill=\"#000000\">samples = 1</text>\n<text text-anchor=\"middle\" x=\"5592\" y=\"-208.3\" font-family=\"Times,serif\" font-size=\"14.00\" fill=\"#000000\">value = [1, 0, 0]</text>\n</g>\n<!-- 162&#45;&gt;164 -->\n<g id=\"edge164\" class=\"edge\">\n<title>162&#45;&gt;164</title>\n<path fill=\"none\" stroke=\"#000000\" d=\"M5509.9474,-296.9465C5523.7732,-285.1606 5539.2436,-271.9726 5552.9929,-260.2519\"/>\n<polygon fill=\"#000000\" stroke=\"#000000\" points=\"5555.5244,-262.6931 5560.864,-253.5422 5550.9832,-257.366 5555.5244,-262.6931\"/>\n</g>\n<!-- 166 -->\n<g id=\"node167\" class=\"node\">\n<title>166</title>\n<polygon fill=\"none\" stroke=\"#000000\" points=\"5529.5,-461.5 5412.5,-461.5 5412.5,-408.5 5529.5,-408.5 5529.5,-461.5\"/>\n<text text-anchor=\"middle\" x=\"5471\" y=\"-446.3\" font-family=\"Times,serif\" font-size=\"14.00\" fill=\"#000000\">gini = 0.0</text>\n<text text-anchor=\"middle\" x=\"5471\" y=\"-431.3\" font-family=\"Times,serif\" font-size=\"14.00\" fill=\"#000000\">samples = 18</text>\n<text text-anchor=\"middle\" x=\"5471\" y=\"-416.3\" font-family=\"Times,serif\" font-size=\"14.00\" fill=\"#000000\">value = [0, 0, 18]</text>\n</g>\n<!-- 165&#45;&gt;166 -->\n<g id=\"edge166\" class=\"edge\">\n<title>165&#45;&gt;166</title>\n<path fill=\"none\" stroke=\"#000000\" d=\"M5471,-504.9465C5471,-494.2621 5471,-482.4254 5471,-471.5742\"/>\n<polygon fill=\"#000000\" stroke=\"#000000\" points=\"5474.5001,-471.5421 5471,-461.5422 5467.5001,-471.5422 5474.5001,-471.5421\"/>\n</g>\n<!-- 167 -->\n<g id=\"node168\" class=\"node\">\n<title>167</title>\n<polygon fill=\"none\" stroke=\"#000000\" points=\"5680.5,-469 5547.5,-469 5547.5,-401 5680.5,-401 5680.5,-469\"/>\n<text text-anchor=\"middle\" x=\"5614\" y=\"-453.8\" font-family=\"Times,serif\" font-size=\"14.00\" fill=\"#000000\">right_weight &lt;= 3.5</text>\n<text text-anchor=\"middle\" x=\"5614\" y=\"-438.8\" font-family=\"Times,serif\" font-size=\"14.00\" fill=\"#000000\">gini = 0.375</text>\n<text text-anchor=\"middle\" x=\"5614\" y=\"-423.8\" font-family=\"Times,serif\" font-size=\"14.00\" fill=\"#000000\">samples = 4</text>\n<text text-anchor=\"middle\" x=\"5614\" y=\"-408.8\" font-family=\"Times,serif\" font-size=\"14.00\" fill=\"#000000\">value = [1, 0, 3]</text>\n</g>\n<!-- 165&#45;&gt;167 -->\n<g id=\"edge167\" class=\"edge\">\n<title>165&#45;&gt;167</title>\n<path fill=\"none\" stroke=\"#000000\" d=\"M5517.8235,-504.9465C5530.9098,-495.4293 5545.253,-484.9978 5558.7759,-475.163\"/>\n<polygon fill=\"#000000\" stroke=\"#000000\" points=\"5561.0425,-477.8423 5567.0713,-469.13 5556.9253,-472.1812 5561.0425,-477.8423\"/>\n</g>\n<!-- 168 -->\n<g id=\"node169\" class=\"node\">\n<title>168</title>\n<polygon fill=\"none\" stroke=\"#000000\" points=\"5660,-357.5 5550,-357.5 5550,-304.5 5660,-304.5 5660,-357.5\"/>\n<text text-anchor=\"middle\" x=\"5605\" y=\"-342.3\" font-family=\"Times,serif\" font-size=\"14.00\" fill=\"#000000\">gini = 0.0</text>\n<text text-anchor=\"middle\" x=\"5605\" y=\"-327.3\" font-family=\"Times,serif\" font-size=\"14.00\" fill=\"#000000\">samples = 1</text>\n<text text-anchor=\"middle\" x=\"5605\" y=\"-312.3\" font-family=\"Times,serif\" font-size=\"14.00\" fill=\"#000000\">value = [1, 0, 0]</text>\n</g>\n<!-- 167&#45;&gt;168 -->\n<g id=\"edge168\" class=\"edge\">\n<title>167&#45;&gt;168</title>\n<path fill=\"none\" stroke=\"#000000\" d=\"M5611.0531,-400.9465C5610.1284,-390.2621 5609.1041,-378.4254 5608.1651,-367.5742\"/>\n<polygon fill=\"#000000\" stroke=\"#000000\" points=\"5611.6461,-367.2031 5607.2969,-357.5422 5604.6722,-367.8067 5611.6461,-367.2031\"/>\n</g>\n<!-- 169 -->\n<g id=\"node170\" class=\"node\">\n<title>169</title>\n<polygon fill=\"none\" stroke=\"#000000\" points=\"5788,-357.5 5678,-357.5 5678,-304.5 5788,-304.5 5788,-357.5\"/>\n<text text-anchor=\"middle\" x=\"5733\" y=\"-342.3\" font-family=\"Times,serif\" font-size=\"14.00\" fill=\"#000000\">gini = 0.0</text>\n<text text-anchor=\"middle\" x=\"5733\" y=\"-327.3\" font-family=\"Times,serif\" font-size=\"14.00\" fill=\"#000000\">samples = 3</text>\n<text text-anchor=\"middle\" x=\"5733\" y=\"-312.3\" font-family=\"Times,serif\" font-size=\"14.00\" fill=\"#000000\">value = [0, 0, 3]</text>\n</g>\n<!-- 167&#45;&gt;169 -->\n<g id=\"edge169\" class=\"edge\">\n<title>167&#45;&gt;169</title>\n<path fill=\"none\" stroke=\"#000000\" d=\"M5652.9651,-400.9465C5666.4509,-389.1606 5681.5409,-375.9726 5694.9521,-364.2519\"/>\n<polygon fill=\"#000000\" stroke=\"#000000\" points=\"5697.4031,-366.7582 5702.6296,-357.5422 5692.7967,-361.4874 5697.4031,-366.7582\"/>\n</g>\n<!-- 171 -->\n<g id=\"node172\" class=\"node\">\n<title>171</title>\n<polygon fill=\"none\" stroke=\"#000000\" points=\"6275,-677 6151,-677 6151,-609 6275,-609 6275,-677\"/>\n<text text-anchor=\"middle\" x=\"6213\" y=\"-661.8\" font-family=\"Times,serif\" font-size=\"14.00\" fill=\"#000000\">left_weight &lt;= 2.5</text>\n<text text-anchor=\"middle\" x=\"6213\" y=\"-646.8\" font-family=\"Times,serif\" font-size=\"14.00\" fill=\"#000000\">gini = 0.302</text>\n<text text-anchor=\"middle\" x=\"6213\" y=\"-631.8\" font-family=\"Times,serif\" font-size=\"14.00\" fill=\"#000000\">samples = 46</text>\n<text text-anchor=\"middle\" x=\"6213\" y=\"-616.8\" font-family=\"Times,serif\" font-size=\"14.00\" fill=\"#000000\">value = [3, 5, 38]</text>\n</g>\n<!-- 170&#45;&gt;171 -->\n<g id=\"edge171\" class=\"edge\">\n<title>170&#45;&gt;171</title>\n<path fill=\"none\" stroke=\"#000000\" d=\"M6213,-712.9465C6213,-704.776 6213,-695.9318 6213,-687.3697\"/>\n<polygon fill=\"#000000\" stroke=\"#000000\" points=\"6216.5001,-687.13 6213,-677.13 6209.5001,-687.13 6216.5001,-687.13\"/>\n</g>\n<!-- 198 -->\n<g id=\"node199\" class=\"node\">\n<title>198</title>\n<polygon fill=\"none\" stroke=\"#000000\" points=\"6540.5,-677 6407.5,-677 6407.5,-609 6540.5,-609 6540.5,-677\"/>\n<text text-anchor=\"middle\" x=\"6474\" y=\"-661.8\" font-family=\"Times,serif\" font-size=\"14.00\" fill=\"#000000\">right_weight &lt;= 3.5</text>\n<text text-anchor=\"middle\" x=\"6474\" y=\"-646.8\" font-family=\"Times,serif\" font-size=\"14.00\" fill=\"#000000\">gini = 0.525</text>\n<text text-anchor=\"middle\" x=\"6474\" y=\"-631.8\" font-family=\"Times,serif\" font-size=\"14.00\" fill=\"#000000\">samples = 22</text>\n<text text-anchor=\"middle\" x=\"6474\" y=\"-616.8\" font-family=\"Times,serif\" font-size=\"14.00\" fill=\"#000000\">value = [5, 14, 3]</text>\n</g>\n<!-- 170&#45;&gt;198 -->\n<g id=\"edge198\" class=\"edge\">\n<title>170&#45;&gt;198</title>\n<path fill=\"none\" stroke=\"#000000\" d=\"M6275.516,-722.0894C6312.2193,-707.4643 6358.8768,-688.8728 6397.7321,-673.3903\"/>\n<polygon fill=\"#000000\" stroke=\"#000000\" points=\"6399.4376,-676.4784 6407.4317,-669.5253 6396.8464,-669.9756 6399.4376,-676.4784\"/>\n</g>\n<!-- 172 -->\n<g id=\"node173\" class=\"node\">\n<title>172</title>\n<polygon fill=\"none\" stroke=\"#000000\" points=\"6204,-573 6064,-573 6064,-505 6204,-505 6204,-573\"/>\n<text text-anchor=\"middle\" x=\"6134\" y=\"-557.8\" font-family=\"Times,serif\" font-size=\"14.00\" fill=\"#000000\">right_distance &lt;= 3.5</text>\n<text text-anchor=\"middle\" x=\"6134\" y=\"-542.8\" font-family=\"Times,serif\" font-size=\"14.00\" fill=\"#000000\">gini = 0.064</text>\n<text text-anchor=\"middle\" x=\"6134\" y=\"-527.8\" font-family=\"Times,serif\" font-size=\"14.00\" fill=\"#000000\">samples = 30</text>\n<text text-anchor=\"middle\" x=\"6134\" y=\"-512.8\" font-family=\"Times,serif\" font-size=\"14.00\" fill=\"#000000\">value = [0, 1, 29]</text>\n</g>\n<!-- 171&#45;&gt;172 -->\n<g id=\"edge172\" class=\"edge\">\n<title>171&#45;&gt;172</title>\n<path fill=\"none\" stroke=\"#000000\" d=\"M6187.1324,-608.9465C6180.3804,-600.0578 6173.0226,-590.3716 6165.9941,-581.1188\"/>\n<polygon fill=\"#000000\" stroke=\"#000000\" points=\"6168.7617,-578.976 6159.9257,-573.13 6163.1875,-583.2102 6168.7617,-578.976\"/>\n</g>\n<!-- 181 -->\n<g id=\"node182\" class=\"node\">\n<title>181</title>\n<polygon fill=\"none\" stroke=\"#000000\" points=\"6362,-573 6222,-573 6222,-505 6362,-505 6362,-573\"/>\n<text text-anchor=\"middle\" x=\"6292\" y=\"-557.8\" font-family=\"Times,serif\" font-size=\"14.00\" fill=\"#000000\">right_distance &lt;= 3.5</text>\n<text text-anchor=\"middle\" x=\"6292\" y=\"-542.8\" font-family=\"Times,serif\" font-size=\"14.00\" fill=\"#000000\">gini = 0.586</text>\n<text text-anchor=\"middle\" x=\"6292\" y=\"-527.8\" font-family=\"Times,serif\" font-size=\"14.00\" fill=\"#000000\">samples = 16</text>\n<text text-anchor=\"middle\" x=\"6292\" y=\"-512.8\" font-family=\"Times,serif\" font-size=\"14.00\" fill=\"#000000\">value = [3, 4, 9]</text>\n</g>\n<!-- 171&#45;&gt;181 -->\n<g id=\"edge181\" class=\"edge\">\n<title>171&#45;&gt;181</title>\n<path fill=\"none\" stroke=\"#000000\" d=\"M6238.8676,-608.9465C6245.6196,-600.0578 6252.9774,-590.3716 6260.0059,-581.1188\"/>\n<polygon fill=\"#000000\" stroke=\"#000000\" points=\"6262.8125,-583.2102 6266.0743,-573.13 6257.2383,-578.976 6262.8125,-583.2102\"/>\n</g>\n<!-- 173 -->\n<g id=\"node174\" class=\"node\">\n<title>173</title>\n<polygon fill=\"none\" stroke=\"#000000\" points=\"6064.5,-469 5931.5,-469 5931.5,-401 6064.5,-401 6064.5,-469\"/>\n<text text-anchor=\"middle\" x=\"5998\" y=\"-453.8\" font-family=\"Times,serif\" font-size=\"14.00\" fill=\"#000000\">right_weight &lt;= 3.5</text>\n<text text-anchor=\"middle\" x=\"5998\" y=\"-438.8\" font-family=\"Times,serif\" font-size=\"14.00\" fill=\"#000000\">gini = 0.18</text>\n<text text-anchor=\"middle\" x=\"5998\" y=\"-423.8\" font-family=\"Times,serif\" font-size=\"14.00\" fill=\"#000000\">samples = 10</text>\n<text text-anchor=\"middle\" x=\"5998\" y=\"-408.8\" font-family=\"Times,serif\" font-size=\"14.00\" fill=\"#000000\">value = [0, 1, 9]</text>\n</g>\n<!-- 172&#45;&gt;173 -->\n<g id=\"edge173\" class=\"edge\">\n<title>172&#45;&gt;173</title>\n<path fill=\"none\" stroke=\"#000000\" d=\"M6089.4685,-504.9465C6077.1403,-495.519 6063.6391,-485.1946 6050.885,-475.4415\"/>\n<polygon fill=\"#000000\" stroke=\"#000000\" points=\"6052.7012,-472.4243 6042.6315,-469.13 6048.449,-477.9848 6052.7012,-472.4243\"/>\n</g>\n<!-- 180 -->\n<g id=\"node181\" class=\"node\">\n<title>180</title>\n<polygon fill=\"none\" stroke=\"#000000\" points=\"6199.5,-461.5 6082.5,-461.5 6082.5,-408.5 6199.5,-408.5 6199.5,-461.5\"/>\n<text text-anchor=\"middle\" x=\"6141\" y=\"-446.3\" font-family=\"Times,serif\" font-size=\"14.00\" fill=\"#000000\">gini = 0.0</text>\n<text text-anchor=\"middle\" x=\"6141\" y=\"-431.3\" font-family=\"Times,serif\" font-size=\"14.00\" fill=\"#000000\">samples = 20</text>\n<text text-anchor=\"middle\" x=\"6141\" y=\"-416.3\" font-family=\"Times,serif\" font-size=\"14.00\" fill=\"#000000\">value = [0, 0, 20]</text>\n</g>\n<!-- 172&#45;&gt;180 -->\n<g id=\"edge180\" class=\"edge\">\n<title>172&#45;&gt;180</title>\n<path fill=\"none\" stroke=\"#000000\" d=\"M6136.2921,-504.9465C6137.0112,-494.2621 6137.8079,-482.4254 6138.5383,-471.5742\"/>\n<polygon fill=\"#000000\" stroke=\"#000000\" points=\"6142.034,-471.7547 6139.2135,-461.5422 6135.0498,-471.2845 6142.034,-471.7547\"/>\n</g>\n<!-- 174 -->\n<g id=\"node175\" class=\"node\">\n<title>174</title>\n<polygon fill=\"none\" stroke=\"#000000\" points=\"5937.5,-365 5806.5,-365 5806.5,-297 5937.5,-297 5937.5,-365\"/>\n<text text-anchor=\"middle\" x=\"5872\" y=\"-349.8\" font-family=\"Times,serif\" font-size=\"14.00\" fill=\"#000000\">left_distance &lt;= 4.5</text>\n<text text-anchor=\"middle\" x=\"5872\" y=\"-334.8\" font-family=\"Times,serif\" font-size=\"14.00\" fill=\"#000000\">gini = 0.375</text>\n<text text-anchor=\"middle\" x=\"5872\" y=\"-319.8\" font-family=\"Times,serif\" font-size=\"14.00\" fill=\"#000000\">samples = 4</text>\n<text text-anchor=\"middle\" x=\"5872\" y=\"-304.8\" font-family=\"Times,serif\" font-size=\"14.00\" fill=\"#000000\">value = [0, 1, 3]</text>\n</g>\n<!-- 173&#45;&gt;174 -->\n<g id=\"edge174\" class=\"edge\">\n<title>173&#45;&gt;174</title>\n<path fill=\"none\" stroke=\"#000000\" d=\"M5956.7429,-400.9465C5945.4299,-391.6088 5933.0508,-381.3911 5921.3342,-371.7203\"/>\n<polygon fill=\"#000000\" stroke=\"#000000\" points=\"5923.29,-368.7964 5913.3498,-365.13 5918.8341,-374.195 5923.29,-368.7964\"/>\n</g>\n<!-- 179 -->\n<g id=\"node180\" class=\"node\">\n<title>179</title>\n<polygon fill=\"none\" stroke=\"#000000\" points=\"6066,-357.5 5956,-357.5 5956,-304.5 6066,-304.5 6066,-357.5\"/>\n<text text-anchor=\"middle\" x=\"6011\" y=\"-342.3\" font-family=\"Times,serif\" font-size=\"14.00\" fill=\"#000000\">gini = 0.0</text>\n<text text-anchor=\"middle\" x=\"6011\" y=\"-327.3\" font-family=\"Times,serif\" font-size=\"14.00\" fill=\"#000000\">samples = 6</text>\n<text text-anchor=\"middle\" x=\"6011\" y=\"-312.3\" font-family=\"Times,serif\" font-size=\"14.00\" fill=\"#000000\">value = [0, 0, 6]</text>\n</g>\n<!-- 173&#45;&gt;179 -->\n<g id=\"edge179\" class=\"edge\">\n<title>173&#45;&gt;179</title>\n<path fill=\"none\" stroke=\"#000000\" d=\"M6002.2567,-400.9465C6003.5922,-390.2621 6005.0718,-378.4254 6006.4282,-367.5742\"/>\n<polygon fill=\"#000000\" stroke=\"#000000\" points=\"6009.9148,-367.8991 6007.6822,-357.5422 6002.9688,-367.0308 6009.9148,-367.8991\"/>\n</g>\n<!-- 175 -->\n<g id=\"node176\" class=\"node\">\n<title>175</title>\n<polygon fill=\"none\" stroke=\"#000000\" points=\"5792,-253.5 5682,-253.5 5682,-200.5 5792,-200.5 5792,-253.5\"/>\n<text text-anchor=\"middle\" x=\"5737\" y=\"-238.3\" font-family=\"Times,serif\" font-size=\"14.00\" fill=\"#000000\">gini = 0.0</text>\n<text text-anchor=\"middle\" x=\"5737\" y=\"-223.3\" font-family=\"Times,serif\" font-size=\"14.00\" fill=\"#000000\">samples = 2</text>\n<text text-anchor=\"middle\" x=\"5737\" y=\"-208.3\" font-family=\"Times,serif\" font-size=\"14.00\" fill=\"#000000\">value = [0, 0, 2]</text>\n</g>\n<!-- 174&#45;&gt;175 -->\n<g id=\"edge175\" class=\"edge\">\n<title>174&#45;&gt;175</title>\n<path fill=\"none\" stroke=\"#000000\" d=\"M5827.796,-296.9465C5812.3539,-285.0504 5795.0578,-271.726 5779.7375,-259.9237\"/>\n<polygon fill=\"#000000\" stroke=\"#000000\" points=\"5781.5117,-256.8723 5771.4538,-253.5422 5777.2397,-262.4176 5781.5117,-256.8723\"/>\n</g>\n<!-- 176 -->\n<g id=\"node177\" class=\"node\">\n<title>176</title>\n<polygon fill=\"none\" stroke=\"#000000\" points=\"5934,-261 5810,-261 5810,-193 5934,-193 5934,-261\"/>\n<text text-anchor=\"middle\" x=\"5872\" y=\"-245.8\" font-family=\"Times,serif\" font-size=\"14.00\" fill=\"#000000\">left_weight &lt;= 1.5</text>\n<text text-anchor=\"middle\" x=\"5872\" y=\"-230.8\" font-family=\"Times,serif\" font-size=\"14.00\" fill=\"#000000\">gini = 0.5</text>\n<text text-anchor=\"middle\" x=\"5872\" y=\"-215.8\" font-family=\"Times,serif\" font-size=\"14.00\" fill=\"#000000\">samples = 2</text>\n<text text-anchor=\"middle\" x=\"5872\" y=\"-200.8\" font-family=\"Times,serif\" font-size=\"14.00\" fill=\"#000000\">value = [0, 1, 1]</text>\n</g>\n<!-- 174&#45;&gt;176 -->\n<g id=\"edge176\" class=\"edge\">\n<title>174&#45;&gt;176</title>\n<path fill=\"none\" stroke=\"#000000\" d=\"M5872,-296.9465C5872,-288.776 5872,-279.9318 5872,-271.3697\"/>\n<polygon fill=\"#000000\" stroke=\"#000000\" points=\"5875.5001,-271.13 5872,-261.13 5868.5001,-271.13 5875.5001,-271.13\"/>\n</g>\n<!-- 177 -->\n<g id=\"node178\" class=\"node\">\n<title>177</title>\n<polygon fill=\"none\" stroke=\"#000000\" points=\"5799,-149.5 5689,-149.5 5689,-96.5 5799,-96.5 5799,-149.5\"/>\n<text text-anchor=\"middle\" x=\"5744\" y=\"-134.3\" font-family=\"Times,serif\" font-size=\"14.00\" fill=\"#000000\">gini = 0.0</text>\n<text text-anchor=\"middle\" x=\"5744\" y=\"-119.3\" font-family=\"Times,serif\" font-size=\"14.00\" fill=\"#000000\">samples = 1</text>\n<text text-anchor=\"middle\" x=\"5744\" y=\"-104.3\" font-family=\"Times,serif\" font-size=\"14.00\" fill=\"#000000\">value = [0, 0, 1]</text>\n</g>\n<!-- 176&#45;&gt;177 -->\n<g id=\"edge177\" class=\"edge\">\n<title>176&#45;&gt;177</title>\n<path fill=\"none\" stroke=\"#000000\" d=\"M5830.088,-192.9465C5815.4467,-181.0504 5799.0474,-167.726 5784.5215,-155.9237\"/>\n<polygon fill=\"#000000\" stroke=\"#000000\" points=\"5786.6355,-153.1317 5776.6673,-149.5422 5782.2214,-158.5645 5786.6355,-153.1317\"/>\n</g>\n<!-- 178 -->\n<g id=\"node179\" class=\"node\">\n<title>178</title>\n<polygon fill=\"none\" stroke=\"#000000\" points=\"5927,-149.5 5817,-149.5 5817,-96.5 5927,-96.5 5927,-149.5\"/>\n<text text-anchor=\"middle\" x=\"5872\" y=\"-134.3\" font-family=\"Times,serif\" font-size=\"14.00\" fill=\"#000000\">gini = 0.0</text>\n<text text-anchor=\"middle\" x=\"5872\" y=\"-119.3\" font-family=\"Times,serif\" font-size=\"14.00\" fill=\"#000000\">samples = 1</text>\n<text text-anchor=\"middle\" x=\"5872\" y=\"-104.3\" font-family=\"Times,serif\" font-size=\"14.00\" fill=\"#000000\">value = [0, 1, 0]</text>\n</g>\n<!-- 176&#45;&gt;178 -->\n<g id=\"edge178\" class=\"edge\">\n<title>176&#45;&gt;178</title>\n<path fill=\"none\" stroke=\"#000000\" d=\"M5872,-192.9465C5872,-182.2621 5872,-170.4254 5872,-159.5742\"/>\n<polygon fill=\"#000000\" stroke=\"#000000\" points=\"5875.5001,-159.5421 5872,-149.5422 5868.5001,-159.5422 5875.5001,-159.5421\"/>\n</g>\n<!-- 182 -->\n<g id=\"node183\" class=\"node\">\n<title>182</title>\n<polygon fill=\"none\" stroke=\"#000000\" points=\"6354.5,-469 6221.5,-469 6221.5,-401 6354.5,-401 6354.5,-469\"/>\n<text text-anchor=\"middle\" x=\"6288\" y=\"-453.8\" font-family=\"Times,serif\" font-size=\"14.00\" fill=\"#000000\">right_weight &lt;= 3.5</text>\n<text text-anchor=\"middle\" x=\"6288\" y=\"-438.8\" font-family=\"Times,serif\" font-size=\"14.00\" fill=\"#000000\">gini = 0.611</text>\n<text text-anchor=\"middle\" x=\"6288\" y=\"-423.8\" font-family=\"Times,serif\" font-size=\"14.00\" fill=\"#000000\">samples = 6</text>\n<text text-anchor=\"middle\" x=\"6288\" y=\"-408.8\" font-family=\"Times,serif\" font-size=\"14.00\" fill=\"#000000\">value = [2, 3, 1]</text>\n</g>\n<!-- 181&#45;&gt;182 -->\n<g id=\"edge182\" class=\"edge\">\n<title>181&#45;&gt;182</title>\n<path fill=\"none\" stroke=\"#000000\" d=\"M6290.6903,-504.9465C6290.376,-496.776 6290.0358,-487.9318 6289.7065,-479.3697\"/>\n<polygon fill=\"#000000\" stroke=\"#000000\" points=\"6293.1945,-478.9881 6289.3127,-469.13 6286.1997,-479.2572 6293.1945,-478.9881\"/>\n</g>\n<!-- 191 -->\n<g id=\"node192\" class=\"node\">\n<title>191</title>\n<polygon fill=\"none\" stroke=\"#000000\" points=\"6578.5,-469 6445.5,-469 6445.5,-401 6578.5,-401 6578.5,-469\"/>\n<text text-anchor=\"middle\" x=\"6512\" y=\"-453.8\" font-family=\"Times,serif\" font-size=\"14.00\" fill=\"#000000\">right_weight &lt;= 3.5</text>\n<text text-anchor=\"middle\" x=\"6512\" y=\"-438.8\" font-family=\"Times,serif\" font-size=\"14.00\" fill=\"#000000\">gini = 0.34</text>\n<text text-anchor=\"middle\" x=\"6512\" y=\"-423.8\" font-family=\"Times,serif\" font-size=\"14.00\" fill=\"#000000\">samples = 10</text>\n<text text-anchor=\"middle\" x=\"6512\" y=\"-408.8\" font-family=\"Times,serif\" font-size=\"14.00\" fill=\"#000000\">value = [1, 1, 8]</text>\n</g>\n<!-- 181&#45;&gt;191 -->\n<g id=\"edge191\" class=\"edge\">\n<title>181&#45;&gt;191</title>\n<path fill=\"none\" stroke=\"#000000\" d=\"M6362.2142,-505.8078C6385.8535,-494.6329 6412.3258,-482.1187 6436.3643,-470.7551\"/>\n<polygon fill=\"#000000\" stroke=\"#000000\" points=\"6437.9022,-473.8995 6445.4471,-466.4614 6434.9105,-467.571 6437.9022,-473.8995\"/>\n</g>\n<!-- 183 -->\n<g id=\"node184\" class=\"node\">\n<title>183</title>\n<polygon fill=\"none\" stroke=\"#000000\" points=\"6203,-357.5 6093,-357.5 6093,-304.5 6203,-304.5 6203,-357.5\"/>\n<text text-anchor=\"middle\" x=\"6148\" y=\"-342.3\" font-family=\"Times,serif\" font-size=\"14.00\" fill=\"#000000\">gini = 0.0</text>\n<text text-anchor=\"middle\" x=\"6148\" y=\"-327.3\" font-family=\"Times,serif\" font-size=\"14.00\" fill=\"#000000\">samples = 2</text>\n<text text-anchor=\"middle\" x=\"6148\" y=\"-312.3\" font-family=\"Times,serif\" font-size=\"14.00\" fill=\"#000000\">value = [0, 2, 0]</text>\n</g>\n<!-- 182&#45;&gt;183 -->\n<g id=\"edge183\" class=\"edge\">\n<title>182&#45;&gt;183</title>\n<path fill=\"none\" stroke=\"#000000\" d=\"M6242.1588,-400.9465C6225.9965,-388.9403 6207.8758,-375.4791 6191.8795,-363.5962\"/>\n<polygon fill=\"#000000\" stroke=\"#000000\" points=\"6193.8444,-360.6958 6183.7298,-357.5422 6189.6701,-366.3151 6193.8444,-360.6958\"/>\n</g>\n<!-- 184 -->\n<g id=\"node185\" class=\"node\">\n<title>184</title>\n<polygon fill=\"none\" stroke=\"#000000\" points=\"6354.5,-365 6221.5,-365 6221.5,-297 6354.5,-297 6354.5,-365\"/>\n<text text-anchor=\"middle\" x=\"6288\" y=\"-349.8\" font-family=\"Times,serif\" font-size=\"14.00\" fill=\"#000000\">right_weight &lt;= 4.5</text>\n<text text-anchor=\"middle\" x=\"6288\" y=\"-334.8\" font-family=\"Times,serif\" font-size=\"14.00\" fill=\"#000000\">gini = 0.625</text>\n<text text-anchor=\"middle\" x=\"6288\" y=\"-319.8\" font-family=\"Times,serif\" font-size=\"14.00\" fill=\"#000000\">samples = 4</text>\n<text text-anchor=\"middle\" x=\"6288\" y=\"-304.8\" font-family=\"Times,serif\" font-size=\"14.00\" fill=\"#000000\">value = [2, 1, 1]</text>\n</g>\n<!-- 182&#45;&gt;184 -->\n<g id=\"edge184\" class=\"edge\">\n<title>182&#45;&gt;184</title>\n<path fill=\"none\" stroke=\"#000000\" d=\"M6288,-400.9465C6288,-392.776 6288,-383.9318 6288,-375.3697\"/>\n<polygon fill=\"#000000\" stroke=\"#000000\" points=\"6291.5001,-375.13 6288,-365.13 6284.5001,-375.13 6291.5001,-375.13\"/>\n</g>\n<!-- 185 -->\n<g id=\"node186\" class=\"node\">\n<title>185</title>\n<polygon fill=\"none\" stroke=\"#000000\" points=\"6193.5,-261 6062.5,-261 6062.5,-193 6193.5,-193 6193.5,-261\"/>\n<text text-anchor=\"middle\" x=\"6128\" y=\"-245.8\" font-family=\"Times,serif\" font-size=\"14.00\" fill=\"#000000\">left_distance &lt;= 4.5</text>\n<text text-anchor=\"middle\" x=\"6128\" y=\"-230.8\" font-family=\"Times,serif\" font-size=\"14.00\" fill=\"#000000\">gini = 0.5</text>\n<text text-anchor=\"middle\" x=\"6128\" y=\"-215.8\" font-family=\"Times,serif\" font-size=\"14.00\" fill=\"#000000\">samples = 2</text>\n<text text-anchor=\"middle\" x=\"6128\" y=\"-200.8\" font-family=\"Times,serif\" font-size=\"14.00\" fill=\"#000000\">value = [1, 1, 0]</text>\n</g>\n<!-- 184&#45;&gt;185 -->\n<g id=\"edge185\" class=\"edge\">\n<title>184&#45;&gt;185</title>\n<path fill=\"none\" stroke=\"#000000\" d=\"M6235.61,-296.9465C6220.6918,-287.2497 6204.3136,-276.6039 6188.9338,-266.6069\"/>\n<polygon fill=\"#000000\" stroke=\"#000000\" points=\"6190.7996,-263.6454 6180.5077,-261.13 6186.9847,-269.5145 6190.7996,-263.6454\"/>\n</g>\n<!-- 188 -->\n<g id=\"node189\" class=\"node\">\n<title>188</title>\n<polygon fill=\"none\" stroke=\"#000000\" points=\"6353.5,-261 6222.5,-261 6222.5,-193 6353.5,-193 6353.5,-261\"/>\n<text text-anchor=\"middle\" x=\"6288\" y=\"-245.8\" font-family=\"Times,serif\" font-size=\"14.00\" fill=\"#000000\">left_distance &lt;= 4.5</text>\n<text text-anchor=\"middle\" x=\"6288\" y=\"-230.8\" font-family=\"Times,serif\" font-size=\"14.00\" fill=\"#000000\">gini = 0.5</text>\n<text text-anchor=\"middle\" x=\"6288\" y=\"-215.8\" font-family=\"Times,serif\" font-size=\"14.00\" fill=\"#000000\">samples = 2</text>\n<text text-anchor=\"middle\" x=\"6288\" y=\"-200.8\" font-family=\"Times,serif\" font-size=\"14.00\" fill=\"#000000\">value = [1, 0, 1]</text>\n</g>\n<!-- 184&#45;&gt;188 -->\n<g id=\"edge188\" class=\"edge\">\n<title>184&#45;&gt;188</title>\n<path fill=\"none\" stroke=\"#000000\" d=\"M6288,-296.9465C6288,-288.776 6288,-279.9318 6288,-271.3697\"/>\n<polygon fill=\"#000000\" stroke=\"#000000\" points=\"6291.5001,-271.13 6288,-261.13 6284.5001,-271.13 6291.5001,-271.13\"/>\n</g>\n<!-- 186 -->\n<g id=\"node187\" class=\"node\">\n<title>186</title>\n<polygon fill=\"none\" stroke=\"#000000\" points=\"6055,-149.5 5945,-149.5 5945,-96.5 6055,-96.5 6055,-149.5\"/>\n<text text-anchor=\"middle\" x=\"6000\" y=\"-134.3\" font-family=\"Times,serif\" font-size=\"14.00\" fill=\"#000000\">gini = 0.0</text>\n<text text-anchor=\"middle\" x=\"6000\" y=\"-119.3\" font-family=\"Times,serif\" font-size=\"14.00\" fill=\"#000000\">samples = 1</text>\n<text text-anchor=\"middle\" x=\"6000\" y=\"-104.3\" font-family=\"Times,serif\" font-size=\"14.00\" fill=\"#000000\">value = [1, 0, 0]</text>\n</g>\n<!-- 185&#45;&gt;186 -->\n<g id=\"edge186\" class=\"edge\">\n<title>185&#45;&gt;186</title>\n<path fill=\"none\" stroke=\"#000000\" d=\"M6086.088,-192.9465C6071.4467,-181.0504 6055.0474,-167.726 6040.5215,-155.9237\"/>\n<polygon fill=\"#000000\" stroke=\"#000000\" points=\"6042.6355,-153.1317 6032.6673,-149.5422 6038.2214,-158.5645 6042.6355,-153.1317\"/>\n</g>\n<!-- 187 -->\n<g id=\"node188\" class=\"node\">\n<title>187</title>\n<polygon fill=\"none\" stroke=\"#000000\" points=\"6183,-149.5 6073,-149.5 6073,-96.5 6183,-96.5 6183,-149.5\"/>\n<text text-anchor=\"middle\" x=\"6128\" y=\"-134.3\" font-family=\"Times,serif\" font-size=\"14.00\" fill=\"#000000\">gini = 0.0</text>\n<text text-anchor=\"middle\" x=\"6128\" y=\"-119.3\" font-family=\"Times,serif\" font-size=\"14.00\" fill=\"#000000\">samples = 1</text>\n<text text-anchor=\"middle\" x=\"6128\" y=\"-104.3\" font-family=\"Times,serif\" font-size=\"14.00\" fill=\"#000000\">value = [0, 1, 0]</text>\n</g>\n<!-- 185&#45;&gt;187 -->\n<g id=\"edge187\" class=\"edge\">\n<title>185&#45;&gt;187</title>\n<path fill=\"none\" stroke=\"#000000\" d=\"M6128,-192.9465C6128,-182.2621 6128,-170.4254 6128,-159.5742\"/>\n<polygon fill=\"#000000\" stroke=\"#000000\" points=\"6131.5001,-159.5421 6128,-149.5422 6124.5001,-159.5422 6131.5001,-159.5421\"/>\n</g>\n<!-- 189 -->\n<g id=\"node190\" class=\"node\">\n<title>189</title>\n<polygon fill=\"none\" stroke=\"#000000\" points=\"6311,-149.5 6201,-149.5 6201,-96.5 6311,-96.5 6311,-149.5\"/>\n<text text-anchor=\"middle\" x=\"6256\" y=\"-134.3\" font-family=\"Times,serif\" font-size=\"14.00\" fill=\"#000000\">gini = 0.0</text>\n<text text-anchor=\"middle\" x=\"6256\" y=\"-119.3\" font-family=\"Times,serif\" font-size=\"14.00\" fill=\"#000000\">samples = 1</text>\n<text text-anchor=\"middle\" x=\"6256\" y=\"-104.3\" font-family=\"Times,serif\" font-size=\"14.00\" fill=\"#000000\">value = [0, 0, 1]</text>\n</g>\n<!-- 188&#45;&gt;189 -->\n<g id=\"edge189\" class=\"edge\">\n<title>188&#45;&gt;189</title>\n<path fill=\"none\" stroke=\"#000000\" d=\"M6277.522,-192.9465C6274.2006,-182.1519 6270.5173,-170.1813 6267.1504,-159.2389\"/>\n<polygon fill=\"#000000\" stroke=\"#000000\" points=\"6270.453,-158.0706 6264.1668,-149.5422 6263.7625,-160.1293 6270.453,-158.0706\"/>\n</g>\n<!-- 190 -->\n<g id=\"node191\" class=\"node\">\n<title>190</title>\n<polygon fill=\"none\" stroke=\"#000000\" points=\"6439,-149.5 6329,-149.5 6329,-96.5 6439,-96.5 6439,-149.5\"/>\n<text text-anchor=\"middle\" x=\"6384\" y=\"-134.3\" font-family=\"Times,serif\" font-size=\"14.00\" fill=\"#000000\">gini = 0.0</text>\n<text text-anchor=\"middle\" x=\"6384\" y=\"-119.3\" font-family=\"Times,serif\" font-size=\"14.00\" fill=\"#000000\">samples = 1</text>\n<text text-anchor=\"middle\" x=\"6384\" y=\"-104.3\" font-family=\"Times,serif\" font-size=\"14.00\" fill=\"#000000\">value = [1, 0, 0]</text>\n</g>\n<!-- 188&#45;&gt;190 -->\n<g id=\"edge190\" class=\"edge\">\n<title>188&#45;&gt;190</title>\n<path fill=\"none\" stroke=\"#000000\" d=\"M6319.434,-192.9465C6330.11,-181.3809 6342.0322,-168.4652 6352.6978,-156.9107\"/>\n<polygon fill=\"#000000\" stroke=\"#000000\" points=\"6355.2885,-159.2642 6359.4995,-149.5422 6350.1449,-154.5162 6355.2885,-159.2642\"/>\n</g>\n<!-- 192 -->\n<g id=\"node193\" class=\"node\">\n<title>192</title>\n<polygon fill=\"none\" stroke=\"#000000\" points=\"6582,-365 6442,-365 6442,-297 6582,-297 6582,-365\"/>\n<text text-anchor=\"middle\" x=\"6512\" y=\"-349.8\" font-family=\"Times,serif\" font-size=\"14.00\" fill=\"#000000\">right_distance &lt;= 4.5</text>\n<text text-anchor=\"middle\" x=\"6512\" y=\"-334.8\" font-family=\"Times,serif\" font-size=\"14.00\" fill=\"#000000\">gini = 0.667</text>\n<text text-anchor=\"middle\" x=\"6512\" y=\"-319.8\" font-family=\"Times,serif\" font-size=\"14.00\" fill=\"#000000\">samples = 3</text>\n<text text-anchor=\"middle\" x=\"6512\" y=\"-304.8\" font-family=\"Times,serif\" font-size=\"14.00\" fill=\"#000000\">value = [1, 1, 1]</text>\n</g>\n<!-- 191&#45;&gt;192 -->\n<g id=\"edge192\" class=\"edge\">\n<title>191&#45;&gt;192</title>\n<path fill=\"none\" stroke=\"#000000\" d=\"M6512,-400.9465C6512,-392.776 6512,-383.9318 6512,-375.3697\"/>\n<polygon fill=\"#000000\" stroke=\"#000000\" points=\"6515.5001,-375.13 6512,-365.13 6508.5001,-375.13 6515.5001,-375.13\"/>\n</g>\n<!-- 197 -->\n<g id=\"node198\" class=\"node\">\n<title>197</title>\n<polygon fill=\"none\" stroke=\"#000000\" points=\"6710,-357.5 6600,-357.5 6600,-304.5 6710,-304.5 6710,-357.5\"/>\n<text text-anchor=\"middle\" x=\"6655\" y=\"-342.3\" font-family=\"Times,serif\" font-size=\"14.00\" fill=\"#000000\">gini = 0.0</text>\n<text text-anchor=\"middle\" x=\"6655\" y=\"-327.3\" font-family=\"Times,serif\" font-size=\"14.00\" fill=\"#000000\">samples = 7</text>\n<text text-anchor=\"middle\" x=\"6655\" y=\"-312.3\" font-family=\"Times,serif\" font-size=\"14.00\" fill=\"#000000\">value = [0, 0, 7]</text>\n</g>\n<!-- 191&#45;&gt;197 -->\n<g id=\"edge197\" class=\"edge\">\n<title>191&#45;&gt;197</title>\n<path fill=\"none\" stroke=\"#000000\" d=\"M6558.8235,-400.9465C6575.3321,-388.9403 6593.8412,-375.4791 6610.1802,-363.5962\"/>\n<polygon fill=\"#000000\" stroke=\"#000000\" points=\"6612.4758,-366.2545 6618.5045,-357.5422 6608.3585,-360.5933 6612.4758,-366.2545\"/>\n</g>\n<!-- 193 -->\n<g id=\"node194\" class=\"node\">\n<title>193</title>\n<polygon fill=\"none\" stroke=\"#000000\" points=\"6577.5,-261 6446.5,-261 6446.5,-193 6577.5,-193 6577.5,-261\"/>\n<text text-anchor=\"middle\" x=\"6512\" y=\"-245.8\" font-family=\"Times,serif\" font-size=\"14.00\" fill=\"#000000\">left_distance &lt;= 4.5</text>\n<text text-anchor=\"middle\" x=\"6512\" y=\"-230.8\" font-family=\"Times,serif\" font-size=\"14.00\" fill=\"#000000\">gini = 0.5</text>\n<text text-anchor=\"middle\" x=\"6512\" y=\"-215.8\" font-family=\"Times,serif\" font-size=\"14.00\" fill=\"#000000\">samples = 2</text>\n<text text-anchor=\"middle\" x=\"6512\" y=\"-200.8\" font-family=\"Times,serif\" font-size=\"14.00\" fill=\"#000000\">value = [1, 1, 0]</text>\n</g>\n<!-- 192&#45;&gt;193 -->\n<g id=\"edge193\" class=\"edge\">\n<title>192&#45;&gt;193</title>\n<path fill=\"none\" stroke=\"#000000\" d=\"M6512,-296.9465C6512,-288.776 6512,-279.9318 6512,-271.3697\"/>\n<polygon fill=\"#000000\" stroke=\"#000000\" points=\"6515.5001,-271.13 6512,-261.13 6508.5001,-271.13 6515.5001,-271.13\"/>\n</g>\n<!-- 196 -->\n<g id=\"node197\" class=\"node\">\n<title>196</title>\n<polygon fill=\"none\" stroke=\"#000000\" points=\"6706,-253.5 6596,-253.5 6596,-200.5 6706,-200.5 6706,-253.5\"/>\n<text text-anchor=\"middle\" x=\"6651\" y=\"-238.3\" font-family=\"Times,serif\" font-size=\"14.00\" fill=\"#000000\">gini = 0.0</text>\n<text text-anchor=\"middle\" x=\"6651\" y=\"-223.3\" font-family=\"Times,serif\" font-size=\"14.00\" fill=\"#000000\">samples = 1</text>\n<text text-anchor=\"middle\" x=\"6651\" y=\"-208.3\" font-family=\"Times,serif\" font-size=\"14.00\" fill=\"#000000\">value = [0, 0, 1]</text>\n</g>\n<!-- 192&#45;&gt;196 -->\n<g id=\"edge196\" class=\"edge\">\n<title>192&#45;&gt;196</title>\n<path fill=\"none\" stroke=\"#000000\" d=\"M6557.5138,-296.9465C6573.5606,-284.9403 6591.5519,-271.4791 6607.4339,-259.5962\"/>\n<polygon fill=\"#000000\" stroke=\"#000000\" points=\"6609.6152,-262.3354 6615.5254,-253.5422 6605.4217,-256.7306 6609.6152,-262.3354\"/>\n</g>\n<!-- 194 -->\n<g id=\"node195\" class=\"node\">\n<title>194</title>\n<polygon fill=\"none\" stroke=\"#000000\" points=\"6567,-149.5 6457,-149.5 6457,-96.5 6567,-96.5 6567,-149.5\"/>\n<text text-anchor=\"middle\" x=\"6512\" y=\"-134.3\" font-family=\"Times,serif\" font-size=\"14.00\" fill=\"#000000\">gini = 0.0</text>\n<text text-anchor=\"middle\" x=\"6512\" y=\"-119.3\" font-family=\"Times,serif\" font-size=\"14.00\" fill=\"#000000\">samples = 1</text>\n<text text-anchor=\"middle\" x=\"6512\" y=\"-104.3\" font-family=\"Times,serif\" font-size=\"14.00\" fill=\"#000000\">value = [1, 0, 0]</text>\n</g>\n<!-- 193&#45;&gt;194 -->\n<g id=\"edge194\" class=\"edge\">\n<title>193&#45;&gt;194</title>\n<path fill=\"none\" stroke=\"#000000\" d=\"M6512,-192.9465C6512,-182.2621 6512,-170.4254 6512,-159.5742\"/>\n<polygon fill=\"#000000\" stroke=\"#000000\" points=\"6515.5001,-159.5421 6512,-149.5422 6508.5001,-159.5422 6515.5001,-159.5421\"/>\n</g>\n<!-- 195 -->\n<g id=\"node196\" class=\"node\">\n<title>195</title>\n<polygon fill=\"none\" stroke=\"#000000\" points=\"6695,-149.5 6585,-149.5 6585,-96.5 6695,-96.5 6695,-149.5\"/>\n<text text-anchor=\"middle\" x=\"6640\" y=\"-134.3\" font-family=\"Times,serif\" font-size=\"14.00\" fill=\"#000000\">gini = 0.0</text>\n<text text-anchor=\"middle\" x=\"6640\" y=\"-119.3\" font-family=\"Times,serif\" font-size=\"14.00\" fill=\"#000000\">samples = 1</text>\n<text text-anchor=\"middle\" x=\"6640\" y=\"-104.3\" font-family=\"Times,serif\" font-size=\"14.00\" fill=\"#000000\">value = [0, 1, 0]</text>\n</g>\n<!-- 193&#45;&gt;195 -->\n<g id=\"edge195\" class=\"edge\">\n<title>193&#45;&gt;195</title>\n<path fill=\"none\" stroke=\"#000000\" d=\"M6553.912,-192.9465C6568.5533,-181.0504 6584.9526,-167.726 6599.4785,-155.9237\"/>\n<polygon fill=\"#000000\" stroke=\"#000000\" points=\"6601.7786,-158.5645 6607.3327,-149.5422 6597.3645,-153.1317 6601.7786,-158.5645\"/>\n</g>\n<!-- 199 -->\n<g id=\"node200\" class=\"node\">\n<title>199</title>\n<polygon fill=\"none\" stroke=\"#000000\" points=\"6529,-565.5 6419,-565.5 6419,-512.5 6529,-512.5 6529,-565.5\"/>\n<text text-anchor=\"middle\" x=\"6474\" y=\"-550.3\" font-family=\"Times,serif\" font-size=\"14.00\" fill=\"#000000\">gini = 0.0</text>\n<text text-anchor=\"middle\" x=\"6474\" y=\"-535.3\" font-family=\"Times,serif\" font-size=\"14.00\" fill=\"#000000\">samples = 8</text>\n<text text-anchor=\"middle\" x=\"6474\" y=\"-520.3\" font-family=\"Times,serif\" font-size=\"14.00\" fill=\"#000000\">value = [0, 8, 0]</text>\n</g>\n<!-- 198&#45;&gt;199 -->\n<g id=\"edge199\" class=\"edge\">\n<title>198&#45;&gt;199</title>\n<path fill=\"none\" stroke=\"#000000\" d=\"M6474,-608.9465C6474,-598.2621 6474,-586.4254 6474,-575.5742\"/>\n<polygon fill=\"#000000\" stroke=\"#000000\" points=\"6477.5001,-575.5421 6474,-565.5422 6470.5001,-575.5422 6477.5001,-575.5421\"/>\n</g>\n<!-- 200 -->\n<g id=\"node201\" class=\"node\">\n<title>200</title>\n<polygon fill=\"none\" stroke=\"#000000\" points=\"6727,-573 6587,-573 6587,-505 6727,-505 6727,-573\"/>\n<text text-anchor=\"middle\" x=\"6657\" y=\"-557.8\" font-family=\"Times,serif\" font-size=\"14.00\" fill=\"#000000\">right_distance &lt;= 3.5</text>\n<text text-anchor=\"middle\" x=\"6657\" y=\"-542.8\" font-family=\"Times,serif\" font-size=\"14.00\" fill=\"#000000\">gini = 0.643</text>\n<text text-anchor=\"middle\" x=\"6657\" y=\"-527.8\" font-family=\"Times,serif\" font-size=\"14.00\" fill=\"#000000\">samples = 14</text>\n<text text-anchor=\"middle\" x=\"6657\" y=\"-512.8\" font-family=\"Times,serif\" font-size=\"14.00\" fill=\"#000000\">value = [5, 6, 3]</text>\n</g>\n<!-- 198&#45;&gt;200 -->\n<g id=\"edge200\" class=\"edge\">\n<title>198&#45;&gt;200</title>\n<path fill=\"none\" stroke=\"#000000\" d=\"M6533.921,-608.9465C6551.1417,-599.1599 6570.0633,-588.4066 6587.7954,-578.3294\"/>\n<polygon fill=\"#000000\" stroke=\"#000000\" points=\"6589.9796,-581.1139 6596.9443,-573.13 6586.5209,-575.028 6589.9796,-581.1139\"/>\n</g>\n<!-- 201 -->\n<g id=\"node202\" class=\"node\">\n<title>201</title>\n<polygon fill=\"none\" stroke=\"#000000\" points=\"6712,-461.5 6602,-461.5 6602,-408.5 6712,-408.5 6712,-461.5\"/>\n<text text-anchor=\"middle\" x=\"6657\" y=\"-446.3\" font-family=\"Times,serif\" font-size=\"14.00\" fill=\"#000000\">gini = 0.0</text>\n<text text-anchor=\"middle\" x=\"6657\" y=\"-431.3\" font-family=\"Times,serif\" font-size=\"14.00\" fill=\"#000000\">samples = 3</text>\n<text text-anchor=\"middle\" x=\"6657\" y=\"-416.3\" font-family=\"Times,serif\" font-size=\"14.00\" fill=\"#000000\">value = [0, 3, 0]</text>\n</g>\n<!-- 200&#45;&gt;201 -->\n<g id=\"edge201\" class=\"edge\">\n<title>200&#45;&gt;201</title>\n<path fill=\"none\" stroke=\"#000000\" d=\"M6657,-504.9465C6657,-494.2621 6657,-482.4254 6657,-471.5742\"/>\n<polygon fill=\"#000000\" stroke=\"#000000\" points=\"6660.5001,-471.5421 6657,-461.5422 6653.5001,-471.5422 6660.5001,-471.5421\"/>\n</g>\n<!-- 202 -->\n<g id=\"node203\" class=\"node\">\n<title>202</title>\n<polygon fill=\"none\" stroke=\"#000000\" points=\"6927,-469 6803,-469 6803,-401 6927,-401 6927,-469\"/>\n<text text-anchor=\"middle\" x=\"6865\" y=\"-453.8\" font-family=\"Times,serif\" font-size=\"14.00\" fill=\"#000000\">left_weight &lt;= 4.5</text>\n<text text-anchor=\"middle\" x=\"6865\" y=\"-438.8\" font-family=\"Times,serif\" font-size=\"14.00\" fill=\"#000000\">gini = 0.645</text>\n<text text-anchor=\"middle\" x=\"6865\" y=\"-423.8\" font-family=\"Times,serif\" font-size=\"14.00\" fill=\"#000000\">samples = 11</text>\n<text text-anchor=\"middle\" x=\"6865\" y=\"-408.8\" font-family=\"Times,serif\" font-size=\"14.00\" fill=\"#000000\">value = [5, 3, 3]</text>\n</g>\n<!-- 200&#45;&gt;202 -->\n<g id=\"edge202\" class=\"edge\">\n<title>200&#45;&gt;202</title>\n<path fill=\"none\" stroke=\"#000000\" d=\"M6725.107,-504.9465C6747.0789,-493.9605 6771.4871,-481.7564 6793.6842,-470.6579\"/>\n<polygon fill=\"#000000\" stroke=\"#000000\" points=\"6795.3418,-473.7423 6802.7208,-466.1396 6792.2113,-467.4813 6795.3418,-473.7423\"/>\n</g>\n<!-- 203 -->\n<g id=\"node204\" class=\"node\">\n<title>203</title>\n<polygon fill=\"none\" stroke=\"#000000\" points=\"6935,-365 6795,-365 6795,-297 6935,-297 6935,-365\"/>\n<text text-anchor=\"middle\" x=\"6865\" y=\"-349.8\" font-family=\"Times,serif\" font-size=\"14.00\" fill=\"#000000\">right_distance &lt;= 4.5</text>\n<text text-anchor=\"middle\" x=\"6865\" y=\"-334.8\" font-family=\"Times,serif\" font-size=\"14.00\" fill=\"#000000\">gini = 0.611</text>\n<text text-anchor=\"middle\" x=\"6865\" y=\"-319.8\" font-family=\"Times,serif\" font-size=\"14.00\" fill=\"#000000\">samples = 6</text>\n<text text-anchor=\"middle\" x=\"6865\" y=\"-304.8\" font-family=\"Times,serif\" font-size=\"14.00\" fill=\"#000000\">value = [2, 1, 3]</text>\n</g>\n<!-- 202&#45;&gt;203 -->\n<g id=\"edge203\" class=\"edge\">\n<title>202&#45;&gt;203</title>\n<path fill=\"none\" stroke=\"#000000\" d=\"M6865,-400.9465C6865,-392.776 6865,-383.9318 6865,-375.3697\"/>\n<polygon fill=\"#000000\" stroke=\"#000000\" points=\"6868.5001,-375.13 6865,-365.13 6861.5001,-375.13 6868.5001,-375.13\"/>\n</g>\n<!-- 212 -->\n<g id=\"node213\" class=\"node\">\n<title>212</title>\n<polygon fill=\"none\" stroke=\"#000000\" points=\"7234,-365 7094,-365 7094,-297 7234,-297 7234,-365\"/>\n<text text-anchor=\"middle\" x=\"7164\" y=\"-349.8\" font-family=\"Times,serif\" font-size=\"14.00\" fill=\"#000000\">right_distance &lt;= 4.5</text>\n<text text-anchor=\"middle\" x=\"7164\" y=\"-334.8\" font-family=\"Times,serif\" font-size=\"14.00\" fill=\"#000000\">gini = 0.48</text>\n<text text-anchor=\"middle\" x=\"7164\" y=\"-319.8\" font-family=\"Times,serif\" font-size=\"14.00\" fill=\"#000000\">samples = 5</text>\n<text text-anchor=\"middle\" x=\"7164\" y=\"-304.8\" font-family=\"Times,serif\" font-size=\"14.00\" fill=\"#000000\">value = [3, 2, 0]</text>\n</g>\n<!-- 202&#45;&gt;212 -->\n<g id=\"edge212\" class=\"edge\">\n<title>202&#45;&gt;212</title>\n<path fill=\"none\" stroke=\"#000000\" d=\"M6927.3162,-413.3248C6972.8847,-397.4749 7035.0643,-375.8472 7084.2561,-358.737\"/>\n<polygon fill=\"#000000\" stroke=\"#000000\" points=\"7085.6174,-361.9693 7093.9125,-355.3782 7083.3177,-355.3578 7085.6174,-361.9693\"/>\n</g>\n<!-- 204 -->\n<g id=\"node205\" class=\"node\">\n<title>204</title>\n<polygon fill=\"none\" stroke=\"#000000\" points=\"6859.5,-261 6728.5,-261 6728.5,-193 6859.5,-193 6859.5,-261\"/>\n<text text-anchor=\"middle\" x=\"6794\" y=\"-245.8\" font-family=\"Times,serif\" font-size=\"14.00\" fill=\"#000000\">left_distance &lt;= 4.5</text>\n<text text-anchor=\"middle\" x=\"6794\" y=\"-230.8\" font-family=\"Times,serif\" font-size=\"14.00\" fill=\"#000000\">gini = 0.625</text>\n<text text-anchor=\"middle\" x=\"6794\" y=\"-215.8\" font-family=\"Times,serif\" font-size=\"14.00\" fill=\"#000000\">samples = 4</text>\n<text text-anchor=\"middle\" x=\"6794\" y=\"-200.8\" font-family=\"Times,serif\" font-size=\"14.00\" fill=\"#000000\">value = [2, 1, 1]</text>\n</g>\n<!-- 203&#45;&gt;204 -->\n<g id=\"edge204\" class=\"edge\">\n<title>203&#45;&gt;204</title>\n<path fill=\"none\" stroke=\"#000000\" d=\"M6841.7519,-296.9465C6835.745,-288.1475 6829.2045,-278.5672 6822.9457,-269.3993\"/>\n<polygon fill=\"#000000\" stroke=\"#000000\" points=\"6825.8293,-267.4155 6817.3003,-261.13 6820.048,-271.3623 6825.8293,-267.4155\"/>\n</g>\n<!-- 211 -->\n<g id=\"node212\" class=\"node\">\n<title>211</title>\n<polygon fill=\"none\" stroke=\"#000000\" points=\"6988,-253.5 6878,-253.5 6878,-200.5 6988,-200.5 6988,-253.5\"/>\n<text text-anchor=\"middle\" x=\"6933\" y=\"-238.3\" font-family=\"Times,serif\" font-size=\"14.00\" fill=\"#000000\">gini = 0.0</text>\n<text text-anchor=\"middle\" x=\"6933\" y=\"-223.3\" font-family=\"Times,serif\" font-size=\"14.00\" fill=\"#000000\">samples = 2</text>\n<text text-anchor=\"middle\" x=\"6933\" y=\"-208.3\" font-family=\"Times,serif\" font-size=\"14.00\" fill=\"#000000\">value = [0, 0, 2]</text>\n</g>\n<!-- 203&#45;&gt;211 -->\n<g id=\"edge211\" class=\"edge\">\n<title>203&#45;&gt;211</title>\n<path fill=\"none\" stroke=\"#000000\" d=\"M6887.2657,-296.9465C6894.5398,-285.8215 6902.6306,-273.4473 6909.9604,-262.237\"/>\n<polygon fill=\"#000000\" stroke=\"#000000\" points=\"6913.1024,-263.8273 6915.6455,-253.5422 6907.2436,-259.9965 6913.1024,-263.8273\"/>\n</g>\n<!-- 205 -->\n<g id=\"node206\" class=\"node\">\n<title>205</title>\n<polygon fill=\"none\" stroke=\"#000000\" points=\"6846.5,-157 6713.5,-157 6713.5,-89 6846.5,-89 6846.5,-157\"/>\n<text text-anchor=\"middle\" x=\"6780\" y=\"-141.8\" font-family=\"Times,serif\" font-size=\"14.00\" fill=\"#000000\">right_weight &lt;= 4.5</text>\n<text text-anchor=\"middle\" x=\"6780\" y=\"-126.8\" font-family=\"Times,serif\" font-size=\"14.00\" fill=\"#000000\">gini = 0.5</text>\n<text text-anchor=\"middle\" x=\"6780\" y=\"-111.8\" font-family=\"Times,serif\" font-size=\"14.00\" fill=\"#000000\">samples = 2</text>\n<text text-anchor=\"middle\" x=\"6780\" y=\"-96.8\" font-family=\"Times,serif\" font-size=\"14.00\" fill=\"#000000\">value = [1, 0, 1]</text>\n</g>\n<!-- 204&#45;&gt;205 -->\n<g id=\"edge205\" class=\"edge\">\n<title>204&#45;&gt;205</title>\n<path fill=\"none\" stroke=\"#000000\" d=\"M6789.4159,-192.9465C6788.3039,-184.6863 6787.0993,-175.7374 6785.9349,-167.0875\"/>\n<polygon fill=\"#000000\" stroke=\"#000000\" points=\"6789.3973,-166.5736 6784.5944,-157.13 6782.4599,-167.5076 6789.3973,-166.5736\"/>\n</g>\n<!-- 208 -->\n<g id=\"node209\" class=\"node\">\n<title>208</title>\n<polygon fill=\"none\" stroke=\"#000000\" points=\"6997.5,-157 6864.5,-157 6864.5,-89 6997.5,-89 6997.5,-157\"/>\n<text text-anchor=\"middle\" x=\"6931\" y=\"-141.8\" font-family=\"Times,serif\" font-size=\"14.00\" fill=\"#000000\">right_weight &lt;= 4.5</text>\n<text text-anchor=\"middle\" x=\"6931\" y=\"-126.8\" font-family=\"Times,serif\" font-size=\"14.00\" fill=\"#000000\">gini = 0.5</text>\n<text text-anchor=\"middle\" x=\"6931\" y=\"-111.8\" font-family=\"Times,serif\" font-size=\"14.00\" fill=\"#000000\">samples = 2</text>\n<text text-anchor=\"middle\" x=\"6931\" y=\"-96.8\" font-family=\"Times,serif\" font-size=\"14.00\" fill=\"#000000\">value = [1, 1, 0]</text>\n</g>\n<!-- 204&#45;&gt;208 -->\n<g id=\"edge208\" class=\"edge\">\n<title>204&#45;&gt;208</title>\n<path fill=\"none\" stroke=\"#000000\" d=\"M6838.8589,-192.9465C6851.2778,-183.519 6864.8783,-173.1946 6877.7261,-163.4415\"/>\n<polygon fill=\"#000000\" stroke=\"#000000\" points=\"6880.1915,-165.9642 6886.0403,-157.13 6875.959,-160.3887 6880.1915,-165.9642\"/>\n</g>\n<!-- 206 -->\n<g id=\"node207\" class=\"node\">\n<title>206</title>\n<polygon fill=\"none\" stroke=\"#000000\" points=\"6707,-53 6597,-53 6597,0 6707,0 6707,-53\"/>\n<text text-anchor=\"middle\" x=\"6652\" y=\"-37.8\" font-family=\"Times,serif\" font-size=\"14.00\" fill=\"#000000\">gini = 0.0</text>\n<text text-anchor=\"middle\" x=\"6652\" y=\"-22.8\" font-family=\"Times,serif\" font-size=\"14.00\" fill=\"#000000\">samples = 1</text>\n<text text-anchor=\"middle\" x=\"6652\" y=\"-7.8\" font-family=\"Times,serif\" font-size=\"14.00\" fill=\"#000000\">value = [1, 0, 0]</text>\n</g>\n<!-- 205&#45;&gt;206 -->\n<g id=\"edge206\" class=\"edge\">\n<title>205&#45;&gt;206</title>\n<path fill=\"none\" stroke=\"#000000\" d=\"M6734.872,-88.9777C6722.1187,-79.3629 6708.2673,-68.9203 6695.6053,-59.3743\"/>\n<polygon fill=\"#000000\" stroke=\"#000000\" points=\"6697.5719,-56.4737 6687.4798,-53.2485 6693.3579,-62.0632 6697.5719,-56.4737\"/>\n</g>\n<!-- 207 -->\n<g id=\"node208\" class=\"node\">\n<title>207</title>\n<polygon fill=\"none\" stroke=\"#000000\" points=\"6835,-53 6725,-53 6725,0 6835,0 6835,-53\"/>\n<text text-anchor=\"middle\" x=\"6780\" y=\"-37.8\" font-family=\"Times,serif\" font-size=\"14.00\" fill=\"#000000\">gini = 0.0</text>\n<text text-anchor=\"middle\" x=\"6780\" y=\"-22.8\" font-family=\"Times,serif\" font-size=\"14.00\" fill=\"#000000\">samples = 1</text>\n<text text-anchor=\"middle\" x=\"6780\" y=\"-7.8\" font-family=\"Times,serif\" font-size=\"14.00\" fill=\"#000000\">value = [0, 0, 1]</text>\n</g>\n<!-- 205&#45;&gt;207 -->\n<g id=\"edge207\" class=\"edge\">\n<title>205&#45;&gt;207</title>\n<path fill=\"none\" stroke=\"#000000\" d=\"M6780,-88.9777C6780,-80.7364 6780,-71.887 6780,-63.5153\"/>\n<polygon fill=\"#000000\" stroke=\"#000000\" points=\"6783.5001,-63.2484 6780,-53.2485 6776.5001,-63.2485 6783.5001,-63.2484\"/>\n</g>\n<!-- 209 -->\n<g id=\"node210\" class=\"node\">\n<title>209</title>\n<polygon fill=\"none\" stroke=\"#000000\" points=\"6963,-53 6853,-53 6853,0 6963,0 6963,-53\"/>\n<text text-anchor=\"middle\" x=\"6908\" y=\"-37.8\" font-family=\"Times,serif\" font-size=\"14.00\" fill=\"#000000\">gini = 0.0</text>\n<text text-anchor=\"middle\" x=\"6908\" y=\"-22.8\" font-family=\"Times,serif\" font-size=\"14.00\" fill=\"#000000\">samples = 1</text>\n<text text-anchor=\"middle\" x=\"6908\" y=\"-7.8\" font-family=\"Times,serif\" font-size=\"14.00\" fill=\"#000000\">value = [0, 1, 0]</text>\n</g>\n<!-- 208&#45;&gt;209 -->\n<g id=\"edge209\" class=\"edge\">\n<title>208&#45;&gt;209</title>\n<path fill=\"none\" stroke=\"#000000\" d=\"M6922.8911,-88.9777C6920.905,-80.6449 6918.7707,-71.6903 6916.7558,-63.2364\"/>\n<polygon fill=\"#000000\" stroke=\"#000000\" points=\"6920.0985,-62.1645 6914.3753,-53.2485 6913.2892,-63.7875 6920.0985,-62.1645\"/>\n</g>\n<!-- 210 -->\n<g id=\"node211\" class=\"node\">\n<title>210</title>\n<polygon fill=\"none\" stroke=\"#000000\" points=\"7091,-53 6981,-53 6981,0 7091,0 7091,-53\"/>\n<text text-anchor=\"middle\" x=\"7036\" y=\"-37.8\" font-family=\"Times,serif\" font-size=\"14.00\" fill=\"#000000\">gini = 0.0</text>\n<text text-anchor=\"middle\" x=\"7036\" y=\"-22.8\" font-family=\"Times,serif\" font-size=\"14.00\" fill=\"#000000\">samples = 1</text>\n<text text-anchor=\"middle\" x=\"7036\" y=\"-7.8\" font-family=\"Times,serif\" font-size=\"14.00\" fill=\"#000000\">value = [1, 0, 0]</text>\n</g>\n<!-- 208&#45;&gt;210 -->\n<g id=\"edge210\" class=\"edge\">\n<title>208&#45;&gt;210</title>\n<path fill=\"none\" stroke=\"#000000\" d=\"M6968.0191,-88.9777C6978.1819,-79.6376 6989.1947,-69.5163 6999.3374,-60.1947\"/>\n<polygon fill=\"#000000\" stroke=\"#000000\" points=\"7001.901,-62.5923 7006.8954,-53.2485 6997.1642,-57.4383 7001.901,-62.5923\"/>\n</g>\n<!-- 213 -->\n<g id=\"node214\" class=\"node\">\n<title>213</title>\n<polygon fill=\"none\" stroke=\"#000000\" points=\"7229.5,-261 7098.5,-261 7098.5,-193 7229.5,-193 7229.5,-261\"/>\n<text text-anchor=\"middle\" x=\"7164\" y=\"-245.8\" font-family=\"Times,serif\" font-size=\"14.00\" fill=\"#000000\">left_distance &lt;= 4.5</text>\n<text text-anchor=\"middle\" x=\"7164\" y=\"-230.8\" font-family=\"Times,serif\" font-size=\"14.00\" fill=\"#000000\">gini = 0.444</text>\n<text text-anchor=\"middle\" x=\"7164\" y=\"-215.8\" font-family=\"Times,serif\" font-size=\"14.00\" fill=\"#000000\">samples = 3</text>\n<text text-anchor=\"middle\" x=\"7164\" y=\"-200.8\" font-family=\"Times,serif\" font-size=\"14.00\" fill=\"#000000\">value = [1, 2, 0]</text>\n</g>\n<!-- 212&#45;&gt;213 -->\n<g id=\"edge213\" class=\"edge\">\n<title>212&#45;&gt;213</title>\n<path fill=\"none\" stroke=\"#000000\" d=\"M7164,-296.9465C7164,-288.776 7164,-279.9318 7164,-271.3697\"/>\n<polygon fill=\"#000000\" stroke=\"#000000\" points=\"7167.5001,-271.13 7164,-261.13 7160.5001,-271.13 7167.5001,-271.13\"/>\n</g>\n<!-- 218 -->\n<g id=\"node219\" class=\"node\">\n<title>218</title>\n<polygon fill=\"none\" stroke=\"#000000\" points=\"7358,-253.5 7248,-253.5 7248,-200.5 7358,-200.5 7358,-253.5\"/>\n<text text-anchor=\"middle\" x=\"7303\" y=\"-238.3\" font-family=\"Times,serif\" font-size=\"14.00\" fill=\"#000000\">gini = 0.0</text>\n<text text-anchor=\"middle\" x=\"7303\" y=\"-223.3\" font-family=\"Times,serif\" font-size=\"14.00\" fill=\"#000000\">samples = 2</text>\n<text text-anchor=\"middle\" x=\"7303\" y=\"-208.3\" font-family=\"Times,serif\" font-size=\"14.00\" fill=\"#000000\">value = [2, 0, 0]</text>\n</g>\n<!-- 212&#45;&gt;218 -->\n<g id=\"edge218\" class=\"edge\">\n<title>212&#45;&gt;218</title>\n<path fill=\"none\" stroke=\"#000000\" d=\"M7209.5138,-296.9465C7225.5606,-284.9403 7243.5519,-271.4791 7259.4339,-259.5962\"/>\n<polygon fill=\"#000000\" stroke=\"#000000\" points=\"7261.6152,-262.3354 7267.5254,-253.5422 7257.4217,-256.7306 7261.6152,-262.3354\"/>\n</g>\n<!-- 214 -->\n<g id=\"node215\" class=\"node\">\n<title>214</title>\n<polygon fill=\"none\" stroke=\"#000000\" points=\"7230.5,-157 7097.5,-157 7097.5,-89 7230.5,-89 7230.5,-157\"/>\n<text text-anchor=\"middle\" x=\"7164\" y=\"-141.8\" font-family=\"Times,serif\" font-size=\"14.00\" fill=\"#000000\">right_weight &lt;= 4.5</text>\n<text text-anchor=\"middle\" x=\"7164\" y=\"-126.8\" font-family=\"Times,serif\" font-size=\"14.00\" fill=\"#000000\">gini = 0.5</text>\n<text text-anchor=\"middle\" x=\"7164\" y=\"-111.8\" font-family=\"Times,serif\" font-size=\"14.00\" fill=\"#000000\">samples = 2</text>\n<text text-anchor=\"middle\" x=\"7164\" y=\"-96.8\" font-family=\"Times,serif\" font-size=\"14.00\" fill=\"#000000\">value = [1, 1, 0]</text>\n</g>\n<!-- 213&#45;&gt;214 -->\n<g id=\"edge214\" class=\"edge\">\n<title>213&#45;&gt;214</title>\n<path fill=\"none\" stroke=\"#000000\" d=\"M7164,-192.9465C7164,-184.776 7164,-175.9318 7164,-167.3697\"/>\n<polygon fill=\"#000000\" stroke=\"#000000\" points=\"7167.5001,-167.13 7164,-157.13 7160.5001,-167.13 7167.5001,-167.13\"/>\n</g>\n<!-- 217 -->\n<g id=\"node218\" class=\"node\">\n<title>217</title>\n<polygon fill=\"none\" stroke=\"#000000\" points=\"7359,-149.5 7249,-149.5 7249,-96.5 7359,-96.5 7359,-149.5\"/>\n<text text-anchor=\"middle\" x=\"7304\" y=\"-134.3\" font-family=\"Times,serif\" font-size=\"14.00\" fill=\"#000000\">gini = 0.0</text>\n<text text-anchor=\"middle\" x=\"7304\" y=\"-119.3\" font-family=\"Times,serif\" font-size=\"14.00\" fill=\"#000000\">samples = 1</text>\n<text text-anchor=\"middle\" x=\"7304\" y=\"-104.3\" font-family=\"Times,serif\" font-size=\"14.00\" fill=\"#000000\">value = [0, 1, 0]</text>\n</g>\n<!-- 213&#45;&gt;217 -->\n<g id=\"edge217\" class=\"edge\">\n<title>213&#45;&gt;217</title>\n<path fill=\"none\" stroke=\"#000000\" d=\"M7209.8412,-192.9465C7226.0035,-180.9403 7244.1242,-167.4791 7260.1205,-155.5962\"/>\n<polygon fill=\"#000000\" stroke=\"#000000\" points=\"7262.3299,-158.3151 7268.2702,-149.5422 7258.1556,-152.6958 7262.3299,-158.3151\"/>\n</g>\n<!-- 215 -->\n<g id=\"node216\" class=\"node\">\n<title>215</title>\n<polygon fill=\"none\" stroke=\"#000000\" points=\"7219,-53 7109,-53 7109,0 7219,0 7219,-53\"/>\n<text text-anchor=\"middle\" x=\"7164\" y=\"-37.8\" font-family=\"Times,serif\" font-size=\"14.00\" fill=\"#000000\">gini = 0.0</text>\n<text text-anchor=\"middle\" x=\"7164\" y=\"-22.8\" font-family=\"Times,serif\" font-size=\"14.00\" fill=\"#000000\">samples = 1</text>\n<text text-anchor=\"middle\" x=\"7164\" y=\"-7.8\" font-family=\"Times,serif\" font-size=\"14.00\" fill=\"#000000\">value = [0, 1, 0]</text>\n</g>\n<!-- 214&#45;&gt;215 -->\n<g id=\"edge215\" class=\"edge\">\n<title>214&#45;&gt;215</title>\n<path fill=\"none\" stroke=\"#000000\" d=\"M7164,-88.9777C7164,-80.7364 7164,-71.887 7164,-63.5153\"/>\n<polygon fill=\"#000000\" stroke=\"#000000\" points=\"7167.5001,-63.2484 7164,-53.2485 7160.5001,-63.2485 7167.5001,-63.2484\"/>\n</g>\n<!-- 216 -->\n<g id=\"node217\" class=\"node\">\n<title>216</title>\n<polygon fill=\"none\" stroke=\"#000000\" points=\"7347,-53 7237,-53 7237,0 7347,0 7347,-53\"/>\n<text text-anchor=\"middle\" x=\"7292\" y=\"-37.8\" font-family=\"Times,serif\" font-size=\"14.00\" fill=\"#000000\">gini = 0.0</text>\n<text text-anchor=\"middle\" x=\"7292\" y=\"-22.8\" font-family=\"Times,serif\" font-size=\"14.00\" fill=\"#000000\">samples = 1</text>\n<text text-anchor=\"middle\" x=\"7292\" y=\"-7.8\" font-family=\"Times,serif\" font-size=\"14.00\" fill=\"#000000\">value = [1, 0, 0]</text>\n</g>\n<!-- 214&#45;&gt;216 -->\n<g id=\"edge216\" class=\"edge\">\n<title>214&#45;&gt;216</title>\n<path fill=\"none\" stroke=\"#000000\" d=\"M7209.128,-88.9777C7221.8813,-79.3629 7235.7327,-68.9203 7248.3947,-59.3743\"/>\n<polygon fill=\"#000000\" stroke=\"#000000\" points=\"7250.6421,-62.0632 7256.5202,-53.2485 7246.4281,-56.4737 7250.6421,-62.0632\"/>\n</g>\n</g>\n</svg>\n"
          },
          "metadata": {
            "tags": []
          },
          "execution_count": 14
        }
      ]
    },
    {
      "cell_type": "code",
      "metadata": {
        "id": "zGXIuVC1gqVu",
        "outputId": "a627daca-d535-44dc-a64e-0d7daf9a72b2",
        "colab": {
          "base_uri": "https://localhost:8080/",
          "height": 119
        }
      },
      "source": [
        "from sklearn.tree import DecisionTreeClassifier\n",
        "\n",
        "classifier_entropy = DecisionTreeClassifier(criterion=\"entropy\")\n",
        "classifier_entropy.fit(X_train,y_train)"
      ],
      "execution_count": null,
      "outputs": [
        {
          "output_type": "execute_result",
          "data": {
            "text/plain": [
              "DecisionTreeClassifier(ccp_alpha=0.0, class_weight=None, criterion='entropy',\n",
              "                       max_depth=None, max_features=None, max_leaf_nodes=None,\n",
              "                       min_impurity_decrease=0.0, min_impurity_split=None,\n",
              "                       min_samples_leaf=1, min_samples_split=2,\n",
              "                       min_weight_fraction_leaf=0.0, presort='deprecated',\n",
              "                       random_state=None, splitter='best')"
            ]
          },
          "metadata": {
            "tags": []
          },
          "execution_count": 15
        }
      ]
    },
    {
      "cell_type": "code",
      "metadata": {
        "id": "iXxalgAdhGFn",
        "outputId": "2b5cb260-4fe8-4078-999a-ce4fc8cdf3b3",
        "colab": {
          "base_uri": "https://localhost:8080/",
          "height": 272
        }
      },
      "source": [
        "y_pred_gini = classifier_gini.predict(X_test)\n",
        "y_pred_gini"
      ],
      "execution_count": null,
      "outputs": [
        {
          "output_type": "execute_result",
          "data": {
            "text/plain": [
              "array(['R', 'L', 'B', 'R', 'L', 'R', 'R', 'R', 'B', 'L', 'R', 'R', 'B',\n",
              "       'B', 'R', 'L', 'L', 'L', 'L', 'R', 'R', 'R', 'L', 'R', 'R', 'B',\n",
              "       'R', 'B', 'L', 'R', 'R', 'L', 'R', 'L', 'R', 'R', 'B', 'R', 'R',\n",
              "       'R', 'R', 'B', 'L', 'L', 'L', 'B', 'R', 'R', 'R', 'L', 'B', 'L',\n",
              "       'L', 'L', 'R', 'L', 'R', 'R', 'R', 'R', 'L', 'L', 'R', 'L', 'R',\n",
              "       'L', 'B', 'L', 'L', 'B', 'L', 'L', 'L', 'R', 'L', 'L', 'R', 'L',\n",
              "       'R', 'L', 'L', 'L', 'R', 'R', 'L', 'L', 'L', 'R', 'L', 'L', 'L',\n",
              "       'L', 'L', 'R', 'L', 'R', 'L', 'L', 'R', 'L', 'R', 'L', 'L', 'L',\n",
              "       'L', 'L', 'L', 'R', 'B', 'L', 'R', 'L', 'R', 'L', 'L', 'B', 'R',\n",
              "       'B', 'L', 'R', 'L', 'L', 'L', 'R', 'L', 'R', 'B', 'B', 'L', 'B',\n",
              "       'R', 'L', 'R', 'R', 'B', 'R', 'L', 'R', 'L', 'L', 'L', 'L', 'R',\n",
              "       'L', 'L', 'L', 'R', 'R', 'B', 'L', 'R', 'R', 'B', 'L', 'L', 'R',\n",
              "       'R', 'R', 'R', 'R', 'B', 'L', 'L', 'R', 'L', 'R', 'L', 'L', 'B',\n",
              "       'L', 'R', 'B', 'L', 'L', 'B', 'L', 'R', 'R', 'L', 'B', 'R', 'R',\n",
              "       'L', 'B', 'L', 'B', 'B', 'R'], dtype=object)"
            ]
          },
          "metadata": {
            "tags": []
          },
          "execution_count": 16
        }
      ]
    },
    {
      "cell_type": "code",
      "metadata": {
        "id": "6husTKtAhpXK",
        "outputId": "fb220536-833b-4bd6-c9dd-aed1faa87a4f",
        "colab": {
          "base_uri": "https://localhost:8080/",
          "height": 272
        }
      },
      "source": [
        "y_pred_entropy = classifier_entropy.predict(X_test)\n",
        "y_pred_entropy"
      ],
      "execution_count": null,
      "outputs": [
        {
          "output_type": "execute_result",
          "data": {
            "text/plain": [
              "array(['R', 'L', 'R', 'R', 'L', 'R', 'R', 'R', 'B', 'L', 'R', 'R', 'B',\n",
              "       'B', 'R', 'L', 'L', 'L', 'L', 'R', 'R', 'R', 'L', 'R', 'R', 'B',\n",
              "       'R', 'B', 'L', 'R', 'R', 'L', 'R', 'L', 'R', 'R', 'B', 'R', 'R',\n",
              "       'R', 'L', 'B', 'R', 'L', 'R', 'B', 'R', 'R', 'R', 'L', 'B', 'L',\n",
              "       'L', 'L', 'R', 'L', 'R', 'B', 'L', 'R', 'L', 'L', 'R', 'L', 'R',\n",
              "       'L', 'B', 'L', 'L', 'B', 'B', 'L', 'L', 'R', 'L', 'L', 'R', 'L',\n",
              "       'R', 'L', 'L', 'L', 'R', 'R', 'L', 'R', 'L', 'R', 'B', 'L', 'L',\n",
              "       'L', 'L', 'R', 'L', 'R', 'L', 'L', 'R', 'L', 'R', 'L', 'L', 'L',\n",
              "       'L', 'L', 'L', 'R', 'B', 'L', 'R', 'L', 'R', 'L', 'B', 'R', 'R',\n",
              "       'B', 'L', 'R', 'L', 'L', 'R', 'R', 'L', 'R', 'B', 'R', 'L', 'B',\n",
              "       'R', 'L', 'R', 'R', 'B', 'R', 'L', 'R', 'L', 'L', 'L', 'L', 'R',\n",
              "       'L', 'L', 'L', 'B', 'R', 'B', 'L', 'R', 'R', 'B', 'L', 'L', 'R',\n",
              "       'R', 'R', 'R', 'R', 'R', 'L', 'L', 'R', 'L', 'R', 'L', 'B', 'B',\n",
              "       'L', 'R', 'L', 'L', 'L', 'B', 'L', 'R', 'B', 'L', 'B', 'R', 'R',\n",
              "       'L', 'B', 'L', 'B', 'B', 'R'], dtype=object)"
            ]
          },
          "metadata": {
            "tags": []
          },
          "execution_count": 17
        }
      ]
    },
    {
      "cell_type": "code",
      "metadata": {
        "id": "tfnpKLHjhz0p",
        "outputId": "ff3383e0-5385-4849-84f7-dc435aafee6c",
        "colab": {
          "base_uri": "https://localhost:8080/",
          "height": 34
        }
      },
      "source": [
        "score_gini = classifier_gini.score(X_test,y_test)\n",
        "score_gini"
      ],
      "execution_count": null,
      "outputs": [
        {
          "output_type": "execute_result",
          "data": {
            "text/plain": [
              "0.7446808510638298"
            ]
          },
          "metadata": {
            "tags": []
          },
          "execution_count": 18
        }
      ]
    },
    {
      "cell_type": "code",
      "metadata": {
        "id": "HtSGdXDBiMY2",
        "outputId": "27b5a7e0-bd1d-45ac-9203-8a4b3f62d93c",
        "colab": {
          "base_uri": "https://localhost:8080/",
          "height": 34
        }
      },
      "source": [
        "score_entropy = classifier_entropy.score(X_test,y_test)\n",
        "score_entropy"
      ],
      "execution_count": null,
      "outputs": [
        {
          "output_type": "execute_result",
          "data": {
            "text/plain": [
              "0.7553191489361702"
            ]
          },
          "metadata": {
            "tags": []
          },
          "execution_count": 19
        }
      ]
    },
    {
      "cell_type": "code",
      "metadata": {
        "id": "3ERXlmOXiZYp",
        "outputId": "d04b05f4-073a-4627-98a9-bdee13958c99",
        "colab": {
          "base_uri": "https://localhost:8080/",
          "height": 51
        }
      },
      "source": [
        "count = 0\n",
        "for i in range(0, len(y_pred_gini)):\n",
        "  \n",
        "  if y_pred_gini[i] != y_pred_entropy[i]:\n",
        "    count+= 1\n",
        "    \n",
        "\n",
        "print(\"Sur l'ensemble de test, il y a {} éléments classés différemment\".format(count))\n",
        "print(\"Soit {}% de différence\".format(np.round(count/len(y_pred_gini),3)*100))"
      ],
      "execution_count": null,
      "outputs": [
        {
          "output_type": "stream",
          "text": [
            "Sur l'ensemble de test, il y a 18 éléments classés différemment\n",
            "Soit 9.6% de différence\n"
          ],
          "name": "stdout"
        }
      ]
    },
    {
      "cell_type": "code",
      "metadata": {
        "id": "yaykbJiGjFC_",
        "outputId": "16fbbe03-2460-459b-c723-72dd99bc9145",
        "colab": {
          "base_uri": "https://localhost:8080/",
          "height": 282
        }
      },
      "source": [
        "from sklearn.metrics import confusion_matrix\n",
        "cm = confusion_matrix(y_test,y_pred_gini)\n",
        "sns.heatmap(cm,annot=True,fmt=\"d\")"
      ],
      "execution_count": null,
      "outputs": [
        {
          "output_type": "execute_result",
          "data": {
            "text/plain": [
              "<matplotlib.axes._subplots.AxesSubplot at 0x7f39bfb826a0>"
            ]
          },
          "metadata": {
            "tags": []
          },
          "execution_count": 21
        },
        {
          "output_type": "display_data",
          "data": {
            "image/png": "[encoded data removed]",
            "text/plain": [
              "<Figure size 432x288 with 2 Axes>"
            ]
          },
          "metadata": {
            "tags": [],
            "needs_background": "light"
          }
        }
      ]
    },
    {
      "cell_type": "code",
      "metadata": {
        "id": "T2QuVicSjdAT",
        "outputId": "6a198524-eb8c-4fcf-a8aa-3103147c3a0e",
        "colab": {
          "base_uri": "https://localhost:8080/",
          "height": 282
        }
      },
      "source": [
        "sns.heatmap(cm, annot=True, xticklabels=y_test.sort_values().unique(), yticklabels=y_test.sort_values().unique())"
      ],
      "execution_count": null,
      "outputs": [
        {
          "output_type": "execute_result",
          "data": {
            "text/plain": [
              "<matplotlib.axes._subplots.AxesSubplot at 0x7f39c13d6828>"
            ]
          },
          "metadata": {
            "tags": []
          },
          "execution_count": 22
        },
        {
          "output_type": "display_data",
          "data": {
            "image/png": "[encoded data removed]",
            "text/plain": [
              "<Figure size 432x288 with 2 Axes>"
            ]
          },
          "metadata": {
            "tags": [],
            "needs_background": "light"
          }
        }
      ]
    },
    {
      "cell_type": "code",
      "metadata": {
        "id": "daCnYJbrj50N",
        "outputId": "86277b33-f327-4328-f9f5-215efbcf5df9",
        "colab": {
          "base_uri": "https://localhost:8080/",
          "height": 187
        }
      },
      "source": [
        "from sklearn.metrics import classification_report\n",
        "print(classification_report(y_true=y_test, y_pred=classifier_entropy.predict(X_test)))"
      ],
      "execution_count": null,
      "outputs": [
        {
          "output_type": "stream",
          "text": [
            "              precision    recall  f1-score   support\n",
            "\n",
            "           B       0.06      0.13      0.09        15\n",
            "           L       0.89      0.83      0.86        87\n",
            "           R       0.89      0.79      0.84        86\n",
            "\n",
            "    accuracy                           0.76       188\n",
            "   macro avg       0.62      0.58      0.59       188\n",
            "weighted avg       0.83      0.76      0.79       188\n",
            "\n"
          ],
          "name": "stdout"
        }
      ]
    },
    {
      "cell_type": "code",
      "metadata": {
        "id": "NnD6O_d1kIPJ",
        "outputId": "c2c98ac1-af55-4162-cea0-aad153acb2de",
        "colab": {
          "base_uri": "https://localhost:8080/",
          "height": 187
        }
      },
      "source": [
        "from sklearn.metrics import classification_report\n",
        "print(classification_report(y_true=y_test, y_pred=classifier_gini.predict(X_test)))"
      ],
      "execution_count": null,
      "outputs": [
        {
          "output_type": "stream",
          "text": [
            "              precision    recall  f1-score   support\n",
            "\n",
            "           B       0.07      0.13      0.09        15\n",
            "           L       0.85      0.84      0.84        87\n",
            "           R       0.89      0.76      0.82        86\n",
            "\n",
            "    accuracy                           0.74       188\n",
            "   macro avg       0.60      0.58      0.58       188\n",
            "weighted avg       0.81      0.74      0.77       188\n",
            "\n"
          ],
          "name": "stdout"
        }
      ]
    },
    {
      "cell_type": "code",
      "metadata": {
        "id": "TdmF35i1kNTr",
        "outputId": "7485d83f-7628-4fa6-ddea-40de99d116ca",
        "colab": {
          "base_uri": "https://localhost:8080/",
          "height": 323
        }
      },
      "source": [
        "from sklearn.model_selection import GridSearchCV\n",
        "\n",
        "rtc = DecisionTreeClassifier()\n",
        "params = {'max_depth' : np.arange(1,10),\n",
        "         'min_samples_leaf' : [1, 5, 10, 20]}\n",
        "\n",
        "grid =  GridSearchCV(estimator=rtc, param_grid= params, cv = 10)\n",
        "grid.fit(X_train, y_train)"
      ],
      "execution_count": null,
      "outputs": [
        {
          "output_type": "execute_result",
          "data": {
            "text/plain": [
              "GridSearchCV(cv=10, error_score=nan,\n",
              "             estimator=DecisionTreeClassifier(ccp_alpha=0.0, class_weight=None,\n",
              "                                              criterion='gini', max_depth=None,\n",
              "                                              max_features=None,\n",
              "                                              max_leaf_nodes=None,\n",
              "                                              min_impurity_decrease=0.0,\n",
              "                                              min_impurity_split=None,\n",
              "                                              min_samples_leaf=1,\n",
              "                                              min_samples_split=2,\n",
              "                                              min_weight_fraction_leaf=0.0,\n",
              "                                              presort='deprecated',\n",
              "                                              random_state=None,\n",
              "                                              splitter='best'),\n",
              "             iid='deprecated', n_jobs=None,\n",
              "             param_grid={'max_depth': array([1, 2, 3, 4, 5, 6, 7, 8, 9]),\n",
              "                         'min_samples_leaf': [1, 5, 10, 20]},\n",
              "             pre_dispatch='2*n_jobs', refit=True, return_train_score=False,\n",
              "             scoring=None, verbose=0)"
            ]
          },
          "metadata": {
            "tags": []
          },
          "execution_count": 25
        }
      ]
    },
    {
      "cell_type": "code",
      "metadata": {
        "id": "5VxizocIkluN",
        "outputId": "2b01aff0-d6f8-486f-b9ba-5302c40555bd",
        "colab": {
          "base_uri": "https://localhost:8080/",
          "height": 34
        }
      },
      "source": [
        "grid.best_params_"
      ],
      "execution_count": null,
      "outputs": [
        {
          "output_type": "execute_result",
          "data": {
            "text/plain": [
              "{'max_depth': 4, 'min_samples_leaf': 1}"
            ]
          },
          "metadata": {
            "tags": []
          },
          "execution_count": 26
        }
      ]
    },
    {
      "cell_type": "code",
      "metadata": {
        "id": "Zrs8o7-JkssN",
        "outputId": "2eb35cc1-aae6-4093-fc76-8b2a462db2f4",
        "colab": {
          "base_uri": "https://localhost:8080/",
          "height": 34
        }
      },
      "source": [
        "grid.best_estimator_.score(X_test, y_test)"
      ],
      "execution_count": null,
      "outputs": [
        {
          "output_type": "execute_result",
          "data": {
            "text/plain": [
              "0.7712765957446809"
            ]
          },
          "metadata": {
            "tags": []
          },
          "execution_count": 27
        }
      ]
    },
    {
      "cell_type": "code",
      "metadata": {
        "id": "u_iUhQ2Kkzc7",
        "outputId": "8bd40272-499a-4a10-a851-877af8448e75",
        "colab": {
          "base_uri": "https://localhost:8080/",
          "height": 34
        }
      },
      "source": [
        "grid.best_estimator_.score(X_train, y_train)"
      ],
      "execution_count": null,
      "outputs": [
        {
          "output_type": "execute_result",
          "data": {
            "text/plain": [
              "0.8443935926773455"
            ]
          },
          "metadata": {
            "tags": []
          },
          "execution_count": 28
        }
      ]
    },
    {
      "cell_type": "code",
      "metadata": {
        "id": "Rg6kfqU4k5UK",
        "outputId": "fd25614b-74f3-447f-b180-348c464420cc",
        "colab": {
          "base_uri": "https://localhost:8080/",
          "height": 187
        }
      },
      "source": [
        "print(classification_report(y_test,grid.best_estimator_.predict(X_test)))"
      ],
      "execution_count": null,
      "outputs": [
        {
          "output_type": "stream",
          "text": [
            "              precision    recall  f1-score   support\n",
            "\n",
            "           B       0.20      0.07      0.10        15\n",
            "           L       0.80      0.83      0.81        87\n",
            "           R       0.77      0.84      0.80        86\n",
            "\n",
            "    accuracy                           0.77       188\n",
            "   macro avg       0.59      0.58      0.57       188\n",
            "weighted avg       0.74      0.77      0.75       188\n",
            "\n"
          ],
          "name": "stdout"
        }
      ]
    },
    {
      "cell_type": "code",
      "metadata": {
        "id": "hTuBdBmUlG9O",
        "outputId": "2817ec7e-1b4d-4380-8109-5c40a0064242",
        "colab": {
          "base_uri": "https://localhost:8080/",
          "height": 85
        }
      },
      "source": [
        "y.value_counts()"
      ],
      "execution_count": null,
      "outputs": [
        {
          "output_type": "execute_result",
          "data": {
            "text/plain": [
              "R    288\n",
              "L    288\n",
              "B     49\n",
              "Name: balance, dtype: int64"
            ]
          },
          "metadata": {
            "tags": []
          },
          "execution_count": 30
        }
      ]
    },
    {
      "cell_type": "code",
      "metadata": {
        "id": "XxP0-E91lwll",
        "outputId": "67e6d2e4-8e5b-4813-c7ed-f4c84ca94795",
        "colab": {
          "base_uri": "https://localhost:8080/",
          "height": 173
        }
      },
      "source": [
        "dataset.groupby('balance').mean()"
      ],
      "execution_count": null,
      "outputs": [
        {
          "output_type": "execute_result",
          "data": {
            "text/html": [
              "<div>\n",
              "<style scoped>\n",
              "    .dataframe tbody tr th:only-of-type {\n",
              "        vertical-align: middle;\n",
              "    }\n",
              "\n",
              "    .dataframe tbody tr th {\n",
              "        vertical-align: top;\n",
              "    }\n",
              "\n",
              "    .dataframe thead th {\n",
              "        text-align: right;\n",
              "    }\n",
              "</style>\n",
              "<table border=\"1\" class=\"dataframe\">\n",
              "  <thead>\n",
              "    <tr style=\"text-align: right;\">\n",
              "      <th></th>\n",
              "      <th>left_weight</th>\n",
              "      <th>left_distance</th>\n",
              "      <th>right_weight</th>\n",
              "      <th>right_distance</th>\n",
              "    </tr>\n",
              "    <tr>\n",
              "      <th>balance</th>\n",
              "      <th></th>\n",
              "      <th></th>\n",
              "      <th></th>\n",
              "      <th></th>\n",
              "    </tr>\n",
              "  </thead>\n",
              "  <tbody>\n",
              "    <tr>\n",
              "      <th>B</th>\n",
              "      <td>2.938776</td>\n",
              "      <td>2.938776</td>\n",
              "      <td>2.938776</td>\n",
              "      <td>2.938776</td>\n",
              "    </tr>\n",
              "    <tr>\n",
              "      <th>L</th>\n",
              "      <td>3.611111</td>\n",
              "      <td>3.611111</td>\n",
              "      <td>2.399306</td>\n",
              "      <td>2.399306</td>\n",
              "    </tr>\n",
              "    <tr>\n",
              "      <th>R</th>\n",
              "      <td>2.399306</td>\n",
              "      <td>2.399306</td>\n",
              "      <td>3.611111</td>\n",
              "      <td>3.611111</td>\n",
              "    </tr>\n",
              "  </tbody>\n",
              "</table>\n",
              "</div>"
            ],
            "text/plain": [
              "         left_weight  left_distance  right_weight  right_distance\n",
              "balance                                                          \n",
              "B           2.938776       2.938776      2.938776        2.938776\n",
              "L           3.611111       3.611111      2.399306        2.399306\n",
              "R           2.399306       2.399306      3.611111        3.611111"
            ]
          },
          "metadata": {
            "tags": []
          },
          "execution_count": 31
        }
      ]
    },
    {
      "cell_type": "code",
      "metadata": {
        "id": "uYOvFuu2mSml"
      },
      "source": [
        "dataset['left_prod'] = dataset['left_weight'] * dataset['left_distance']\n",
        "dataset['right_prod'] = dataset['right_weight'] * dataset['right_distance']\n",
        "dataset['balanced'] = dataset['right_prod'] - dataset['left_prod']"
      ],
      "execution_count": null,
      "outputs": []
    },
    {
      "cell_type": "code",
      "metadata": {
        "id": "i6-wjb36mws7",
        "outputId": "b5ca3fcb-dd83-410c-b77f-85e28fe0d894",
        "colab": {
          "base_uri": "https://localhost:8080/",
          "height": 1000
        }
      },
      "source": [
        "dataset[dataset['balance'] == 'B']"
      ],
      "execution_count": null,
      "outputs": [
        {
          "output_type": "execute_result",
          "data": {
            "text/html": [
              "<div>\n",
              "<style scoped>\n",
              "    .dataframe tbody tr th:only-of-type {\n",
              "        vertical-align: middle;\n",
              "    }\n",
              "\n",
              "    .dataframe tbody tr th {\n",
              "        vertical-align: top;\n",
              "    }\n",
              "\n",
              "    .dataframe thead th {\n",
              "        text-align: right;\n",
              "    }\n",
              "</style>\n",
              "<table border=\"1\" class=\"dataframe\">\n",
              "  <thead>\n",
              "    <tr style=\"text-align: right;\">\n",
              "      <th></th>\n",
              "      <th>balance</th>\n",
              "      <th>left_weight</th>\n",
              "      <th>left_distance</th>\n",
              "      <th>right_weight</th>\n",
              "      <th>right_distance</th>\n",
              "      <th>left_prod</th>\n",
              "      <th>right_prod</th>\n",
              "      <th>balanced</th>\n",
              "    </tr>\n",
              "  </thead>\n",
              "  <tbody>\n",
              "    <tr>\n",
              "      <th>0</th>\n",
              "      <td>B</td>\n",
              "      <td>1</td>\n",
              "      <td>1</td>\n",
              "      <td>1</td>\n",
              "      <td>1</td>\n",
              "      <td>1</td>\n",
              "      <td>1</td>\n",
              "      <td>0</td>\n",
              "    </tr>\n",
              "    <tr>\n",
              "      <th>26</th>\n",
              "      <td>B</td>\n",
              "      <td>1</td>\n",
              "      <td>2</td>\n",
              "      <td>1</td>\n",
              "      <td>2</td>\n",
              "      <td>2</td>\n",
              "      <td>2</td>\n",
              "      <td>0</td>\n",
              "    </tr>\n",
              "    <tr>\n",
              "      <th>30</th>\n",
              "      <td>B</td>\n",
              "      <td>1</td>\n",
              "      <td>2</td>\n",
              "      <td>2</td>\n",
              "      <td>1</td>\n",
              "      <td>2</td>\n",
              "      <td>2</td>\n",
              "      <td>0</td>\n",
              "    </tr>\n",
              "    <tr>\n",
              "      <th>52</th>\n",
              "      <td>B</td>\n",
              "      <td>1</td>\n",
              "      <td>3</td>\n",
              "      <td>1</td>\n",
              "      <td>3</td>\n",
              "      <td>3</td>\n",
              "      <td>3</td>\n",
              "      <td>0</td>\n",
              "    </tr>\n",
              "    <tr>\n",
              "      <th>60</th>\n",
              "      <td>B</td>\n",
              "      <td>1</td>\n",
              "      <td>3</td>\n",
              "      <td>3</td>\n",
              "      <td>1</td>\n",
              "      <td>3</td>\n",
              "      <td>3</td>\n",
              "      <td>0</td>\n",
              "    </tr>\n",
              "    <tr>\n",
              "      <th>78</th>\n",
              "      <td>B</td>\n",
              "      <td>1</td>\n",
              "      <td>4</td>\n",
              "      <td>1</td>\n",
              "      <td>4</td>\n",
              "      <td>4</td>\n",
              "      <td>4</td>\n",
              "      <td>0</td>\n",
              "    </tr>\n",
              "    <tr>\n",
              "      <th>81</th>\n",
              "      <td>B</td>\n",
              "      <td>1</td>\n",
              "      <td>4</td>\n",
              "      <td>2</td>\n",
              "      <td>2</td>\n",
              "      <td>4</td>\n",
              "      <td>4</td>\n",
              "      <td>0</td>\n",
              "    </tr>\n",
              "    <tr>\n",
              "      <th>90</th>\n",
              "      <td>B</td>\n",
              "      <td>1</td>\n",
              "      <td>4</td>\n",
              "      <td>4</td>\n",
              "      <td>1</td>\n",
              "      <td>4</td>\n",
              "      <td>4</td>\n",
              "      <td>0</td>\n",
              "    </tr>\n",
              "    <tr>\n",
              "      <th>104</th>\n",
              "      <td>B</td>\n",
              "      <td>1</td>\n",
              "      <td>5</td>\n",
              "      <td>1</td>\n",
              "      <td>5</td>\n",
              "      <td>5</td>\n",
              "      <td>5</td>\n",
              "      <td>0</td>\n",
              "    </tr>\n",
              "    <tr>\n",
              "      <th>120</th>\n",
              "      <td>B</td>\n",
              "      <td>1</td>\n",
              "      <td>5</td>\n",
              "      <td>5</td>\n",
              "      <td>1</td>\n",
              "      <td>5</td>\n",
              "      <td>5</td>\n",
              "      <td>0</td>\n",
              "    </tr>\n",
              "    <tr>\n",
              "      <th>126</th>\n",
              "      <td>B</td>\n",
              "      <td>2</td>\n",
              "      <td>1</td>\n",
              "      <td>1</td>\n",
              "      <td>2</td>\n",
              "      <td>2</td>\n",
              "      <td>2</td>\n",
              "      <td>0</td>\n",
              "    </tr>\n",
              "    <tr>\n",
              "      <th>130</th>\n",
              "      <td>B</td>\n",
              "      <td>2</td>\n",
              "      <td>1</td>\n",
              "      <td>2</td>\n",
              "      <td>1</td>\n",
              "      <td>2</td>\n",
              "      <td>2</td>\n",
              "      <td>0</td>\n",
              "    </tr>\n",
              "    <tr>\n",
              "      <th>153</th>\n",
              "      <td>B</td>\n",
              "      <td>2</td>\n",
              "      <td>2</td>\n",
              "      <td>1</td>\n",
              "      <td>4</td>\n",
              "      <td>4</td>\n",
              "      <td>4</td>\n",
              "      <td>0</td>\n",
              "    </tr>\n",
              "    <tr>\n",
              "      <th>156</th>\n",
              "      <td>B</td>\n",
              "      <td>2</td>\n",
              "      <td>2</td>\n",
              "      <td>2</td>\n",
              "      <td>2</td>\n",
              "      <td>4</td>\n",
              "      <td>4</td>\n",
              "      <td>0</td>\n",
              "    </tr>\n",
              "    <tr>\n",
              "      <th>165</th>\n",
              "      <td>B</td>\n",
              "      <td>2</td>\n",
              "      <td>2</td>\n",
              "      <td>4</td>\n",
              "      <td>1</td>\n",
              "      <td>4</td>\n",
              "      <td>4</td>\n",
              "      <td>0</td>\n",
              "    </tr>\n",
              "    <tr>\n",
              "      <th>182</th>\n",
              "      <td>B</td>\n",
              "      <td>2</td>\n",
              "      <td>3</td>\n",
              "      <td>2</td>\n",
              "      <td>3</td>\n",
              "      <td>6</td>\n",
              "      <td>6</td>\n",
              "      <td>0</td>\n",
              "    </tr>\n",
              "    <tr>\n",
              "      <th>186</th>\n",
              "      <td>B</td>\n",
              "      <td>2</td>\n",
              "      <td>3</td>\n",
              "      <td>3</td>\n",
              "      <td>2</td>\n",
              "      <td>6</td>\n",
              "      <td>6</td>\n",
              "      <td>0</td>\n",
              "    </tr>\n",
              "    <tr>\n",
              "      <th>208</th>\n",
              "      <td>B</td>\n",
              "      <td>2</td>\n",
              "      <td>4</td>\n",
              "      <td>2</td>\n",
              "      <td>4</td>\n",
              "      <td>8</td>\n",
              "      <td>8</td>\n",
              "      <td>0</td>\n",
              "    </tr>\n",
              "    <tr>\n",
              "      <th>216</th>\n",
              "      <td>B</td>\n",
              "      <td>2</td>\n",
              "      <td>4</td>\n",
              "      <td>4</td>\n",
              "      <td>2</td>\n",
              "      <td>8</td>\n",
              "      <td>8</td>\n",
              "      <td>0</td>\n",
              "    </tr>\n",
              "    <tr>\n",
              "      <th>234</th>\n",
              "      <td>B</td>\n",
              "      <td>2</td>\n",
              "      <td>5</td>\n",
              "      <td>2</td>\n",
              "      <td>5</td>\n",
              "      <td>10</td>\n",
              "      <td>10</td>\n",
              "      <td>0</td>\n",
              "    </tr>\n",
              "    <tr>\n",
              "      <th>246</th>\n",
              "      <td>B</td>\n",
              "      <td>2</td>\n",
              "      <td>5</td>\n",
              "      <td>5</td>\n",
              "      <td>2</td>\n",
              "      <td>10</td>\n",
              "      <td>10</td>\n",
              "      <td>0</td>\n",
              "    </tr>\n",
              "    <tr>\n",
              "      <th>252</th>\n",
              "      <td>B</td>\n",
              "      <td>3</td>\n",
              "      <td>1</td>\n",
              "      <td>1</td>\n",
              "      <td>3</td>\n",
              "      <td>3</td>\n",
              "      <td>3</td>\n",
              "      <td>0</td>\n",
              "    </tr>\n",
              "    <tr>\n",
              "      <th>260</th>\n",
              "      <td>B</td>\n",
              "      <td>3</td>\n",
              "      <td>1</td>\n",
              "      <td>3</td>\n",
              "      <td>1</td>\n",
              "      <td>3</td>\n",
              "      <td>3</td>\n",
              "      <td>0</td>\n",
              "    </tr>\n",
              "    <tr>\n",
              "      <th>282</th>\n",
              "      <td>B</td>\n",
              "      <td>3</td>\n",
              "      <td>2</td>\n",
              "      <td>2</td>\n",
              "      <td>3</td>\n",
              "      <td>6</td>\n",
              "      <td>6</td>\n",
              "      <td>0</td>\n",
              "    </tr>\n",
              "    <tr>\n",
              "      <th>286</th>\n",
              "      <td>B</td>\n",
              "      <td>3</td>\n",
              "      <td>2</td>\n",
              "      <td>3</td>\n",
              "      <td>2</td>\n",
              "      <td>6</td>\n",
              "      <td>6</td>\n",
              "      <td>0</td>\n",
              "    </tr>\n",
              "    <tr>\n",
              "      <th>312</th>\n",
              "      <td>B</td>\n",
              "      <td>3</td>\n",
              "      <td>3</td>\n",
              "      <td>3</td>\n",
              "      <td>3</td>\n",
              "      <td>9</td>\n",
              "      <td>9</td>\n",
              "      <td>0</td>\n",
              "    </tr>\n",
              "    <tr>\n",
              "      <th>338</th>\n",
              "      <td>B</td>\n",
              "      <td>3</td>\n",
              "      <td>4</td>\n",
              "      <td>3</td>\n",
              "      <td>4</td>\n",
              "      <td>12</td>\n",
              "      <td>12</td>\n",
              "      <td>0</td>\n",
              "    </tr>\n",
              "    <tr>\n",
              "      <th>342</th>\n",
              "      <td>B</td>\n",
              "      <td>3</td>\n",
              "      <td>4</td>\n",
              "      <td>4</td>\n",
              "      <td>3</td>\n",
              "      <td>12</td>\n",
              "      <td>12</td>\n",
              "      <td>0</td>\n",
              "    </tr>\n",
              "    <tr>\n",
              "      <th>364</th>\n",
              "      <td>B</td>\n",
              "      <td>3</td>\n",
              "      <td>5</td>\n",
              "      <td>3</td>\n",
              "      <td>5</td>\n",
              "      <td>15</td>\n",
              "      <td>15</td>\n",
              "      <td>0</td>\n",
              "    </tr>\n",
              "    <tr>\n",
              "      <th>372</th>\n",
              "      <td>B</td>\n",
              "      <td>3</td>\n",
              "      <td>5</td>\n",
              "      <td>5</td>\n",
              "      <td>3</td>\n",
              "      <td>15</td>\n",
              "      <td>15</td>\n",
              "      <td>0</td>\n",
              "    </tr>\n",
              "    <tr>\n",
              "      <th>378</th>\n",
              "      <td>B</td>\n",
              "      <td>4</td>\n",
              "      <td>1</td>\n",
              "      <td>1</td>\n",
              "      <td>4</td>\n",
              "      <td>4</td>\n",
              "      <td>4</td>\n",
              "      <td>0</td>\n",
              "    </tr>\n",
              "    <tr>\n",
              "      <th>381</th>\n",
              "      <td>B</td>\n",
              "      <td>4</td>\n",
              "      <td>1</td>\n",
              "      <td>2</td>\n",
              "      <td>2</td>\n",
              "      <td>4</td>\n",
              "      <td>4</td>\n",
              "      <td>0</td>\n",
              "    </tr>\n",
              "    <tr>\n",
              "      <th>390</th>\n",
              "      <td>B</td>\n",
              "      <td>4</td>\n",
              "      <td>1</td>\n",
              "      <td>4</td>\n",
              "      <td>1</td>\n",
              "      <td>4</td>\n",
              "      <td>4</td>\n",
              "      <td>0</td>\n",
              "    </tr>\n",
              "    <tr>\n",
              "      <th>408</th>\n",
              "      <td>B</td>\n",
              "      <td>4</td>\n",
              "      <td>2</td>\n",
              "      <td>2</td>\n",
              "      <td>4</td>\n",
              "      <td>8</td>\n",
              "      <td>8</td>\n",
              "      <td>0</td>\n",
              "    </tr>\n",
              "    <tr>\n",
              "      <th>416</th>\n",
              "      <td>B</td>\n",
              "      <td>4</td>\n",
              "      <td>2</td>\n",
              "      <td>4</td>\n",
              "      <td>2</td>\n",
              "      <td>8</td>\n",
              "      <td>8</td>\n",
              "      <td>0</td>\n",
              "    </tr>\n",
              "    <tr>\n",
              "      <th>438</th>\n",
              "      <td>B</td>\n",
              "      <td>4</td>\n",
              "      <td>3</td>\n",
              "      <td>3</td>\n",
              "      <td>4</td>\n",
              "      <td>12</td>\n",
              "      <td>12</td>\n",
              "      <td>0</td>\n",
              "    </tr>\n",
              "    <tr>\n",
              "      <th>442</th>\n",
              "      <td>B</td>\n",
              "      <td>4</td>\n",
              "      <td>3</td>\n",
              "      <td>4</td>\n",
              "      <td>3</td>\n",
              "      <td>12</td>\n",
              "      <td>12</td>\n",
              "      <td>0</td>\n",
              "    </tr>\n",
              "    <tr>\n",
              "      <th>468</th>\n",
              "      <td>B</td>\n",
              "      <td>4</td>\n",
              "      <td>4</td>\n",
              "      <td>4</td>\n",
              "      <td>4</td>\n",
              "      <td>16</td>\n",
              "      <td>16</td>\n",
              "      <td>0</td>\n",
              "    </tr>\n",
              "    <tr>\n",
              "      <th>494</th>\n",
              "      <td>B</td>\n",
              "      <td>4</td>\n",
              "      <td>5</td>\n",
              "      <td>4</td>\n",
              "      <td>5</td>\n",
              "      <td>20</td>\n",
              "      <td>20</td>\n",
              "      <td>0</td>\n",
              "    </tr>\n",
              "    <tr>\n",
              "      <th>498</th>\n",
              "      <td>B</td>\n",
              "      <td>4</td>\n",
              "      <td>5</td>\n",
              "      <td>5</td>\n",
              "      <td>4</td>\n",
              "      <td>20</td>\n",
              "      <td>20</td>\n",
              "      <td>0</td>\n",
              "    </tr>\n",
              "    <tr>\n",
              "      <th>504</th>\n",
              "      <td>B</td>\n",
              "      <td>5</td>\n",
              "      <td>1</td>\n",
              "      <td>1</td>\n",
              "      <td>5</td>\n",
              "      <td>5</td>\n",
              "      <td>5</td>\n",
              "      <td>0</td>\n",
              "    </tr>\n",
              "    <tr>\n",
              "      <th>520</th>\n",
              "      <td>B</td>\n",
              "      <td>5</td>\n",
              "      <td>1</td>\n",
              "      <td>5</td>\n",
              "      <td>1</td>\n",
              "      <td>5</td>\n",
              "      <td>5</td>\n",
              "      <td>0</td>\n",
              "    </tr>\n",
              "    <tr>\n",
              "      <th>534</th>\n",
              "      <td>B</td>\n",
              "      <td>5</td>\n",
              "      <td>2</td>\n",
              "      <td>2</td>\n",
              "      <td>5</td>\n",
              "      <td>10</td>\n",
              "      <td>10</td>\n",
              "      <td>0</td>\n",
              "    </tr>\n",
              "    <tr>\n",
              "      <th>546</th>\n",
              "      <td>B</td>\n",
              "      <td>5</td>\n",
              "      <td>2</td>\n",
              "      <td>5</td>\n",
              "      <td>2</td>\n",
              "      <td>10</td>\n",
              "      <td>10</td>\n",
              "      <td>0</td>\n",
              "    </tr>\n",
              "    <tr>\n",
              "      <th>564</th>\n",
              "      <td>B</td>\n",
              "      <td>5</td>\n",
              "      <td>3</td>\n",
              "      <td>3</td>\n",
              "      <td>5</td>\n",
              "      <td>15</td>\n",
              "      <td>15</td>\n",
              "      <td>0</td>\n",
              "    </tr>\n",
              "    <tr>\n",
              "      <th>572</th>\n",
              "      <td>B</td>\n",
              "      <td>5</td>\n",
              "      <td>3</td>\n",
              "      <td>5</td>\n",
              "      <td>3</td>\n",
              "      <td>15</td>\n",
              "      <td>15</td>\n",
              "      <td>0</td>\n",
              "    </tr>\n",
              "    <tr>\n",
              "      <th>594</th>\n",
              "      <td>B</td>\n",
              "      <td>5</td>\n",
              "      <td>4</td>\n",
              "      <td>4</td>\n",
              "      <td>5</td>\n",
              "      <td>20</td>\n",
              "      <td>20</td>\n",
              "      <td>0</td>\n",
              "    </tr>\n",
              "    <tr>\n",
              "      <th>598</th>\n",
              "      <td>B</td>\n",
              "      <td>5</td>\n",
              "      <td>4</td>\n",
              "      <td>5</td>\n",
              "      <td>4</td>\n",
              "      <td>20</td>\n",
              "      <td>20</td>\n",
              "      <td>0</td>\n",
              "    </tr>\n",
              "    <tr>\n",
              "      <th>624</th>\n",
              "      <td>B</td>\n",
              "      <td>5</td>\n",
              "      <td>5</td>\n",
              "      <td>5</td>\n",
              "      <td>5</td>\n",
              "      <td>25</td>\n",
              "      <td>25</td>\n",
              "      <td>0</td>\n",
              "    </tr>\n",
              "  </tbody>\n",
              "</table>\n",
              "</div>"
            ],
            "text/plain": [
              "    balance  left_weight  left_distance  ...  left_prod  right_prod  balanced\n",
              "0         B            1              1  ...          1           1         0\n",
              "26        B            1              2  ...          2           2         0\n",
              "30        B            1              2  ...          2           2         0\n",
              "52        B            1              3  ...          3           3         0\n",
              "60        B            1              3  ...          3           3         0\n",
              "78        B            1              4  ...          4           4         0\n",
              "81        B            1              4  ...          4           4         0\n",
              "90        B            1              4  ...          4           4         0\n",
              "104       B            1              5  ...          5           5         0\n",
              "120       B            1              5  ...          5           5         0\n",
              "126       B            2              1  ...          2           2         0\n",
              "130       B            2              1  ...          2           2         0\n",
              "153       B            2              2  ...          4           4         0\n",
              "156       B            2              2  ...          4           4         0\n",
              "165       B            2              2  ...          4           4         0\n",
              "182       B            2              3  ...          6           6         0\n",
              "186       B            2              3  ...          6           6         0\n",
              "208       B            2              4  ...          8           8         0\n",
              "216       B            2              4  ...          8           8         0\n",
              "234       B            2              5  ...         10          10         0\n",
              "246       B            2              5  ...         10          10         0\n",
              "252       B            3              1  ...          3           3         0\n",
              "260       B            3              1  ...          3           3         0\n",
              "282       B            3              2  ...          6           6         0\n",
              "286       B            3              2  ...          6           6         0\n",
              "312       B            3              3  ...          9           9         0\n",
              "338       B            3              4  ...         12          12         0\n",
              "342       B            3              4  ...         12          12         0\n",
              "364       B            3              5  ...         15          15         0\n",
              "372       B            3              5  ...         15          15         0\n",
              "378       B            4              1  ...          4           4         0\n",
              "381       B            4              1  ...          4           4         0\n",
              "390       B            4              1  ...          4           4         0\n",
              "408       B            4              2  ...          8           8         0\n",
              "416       B            4              2  ...          8           8         0\n",
              "438       B            4              3  ...         12          12         0\n",
              "442       B            4              3  ...         12          12         0\n",
              "468       B            4              4  ...         16          16         0\n",
              "494       B            4              5  ...         20          20         0\n",
              "498       B            4              5  ...         20          20         0\n",
              "504       B            5              1  ...          5           5         0\n",
              "520       B            5              1  ...          5           5         0\n",
              "534       B            5              2  ...         10          10         0\n",
              "546       B            5              2  ...         10          10         0\n",
              "564       B            5              3  ...         15          15         0\n",
              "572       B            5              3  ...         15          15         0\n",
              "594       B            5              4  ...         20          20         0\n",
              "598       B            5              4  ...         20          20         0\n",
              "624       B            5              5  ...         25          25         0\n",
              "\n",
              "[49 rows x 8 columns]"
            ]
          },
          "metadata": {
            "tags": []
          },
          "execution_count": 33
        }
      ]
    },
    {
      "cell_type": "code",
      "metadata": {
        "id": "kMAPLCHCmxtF"
      },
      "source": [
        "X = dataset.iloc[:,1:]\n",
        "y = dataset.iloc[:,0] "
      ],
      "execution_count": null,
      "outputs": []
    },
    {
      "cell_type": "code",
      "metadata": {
        "id": "8wCGPAaKsPf8"
      },
      "source": [
        "from sklearn.model_selection import train_test_split\n",
        "\n",
        "X_train, X_test, y_train, y_test = train_test_split(X, y, test_size=0.3, random_state=42, stratify = y)"
      ],
      "execution_count": null,
      "outputs": []
    },
    {
      "cell_type": "code",
      "metadata": {
        "id": "TKy-TRORscYy",
        "outputId": "ea04c1ed-f1c3-4b2d-edfc-ebfd0a96b878",
        "colab": {
          "base_uri": "https://localhost:8080/",
          "height": 119
        }
      },
      "source": [
        "from sklearn.tree import DecisionTreeClassifier\n",
        "\n",
        "classifier_gini = DecisionTreeClassifier(criterion=\"gini\")\n",
        "classifier_gini.fit(X_train,y_train)"
      ],
      "execution_count": null,
      "outputs": [
        {
          "output_type": "execute_result",
          "data": {
            "text/plain": [
              "DecisionTreeClassifier(ccp_alpha=0.0, class_weight=None, criterion='gini',\n",
              "                       max_depth=None, max_features=None, max_leaf_nodes=None,\n",
              "                       min_impurity_decrease=0.0, min_impurity_split=None,\n",
              "                       min_samples_leaf=1, min_samples_split=2,\n",
              "                       min_weight_fraction_leaf=0.0, presort='deprecated',\n",
              "                       random_state=None, splitter='best')"
            ]
          },
          "metadata": {
            "tags": []
          },
          "execution_count": 36
        }
      ]
    },
    {
      "cell_type": "code",
      "metadata": {
        "id": "2GuMW-Y3sdak",
        "outputId": "643e8964-450a-4aec-ef39-df1e7f2204b9",
        "colab": {
          "base_uri": "https://localhost:8080/",
          "height": 357
        }
      },
      "source": [
        "print(classification_report(y_train, classifier_gini.predict(X_train)))\n",
        "print(classification_report(y_test, classifier_gini.predict(X_test)))"
      ],
      "execution_count": null,
      "outputs": [
        {
          "output_type": "stream",
          "text": [
            "              precision    recall  f1-score   support\n",
            "\n",
            "           B       1.00      1.00      1.00        34\n",
            "           L       1.00      1.00      1.00       201\n",
            "           R       1.00      1.00      1.00       202\n",
            "\n",
            "    accuracy                           1.00       437\n",
            "   macro avg       1.00      1.00      1.00       437\n",
            "weighted avg       1.00      1.00      1.00       437\n",
            "\n",
            "              precision    recall  f1-score   support\n",
            "\n",
            "           B       1.00      1.00      1.00        15\n",
            "           L       1.00      1.00      1.00        87\n",
            "           R       1.00      1.00      1.00        86\n",
            "\n",
            "    accuracy                           1.00       188\n",
            "   macro avg       1.00      1.00      1.00       188\n",
            "weighted avg       1.00      1.00      1.00       188\n",
            "\n"
          ],
          "name": "stdout"
        }
      ]
    },
    {
      "cell_type": "code",
      "metadata": {
        "id": "gCWpTFcnsmId"
      },
      "source": [
        ""
      ],
      "execution_count": null,
      "outputs": []
    }
  ]
}