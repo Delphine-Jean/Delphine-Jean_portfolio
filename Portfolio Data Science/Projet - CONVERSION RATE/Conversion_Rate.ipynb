{
  "nbformat": 4,
  "nbformat_minor": 0,
  "metadata": {
    "colab": {
      "name": "Conversion_Rate.ipynb",
      "provenance": []
    },
    "kernelspec": {
      "name": "python3",
      "display_name": "Python 3"
    }
  },
  "cells": [
    {
      "cell_type": "code",
      "metadata": {
        "id": "2GzMTze_AOdk",
        "colab_type": "code",
        "colab": {
          "base_uri": "https://localhost:8080/",
          "height": 52
        },
        "outputId": "742b9a92-085c-4237-8005-d90a81162d81"
      },
      "source": [
        "import pandas as pd\n",
        "import seaborn as sns\n",
        "import matplotlib.pyplot as plt\n",
        "import numpy as np"
      ],
      "execution_count": 1,
      "outputs": [
        {
          "output_type": "stream",
          "text": [
            "/usr/local/lib/python3.6/dist-packages/statsmodels/tools/_testing.py:19: FutureWarning: pandas.util.testing is deprecated. Use the functions in the public API at pandas.testing instead.\n",
            "  import pandas.util.testing as tm\n"
          ],
          "name": "stderr"
        }
      ]
    },
    {
      "cell_type": "code",
      "metadata": {
        "id": "qonfDpXqAhZC",
        "colab_type": "code",
        "colab": {}
      },
      "source": [
        "dataset = pd.read_csv(\"https://drive.google.com/uc?export=download&id=1KvxyyF3QCtvIx0J7_8iWDEtFQpLgd0Yq\")"
      ],
      "execution_count": 2,
      "outputs": []
    },
    {
      "cell_type": "code",
      "metadata": {
        "id": "VdChKxcpA1lm",
        "colab_type": "code",
        "colab": {
          "base_uri": "https://localhost:8080/",
          "height": 197
        },
        "outputId": "149b040e-01a3-43a9-921d-9d4209dec333"
      },
      "source": [
        "dataset.head()"
      ],
      "execution_count": 3,
      "outputs": [
        {
          "output_type": "execute_result",
          "data": {
            "text/html": [
              "<div>\n",
              "<style scoped>\n",
              "    .dataframe tbody tr th:only-of-type {\n",
              "        vertical-align: middle;\n",
              "    }\n",
              "\n",
              "    .dataframe tbody tr th {\n",
              "        vertical-align: top;\n",
              "    }\n",
              "\n",
              "    .dataframe thead th {\n",
              "        text-align: right;\n",
              "    }\n",
              "</style>\n",
              "<table border=\"1\" class=\"dataframe\">\n",
              "  <thead>\n",
              "    <tr style=\"text-align: right;\">\n",
              "      <th></th>\n",
              "      <th>country</th>\n",
              "      <th>age</th>\n",
              "      <th>new_user</th>\n",
              "      <th>source</th>\n",
              "      <th>total_pages_visited</th>\n",
              "      <th>converted</th>\n",
              "    </tr>\n",
              "  </thead>\n",
              "  <tbody>\n",
              "    <tr>\n",
              "      <th>0</th>\n",
              "      <td>UK</td>\n",
              "      <td>25</td>\n",
              "      <td>1</td>\n",
              "      <td>Ads</td>\n",
              "      <td>1</td>\n",
              "      <td>0</td>\n",
              "    </tr>\n",
              "    <tr>\n",
              "      <th>1</th>\n",
              "      <td>US</td>\n",
              "      <td>23</td>\n",
              "      <td>1</td>\n",
              "      <td>Seo</td>\n",
              "      <td>5</td>\n",
              "      <td>0</td>\n",
              "    </tr>\n",
              "    <tr>\n",
              "      <th>2</th>\n",
              "      <td>US</td>\n",
              "      <td>28</td>\n",
              "      <td>1</td>\n",
              "      <td>Seo</td>\n",
              "      <td>4</td>\n",
              "      <td>0</td>\n",
              "    </tr>\n",
              "    <tr>\n",
              "      <th>3</th>\n",
              "      <td>China</td>\n",
              "      <td>39</td>\n",
              "      <td>1</td>\n",
              "      <td>Seo</td>\n",
              "      <td>5</td>\n",
              "      <td>0</td>\n",
              "    </tr>\n",
              "    <tr>\n",
              "      <th>4</th>\n",
              "      <td>US</td>\n",
              "      <td>30</td>\n",
              "      <td>1</td>\n",
              "      <td>Seo</td>\n",
              "      <td>6</td>\n",
              "      <td>0</td>\n",
              "    </tr>\n",
              "  </tbody>\n",
              "</table>\n",
              "</div>"
            ],
            "text/plain": [
              "  country  age  new_user source  total_pages_visited  converted\n",
              "0      UK   25         1    Ads                    1          0\n",
              "1      US   23         1    Seo                    5          0\n",
              "2      US   28         1    Seo                    4          0\n",
              "3   China   39         1    Seo                    5          0\n",
              "4      US   30         1    Seo                    6          0"
            ]
          },
          "metadata": {
            "tags": []
          },
          "execution_count": 3
        }
      ]
    },
    {
      "cell_type": "markdown",
      "metadata": {
        "id": "OH1ybzyvBGe9",
        "colab_type": "text"
      },
      "source": [
        "##### Firstly, let’s inspect the data to look for weird behavior/wrong data. Data is never perfect in real life and requires to be cleaned. Identifying the wrong data and dealing with it is a crucial step\n",
        "\n",
        "Describe and groupby are usually the best places to start:"
      ]
    },
    {
      "cell_type": "code",
      "metadata": {
        "id": "ak9PuKITA5Ye",
        "colab_type": "code",
        "colab": {
          "base_uri": "https://localhost:8080/",
          "height": 287
        },
        "outputId": "e14fecc5-ffcd-4abb-db84-99d503deb2b5"
      },
      "source": [
        "dataset.describe()"
      ],
      "execution_count": 4,
      "outputs": [
        {
          "output_type": "execute_result",
          "data": {
            "text/html": [
              "<div>\n",
              "<style scoped>\n",
              "    .dataframe tbody tr th:only-of-type {\n",
              "        vertical-align: middle;\n",
              "    }\n",
              "\n",
              "    .dataframe tbody tr th {\n",
              "        vertical-align: top;\n",
              "    }\n",
              "\n",
              "    .dataframe thead th {\n",
              "        text-align: right;\n",
              "    }\n",
              "</style>\n",
              "<table border=\"1\" class=\"dataframe\">\n",
              "  <thead>\n",
              "    <tr style=\"text-align: right;\">\n",
              "      <th></th>\n",
              "      <th>age</th>\n",
              "      <th>new_user</th>\n",
              "      <th>total_pages_visited</th>\n",
              "      <th>converted</th>\n",
              "    </tr>\n",
              "  </thead>\n",
              "  <tbody>\n",
              "    <tr>\n",
              "      <th>count</th>\n",
              "      <td>316200.000000</td>\n",
              "      <td>316200.000000</td>\n",
              "      <td>316200.000000</td>\n",
              "      <td>316200.000000</td>\n",
              "    </tr>\n",
              "    <tr>\n",
              "      <th>mean</th>\n",
              "      <td>30.569858</td>\n",
              "      <td>0.685465</td>\n",
              "      <td>4.872966</td>\n",
              "      <td>0.032258</td>\n",
              "    </tr>\n",
              "    <tr>\n",
              "      <th>std</th>\n",
              "      <td>8.271802</td>\n",
              "      <td>0.464331</td>\n",
              "      <td>3.341104</td>\n",
              "      <td>0.176685</td>\n",
              "    </tr>\n",
              "    <tr>\n",
              "      <th>min</th>\n",
              "      <td>17.000000</td>\n",
              "      <td>0.000000</td>\n",
              "      <td>1.000000</td>\n",
              "      <td>0.000000</td>\n",
              "    </tr>\n",
              "    <tr>\n",
              "      <th>25%</th>\n",
              "      <td>24.000000</td>\n",
              "      <td>0.000000</td>\n",
              "      <td>2.000000</td>\n",
              "      <td>0.000000</td>\n",
              "    </tr>\n",
              "    <tr>\n",
              "      <th>50%</th>\n",
              "      <td>30.000000</td>\n",
              "      <td>1.000000</td>\n",
              "      <td>4.000000</td>\n",
              "      <td>0.000000</td>\n",
              "    </tr>\n",
              "    <tr>\n",
              "      <th>75%</th>\n",
              "      <td>36.000000</td>\n",
              "      <td>1.000000</td>\n",
              "      <td>7.000000</td>\n",
              "      <td>0.000000</td>\n",
              "    </tr>\n",
              "    <tr>\n",
              "      <th>max</th>\n",
              "      <td>123.000000</td>\n",
              "      <td>1.000000</td>\n",
              "      <td>29.000000</td>\n",
              "      <td>1.000000</td>\n",
              "    </tr>\n",
              "  </tbody>\n",
              "</table>\n",
              "</div>"
            ],
            "text/plain": [
              "                 age       new_user  total_pages_visited      converted\n",
              "count  316200.000000  316200.000000        316200.000000  316200.000000\n",
              "mean       30.569858       0.685465             4.872966       0.032258\n",
              "std         8.271802       0.464331             3.341104       0.176685\n",
              "min        17.000000       0.000000             1.000000       0.000000\n",
              "25%        24.000000       0.000000             2.000000       0.000000\n",
              "50%        30.000000       1.000000             4.000000       0.000000\n",
              "75%        36.000000       1.000000             7.000000       0.000000\n",
              "max       123.000000       1.000000            29.000000       1.000000"
            ]
          },
          "metadata": {
            "tags": []
          },
          "execution_count": 4
        }
      ]
    },
    {
      "cell_type": "code",
      "metadata": {
        "id": "lMyxulzopXOH",
        "colab_type": "code",
        "colab": {}
      },
      "source": [
        "dataset = dataset[dataset[\"age\"] < 110]"
      ],
      "execution_count": 5,
      "outputs": []
    },
    {
      "cell_type": "code",
      "metadata": {
        "id": "MGF0_uK6BMxK",
        "colab_type": "code",
        "colab": {
          "base_uri": "https://localhost:8080/",
          "height": 105
        },
        "outputId": "5ed36927-8d1b-4a03-b2f5-a0a8c881f53a"
      },
      "source": [
        "dataset.groupby([\"source\"]).size()"
      ],
      "execution_count": 6,
      "outputs": [
        {
          "output_type": "execute_result",
          "data": {
            "text/plain": [
              "source\n",
              "Ads        88739\n",
              "Direct     72420\n",
              "Seo       155039\n",
              "dtype: int64"
            ]
          },
          "metadata": {
            "tags": []
          },
          "execution_count": 6
        }
      ]
    },
    {
      "cell_type": "code",
      "metadata": {
        "id": "xhsm1KQQBtOA",
        "colab_type": "code",
        "colab": {
          "base_uri": "https://localhost:8080/",
          "height": 123
        },
        "outputId": "2803b7c6-a071-4494-ef25-afa06a6b4ef6"
      },
      "source": [
        "dataset.groupby([\"country\"]).size()"
      ],
      "execution_count": 7,
      "outputs": [
        {
          "output_type": "execute_result",
          "data": {
            "text/plain": [
              "country\n",
              "China       76602\n",
              "Germany     13055\n",
              "UK          48449\n",
              "US         178092\n",
              "dtype: int64"
            ]
          },
          "metadata": {
            "tags": []
          },
          "execution_count": 7
        }
      ]
    },
    {
      "cell_type": "markdown",
      "metadata": {
        "id": "gpXfLdkQCLAS",
        "colab_type": "text"
      },
      "source": [
        "#### A few quick observations:\n",
        "\n",
        "the site is probably a US site, although it does have a large Chinese user base as well\n",
        "\n",
        "user base is pretty young\n",
        "\n",
        "conversion rate at around 3% is industry standard. It makes sense\n",
        "\n",
        "everything seems to make sense here except for max age 123 yrs! Let’s investigate it:"
      ]
    },
    {
      "cell_type": "code",
      "metadata": {
        "id": "qWHooJJbCM9s",
        "colab_type": "code",
        "colab": {
          "base_uri": "https://localhost:8080/",
          "height": 386
        },
        "outputId": "457d7a59-281a-410f-ebb7-487fd0123a85"
      },
      "source": [
        "sns.catplot(x=\"country\", y=\"converted\", data=dataset, kind=\"bar\")"
      ],
      "execution_count": 8,
      "outputs": [
        {
          "output_type": "execute_result",
          "data": {
            "text/plain": [
              "<seaborn.axisgrid.FacetGrid at 0x7fc35fbd9e48>"
            ]
          },
          "metadata": {
            "tags": []
          },
          "execution_count": 8
        },
        {
          "output_type": "display_data",
          "data": {
            "image/png": "[encoded data removed]",
            "text/plain": [
              "<Figure size 360x360 with 1 Axes>"
            ]
          },
          "metadata": {
            "tags": [],
            "needs_background": "light"
          }
        }
      ]
    },
    {
      "cell_type": "code",
      "metadata": {
        "id": "fkrASPo9Ckev",
        "colab_type": "code",
        "colab": {
          "base_uri": "https://localhost:8080/",
          "height": 386
        },
        "outputId": "1becb598-f310-41db-cc5e-8141d69c23aa"
      },
      "source": [
        "sns.catplot(x=\"source\",y=\"converted\",data=dataset, kind=\"bar\")"
      ],
      "execution_count": 9,
      "outputs": [
        {
          "output_type": "execute_result",
          "data": {
            "text/plain": [
              "<seaborn.axisgrid.FacetGrid at 0x7fc35fbd9eb8>"
            ]
          },
          "metadata": {
            "tags": []
          },
          "execution_count": 9
        },
        {
          "output_type": "display_data",
          "data": {
            "image/png": "[encoded data removed]",
            "text/plain": [
              "<Figure size 360x360 with 1 Axes>"
            ]
          },
          "metadata": {
            "tags": [],
            "needs_background": "light"
          }
        }
      ]
    },
    {
      "cell_type": "code",
      "metadata": {
        "id": "3msNcvZ1lLVN",
        "colab_type": "code",
        "colab": {
          "base_uri": "https://localhost:8080/",
          "height": 297
        },
        "outputId": "557471f5-8937-4f9a-dcfb-6b8dee3b5256"
      },
      "source": [
        "dataset.groupby([\"total_pages_visited\"])[\"converted\"].mean().plot()"
      ],
      "execution_count": 10,
      "outputs": [
        {
          "output_type": "execute_result",
          "data": {
            "text/plain": [
              "<matplotlib.axes._subplots.AxesSubplot at 0x7fc35c971f98>"
            ]
          },
          "metadata": {
            "tags": []
          },
          "execution_count": 10
        },
        {
          "output_type": "display_data",
          "data": {
            "image/png": "[encoded data removed]",
            "text/plain": [
              "<Figure size 432x288 with 1 Axes>"
            ]
          },
          "metadata": {
            "tags": [],
            "needs_background": "light"
          }
        }
      ]
    },
    {
      "cell_type": "markdown",
      "metadata": {
        "id": "2l_SF6Vrl9f7",
        "colab_type": "text"
      },
      "source": [
        ""
      ]
    },
    {
      "cell_type": "markdown",
      "metadata": {
        "id": "WndDH1-kmK9L",
        "colab_type": "text"
      },
      "source": [
        "## Machine Learning"
      ]
    },
    {
      "cell_type": "code",
      "metadata": {
        "id": "VnqeV22El056",
        "colab_type": "code",
        "colab": {}
      },
      "source": [
        "# Firstly, let’s create dummy variables from the categorical ones\n",
        "\n",
        "dataset_dummy = pd.get_dummies(dataset,drop_first=True)"
      ],
      "execution_count": 11,
      "outputs": []
    },
    {
      "cell_type": "code",
      "metadata": {
        "id": "MvOUvxmhmuHm",
        "colab_type": "code",
        "colab": {}
      },
      "source": [
        "from sklearn.model_selection import train_test_split\n",
        "\n",
        "train, test = train_test_split(dataset_dummy, test_size=0.34)"
      ],
      "execution_count": 12,
      "outputs": []
    },
    {
      "cell_type": "code",
      "metadata": {
        "id": "X5BcMyrQnFn8",
        "colab_type": "code",
        "colab": {}
      },
      "source": [
        "# IMPORTATION DE RANDOM FORREST ET DE NOTRE METRIC\n",
        "\n",
        "from sklearn.ensemble import RandomForestClassifier\n",
        "from sklearn.metrics import confusion_matrix"
      ],
      "execution_count": 13,
      "outputs": []
    },
    {
      "cell_type": "code",
      "metadata": {
        "id": "Q-k_5SuGqMgJ",
        "colab_type": "code",
        "colab": {
          "base_uri": "https://localhost:8080/",
          "height": 158
        },
        "outputId": "29e1d794-c85a-4da5-b23f-93770e20b4d9"
      },
      "source": [
        "rd_clf = RandomForestClassifier(n_estimators=300, max_features=3, oob_score=True)\n",
        "rd_clf.fit(train.drop(\"converted\", axis=1), train[\"converted\"])"
      ],
      "execution_count": 16,
      "outputs": [
        {
          "output_type": "execute_result",
          "data": {
            "text/plain": [
              "RandomForestClassifier(bootstrap=True, ccp_alpha=0.0, class_weight=None,\n",
              "                       criterion='gini', max_depth=None, max_features=3,\n",
              "                       max_leaf_nodes=None, max_samples=None,\n",
              "                       min_impurity_decrease=0.0, min_impurity_split=None,\n",
              "                       min_samples_leaf=1, min_samples_split=2,\n",
              "                       min_weight_fraction_leaf=0.0, n_estimators=300,\n",
              "                       n_jobs=None, oob_score=True, random_state=None,\n",
              "                       verbose=0, warm_start=False)"
            ]
          },
          "metadata": {
            "tags": []
          },
          "execution_count": 16
        }
      ]
    },
    {
      "cell_type": "code",
      "metadata": {
        "id": "Ws3Ud1drvmsg",
        "colab_type": "code",
        "colab": {
          "base_uri": "https://localhost:8080/",
          "height": 105
        },
        "outputId": "56885f29-21f8-4cdc-c220-1c263559f70f"
      },
      "source": [
        "print(\"OOB_score is\",\n",
        "      rd_clf.oob_score_,\n",
        "      \"\\n\",\n",
        "      \"OOB Confusion Matrix\",\n",
        "      \"\\n\",\n",
        "      pd.DataFrame(confusion_matrix(train['converted'], rd_clf.oob_decision_function_[:,1].round(), labels=[0, 1]))\n",
        "      )"
      ],
      "execution_count": 20,
      "outputs": [
        {
          "output_type": "stream",
          "text": [
            "OOB_score is 0.9843883271838613 \n",
            " OOB Confusion Matrix \n",
            "         0     1\n",
            "0  200887  1056\n",
            "1    2202  4545\n"
          ],
          "name": "stdout"
        }
      ]
    },
    {
      "cell_type": "markdown",
      "metadata": {
        "id": "ANTPCTEhxQ4v",
        "colab_type": "text"
      },
      "source": [
        "### and let's print test accuracy and confusion matrix"
      ]
    },
    {
      "cell_type": "code",
      "metadata": {
        "id": "2Wp49OfUzxYu",
        "colab_type": "code",
        "colab": {
          "base_uri": "https://localhost:8080/",
          "height": 105
        },
        "outputId": "61784b61-2dbf-4488-8fa5-937635350b03"
      },
      "source": [
        "print(\n",
        "\"Test accuracy is\", rd_clf.score(test.drop('converted', axis=1), test['converted']),\n",
        "\"\\n\",\n",
        "\"Test Set Confusion Matrix\",\n",
        "\"\\n\",\n",
        "pd.DataFrame(confusion_matrix(test['converted'],rd_clf.predict(test.drop('converted',axis=1)), labels=[0,1])))     \n"
      ],
      "execution_count": 36,
      "outputs": [
        {
          "output_type": "stream",
          "text": [
            "Test accuracy is 0.9850150686460543 \n",
            " Test Set Confusion Matrix \n",
            "         0     1\n",
            "0  103560   497\n",
            "1    1114  2337\n"
          ],
          "name": "stdout"
        }
      ]
    },
    {
      "cell_type": "markdown",
      "metadata": {
        "id": "ujowWN4hF7Mn",
        "colab_type": "text"
      },
      "source": [
        "### So, OOB error and test error are pretty similar, ~1.5%. We are confident we are not overfitting.\n",
        "\n",
        "Error is pretty low. However, we started from a 97% accuracy (that’s the case if we classified everything as a “non converted”). So, 98.5% is good, but nothing shocking. Indeed, ~30% of conversions are predicted as “non conversion”.\n",
        "\n",
        "If we cared about the very best possible accuracy or specifically minimizing false positive/false negative, we would find the best cut-off point. Since in this case that doesn’t appear to be particularly relevant, we are fine with the default 0.5 cutoff value used internally by the random forest to make the prediction.\n",
        "\n",
        "If you care about insights, building a model is just the first step. You need to check that the model predicts well and, if it does, you can now extract insights out of it.\n",
        "\n",
        "Let’s start by checking variable importance:"
      ]
    },
    {
      "cell_type": "code",
      "metadata": {
        "id": "cg54Rj9S2O5f",
        "colab_type": "code",
        "colab": {
          "base_uri": "https://localhost:8080/",
          "height": 264
        },
        "outputId": "d8c07022-fd10-4938-8423-cbd03f7dc7a2"
      },
      "source": [
        "feat_importances = pd.Series(rd_clf.feature_importances_, index=train.drop('converted', axis=1).columns)\n",
        "feat_importances.sort_values().plot(kind='barh')\n",
        "plt.show()"
      ],
      "execution_count": 39,
      "outputs": [
        {
          "output_type": "display_data",
          "data": {
            "image/png": "[encoded data removed]",
            "text/plain": [
              "<Figure size 432x288 with 1 Axes>"
            ]
          },
          "metadata": {
            "tags": [],
            "needs_background": "light"
          }
        }
      ]
    },
    {
      "cell_type": "markdown",
      "metadata": {
        "id": "Vd_Q8Nq2GhbP",
        "colab_type": "text"
      },
      "source": [
        "#### Total pages visited is the most important one, by far. Unfortunately, it is probably the least “actionable”. People visit many pages because they already want to buy. Also, in order to buy, you have to click on multiple pages. Let’s rebuild the RF without that variable. Since classes are heavily unbalanced and we don’t have that very powerful variable anymore, let’s change the weights, just to make sure we will get something classified as 1."
      ]
    },
    {
      "cell_type": "code",
      "metadata": {
        "id": "uCLxdgdVHzgl",
        "colab_type": "code",
        "colab": {
          "base_uri": "https://localhost:8080/",
          "height": 70
        },
        "outputId": "65bb8fdc-24c3-4e5b-9558-80bde5054e9a"
      },
      "source": [
        "rd_clf = RandomForestClassifier(n_estimators=100,max_features=3,oob_score=True, class_weight={0:1,1:10})\n",
        "rd_clf.fit(train.drop(['converted','total_pages_visited'], axis=1),train['converted'])\n",
        "\n",
        "print(\n",
        "    'OOB accuracy is',\n",
        "    rd_clf.oob_score_,\n",
        "    \"/n\",\n",
        "    \"OOB Confusion Matrix\",\n",
        "    \"/n\",\n",
        "    pd.DataFrame(confusion_matrix(train[\"converted\"],rd_clf.oob_decision_function_[:,1].round(), labels=[0,1]))\n",
        ")"
      ],
      "execution_count": 43,
      "outputs": [
        {
          "output_type": "stream",
          "text": [
            "OOB accuracy is 0.8897886817767982 /n OOB Confusion Matrix /n         0      1\n",
            "0  182654  19289\n",
            "1    3711   3036\n"
          ],
          "name": "stdout"
        }
      ]
    },
    {
      "cell_type": "code",
      "metadata": {
        "id": "NmLMUYllLRuz",
        "colab_type": "code",
        "colab": {
          "base_uri": "https://localhost:8080/",
          "height": 105
        },
        "outputId": "16c00185-7d01-4881-8c0d-f97067114d09"
      },
      "source": [
        "#and let's print test accuracy and confusion matrix\n",
        "print(\n",
        "\"Test accuracy is\", rd_clf.score(test.drop(['converted', 'total_pages_visited'], axis=1),test['converted']), \n",
        "\"\\n\", \n",
        "\"Test Set Confusion Matrix\", \n",
        "\"\\n\",\n",
        "pd.DataFrame(confusion_matrix(test['converted'], rd_clf.predict(test.drop(['converted', 'total_pages_visited'], axis=1)), labels=[0, 1]))\n",
        ")"
      ],
      "execution_count": 47,
      "outputs": [
        {
          "output_type": "stream",
          "text": [
            "Test accuracy is 0.8917196859768576 \n",
            " Test Set Confusion Matrix \n",
            "        0     1\n",
            "0  94337  9720\n",
            "1   1921  1530\n"
          ],
          "name": "stdout"
        }
      ]
    },
    {
      "cell_type": "code",
      "metadata": {
        "id": "WwzQG5OQhzoA",
        "colab_type": "code",
        "colab": {
          "base_uri": "https://localhost:8080/",
          "height": 264
        },
        "outputId": "9e772485-8e74-4d96-bb73-7110bcdaaae1"
      },
      "source": [
        "feat_importances = pd.Series(rd_clf.feature_importances_, index=train.drop(['converted', 'total_pages_visited'], axis=1).columns)\n",
        "feat_importances.sort_values().plot(kind='barh')\n",
        "plt.show()"
      ],
      "execution_count": 48,
      "outputs": [
        {
          "output_type": "display_data",
          "data": {
            "image/png": "[encoded data removed]",
            "text/plain": [
              "<Figure size 432x288 with 1 Axes>"
            ]
          },
          "metadata": {
            "tags": [],
            "needs_background": "light"
          }
        }
      ]
    },
    {
      "cell_type": "markdown",
      "metadata": {
        "id": "iT0jLkibjF_w",
        "colab_type": "text"
      },
      "source": [
        "### Interesting! New user is the most important one, even more important than age. And that’s impressive given that we know how continuous variables tend to always show up at the top in RF variable importance plots. It means new_user is really important. Source-related dummies don’t seem to matter at all."
      ]
    },
    {
      "cell_type": "code",
      "metadata": {
        "id": "rmQcFiVYizbt",
        "colab_type": "code",
        "colab": {
          "base_uri": "https://localhost:8080/",
          "height": 608
        },
        "outputId": "f33e6100-7db9-45d0-b170-e321eff91d57"
      },
      "source": [
        "!pip install pdpbox\n",
        "from pdpbox import pdp, info_plots\n",
        "\n",
        "#country\n",
        "pdp_iso = pdp.pdp_isolate( model=rd_clf, \n",
        "                          dataset=train.drop(['converted', 'total_pages_visited'], axis=1),      \n",
        "                          model_features=list(train.drop(['converted', 'total_pages_visited'], axis=1)), \n",
        "                          feature=['country_Germany', 'country_UK', 'country_US'], \n",
        "                          num_grid_points=50)\n",
        "pdp_dataset = pd.Series(pdp_iso.pdp, index=pdp_iso.display_columns)\n",
        "pdp_dataset.sort_values(ascending=False).plot(kind='bar', title='Country')\n",
        "plt.show()\n"
      ],
      "execution_count": 50,
      "outputs": [
        {
          "output_type": "stream",
          "text": [
            "Requirement already satisfied: pdpbox in /usr/local/lib/python3.6/dist-packages (0.2.0)\n",
            "Requirement already satisfied: matplotlib>=2.1.2 in /usr/local/lib/python3.6/dist-packages (from pdpbox) (3.2.2)\n",
            "Requirement already satisfied: joblib in /usr/local/lib/python3.6/dist-packages (from pdpbox) (0.16.0)\n",
            "Requirement already satisfied: psutil in /usr/local/lib/python3.6/dist-packages (from pdpbox) (5.4.8)\n",
            "Requirement already satisfied: pandas in /usr/local/lib/python3.6/dist-packages (from pdpbox) (1.0.5)\n",
            "Requirement already satisfied: numpy in /usr/local/lib/python3.6/dist-packages (from pdpbox) (1.18.5)\n",
            "Requirement already satisfied: scipy in /usr/local/lib/python3.6/dist-packages (from pdpbox) (1.4.1)\n",
            "Requirement already satisfied: scikit-learn in /usr/local/lib/python3.6/dist-packages (from pdpbox) (0.22.2.post1)\n",
            "Requirement already satisfied: kiwisolver>=1.0.1 in /usr/local/lib/python3.6/dist-packages (from matplotlib>=2.1.2->pdpbox) (1.2.0)\n",
            "Requirement already satisfied: pyparsing!=2.0.4,!=2.1.2,!=2.1.6,>=2.0.1 in /usr/local/lib/python3.6/dist-packages (from matplotlib>=2.1.2->pdpbox) (2.4.7)\n",
            "Requirement already satisfied: python-dateutil>=2.1 in /usr/local/lib/python3.6/dist-packages (from matplotlib>=2.1.2->pdpbox) (2.8.1)\n",
            "Requirement already satisfied: cycler>=0.10 in /usr/local/lib/python3.6/dist-packages (from matplotlib>=2.1.2->pdpbox) (0.10.0)\n",
            "Requirement already satisfied: pytz>=2017.2 in /usr/local/lib/python3.6/dist-packages (from pandas->pdpbox) (2018.9)\n",
            "Requirement already satisfied: six>=1.5 in /usr/local/lib/python3.6/dist-packages (from python-dateutil>=2.1->matplotlib>=2.1.2->pdpbox) (1.12.0)\n"
          ],
          "name": "stdout"
        },
        {
          "output_type": "display_data",
          "data": {
            "image/png": "[encoded data removed]",
            "text/plain": [
              "<Figure size 432x288 with 1 Axes>"
            ]
          },
          "metadata": {
            "tags": [],
            "needs_background": "light"
          }
        }
      ]
    },
    {
      "cell_type": "code",
      "metadata": {
        "id": "UwvGz-drj5RX",
        "colab_type": "code",
        "colab": {
          "base_uri": "https://localhost:8080/",
          "height": 338
        },
        "outputId": "8e690573-4ef1-44d6-e228-331f42ddd69b"
      },
      "source": [
        "#source\n",
        "pdp_iso = pdp.pdp_isolate( model=rd_clf, \n",
        "                          dataset=train.drop(['converted', 'total_pages_visited'], axis=1),      \n",
        "                          model_features=list(train.drop(['converted', 'total_pages_visited'], axis=1)), \n",
        "                          feature=['source_Direct', 'source_Seo'], \n",
        "                          num_grid_points=50)\n",
        "pdp_dataset = pd.Series(pdp_iso.pdp, index=pdp_iso.display_columns)\n",
        "pdp_dataset.sort_values(ascending=False).plot(kind='bar', title='Source')\n",
        "plt.show()"
      ],
      "execution_count": 51,
      "outputs": [
        {
          "output_type": "display_data",
          "data": {
            "image/png": "[encoded data removed]",
            "text/plain": [
              "<Figure size 432x288 with 1 Axes>"
            ]
          },
          "metadata": {
            "tags": [],
            "needs_background": "light"
          }
        }
      ]
    },
    {
      "cell_type": "code",
      "metadata": {
        "id": "xz6POfgwk_CM",
        "colab_type": "code",
        "colab": {
          "base_uri": "https://localhost:8080/",
          "height": 330
        },
        "outputId": "2afdac63-f261-4863-d4e6-ab0e1c8389d7"
      },
      "source": [
        "#new user\n",
        "pdp_iso = pdp.pdp_isolate( model=rd_clf, \n",
        "                          dataset=train.drop(['converted', 'total_pages_visited'], axis=1),      \n",
        "                          model_features=list(train.drop(['converted', 'total_pages_visited'], axis=1)), \n",
        "                          feature='new_user', \n",
        "                          num_grid_points=50)\n",
        "pdp_dataset = pd.Series(pdp_iso.pdp, index=pdp_iso.display_columns)\n",
        "pdp_dataset.sort_values(ascending=False).plot(kind='bar', title='New User')\n",
        "plt.show()\n"
      ],
      "execution_count": 52,
      "outputs": [
        {
          "output_type": "display_data",
          "data": {
            "image/png": "[encoded data removed]",
            "text/plain": [
              "<Figure size 432x288 with 1 Axes>"
            ]
          },
          "metadata": {
            "tags": [],
            "needs_background": "light"
          }
        }
      ]
    },
    {
      "cell_type": "code",
      "metadata": {
        "id": "fppGE70IlQ-C",
        "colab_type": "code",
        "colab": {
          "base_uri": "https://localhost:8080/",
          "height": 281
        },
        "outputId": "70cc2be4-64b6-4984-c752-c552b714fd6d"
      },
      "source": [
        "#age\n",
        "pdp_iso = pdp.pdp_isolate( model=rd_clf, \n",
        "                          dataset=train.drop(['converted', 'total_pages_visited'], axis=1),      \n",
        "                          model_features=list(train.drop(['converted', 'total_pages_visited'], axis=1)), \n",
        "                          feature='age', \n",
        "                          num_grid_points=50)\n",
        "pdp_dataset = pd.Series(pdp_iso.pdp, index=pdp_iso.feature_grids)\n",
        "pdp_dataset.plot(title='Age')\n",
        "plt.show()"
      ],
      "execution_count": 53,
      "outputs": [
        {
          "output_type": "display_data",
          "data": {
            "image/png": "[encoded data removed]",
            "text/plain": [
              "<Figure size 432x288 with 1 Axes>"
            ]
          },
          "metadata": {
            "tags": [],
            "needs_background": "light"
          }
        }
      ]
    },
    {
      "cell_type": "markdown",
      "metadata": {
        "id": "WwBCyLvLl7no",
        "colab_type": "text"
      },
      "source": [
        "### This shows that:\n",
        "\n",
        "Users with an old account are much better than new users\n",
        "\n",
        "Germany, UK, and US are similar, with Germany being the best. Most importantly, they all have very very high values. As usual, we have to read this as relative to the reference level, which is China. So this means that not being from China and being from any of those 3 countries significantly increases the probability of conversion. That is, China is very bad for conversion\n",
        "\n",
        "The site works very well for young people and gets worse for older people\n",
        "\n",
        "Source is less relevant\n",
        "\n",
        "Let’s now build a simple decision tree and check the 2 or 3 most important segments:"
      ]
    },
    {
      "cell_type": "code",
      "metadata": {
        "id": "M4LhXzHtlcNT",
        "colab_type": "code",
        "colab": {
          "base_uri": "https://localhost:8080/",
          "height": 392
        },
        "outputId": "9100fa84-ebce-4cd3-8408-653c632565f8"
      },
      "source": [
        "import graphviz\n",
        "from sklearn.tree import DecisionTreeClassifier\n",
        "from sklearn.tree import export_graphviz\n",
        "\n",
        "tree = DecisionTreeClassifier( max_depth=2,class_weight={0:1, 1:10}, min_impurity_decrease = 0.001)\n",
        "tree.fit(train.drop(['converted', 'total_pages_visited'], axis=1), train['converted'])\n",
        "  \n",
        "#visualize it\n",
        "dot_data = export_graphviz(tree, out_file=None, feature_names=train.drop(['converted', 'total_pages_visited'], axis=1).columns, proportion=True, rotate=True)\n",
        "graph = graphviz.Source(dot_data)\n",
        "\n",
        "graph"
      ],
      "execution_count": 54,
      "outputs": [
        {
          "output_type": "execute_result",
          "data": {
            "text/plain": [
              "<graphviz.files.Source at 0x7fc3537bf358>"
            ],
            "image/svg+xml": "<?xml version=\"1.0\" encoding=\"UTF-8\" standalone=\"no\"?>\n<!DOCTYPE svg PUBLIC \"-//W3C//DTD SVG 1.1//EN\"\n \"http://www.w3.org/Graphics/SVG/1.1/DTD/svg11.dtd\">\n<!-- Generated by graphviz version 2.40.1 (20161225.0304)\n -->\n<!-- Title: Tree Pages: 1 -->\n<svg width=\"506pt\" height=\"278pt\"\n viewBox=\"0.00 0.00 506.00 278.00\" xmlns=\"http://www.w3.org/2000/svg\" xmlns:xlink=\"http://www.w3.org/1999/xlink\">\n<g id=\"graph0\" class=\"graph\" transform=\"scale(1 1) rotate(0) translate(4 274)\">\n<title>Tree</title>\n<polygon fill=\"#ffffff\" stroke=\"transparent\" points=\"-4,4 -4,-274 502,-274 502,4 -4,4\"/>\n<!-- 0 -->\n<g id=\"node1\" class=\"node\">\n<title>0</title>\n<polygon fill=\"none\" stroke=\"#000000\" points=\"132,-170.5 0,-170.5 0,-102.5 132,-102.5 132,-170.5\"/>\n<text text-anchor=\"middle\" x=\"66\" y=\"-155.3\" font-family=\"Times,serif\" font-size=\"14.00\" fill=\"#000000\">new_user &lt;= 0.5</text>\n<text text-anchor=\"middle\" x=\"66\" y=\"-140.3\" font-family=\"Times,serif\" font-size=\"14.00\" fill=\"#000000\">gini = 0.375</text>\n<text text-anchor=\"middle\" x=\"66\" y=\"-125.3\" font-family=\"Times,serif\" font-size=\"14.00\" fill=\"#000000\">samples = 100.0%</text>\n<text text-anchor=\"middle\" x=\"66\" y=\"-110.3\" font-family=\"Times,serif\" font-size=\"14.00\" fill=\"#000000\">value = [0.75, 0.25]</text>\n</g>\n<!-- 1 -->\n<g id=\"node2\" class=\"node\">\n<title>1</title>\n<polygon fill=\"none\" stroke=\"#000000\" points=\"315,-213.5 168,-213.5 168,-145.5 315,-145.5 315,-213.5\"/>\n<text text-anchor=\"middle\" x=\"241.5\" y=\"-198.3\" font-family=\"Times,serif\" font-size=\"14.00\" fill=\"#000000\">age &lt;= 29.5</text>\n<text text-anchor=\"middle\" x=\"241.5\" y=\"-183.3\" font-family=\"Times,serif\" font-size=\"14.00\" fill=\"#000000\">gini = 0.492</text>\n<text text-anchor=\"middle\" x=\"241.5\" y=\"-168.3\" font-family=\"Times,serif\" font-size=\"14.00\" fill=\"#000000\">samples = 31.5%</text>\n<text text-anchor=\"middle\" x=\"241.5\" y=\"-153.3\" font-family=\"Times,serif\" font-size=\"14.00\" fill=\"#000000\">value = [0.563, 0.437]</text>\n</g>\n<!-- 0&#45;&gt;1 -->\n<g id=\"edge1\" class=\"edge\">\n<title>0&#45;&gt;1</title>\n<path fill=\"none\" stroke=\"#000000\" d=\"M132.349,-152.7565C140.6513,-154.7906 149.2258,-156.8915 157.7499,-158.98\"/>\n<polygon fill=\"#000000\" stroke=\"#000000\" points=\"157.1682,-162.441 167.7139,-161.4214 158.8341,-155.6421 157.1682,-162.441\"/>\n<text text-anchor=\"middle\" x=\"146.3372\" y=\"-170.6843\" font-family=\"Times,serif\" font-size=\"14.00\" fill=\"#000000\">True</text>\n</g>\n<!-- 4 -->\n<g id=\"node5\" class=\"node\">\n<title>4</title>\n<polygon fill=\"none\" stroke=\"#000000\" points=\"315,-127.5 168,-127.5 168,-59.5 315,-59.5 315,-127.5\"/>\n<text text-anchor=\"middle\" x=\"241.5\" y=\"-112.3\" font-family=\"Times,serif\" font-size=\"14.00\" fill=\"#000000\">age &lt;= 24.5</text>\n<text text-anchor=\"middle\" x=\"241.5\" y=\"-97.3\" font-family=\"Times,serif\" font-size=\"14.00\" fill=\"#000000\">gini = 0.218</text>\n<text text-anchor=\"middle\" x=\"241.5\" y=\"-82.3\" font-family=\"Times,serif\" font-size=\"14.00\" fill=\"#000000\">samples = 68.5%</text>\n<text text-anchor=\"middle\" x=\"241.5\" y=\"-67.3\" font-family=\"Times,serif\" font-size=\"14.00\" fill=\"#000000\">value = [0.875, 0.125]</text>\n</g>\n<!-- 0&#45;&gt;4 -->\n<g id=\"edge4\" class=\"edge\">\n<title>0&#45;&gt;4</title>\n<path fill=\"none\" stroke=\"#000000\" d=\"M132.349,-120.2435C140.6513,-118.2094 149.2258,-116.1085 157.7499,-114.02\"/>\n<polygon fill=\"#000000\" stroke=\"#000000\" points=\"158.8341,-117.3579 167.7139,-111.5786 157.1682,-110.559 158.8341,-117.3579\"/>\n<text text-anchor=\"middle\" x=\"146.3372\" y=\"-94.9157\" font-family=\"Times,serif\" font-size=\"14.00\" fill=\"#000000\">False</text>\n</g>\n<!-- 2 -->\n<g id=\"node3\" class=\"node\">\n<title>2</title>\n<polygon fill=\"none\" stroke=\"#000000\" points=\"498,-270 351,-270 351,-217 498,-217 498,-270\"/>\n<text text-anchor=\"middle\" x=\"424.5\" y=\"-254.8\" font-family=\"Times,serif\" font-size=\"14.00\" fill=\"#000000\">gini = 0.498</text>\n<text text-anchor=\"middle\" x=\"424.5\" y=\"-239.8\" font-family=\"Times,serif\" font-size=\"14.00\" fill=\"#000000\">samples = 15.5%</text>\n<text text-anchor=\"middle\" x=\"424.5\" y=\"-224.8\" font-family=\"Times,serif\" font-size=\"14.00\" fill=\"#000000\">value = [0.465, 0.535]</text>\n</g>\n<!-- 1&#45;&gt;2 -->\n<g id=\"edge2\" class=\"edge\">\n<title>1&#45;&gt;2</title>\n<path fill=\"none\" stroke=\"#000000\" d=\"M315.1421,-205.2546C323.657,-208.2325 332.3867,-211.2855 341.0204,-214.3049\"/>\n<polygon fill=\"#000000\" stroke=\"#000000\" points=\"340.1159,-217.6964 350.7107,-217.6939 342.4268,-211.0889 340.1159,-217.6964\"/>\n</g>\n<!-- 3 -->\n<g id=\"node4\" class=\"node\">\n<title>3</title>\n<polygon fill=\"none\" stroke=\"#000000\" points=\"498,-199 351,-199 351,-146 498,-146 498,-199\"/>\n<text text-anchor=\"middle\" x=\"424.5\" y=\"-183.8\" font-family=\"Times,serif\" font-size=\"14.00\" fill=\"#000000\">gini = 0.424</text>\n<text text-anchor=\"middle\" x=\"424.5\" y=\"-168.8\" font-family=\"Times,serif\" font-size=\"14.00\" fill=\"#000000\">samples = 16.0%</text>\n<text text-anchor=\"middle\" x=\"424.5\" y=\"-153.8\" font-family=\"Times,serif\" font-size=\"14.00\" fill=\"#000000\">value = [0.695, 0.305]</text>\n</g>\n<!-- 1&#45;&gt;3 -->\n<g id=\"edge3\" class=\"edge\">\n<title>1&#45;&gt;3</title>\n<path fill=\"none\" stroke=\"#000000\" d=\"M315.1421,-176.6831C323.4739,-176.3644 332.0113,-176.0378 340.4632,-175.7145\"/>\n<polygon fill=\"#000000\" stroke=\"#000000\" points=\"340.8519,-179.2023 350.7107,-175.3225 340.5842,-172.2074 340.8519,-179.2023\"/>\n</g>\n<!-- 5 -->\n<g id=\"node6\" class=\"node\">\n<title>5</title>\n<polygon fill=\"none\" stroke=\"#000000\" points=\"498,-124 351,-124 351,-71 498,-71 498,-124\"/>\n<text text-anchor=\"middle\" x=\"424.5\" y=\"-108.8\" font-family=\"Times,serif\" font-size=\"14.00\" fill=\"#000000\">gini = 0.323</text>\n<text text-anchor=\"middle\" x=\"424.5\" y=\"-93.8\" font-family=\"Times,serif\" font-size=\"14.00\" fill=\"#000000\">samples = 17.9%</text>\n<text text-anchor=\"middle\" x=\"424.5\" y=\"-78.8\" font-family=\"Times,serif\" font-size=\"14.00\" fill=\"#000000\">value = [0.797, 0.203]</text>\n</g>\n<!-- 4&#45;&gt;5 -->\n<g id=\"edge5\" class=\"edge\">\n<title>4&#45;&gt;5</title>\n<path fill=\"none\" stroke=\"#000000\" d=\"M315.1421,-95.1097C323.4739,-95.2918 332.0113,-95.4784 340.4632,-95.6631\"/>\n<polygon fill=\"#000000\" stroke=\"#000000\" points=\"340.6366,-99.1677 350.7107,-95.8871 340.7896,-92.1693 340.6366,-99.1677\"/>\n</g>\n<!-- 6 -->\n<g id=\"node7\" class=\"node\">\n<title>6</title>\n<polygon fill=\"none\" stroke=\"#000000\" points=\"498,-53 351,-53 351,0 498,0 498,-53\"/>\n<text text-anchor=\"middle\" x=\"424.5\" y=\"-37.8\" font-family=\"Times,serif\" font-size=\"14.00\" fill=\"#000000\">gini = 0.17</text>\n<text text-anchor=\"middle\" x=\"424.5\" y=\"-22.8\" font-family=\"Times,serif\" font-size=\"14.00\" fill=\"#000000\">samples = 50.6%</text>\n<text text-anchor=\"middle\" x=\"424.5\" y=\"-7.8\" font-family=\"Times,serif\" font-size=\"14.00\" fill=\"#000000\">value = [0.906, 0.094]</text>\n</g>\n<!-- 4&#45;&gt;6 -->\n<g id=\"edge6\" class=\"edge\">\n<title>4&#45;&gt;6</title>\n<path fill=\"none\" stroke=\"#000000\" d=\"M315.1421,-66.5381C324.135,-63.2457 333.3674,-59.8655 342.4733,-56.5316\"/>\n<polygon fill=\"#000000\" stroke=\"#000000\" points=\"343.7144,-59.8045 351.9015,-53.0798 341.3077,-53.2312 343.7144,-59.8045\"/>\n</g>\n</g>\n</svg>\n"
          },
          "metadata": {
            "tags": []
          },
          "execution_count": 54
        }
      ]
    },
    {
      "cell_type": "code",
      "metadata": {
        "id": "ZxeB9W2KmG-v",
        "colab_type": "code",
        "colab": {}
      },
      "source": [
        ""
      ],
      "execution_count": null,
      "outputs": []
    }
  ]
}