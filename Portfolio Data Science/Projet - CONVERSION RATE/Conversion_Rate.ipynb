{
  "nbformat": 4,
  "nbformat_minor": 0,
  "metadata": {
    "colab": {
      "name": "Conversion_Rate.ipynb",
      "provenance": []
    },
    "kernelspec": {
      "name": "python3",
      "display_name": "Python 3"
    }
  },
  "cells": [
    {
      "cell_type": "code",
      "metadata": {
        "id": "2GzMTze_AOdk"
      },
      "source": [
        "import pandas as pd\n",
        "import seaborn as sns\n",
        "import matplotlib.pyplot as plt\n",
        "import numpy as np"
      ],
      "execution_count": 1,
      "outputs": []
    },
    {
      "cell_type": "code",
      "metadata": {
        "id": "qonfDpXqAhZC"
      },
      "source": [
        "dataset = pd.read_csv(\"https://raw.githubusercontent.com/Delphine-Jean/Sources/main/conversion_data.csv?token=AGKBMYIERWUXZVR4QHLXNKC7WLQEE\")"
      ],
      "execution_count": 2,
      "outputs": []
    },
    {
      "cell_type": "code",
      "metadata": {
        "id": "VdChKxcpA1lm",
        "outputId": "7d5aefb2-4867-4ea1-b481-b69b8b90521e",
        "colab": {
          "base_uri": "https://localhost:8080/",
          "height": 204
        }
      },
      "source": [
        "dataset.head()"
      ],
      "execution_count": 3,
      "outputs": [
        {
          "output_type": "execute_result",
          "data": {
            "text/html": [
              "<div>\n",
              "<style scoped>\n",
              "    .dataframe tbody tr th:only-of-type {\n",
              "        vertical-align: middle;\n",
              "    }\n",
              "\n",
              "    .dataframe tbody tr th {\n",
              "        vertical-align: top;\n",
              "    }\n",
              "\n",
              "    .dataframe thead th {\n",
              "        text-align: right;\n",
              "    }\n",
              "</style>\n",
              "<table border=\"1\" class=\"dataframe\">\n",
              "  <thead>\n",
              "    <tr style=\"text-align: right;\">\n",
              "      <th></th>\n",
              "      <th>country</th>\n",
              "      <th>age</th>\n",
              "      <th>new_user</th>\n",
              "      <th>source</th>\n",
              "      <th>total_pages_visited</th>\n",
              "      <th>converted</th>\n",
              "    </tr>\n",
              "  </thead>\n",
              "  <tbody>\n",
              "    <tr>\n",
              "      <th>0</th>\n",
              "      <td>UK</td>\n",
              "      <td>25</td>\n",
              "      <td>1</td>\n",
              "      <td>Ads</td>\n",
              "      <td>1</td>\n",
              "      <td>0</td>\n",
              "    </tr>\n",
              "    <tr>\n",
              "      <th>1</th>\n",
              "      <td>US</td>\n",
              "      <td>23</td>\n",
              "      <td>1</td>\n",
              "      <td>Seo</td>\n",
              "      <td>5</td>\n",
              "      <td>0</td>\n",
              "    </tr>\n",
              "    <tr>\n",
              "      <th>2</th>\n",
              "      <td>US</td>\n",
              "      <td>28</td>\n",
              "      <td>1</td>\n",
              "      <td>Seo</td>\n",
              "      <td>4</td>\n",
              "      <td>0</td>\n",
              "    </tr>\n",
              "    <tr>\n",
              "      <th>3</th>\n",
              "      <td>China</td>\n",
              "      <td>39</td>\n",
              "      <td>1</td>\n",
              "      <td>Seo</td>\n",
              "      <td>5</td>\n",
              "      <td>0</td>\n",
              "    </tr>\n",
              "    <tr>\n",
              "      <th>4</th>\n",
              "      <td>US</td>\n",
              "      <td>30</td>\n",
              "      <td>1</td>\n",
              "      <td>Seo</td>\n",
              "      <td>6</td>\n",
              "      <td>0</td>\n",
              "    </tr>\n",
              "  </tbody>\n",
              "</table>\n",
              "</div>"
            ],
            "text/plain": [
              "  country  age  new_user source  total_pages_visited  converted\n",
              "0      UK   25         1    Ads                    1          0\n",
              "1      US   23         1    Seo                    5          0\n",
              "2      US   28         1    Seo                    4          0\n",
              "3   China   39         1    Seo                    5          0\n",
              "4      US   30         1    Seo                    6          0"
            ]
          },
          "metadata": {
            "tags": []
          },
          "execution_count": 3
        }
      ]
    },
    {
      "cell_type": "markdown",
      "metadata": {
        "id": "OH1ybzyvBGe9"
      },
      "source": [
        "##### Data description et data cleaning\n",
        "\n",
        "Describe and groupby are usually the best places to start:"
      ]
    },
    {
      "cell_type": "code",
      "metadata": {
        "id": "ak9PuKITA5Ye",
        "outputId": "d73a33fa-f678-47ca-b01e-1b68f177bbc8",
        "colab": {
          "base_uri": "https://localhost:8080/",
          "height": 297
        }
      },
      "source": [
        "dataset.describe()"
      ],
      "execution_count": 4,
      "outputs": [
        {
          "output_type": "execute_result",
          "data": {
            "text/html": [
              "<div>\n",
              "<style scoped>\n",
              "    .dataframe tbody tr th:only-of-type {\n",
              "        vertical-align: middle;\n",
              "    }\n",
              "\n",
              "    .dataframe tbody tr th {\n",
              "        vertical-align: top;\n",
              "    }\n",
              "\n",
              "    .dataframe thead th {\n",
              "        text-align: right;\n",
              "    }\n",
              "</style>\n",
              "<table border=\"1\" class=\"dataframe\">\n",
              "  <thead>\n",
              "    <tr style=\"text-align: right;\">\n",
              "      <th></th>\n",
              "      <th>age</th>\n",
              "      <th>new_user</th>\n",
              "      <th>total_pages_visited</th>\n",
              "      <th>converted</th>\n",
              "    </tr>\n",
              "  </thead>\n",
              "  <tbody>\n",
              "    <tr>\n",
              "      <th>count</th>\n",
              "      <td>316200.000000</td>\n",
              "      <td>316200.000000</td>\n",
              "      <td>316200.000000</td>\n",
              "      <td>316200.000000</td>\n",
              "    </tr>\n",
              "    <tr>\n",
              "      <th>mean</th>\n",
              "      <td>30.569858</td>\n",
              "      <td>0.685465</td>\n",
              "      <td>4.872966</td>\n",
              "      <td>0.032258</td>\n",
              "    </tr>\n",
              "    <tr>\n",
              "      <th>std</th>\n",
              "      <td>8.271802</td>\n",
              "      <td>0.464331</td>\n",
              "      <td>3.341104</td>\n",
              "      <td>0.176685</td>\n",
              "    </tr>\n",
              "    <tr>\n",
              "      <th>min</th>\n",
              "      <td>17.000000</td>\n",
              "      <td>0.000000</td>\n",
              "      <td>1.000000</td>\n",
              "      <td>0.000000</td>\n",
              "    </tr>\n",
              "    <tr>\n",
              "      <th>25%</th>\n",
              "      <td>24.000000</td>\n",
              "      <td>0.000000</td>\n",
              "      <td>2.000000</td>\n",
              "      <td>0.000000</td>\n",
              "    </tr>\n",
              "    <tr>\n",
              "      <th>50%</th>\n",
              "      <td>30.000000</td>\n",
              "      <td>1.000000</td>\n",
              "      <td>4.000000</td>\n",
              "      <td>0.000000</td>\n",
              "    </tr>\n",
              "    <tr>\n",
              "      <th>75%</th>\n",
              "      <td>36.000000</td>\n",
              "      <td>1.000000</td>\n",
              "      <td>7.000000</td>\n",
              "      <td>0.000000</td>\n",
              "    </tr>\n",
              "    <tr>\n",
              "      <th>max</th>\n",
              "      <td>123.000000</td>\n",
              "      <td>1.000000</td>\n",
              "      <td>29.000000</td>\n",
              "      <td>1.000000</td>\n",
              "    </tr>\n",
              "  </tbody>\n",
              "</table>\n",
              "</div>"
            ],
            "text/plain": [
              "                 age       new_user  total_pages_visited      converted\n",
              "count  316200.000000  316200.000000        316200.000000  316200.000000\n",
              "mean       30.569858       0.685465             4.872966       0.032258\n",
              "std         8.271802       0.464331             3.341104       0.176685\n",
              "min        17.000000       0.000000             1.000000       0.000000\n",
              "25%        24.000000       0.000000             2.000000       0.000000\n",
              "50%        30.000000       1.000000             4.000000       0.000000\n",
              "75%        36.000000       1.000000             7.000000       0.000000\n",
              "max       123.000000       1.000000            29.000000       1.000000"
            ]
          },
          "metadata": {
            "tags": []
          },
          "execution_count": 4
        }
      ]
    },
    {
      "cell_type": "code",
      "metadata": {
        "id": "lMyxulzopXOH"
      },
      "source": [
        "dataset = dataset[dataset[\"age\"] < 110]"
      ],
      "execution_count": 5,
      "outputs": []
    },
    {
      "cell_type": "code",
      "metadata": {
        "id": "MGF0_uK6BMxK",
        "outputId": "07a78e94-4283-4271-9e72-77a8fcafe4d1",
        "colab": {
          "base_uri": "https://localhost:8080/"
        }
      },
      "source": [
        "dataset.groupby([\"source\"]).size()"
      ],
      "execution_count": 6,
      "outputs": [
        {
          "output_type": "execute_result",
          "data": {
            "text/plain": [
              "source\n",
              "Ads        88739\n",
              "Direct     72420\n",
              "Seo       155039\n",
              "dtype: int64"
            ]
          },
          "metadata": {
            "tags": []
          },
          "execution_count": 6
        }
      ]
    },
    {
      "cell_type": "code",
      "metadata": {
        "id": "xhsm1KQQBtOA",
        "outputId": "d48d018f-9541-4436-90c4-fba8e65c4f7d",
        "colab": {
          "base_uri": "https://localhost:8080/"
        }
      },
      "source": [
        "dataset.groupby([\"country\"]).size()"
      ],
      "execution_count": 7,
      "outputs": [
        {
          "output_type": "execute_result",
          "data": {
            "text/plain": [
              "country\n",
              "China       76602\n",
              "Germany     13055\n",
              "UK          48449\n",
              "US         178092\n",
              "dtype: int64"
            ]
          },
          "metadata": {
            "tags": []
          },
          "execution_count": 7
        }
      ]
    },
    {
      "cell_type": "markdown",
      "metadata": {
        "id": "gpXfLdkQCLAS"
      },
      "source": [
        "#### Observations:\n",
        "\n",
        "Le site semble être américains mais posséde beaucoup d'utilisateur situés en Chine\n",
        "\n",
        "LLa cible est jeune. \n",
        "\n",
        "On observe un outlier \"123\" pour l'âge."
      ]
    },
    {
      "cell_type": "code",
      "metadata": {
        "id": "qWHooJJbCM9s",
        "outputId": "02576942-2a41-42a9-edb5-7c46fffed00f",
        "colab": {
          "base_uri": "https://localhost:8080/",
          "height": 400
        }
      },
      "source": [
        "sns.catplot(x=\"country\", y=\"converted\", data=dataset, kind=\"bar\")"
      ],
      "execution_count": 8,
      "outputs": [
        {
          "output_type": "execute_result",
          "data": {
            "text/plain": [
              "<seaborn.axisgrid.FacetGrid at 0x7fa8b833e588>"
            ]
          },
          "metadata": {
            "tags": []
          },
          "execution_count": 8
        },
        {
          "output_type": "display_data",
          "data": {
            "image/png": "[encoded data removed]",
            "text/plain": [
              "<Figure size 360x360 with 1 Axes>"
            ]
          },
          "metadata": {
            "tags": [],
            "needs_background": "light"
          }
        }
      ]
    },
    {
      "cell_type": "code",
      "metadata": {
        "id": "fkrASPo9Ckev",
        "outputId": "de2a0064-f512-4d78-ffa1-6dd1bc2b0d21",
        "colab": {
          "base_uri": "https://localhost:8080/",
          "height": 400
        }
      },
      "source": [
        "sns.catplot(x=\"source\",y=\"converted\",data=dataset, kind=\"bar\")"
      ],
      "execution_count": 9,
      "outputs": [
        {
          "output_type": "execute_result",
          "data": {
            "text/plain": [
              "<seaborn.axisgrid.FacetGrid at 0x7fa89fb645f8>"
            ]
          },
          "metadata": {
            "tags": []
          },
          "execution_count": 9
        },
        {
          "output_type": "display_data",
          "data": {
            "image/png": "[encoded data removed]",
            "text/plain": [
              "<Figure size 360x360 with 1 Axes>"
            ]
          },
          "metadata": {
            "tags": [],
            "needs_background": "light"
          }
        }
      ]
    },
    {
      "cell_type": "code",
      "metadata": {
        "id": "3msNcvZ1lLVN",
        "outputId": "b1385fe8-6648-4c8f-9c2e-41d20098f7f7",
        "colab": {
          "base_uri": "https://localhost:8080/",
          "height": 297
        }
      },
      "source": [
        "dataset.groupby([\"total_pages_visited\"])[\"converted\"].mean().plot()"
      ],
      "execution_count": 10,
      "outputs": [
        {
          "output_type": "execute_result",
          "data": {
            "text/plain": [
              "<matplotlib.axes._subplots.AxesSubplot at 0x7fa89af5eba8>"
            ]
          },
          "metadata": {
            "tags": []
          },
          "execution_count": 10
        },
        {
          "output_type": "display_data",
          "data": {
            "image/png": "[encoded data removed]",
            "text/plain": [
              "<Figure size 432x288 with 1 Axes>"
            ]
          },
          "metadata": {
            "tags": [],
            "needs_background": "light"
          }
        }
      ]
    },
    {
      "cell_type": "markdown",
      "metadata": {
        "id": "2l_SF6Vrl9f7"
      },
      "source": [
        ""
      ]
    },
    {
      "cell_type": "markdown",
      "metadata": {
        "id": "WndDH1-kmK9L"
      },
      "source": [
        "## Machine Learning"
      ]
    },
    {
      "cell_type": "code",
      "metadata": {
        "id": "VnqeV22El056"
      },
      "source": [
        "# Création des dummies variables sur les variables catégoriques\n",
        "\n",
        "dataset_dummy = pd.get_dummies(dataset,drop_first=True)"
      ],
      "execution_count": 11,
      "outputs": []
    },
    {
      "cell_type": "code",
      "metadata": {
        "id": "MvOUvxmhmuHm"
      },
      "source": [
        "from sklearn.model_selection import train_test_split\n",
        "\n",
        "train, test = train_test_split(dataset_dummy, test_size=0.34)"
      ],
      "execution_count": 12,
      "outputs": []
    },
    {
      "cell_type": "code",
      "metadata": {
        "id": "X5BcMyrQnFn8"
      },
      "source": [
        "# IMPORTATION DE RANDOM FORREST ET DE NOTRE METRIC\n",
        "\n",
        "from sklearn.ensemble import RandomForestClassifier\n",
        "from sklearn.metrics import confusion_matrix"
      ],
      "execution_count": 13,
      "outputs": []
    },
    {
      "cell_type": "code",
      "metadata": {
        "id": "Q-k_5SuGqMgJ",
        "outputId": "2a0ded2e-e20e-4437-d3aa-09f3e5e0d083",
        "colab": {
          "base_uri": "https://localhost:8080/"
        }
      },
      "source": [
        "rd_clf = RandomForestClassifier(n_estimators=300, max_features=3, oob_score=True)\n",
        "rd_clf.fit(train.drop(\"converted\", axis=1), train[\"converted\"])"
      ],
      "execution_count": 14,
      "outputs": [
        {
          "output_type": "execute_result",
          "data": {
            "text/plain": [
              "RandomForestClassifier(bootstrap=True, ccp_alpha=0.0, class_weight=None,\n",
              "                       criterion='gini', max_depth=None, max_features=3,\n",
              "                       max_leaf_nodes=None, max_samples=None,\n",
              "                       min_impurity_decrease=0.0, min_impurity_split=None,\n",
              "                       min_samples_leaf=1, min_samples_split=2,\n",
              "                       min_weight_fraction_leaf=0.0, n_estimators=300,\n",
              "                       n_jobs=None, oob_score=True, random_state=None,\n",
              "                       verbose=0, warm_start=False)"
            ]
          },
          "metadata": {
            "tags": []
          },
          "execution_count": 14
        }
      ]
    },
    {
      "cell_type": "code",
      "metadata": {
        "id": "Ws3Ud1drvmsg",
        "outputId": "d6175d56-613f-46a4-e771-857bd6737c87",
        "colab": {
          "base_uri": "https://localhost:8080/"
        }
      },
      "source": [
        "#Observation du score de validation Out Of Bag utilisant la même méthode bagging\n",
        "print(\"OOB_score is\",\n",
        "      rd_clf.oob_score_,\n",
        "      \"\\n\",\n",
        "      \"OOB Confusion Matrix\",\n",
        "      \"\\n\",\n",
        "      pd.DataFrame(confusion_matrix(train['converted'], rd_clf.oob_decision_function_[:,1].round(), labels=[0, 1]))\n",
        "      )"
      ],
      "execution_count": 15,
      "outputs": [
        {
          "output_type": "stream",
          "text": [
            "OOB_score is 0.9844170779625282 \n",
            " OOB Confusion Matrix \n",
            "         0     1\n",
            "0  200882  1060\n",
            "1    2192  4556\n"
          ],
          "name": "stdout"
        }
      ]
    },
    {
      "cell_type": "markdown",
      "metadata": {
        "id": "ANTPCTEhxQ4v"
      },
      "source": [
        "### Evaluation de la précision et observation de la matrice de confusion"
      ]
    },
    {
      "cell_type": "code",
      "metadata": {
        "id": "2Wp49OfUzxYu",
        "outputId": "f35e5a9c-5537-4c53-ba41-e8442f463840",
        "colab": {
          "base_uri": "https://localhost:8080/"
        }
      },
      "source": [
        "print(\n",
        "\"Test accuracy is\", rd_clf.score(test.drop('converted', axis=1), test['converted']),\n",
        "\"\\n\",\n",
        "\"Test Set Confusion Matrix\",\n",
        "\"\\n\",\n",
        "pd.DataFrame(confusion_matrix(test['converted'],rd_clf.predict(test.drop('converted',axis=1)), labels=[0,1])))     \n"
      ],
      "execution_count": 16,
      "outputs": [
        {
          "output_type": "stream",
          "text": [
            "Test accuracy is 0.9843453510436433 \n",
            " Test Set Confusion Matrix \n",
            "         0     1\n",
            "0  103525   533\n",
            "1    1150  2300\n"
          ],
          "name": "stdout"
        }
      ]
    },
    {
      "cell_type": "markdown",
      "metadata": {
        "id": "ujowWN4hF7Mn"
      },
      "source": [
        "### Ainsi, l'erreur OOB et l'erreur de test sont assez similaires, ~ 1,5%. Nous sommes convaincus que nous ne sommes pas surajustés.\n",
        "\n",
        "L'erreur est assez faible. Cependant, nous sommes partis d’une précision de 97% (c’est le cas si nous classons tout comme «non converti»). Donc, 98,5%, c'est bien, mais rien de choquant. En effet, environ 30% des conversions sont prédites comme «sans conversion».\n",
        "\n",
        "Si nous nous soucions de la meilleure précision possible ou si nous minimisons spécifiquement les faux positifs / faux négatifs, nous trouverions le meilleur point de coupure. Étant donné que dans ce cas, cela ne semble pas particulièrement pertinent, nous acceptons la valeur seuil par défaut de 0,5 utilisée en interne par la forêt aléatoire pour effectuer la prédiction.\n",
        "\n",
        "Si vous vous souciez des informations, la création d'un modèle n'est que la première étape. Vous devez vérifier que le modèle prédit bien et, si tel est le cas, vous pouvez maintenant en extraire des informations.\n",
        "\n",
        "Commençons par vérifier l'importance des variables:"
      ]
    },
    {
      "cell_type": "code",
      "metadata": {
        "id": "cg54Rj9S2O5f",
        "outputId": "81385bee-b49c-4016-bcd3-f2e27e431475",
        "colab": {
          "base_uri": "https://localhost:8080/",
          "height": 265
        }
      },
      "source": [
        "feat_importances = pd.Series(rd_clf.feature_importances_, index=train.drop('converted', axis=1).columns)\n",
        "feat_importances.sort_values().plot(kind='barh')\n",
        "plt.show()"
      ],
      "execution_count": 17,
      "outputs": [
        {
          "output_type": "display_data",
          "data": {
            "image/png": "[encoded data removed]",
            "text/plain": [
              "<Figure size 432x288 with 1 Axes>"
            ]
          },
          "metadata": {
            "tags": [],
            "needs_background": "light"
          }
        }
      ]
    },
    {
      "cell_type": "markdown",
      "metadata": {
        "id": "Vd_Q8Nq2GhbP"
      },
      "source": [
        "#### Le nombre total de pages visitées est de loin le plus important. Malheureusement, c'est probablement le moins «exploitable». Les gens visitent de nombreuses pages parce qu'ils veulent déjà acheter. De plus, pour acheter, vous devez cliquer sur plusieurs pages. Reconstruisons le RF sans cette variable. Étant donné que les classes sont fortement déséquilibrées et que nous n'avons plus cette variable très puissante, changeons les poids, juste pour nous assurer que nous obtiendrons quelque chose de classé 1."
      ]
    },
    {
      "cell_type": "code",
      "metadata": {
        "id": "uCLxdgdVHzgl",
        "outputId": "1d680375-1b79-4e36-f377-94eeb998ac2e",
        "colab": {
          "base_uri": "https://localhost:8080/"
        }
      },
      "source": [
        "rd_clf = RandomForestClassifier(n_estimators=100,max_features=3,oob_score=True, class_weight={0:1,1:10})\n",
        "rd_clf.fit(train.drop(['converted','total_pages_visited'], axis=1),train['converted'])\n",
        "\n",
        "print(\n",
        "    'OOB accuracy is',\n",
        "    rd_clf.oob_score_,\n",
        "    \"/n\",\n",
        "    \"OOB Confusion Matrix\",\n",
        "    \"/n\",\n",
        "    pd.DataFrame(confusion_matrix(train[\"converted\"],rd_clf.oob_decision_function_[:,1].round(), labels=[0,1]))\n",
        ")"
      ],
      "execution_count": 18,
      "outputs": [
        {
          "output_type": "stream",
          "text": [
            "OOB accuracy is 0.8920839522737074 /n OOB Confusion Matrix /n         0      1\n",
            "0  183226  18716\n",
            "1    3805   2943\n"
          ],
          "name": "stdout"
        }
      ]
    },
    {
      "cell_type": "code",
      "metadata": {
        "id": "NmLMUYllLRuz",
        "outputId": "2f64758f-4e29-466c-fdfd-2c99b247af02",
        "colab": {
          "base_uri": "https://localhost:8080/"
        }
      },
      "source": [
        "# Test de précision et matrice de confusion\n",
        "print(\n",
        "\"Test accuracy is\", rd_clf.score(test.drop(['converted', 'total_pages_visited'], axis=1),test['converted']), \n",
        "\"\\n\", \n",
        "\"Test Set Confusion Matrix\", \n",
        "\"\\n\",\n",
        "pd.DataFrame(confusion_matrix(test['converted'], rd_clf.predict(test.drop(['converted', 'total_pages_visited'], axis=1)), labels=[0, 1]))\n",
        ")"
      ],
      "execution_count": 19,
      "outputs": [
        {
          "output_type": "stream",
          "text": [
            "Test accuracy is 0.8898128511366596 \n",
            " Test Set Confusion Matrix \n",
            "        0     1\n",
            "0  94147  9911\n",
            "1   1935  1515\n"
          ],
          "name": "stdout"
        }
      ]
    },
    {
      "cell_type": "code",
      "metadata": {
        "id": "WwzQG5OQhzoA",
        "outputId": "3f078202-3ac3-4bb5-9927-af5b03304e90",
        "colab": {
          "base_uri": "https://localhost:8080/",
          "height": 265
        }
      },
      "source": [
        "feat_importances = pd.Series(rd_clf.feature_importances_, index=train.drop(['converted', 'total_pages_visited'], axis=1).columns)\n",
        "feat_importances.sort_values().plot(kind='barh')\n",
        "plt.show()"
      ],
      "execution_count": 20,
      "outputs": [
        {
          "output_type": "display_data",
          "data": {
            "image/png": "[encoded data removed]",
            "text/plain": [
              "<Figure size 432x288 with 1 Axes>"
            ]
          },
          "metadata": {
            "tags": [],
            "needs_background": "light"
          }
        }
      ]
    },
    {
      "cell_type": "markdown",
      "metadata": {
        "id": "iT0jLkibjF_w"
      },
      "source": [
        "### Le nouvel utilisateur est le plus important, encore plus important que l'âge. Et c’est impressionnant étant donné que nous savons à quel point les variables continues ont tendance à toujours apparaître en haut des graphiques d’importance des variables RF. Cela signifie que new_user est vraiment important. Les mannequins liés à la source ne semblent pas du tout avoir d'importance."
      ]
    },
    {
      "cell_type": "code",
      "metadata": {
        "id": "rmQcFiVYizbt",
        "outputId": "2c104ed1-4b02-419f-88d2-34cf4246bbc6",
        "colab": {
          "base_uri": "https://localhost:8080/",
          "height": 751
        }
      },
      "source": [
        "!pip install pdpbox\n",
        "from pdpbox import pdp, info_plots\n",
        "\n",
        "#country\n",
        "pdp_iso = pdp.pdp_isolate( model=rd_clf, \n",
        "                          dataset=train.drop(['converted', 'total_pages_visited'], axis=1),      \n",
        "                          model_features=list(train.drop(['converted', 'total_pages_visited'], axis=1)), \n",
        "                          feature=['country_Germany', 'country_UK', 'country_US'], \n",
        "                          num_grid_points=50)\n",
        "pdp_dataset = pd.Series(pdp_iso.pdp, index=pdp_iso.display_columns)\n",
        "pdp_dataset.sort_values(ascending=False).plot(kind='bar', title='Country')\n",
        "plt.show()\n"
      ],
      "execution_count": 21,
      "outputs": [
        {
          "output_type": "stream",
          "text": [
            "Collecting pdpbox\n",
            "\u001b[?25l  Downloading https://files.pythonhosted.org/packages/87/23/ac7da5ba1c6c03a87c412e7e7b6e91a10d6ecf4474906c3e736f93940d49/PDPbox-0.2.0.tar.gz (57.7MB)\n",
            "\u001b[K     |████████████████████████████████| 57.7MB 74kB/s \n",
            "\u001b[?25hRequirement already satisfied: pandas in /usr/local/lib/python3.6/dist-packages (from pdpbox) (1.1.4)\n",
            "Requirement already satisfied: numpy in /usr/local/lib/python3.6/dist-packages (from pdpbox) (1.18.5)\n",
            "Requirement already satisfied: scipy in /usr/local/lib/python3.6/dist-packages (from pdpbox) (1.4.1)\n",
            "Requirement already satisfied: matplotlib>=2.1.2 in /usr/local/lib/python3.6/dist-packages (from pdpbox) (3.2.2)\n",
            "Requirement already satisfied: joblib in /usr/local/lib/python3.6/dist-packages (from pdpbox) (0.17.0)\n",
            "Requirement already satisfied: psutil in /usr/local/lib/python3.6/dist-packages (from pdpbox) (5.4.8)\n",
            "Requirement already satisfied: scikit-learn in /usr/local/lib/python3.6/dist-packages (from pdpbox) (0.22.2.post1)\n",
            "Requirement already satisfied: pytz>=2017.2 in /usr/local/lib/python3.6/dist-packages (from pandas->pdpbox) (2018.9)\n",
            "Requirement already satisfied: python-dateutil>=2.7.3 in /usr/local/lib/python3.6/dist-packages (from pandas->pdpbox) (2.8.1)\n",
            "Requirement already satisfied: cycler>=0.10 in /usr/local/lib/python3.6/dist-packages (from matplotlib>=2.1.2->pdpbox) (0.10.0)\n",
            "Requirement already satisfied: kiwisolver>=1.0.1 in /usr/local/lib/python3.6/dist-packages (from matplotlib>=2.1.2->pdpbox) (1.3.1)\n",
            "Requirement already satisfied: pyparsing!=2.0.4,!=2.1.2,!=2.1.6,>=2.0.1 in /usr/local/lib/python3.6/dist-packages (from matplotlib>=2.1.2->pdpbox) (2.4.7)\n",
            "Requirement already satisfied: six>=1.5 in /usr/local/lib/python3.6/dist-packages (from python-dateutil>=2.7.3->pandas->pdpbox) (1.15.0)\n",
            "Building wheels for collected packages: pdpbox\n",
            "  Building wheel for pdpbox (setup.py) ... \u001b[?25l\u001b[?25hdone\n",
            "  Created wheel for pdpbox: filename=PDPbox-0.2.0-cp36-none-any.whl size=57690724 sha256=a2bf00d669aa72bc53a292a458ffbdb10d7aac1a554fe53afd43cb6a9ad6aca8\n",
            "  Stored in directory: /root/.cache/pip/wheels/7d/08/51/63fd122b04a2c87d780464eeffb94867c75bd96a64d500a3fe\n",
            "Successfully built pdpbox\n",
            "Installing collected packages: pdpbox\n",
            "Successfully installed pdpbox-0.2.0\n"
          ],
          "name": "stdout"
        },
        {
          "output_type": "display_data",
          "data": {
            "image/png": "[encoded data removed]",
            "text/plain": [
              "<Figure size 432x288 with 1 Axes>"
            ]
          },
          "metadata": {
            "tags": [],
            "needs_background": "light"
          }
        }
      ]
    },
    {
      "cell_type": "code",
      "metadata": {
        "id": "UwvGz-drj5RX",
        "outputId": "cec8c5ba-5088-428e-c2df-4d3657cadeb9",
        "colab": {
          "base_uri": "https://localhost:8080/",
          "height": 339
        }
      },
      "source": [
        "#source\n",
        "pdp_iso = pdp.pdp_isolate( model=rd_clf, \n",
        "                          dataset=train.drop(['converted', 'total_pages_visited'], axis=1),      \n",
        "                          model_features=list(train.drop(['converted', 'total_pages_visited'], axis=1)), \n",
        "                          feature=['source_Direct', 'source_Seo'], \n",
        "                          num_grid_points=50)\n",
        "pdp_dataset = pd.Series(pdp_iso.pdp, index=pdp_iso.display_columns)\n",
        "pdp_dataset.sort_values(ascending=False).plot(kind='bar', title='Source')\n",
        "plt.show()"
      ],
      "execution_count": 22,
      "outputs": [
        {
          "output_type": "display_data",
          "data": {
            "image/png": "[encoded data removed]",
            "text/plain": [
              "<Figure size 432x288 with 1 Axes>"
            ]
          },
          "metadata": {
            "tags": [],
            "needs_background": "light"
          }
        }
      ]
    },
    {
      "cell_type": "code",
      "metadata": {
        "id": "xz6POfgwk_CM",
        "outputId": "38f54797-957d-4df5-b756-69241f02b51a",
        "colab": {
          "base_uri": "https://localhost:8080/",
          "height": 330
        }
      },
      "source": [
        "#new user\n",
        "pdp_iso = pdp.pdp_isolate( model=rd_clf, \n",
        "                          dataset=train.drop(['converted', 'total_pages_visited'], axis=1),      \n",
        "                          model_features=list(train.drop(['converted', 'total_pages_visited'], axis=1)), \n",
        "                          feature='new_user', \n",
        "                          num_grid_points=50)\n",
        "pdp_dataset = pd.Series(pdp_iso.pdp, index=pdp_iso.display_columns)\n",
        "pdp_dataset.sort_values(ascending=False).plot(kind='bar', title='New User')\n",
        "plt.show()\n"
      ],
      "execution_count": 23,
      "outputs": [
        {
          "output_type": "display_data",
          "data": {
            "image/png": "[encoded data removed]",
            "text/plain": [
              "<Figure size 432x288 with 1 Axes>"
            ]
          },
          "metadata": {
            "tags": [],
            "needs_background": "light"
          }
        }
      ]
    },
    {
      "cell_type": "code",
      "metadata": {
        "id": "fppGE70IlQ-C",
        "outputId": "682bb29f-59a3-41c6-eb2c-ccd19179fdcf",
        "colab": {
          "base_uri": "https://localhost:8080/",
          "height": 281
        }
      },
      "source": [
        "#age\n",
        "pdp_iso = pdp.pdp_isolate( model=rd_clf, \n",
        "                          dataset=train.drop(['converted', 'total_pages_visited'], axis=1),      \n",
        "                          model_features=list(train.drop(['converted', 'total_pages_visited'], axis=1)), \n",
        "                          feature='age', \n",
        "                          num_grid_points=50)\n",
        "pdp_dataset = pd.Series(pdp_iso.pdp, index=pdp_iso.feature_grids)\n",
        "pdp_dataset.plot(title='Age')\n",
        "plt.show()"
      ],
      "execution_count": 24,
      "outputs": [
        {
          "output_type": "display_data",
          "data": {
            "image/png": "[encoded data removed]",
            "text/plain": [
              "<Figure size 432x288 with 1 Axes>"
            ]
          },
          "metadata": {
            "tags": [],
            "needs_background": "light"
          }
        }
      ]
    },
    {
      "cell_type": "markdown",
      "metadata": {
        "id": "WwBCyLvLl7no"
      },
      "source": [
        "### Cela montre que:\n",
        "\n",
        "Les utilisateurs avec un ancien compte sont bien meilleurs que les nouveaux utilisateurs\n",
        "\n",
        "L'Allemagne, le Royaume-Uni et les États-Unis sont similaires, l'Allemagne étant la meilleure. Plus important encore, ils ont tous des valeurs très très élevées. Comme d'habitude, nous devons lire cela par rapport au niveau de référence, qui est la Chine. Cela signifie donc que ne pas être de Chine et être de l'un de ces 3 pays augmente considérablement la probabilité de conversion. Autrement dit, la Chine est très mauvaise pour la conversion\n",
        "\n",
        "Le site fonctionne très bien pour les jeunes et empire pour les personnes âgées\n",
        "\n",
        "La source est moins pertinente\n",
        "\n",
        "Créons maintenant un arbre de décision simple et vérifions les 2 ou 3 segments les plus importants:"
      ]
    },
    {
      "cell_type": "code",
      "metadata": {
        "id": "M4LhXzHtlcNT",
        "outputId": "78c6617f-f5d0-41f1-d729-fef9886dc40c",
        "colab": {
          "base_uri": "https://localhost:8080/",
          "height": 392
        }
      },
      "source": [
        "import graphviz\n",
        "from sklearn.tree import DecisionTreeClassifier\n",
        "from sklearn.tree import export_graphviz\n",
        "\n",
        "tree = DecisionTreeClassifier( max_depth=2,class_weight={0:1, 1:10}, min_impurity_decrease = 0.001)\n",
        "tree.fit(train.drop(['converted', 'total_pages_visited'], axis=1), train['converted'])\n",
        "  \n",
        "#visualize it\n",
        "dot_data = export_graphviz(tree, out_file=None, feature_names=train.drop(['converted', 'total_pages_visited'], axis=1).columns, proportion=True, rotate=True)\n",
        "graph = graphviz.Source(dot_data)\n",
        "\n",
        "graph"
      ],
      "execution_count": 25,
      "outputs": [
        {
          "output_type": "execute_result",
          "data": {
            "text/plain": [
              "<graphviz.files.Source at 0x7fa894067240>"
            ],
            "image/svg+xml": "<?xml version=\"1.0\" encoding=\"UTF-8\" standalone=\"no\"?>\n<!DOCTYPE svg PUBLIC \"-//W3C//DTD SVG 1.1//EN\"\n \"http://www.w3.org/Graphics/SVG/1.1/DTD/svg11.dtd\">\n<!-- Generated by graphviz version 2.40.1 (20161225.0304)\n -->\n<!-- Title: Tree Pages: 1 -->\n<svg width=\"506pt\" height=\"278pt\"\n viewBox=\"0.00 0.00 506.00 278.00\" xmlns=\"http://www.w3.org/2000/svg\" xmlns:xlink=\"http://www.w3.org/1999/xlink\">\n<g id=\"graph0\" class=\"graph\" transform=\"scale(1 1) rotate(0) translate(4 274)\">\n<title>Tree</title>\n<polygon fill=\"#ffffff\" stroke=\"transparent\" points=\"-4,4 -4,-274 502,-274 502,4 -4,4\"/>\n<!-- 0 -->\n<g id=\"node1\" class=\"node\">\n<title>0</title>\n<polygon fill=\"none\" stroke=\"#000000\" points=\"132,-170.5 0,-170.5 0,-102.5 132,-102.5 132,-170.5\"/>\n<text text-anchor=\"middle\" x=\"66\" y=\"-155.3\" font-family=\"Times,serif\" font-size=\"14.00\" fill=\"#000000\">new_user &lt;= 0.5</text>\n<text text-anchor=\"middle\" x=\"66\" y=\"-140.3\" font-family=\"Times,serif\" font-size=\"14.00\" fill=\"#000000\">gini = 0.375</text>\n<text text-anchor=\"middle\" x=\"66\" y=\"-125.3\" font-family=\"Times,serif\" font-size=\"14.00\" fill=\"#000000\">samples = 100.0%</text>\n<text text-anchor=\"middle\" x=\"66\" y=\"-110.3\" font-family=\"Times,serif\" font-size=\"14.00\" fill=\"#000000\">value = [0.75, 0.25]</text>\n</g>\n<!-- 1 -->\n<g id=\"node2\" class=\"node\">\n<title>1</title>\n<polygon fill=\"none\" stroke=\"#000000\" points=\"315,-213.5 168,-213.5 168,-145.5 315,-145.5 315,-213.5\"/>\n<text text-anchor=\"middle\" x=\"241.5\" y=\"-198.3\" font-family=\"Times,serif\" font-size=\"14.00\" fill=\"#000000\">age &lt;= 29.5</text>\n<text text-anchor=\"middle\" x=\"241.5\" y=\"-183.3\" font-family=\"Times,serif\" font-size=\"14.00\" fill=\"#000000\">gini = 0.492</text>\n<text text-anchor=\"middle\" x=\"241.5\" y=\"-168.3\" font-family=\"Times,serif\" font-size=\"14.00\" fill=\"#000000\">samples = 31.6%</text>\n<text text-anchor=\"middle\" x=\"241.5\" y=\"-153.3\" font-family=\"Times,serif\" font-size=\"14.00\" fill=\"#000000\">value = [0.563, 0.437]</text>\n</g>\n<!-- 0&#45;&gt;1 -->\n<g id=\"edge1\" class=\"edge\">\n<title>0&#45;&gt;1</title>\n<path fill=\"none\" stroke=\"#000000\" d=\"M132.349,-152.7565C140.6513,-154.7906 149.2258,-156.8915 157.7499,-158.98\"/>\n<polygon fill=\"#000000\" stroke=\"#000000\" points=\"157.1682,-162.441 167.7139,-161.4214 158.8341,-155.6421 157.1682,-162.441\"/>\n<text text-anchor=\"middle\" x=\"146.3372\" y=\"-170.6843\" font-family=\"Times,serif\" font-size=\"14.00\" fill=\"#000000\">True</text>\n</g>\n<!-- 4 -->\n<g id=\"node5\" class=\"node\">\n<title>4</title>\n<polygon fill=\"none\" stroke=\"#000000\" points=\"315,-127.5 168,-127.5 168,-59.5 315,-59.5 315,-127.5\"/>\n<text text-anchor=\"middle\" x=\"241.5\" y=\"-112.3\" font-family=\"Times,serif\" font-size=\"14.00\" fill=\"#000000\">age &lt;= 24.5</text>\n<text text-anchor=\"middle\" x=\"241.5\" y=\"-97.3\" font-family=\"Times,serif\" font-size=\"14.00\" fill=\"#000000\">gini = 0.218</text>\n<text text-anchor=\"middle\" x=\"241.5\" y=\"-82.3\" font-family=\"Times,serif\" font-size=\"14.00\" fill=\"#000000\">samples = 68.4%</text>\n<text text-anchor=\"middle\" x=\"241.5\" y=\"-67.3\" font-family=\"Times,serif\" font-size=\"14.00\" fill=\"#000000\">value = [0.876, 0.124]</text>\n</g>\n<!-- 0&#45;&gt;4 -->\n<g id=\"edge4\" class=\"edge\">\n<title>0&#45;&gt;4</title>\n<path fill=\"none\" stroke=\"#000000\" d=\"M132.349,-120.2435C140.6513,-118.2094 149.2258,-116.1085 157.7499,-114.02\"/>\n<polygon fill=\"#000000\" stroke=\"#000000\" points=\"158.8341,-117.3579 167.7139,-111.5786 157.1682,-110.559 158.8341,-117.3579\"/>\n<text text-anchor=\"middle\" x=\"146.3372\" y=\"-94.9157\" font-family=\"Times,serif\" font-size=\"14.00\" fill=\"#000000\">False</text>\n</g>\n<!-- 2 -->\n<g id=\"node3\" class=\"node\">\n<title>2</title>\n<polygon fill=\"none\" stroke=\"#000000\" points=\"498,-270 351,-270 351,-217 498,-217 498,-270\"/>\n<text text-anchor=\"middle\" x=\"424.5\" y=\"-254.8\" font-family=\"Times,serif\" font-size=\"14.00\" fill=\"#000000\">gini = 0.498</text>\n<text text-anchor=\"middle\" x=\"424.5\" y=\"-239.8\" font-family=\"Times,serif\" font-size=\"14.00\" fill=\"#000000\">samples = 15.5%</text>\n<text text-anchor=\"middle\" x=\"424.5\" y=\"-224.8\" font-family=\"Times,serif\" font-size=\"14.00\" fill=\"#000000\">value = [0.466, 0.534]</text>\n</g>\n<!-- 1&#45;&gt;2 -->\n<g id=\"edge2\" class=\"edge\">\n<title>1&#45;&gt;2</title>\n<path fill=\"none\" stroke=\"#000000\" d=\"M315.1421,-205.2546C323.657,-208.2325 332.3867,-211.2855 341.0204,-214.3049\"/>\n<polygon fill=\"#000000\" stroke=\"#000000\" points=\"340.1159,-217.6964 350.7107,-217.6939 342.4268,-211.0889 340.1159,-217.6964\"/>\n</g>\n<!-- 3 -->\n<g id=\"node4\" class=\"node\">\n<title>3</title>\n<polygon fill=\"none\" stroke=\"#000000\" points=\"498,-199 351,-199 351,-146 498,-146 498,-199\"/>\n<text text-anchor=\"middle\" x=\"424.5\" y=\"-183.8\" font-family=\"Times,serif\" font-size=\"14.00\" fill=\"#000000\">gini = 0.426</text>\n<text text-anchor=\"middle\" x=\"424.5\" y=\"-168.8\" font-family=\"Times,serif\" font-size=\"14.00\" fill=\"#000000\">samples = 16.1%</text>\n<text text-anchor=\"middle\" x=\"424.5\" y=\"-153.8\" font-family=\"Times,serif\" font-size=\"14.00\" fill=\"#000000\">value = [0.692, 0.308]</text>\n</g>\n<!-- 1&#45;&gt;3 -->\n<g id=\"edge3\" class=\"edge\">\n<title>1&#45;&gt;3</title>\n<path fill=\"none\" stroke=\"#000000\" d=\"M315.1421,-176.6831C323.4739,-176.3644 332.0113,-176.0378 340.4632,-175.7145\"/>\n<polygon fill=\"#000000\" stroke=\"#000000\" points=\"340.8519,-179.2023 350.7107,-175.3225 340.5842,-172.2074 340.8519,-179.2023\"/>\n</g>\n<!-- 5 -->\n<g id=\"node6\" class=\"node\">\n<title>5</title>\n<polygon fill=\"none\" stroke=\"#000000\" points=\"483,-124 366,-124 366,-71 483,-71 483,-124\"/>\n<text text-anchor=\"middle\" x=\"424.5\" y=\"-108.8\" font-family=\"Times,serif\" font-size=\"14.00\" fill=\"#000000\">gini = 0.32</text>\n<text text-anchor=\"middle\" x=\"424.5\" y=\"-93.8\" font-family=\"Times,serif\" font-size=\"14.00\" fill=\"#000000\">samples = 17.9%</text>\n<text text-anchor=\"middle\" x=\"424.5\" y=\"-78.8\" font-family=\"Times,serif\" font-size=\"14.00\" fill=\"#000000\">value = [0.8, 0.2]</text>\n</g>\n<!-- 4&#45;&gt;5 -->\n<g id=\"edge5\" class=\"edge\">\n<title>4&#45;&gt;5</title>\n<path fill=\"none\" stroke=\"#000000\" d=\"M315.1421,-95.1097C328.5966,-95.4038 342.5871,-95.7096 355.888,-96.0003\"/>\n<polygon fill=\"#000000\" stroke=\"#000000\" points=\"355.8304,-99.4998 365.9046,-96.2192 355.9835,-92.5014 355.8304,-99.4998\"/>\n</g>\n<!-- 6 -->\n<g id=\"node7\" class=\"node\">\n<title>6</title>\n<polygon fill=\"none\" stroke=\"#000000\" points=\"498,-53 351,-53 351,0 498,0 498,-53\"/>\n<text text-anchor=\"middle\" x=\"424.5\" y=\"-37.8\" font-family=\"Times,serif\" font-size=\"14.00\" fill=\"#000000\">gini = 0.171</text>\n<text text-anchor=\"middle\" x=\"424.5\" y=\"-22.8\" font-family=\"Times,serif\" font-size=\"14.00\" fill=\"#000000\">samples = 50.5%</text>\n<text text-anchor=\"middle\" x=\"424.5\" y=\"-7.8\" font-family=\"Times,serif\" font-size=\"14.00\" fill=\"#000000\">value = [0.905, 0.095]</text>\n</g>\n<!-- 4&#45;&gt;6 -->\n<g id=\"edge6\" class=\"edge\">\n<title>4&#45;&gt;6</title>\n<path fill=\"none\" stroke=\"#000000\" d=\"M315.1421,-66.5381C324.135,-63.2457 333.3674,-59.8655 342.4733,-56.5316\"/>\n<polygon fill=\"#000000\" stroke=\"#000000\" points=\"343.7144,-59.8045 351.9015,-53.0798 341.3077,-53.2312 343.7144,-59.8045\"/>\n</g>\n</g>\n</svg>\n"
          },
          "metadata": {
            "tags": []
          },
          "execution_count": 25
        }
      ]
    },
    {
      "cell_type": "code",
      "metadata": {
        "id": "ZxeB9W2KmG-v"
      },
      "source": [
        ""
      ],
      "execution_count": 25,
      "outputs": []
    }
  ]
}