{
  "nbformat": 4,
  "nbformat_minor": 0,
  "metadata": {
    "language_info": {
      "mimetype": "text/x-python",
      "name": "python",
      "pygments_lexer": "ipython3",
      "codemirror_mode": {
        "name": "ipython",
        "version": 3
      },
      "version": "3.6.8",
      "nbconvert_exporter": "python",
      "file_extension": ".py"
    },
    "name": "S8-4. Classification",
    "notebookId": 569372261694716,
    "kernelspec": {
      "display_name": "Python 3",
      "language": "python",
      "name": "python3"
    },
    "colab": {
      "name": "S21 B Spark_MLlib_Classification_Exercice_SOLUTION completed.ipynb",
      "provenance": [],
      "collapsed_sections": [
        "e4klXqtrsMOt"
      ]
    }
  },
  "cells": [
    {
      "cell_type": "markdown",
      "metadata": {
        "id": "OcjG7SjOsML2"
      },
      "source": [
        "#0. Chargement des données"
      ]
    },
    {
      "cell_type": "markdown",
      "metadata": {
        "id": "nKcZc_kFwFkt"
      },
      "source": [
        "1. connectez vous au compte de stockage et importez les datasets du challenge yelp"
      ]
    },
    {
      "cell_type": "code",
      "metadata": {
        "id": "-zb-1PBDsML-",
        "outputId": "f358ba3c-fd5a-459d-8fa2-092b4e65b869"
      },
      "source": [
        "spark.conf.set(\n",
        "  \"fs.azure.account.key.storagestudent.blob.core.windows.net\", \n",
        "  \"8ykAjWw0X+FVY8PnmVhnY5XyDdbpBLceLsFTbuTttdn2W76+sdAsSwYNQ9E+H8Oxlsay8/uCm8ayyWq73kB82Q==\"\n",
        ")"
      ],
      "execution_count": null,
      "outputs": [
        {
          "output_type": "display_data",
          "data": {
            "text/html": [
              "<style scoped>\n",
              "  .ansiout {\n",
              "    display: block;\n",
              "    unicode-bidi: embed;\n",
              "    white-space: pre-wrap;\n",
              "    word-wrap: break-word;\n",
              "    word-break: break-all;\n",
              "    font-family: \"Source Code Pro\", \"Menlo\", monospace;;\n",
              "    font-size: 13px;\n",
              "    color: #555;\n",
              "    margin-left: 4px;\n",
              "    line-height: 19px;\n",
              "  }\n",
              "</style>\n",
              "<div class=\"ansiout\"></div>"
            ]
          },
          "metadata": {
            "tags": []
          }
        }
      ]
    },
    {
      "cell_type": "code",
      "metadata": {
        "id": "htHVPnMXsMMT",
        "outputId": "daf951e5-fcaa-4c78-b3d0-d2ec9af3bb8a"
      },
      "source": [
        "datasets = {\n",
        "  dataset: spark.read.load( \n",
        "    \"wasbs://default@storagestudent.blob.core.windows.net/datasets/S8-4/Exo/restaurant-data-with-consumer-ratings/{0}.csv\".format(dataset), \n",
        "    format=\"csv\",\n",
        "    header=\"true\"\n",
        "  )\n",
        "  for dataset in [\n",
        "    \"chefmozaccepts\", \n",
        "    \"chefmozcuisine\", \n",
        "    \"chefmozhours4\", \n",
        "    \"chefmozparking\", \n",
        "    \"geoplaces2\", \n",
        "    \"rating_final\", \n",
        "    \"usercuisine\", \n",
        "    \"userpayment\", \n",
        "    \"userprofile\"\n",
        "  ]\n",
        "} "
      ],
      "execution_count": null,
      "outputs": [
        {
          "output_type": "display_data",
          "data": {
            "text/html": [
              "<style scoped>\n",
              "  .ansiout {\n",
              "    display: block;\n",
              "    unicode-bidi: embed;\n",
              "    white-space: pre-wrap;\n",
              "    word-wrap: break-word;\n",
              "    word-break: break-all;\n",
              "    font-family: \"Source Code Pro\", \"Menlo\", monospace;;\n",
              "    font-size: 13px;\n",
              "    color: #555;\n",
              "    margin-left: 4px;\n",
              "    line-height: 19px;\n",
              "  }\n",
              "</style>\n",
              "<div class=\"ansiout\"></div>"
            ]
          },
          "metadata": {
            "tags": []
          }
        }
      ]
    },
    {
      "cell_type": "code",
      "metadata": {
        "id": "om4tNxuYsMMa",
        "outputId": "83945c21-1dd4-474a-8032-46f63d49eaf6"
      },
      "source": [
        "datasets"
      ],
      "execution_count": null,
      "outputs": [
        {
          "output_type": "display_data",
          "data": {
            "text/html": [
              "<style scoped>\n",
              "  .ansiout {\n",
              "    display: block;\n",
              "    unicode-bidi: embed;\n",
              "    white-space: pre-wrap;\n",
              "    word-wrap: break-word;\n",
              "    word-break: break-all;\n",
              "    font-family: \"Source Code Pro\", \"Menlo\", monospace;;\n",
              "    font-size: 13px;\n",
              "    color: #555;\n",
              "    margin-left: 4px;\n",
              "    line-height: 19px;\n",
              "  }\n",
              "</style>\n",
              "<div class=\"ansiout\">Out[3]: {&#39;chefmozaccepts&#39;: DataFrame[placeID: string, Rpayment: string],\n",
              " &#39;chefmozcuisine&#39;: DataFrame[placeID: string, Rcuisine: string],\n",
              " &#39;chefmozhours4&#39;: DataFrame[placeID: string, hours: string, days: string],\n",
              " &#39;chefmozparking&#39;: DataFrame[placeID: string, parking_lot: string],\n",
              " &#39;geoplaces2&#39;: DataFrame[placeID: string, latitude: string, longitude: string, the_geom_meter: string, name: string, address: string, city: string, state: string, country: string, fax: string, zip: string, alcohol: string, smoking_area: string, dress_code: string, accessibility: string, price: string, url: string, Rambience: string, franchise: string, area: string, other_services: string],\n",
              " &#39;rating_final&#39;: DataFrame[userID: string, placeID: string, rating: string, food_rating: string, service_rating: string],\n",
              " &#39;usercuisine&#39;: DataFrame[userID: string, Rcuisine: string],\n",
              " &#39;userpayment&#39;: DataFrame[userID: string, Upayment: string],\n",
              " &#39;userprofile&#39;: DataFrame[userID: string, latitude: string, longitude: string, smoker: string, drink_level: string, dress_preference: string, ambience: string, transport: string, marital_status: string, hijos: string, birth_year: string, interest: string, personality: string, religion: string, activity: string, color: string, weight: string, budget: string, height: string]}</div>"
            ]
          },
          "metadata": {
            "tags": []
          }
        }
      ]
    },
    {
      "cell_type": "markdown",
      "metadata": {
        "id": "dYLZb5jOwT3J"
      },
      "source": [
        "2. créez trois objets `rating`, `user`, `place`, contenant respectivement les datasets `rating_final`, `user_profile` et `geoplaces2`"
      ]
    },
    {
      "cell_type": "code",
      "metadata": {
        "id": "y8NgP0AKsMMi",
        "outputId": "583eea7d-7b09-4c49-9d6f-ea8c26f4fa1d"
      },
      "source": [
        "rating = datasets[\"rating_final\"]\n",
        "user = datasets[\"userprofile\"]\n",
        "place = datasets[\"geoplaces2\"]"
      ],
      "execution_count": null,
      "outputs": [
        {
          "output_type": "display_data",
          "data": {
            "text/html": [
              "<style scoped>\n",
              "  .ansiout {\n",
              "    display: block;\n",
              "    unicode-bidi: embed;\n",
              "    white-space: pre-wrap;\n",
              "    word-wrap: break-word;\n",
              "    word-break: break-all;\n",
              "    font-family: \"Source Code Pro\", \"Menlo\", monospace;;\n",
              "    font-size: 13px;\n",
              "    color: #555;\n",
              "    margin-left: 4px;\n",
              "    line-height: 19px;\n",
              "  }\n",
              "</style>\n",
              "<div class=\"ansiout\"></div>"
            ]
          },
          "metadata": {
            "tags": []
          }
        }
      ]
    },
    {
      "cell_type": "markdown",
      "metadata": {
        "id": "CpgQDlsWsMNI"
      },
      "source": [
        "# <font color='blus'>1. Cleaning des données (Recodage du label, typage et jointures)</font>"
      ]
    },
    {
      "cell_type": "markdown",
      "metadata": {
        "id": "yoTjoipjwf-z"
      },
      "source": [
        "3. Dans le dataframe `rating`, transformez la variable `rating` pour qu'elle vale 1 lorsque `rating` vaut `2` et `0` sinon"
      ]
    },
    {
      "cell_type": "code",
      "metadata": {
        "id": "ihLenlxIsMNM",
        "outputId": "11a635c8-8f26-458d-c082-5fa45881be1c"
      },
      "source": [
        "from pyspark.sql import functions as F\n",
        "\n",
        "rating_cleaned = rating.select(F.col(\"userID\"), F.col(\"placeID\"),F.when(F.col(\"rating\") == \"2\",1).otherwise(0).alias(\"label\"))\n",
        "\n",
        "\n",
        "display(rating_cleaned)"
      ],
      "execution_count": null,
      "outputs": [
        {
          "output_type": "display_data",
          "data": {
            "text/html": [
              "<style scoped>\n",
              "  .table-result-container {\n",
              "    max-height: 300px;\n",
              "    overflow: auto;\n",
              "  }\n",
              "  table, th, td {\n",
              "    border: 1px solid black;\n",
              "    border-collapse: collapse;\n",
              "  }\n",
              "  th, td {\n",
              "    padding: 5px;\n",
              "  }\n",
              "  th {\n",
              "    text-align: left;\n",
              "  }\n",
              "</style><div class='table-result-container'><table class='table-result'><thead style='background-color: white'><tr><th>userID</th><th>placeID</th><th>label</th></tr></thead><tbody><tr><td>U1077</td><td>135085</td><td>1</td></tr><tr><td>U1077</td><td>135038</td><td>1</td></tr><tr><td>U1077</td><td>132825</td><td>1</td></tr><tr><td>U1077</td><td>135060</td><td>0</td></tr><tr><td>U1068</td><td>135104</td><td>0</td></tr><tr><td>U1068</td><td>132740</td><td>0</td></tr><tr><td>U1068</td><td>132663</td><td>0</td></tr><tr><td>U1068</td><td>132732</td><td>0</td></tr><tr><td>U1068</td><td>132630</td><td>0</td></tr><tr><td>U1067</td><td>132584</td><td>1</td></tr><tr><td>U1067</td><td>132733</td><td>0</td></tr><tr><td>U1067</td><td>132732</td><td>0</td></tr><tr><td>U1067</td><td>132630</td><td>0</td></tr><tr><td>U1067</td><td>135104</td><td>0</td></tr><tr><td>U1067</td><td>132560</td><td>0</td></tr><tr><td>U1103</td><td>132584</td><td>0</td></tr><tr><td>U1103</td><td>132732</td><td>0</td></tr><tr><td>U1103</td><td>132630</td><td>0</td></tr><tr><td>U1103</td><td>132613</td><td>1</td></tr><tr><td>U1103</td><td>132667</td><td>0</td></tr><tr><td>U1103</td><td>135104</td><td>0</td></tr><tr><td>U1103</td><td>132663</td><td>0</td></tr><tr><td>U1103</td><td>132733</td><td>1</td></tr><tr><td>U1107</td><td>132660</td><td>1</td></tr><tr><td>U1107</td><td>132584</td><td>1</td></tr><tr><td>U1107</td><td>132733</td><td>1</td></tr><tr><td>U1044</td><td>135088</td><td>1</td></tr><tr><td>U1044</td><td>132583</td><td>0</td></tr><tr><td>U1070</td><td>132608</td><td>1</td></tr><tr><td>U1070</td><td>132609</td><td>0</td></tr><tr><td>U1070</td><td>132613</td><td>0</td></tr><tr><td>U1031</td><td>132663</td><td>0</td></tr><tr><td>U1031</td><td>132665</td><td>0</td></tr><tr><td>U1031</td><td>132668</td><td>0</td></tr><tr><td>U1082</td><td>132630</td><td>0</td></tr><tr><td>U1023</td><td>132715</td><td>0</td></tr><tr><td>U1023</td><td>132717</td><td>0</td></tr><tr><td>U1082</td><td>132613</td><td>0</td></tr><tr><td>U1082</td><td>132594</td><td>0</td></tr><tr><td>U1082</td><td>132608</td><td>0</td></tr><tr><td>U1082</td><td>132609</td><td>0</td></tr><tr><td>U1082</td><td>132663</td><td>0</td></tr><tr><td>U1082</td><td>132560</td><td>0</td></tr><tr><td>U1060</td><td>132564</td><td>1</td></tr><tr><td>U1060</td><td>132717</td><td>1</td></tr><tr><td>U1060</td><td>132733</td><td>1</td></tr><tr><td>U1060</td><td>132740</td><td>0</td></tr><tr><td>U1015</td><td>135071</td><td>0</td></tr><tr><td>U1123</td><td>132733</td><td>0</td></tr><tr><td>U1123</td><td>132608</td><td>0</td></tr><tr><td>U1123</td><td>135104</td><td>1</td></tr><tr><td>U1123</td><td>132584</td><td>0</td></tr><tr><td>U1123</td><td>132667</td><td>0</td></tr><tr><td>U1123</td><td>132740</td><td>0</td></tr><tr><td>U1123</td><td>132613</td><td>0</td></tr><tr><td>U1123</td><td>132594</td><td>0</td></tr><tr><td>U1021</td><td>132740</td><td>1</td></tr><tr><td>U1026</td><td>132626</td><td>1</td></tr><tr><td>U1021</td><td>132668</td><td>1</td></tr><tr><td>U1021</td><td>132715</td><td>1</td></tr><tr><td>U1044</td><td>134987</td><td>0</td></tr><tr><td>U1083</td><td>135034</td><td>1</td></tr><tr><td>U1083</td><td>132723</td><td>0</td></tr><tr><td>U1083</td><td>135046</td><td>1</td></tr><tr><td>U1108</td><td>135075</td><td>1</td></tr><tr><td>U1108</td><td>132572</td><td>0</td></tr><tr><td>U1108</td><td>135074</td><td>1</td></tr><tr><td>U1108</td><td>135028</td><td>0</td></tr><tr><td>U1108</td><td>135085</td><td>0</td></tr><tr><td>U1108</td><td>135032</td><td>1</td></tr><tr><td>U1108</td><td>135086</td><td>0</td></tr><tr><td>U1108</td><td>132723</td><td>1</td></tr><tr><td>U1108</td><td>135046</td><td>0</td></tr><tr><td>U1108</td><td>135058</td><td>0</td></tr><tr><td>U1012</td><td>135001</td><td>0</td></tr><tr><td>U1012</td><td>134983</td><td>1</td></tr><tr><td>U1012</td><td>134996</td><td>1</td></tr><tr><td>U1093</td><td>135019</td><td>1</td></tr><tr><td>U1093</td><td>134996</td><td>1</td></tr><tr><td>U1093</td><td>135001</td><td>1</td></tr><tr><td>U1093</td><td>134976</td><td>1</td></tr><tr><td>U1093</td><td>134999</td><td>1</td></tr><tr><td>U1030</td><td>135018</td><td>1</td></tr><tr><td>U1093</td><td>135013</td><td>1</td></tr><tr><td>U1030</td><td>134986</td><td>1</td></tr><tr><td>U1012</td><td>134986</td><td>1</td></tr><tr><td>U1012</td><td>135018</td><td>1</td></tr><tr><td>U1030</td><td>135088</td><td>0</td></tr><tr><td>U1093</td><td>132767</td><td>1</td></tr><tr><td>U1030</td><td>135016</td><td>0</td></tr><tr><td>U1093</td><td>135011</td><td>0</td></tr><tr><td>U1030</td><td>132767</td><td>0</td></tr><tr><td>U1030</td><td>135019</td><td>0</td></tr><tr><td>U1030</td><td>135109</td><td>0</td></tr><tr><td>U1030</td><td>134996</td><td>0</td></tr><tr><td>U1066</td><td>135011</td><td>0</td></tr><tr><td>U1066</td><td>134999</td><td>0</td></tr><tr><td>U1127</td><td>134975</td><td>1</td></tr><tr><td>U1127</td><td>135021</td><td>1</td></tr><tr><td>U1127</td><td>134987</td><td>1</td></tr><tr><td>U1127</td><td>134996</td><td>1</td></tr><tr><td>U1017</td><td>132768</td><td>0</td></tr><tr><td>U1066</td><td>135019</td><td>1</td></tr><tr><td>U1017</td><td>134975</td><td>1</td></tr><tr><td>U1017</td><td>134983</td><td>0</td></tr><tr><td>U1066</td><td>132767</td><td>0</td></tr><tr><td>U1100</td><td>135021</td><td>1</td></tr><tr><td>U1100</td><td>134996</td><td>1</td></tr><tr><td>U1066</td><td>135013</td><td>0</td></tr><tr><td>U1100</td><td>135000</td><td>1</td></tr><tr><td>U1100</td><td>135001</td><td>1</td></tr><tr><td>U1100</td><td>132768</td><td>1</td></tr><tr><td>U1100</td><td>134976</td><td>1</td></tr><tr><td>U1133</td><td>134983</td><td>0</td></tr><tr><td>U1133</td><td>134986</td><td>1</td></tr><tr><td>U1133</td><td>132766</td><td>0</td></tr><tr><td>U1133</td><td>132767</td><td>0</td></tr><tr><td>U1133</td><td>135021</td><td>1</td></tr><tr><td>U1133</td><td>135001</td><td>1</td></tr><tr><td>U1133</td><td>134975</td><td>0</td></tr><tr><td>U1133</td><td>134992</td><td>0</td></tr><tr><td>U1133</td><td>135019</td><td>0</td></tr><tr><td>U1118</td><td>134987</td><td>0</td></tr><tr><td>U1072</td><td>135016</td><td>0</td></tr><tr><td>U1072</td><td>132773</td><td>1</td></tr><tr><td>U1072</td><td>135088</td><td>0</td></tr><tr><td>U1026</td><td>132561</td><td>0</td></tr><tr><td>U1026</td><td>132706</td><td>0</td></tr><tr><td>U1026</td><td>132654</td><td>0</td></tr><tr><td>U1026</td><td>132665</td><td>1</td></tr><tr><td>U1023</td><td>132740</td><td>0</td></tr><tr><td>U1023</td><td>132733</td><td>1</td></tr><tr><td>U1080</td><td>132668</td><td>0</td></tr><tr><td>U1080</td><td>132660</td><td>1</td></tr><tr><td>U1080</td><td>132733</td><td>0</td></tr><tr><td>U1080</td><td>132608</td><td>1</td></tr><tr><td>U1063</td><td>132660</td><td>1</td></tr><tr><td>U1063</td><td>132584</td><td>1</td></tr><tr><td>U1063</td><td>132609</td><td>0</td></tr><tr><td>U1063</td><td>135104</td><td>0</td></tr><tr><td>U1063</td><td>132667</td><td>0</td></tr><tr><td>U1080</td><td>132564</td><td>0</td></tr><tr><td>U1080</td><td>132715</td><td>0</td></tr><tr><td>U1082</td><td>132732</td><td>0</td></tr><tr><td>U1082</td><td>132733</td><td>0</td></tr><tr><td>U1074</td><td>135011</td><td>1</td></tr><tr><td>U1074</td><td>134987</td><td>1</td></tr><tr><td>U1074</td><td>134976</td><td>1</td></tr><tr><td>U1117</td><td>135018</td><td>0</td></tr><tr><td>U1117</td><td>132766</td><td>0</td></tr><tr><td>U1117</td><td>135088</td><td>0</td></tr><tr><td>U1117</td><td>135016</td><td>1</td></tr><tr><td>U1117</td><td>132773</td><td>0</td></tr><tr><td>U1117</td><td>135000</td><td>0</td></tr><tr><td>U1118</td><td>132583</td><td>0</td></tr><tr><td>U1118</td><td>132768</td><td>0</td></tr><tr><td>U1118</td><td>135021</td><td>1</td></tr><tr><td>U1118</td><td>134983</td><td>0</td></tr><tr><td>U1118</td><td>135001</td><td>0</td></tr><tr><td>U1118</td><td>134992</td><td>0</td></tr><tr><td>U1020</td><td>135088</td><td>0</td></tr><tr><td>U1020</td><td>132768</td><td>1</td></tr><tr><td>U1020</td><td>134996</td><td>0</td></tr><tr><td>U1020</td><td>135109</td><td>1</td></tr><tr><td>U1051</td><td>135088</td><td>0</td></tr><tr><td>U1051</td><td>135109</td><td>0</td></tr><tr><td>U1051</td><td>132768</td><td>0</td></tr><tr><td>U1055</td><td>135051</td><td>0</td></tr><tr><td>U1055</td><td>135075</td><td>1</td></tr><tr><td>U1055</td><td>132572</td><td>1</td></tr><tr><td>U1055</td><td>135028</td><td>1</td></tr><tr><td>U1055</td><td>135025</td><td>1</td></tr><tr><td>U1083</td><td>132572</td><td>1</td></tr><tr><td>U1083</td><td>135049</td><td>0</td></tr><tr><td>U1055</td><td>135106</td><td>1</td></tr><tr><td>U1083</td><td>135072</td><td>0</td></tr><tr><td>U1083</td><td>135074</td><td>1</td></tr><tr><td>U1083</td><td>132755</td><td>1</td></tr><tr><td>U1083</td><td>135044</td><td>0</td></tr><tr><td>U1055</td><td>135048</td><td>1</td></tr><tr><td>U1055</td><td>135047</td><td>1</td></tr><tr><td>U1055</td><td>132754</td><td>1</td></tr><tr><td>U1055</td><td>132825</td><td>1</td></tr><tr><td>U1053</td><td>135076</td><td>0</td></tr><tr><td>U1053</td><td>135032</td><td>1</td></tr><tr><td>U1053</td><td>132825</td><td>0</td></tr><tr><td>U1053</td><td>135063</td><td>1</td></tr><tr><td>U1035</td><td>135018</td><td>0</td></tr><tr><td>U1035</td><td>132773</td><td>1</td></tr><tr><td>U1053</td><td>135042</td><td>1</td></tr><tr><td>U1053</td><td>135053</td><td>1</td></tr><tr><td>U1053</td><td>132754</td><td>0</td></tr><tr><td>U1035</td><td>132583</td><td>0</td></tr><tr><td>U1053</td><td>135081</td><td>1</td></tr><tr><td>U1053</td><td>135025</td><td>1</td></tr><tr><td>U1053</td><td>135038</td><td>1</td></tr><tr><td>U1053</td><td>135060</td><td>1</td></tr><tr><td>U1053</td><td>135062</td><td>1</td></tr><tr><td>U1053</td><td>135047</td><td>1</td></tr><tr><td>U1064</td><td>135042</td><td>0</td></tr><tr><td>U1081</td><td>135069</td><td>0</td></tr><tr><td>U1064</td><td>135057</td><td>0</td></tr><tr><td>U1081</td><td>135076</td><td>0</td></tr><tr><td>U1081</td><td>135043</td><td>0</td></tr><tr><td>U1064</td><td>135069</td><td>0</td></tr><tr><td>U1081</td><td>135039</td><td>0</td></tr><tr><td>U1064</td><td>135060</td><td>0</td></tr><tr><td>U1064</td><td>135052</td><td>1</td></tr><tr><td>U1081</td><td>132825</td><td>0</td></tr><tr><td>U1081</td><td>135032</td><td>0</td></tr><tr><td>U1081</td><td>135028</td><td>0</td></tr><tr><td>U1081</td><td>135085</td><td>0</td></tr><tr><td>U1081</td><td>135052</td><td>0</td></tr><tr><td>U1081</td><td>135030</td><td>0</td></tr><tr><td>U1081</td><td>135027</td><td>0</td></tr><tr><td>U1001</td><td>132830</td><td>0</td></tr><tr><td>U1001</td><td>132825</td><td>1</td></tr><tr><td>U1014</td><td>135076</td><td>0</td></tr><tr><td>U1088</td><td>132830</td><td>0</td></tr><tr><td>U1088</td><td>135108</td><td>1</td></tr><tr><td>U1014</td><td>135069</td><td>0</td></tr><tr><td>U1014</td><td>135050</td><td>1</td></tr><tr><td>U1088</td><td>135057</td><td>0</td></tr><tr><td>U1014</td><td>135081</td><td>1</td></tr><tr><td>U1014</td><td>135057</td><td>0</td></tr><tr><td>U1014</td><td>135070</td><td>1</td></tr><tr><td>U1088</td><td>135041</td><td>1</td></tr><tr><td>U1088</td><td>135069</td><td>0</td></tr><tr><td>U1088</td><td>135082</td><td>1</td></tr><tr><td>U1014</td><td>135043</td><td>0</td></tr><tr><td>U1014</td><td>135042</td><td>0</td></tr><tr><td>U1088</td><td>135071</td><td>0</td></tr><tr><td>U1088</td><td>135054</td><td>1</td></tr><tr><td>U1088</td><td>135070</td><td>1</td></tr><tr><td>U1014</td><td>135066</td><td>1</td></tr><tr><td>U1088</td><td>135032</td><td>1</td></tr><tr><td>U1088</td><td>135081</td><td>0</td></tr><tr><td>U1088</td><td>135051</td><td>1</td></tr><tr><td>U1014</td><td>132830</td><td>1</td></tr><tr><td>U1014</td><td>135082</td><td>0</td></tr><tr><td>U1056</td><td>135066</td><td>1</td></tr><tr><td>U1056</td><td>135050</td><td>0</td></tr><tr><td>U1056</td><td>135076</td><td>1</td></tr><tr><td>U1056</td><td>135081</td><td>1</td></tr><tr><td>U1056</td><td>135062</td><td>1</td></tr><tr><td>U1056</td><td>135027</td><td>1</td></tr><tr><td>U1056</td><td>135085</td><td>1</td></tr><tr><td>U1056</td><td>135052</td><td>1</td></tr><tr><td>U1056</td><td>132825</td><td>1</td></tr><tr><td>U1056</td><td>135051</td><td>1</td></tr><tr><td>U1134</td><td>135047</td><td>0</td></tr><tr><td>U1134</td><td>135026</td><td>0</td></tr><tr><td>U1134</td><td>135044</td><td>0</td></tr><tr><td>U1134</td><td>132825</td><td>0</td></tr><tr><td>U1134</td><td>135059</td><td>1</td></tr><tr><td>U1134</td><td>135065</td><td>1</td></tr><tr><td>U1134</td><td>135046</td><td>1</td></tr><tr><td>U1134</td><td>135085</td><td>1</td></tr><tr><td>U1134</td><td>135079</td><td>0</td></tr><tr><td>U1134</td><td>135055</td><td>1</td></tr><tr><td>U1134</td><td>132754</td><td>1</td></tr><tr><td>U1134</td><td>132572</td><td>0</td></tr><tr><td>U1134</td><td>135075</td><td>1</td></tr><tr><td>U1134</td><td>135080</td><td>0</td></tr><tr><td>U1134</td><td>135064</td><td>1</td></tr><tr><td>U1134</td><td>135074</td><td>1</td></tr><tr><td>U1106</td><td>135041</td><td>0</td></tr><tr><td>U1126</td><td>135069</td><td>0</td></tr><tr><td>U1106</td><td>135032</td><td>0</td></tr><tr><td>U1126</td><td>135057</td><td>1</td></tr><tr><td>U1126</td><td>132830</td><td>0</td></tr><tr><td>U1106</td><td>135028</td><td>1</td></tr><tr><td>U1126</td><td>135040</td><td>0</td></tr><tr><td>U1126</td><td>135106</td><td>1</td></tr><tr><td>U1126</td><td>135052</td><td>1</td></tr><tr><td>U1126</td><td>135041</td><td>1</td></tr><tr><td>U1126</td><td>135038</td><td>0</td></tr><tr><td>U1126</td><td>135054</td><td>0</td></tr><tr><td>U1126</td><td>135108</td><td>1</td></tr><tr><td>U1044</td><td>134986</td><td>1</td></tr><tr><td>U1124</td><td>135054</td><td>0</td></tr><tr><td>U1044</td><td>132768</td><td>1</td></tr><tr><td>U1124</td><td>135108</td><td>0</td></tr><tr><td>U1124</td><td>135032</td><td>0</td></tr><tr><td>U1124</td><td>135071</td><td>0</td></tr><tr><td>U1124</td><td>135070</td><td>0</td></tr><tr><td>U1124</td><td>135069</td><td>0</td></tr><tr><td>U1124</td><td>135081</td><td>0</td></tr><tr><td>U1124</td><td>135057</td><td>0</td></tr><tr><td>U1124</td><td>135039</td><td>0</td></tr><tr><td>U1124</td><td>135050</td><td>0</td></tr><tr><td>U1018</td><td>135043</td><td>0</td></tr><tr><td>U1125</td><td>135043</td><td>0</td></tr><tr><td>U1125</td><td>135081</td><td>0</td></tr><tr><td>U1125</td><td>135076</td><td>0</td></tr><tr><td>U1018</td><td>135082</td><td>1</td></tr><tr><td>U1125</td><td>135050</td><td>1</td></tr><tr><td>U1125</td><td>135066</td><td>0</td></tr><tr><td>U1125</td><td>135032</td><td>0</td></tr><tr><td>U1119</td><td>134986</td><td>1</td></tr><tr><td>U1119</td><td>135021</td><td>0</td></tr><tr><td>U1119</td><td>135001</td><td>1</td></tr><tr><td>U1125</td><td>135042</td><td>0</td></tr><tr><td>U1119</td><td>132583</td><td>1</td></tr><tr><td>U1125</td><td>135063</td><td>0</td></tr><tr><td>U1119</td><td>132768</td><td>1</td></tr><tr><td>U1125</td><td>135060</td><td>0</td></tr><tr><td>U1125</td><td>135038</td><td>1</td></tr><tr><td>U1125</td><td>135062</td><td>0</td></tr><tr><td>U1018</td><td>135081</td><td>0</td></tr><tr><td>U1018</td><td>135057</td><td>0</td></tr><tr><td>U1018</td><td>135066</td><td>0</td></tr><tr><td>U1018</td><td>135032</td><td>0</td></tr><tr><td>U1018</td><td>135062</td><td>0</td></tr><tr><td>U1018</td><td>135025</td><td>0</td></tr><tr><td>U1018</td><td>135069</td><td>0</td></tr><tr><td>U1018</td><td>135108</td><td>0</td></tr><tr><td>U1076</td><td>135039</td><td>1</td></tr><tr><td>U1076</td><td>135038</td><td>0</td></tr><tr><td>U1076</td><td>135027</td><td>0</td></tr><tr><td>U1076</td><td>135042</td><td>1</td></tr><tr><td>U1022</td><td>135040</td><td>0</td></tr><tr><td>U1076</td><td>135073</td><td>1</td></tr><tr><td>U1022</td><td>135033</td><td>0</td></tr><tr><td>U1022</td><td>135025</td><td>0</td></tr><tr><td>U1022</td><td>135032</td><td>0</td></tr><tr><td>U1022</td><td>135057</td><td>1</td></tr><tr><td>U1022</td><td>135060</td><td>0</td></tr><tr><td>U1022</td><td>135052</td><td>1</td></tr><tr><td>U1022</td><td>135038</td><td>1</td></tr><tr><td>U1022</td><td>135081</td><td>0</td></tr><tr><td>U1022</td><td>135045</td><td>1</td></tr><tr><td>U1022</td><td>135051</td><td>1</td></tr><tr><td>U1022</td><td>135073</td><td>1</td></tr><tr><td>U1022</td><td>135062</td><td>0</td></tr><tr><td>U1022</td><td>135063</td><td>1</td></tr><tr><td>U1094</td><td>135054</td><td>0</td></tr><tr><td>U1094</td><td>135082</td><td>0</td></tr><tr><td>U1094</td><td>135057</td><td>0</td></tr><tr><td>U1094</td><td>135071</td><td>0</td></tr><tr><td>U1094</td><td>132830</td><td>0</td></tr><tr><td>U1094</td><td>135070</td><td>0</td></tr><tr><td>U1094</td><td>135108</td><td>0</td></tr><tr><td>U1094</td><td>135069</td><td>0</td></tr><tr><td>U1116</td><td>135047</td><td>1</td></tr><tr><td>U1116</td><td>135060</td><td>0</td></tr><tr><td>U1116</td><td>135038</td><td>1</td></tr><tr><td>U1116</td><td>135085</td><td>1</td></tr><tr><td>U1116</td><td>135052</td><td>1</td></tr><tr><td>U1116</td><td>135025</td><td>1</td></tr><tr><td>U1116</td><td>135059</td><td>0</td></tr><tr><td>U1116</td><td>135027</td><td>0</td></tr><tr><td>U1116</td><td>132825</td><td>1</td></tr><tr><td>U1116</td><td>135030</td><td>0</td></tr><tr><td>U1116</td><td>132834</td><td>1</td></tr><tr><td>U1105</td><td>135057</td><td>0</td></tr><tr><td>U1105</td><td>135069</td><td>0</td></tr><tr><td>U1105</td><td>132830</td><td>0</td></tr><tr><td>U1105</td><td>135040</td><td>0</td></tr><tr><td>U1105</td><td>135033</td><td>0</td></tr><tr><td>U1105</td><td>135054</td><td>0</td></tr><tr><td>U1105</td><td>135039</td><td>0</td></tr><tr><td>U1105</td><td>135052</td><td>0</td></tr><tr><td>U1075</td><td>135081</td><td>0</td></tr><tr><td>U1075</td><td>135066</td><td>1</td></tr><tr><td>U1075</td><td>135050</td><td>1</td></tr><tr><td>U1007</td><td>135108</td><td>0</td></tr><tr><td>U1075</td><td>135076</td><td>1</td></tr><tr><td>U1007</td><td>135057</td><td>0</td></tr><tr><td>U1075</td><td>135032</td><td>0</td></tr><tr><td>U1075</td><td>132834</td><td>0</td></tr><tr><td>U1075</td><td>135057</td><td>1</td></tr><tr><td>U1075</td><td>132830</td><td>0</td></tr><tr><td>U1075</td><td>135062</td><td>0</td></tr><tr><td>U1075</td><td>135039</td><td>1</td></tr><tr><td>U1075</td><td>135051</td><td>0</td></tr><tr><td>U1075</td><td>135041</td><td>0</td></tr><tr><td>U1115</td><td>135057</td><td>1</td></tr><tr><td>U1115</td><td>135082</td><td>1</td></tr><tr><td>U1115</td><td>135054</td><td>0</td></tr><tr><td>U1115</td><td>135108</td><td>0</td></tr><tr><td>U1115</td><td>135069</td><td>0</td></tr><tr><td>U1115</td><td>132830</td><td>1</td></tr><tr><td>U1115</td><td>135070</td><td>0</td></tr><tr><td>U1115</td><td>135071</td><td>1</td></tr><tr><td>U1072</td><td>135000</td><td>0</td></tr><tr><td>U1024</td><td>132834</td><td>0</td></tr><tr><td>U1024</td><td>135106</td><td>0</td></tr><tr><td>U1024</td><td>135042</td><td>0</td></tr><tr><td>U1024</td><td>132825</td><td>0</td></tr><tr><td>U1024</td><td>135060</td><td>0</td></tr><tr><td>U1024</td><td>135032</td><td>1</td></tr><tr><td>U1024</td><td>135039</td><td>1</td></tr><tr><td>U1024</td><td>135045</td><td>1</td></tr><tr><td>U1024</td><td>135027</td><td>0</td></tr><tr><td>U1024</td><td>135073</td><td>0</td></tr><tr><td>U1024</td><td>135051</td><td>0</td></tr><tr><td>U1024</td><td>135041</td><td>0</td></tr><tr><td>U1024</td><td>135038</td><td>0</td></tr><tr><td>U1024</td><td>135028</td><td>0</td></tr><tr><td>U1024</td><td>135030</td><td>0</td></tr><tr><td>U1132</td><td>135038</td><td>0</td></tr><tr><td>U1132</td><td>132825</td><td>1</td></tr><tr><td>U1132</td><td>135085</td><td>1</td></tr><tr><td>U1132</td><td>135062</td><td>1</td></tr><tr><td>U1132</td><td>135025</td><td>0</td></tr><tr><td>U1132</td><td>135052</td><td>1</td></tr><tr><td>U1132</td><td>135028</td><td>1</td></tr><tr><td>U1132</td><td>135032</td><td>0</td></tr><tr><td>U1132</td><td>135051</td><td>0</td></tr><tr><td>U1132</td><td>135027</td><td>1</td></tr><tr><td>U1005</td><td>135050</td><td>0</td></tr><tr><td>U1005</td><td>135076</td><td>1</td></tr><tr><td>U1005</td><td>132830</td><td>0</td></tr><tr><td>U1005</td><td>135066</td><td>1</td></tr><tr><td>U1005</td><td>135041</td><td>0</td></tr><tr><td>U1005</td><td>135057</td><td>0</td></tr><tr><td>U1005</td><td>135043</td><td>0</td></tr><tr><td>U1005</td><td>135042</td><td>1</td></tr><tr><td>U1005</td><td>135032</td><td>1</td></tr><tr><td>U1120</td><td>135085</td><td>0</td></tr><tr><td>U1120</td><td>132845</td><td>0</td></tr><tr><td>U1120</td><td>135032</td><td>0</td></tr><tr><td>U1120</td><td>135045</td><td>0</td></tr><tr><td>U1120</td><td>135038</td><td>0</td></tr><tr><td>U1004</td><td>135060</td><td>0</td></tr><tr><td>U1004</td><td>135028</td><td>1</td></tr><tr><td>U1004</td><td>135106</td><td>1</td></tr><tr><td>U1120</td><td>135057</td><td>1</td></tr><tr><td>U1004</td><td>135062</td><td>1</td></tr><tr><td>U1120</td><td>135026</td><td>0</td></tr><tr><td>U1004</td><td>135032</td><td>1</td></tr><tr><td>U1120</td><td>132846</td><td>1</td></tr><tr><td>U1077</td><td>135027</td><td>0</td></tr><tr><td>U1120</td><td>132847</td><td>1</td></tr><tr><td>U1037</td><td>135054</td><td>1</td></tr><tr><td>U1037</td><td>135082</td><td>0</td></tr><tr><td>U1037</td><td>135070</td><td>0</td></tr><tr><td>U1037</td><td>132845</td><td>0</td></tr><tr><td>U1037</td><td>135108</td><td>1</td></tr><tr><td>U1037</td><td>132847</td><td>0</td></tr><tr><td>U1037</td><td>132830</td><td>1</td></tr><tr><td>U1035</td><td>135000</td><td>1</td></tr><tr><td>U1035</td><td>134996</td><td>1</td></tr><tr><td>U1035</td><td>134986</td><td>1</td></tr><tr><td>U1052</td><td>132851</td><td>0</td></tr><tr><td>U1036</td><td>132834</td><td>0</td></tr><tr><td>U1036</td><td>135064</td><td>1</td></tr><tr><td>U1036</td><td>135079</td><td>1</td></tr><tr><td>U1036</td><td>135042</td><td>1</td></tr><tr><td>U1036</td><td>135085</td><td>1</td></tr><tr><td>U1036</td><td>135025</td><td>1</td></tr><tr><td>U1036</td><td>132825</td><td>1</td></tr><tr><td>U1036</td><td>135059</td><td>1</td></tr><tr><td>U1036</td><td>135052</td><td>1</td></tr><tr><td>U1036</td><td>132754</td><td>1</td></tr><tr><td>U1036</td><td>135065</td><td>0</td></tr><tr><td>U1036</td><td>135045</td><td>1</td></tr><tr><td>U1038</td><td>132854</td><td>0</td></tr><tr><td>U1038</td><td>132856</td><td>0</td></tr><tr><td>U1038</td><td>132858</td><td>0</td></tr><tr><td>U1038</td><td>132861</td><td>0</td></tr><tr><td>U1038</td><td>132862</td><td>1</td></tr><tr><td>U1071</td><td>132862</td><td>1</td></tr><tr><td>U1071</td><td>135063</td><td>1</td></tr><tr><td>U1071</td><td>135052</td><td>1</td></tr><tr><td>U1071</td><td>135060</td><td>0</td></tr><tr><td>U1071</td><td>135042</td><td>1</td></tr><tr><td>U1071</td><td>132825</td><td>1</td></tr><tr><td>U1071</td><td>132856</td><td>1</td></tr><tr><td>U1071</td><td>135032</td><td>1</td></tr><tr><td>U1071</td><td>132834</td><td>0</td></tr><tr><td>U1071</td><td>135039</td><td>1</td></tr><tr><td>U1071</td><td>135028</td><td>1</td></tr><tr><td>U1071</td><td>135025</td><td>1</td></tr><tr><td>U1071</td><td>135030</td><td>1</td></tr><tr><td>U1114</td><td>135053</td><td>0</td></tr><tr><td>U1084</td><td>135058</td><td>0</td></tr><tr><td>U1084</td><td>132862</td><td>1</td></tr><tr><td>U1084</td><td>135072</td><td>1</td></tr><tr><td>U1084</td><td>135030</td><td>1</td></tr><tr><td>U1084</td><td>135026</td><td>1</td></tr><tr><td>U1084</td><td>135035</td><td>1</td></tr><tr><td>U1084</td><td>135045</td><td>1</td></tr><tr><td>U1084</td><td>132861</td><td>1</td></tr><tr><td>U1084</td><td>135085</td><td>1</td></tr><tr><td>U1084</td><td>132723</td><td>0</td></tr><tr><td>U1049</td><td>132825</td><td>0</td></tr><tr><td>U1049</td><td>135041</td><td>0</td></tr><tr><td>U1019</td><td>132830</td><td>0</td></tr><tr><td>U1019</td><td>135076</td><td>0</td></tr><tr><td>U1019</td><td>135038</td><td>0</td></tr><tr><td>U1019</td><td>132856</td><td>0</td></tr><tr><td>U1069</td><td>135070</td><td>0</td></tr><tr><td>U1069</td><td>135082</td><td>0</td></tr><tr><td>U1069</td><td>135108</td><td>0</td></tr><tr><td>U1069</td><td>132858</td><td>0</td></tr><tr><td>U1069</td><td>135069</td><td>0</td></tr><tr><td>U1069</td><td>132846</td><td>0</td></tr><tr><td>U1069</td><td>132845</td><td>0</td></tr><tr><td>U1069</td><td>132851</td><td>0</td></tr><tr><td>U1069</td><td>132847</td><td>0</td></tr><tr><td>U1113</td><td>135038</td><td>0</td></tr><tr><td>U1113</td><td>135057</td><td>1</td></tr><tr><td>U1113</td><td>135085</td><td>0</td></tr><tr><td>U1113</td><td>135032</td><td>0</td></tr><tr><td>U1113</td><td>135079</td><td>0</td></tr><tr><td>U1113</td><td>135046</td><td>1</td></tr><tr><td>U1113</td><td>132856</td><td>0</td></tr><tr><td>U1113</td><td>132854</td><td>0</td></tr><tr><td>U1104</td><td>135039</td><td>0</td></tr><tr><td>U1104</td><td>132825</td><td>0</td></tr><tr><td>U1104</td><td>135085</td><td>1</td></tr><tr><td>U1104</td><td>135030</td><td>1</td></tr><tr><td>U1104</td><td>135062</td><td>0</td></tr><tr><td>U1106</td><td>135047</td><td>0</td></tr><tr><td>U1106</td><td>135052</td><td>0</td></tr><tr><td>U1104</td><td>132834</td><td>0</td></tr><tr><td>U1106</td><td>135106</td><td>0</td></tr><tr><td>U1106</td><td>132754</td><td>1</td></tr><tr><td>U1104</td><td>135052</td><td>0</td></tr><tr><td>U1106</td><td>132856</td><td>0</td></tr><tr><td>U1104</td><td>135032</td><td>1</td></tr><tr><td>U1104</td><td>135025</td><td>1</td></tr><tr><td>U1106</td><td>132834</td><td>1</td></tr><tr><td>U1104</td><td>135047</td><td>0</td></tr><tr><td>U1106</td><td>135042</td><td>1</td></tr><tr><td>U1106</td><td>135039</td><td>1</td></tr><tr><td>U1052</td><td>132866</td><td>1</td></tr><tr><td>U1106</td><td>135066</td><td>1</td></tr><tr><td>U1106</td><td>135085</td><td>1</td></tr><tr><td>U1104</td><td>135033</td><td>0</td></tr><tr><td>U1106</td><td>135062</td><td>1</td></tr><tr><td>U1106</td><td>132862</td><td>1</td></tr><tr><td>U1106</td><td>135030</td><td>1</td></tr><tr><td>U1106</td><td>135079</td><td>1</td></tr><tr><td>U1106</td><td>135064</td><td>1</td></tr><tr><td>U1052</td><td>132869</td><td>1</td></tr><tr><td>U1052</td><td>132870</td><td>0</td></tr><tr><td>U1104</td><td>135041</td><td>0</td></tr><tr><td>U1079</td><td>134986</td><td>1</td></tr><tr><td>U1079</td><td>134976</td><td>0</td></tr><tr><td>U1079</td><td>132768</td><td>1</td></tr><tr><td>U1079</td><td>132766</td><td>0</td></tr><tr><td>U1045</td><td>132825</td><td>1</td></tr><tr><td>U1045</td><td>135064</td><td>0</td></tr><tr><td>U1045</td><td>132856</td><td>0</td></tr><tr><td>U1045</td><td>135085</td><td>1</td></tr><tr><td>U1045</td><td>135032</td><td>0</td></tr><tr><td>U1045</td><td>132834</td><td>0</td></tr><tr><td>U1045</td><td>135052</td><td>0</td></tr><tr><td>U1045</td><td>135060</td><td>1</td></tr><tr><td>U1045</td><td>135051</td><td>1</td></tr><tr><td>U1045</td><td>135041</td><td>0</td></tr><tr><td>U1009</td><td>132754</td><td>0</td></tr><tr><td>U1009</td><td>132862</td><td>1</td></tr><tr><td>U1009</td><td>135060</td><td>0</td></tr><tr><td>U1009</td><td>135059</td><td>1</td></tr><tr><td>U1009</td><td>132834</td><td>1</td></tr><tr><td>U1009</td><td>135058</td><td>0</td></tr><tr><td>U1009</td><td>135038</td><td>1</td></tr><tr><td>U1009</td><td>132825</td><td>0</td></tr><tr><td>U1009</td><td>135052</td><td>1</td></tr><tr><td>U1009</td><td>135063</td><td>0</td></tr><tr><td>U1009</td><td>135079</td><td>0</td></tr><tr><td>U1016</td><td>132834</td><td>1</td></tr><tr><td>U1016</td><td>135042</td><td>0</td></tr><tr><td>U1016</td><td>135032</td><td>1</td></tr><tr><td>U1016</td><td>135106</td><td>1</td></tr><tr><td>U1016</td><td>132856</td><td>1</td></tr><tr><td>U1016</td><td>135045</td><td>1</td></tr><tr><td>U1016</td><td>135060</td><td>1</td></tr><tr><td>U1016</td><td>135066</td><td>1</td></tr><tr><td>U1016</td><td>135085</td><td>1</td></tr><tr><td>U1016</td><td>135052</td><td>1</td></tr><tr><td>U1016</td><td>132862</td><td>1</td></tr><tr><td>U1016</td><td>135051</td><td>1</td></tr><tr><td>U1016</td><td>135062</td><td>1</td></tr><tr><td>U1047</td><td>132875</td><td>0</td></tr><tr><td>U1047</td><td>132877</td><td>0</td></tr><tr><td>U1047</td><td>132884</td><td>0</td></tr><tr><td>U1095</td><td>132872</td><td>0</td></tr><tr><td>U1095</td><td>135034</td><td>1</td></tr><tr><td>U1095</td><td>135058</td><td>0</td></tr><tr><td>U1034</td><td>135086</td><td>0</td></tr><tr><td>U1095</td><td>132861</td><td>0</td></tr><tr><td>U1034</td><td>135049</td><td>0</td></tr><tr><td>U1034</td><td>132723</td><td>0</td></tr><tr><td>U1095</td><td>132723</td><td>1</td></tr><tr><td>U1095</td><td>135086</td><td>0</td></tr><tr><td>U1095</td><td>135055</td><td>1</td></tr><tr><td>U1007</td><td>135058</td><td>0</td></tr><tr><td>U1007</td><td>135085</td><td>0</td></tr><tr><td>U1095</td><td>135064</td><td>0</td></tr><tr><td>U1095</td><td>135035</td><td>1</td></tr><tr><td>U1095</td><td>135072</td><td>1</td></tr><tr><td>U1007</td><td>135025</td><td>0</td></tr><tr><td>U1007</td><td>135032</td><td>0</td></tr><tr><td>U1007</td><td>135086</td><td>0</td></tr><tr><td>U1007</td><td>132572</td><td>0</td></tr><tr><td>U1007</td><td>135038</td><td>0</td></tr><tr><td>U1078</td><td>132885</td><td>0</td></tr><tr><td>U1099</td><td>135076</td><td>0</td></tr><tr><td>U1099</td><td>132834</td><td>1</td></tr><tr><td>U1008</td><td>132866</td><td>0</td></tr><tr><td>U1008</td><td>132858</td><td>0</td></tr><tr><td>U1099</td><td>135043</td><td>1</td></tr><tr><td>U1099</td><td>132885</td><td>0</td></tr><tr><td>U1008</td><td>132854</td><td>1</td></tr><tr><td>U1099</td><td>132872</td><td>0</td></tr><tr><td>U1008</td><td>135108</td><td>0</td></tr><tr><td>U1008</td><td>132851</td><td>0</td></tr><tr><td>U1099</td><td>132856</td><td>0</td></tr><tr><td>U1008</td><td>132869</td><td>0</td></tr><tr><td>U1099</td><td>135066</td><td>0</td></tr><tr><td>U1008</td><td>135069</td><td>0</td></tr><tr><td>U1099</td><td>135038</td><td>0</td></tr><tr><td>U1099</td><td>135060</td><td>1</td></tr><tr><td>U1099</td><td>135045</td><td>0</td></tr><tr><td>U1008</td><td>132846</td><td>0</td></tr><tr><td>U1008</td><td>135054</td><td>0</td></tr><tr><td>U1099</td><td>135042</td><td>0</td></tr><tr><td>U1040</td><td>132773</td><td>0</td></tr><tr><td>U1040</td><td>134999</td><td>0</td></tr><tr><td>U1040</td><td>135013</td><td>1</td></tr><tr><td>U1040</td><td>135019</td><td>0</td></tr><tr><td>U1121</td><td>135021</td><td>0</td></tr><tr><td>U1110</td><td>135021</td><td>0</td></tr><tr><td>U1110</td><td>132767</td><td>1</td></tr><tr><td>U1110</td><td>135013</td><td>1</td></tr><tr><td>U1110</td><td>134999</td><td>1</td></tr><tr><td>U1121</td><td>135019</td><td>1</td></tr><tr><td>U1121</td><td>132767</td><td>1</td></tr><tr><td>U1121</td><td>134999</td><td>1</td></tr><tr><td>U1042</td><td>132768</td><td>1</td></tr><tr><td>U1042</td><td>135021</td><td>0</td></tr><tr><td>U1042</td><td>134996</td><td>1</td></tr><tr><td>U1013</td><td>135079</td><td>0</td></tr><tr><td>U1013</td><td>135072</td><td>1</td></tr><tr><td>U1013</td><td>135085</td><td>0</td></tr><tr><td>U1013</td><td>135076</td><td>0</td></tr><tr><td>U1054</td><td>135062</td><td>1</td></tr><tr><td>U1054</td><td>135060</td><td>1</td></tr><tr><td>U1054</td><td>135039</td><td>1</td></tr><tr><td>U1054</td><td>135052</td><td>1</td></tr><tr><td>U1054</td><td>132856</td><td>1</td></tr><tr><td>U1054</td><td>135051</td><td>1</td></tr><tr><td>U1054</td><td>135025</td><td>1</td></tr><tr><td>U1054</td><td>135041</td><td>1</td></tr><tr><td>U1054</td><td>135038</td><td>1</td></tr><tr><td>U1054</td><td>135032</td><td>0</td></tr><tr><td>U1054</td><td>135045</td><td>1</td></tr><tr><td>U1042</td><td>134986</td><td>1</td></tr><tr><td>U1042</td><td>134992</td><td>0</td></tr><tr><td>U1111</td><td>132845</td><td>1</td></tr><tr><td>U1111</td><td>135071</td><td>1</td></tr><tr><td>U1111</td><td>132858</td><td>0</td></tr><tr><td>U1111</td><td>132854</td><td>1</td></tr><tr><td>U1111</td><td>132877</td><td>0</td></tr><tr><td>U1037</td><td>135071</td><td>0</td></tr><tr><td>U1111</td><td>132851</td><td>1</td></tr><tr><td>U1111</td><td>135108</td><td>1</td></tr><tr><td>U1111</td><td>132869</td><td>0</td></tr><tr><td>U1037</td><td>132869</td><td>0</td></tr><tr><td>U1111</td><td>132870</td><td>0</td></tr><tr><td>U1037</td><td>132851</td><td>1</td></tr><tr><td>U1111</td><td>132847</td><td>0</td></tr><tr><td>U1111</td><td>135082</td><td>0</td></tr><tr><td>U1037</td><td>132854</td><td>0</td></tr><tr><td>U1015</td><td>132845</td><td>0</td></tr><tr><td>U1015</td><td>132866</td><td>0</td></tr><tr><td>U1015</td><td>132870</td><td>0</td></tr><tr><td>U1015</td><td>135054</td><td>0</td></tr><tr><td>U1015</td><td>132869</td><td>1</td></tr><tr><td>U1015</td><td>132851</td><td>0</td></tr><tr><td>U1015</td><td>132877</td><td>0</td></tr><tr><td>U1128</td><td>132872</td><td>0</td></tr><tr><td>U1062</td><td>132872</td><td>0</td></tr><tr><td>U1101</td><td>135039</td><td>0</td></tr><tr><td>U1101</td><td>135027</td><td>1</td></tr><tr><td>U1101</td><td>135073</td><td>0</td></tr><tr><td>U1101</td><td>135106</td><td>0</td></tr><tr><td>U1101</td><td>132856</td><td>0</td></tr><tr><td>U1101</td><td>135032</td><td>1</td></tr><tr><td>U1101</td><td>135038</td><td>1</td></tr><tr><td>U1101</td><td>135051</td><td>1</td></tr><tr><td>U1101</td><td>135052</td><td>1</td></tr><tr><td>U1101</td><td>135041</td><td>0</td></tr><tr><td>U1001</td><td>135085</td><td>0</td></tr><tr><td>U1001</td><td>135040</td><td>0</td></tr><tr><td>U1001</td><td>135039</td><td>0</td></tr><tr><td>U1001</td><td>135045</td><td>0</td></tr><tr><td>U1001</td><td>135033</td><td>0</td></tr><tr><td>U1001</td><td>135025</td><td>1</td></tr><tr><td>U1001</td><td>135051</td><td>0</td></tr><tr><td>U1135</td><td>135085</td><td>0</td></tr><tr><td>U1135</td><td>135106</td><td>0</td></tr><tr><td>U1135</td><td>135052</td><td>0</td></tr><tr><td>U1135</td><td>135041</td><td>0</td></tr><tr><td>U1032</td><td>132872</td><td>0</td></tr><tr><td>U1032</td><td>135058</td><td>1</td></tr><tr><td>U1032</td><td>135079</td><td>1</td></tr><tr><td>U1032</td><td>135085</td><td>0</td></tr><tr><td>U1032</td><td>135042</td><td>0</td></tr><tr><td>U1032</td><td>132856</td><td>0</td></tr><tr><td>U1135</td><td>132825</td><td>0</td></tr><tr><td>U1135</td><td>132834</td><td>0</td></tr><tr><td>U1032</td><td>135038</td><td>0</td></tr><tr><td>U1032</td><td>132834</td><td>0</td></tr><tr><td>U1032</td><td>135060</td><td>0</td></tr><tr><td>U1135</td><td>135058</td><td>0</td></tr><tr><td>U1032</td><td>135032</td><td>0</td></tr><tr><td>U1135</td><td>135063</td><td>0</td></tr><tr><td>U1135</td><td>132856</td><td>0</td></tr><tr><td>U1135</td><td>135045</td><td>0</td></tr><tr><td>U1135</td><td>135028</td><td>0</td></tr><tr><td>U1135</td><td>135032</td><td>0</td></tr><tr><td>U1135</td><td>135042</td><td>0</td></tr><tr><td>U1135</td><td>135060</td><td>0</td></tr><tr><td>U1048</td><td>135049</td><td>0</td></tr><tr><td>U1048</td><td>135026</td><td>1</td></tr><tr><td>U1048</td><td>135034</td><td>1</td></tr><tr><td>U1048</td><td>135048</td><td>0</td></tr><tr><td>U1048</td><td>135065</td><td>1</td></tr><tr><td>U1048</td><td>132755</td><td>1</td></tr><tr><td>U1048</td><td>132723</td><td>1</td></tr><tr><td>U1062</td><td>135085</td><td>0</td></tr><tr><td>U1062</td><td>135053</td><td>0</td></tr><tr><td>U1092</td><td>135071</td><td>0</td></tr><tr><td>U1062</td><td>132825</td><td>0</td></tr><tr><td>U1092</td><td>135085</td><td>0</td></tr><tr><td>U1062</td><td>135052</td><td>0</td></tr><tr><td>U1092</td><td>135046</td><td>0</td></tr><tr><td>U1062</td><td>135062</td><td>0</td></tr><tr><td>U1092</td><td>132572</td><td>0</td></tr><tr><td>U1062</td><td>135038</td><td>0</td></tr><tr><td>U1062</td><td>135045</td><td>0</td></tr><tr><td>U1092</td><td>135025</td><td>1</td></tr><tr><td>U1062</td><td>132834</td><td>0</td></tr><tr><td>U1092</td><td>132723</td><td>0</td></tr><tr><td>U1051</td><td>134996</td><td>0</td></tr><tr><td>U1013</td><td>132875</td><td>1</td></tr><tr><td>U1085</td><td>135043</td><td>1</td></tr><tr><td>U1085</td><td>132885</td><td>0</td></tr><tr><td>U1085</td><td>135050</td><td>1</td></tr><tr><td>U1085</td><td>135076</td><td>1</td></tr><tr><td>U1085</td><td>135081</td><td>1</td></tr><tr><td>U1109</td><td>135028</td><td>1</td></tr><tr><td>U1109</td><td>132856</td><td>0</td></tr><tr><td>U1085</td><td>135042</td><td>0</td></tr><tr><td>U1085</td><td>135059</td><td>1</td></tr><tr><td>U1109</td><td>132825</td><td>1</td></tr><tr><td>U1085</td><td>132872</td><td>0</td></tr><tr><td>U1085</td><td>135055</td><td>1</td></tr><tr><td>U1109</td><td>135032</td><td>1</td></tr><tr><td>U1085</td><td>132825</td><td>1</td></tr><tr><td>U1109</td><td>135063</td><td>1</td></tr><tr><td>U1109</td><td>135042</td><td>1</td></tr><tr><td>U1109</td><td>135058</td><td>1</td></tr><tr><td>U1109</td><td>135085</td><td>1</td></tr><tr><td>U1109</td><td>135038</td><td>1</td></tr><tr><td>U1109</td><td>132872</td><td>0</td></tr><tr><td>U1078</td><td>135081</td><td>0</td></tr><tr><td>U1078</td><td>135060</td><td>1</td></tr><tr><td>U1078</td><td>135106</td><td>1</td></tr><tr><td>U1078</td><td>135041</td><td>1</td></tr><tr><td>U1078</td><td>132834</td><td>0</td></tr><tr><td>U1078</td><td>135052</td><td>1</td></tr><tr><td>U1019</td><td>135079</td><td>0</td></tr><tr><td>U1102</td><td>132846</td><td>1</td></tr><tr><td>U1098</td><td>132885</td><td>0</td></tr><tr><td>U1098</td><td>135060</td><td>1</td></tr><tr><td>U1098</td><td>132856</td><td>0</td></tr><tr><td>U1046</td><td>135026</td><td>0</td></tr><tr><td>U1122</td><td>135066</td><td>1</td></tr><tr><td>U1122</td><td>135065</td><td>1</td></tr><tr><td>U1122</td><td>132872</td><td>1</td></tr><tr><td>U1122</td><td>135058</td><td>1</td></tr><tr><td>U1122</td><td>132834</td><td>1</td></tr><tr><td>U1122</td><td>132754</td><td>1</td></tr><tr><td>U1122</td><td>135079</td><td>1</td></tr><tr><td>U1122</td><td>135038</td><td>1</td></tr><tr><td>U1122</td><td>135085</td><td>1</td></tr><tr><td>U1122</td><td>135030</td><td>1</td></tr><tr><td>U1122</td><td>135064</td><td>0</td></tr><tr><td>U1122</td><td>135053</td><td>1</td></tr><tr><td>U1138</td><td>132921</td><td>1</td></tr><tr><td>U1138</td><td>132922</td><td>1</td></tr><tr><td>U1138</td><td>132925</td><td>0</td></tr><tr><td>U1013</td><td>132921</td><td>1</td></tr><tr><td>U1098</td><td>135085</td><td>0</td></tr><tr><td>U1098</td><td>132825</td><td>0</td></tr><tr><td>U1098</td><td>135079</td><td>1</td></tr><tr><td>U1098</td><td>135032</td><td>1</td></tr><tr><td>U1098</td><td>135038</td><td>0</td></tr><tr><td>U1098</td><td>132861</td><td>1</td></tr><tr><td>U1098</td><td>135046</td><td>0</td></tr><tr><td>U1098</td><td>132862</td><td>0</td></tr><tr><td>U1098</td><td>132921</td><td>0</td></tr><tr><td>U1034</td><td>132884</td><td>0</td></tr><tr><td>U1034</td><td>135055</td><td>0</td></tr><tr><td>U1034</td><td>135035</td><td>0</td></tr><tr><td>U1033</td><td>135065</td><td>0</td></tr><tr><td>U1033</td><td>135028</td><td>1</td></tr><tr><td>U1033</td><td>135085</td><td>1</td></tr><tr><td>U1033</td><td>135046</td><td>1</td></tr><tr><td>U1033</td><td>135045</td><td>1</td></tr><tr><td>U1033</td><td>132951</td><td>1</td></tr><tr><td>U1033</td><td>132572</td><td>0</td></tr><tr><td>U1033</td><td>132921</td><td>1</td></tr><tr><td>U1033</td><td>135075</td><td>1</td></tr><tr><td>U1033</td><td>135038</td><td>0</td></tr><tr><td>U1033</td><td>135030</td><td>1</td></tr><tr><td>U1089</td><td>135058</td><td>0</td></tr><tr><td>U1089</td><td>135064</td><td>0</td></tr><tr><td>U1089</td><td>135028</td><td>0</td></tr><tr><td>U1089</td><td>132951</td><td>0</td></tr><tr><td>U1003</td><td>135064</td><td>0</td></tr><tr><td>U1089</td><td>132921</td><td>0</td></tr><tr><td>U1003</td><td>132825</td><td>1</td></tr><tr><td>U1089</td><td>132754</td><td>0</td></tr><tr><td>U1003</td><td>135075</td><td>1</td></tr><tr><td>U1089</td><td>135026</td><td>0</td></tr><tr><td>U1003</td><td>132862</td><td>0</td></tr><tr><td>U1089</td><td>132872</td><td>0</td></tr><tr><td>U1089</td><td>135085</td><td>0</td></tr><tr><td>U1003</td><td>135041</td><td>0</td></tr><tr><td>U1089</td><td>135072</td><td>0</td></tr><tr><td>U1089</td><td>132834</td><td>0</td></tr><tr><td>U1003</td><td>132937</td><td>1</td></tr><tr><td>U1089</td><td>132875</td><td>0</td></tr><tr><td>U1089</td><td>135038</td><td>0</td></tr><tr><td>U1003</td><td>132922</td><td>1</td></tr><tr><td>U1091</td><td>132825</td><td>0</td></tr><tr><td>U1091</td><td>135075</td><td>1</td></tr><tr><td>U1089</td><td>135079</td><td>0</td></tr><tr><td>U1003</td><td>132723</td><td>1</td></tr><tr><td>U1091</td><td>132861</td><td>0</td></tr><tr><td>U1003</td><td>132755</td><td>1</td></tr><tr><td>U1091</td><td>132875</td><td>0</td></tr><tr><td>U1003</td><td>135080</td><td>1</td></tr><tr><td>U1091</td><td>135086</td><td>0</td></tr><tr><td>U1003</td><td>135079</td><td>1</td></tr><tr><td>U1027</td><td>135066</td><td>0</td></tr><tr><td>U1091</td><td>135080</td><td>0</td></tr><tr><td>U1027</td><td>132921</td><td>0</td></tr><tr><td>U1091</td><td>132572</td><td>1</td></tr><tr><td>U1027</td><td>135052</td><td>0</td></tr><tr><td>U1091</td><td>132884</td><td>1</td></tr><tr><td>U1091</td><td>135035</td><td>0</td></tr><tr><td>U1027</td><td>132937</td><td>0</td></tr><tr><td>U1027</td><td>132951</td><td>0</td></tr><tr><td>U1027</td><td>132925</td><td>0</td></tr><tr><td>U1027</td><td>132872</td><td>0</td></tr><tr><td>U1027</td><td>132875</td><td>0</td></tr><tr><td>U1027</td><td>135085</td><td>0</td></tr><tr><td>U1027</td><td>135042</td><td>0</td></tr><tr><td>U1027</td><td>135062</td><td>0</td></tr><tr><td>U1029</td><td>135047</td><td>0</td></tr><tr><td>U1029</td><td>135059</td><td>1</td></tr><tr><td>U1029</td><td>132937</td><td>0</td></tr><tr><td>U1029</td><td>135085</td><td>0</td></tr><tr><td>U1029</td><td>132834</td><td>0</td></tr><tr><td>U1029</td><td>132754</td><td>0</td></tr><tr><td>U1029</td><td>132825</td><td>0</td></tr><tr><td>U1029</td><td>132921</td><td>0</td></tr><tr><td>U1029</td><td>132862</td><td>0</td></tr><tr><td>U1029</td><td>132922</td><td>0</td></tr><tr><td>U1086</td><td>135063</td><td>0</td></tr><tr><td>U1086</td><td>132921</td><td>0</td></tr><tr><td>U1086</td><td>135085</td><td>1</td></tr><tr><td>U1086</td><td>132922</td><td>1</td></tr><tr><td>U1086</td><td>132937</td><td>1</td></tr><tr><td>U1086</td><td>135045</td><td>1</td></tr><tr><td>U1086</td><td>135041</td><td>1</td></tr><tr><td>U1086</td><td>135060</td><td>0</td></tr><tr><td>U1086</td><td>132951</td><td>0</td></tr><tr><td>U1019</td><td>132921</td><td>0</td></tr><tr><td>U1019</td><td>132834</td><td>0</td></tr><tr><td>U1137</td><td>132951</td><td>1</td></tr><tr><td>U1019</td><td>135062</td><td>0</td></tr><tr><td>U1019</td><td>135086</td><td>0</td></tr><tr><td>U1137</td><td>135085</td><td>1</td></tr><tr><td>U1137</td><td>132834</td><td>1</td></tr><tr><td>U1090</td><td>132572</td><td>0</td></tr><tr><td>U1137</td><td>132862</td><td>1</td></tr><tr><td>U1137</td><td>135058</td><td>0</td></tr><tr><td>U1137</td><td>135059</td><td>1</td></tr><tr><td>U1137</td><td>135062</td><td>1</td></tr><tr><td>U1137</td><td>132825</td><td>1</td></tr><tr><td>U1137</td><td>132723</td><td>1</td></tr><tr><td>U1137</td><td>132755</td><td>1</td></tr><tr><td>U1137</td><td>135042</td><td>1</td></tr><tr><td>U1137</td><td>132884</td><td>1</td></tr><tr><td>U1137</td><td>135049</td><td>1</td></tr><tr><td>U1137</td><td>135075</td><td>1</td></tr><tr><td>U1114</td><td>132825</td><td>0</td></tr><tr><td>U1114</td><td>135065</td><td>0</td></tr><tr><td>U1114</td><td>135058</td><td>0</td></tr><tr><td>U1114</td><td>132723</td><td>0</td></tr><tr><td>U1114</td><td>132951</td><td>0</td></tr><tr><td>U1114</td><td>132872</td><td>0</td></tr><tr><td>U1114</td><td>132834</td><td>0</td></tr><tr><td>U1114</td><td>135072</td><td>0</td></tr><tr><td>U1114</td><td>132754</td><td>0</td></tr><tr><td>U1114</td><td>132755</td><td>0</td></tr><tr><td>U1061</td><td>132825</td><td>0</td></tr><tr><td>U1061</td><td>135048</td><td>1</td></tr><tr><td>U1061</td><td>132921</td><td>0</td></tr><tr><td>U1061</td><td>135026</td><td>1</td></tr><tr><td>U1061</td><td>132723</td><td>1</td></tr><tr><td>U1061</td><td>135075</td><td>1</td></tr><tr><td>U1061</td><td>135034</td><td>1</td></tr><tr><td>U1061</td><td>135041</td><td>1</td></tr><tr><td>U1013</td><td>132572</td><td>0</td></tr><tr><td>U1013</td><td>135075</td><td>1</td></tr><tr><td>U1061</td><td>135046</td><td>0</td></tr><tr><td>U1061</td><td>132572</td><td>0</td></tr><tr><td>U1061</td><td>135058</td><td>0</td></tr><tr><td>U1046</td><td>135044</td><td>0</td></tr><tr><td>U1046</td><td>135065</td><td>1</td></tr><tr><td>U1046</td><td>132921</td><td>1</td></tr><tr><td>U1046</td><td>135085</td><td>0</td></tr><tr><td>U1046</td><td>132572</td><td>0</td></tr><tr><td>U1046</td><td>135058</td><td>1</td></tr><tr><td>U1046</td><td>132951</td><td>0</td></tr><tr><td>U1046</td><td>132861</td><td>0</td></tr><tr><td>U1041</td><td>135001</td><td>0</td></tr><tr><td>U1041</td><td>134983</td><td>1</td></tr><tr><td>U1041</td><td>135021</td><td>1</td></tr><tr><td>U1041</td><td>134992</td><td>1</td></tr><tr><td>U1041</td><td>132768</td><td>1</td></tr><tr><td>U1041</td><td>135109</td><td>0</td></tr><tr><td>U1004</td><td>132954</td><td>1</td></tr><tr><td>U1004</td><td>132955</td><td>1</td></tr><tr><td>U1004</td><td>132958</td><td>1</td></tr><tr><td>U1003</td><td>132754</td><td>1</td></tr><tr><td>U1059</td><td>135064</td><td>0</td></tr><tr><td>U1059</td><td>135075</td><td>1</td></tr><tr><td>U1059</td><td>135028</td><td>0</td></tr><tr><td>U1061</td><td>132834</td><td>0</td></tr><tr><td>U1061</td><td>135086</td><td>0</td></tr><tr><td>U1061</td><td>132754</td><td>1</td></tr><tr><td>U1061</td><td>135080</td><td>1</td></tr><tr><td>U1090</td><td>135062</td><td>1</td></tr><tr><td>U1090</td><td>135052</td><td>1</td></tr><tr><td>U1112</td><td>135047</td><td>0</td></tr><tr><td>U1112</td><td>135026</td><td>0</td></tr><tr><td>U1112</td><td>135064</td><td>0</td></tr><tr><td>U1090</td><td>132862</td><td>1</td></tr><tr><td>U1057</td><td>135070</td><td>0</td></tr><tr><td>U1112</td><td>132954</td><td>0</td></tr><tr><td>U1057</td><td>135043</td><td>0</td></tr><tr><td>U1112</td><td>135079</td><td>0</td></tr><tr><td>U1112</td><td>135062</td><td>0</td></tr><tr><td>U1090</td><td>135051</td><td>0</td></tr><tr><td>U1090</td><td>132954</td><td>1</td></tr><tr><td>U1112</td><td>135048</td><td>0</td></tr><tr><td>U1057</td><td>132954</td><td>0</td></tr><tr><td>U1112</td><td>135086</td><td>0</td></tr><tr><td>U1061</td><td>132955</td><td>1</td></tr><tr><td>U1112</td><td>132921</td><td>0</td></tr><tr><td>U1061</td><td>132958</td><td>1</td></tr><tr><td>U1112</td><td>135046</td><td>0</td></tr><tr><td>U1090</td><td>135085</td><td>1</td></tr><tr><td>U1112</td><td>132572</td><td>0</td></tr><tr><td>U1090</td><td>132922</td><td>1</td></tr><tr><td>U1025</td><td>132866</td><td>1</td></tr><tr><td>U1057</td><td>135080</td><td>0</td></tr><tr><td>U1112</td><td>132834</td><td>0</td></tr><tr><td>U1057</td><td>132825</td><td>0</td></tr><tr><td>U1112</td><td>132862</td><td>0</td></tr><tr><td>U1061</td><td>132954</td><td>1</td></tr><tr><td>U1025</td><td>132877</td><td>0</td></tr><tr><td>U1057</td><td>135064</td><td>0</td></tr><tr><td>U1057</td><td>135046</td><td>0</td></tr><tr><td>U1090</td><td>135025</td><td>1</td></tr><tr><td>U1090</td><td>132925</td><td>1</td></tr><tr><td>U1057</td><td>132862</td><td>0</td></tr><tr><td>U1057</td><td>135075</td><td>0</td></tr><tr><td>U1025</td><td>132847</td><td>1</td></tr><tr><td>U1057</td><td>135030</td><td>0</td></tr><tr><td>U1025</td><td>135071</td><td>1</td></tr><tr><td>U1057</td><td>132834</td><td>0</td></tr><tr><td>U1025</td><td>132958</td><td>0</td></tr><tr><td>U1025</td><td>132825</td><td>0</td></tr><tr><td>U1025</td><td>135028</td><td>1</td></tr><tr><td>U1025</td><td>135047</td><td>0</td></tr><tr><td>U1025</td><td>132846</td><td>1</td></tr><tr><td>U1025</td><td>135064</td><td>1</td></tr><tr><td>U1025</td><td>132830</td><td>1</td></tr><tr><td>U1097</td><td>135079</td><td>1</td></tr><tr><td>U1097</td><td>135058</td><td>1</td></tr><tr><td>U1097</td><td>132954</td><td>0</td></tr><tr><td>U1097</td><td>132958</td><td>1</td></tr><tr><td>U1097</td><td>135026</td><td>0</td></tr><tr><td>U1059</td><td>132955</td><td>1</td></tr><tr><td>U1059</td><td>135044</td><td>1</td></tr><tr><td>U1059</td><td>132862</td><td>0</td></tr><tr><td>U1059</td><td>135085</td><td>1</td></tr></tbody></table>Showing the first 1000 rows.</div>"
            ]
          },
          "metadata": {
            "tags": []
          }
        }
      ]
    },
    {
      "cell_type": "markdown",
      "metadata": {
        "id": "VuW4sU82wxW0"
      },
      "source": [
        "4. Formattez la table `user` afin que les colonnes soient du type adéquat"
      ]
    },
    {
      "cell_type": "code",
      "metadata": {
        "id": "KugkF5N_EyW8",
        "outputId": "6e210c44-1373-4c73-a19a-b51dae1ef940"
      },
      "source": [
        "display(user.head(3))"
      ],
      "execution_count": null,
      "outputs": [
        {
          "output_type": "display_data",
          "data": {
            "text/html": [
              "<style scoped>\n",
              "  .table-result-container {\n",
              "    max-height: 300px;\n",
              "    overflow: auto;\n",
              "  }\n",
              "  table, th, td {\n",
              "    border: 1px solid black;\n",
              "    border-collapse: collapse;\n",
              "  }\n",
              "  th, td {\n",
              "    padding: 5px;\n",
              "  }\n",
              "  th {\n",
              "    text-align: left;\n",
              "  }\n",
              "</style><div class='table-result-container'><table class='table-result'><thead style='background-color: white'><tr><th>userID</th><th>latitude</th><th>longitude</th><th>smoker</th><th>drink_level</th><th>dress_preference</th><th>ambience</th><th>transport</th><th>marital_status</th><th>hijos</th><th>birth_year</th><th>interest</th><th>personality</th><th>religion</th><th>activity</th><th>color</th><th>weight</th><th>budget</th><th>height</th></tr></thead><tbody><tr><td>U1001</td><td>22.139997</td><td>-100.978803</td><td>false</td><td>abstemious</td><td>informal</td><td>family</td><td>on foot</td><td>single</td><td>independent</td><td>1989</td><td>variety</td><td>thrifty-protector</td><td>none</td><td>student</td><td>black</td><td>69</td><td>medium</td><td>1.77</td></tr><tr><td>U1002</td><td>22.150087</td><td>-100.983325</td><td>false</td><td>abstemious</td><td>informal</td><td>family</td><td>public</td><td>single</td><td>independent</td><td>1990</td><td>technology</td><td>hunter-ostentatious</td><td>Catholic</td><td>student</td><td>red</td><td>40</td><td>low</td><td>1.87</td></tr><tr><td>U1003</td><td>22.119847</td><td>-100.946527</td><td>false</td><td>social drinker</td><td>formal</td><td>family</td><td>public</td><td>single</td><td>independent</td><td>1989</td><td>none</td><td>hard-worker</td><td>Catholic</td><td>student</td><td>blue</td><td>60</td><td>low</td><td>1.69</td></tr></tbody></table></div>"
            ]
          },
          "metadata": {
            "tags": []
          }
        }
      ]
    },
    {
      "cell_type": "code",
      "metadata": {
        "id": "YXELVv9rEyXB",
        "outputId": "e8e1e6db-b6b9-4acb-ce05-979ff6a126a9"
      },
      "source": [
        "user.printSchema()"
      ],
      "execution_count": null,
      "outputs": [
        {
          "output_type": "display_data",
          "data": {
            "text/html": [
              "<style scoped>\n",
              "  .ansiout {\n",
              "    display: block;\n",
              "    unicode-bidi: embed;\n",
              "    white-space: pre-wrap;\n",
              "    word-wrap: break-word;\n",
              "    word-break: break-all;\n",
              "    font-family: \"Source Code Pro\", \"Menlo\", monospace;;\n",
              "    font-size: 13px;\n",
              "    color: #555;\n",
              "    margin-left: 4px;\n",
              "    line-height: 19px;\n",
              "  }\n",
              "</style>\n",
              "<div class=\"ansiout\">root\n",
              "-- userID: string (nullable = true)\n",
              "-- latitude: string (nullable = true)\n",
              "-- longitude: string (nullable = true)\n",
              "-- smoker: string (nullable = true)\n",
              "-- drink_level: string (nullable = true)\n",
              "-- dress_preference: string (nullable = true)\n",
              "-- ambience: string (nullable = true)\n",
              "-- transport: string (nullable = true)\n",
              "-- marital_status: string (nullable = true)\n",
              "-- hijos: string (nullable = true)\n",
              "-- birth_year: string (nullable = true)\n",
              "-- interest: string (nullable = true)\n",
              "-- personality: string (nullable = true)\n",
              "-- religion: string (nullable = true)\n",
              "-- activity: string (nullable = true)\n",
              "-- color: string (nullable = true)\n",
              "-- weight: string (nullable = true)\n",
              "-- budget: string (nullable = true)\n",
              "-- height: string (nullable = true)\n",
              "\n",
              "</div>"
            ]
          },
          "metadata": {
            "tags": []
          }
        }
      ]
    },
    {
      "cell_type": "code",
      "metadata": {
        "id": "fecYPk5bEyXF"
      },
      "source": [
        ""
      ],
      "execution_count": null,
      "outputs": []
    },
    {
      "cell_type": "code",
      "metadata": {
        "id": "BUFf5uP9sMNk",
        "outputId": "7e5a601c-c9f9-492d-8ad6-c2c4fc24a800"
      },
      "source": [
        "from pyspark.sql.types import *\n",
        "\n",
        "user_cleaned = user.select(\n",
        "  F.col(\"userID\"),\n",
        "  #F.col(\"latitude\"),\n",
        "  #F.col(\"longitude\"),\n",
        "  F.col(\"smoker\"),\n",
        "  F.col(\"drink_level\"),\n",
        "  F.col(\"dress_preference\"),\n",
        "  F.col(\"ambience\"),\n",
        "  F.col(\"transport\"),\n",
        "  F.col(\"marital_status\"),\n",
        "  F.col(\"hijos\"),\n",
        "  F.col(\"birth_year\").cast(IntegerType()),\n",
        "  F.col(\"interest\"),\n",
        "  F.col(\"personality\"),\n",
        "  F.col(\"religion\"),\n",
        "  F.col(\"activity\"),\n",
        "  F.col(\"color\"),\n",
        "  F.col(\"weight\").cast(FloatType()),\n",
        "  F.col(\"budget\"),\n",
        "  F.col(\"height\").cast(FloatType()),\n",
        ")\n",
        "\n",
        "display(user_cleaned)"
      ],
      "execution_count": null,
      "outputs": [
        {
          "output_type": "display_data",
          "data": {
            "text/html": [
              "<style scoped>\n",
              "  .table-result-container {\n",
              "    max-height: 300px;\n",
              "    overflow: auto;\n",
              "  }\n",
              "  table, th, td {\n",
              "    border: 1px solid black;\n",
              "    border-collapse: collapse;\n",
              "  }\n",
              "  th, td {\n",
              "    padding: 5px;\n",
              "  }\n",
              "  th {\n",
              "    text-align: left;\n",
              "  }\n",
              "</style><div class='table-result-container'><table class='table-result'><thead style='background-color: white'><tr><th>userID</th><th>smoker</th><th>drink_level</th><th>dress_preference</th><th>ambience</th><th>transport</th><th>marital_status</th><th>hijos</th><th>birth_year</th><th>interest</th><th>personality</th><th>religion</th><th>activity</th><th>color</th><th>weight</th><th>budget</th><th>height</th></tr></thead><tbody><tr><td>U1001</td><td>false</td><td>abstemious</td><td>informal</td><td>family</td><td>on foot</td><td>single</td><td>independent</td><td>1989</td><td>variety</td><td>thrifty-protector</td><td>none</td><td>student</td><td>black</td><td>69.0</td><td>medium</td><td>1.77</td></tr><tr><td>U1002</td><td>false</td><td>abstemious</td><td>informal</td><td>family</td><td>public</td><td>single</td><td>independent</td><td>1990</td><td>technology</td><td>hunter-ostentatious</td><td>Catholic</td><td>student</td><td>red</td><td>40.0</td><td>low</td><td>1.87</td></tr><tr><td>U1003</td><td>false</td><td>social drinker</td><td>formal</td><td>family</td><td>public</td><td>single</td><td>independent</td><td>1989</td><td>none</td><td>hard-worker</td><td>Catholic</td><td>student</td><td>blue</td><td>60.0</td><td>low</td><td>1.69</td></tr><tr><td>U1004</td><td>false</td><td>abstemious</td><td>informal</td><td>family</td><td>public</td><td>single</td><td>independent</td><td>1940</td><td>variety</td><td>hard-worker</td><td>none</td><td>professional</td><td>green</td><td>44.0</td><td>medium</td><td>1.53</td></tr><tr><td>U1005</td><td>false</td><td>abstemious</td><td>no preference</td><td>family</td><td>public</td><td>single</td><td>independent</td><td>1992</td><td>none</td><td>thrifty-protector</td><td>Catholic</td><td>student</td><td>black</td><td>65.0</td><td>medium</td><td>1.69</td></tr><tr><td>U1006</td><td>true</td><td>social drinker</td><td>no preference</td><td>friends</td><td>car owner</td><td>single</td><td>independent</td><td>1989</td><td>variety</td><td>hard-worker</td><td>none</td><td>student</td><td>blue</td><td>75.0</td><td>medium</td><td>1.8</td></tr><tr><td>U1007</td><td>false</td><td>casual drinker</td><td>informal</td><td>solitary</td><td>public</td><td>single</td><td>independent</td><td>1989</td><td>variety</td><td>thrifty-protector</td><td>Catholic</td><td>student</td><td>purple</td><td>60.0</td><td>low</td><td>1.59</td></tr><tr><td>U1008</td><td>false</td><td>social drinker</td><td>formal</td><td>solitary</td><td>public</td><td>single</td><td>independent</td><td>1989</td><td>technology</td><td>hard-worker</td><td>Catholic</td><td>student</td><td>green</td><td>68.0</td><td>low</td><td>1.72</td></tr><tr><td>U1009</td><td>false</td><td>abstemious</td><td>formal</td><td>family</td><td>on foot</td><td>single</td><td>kids</td><td>1991</td><td>variety</td><td>thrifty-protector</td><td>Catholic</td><td>student</td><td>green</td><td>75.0</td><td>medium</td><td>1.78</td></tr><tr><td>U1010</td><td>false</td><td>social drinker</td><td>no preference</td><td>friends</td><td>car owner</td><td>married</td><td>kids</td><td>1987</td><td>technology</td><td>hard-worker</td><td>none</td><td>student</td><td>green</td><td>40.0</td><td>medium</td><td>1.67</td></tr><tr><td>U1011</td><td>false</td><td>abstemious</td><td>no preference</td><td>family</td><td>public</td><td>single</td><td>independent</td><td>1989</td><td>variety</td><td>hard-worker</td><td>Catholic</td><td>student</td><td>purple</td><td>68.0</td><td>medium</td><td>1.78</td></tr><tr><td>U1012</td><td>false</td><td>casual drinker</td><td>formal</td><td>family</td><td>public</td><td>single</td><td>independent</td><td>1988</td><td>technology</td><td>hard-worker</td><td>Catholic</td><td>student</td><td>red</td><td>98.0</td><td>medium</td><td>1.84</td></tr><tr><td>U1013</td><td>false</td><td>abstemious</td><td>no preference</td><td>friends</td><td>public</td><td>widow</td><td>independent</td><td>1982</td><td>retro</td><td>thrifty-protector</td><td>none</td><td>professional</td><td>blue</td><td>80.0</td><td>medium</td><td>1.75</td></tr><tr><td>U1014</td><td>false</td><td>abstemious</td><td>?</td><td>friends</td><td>public</td><td>single</td><td>independent</td><td>1990</td><td>none</td><td>hard-worker</td><td>Catholic</td><td>student</td><td>blue</td><td>53.0</td><td>medium</td><td>1.69</td></tr><tr><td>U1015</td><td>true</td><td>social drinker</td><td>informal</td><td>family</td><td>public</td><td>single</td><td>independent</td><td>1989</td><td>technology</td><td>thrifty-protector</td><td>Catholic</td><td>student</td><td>black</td><td>87.0</td><td>medium</td><td>1.67</td></tr><tr><td>U1016</td><td>false</td><td>casual drinker</td><td>informal</td><td>friends</td><td>on foot</td><td>single</td><td>independent</td><td>1991</td><td>eco-friendly</td><td>thrifty-protector</td><td>Catholic</td><td>student</td><td>green</td><td>70.0</td><td>medium</td><td>1.67</td></tr><tr><td>U1017</td><td>false</td><td>casual drinker</td><td>formal</td><td>family</td><td>public</td><td>single</td><td>?</td><td>1991</td><td>retro</td><td>hunter-ostentatious</td><td>none</td><td>professional</td><td>orange</td><td>79.0</td><td>medium</td><td>1.79</td></tr><tr><td>U1018</td><td>true</td><td>casual drinker</td><td>formal</td><td>friends</td><td>public</td><td>single</td><td>independent</td><td>1989</td><td>technology</td><td>thrifty-protector</td><td>Christian</td><td>student</td><td>blue</td><td>65.0</td><td>low</td><td>1.83</td></tr><tr><td>U1019</td><td>false</td><td>casual drinker</td><td>no preference</td><td>family</td><td>public</td><td>single</td><td>independent</td><td>1989</td><td>variety</td><td>thrifty-protector</td><td>Catholic</td><td>student</td><td>purple</td><td>59.0</td><td>medium</td><td>1.6</td></tr><tr><td>U1020</td><td>false</td><td>abstemious</td><td>no preference</td><td>friends</td><td>public</td><td>single</td><td>independent</td><td>1982</td><td>technology</td><td>hard-worker</td><td>Catholic</td><td>professional</td><td>blue</td><td>40.0</td><td>medium</td><td>1.68</td></tr><tr><td>U1021</td><td>false</td><td>social drinker</td><td>no preference</td><td>family</td><td>car owner</td><td>single</td><td>dependent</td><td>1984</td><td>none</td><td>hard-worker</td><td>Catholic</td><td>student</td><td>purple</td><td>108.0</td><td>medium</td><td>1.62</td></tr><tr><td>U1022</td><td>false</td><td>casual drinker</td><td>formal</td><td>family</td><td>car owner</td><td>single</td><td>independent</td><td>1990</td><td>variety</td><td>hard-worker</td><td>Catholic</td><td>student</td><td>purple</td><td>46.0</td><td>medium</td><td>1.54</td></tr><tr><td>U1023</td><td>false</td><td>casual drinker</td><td>informal</td><td>friends</td><td>car owner</td><td>single</td><td>independent</td><td>1988</td><td>none</td><td>hard-worker</td><td>Catholic</td><td>student</td><td>blue</td><td>103.0</td><td>low</td><td>1.79</td></tr><tr><td>U1024</td><td>?</td><td>abstemious</td><td>?</td><td>?</td><td>?</td><td>?</td><td>?</td><td>1930</td><td>none</td><td>hard-worker</td><td>none</td><td>?</td><td>yellow</td><td>40.0</td><td>?</td><td>1.2</td></tr><tr><td>U1025</td><td>false</td><td>social drinker</td><td>no preference</td><td>family</td><td>public</td><td>single</td><td>?</td><td>1990</td><td>none</td><td>thrifty-protector</td><td>Catholic</td><td>student</td><td>red</td><td>65.0</td><td>medium</td><td>1.79</td></tr><tr><td>U1026</td><td>false</td><td>abstemious</td><td>formal</td><td>family</td><td>public</td><td>single</td><td>independent</td><td>1989</td><td>technology</td><td>hunter-ostentatious</td><td>Catholic</td><td>student</td><td>red</td><td>49.0</td><td>medium</td><td>1.55</td></tr><tr><td>U1027</td><td>true</td><td>social drinker</td><td>no preference</td><td>?</td><td>public</td><td>single</td><td>independent</td><td>1989</td><td>retro</td><td>thrifty-protector</td><td>Catholic</td><td>student</td><td>purple</td><td>60.0</td><td>low</td><td>1.65</td></tr><tr><td>U1028</td><td>false</td><td>abstemious</td><td>no preference</td><td>family</td><td>public</td><td>single</td><td>independent</td><td>1989</td><td>variety</td><td>hard-worker</td><td>Christian</td><td>student</td><td>blue</td><td>77.0</td><td>medium</td><td>1.63</td></tr><tr><td>U1029</td><td>true</td><td>casual drinker</td><td>formal</td><td>family</td><td>public</td><td>single</td><td>independent</td><td>1990</td><td>variety</td><td>conformist</td><td>Catholic</td><td>student</td><td>white</td><td>58.0</td><td>low</td><td>1.6</td></tr><tr><td>U1030</td><td>false</td><td>casual drinker</td><td>formal</td><td>family</td><td>on foot</td><td>single</td><td>independent</td><td>1991</td><td>eco-friendly</td><td>hard-worker</td><td>Catholic</td><td>student</td><td>black</td><td>64.0</td><td>medium</td><td>1.75</td></tr><tr><td>U1031</td><td>false</td><td>abstemious</td><td>informal</td><td>solitary</td><td>?</td><td>married</td><td>kids</td><td>1992</td><td>none</td><td>hard-worker</td><td>Catholic</td><td>unemployed</td><td>white</td><td>40.0</td><td>medium</td><td>1.6</td></tr><tr><td>U1032</td><td>false</td><td>abstemious</td><td>formal</td><td>family</td><td>public</td><td>single</td><td>independent</td><td>1989</td><td>variety</td><td>hard-worker</td><td>Catholic</td><td>student</td><td>blue</td><td>40.0</td><td>medium</td><td>1.75</td></tr><tr><td>U1033</td><td>false</td><td>social drinker</td><td>no preference</td><td>family</td><td>on foot</td><td>single</td><td>?</td><td>1991</td><td>none</td><td>hard-worker</td><td>none</td><td>student</td><td>yellow</td><td>54.0</td><td>low</td><td>1.6</td></tr><tr><td>U1034</td><td>false</td><td>casual drinker</td><td>informal</td><td>family</td><td>public</td><td>single</td><td>independent</td><td>1990</td><td>technology</td><td>thrifty-protector</td><td>Catholic</td><td>student</td><td>yellow</td><td>50.0</td><td>medium</td><td>1.58</td></tr><tr><td>U1035</td><td>true</td><td>casual drinker</td><td>no preference</td><td>friends</td><td>car owner</td><td>single</td><td>independent</td><td>1985</td><td>variety</td><td>hunter-ostentatious</td><td>none</td><td>student</td><td>red</td><td>69.0</td><td>medium</td><td>1.75</td></tr><tr><td>U1036</td><td>false</td><td>social drinker</td><td>informal</td><td>family</td><td>public</td><td>single</td><td>independent</td><td>1991</td><td>none</td><td>hard-worker</td><td>Catholic</td><td>student</td><td>blue</td><td>76.0</td><td>medium</td><td>1.7</td></tr><tr><td>U1037</td><td>false</td><td>social drinker</td><td>no preference</td><td>family</td><td>public</td><td>single</td><td>independent</td><td>1990</td><td>variety</td><td>thrifty-protector</td><td>Catholic</td><td>student</td><td>blue</td><td>52.0</td><td>low</td><td>1.5</td></tr><tr><td>U1038</td><td>true</td><td>social drinker</td><td>no preference</td><td>family</td><td>public</td><td>single</td><td>independent</td><td>1930</td><td>variety</td><td>thrifty-protector</td><td>Catholic</td><td>student</td><td>blue</td><td>97.0</td><td>low</td><td>1.83</td></tr><tr><td>U1039</td><td>false</td><td>social drinker</td><td>no preference</td><td>friends</td><td>?</td><td>single</td><td>independent</td><td>1989</td><td>none</td><td>hard-worker</td><td>none</td><td>student</td><td>yellow</td><td>83.0</td><td>medium</td><td>1.73</td></tr><tr><td>U1040</td><td>false</td><td>abstemious</td><td>no preference</td><td>friends</td><td>public</td><td>single</td><td>independent</td><td>1994</td><td>none</td><td>thrifty-protector</td><td>Catholic</td><td>student</td><td>blue</td><td>73.0</td><td>medium</td><td>1.64</td></tr><tr><td>U1041</td><td>false</td><td>abstemious</td><td>no preference</td><td>friends</td><td>on foot</td><td>single</td><td>independent</td><td>1985</td><td>eco-friendly</td><td>hunter-ostentatious</td><td>Catholic</td><td>professional</td><td>white</td><td>40.0</td><td>medium</td><td>1.62</td></tr><tr><td>U1042</td><td>false</td><td>abstemious</td><td>no preference</td><td>family</td><td>car owner</td><td>single</td><td>independent</td><td>1943</td><td>technology</td><td>thrifty-protector</td><td>Christian</td><td>student</td><td>yellow</td><td>40.0</td><td>high</td><td>1.4</td></tr><tr><td>U1043</td><td>false</td><td>abstemious</td><td>no preference</td><td>solitary</td><td>public</td><td>single</td><td>independent</td><td>1989</td><td>technology</td><td>hard-worker</td><td>none</td><td>student</td><td>white</td><td>60.0</td><td>medium</td><td>1.64</td></tr><tr><td>U1044</td><td>true</td><td>social drinker</td><td>informal</td><td>family</td><td>car owner</td><td>married</td><td>kids</td><td>1969</td><td>variety</td><td>thrifty-protector</td><td>Catholic</td><td>professional</td><td>orange</td><td>85.0</td><td>medium</td><td>1.73</td></tr><tr><td>U1045</td><td>false</td><td>casual drinker</td><td>elegant</td><td>friends</td><td>car owner</td><td>single</td><td>independent</td><td>1991</td><td>technology</td><td>thrifty-protector</td><td>Mormon</td><td>student</td><td>orange</td><td>68.0</td><td>high</td><td>1.6</td></tr><tr><td>U1046</td><td>false</td><td>social drinker</td><td>no preference</td><td>friends</td><td>car owner</td><td>single</td><td>independent</td><td>1990</td><td>retro</td><td>hard-worker</td><td>Catholic</td><td>student</td><td>black</td><td>82.0</td><td>medium</td><td>1.84</td></tr><tr><td>U1047</td><td>false</td><td>abstemious</td><td>no preference</td><td>family</td><td>public</td><td>single</td><td>independent</td><td>1992</td><td>retro</td><td>thrifty-protector</td><td>Catholic</td><td>student</td><td>purple</td><td>60.0</td><td>medium</td><td>1.63</td></tr><tr><td>U1048</td><td>true</td><td>casual drinker</td><td>no preference</td><td>?</td><td>public</td><td>single</td><td>independent</td><td>1988</td><td>eco-friendly</td><td>thrifty-protector</td><td>none</td><td>student</td><td>green</td><td>65.0</td><td>medium</td><td>1.7</td></tr><tr><td>U1049</td><td>false</td><td>casual drinker</td><td>informal</td><td>solitary</td><td>public</td><td>single</td><td>?</td><td>1991</td><td>none</td><td>hard-worker</td><td>none</td><td>student</td><td>blue</td><td>55.0</td><td>?</td><td>1.6</td></tr><tr><td>U1050</td><td>false</td><td>social drinker</td><td>no preference</td><td>family</td><td>car owner</td><td>single</td><td>independent</td><td>1989</td><td>variety</td><td>hard-worker</td><td>none</td><td>student</td><td>green</td><td>73.0</td><td>medium</td><td>1.71</td></tr><tr><td>U1051</td><td>false</td><td>casual drinker</td><td>no preference</td><td>family</td><td>public</td><td>single</td><td>independent</td><td>1979</td><td>variety</td><td>thrifty-protector</td><td>none</td><td>professional</td><td>blue</td><td>74.0</td><td>medium</td><td>1.76</td></tr><tr><td>U1052</td><td>true</td><td>social drinker</td><td>no preference</td><td>family</td><td>on foot</td><td>single</td><td>independent</td><td>1990</td><td>none</td><td>conformist</td><td>Catholic</td><td>student</td><td>blue</td><td>85.0</td><td>low</td><td>1.8</td></tr><tr><td>U1053</td><td>false</td><td>casual drinker</td><td>informal</td><td>family</td><td>public</td><td>single</td><td>independent</td><td>1990</td><td>variety</td><td>thrifty-protector</td><td>Catholic</td><td>student</td><td>red</td><td>66.0</td><td>low</td><td>1.72</td></tr><tr><td>U1054</td><td>false</td><td>social drinker</td><td>formal</td><td>family</td><td>public</td><td>single</td><td>independent</td><td>1992</td><td>technology</td><td>thrifty-protector</td><td>Catholic</td><td>student</td><td>blue</td><td>59.0</td><td>medium</td><td>1.7</td></tr><tr><td>U1055</td><td>false</td><td>abstemious</td><td>no preference</td><td>family</td><td>car owner</td><td>married</td><td>dependent</td><td>1952</td><td>none</td><td>hard-worker</td><td>Catholic</td><td>professional</td><td>blue</td><td>70.0</td><td>medium</td><td>1.66</td></tr><tr><td>U1056</td><td>false</td><td>social drinker</td><td>informal</td><td>family</td><td>on foot</td><td>single</td><td>independent</td><td>1930</td><td>none</td><td>hard-worker</td><td>Catholic</td><td>student</td><td>yellow</td><td>61.0</td><td>medium</td><td>1.62</td></tr><tr><td>U1057</td><td>true</td><td>casual drinker</td><td>formal</td><td>friends</td><td>public</td><td>single</td><td>independent</td><td>1989</td><td>technology</td><td>hunter-ostentatious</td><td>Catholic</td><td>student</td><td>yellow</td><td>69.0</td><td>medium</td><td>1.83</td></tr><tr><td>U1058</td><td>false</td><td>abstemious</td><td>formal</td><td>family</td><td>public</td><td>single</td><td>independent</td><td>1991</td><td>variety</td><td>hard-worker</td><td>Catholic</td><td>student</td><td>red</td><td>74.0</td><td>low</td><td>1.78</td></tr><tr><td>U1059</td><td>false</td><td>abstemious</td><td>formal</td><td>friends</td><td>on foot</td><td>single</td><td>independent</td><td>1987</td><td>technology</td><td>thrifty-protector</td><td>Catholic</td><td>student</td><td>blue</td><td>57.0</td><td>medium</td><td>1.69</td></tr><tr><td>U1060</td><td>false</td><td>casual drinker</td><td>formal</td><td>family</td><td>public</td><td>single</td><td>independent</td><td>1991</td><td>technology</td><td>thrifty-protector</td><td>Catholic</td><td>student</td><td>blue</td><td>82.0</td><td>medium</td><td>1.84</td></tr><tr><td>U1061</td><td>false</td><td>social drinker</td><td>no preference</td><td>friends</td><td>car owner</td><td>single</td><td>independent</td><td>1990</td><td>none</td><td>hard-worker</td><td>Catholic</td><td>professional</td><td>blue</td><td>40.0</td><td>medium</td><td>1.76</td></tr><tr><td>U1062</td><td>false</td><td>casual drinker</td><td>informal</td><td>friends</td><td>car owner</td><td>single</td><td>independent</td><td>1985</td><td>variety</td><td>hard-worker</td><td>Catholic</td><td>student</td><td>yellow</td><td>88.0</td><td>medium</td><td>1.68</td></tr><tr><td>U1063</td><td>false</td><td>casual drinker</td><td>formal</td><td>family</td><td>public</td><td>single</td><td>independent</td><td>1988</td><td>eco-friendly</td><td>conformist</td><td>Catholic</td><td>student</td><td>red</td><td>80.0</td><td>medium</td><td>1.78</td></tr><tr><td>U1064</td><td>false</td><td>casual drinker</td><td>formal</td><td>solitary</td><td>public</td><td>single</td><td>independent</td><td>1991</td><td>variety</td><td>hunter-ostentatious</td><td>none</td><td>student</td><td>blue</td><td>94.0</td><td>medium</td><td>1.77</td></tr><tr><td>U1065</td><td>false</td><td>abstemious</td><td>formal</td><td>friends</td><td>public</td><td>single</td><td>independent</td><td>1989</td><td>technology</td><td>conformist</td><td>Catholic</td><td>student</td><td>green</td><td>55.0</td><td>medium</td><td>1.72</td></tr><tr><td>U1066</td><td>false</td><td>abstemious</td><td>informal</td><td>solitary</td><td>public</td><td>single</td><td>?</td><td>1986</td><td>technology</td><td>thrifty-protector</td><td>Catholic</td><td>student</td><td>green</td><td>45.0</td><td>low</td><td>1.45</td></tr><tr><td>U1067</td><td>false</td><td>abstemious</td><td>no preference</td><td>family</td><td>public</td><td>single</td><td>independent</td><td>1987</td><td>technology</td><td>thrifty-protector</td><td>Christian</td><td>student</td><td>green</td><td>92.0</td><td>medium</td><td>1.73</td></tr><tr><td>U1068</td><td>false</td><td>casual drinker</td><td>informal</td><td>friends</td><td>public</td><td>single</td><td>independent</td><td>1988</td><td>technology</td><td>thrifty-protector</td><td>Catholic</td><td>student</td><td>blue</td><td>72.0</td><td>low</td><td>1.57</td></tr><tr><td>U1069</td><td>false</td><td>social drinker</td><td>no preference</td><td>family</td><td>public</td><td>single</td><td>independent</td><td>1983</td><td>variety</td><td>thrifty-protector</td><td>Catholic</td><td>professional</td><td>black</td><td>60.0</td><td>medium</td><td>1.56</td></tr><tr><td>U1070</td><td>false</td><td>casual drinker</td><td>informal</td><td>friends</td><td>public</td><td>single</td><td>independent</td><td>1991</td><td>variety</td><td>thrifty-protector</td><td>Catholic</td><td>student</td><td>green</td><td>47.0</td><td>low</td><td>1.6</td></tr><tr><td>U1071</td><td>false</td><td>abstemious</td><td>formal</td><td>friends</td><td>car owner</td><td>single</td><td>independent</td><td>1930</td><td>none</td><td>hunter-ostentatious</td><td>none</td><td>student</td><td>blue</td><td>40.0</td><td>high</td><td>1.73</td></tr><tr><td>U1072</td><td>false</td><td>casual drinker</td><td>no preference</td><td>family</td><td>public</td><td>single</td><td>independent</td><td>1984</td><td>eco-friendly</td><td>thrifty-protector</td><td>Christian</td><td>student</td><td>red</td><td>50.0</td><td>medium</td><td>1.54</td></tr><tr><td>U1073</td><td>false</td><td>abstemious</td><td>informal</td><td>solitary</td><td>car owner</td><td>widow</td><td>kids</td><td>1989</td><td>none</td><td>hard-worker</td><td>none</td><td>unemployed</td><td>yellow</td><td>118.0</td><td>medium</td><td>1.79</td></tr><tr><td>U1074</td><td>true</td><td>casual drinker</td><td>no preference</td><td>family</td><td>car owner</td><td>single</td><td>kids</td><td>1967</td><td>eco-friendly</td><td>hard-worker</td><td>Catholic</td><td>professional</td><td>black</td><td>68.0</td><td>medium</td><td>1.7</td></tr><tr><td>U1075</td><td>false</td><td>casual drinker</td><td>informal</td><td>family</td><td>car owner</td><td>single</td><td>independent</td><td>1991</td><td>technology</td><td>thrifty-protector</td><td>Catholic</td><td>student</td><td>white</td><td>68.0</td><td>medium</td><td>1.6</td></tr><tr><td>U1076</td><td>false</td><td>social drinker</td><td>elegant</td><td>family</td><td>public</td><td>married</td><td>kids</td><td>1987</td><td>technology</td><td>thrifty-protector</td><td>Catholic</td><td>student</td><td>blue</td><td>65.0</td><td>medium</td><td>1.71</td></tr><tr><td>U1077</td><td>false</td><td>social drinker</td><td>elegant</td><td>family</td><td>public</td><td>married</td><td>kids</td><td>1987</td><td>technology</td><td>thrifty-protector</td><td>Catholic</td><td>student</td><td>blue</td><td>65.0</td><td>medium</td><td>1.71</td></tr><tr><td>U1078</td><td>true</td><td>social drinker</td><td>informal</td><td>solitary</td><td>car owner</td><td>single</td><td>independent</td><td>1983</td><td>variety</td><td>hard-worker</td><td>Catholic</td><td>professional</td><td>blue</td><td>69.0</td><td>medium</td><td>1.69</td></tr><tr><td>U1079</td><td>false</td><td>abstemious</td><td>formal</td><td>family</td><td>public</td><td>single</td><td>independent</td><td>1992</td><td>technology</td><td>thrifty-protector</td><td>Catholic</td><td>?</td><td>black</td><td>53.0</td><td>medium</td><td>1.55</td></tr><tr><td>U1080</td><td>true</td><td>social drinker</td><td>formal</td><td>friends</td><td>car owner</td><td>single</td><td>independent</td><td>1987</td><td>variety</td><td>hard-worker</td><td>Catholic</td><td>student</td><td>white</td><td>80.0</td><td>low</td><td>1.82</td></tr><tr><td>U1081</td><td>false</td><td>casual drinker</td><td>informal</td><td>family</td><td>public</td><td>single</td><td>independent</td><td>1991</td><td>variety</td><td>hard-worker</td><td>Catholic</td><td>student</td><td>green</td><td>52.0</td><td>low</td><td>1.54</td></tr><tr><td>U1082</td><td>true</td><td>abstemious</td><td>informal</td><td>friends</td><td>public</td><td>single</td><td>?</td><td>1989</td><td>variety</td><td>hard-worker</td><td>Catholic</td><td>student</td><td>black</td><td>63.0</td><td>medium</td><td>1.69</td></tr><tr><td>U1083</td><td>false</td><td>abstemious</td><td>?</td><td>?</td><td>?</td><td>?</td><td>?</td><td>1981</td><td>none</td><td>hard-worker</td><td>none</td><td>?</td><td>yellow</td><td>40.0</td><td>?</td><td>1.6</td></tr><tr><td>U1084</td><td>true</td><td>casual drinker</td><td>formal</td><td>family</td><td>public</td><td>single</td><td>independent</td><td>1991</td><td>variety</td><td>thrifty-protector</td><td>Catholic</td><td>student</td><td>red</td><td>65.0</td><td>medium</td><td>1.6</td></tr><tr><td>U1085</td><td>false</td><td>abstemious</td><td>no preference</td><td>solitary</td><td>car owner</td><td>single</td><td>independent</td><td>1988</td><td>technology</td><td>thrifty-protector</td><td>Catholic</td><td>student</td><td>black</td><td>84.0</td><td>?</td><td>1.7</td></tr><tr><td>U1086</td><td>false</td><td>social drinker</td><td>no preference</td><td>family</td><td>car owner</td><td>single</td><td>independent</td><td>1991</td><td>variety</td><td>hunter-ostentatious</td><td>Catholic</td><td>student</td><td>red</td><td>49.0</td><td>medium</td><td>1.59</td></tr><tr><td>U1087</td><td>false</td><td>abstemious</td><td>no preference</td><td>solitary</td><td>public</td><td>single</td><td>independent</td><td>1989</td><td>variety</td><td>thrifty-protector</td><td>Catholic</td><td>student</td><td>black</td><td>53.0</td><td>medium</td><td>1.55</td></tr><tr><td>U1088</td><td>false</td><td>social drinker</td><td>informal</td><td>family</td><td>on foot</td><td>single</td><td>independent</td><td>1991</td><td>none</td><td>hard-worker</td><td>Catholic</td><td>student</td><td>blue</td><td>62.0</td><td>medium</td><td>1.6</td></tr><tr><td>U1089</td><td>true</td><td>casual drinker</td><td>informal</td><td>family</td><td>public</td><td>single</td><td>independent</td><td>1990</td><td>variety</td><td>conformist</td><td>Catholic</td><td>student</td><td>white</td><td>54.0</td><td>low</td><td>1.6</td></tr><tr><td>U1090</td><td>false</td><td>social drinker</td><td>no preference</td><td>friends</td><td>car owner</td><td>single</td><td>independent</td><td>1988</td><td>variety</td><td>thrifty-protector</td><td>Catholic</td><td>student</td><td>blue</td><td>50.0</td><td>medium</td><td>1.54</td></tr><tr><td>U1091</td><td>false</td><td>casual drinker</td><td>no preference</td><td>family</td><td>car owner</td><td>single</td><td>independent</td><td>1989</td><td>eco-friendly</td><td>thrifty-protector</td><td>none</td><td>student</td><td>red</td><td>40.0</td><td>low</td><td>1.7</td></tr><tr><td>U1092</td><td>false</td><td>abstemious</td><td>formal</td><td>solitary</td><td>public</td><td>single</td><td>dependent</td><td>1990</td><td>variety</td><td>thrifty-protector</td><td>Catholic</td><td>?</td><td>red</td><td>70.0</td><td>medium</td><td>1.69</td></tr><tr><td>U1093</td><td>true</td><td>casual drinker</td><td>no preference</td><td>family</td><td>car owner</td><td>single</td><td>independent</td><td>1990</td><td>variety</td><td>thrifty-protector</td><td>Catholic</td><td>student</td><td>blue</td><td>80.0</td><td>medium</td><td>1.67</td></tr><tr><td>U1094</td><td>false</td><td>abstemious</td><td>informal</td><td>friends</td><td>public</td><td>single</td><td>independent</td><td>1991</td><td>variety</td><td>thrifty-protector</td><td>Catholic</td><td>student</td><td>green</td><td>59.0</td><td>medium</td><td>1.71</td></tr><tr><td>U1095</td><td>false</td><td>abstemious</td><td>formal</td><td>family</td><td>public</td><td>married</td><td>independent</td><td>1986</td><td>variety</td><td>thrifty-protector</td><td>Catholic</td><td>student</td><td>blue</td><td>65.0</td><td>medium</td><td>1.65</td></tr><tr><td>U1096</td><td>false</td><td>abstemious</td><td>formal</td><td>family</td><td>public</td><td>single</td><td>independent</td><td>1990</td><td>eco-friendly</td><td>hard-worker</td><td>Catholic</td><td>student</td><td>black</td><td>40.0</td><td>medium</td><td>1.2</td></tr><tr><td>U1097</td><td>false</td><td>abstemious</td><td>formal</td><td>family</td><td>public</td><td>single</td><td>independent</td><td>1990</td><td>variety</td><td>hard-worker</td><td>Catholic</td><td>student</td><td>black</td><td>58.0</td><td>medium</td><td>1.64</td></tr><tr><td>U1098</td><td>false</td><td>social drinker</td><td>formal</td><td>family</td><td>public</td><td>single</td><td>independent</td><td>1991</td><td>none</td><td>thrifty-protector</td><td>Catholic</td><td>student</td><td>green</td><td>68.0</td><td>medium</td><td>1.76</td></tr><tr><td>U1099</td><td>true</td><td>social drinker</td><td>informal</td><td>family</td><td>public</td><td>single</td><td>independent</td><td>1989</td><td>technology</td><td>conformist</td><td>Catholic</td><td>student</td><td>purple</td><td>70.0</td><td>high</td><td>2.0</td></tr><tr><td>U1100</td><td>false</td><td>casual drinker</td><td>formal</td><td>friends</td><td>public</td><td>single</td><td>independent</td><td>1990</td><td>eco-friendly</td><td>hard-worker</td><td>Christian</td><td>student</td><td>black</td><td>40.0</td><td>medium</td><td>1.65</td></tr><tr><td>U1101</td><td>false</td><td>casual drinker</td><td>no preference</td><td>friends</td><td>car owner</td><td>single</td><td>independent</td><td>1988</td><td>eco-friendly</td><td>hunter-ostentatious</td><td>Catholic</td><td>student</td><td>white</td><td>50.0</td><td>low</td><td>1.69</td></tr><tr><td>U1102</td><td>false</td><td>social drinker</td><td>no preference</td><td>friends</td><td>on foot</td><td>single</td><td>independent</td><td>1989</td><td>eco-friendly</td><td>conformist</td><td>none</td><td>student</td><td>black</td><td>90.0</td><td>low</td><td>1.78</td></tr><tr><td>U1103</td><td>false</td><td>abstemious</td><td>formal</td><td>friends</td><td>public</td><td>single</td><td>independent</td><td>1989</td><td>technology</td><td>hard-worker</td><td>Jewish</td><td>professional</td><td>green</td><td>120.0</td><td>medium</td><td>1.9</td></tr><tr><td>U1104</td><td>true</td><td>social drinker</td><td>no preference</td><td>family</td><td>car owner</td><td>single</td><td>independent</td><td>1991</td><td>technology</td><td>hunter-ostentatious</td><td>Catholic</td><td>student</td><td>blue</td><td>75.0</td><td>medium</td><td>1.71</td></tr><tr><td>U1105</td><td>false</td><td>social drinker</td><td>formal</td><td>family</td><td>public</td><td>single</td><td>independent</td><td>1991</td><td>variety</td><td>hard-worker</td><td>Christian</td><td>student</td><td>green</td><td>40.0</td><td>medium</td><td>1.74</td></tr><tr><td>U1106</td><td>false</td><td>casual drinker</td><td>informal</td><td>friends</td><td>car owner</td><td>single</td><td>independent</td><td>1930</td><td>technology</td><td>hard-worker</td><td>Catholic</td><td>professional</td><td>blue</td><td>65.0</td><td>medium</td><td>1.71</td></tr><tr><td>U1107</td><td>false</td><td>abstemious</td><td>no preference</td><td>friends</td><td>car owner</td><td>single</td><td>independent</td><td>1989</td><td>variety</td><td>hard-worker</td><td>Catholic</td><td>?</td><td>blue</td><td>87.0</td><td>high</td><td>1.79</td></tr><tr><td>U1108</td><td>false</td><td>abstemious</td><td>informal</td><td>solitary</td><td>public</td><td>single</td><td>independent</td><td>1983</td><td>technology</td><td>thrifty-protector</td><td>Catholic</td><td>student</td><td>blue</td><td>76.0</td><td>medium</td><td>1.81</td></tr><tr><td>U1109</td><td>false</td><td>abstemious</td><td>formal</td><td>solitary</td><td>public</td><td>single</td><td>independent</td><td>1989</td><td>eco-friendly</td><td>thrifty-protector</td><td>Catholic</td><td>student</td><td>blue</td><td>57.0</td><td>low</td><td>1.72</td></tr><tr><td>U1110</td><td>false</td><td>abstemious</td><td>no preference</td><td>family</td><td>car owner</td><td>single</td><td>independent</td><td>1993</td><td>variety</td><td>thrifty-protector</td><td>Catholic</td><td>student</td><td>red</td><td>85.0</td><td>medium</td><td>1.75</td></tr><tr><td>U1111</td><td>true</td><td>casual drinker</td><td>formal</td><td>friends</td><td>car owner</td><td>single</td><td>independent</td><td>1991</td><td>none</td><td>hard-worker</td><td>Catholic</td><td>student</td><td>white</td><td>69.0</td><td>medium</td><td>1.69</td></tr><tr><td>U1112</td><td>true</td><td>casual drinker</td><td>formal</td><td>friends</td><td>car owner</td><td>single</td><td>independent</td><td>1991</td><td>none</td><td>hard-worker</td><td>Catholic</td><td>student</td><td>white</td><td>69.0</td><td>medium</td><td>1.69</td></tr><tr><td>U1113</td><td>false</td><td>casual drinker</td><td>formal</td><td>family</td><td>public</td><td>single</td><td>independent</td><td>1990</td><td>none</td><td>thrifty-protector</td><td>Catholic</td><td>student</td><td>blue</td><td>75.0</td><td>medium</td><td>1.73</td></tr><tr><td>U1114</td><td>false</td><td>abstemious</td><td>no preference</td><td>family</td><td>on foot</td><td>single</td><td>independent</td><td>1991</td><td>variety</td><td>hard-worker</td><td>Catholic</td><td>student</td><td>blue</td><td>58.0</td><td>medium</td><td>1.68</td></tr><tr><td>U1115</td><td>true</td><td>social drinker</td><td>elegant</td><td>friends</td><td>public</td><td>single</td><td>independent</td><td>1990</td><td>variety</td><td>hard-worker</td><td>Catholic</td><td>student</td><td>green</td><td>76.0</td><td>low</td><td>1.76</td></tr><tr><td>U1116</td><td>false</td><td>social drinker</td><td>formal</td><td>family</td><td>public</td><td>married</td><td>kids</td><td>1987</td><td>technology</td><td>thrifty-protector</td><td>Catholic</td><td>student</td><td>blue</td><td>40.0</td><td>medium</td><td>1.71</td></tr><tr><td>U1117</td><td>false</td><td>abstemious</td><td>no preference</td><td>friends</td><td>public</td><td>single</td><td>independent</td><td>1982</td><td>technology</td><td>thrifty-protector</td><td>Catholic</td><td>professional</td><td>blue</td><td>58.0</td><td>medium</td><td>1.6</td></tr><tr><td>U1118</td><td>true</td><td>casual drinker</td><td>informal</td><td>friends</td><td>public</td><td>single</td><td>independent</td><td>1987</td><td>technology</td><td>thrifty-protector</td><td>none</td><td>student</td><td>black</td><td>60.0</td><td>medium</td><td>1.68</td></tr><tr><td>U1119</td><td>false</td><td>abstemious</td><td>formal</td><td>family</td><td>public</td><td>single</td><td>independent</td><td>1992</td><td>eco-friendly</td><td>thrifty-protector</td><td>Catholic</td><td>student</td><td>blue</td><td>68.0</td><td>medium</td><td>1.68</td></tr><tr><td>U1120</td><td>false</td><td>abstemious</td><td>informal</td><td>friends</td><td>public</td><td>single</td><td>independent</td><td>1930</td><td>variety</td><td>hard-worker</td><td>none</td><td>student</td><td>green</td><td>47.0</td><td>low</td><td>1.57</td></tr><tr><td>U1121</td><td>false</td><td>social drinker</td><td>no preference</td><td>family</td><td>public</td><td>married</td><td>independent</td><td>1987</td><td>variety</td><td>thrifty-protector</td><td>Catholic</td><td>working-class</td><td>black</td><td>90.0</td><td>medium</td><td>1.6</td></tr><tr><td>U1122</td><td>?</td><td>abstemious</td><td>?</td><td>?</td><td>?</td><td>?</td><td>?</td><td>1930</td><td>none</td><td>hard-worker</td><td>none</td><td>?</td><td>yellow</td><td>40.0</td><td>?</td><td>1.2</td></tr><tr><td>U1123</td><td>false</td><td>abstemious</td><td>informal</td><td>family</td><td>?</td><td>single</td><td>independent</td><td>1987</td><td>technology</td><td>hard-worker</td><td>Catholic</td><td>student</td><td>green</td><td>110.0</td><td>medium</td><td>1.75</td></tr><tr><td>U1124</td><td>false</td><td>casual drinker</td><td>informal</td><td>friends</td><td>public</td><td>single</td><td>independent</td><td>1991</td><td>none</td><td>hard-worker</td><td>Catholic</td><td>student</td><td>blue</td><td>51.0</td><td>low</td><td>1.2</td></tr><tr><td>U1125</td><td>false</td><td>casual drinker</td><td>formal</td><td>friends</td><td>public</td><td>single</td><td>independent</td><td>1990</td><td>technology</td><td>hard-worker</td><td>Catholic</td><td>student</td><td>white</td><td>57.0</td><td>low</td><td>1.67</td></tr><tr><td>U1126</td><td>false</td><td>casual drinker</td><td>formal</td><td>friends</td><td>on foot</td><td>single</td><td>independent</td><td>1990</td><td>technology</td><td>hard-worker</td><td>Catholic</td><td>student</td><td>purple</td><td>65.0</td><td>low</td><td>1.63</td></tr><tr><td>U1127</td><td>false</td><td>abstemious</td><td>no preference</td><td>solitary</td><td>public</td><td>single</td><td>independent</td><td>1992</td><td>variety</td><td>hard-worker</td><td>Catholic</td><td>student</td><td>black</td><td>65.0</td><td>low</td><td>1.76</td></tr><tr><td>U1128</td><td>false</td><td>casual drinker</td><td>no preference</td><td>friends</td><td>public</td><td>single</td><td>independent</td><td>1986</td><td>variety</td><td>thrifty-protector</td><td>Catholic</td><td>student</td><td>red</td><td>66.0</td><td>low</td><td>1.72</td></tr><tr><td>U1129</td><td>false</td><td>casual drinker</td><td>no preference</td><td>friends</td><td>public</td><td>single</td><td>independent</td><td>1989</td><td>variety</td><td>thrifty-protector</td><td>none</td><td>student</td><td>purple</td><td>69.0</td><td>low</td><td>1.69</td></tr><tr><td>U1130</td><td>?</td><td>abstemious</td><td>?</td><td>?</td><td>?</td><td>?</td><td>?</td><td>1989</td><td>none</td><td>hard-worker</td><td>none</td><td>?</td><td>yellow</td><td>40.0</td><td>?</td><td>1.2</td></tr><tr><td>U1131</td><td>true</td><td>social drinker</td><td>no preference</td><td>friends</td><td>car owner</td><td>married</td><td>kids</td><td>1990</td><td>eco-friendly</td><td>hard-worker</td><td>none</td><td>student</td><td>black</td><td>90.0</td><td>medium</td><td>1.8</td></tr><tr><td>U1132</td><td>false</td><td>casual drinker</td><td>informal</td><td>solitary</td><td>public</td><td>single</td><td>?</td><td>1991</td><td>none</td><td>hard-worker</td><td>none</td><td>student</td><td>blue</td><td>55.0</td><td>?</td><td>1.6</td></tr><tr><td>U1133</td><td>false</td><td>abstemious</td><td>no preference</td><td>family</td><td>car owner</td><td>single</td><td>independent</td><td>1991</td><td>none</td><td>hard-worker</td><td>none</td><td>student</td><td>orange</td><td>60.0</td><td>medium</td><td>1.57</td></tr><tr><td>U1134</td><td>false</td><td>casual drinker</td><td>no preference</td><td>family</td><td>public</td><td>single</td><td>independent</td><td>1991</td><td>variety</td><td>hard-worker</td><td>Catholic</td><td>student</td><td>black</td><td>52.0</td><td>medium</td><td>1.65</td></tr><tr><td>U1135</td><td>false</td><td>casual drinker</td><td>informal</td><td>family</td><td>on foot</td><td>single</td><td>kids</td><td>1988</td><td>variety</td><td>hunter-ostentatious</td><td>Catholic</td><td>student</td><td>purple</td><td>66.0</td><td>low</td><td>1.54</td></tr><tr><td>U1136</td><td>true</td><td>social drinker</td><td>no preference</td><td>friends</td><td>car owner</td><td>single</td><td>independent</td><td>1990</td><td>retro</td><td>thrifty-protector</td><td>Catholic</td><td>student</td><td>black</td><td>50.0</td><td>low</td><td>1.6</td></tr><tr><td>U1137</td><td>false</td><td>social drinker</td><td>formal</td><td>family</td><td>public</td><td>single</td><td>independent</td><td>1989</td><td>eco-friendly</td><td>hard-worker</td><td>Catholic</td><td>student</td><td>blue</td><td>72.0</td><td>low</td><td>1.78</td></tr><tr><td>U1138</td><td>false</td><td>social drinker</td><td>formal</td><td>friends</td><td>public</td><td>single</td><td>independent</td><td>1991</td><td>variety</td><td>thrifty-protector</td><td>none</td><td>student</td><td>blue</td><td>54.0</td><td>medium</td><td>1.55</td></tr></tbody></table></div>"
            ]
          },
          "metadata": {
            "tags": []
          }
        }
      ]
    },
    {
      "cell_type": "markdown",
      "metadata": {
        "id": "8LC0RmvWw5xO"
      },
      "source": [
        "5. Même exercice avec place"
      ]
    },
    {
      "cell_type": "code",
      "metadata": {
        "id": "-jjC0N4WEyXN",
        "outputId": "6a5a29ea-5ee6-48be-aa82-a89afd9f136f"
      },
      "source": [
        "display(place.head(3))"
      ],
      "execution_count": null,
      "outputs": [
        {
          "output_type": "display_data",
          "data": {
            "text/html": [
              "<style scoped>\n",
              "  .table-result-container {\n",
              "    max-height: 300px;\n",
              "    overflow: auto;\n",
              "  }\n",
              "  table, th, td {\n",
              "    border: 1px solid black;\n",
              "    border-collapse: collapse;\n",
              "  }\n",
              "  th, td {\n",
              "    padding: 5px;\n",
              "  }\n",
              "  th {\n",
              "    text-align: left;\n",
              "  }\n",
              "</style><div class='table-result-container'><table class='table-result'><thead style='background-color: white'><tr><th>placeID</th><th>latitude</th><th>longitude</th><th>the_geom_meter</th><th>name</th><th>address</th><th>city</th><th>state</th><th>country</th><th>fax</th><th>zip</th><th>alcohol</th><th>smoking_area</th><th>dress_code</th><th>accessibility</th><th>price</th><th>url</th><th>Rambience</th><th>franchise</th><th>area</th><th>other_services</th></tr></thead><tbody><tr><td>134999</td><td>18.915421</td><td>-99.184871</td><td>0101000020957F000088568DE356715AC138C0A525FC464A41</td><td>Kiku Cuernavaca</td><td>Revolucion</td><td>Cuernavaca</td><td>Morelos</td><td>Mexico</td><td>?</td><td>?</td><td>No_Alcohol_Served</td><td>none</td><td>informal</td><td>no_accessibility</td><td>medium</td><td>kikucuernavaca.com.mx</td><td>familiar</td><td>f</td><td>closed</td><td>none</td></tr><tr><td>132825</td><td>22.1473922</td><td>-100.983092</td><td>0101000020957F00001AD016568C4858C1243261274BA54B41</td><td>puesto de tacos</td><td>esquina santos degollado y leon guzman</td><td>s.l.p.</td><td>s.l.p.</td><td>mexico</td><td>?</td><td>78280</td><td>No_Alcohol_Served</td><td>none</td><td>informal</td><td>completely</td><td>low</td><td>?</td><td>familiar</td><td>f</td><td>open</td><td>none</td></tr><tr><td>135106</td><td>22.1497088</td><td>-100.9760928</td><td>0101000020957F0000649D6F21634858C119AE9BF528A34B41</td><td>El Rinc�n de San Francisco</td><td>Universidad 169</td><td>San Luis Potosi</td><td>San Luis Potosi</td><td>Mexico</td><td>?</td><td>78000</td><td>Wine-Beer</td><td>only at bar</td><td>informal</td><td>partially</td><td>medium</td><td>?</td><td>familiar</td><td>f</td><td>open</td><td>none</td></tr></tbody></table></div>"
            ]
          },
          "metadata": {
            "tags": []
          }
        }
      ]
    },
    {
      "cell_type": "code",
      "metadata": {
        "id": "MIZlmvwzEyXQ",
        "outputId": "57e0ae6f-2fe1-4546-c4b1-77ed61e85b8d"
      },
      "source": [
        "place.printSchema()"
      ],
      "execution_count": null,
      "outputs": [
        {
          "output_type": "display_data",
          "data": {
            "text/html": [
              "<style scoped>\n",
              "  .ansiout {\n",
              "    display: block;\n",
              "    unicode-bidi: embed;\n",
              "    white-space: pre-wrap;\n",
              "    word-wrap: break-word;\n",
              "    word-break: break-all;\n",
              "    font-family: \"Source Code Pro\", \"Menlo\", monospace;;\n",
              "    font-size: 13px;\n",
              "    color: #555;\n",
              "    margin-left: 4px;\n",
              "    line-height: 19px;\n",
              "  }\n",
              "</style>\n",
              "<div class=\"ansiout\">root\n",
              "-- placeID: string (nullable = true)\n",
              "-- latitude: string (nullable = true)\n",
              "-- longitude: string (nullable = true)\n",
              "-- the_geom_meter: string (nullable = true)\n",
              "-- name: string (nullable = true)\n",
              "-- address: string (nullable = true)\n",
              "-- city: string (nullable = true)\n",
              "-- state: string (nullable = true)\n",
              "-- country: string (nullable = true)\n",
              "-- fax: string (nullable = true)\n",
              "-- zip: string (nullable = true)\n",
              "-- alcohol: string (nullable = true)\n",
              "-- smoking_area: string (nullable = true)\n",
              "-- dress_code: string (nullable = true)\n",
              "-- accessibility: string (nullable = true)\n",
              "-- price: string (nullable = true)\n",
              "-- url: string (nullable = true)\n",
              "-- Rambience: string (nullable = true)\n",
              "-- franchise: string (nullable = true)\n",
              "-- area: string (nullable = true)\n",
              "-- other_services: string (nullable = true)\n",
              "\n",
              "</div>"
            ]
          },
          "metadata": {
            "tags": []
          }
        }
      ]
    },
    {
      "cell_type": "code",
      "metadata": {
        "id": "QD8E6DTfsMNu",
        "outputId": "33fa9043-5c1e-4f35-a48c-3e740bcb0270"
      },
      "source": [
        "place_cleaned = place.select(\n",
        "  F.col(\"placeID\").cast(DoubleType()),\n",
        "  #F.col(\"latitude\"),\n",
        "  #F.col(\"longitude\"),\n",
        "  #F.col(\"the_geom_meter\"),\n",
        "  #F.col(\"name\"),\n",
        "  #F.col(\"address\"),\n",
        "  #F.col(\"city\"),\n",
        "  #F.col(\"state\"),\n",
        "  #F.col(\"country\"),\n",
        "  #F.col(\"fax\"),\n",
        "  F.col(\"zip\").cast(IntegerType()),\n",
        "  F.col(\"alcohol\"),\n",
        "  F.col(\"smoking_area\"),\n",
        "  F.col(\"dress_code\"),\n",
        "  F.col(\"accessibility\"),\n",
        "  F.col(\"price\"),\n",
        "  #F.col(\"url\"),\n",
        "  #F.col(\"Rambience\"),\n",
        "  F.col(\"franchise\"),\n",
        "  F.col(\"area\"),\n",
        "  #F.col(\"other_services\"),\n",
        ")\n",
        "\n",
        "display(place_cleaned)"
      ],
      "execution_count": null,
      "outputs": [
        {
          "output_type": "display_data",
          "data": {
            "text/html": [
              "<style scoped>\n",
              "  .table-result-container {\n",
              "    max-height: 300px;\n",
              "    overflow: auto;\n",
              "  }\n",
              "  table, th, td {\n",
              "    border: 1px solid black;\n",
              "    border-collapse: collapse;\n",
              "  }\n",
              "  th, td {\n",
              "    padding: 5px;\n",
              "  }\n",
              "  th {\n",
              "    text-align: left;\n",
              "  }\n",
              "</style><div class='table-result-container'><table class='table-result'><thead style='background-color: white'><tr><th>placeID</th><th>zip</th><th>alcohol</th><th>smoking_area</th><th>dress_code</th><th>accessibility</th><th>price</th><th>franchise</th><th>area</th></tr></thead><tbody><tr><td>134999.0</td><td>null</td><td>No_Alcohol_Served</td><td>none</td><td>informal</td><td>no_accessibility</td><td>medium</td><td>f</td><td>closed</td></tr><tr><td>132825.0</td><td>78280</td><td>No_Alcohol_Served</td><td>none</td><td>informal</td><td>completely</td><td>low</td><td>f</td><td>open</td></tr><tr><td>135106.0</td><td>78000</td><td>Wine-Beer</td><td>only at bar</td><td>informal</td><td>partially</td><td>medium</td><td>f</td><td>open</td></tr><tr><td>132667.0</td><td>null</td><td>No_Alcohol_Served</td><td>none</td><td>informal</td><td>completely</td><td>low</td><td>t</td><td>closed</td></tr><tr><td>132613.0</td><td>null</td><td>No_Alcohol_Served</td><td>permitted</td><td>informal</td><td>completely</td><td>medium</td><td>t</td><td>closed</td></tr><tr><td>135040.0</td><td>74000</td><td>Wine-Beer</td><td>none</td><td>informal</td><td>no_accessibility</td><td>high</td><td>f</td><td>closed</td></tr><tr><td>132732.0</td><td>87018</td><td>No_Alcohol_Served</td><td>none</td><td>casual</td><td>completely</td><td>low</td><td>f</td><td>open</td></tr><tr><td>132875.0</td><td>null</td><td>Wine-Beer</td><td>section</td><td>informal</td><td>no_accessibility</td><td>high</td><td>t</td><td>open</td></tr><tr><td>132609.0</td><td>null</td><td>No_Alcohol_Served</td><td>not permitted</td><td>informal</td><td>completely</td><td>low</td><td>t</td><td>closed</td></tr><tr><td>135082.0</td><td>78421</td><td>No_Alcohol_Served</td><td>none</td><td>informal</td><td>no_accessibility</td><td>medium</td><td>f</td><td>closed</td></tr><tr><td>135070.0</td><td>78421</td><td>No_Alcohol_Served</td><td>none</td><td>informal</td><td>no_accessibility</td><td>medium</td><td>f</td><td>closed</td></tr><tr><td>135069.0</td><td>78399</td><td>Wine-Beer</td><td>none</td><td>informal</td><td>no_accessibility</td><td>low</td><td>f</td><td>closed</td></tr><tr><td>135065.0</td><td>78250</td><td>Wine-Beer</td><td>section</td><td>informal</td><td>no_accessibility</td><td>high</td><td>f</td><td>closed</td></tr><tr><td>135076.0</td><td>78395</td><td>Wine-Beer</td><td>none</td><td>informal</td><td>no_accessibility</td><td>high</td><td>f</td><td>closed</td></tr><tr><td>135086.0</td><td>78290</td><td>No_Alcohol_Served</td><td>not permitted</td><td>informal</td><td>no_accessibility</td><td>medium</td><td>t</td><td>closed</td></tr><tr><td>132870.0</td><td>null</td><td>No_Alcohol_Served</td><td>not permitted</td><td>informal</td><td>no_accessibility</td><td>low</td><td>f</td><td>closed</td></tr><tr><td>132854.0</td><td>null</td><td>Wine-Beer</td><td>none</td><td>informal</td><td>completely</td><td>medium</td><td>f</td><td>closed</td></tr><tr><td>132937.0</td><td>null</td><td>Full_Bar</td><td>section</td><td>informal</td><td>completely</td><td>low</td><td>f</td><td>closed</td></tr><tr><td>132856.0</td><td>null</td><td>Wine-Beer</td><td>none</td><td>informal</td><td>completely</td><td>low</td><td>f</td><td>closed</td></tr><tr><td>132668.0</td><td>null</td><td>No_Alcohol_Served</td><td>none</td><td>informal</td><td>completely</td><td>low</td><td>f</td><td>closed</td></tr><tr><td>135033.0</td><td>78399</td><td>No_Alcohol_Served</td><td>section</td><td>informal</td><td>no_accessibility</td><td>medium</td><td>f</td><td>closed</td></tr><tr><td>132862.0</td><td>null</td><td>Wine-Beer</td><td>none</td><td>casual</td><td>completely</td><td>high</td><td>f</td><td>closed</td></tr><tr><td>134983.0</td><td>62250</td><td>Full_Bar</td><td>section</td><td>informal</td><td>no_accessibility</td><td>high</td><td>f</td><td>closed</td></tr><tr><td>132851.0</td><td>null</td><td>No_Alcohol_Served</td><td>not permitted</td><td>informal</td><td>completely</td><td>low</td><td>f</td><td>closed</td></tr><tr><td>135013.0</td><td>null</td><td>No_Alcohol_Served</td><td>none</td><td>informal</td><td>no_accessibility</td><td>low</td><td>f</td><td>closed</td></tr><tr><td>135042.0</td><td>78269</td><td>No_Alcohol_Served</td><td>none</td><td>informal</td><td>no_accessibility</td><td>medium</td><td>f</td><td>closed</td></tr><tr><td>132768.0</td><td>62320</td><td>No_Alcohol_Served</td><td>not permitted</td><td>casual</td><td>partially</td><td>medium</td><td>t</td><td>closed</td></tr><tr><td>132561.0</td><td>null</td><td>No_Alcohol_Served</td><td>none</td><td>informal</td><td>completely</td><td>low</td><td>f</td><td>closed</td></tr><tr><td>135045.0</td><td>78000</td><td>Wine-Beer</td><td>none</td><td>casual</td><td>no_accessibility</td><td>high</td><td>f</td><td>closed</td></tr><tr><td>132847.0</td><td>null</td><td>No_Alcohol_Served</td><td>none</td><td>informal</td><td>no_accessibility</td><td>low</td><td>f</td><td>open</td></tr><tr><td>135054.0</td><td>null</td><td>No_Alcohol_Served</td><td>none</td><td>informal</td><td>no_accessibility</td><td>high</td><td>f</td><td>closed</td></tr><tr><td>134975.0</td><td>null</td><td>Full_Bar</td><td>section</td><td>informal</td><td>completely</td><td>high</td><td>f</td><td>closed</td></tr><tr><td>135053.0</td><td>62460</td><td>No_Alcohol_Served</td><td>section</td><td>informal</td><td>no_accessibility</td><td>high</td><td>f</td><td>closed</td></tr><tr><td>135050.0</td><td>78430</td><td>Wine-Beer</td><td>none</td><td>informal</td><td>no_accessibility</td><td>high</td><td>f</td><td>closed</td></tr><tr><td>135025.0</td><td>null</td><td>No_Alcohol_Served</td><td>none</td><td>informal</td><td>no_accessibility</td><td>medium</td><td>f</td><td>closed</td></tr><tr><td>135030.0</td><td>null</td><td>No_Alcohol_Served</td><td>none</td><td>informal</td><td>no_accessibility</td><td>medium</td><td>f</td><td>closed</td></tr><tr><td>135057.0</td><td>78390</td><td>Wine-Beer</td><td>section</td><td>informal</td><td>no_accessibility</td><td>medium</td><td>f</td><td>closed</td></tr><tr><td>135079.0</td><td>78000</td><td>No_Alcohol_Served</td><td>none</td><td>informal</td><td>no_accessibility</td><td>high</td><td>f</td><td>closed</td></tr><tr><td>134992.0</td><td>null</td><td>Wine-Beer</td><td>section</td><td>casual</td><td>no_accessibility</td><td>high</td><td>f</td><td>closed</td></tr><tr><td>132954.0</td><td>null</td><td>No_Alcohol_Served</td><td>not permitted</td><td>informal</td><td>partially</td><td>medium</td><td>t</td><td>closed</td></tr><tr><td>135041.0</td><td>null</td><td>Wine-Beer</td><td>none</td><td>informal</td><td>no_accessibility</td><td>medium</td><td>f</td><td>closed</td></tr><tr><td>132608.0</td><td>null</td><td>No_Alcohol_Served</td><td>permitted</td><td>informal</td><td>completely</td><td>low</td><td>t</td><td>open</td></tr><tr><td>135046.0</td><td>78200</td><td>No_Alcohol_Served</td><td>none</td><td>informal</td><td>no_accessibility</td><td>medium</td><td>f</td><td>closed</td></tr><tr><td>132564.0</td><td>null</td><td>No_Alcohol_Served</td><td>none</td><td>informal</td><td>completely</td><td>low</td><td>f</td><td>closed</td></tr><tr><td>132869.0</td><td>null</td><td>No_Alcohol_Served</td><td>not permitted</td><td>informal</td><td>no_accessibility</td><td>medium</td><td>f</td><td>closed</td></tr><tr><td>132925.0</td><td>null</td><td>Wine-Beer</td><td>not permitted</td><td>informal</td><td>completely</td><td>medium</td><td>f</td><td>closed</td></tr><tr><td>132955.0</td><td>null</td><td>Wine-Beer</td><td>none</td><td>informal</td><td>completely</td><td>low</td><td>t</td><td>closed</td></tr><tr><td>135059.0</td><td>78250</td><td>Wine-Beer</td><td>section</td><td>informal</td><td>no_accessibility</td><td>medium</td><td>f</td><td>closed</td></tr><tr><td>135001.0</td><td>62170</td><td>Wine-Beer</td><td>none</td><td>informal</td><td>completely</td><td>medium</td><td>t</td><td>closed</td></tr><tr><td>135063.0</td><td>78000</td><td>No_Alcohol_Served</td><td>none</td><td>informal</td><td>no_accessibility</td><td>medium</td><td>f</td><td>closed</td></tr><tr><td>135080.0</td><td>78270</td><td>No_Alcohol_Served</td><td>section</td><td>informal</td><td>no_accessibility</td><td>high</td><td>f</td><td>closed</td></tr><tr><td>135000.0</td><td>62790</td><td>No_Alcohol_Served</td><td>none</td><td>informal</td><td>no_accessibility</td><td>medium</td><td>f</td><td>closed</td></tr><tr><td>135066.0</td><td>78038</td><td>Wine-Beer</td><td>section</td><td>informal</td><td>no_accessibility</td><td>high</td><td>f</td><td>closed</td></tr><tr><td>135034.0</td><td>78210</td><td>No_Alcohol_Served</td><td>none</td><td>informal</td><td>no_accessibility</td><td>medium</td><td>f</td><td>closed</td></tr><tr><td>135060.0</td><td>78310</td><td>No_Alcohol_Served</td><td>none</td><td>informal</td><td>no_accessibility</td><td>medium</td><td>f</td><td>closed</td></tr><tr><td>135055.0</td><td>78270</td><td>No_Alcohol_Served</td><td>section</td><td>informal</td><td>no_accessibility</td><td>high</td><td>f</td><td>closed</td></tr><tr><td>135108.0</td><td>null</td><td>No_Alcohol_Served</td><td>none</td><td>informal</td><td>completely</td><td>low</td><td>f</td><td>closed</td></tr><tr><td>135074.0</td><td>78000</td><td>Wine-Beer</td><td>section</td><td>informal</td><td>no_accessibility</td><td>high</td><td>f</td><td>closed</td></tr><tr><td>135018.0</td><td>null</td><td>Full_Bar</td><td>permitted</td><td>informal</td><td>completely</td><td>medium</td><td>f</td><td>open</td></tr><tr><td>135064.0</td><td>78740</td><td>No_Alcohol_Served</td><td>none</td><td>informal</td><td>no_accessibility</td><td>high</td><td>f</td><td>closed</td></tr><tr><td>135038.0</td><td>78000</td><td>No_Alcohol_Served</td><td>section</td><td>informal</td><td>no_accessibility</td><td>medium</td><td>f</td><td>closed</td></tr><tr><td>135081.0</td><td>78000</td><td>No_Alcohol_Served</td><td>none</td><td>informal</td><td>no_accessibility</td><td>medium</td><td>f</td><td>closed</td></tr><tr><td>132723.0</td><td>null</td><td>Full_Bar</td><td>section</td><td>informal</td><td>completely</td><td>medium</td><td>f</td><td>closed</td></tr><tr><td>135051.0</td><td>78000</td><td>No_Alcohol_Served</td><td>section</td><td>informal</td><td>no_accessibility</td><td>low</td><td>f</td><td>closed</td></tr><tr><td>135021.0</td><td>62290</td><td>No_Alcohol_Served</td><td>not permitted</td><td>informal</td><td>no_accessibility</td><td>low</td><td>t</td><td>closed</td></tr><tr><td>135052.0</td><td>78000</td><td>Full_Bar</td><td>none</td><td>informal</td><td>no_accessibility</td><td>high</td><td>f</td><td>closed</td></tr><tr><td>132845.0</td><td>null</td><td>No_Alcohol_Served</td><td>none</td><td>informal</td><td>no_accessibility</td><td>medium</td><td>f</td><td>closed</td></tr><tr><td>135011.0</td><td>null</td><td>No_Alcohol_Served</td><td>none</td><td>informal</td><td>no_accessibility</td><td>medium</td><td>t</td><td>closed</td></tr><tr><td>132858.0</td><td>null</td><td>No_Alcohol_Served</td><td>none</td><td>informal</td><td>completely</td><td>low</td><td>f</td><td>closed</td></tr><tr><td>135026.0</td><td>78250</td><td>Full_Bar</td><td>none</td><td>informal</td><td>no_accessibility</td><td>high</td><td>f</td><td>closed</td></tr><tr><td>132884.0</td><td>null</td><td>No_Alcohol_Served</td><td>none</td><td>informal</td><td>completely</td><td>low</td><td>f</td><td>closed</td></tr><tr><td>135016.0</td><td>null</td><td>No_Alcohol_Served</td><td>none</td><td>informal</td><td>no_accessibility</td><td>medium</td><td>f</td><td>closed</td></tr><tr><td>135104.0</td><td>null</td><td>Full_Bar</td><td>not permitted</td><td>informal</td><td>completely</td><td>medium</td><td>t</td><td>closed</td></tr><tr><td>132630.0</td><td>null</td><td>No_Alcohol_Served</td><td>none</td><td>informal</td><td>completely</td><td>low</td><td>f</td><td>closed</td></tr><tr><td>135047.0</td><td>78310</td><td>Wine-Beer</td><td>section</td><td>informal</td><td>no_accessibility</td><td>high</td><td>f</td><td>closed</td></tr><tr><td>132951.0</td><td>null</td><td>No_Alcohol_Served</td><td>not permitted</td><td>casual</td><td>completely</td><td>low</td><td>f</td><td>closed</td></tr><tr><td>132665.0</td><td>null</td><td>No_Alcohol_Served</td><td>none</td><td>informal</td><td>completely</td><td>low</td><td>f</td><td>closed</td></tr><tr><td>135044.0</td><td>78240</td><td>No_Alcohol_Served</td><td>none</td><td>informal</td><td>no_accessibility</td><td>medium</td><td>f</td><td>closed</td></tr><tr><td>135035.0</td><td>78210</td><td>No_Alcohol_Served</td><td>section</td><td>informal</td><td>no_accessibility</td><td>high</td><td>f</td><td>closed</td></tr><tr><td>135071.0</td><td>78396</td><td>Full_Bar</td><td>section</td><td>informal</td><td>no_accessibility</td><td>medium</td><td>f</td><td>closed</td></tr><tr><td>132834.0</td><td>78349</td><td>No_Alcohol_Served</td><td>not permitted</td><td>casual</td><td>no_accessibility</td><td>low</td><td>f</td><td>closed</td></tr><tr><td>132846.0</td><td>null</td><td>No_Alcohol_Served</td><td>permitted</td><td>casual</td><td>no_accessibility</td><td>low</td><td>f</td><td>open</td></tr><tr><td>135048.0</td><td>78269</td><td>Wine-Beer</td><td>none</td><td>informal</td><td>no_accessibility</td><td>high</td><td>f</td><td>closed</td></tr><tr><td>132717.0</td><td>null</td><td>No_Alcohol_Served</td><td>not permitted</td><td>informal</td><td>partially</td><td>medium</td><td>f</td><td>closed</td></tr><tr><td>132861.0</td><td>null</td><td>No_Alcohol_Served</td><td>not permitted</td><td>informal</td><td>completely</td><td>medium</td><td>t</td><td>closed</td></tr><tr><td>132885.0</td><td>78433</td><td>No_Alcohol_Served</td><td>none</td><td>informal</td><td>completely</td><td>low</td><td>f</td><td>closed</td></tr><tr><td>132740.0</td><td>null</td><td>No_Alcohol_Served</td><td>permitted</td><td>informal</td><td>completely</td><td>low</td><td>f</td><td>open</td></tr><tr><td>132830.0</td><td>null</td><td>No_Alcohol_Served</td><td>none</td><td>informal</td><td>completely</td><td>low</td><td>f</td><td>closed</td></tr><tr><td>132773.0</td><td>null</td><td>Wine-Beer</td><td>permitted</td><td>informal</td><td>no_accessibility</td><td>low</td><td>f</td><td>open</td></tr><tr><td>132706.0</td><td>null</td><td>No_Alcohol_Served</td><td>not permitted</td><td>informal</td><td>no_accessibility</td><td>medium</td><td>t</td><td>closed</td></tr><tr><td>132872.0</td><td>null</td><td>No_Alcohol_Served</td><td>not permitted</td><td>informal</td><td>partially</td><td>medium</td><td>f</td><td>closed</td></tr><tr><td>134987.0</td><td>62290</td><td>Wine-Beer</td><td>none</td><td>informal</td><td>no_accessibility</td><td>medium</td><td>f</td><td>closed</td></tr><tr><td>132572.0</td><td>null</td><td>No_Alcohol_Served</td><td>not permitted</td><td>informal</td><td>completely</td><td>low</td><td>f</td><td>closed</td></tr><tr><td>132958.0</td><td>null</td><td>No_Alcohol_Served</td><td>none</td><td>informal</td><td>completely</td><td>low</td><td>t</td><td>closed</td></tr><tr><td>132733.0</td><td>null</td><td>No_Alcohol_Served</td><td>not permitted</td><td>informal</td><td>completely</td><td>medium</td><td>t</td><td>closed</td></tr><tr><td>132922.0</td><td>null</td><td>No_Alcohol_Served</td><td>permitted</td><td>formal</td><td>completely</td><td>medium</td><td>f</td><td>closed</td></tr><tr><td>132715.0</td><td>null</td><td>No_Alcohol_Served</td><td>none</td><td>informal</td><td>no_accessibility</td><td>low</td><td>f</td><td>open</td></tr><tr><td>135027.0</td><td>null</td><td>Wine-Beer</td><td>none</td><td>informal</td><td>no_accessibility</td><td>medium</td><td>f</td><td>closed</td></tr><tr><td>132767.0</td><td>null</td><td>Wine-Beer</td><td>permitted</td><td>casual</td><td>partially</td><td>medium</td><td>f</td><td>open</td></tr><tr><td>135039.0</td><td>79300</td><td>No_Alcohol_Served</td><td>section</td><td>informal</td><td>no_accessibility</td><td>low</td><td>f</td><td>closed</td></tr><tr><td>134996.0</td><td>null</td><td>Wine-Beer</td><td>only at bar</td><td>informal</td><td>no_accessibility</td><td>medium</td><td>t</td><td>closed</td></tr><tr><td>132755.0</td><td>null</td><td>No_Alcohol_Served</td><td>none</td><td>informal</td><td>partially</td><td>medium</td><td>f</td><td>closed</td></tr><tr><td>135043.0</td><td>null</td><td>No_Alcohol_Served</td><td>none</td><td>informal</td><td>no_accessibility</td><td>medium</td><td>f</td><td>closed</td></tr><tr><td>132654.0</td><td>null</td><td>No_Alcohol_Served</td><td>none</td><td>informal</td><td>completely</td><td>low</td><td>f</td><td>closed</td></tr><tr><td>135049.0</td><td>78214</td><td>No_Alcohol_Served</td><td>none</td><td>informal</td><td>no_accessibility</td><td>medium</td><td>f</td><td>closed</td></tr><tr><td>135073.0</td><td>78000</td><td>Wine-Beer</td><td>section</td><td>informal</td><td>no_accessibility</td><td>high</td><td>f</td><td>closed</td></tr><tr><td>132560.0</td><td>null</td><td>No_Alcohol_Served</td><td>permitted</td><td>informal</td><td>no_accessibility</td><td>low</td><td>f</td><td>open</td></tr><tr><td>134976.0</td><td>null</td><td>No_Alcohol_Served</td><td>none</td><td>informal</td><td>no_accessibility</td><td>low</td><td>f</td><td>closed</td></tr><tr><td>135075.0</td><td>78269</td><td>No_Alcohol_Served</td><td>none</td><td>informal</td><td>no_accessibility</td><td>medium</td><td>f</td><td>closed</td></tr><tr><td>132660.0</td><td>null</td><td>No_Alcohol_Served</td><td>none</td><td>informal</td><td>completely</td><td>low</td><td>f</td><td>closed</td></tr><tr><td>132921.0</td><td>null</td><td>Wine-Beer</td><td>section</td><td>casual</td><td>completely</td><td>low</td><td>f</td><td>open</td></tr><tr><td>132594.0</td><td>null</td><td>No_Alcohol_Served</td><td>not permitted</td><td>informal</td><td>completely</td><td>low</td><td>f</td><td>open</td></tr><tr><td>134986.0</td><td>null</td><td>Wine-Beer</td><td>none</td><td>formal</td><td>no_accessibility</td><td>high</td><td>f</td><td>closed</td></tr><tr><td>135062.0</td><td>78000</td><td>No_Alcohol_Served</td><td>none</td><td>informal</td><td>no_accessibility</td><td>medium</td><td>f</td><td>closed</td></tr><tr><td>132766.0</td><td>null</td><td>Wine-Beer</td><td>none</td><td>informal</td><td>no_accessibility</td><td>medium</td><td>f</td><td>closed</td></tr><tr><td>135088.0</td><td>null</td><td>No_Alcohol_Served</td><td>not permitted</td><td>informal</td><td>no_accessibility</td><td>low</td><td>f</td><td>closed</td></tr><tr><td>135058.0</td><td>64000</td><td>No_Alcohol_Served</td><td>none</td><td>informal</td><td>no_accessibility</td><td>medium</td><td>t</td><td>closed</td></tr><tr><td>132754.0</td><td>null</td><td>No_Alcohol_Served</td><td>none</td><td>informal</td><td>partially</td><td>medium</td><td>f</td><td>closed</td></tr><tr><td>132584.0</td><td>null</td><td>No_Alcohol_Served</td><td>not permitted</td><td>informal</td><td>completely</td><td>medium</td><td>t</td><td>closed</td></tr><tr><td>135032.0</td><td>78000</td><td>Wine-Beer</td><td>section</td><td>informal</td><td>no_accessibility</td><td>medium</td><td>f</td><td>closed</td></tr><tr><td>135028.0</td><td>null</td><td>Wine-Beer</td><td>none</td><td>informal</td><td>no_accessibility</td><td>medium</td><td>f</td><td>closed</td></tr><tr><td>135085.0</td><td>78000</td><td>No_Alcohol_Served</td><td>not permitted</td><td>informal</td><td>no_accessibility</td><td>medium</td><td>f</td><td>closed</td></tr><tr><td>132663.0</td><td>null</td><td>No_Alcohol_Served</td><td>none</td><td>informal</td><td>completely</td><td>low</td><td>f</td><td>closed</td></tr><tr><td>132626.0</td><td>null</td><td>No_Alcohol_Served</td><td>none</td><td>informal</td><td>completely</td><td>medium</td><td>t</td><td>closed</td></tr><tr><td>132583.0</td><td>62000</td><td>No_Alcohol_Served</td><td>not permitted</td><td>informal</td><td>partially</td><td>low</td><td>t</td><td>closed</td></tr><tr><td>132866.0</td><td>null</td><td>No_Alcohol_Served</td><td>not permitted</td><td>informal</td><td>completely</td><td>medium</td><td>f</td><td>closed</td></tr><tr><td>135072.0</td><td>78220</td><td>No_Alcohol_Served</td><td>none</td><td>informal</td><td>no_accessibility</td><td>medium</td><td>f</td><td>closed</td></tr><tr><td>135109.0</td><td>null</td><td>Wine-Beer</td><td>not permitted</td><td>informal</td><td>no_accessibility</td><td>medium</td><td>f</td><td>closed</td></tr><tr><td>135019.0</td><td>null</td><td>No_Alcohol_Served</td><td>none</td><td>informal</td><td>completely</td><td>low</td><td>f</td><td>closed</td></tr><tr><td>132877.0</td><td>null</td><td>No_Alcohol_Served</td><td>none</td><td>informal</td><td>completely</td><td>low</td><td>f</td><td>closed</td></tr></tbody></table></div>"
            ]
          },
          "metadata": {
            "tags": []
          }
        }
      ]
    },
    {
      "cell_type": "markdown",
      "metadata": {
        "id": "whKVXoyew_Lf"
      },
      "source": [
        "6.1 Effectuez une jointure entre les tables `user` et `rating` préalablement nettoyées;"
      ]
    },
    {
      "cell_type": "code",
      "metadata": {
        "id": "2tr5mkDbEyXb",
        "outputId": "e076f6e1-c3db-4745-9e71-cdd718b48635"
      },
      "source": [
        "training_basis = rating_cleaned.join(user_cleaned, \"userID\" , \"left\").dropna()\n",
        "display(training_basis.head(3))\n"
      ],
      "execution_count": null,
      "outputs": [
        {
          "output_type": "display_data",
          "data": {
            "text/html": [
              "<style scoped>\n",
              "  .table-result-container {\n",
              "    max-height: 300px;\n",
              "    overflow: auto;\n",
              "  }\n",
              "  table, th, td {\n",
              "    border: 1px solid black;\n",
              "    border-collapse: collapse;\n",
              "  }\n",
              "  th, td {\n",
              "    padding: 5px;\n",
              "  }\n",
              "  th {\n",
              "    text-align: left;\n",
              "  }\n",
              "</style><div class='table-result-container'><table class='table-result'><thead style='background-color: white'><tr><th>userID</th><th>placeID</th><th>label</th><th>smoker</th><th>drink_level</th><th>dress_preference</th><th>ambience</th><th>transport</th><th>marital_status</th><th>hijos</th><th>birth_year</th><th>interest</th><th>personality</th><th>religion</th><th>activity</th><th>color</th><th>weight</th><th>budget</th><th>height</th></tr></thead><tbody><tr><td>U1077</td><td>135085</td><td>1</td><td>false</td><td>social drinker</td><td>elegant</td><td>family</td><td>public</td><td>married</td><td>kids</td><td>1987</td><td>technology</td><td>thrifty-protector</td><td>Catholic</td><td>student</td><td>blue</td><td>65.0</td><td>medium</td><td>1.7100000381469727</td></tr><tr><td>U1077</td><td>135038</td><td>1</td><td>false</td><td>social drinker</td><td>elegant</td><td>family</td><td>public</td><td>married</td><td>kids</td><td>1987</td><td>technology</td><td>thrifty-protector</td><td>Catholic</td><td>student</td><td>blue</td><td>65.0</td><td>medium</td><td>1.7100000381469727</td></tr><tr><td>U1077</td><td>132825</td><td>1</td><td>false</td><td>social drinker</td><td>elegant</td><td>family</td><td>public</td><td>married</td><td>kids</td><td>1987</td><td>technology</td><td>thrifty-protector</td><td>Catholic</td><td>student</td><td>blue</td><td>65.0</td><td>medium</td><td>1.7100000381469727</td></tr></tbody></table></div>"
            ]
          },
          "metadata": {
            "tags": []
          }
        }
      ]
    },
    {
      "cell_type": "markdown",
      "metadata": {
        "id": "f2fAiE5FEyXe"
      },
      "source": [
        "6.2 Puis, effectuez une jointure entre la table obtenue à la premiere jointure avec la table `place`."
      ]
    },
    {
      "cell_type": "code",
      "metadata": {
        "id": "pgZ2QlQREyXf",
        "outputId": "2c0b4b50-2da7-43ee-d0e6-1bcbf69df3eb"
      },
      "source": [
        "training_basis = training_basis.join(place_cleaned, \"placeID\", \"left\").dropna()"
      ],
      "execution_count": null,
      "outputs": [
        {
          "output_type": "display_data",
          "data": {
            "text/html": [
              "<style scoped>\n",
              "  .ansiout {\n",
              "    display: block;\n",
              "    unicode-bidi: embed;\n",
              "    white-space: pre-wrap;\n",
              "    word-wrap: break-word;\n",
              "    word-break: break-all;\n",
              "    font-family: \"Source Code Pro\", \"Menlo\", monospace;;\n",
              "    font-size: 13px;\n",
              "    color: #555;\n",
              "    margin-left: 4px;\n",
              "    line-height: 19px;\n",
              "  }\n",
              "</style>\n",
              "<div class=\"ansiout\"></div>"
            ]
          },
          "metadata": {
            "tags": []
          }
        }
      ]
    },
    {
      "cell_type": "markdown",
      "metadata": {
        "id": "WQr9r256sMOC"
      },
      "source": [
        "#2. Pre processing pour MLlib"
      ]
    },
    {
      "cell_type": "markdown",
      "metadata": {
        "id": "D8PAJQlGxKuG"
      },
      "source": [
        "7. Appliquez les manipulations de preprocessing sur la table jointe afin de la préparer à l'entraînement d'un modèle dans spark ML, vous devrez choisir comme variable cible `rating` et le choix des variables explicatives vous revient"
      ]
    },
    {
      "cell_type": "markdown",
      "metadata": {
        "id": "srKIS69OEyXl"
      },
      "source": [
        "**Le pre-processing va consister en les étapes suivantes :**\n",
        "* Identifier la liste des variables qualitatives\n",
        "* Transformer les modalités des variables de type chaine de caracteres en valeurs numériques; pour ce faire, `StringIndexer` est mise en oeuvre.\n",
        "* Ensuite encoder sou forme de vacteur les valeurs numériques représentant les variables catégorielles. La classe `OneHotEncoderEstimator` permet d'arriver à ces fins.\n",
        "* Enfin, l'encodage se fai séparément pour chacune des variables catégorielles. La classe `VectorAssembler` est utilisée pour rassembler tous les vecteurs issus de l'encodage dans un dataframe unique. C'est sur les variables explicatives pre-processées de ce dernier que les algorithmes de ML vont être appliqués."
      ]
    },
    {
      "cell_type": "markdown",
      "metadata": {
        "id": "pcwvlbNcEyXm"
      },
      "source": [
        "## 2.1 Indexation des variables qualitatives"
      ]
    },
    {
      "cell_type": "code",
      "metadata": {
        "id": "SiqqYa4CEyXn",
        "outputId": "f20f8cbf-718c-4db5-c473-e545ec33b6cd"
      },
      "source": [
        "training_basis.printSchema()"
      ],
      "execution_count": null,
      "outputs": [
        {
          "output_type": "display_data",
          "data": {
            "text/html": [
              "<style scoped>\n",
              "  .ansiout {\n",
              "    display: block;\n",
              "    unicode-bidi: embed;\n",
              "    white-space: pre-wrap;\n",
              "    word-wrap: break-word;\n",
              "    word-break: break-all;\n",
              "    font-family: \"Source Code Pro\", \"Menlo\", monospace;;\n",
              "    font-size: 13px;\n",
              "    color: #555;\n",
              "    margin-left: 4px;\n",
              "    line-height: 19px;\n",
              "  }\n",
              "</style>\n",
              "<div class=\"ansiout\">root\n",
              "-- placeID: string (nullable = true)\n",
              "-- userID: string (nullable = true)\n",
              "-- label: integer (nullable = false)\n",
              "-- smoker: string (nullable = true)\n",
              "-- drink_level: string (nullable = true)\n",
              "-- dress_preference: string (nullable = true)\n",
              "-- ambience: string (nullable = true)\n",
              "-- transport: string (nullable = true)\n",
              "-- marital_status: string (nullable = true)\n",
              "-- hijos: string (nullable = true)\n",
              "-- birth_year: integer (nullable = true)\n",
              "-- interest: string (nullable = true)\n",
              "-- personality: string (nullable = true)\n",
              "-- religion: string (nullable = true)\n",
              "-- activity: string (nullable = true)\n",
              "-- color: string (nullable = true)\n",
              "-- weight: float (nullable = true)\n",
              "-- budget: string (nullable = true)\n",
              "-- height: float (nullable = true)\n",
              "-- zip: integer (nullable = true)\n",
              "-- alcohol: string (nullable = true)\n",
              "-- smoking_area: string (nullable = true)\n",
              "-- dress_code: string (nullable = true)\n",
              "-- accessibility: string (nullable = true)\n",
              "-- price: string (nullable = true)\n",
              "-- franchise: string (nullable = true)\n",
              "-- area: string (nullable = true)\n",
              "\n",
              "</div>"
            ]
          },
          "metadata": {
            "tags": []
          }
        }
      ]
    },
    {
      "cell_type": "code",
      "metadata": {
        "id": "g1KHxJTqEyXu",
        "outputId": "7cb7f89c-cb55-471f-9170-f983cccc860e"
      },
      "source": [
        "display(training_basis.head(3))"
      ],
      "execution_count": null,
      "outputs": [
        {
          "output_type": "display_data",
          "data": {
            "text/html": [
              "<style scoped>\n",
              "  .table-result-container {\n",
              "    max-height: 300px;\n",
              "    overflow: auto;\n",
              "  }\n",
              "  table, th, td {\n",
              "    border: 1px solid black;\n",
              "    border-collapse: collapse;\n",
              "  }\n",
              "  th, td {\n",
              "    padding: 5px;\n",
              "  }\n",
              "  th {\n",
              "    text-align: left;\n",
              "  }\n",
              "</style><div class='table-result-container'><table class='table-result'><thead style='background-color: white'><tr><th>placeID</th><th>userID</th><th>label</th><th>smoker</th><th>drink_level</th><th>dress_preference</th><th>ambience</th><th>transport</th><th>marital_status</th><th>hijos</th><th>birth_year</th><th>interest</th><th>personality</th><th>religion</th><th>activity</th><th>color</th><th>weight</th><th>budget</th><th>height</th><th>zip</th><th>alcohol</th><th>smoking_area</th><th>dress_code</th><th>accessibility</th><th>price</th><th>franchise</th><th>area</th></tr></thead><tbody><tr><td>135085</td><td>U1077</td><td>1</td><td>false</td><td>social drinker</td><td>elegant</td><td>family</td><td>public</td><td>married</td><td>kids</td><td>1987</td><td>technology</td><td>thrifty-protector</td><td>Catholic</td><td>student</td><td>blue</td><td>65.0</td><td>medium</td><td>1.7100000381469727</td><td>78000</td><td>No_Alcohol_Served</td><td>not permitted</td><td>informal</td><td>no_accessibility</td><td>medium</td><td>f</td><td>closed</td></tr><tr><td>135038</td><td>U1077</td><td>1</td><td>false</td><td>social drinker</td><td>elegant</td><td>family</td><td>public</td><td>married</td><td>kids</td><td>1987</td><td>technology</td><td>thrifty-protector</td><td>Catholic</td><td>student</td><td>blue</td><td>65.0</td><td>medium</td><td>1.7100000381469727</td><td>78000</td><td>No_Alcohol_Served</td><td>section</td><td>informal</td><td>no_accessibility</td><td>medium</td><td>f</td><td>closed</td></tr><tr><td>132825</td><td>U1077</td><td>1</td><td>false</td><td>social drinker</td><td>elegant</td><td>family</td><td>public</td><td>married</td><td>kids</td><td>1987</td><td>technology</td><td>thrifty-protector</td><td>Catholic</td><td>student</td><td>blue</td><td>65.0</td><td>medium</td><td>1.7100000381469727</td><td>78280</td><td>No_Alcohol_Served</td><td>none</td><td>informal</td><td>completely</td><td>low</td><td>f</td><td>open</td></tr></tbody></table></div>"
            ]
          },
          "metadata": {
            "tags": []
          }
        }
      ]
    },
    {
      "cell_type": "code",
      "metadata": {
        "id": "5R-DwJt1EyX0",
        "outputId": "a428ab9c-a3f6-457c-84cc-1c14da5e6cd3"
      },
      "source": [
        "list_feature_quant = ['weight', 'height']\n",
        "list_feature_exclude = ['placeID','userID', 'color']\n",
        "list_label = ['label']\n",
        "list_feature_qual = [col for col in training_basis.columns if col not in list_feature_quant+list_feature_exclude+list_label]\n",
        "print(list_feature_qual)"
      ],
      "execution_count": null,
      "outputs": [
        {
          "output_type": "display_data",
          "data": {
            "text/html": [
              "<style scoped>\n",
              "  .ansiout {\n",
              "    display: block;\n",
              "    unicode-bidi: embed;\n",
              "    white-space: pre-wrap;\n",
              "    word-wrap: break-word;\n",
              "    word-break: break-all;\n",
              "    font-family: \"Source Code Pro\", \"Menlo\", monospace;;\n",
              "    font-size: 13px;\n",
              "    color: #555;\n",
              "    margin-left: 4px;\n",
              "    line-height: 19px;\n",
              "  }\n",
              "</style>\n",
              "<div class=\"ansiout\">[&#39;smoker&#39;, &#39;drink_level&#39;, &#39;dress_preference&#39;, &#39;ambience&#39;, &#39;transport&#39;, &#39;marital_status&#39;, &#39;hijos&#39;, &#39;birth_year&#39;, &#39;interest&#39;, &#39;personality&#39;, &#39;religion&#39;, &#39;activity&#39;, &#39;budget&#39;, &#39;zip&#39;, &#39;alcohol&#39;, &#39;smoking_area&#39;, &#39;dress_code&#39;, &#39;accessibility&#39;, &#39;price&#39;, &#39;franchise&#39;, &#39;area&#39;]\n",
              "</div>"
            ]
          },
          "metadata": {
            "tags": []
          }
        }
      ]
    },
    {
      "cell_type": "code",
      "metadata": {
        "id": "t4qJnnr1sMOE",
        "outputId": "1e20a3d8-5b66-4a67-9b4a-a7e9f0a847d7"
      },
      "source": [
        "from pyspark.ml.feature import StringIndexer, OneHotEncoder, VectorAssembler\n",
        "from pyspark.ml import Pipeline\n",
        "from pyspark.ml.classification import RandomForestClassifier\n"
      ],
      "execution_count": null,
      "outputs": [
        {
          "output_type": "display_data",
          "data": {
            "text/html": [
              "<style scoped>\n",
              "  .ansiout {\n",
              "    display: block;\n",
              "    unicode-bidi: embed;\n",
              "    white-space: pre-wrap;\n",
              "    word-wrap: break-word;\n",
              "    word-break: break-all;\n",
              "    font-family: \"Source Code Pro\", \"Menlo\", monospace;;\n",
              "    font-size: 13px;\n",
              "    color: #555;\n",
              "    margin-left: 4px;\n",
              "    line-height: 19px;\n",
              "  }\n",
              "</style>\n",
              "<div class=\"ansiout\"></div>"
            ]
          },
          "metadata": {
            "tags": []
          }
        }
      ]
    },
    {
      "cell_type": "markdown",
      "metadata": {
        "id": "ZNY8NvW0EyX6"
      },
      "source": [
        "`StringIndexer` va permettre d'indexer des variables de type chaine de caracteres. L'indexation est appliquée sur chacune des variables, \n",
        "d'où la consrtuction de la liste `list_StringIndexer` contenant des elements de type `StringIndexer`."
      ]
    },
    {
      "cell_type": "code",
      "metadata": {
        "id": "ffcU4rvvEyX7",
        "outputId": "dec08b58-debd-4672-d5aa-d96a03a0479e"
      },
      "source": [
        "from pyspark.ml.feature import StringIndexer, IndexToString\n",
        "\n",
        "list_stringIndexer = [StringIndexer(inputCol=col, outputCol=col+\"_index\") for col in list_feature_qual]"
      ],
      "execution_count": null,
      "outputs": [
        {
          "output_type": "display_data",
          "data": {
            "text/html": [
              "<style scoped>\n",
              "  .ansiout {\n",
              "    display: block;\n",
              "    unicode-bidi: embed;\n",
              "    white-space: pre-wrap;\n",
              "    word-wrap: break-word;\n",
              "    word-break: break-all;\n",
              "    font-family: \"Source Code Pro\", \"Menlo\", monospace;;\n",
              "    font-size: 13px;\n",
              "    color: #555;\n",
              "    margin-left: 4px;\n",
              "    line-height: 19px;\n",
              "  }\n",
              "</style>\n",
              "<div class=\"ansiout\"></div>"
            ]
          },
          "metadata": {
            "tags": []
          }
        }
      ]
    },
    {
      "cell_type": "markdown",
      "metadata": {
        "id": "EFXsGsWaEyX-"
      },
      "source": [
        "## 2.2 Vectorisation des données qualitatives"
      ]
    },
    {
      "cell_type": "markdown",
      "metadata": {
        "id": "yik49u-KEyYC"
      },
      "source": [
        "L'encodage consiste a binariser les indices des variables categorielles numérisées.\n",
        "\n",
        "Ici, un encodeur est créé, prenant en entrée **la liste** des variables explicatives `list_feature_qual` suffixées par '_index' et \n",
        "ayant en sortie des colonnes suffixées par '_vec'"
      ]
    },
    {
      "cell_type": "code",
      "metadata": {
        "id": "aQM7LR-rEyYD",
        "outputId": "5b976b7f-54f4-471e-b5be-a1adad52728b"
      },
      "source": [
        "import pyspark\n",
        "from pyspark.ml.feature import OneHotEncoder\n",
        "\n",
        "one_hot_encoder = OneHotEncoder(\n",
        "  inputCols=[col+\"_index\" for col in list_feature_qual],\n",
        "  outputCols=[col+\"_vec\" for col in list_feature_qual]\n",
        ")\n"
      ],
      "execution_count": null,
      "outputs": [
        {
          "output_type": "display_data",
          "data": {
            "text/html": [
              "<style scoped>\n",
              "  .ansiout {\n",
              "    display: block;\n",
              "    unicode-bidi: embed;\n",
              "    white-space: pre-wrap;\n",
              "    word-wrap: break-word;\n",
              "    word-break: break-all;\n",
              "    font-family: \"Source Code Pro\", \"Menlo\", monospace;;\n",
              "    font-size: 13px;\n",
              "    color: #555;\n",
              "    margin-left: 4px;\n",
              "    line-height: 19px;\n",
              "  }\n",
              "</style>\n",
              "<div class=\"ansiout\"></div>"
            ]
          },
          "metadata": {
            "tags": []
          }
        }
      ]
    },
    {
      "cell_type": "markdown",
      "metadata": {
        "id": "WN8_cb0YEyYG"
      },
      "source": [
        "## 2.3 Assemblage des features vectorisées."
      ]
    },
    {
      "cell_type": "markdown",
      "metadata": {
        "id": "O7VinNYMEyYH"
      },
      "source": [
        "Le nouveau dataframe Spark obtenu ne contiendra que des valeurs numériques.\n",
        "Les variables continues et les variables categorielles qui ont été binarisées sont assemblées avec `VectorAssembler` \n",
        "* En entrée : la liste de variables suffixées `_vec`\n",
        "* En sortie : la liste des variables vectorisées assemblées; cette liste est adressée par le nom `features`"
      ]
    },
    {
      "cell_type": "code",
      "metadata": {
        "id": "vUoeWS6xEyYJ",
        "outputId": "573c5388-83a1-43bc-c2fc-55c70fafc3ab"
      },
      "source": [
        "from pyspark.ml.feature import VectorAssembler\n",
        "list_feature = [col+\"_vec\" for col in list_feature_qual] + list_feature_quant\n",
        "vector_assembler = VectorAssembler(\n",
        "    inputCols= list_feature,\n",
        "    outputCol=\"features\",\n",
        ")"
      ],
      "execution_count": null,
      "outputs": [
        {
          "output_type": "display_data",
          "data": {
            "text/html": [
              "<style scoped>\n",
              "  .ansiout {\n",
              "    display: block;\n",
              "    unicode-bidi: embed;\n",
              "    white-space: pre-wrap;\n",
              "    word-wrap: break-word;\n",
              "    word-break: break-all;\n",
              "    font-family: \"Source Code Pro\", \"Menlo\", monospace;;\n",
              "    font-size: 13px;\n",
              "    color: #555;\n",
              "    margin-left: 4px;\n",
              "    line-height: 19px;\n",
              "  }\n",
              "</style>\n",
              "<div class=\"ansiout\"></div>"
            ]
          },
          "metadata": {
            "tags": []
          }
        }
      ]
    },
    {
      "cell_type": "markdown",
      "metadata": {
        "id": "Z5jJZqQgEyYO"
      },
      "source": [
        "## 2.4 Creation du pipeline de traitement de données"
      ]
    },
    {
      "cell_type": "code",
      "metadata": {
        "id": "GEEcM_PaEyYO",
        "outputId": "8264d3bc-978c-4138-b14f-a0be8b20860d"
      },
      "source": [
        "from pyspark.ml import Pipeline\n",
        "\n",
        "preprocessing_pipeline = Pipeline(\n",
        "  stages= [*list_stringIndexer, one_hot_encoder, vector_assembler]\n",
        ")"
      ],
      "execution_count": null,
      "outputs": [
        {
          "output_type": "display_data",
          "data": {
            "text/html": [
              "<style scoped>\n",
              "  .ansiout {\n",
              "    display: block;\n",
              "    unicode-bidi: embed;\n",
              "    white-space: pre-wrap;\n",
              "    word-wrap: break-word;\n",
              "    word-break: break-all;\n",
              "    font-family: \"Source Code Pro\", \"Menlo\", monospace;;\n",
              "    font-size: 13px;\n",
              "    color: #555;\n",
              "    margin-left: 4px;\n",
              "    line-height: 19px;\n",
              "  }\n",
              "</style>\n",
              "<div class=\"ansiout\"></div>"
            ]
          },
          "metadata": {
            "tags": []
          }
        }
      ]
    },
    {
      "cell_type": "code",
      "metadata": {
        "id": "O037R0mKEyYS",
        "outputId": "afd26b0b-cfff-4c31-ece9-16e10671e201"
      },
      "source": [
        "preprocessing_pipeline_fitted = preprocessing_pipeline.fit(training_basis)\n",
        "\n",
        "training_basis_preprocessed = preprocessing_pipeline_fitted.transform(training_basis)"
      ],
      "execution_count": null,
      "outputs": [
        {
          "output_type": "display_data",
          "data": {
            "text/html": [
              "<style scoped>\n",
              "  .ansiout {\n",
              "    display: block;\n",
              "    unicode-bidi: embed;\n",
              "    white-space: pre-wrap;\n",
              "    word-wrap: break-word;\n",
              "    word-break: break-all;\n",
              "    font-family: \"Source Code Pro\", \"Menlo\", monospace;;\n",
              "    font-size: 13px;\n",
              "    color: #555;\n",
              "    margin-left: 4px;\n",
              "    line-height: 19px;\n",
              "  }\n",
              "</style>\n",
              "<div class=\"ansiout\"></div>"
            ]
          },
          "metadata": {
            "tags": []
          }
        }
      ]
    },
    {
      "cell_type": "code",
      "metadata": {
        "id": "dHUxBa6WEyYZ",
        "outputId": "6a5230f8-b55e-4de2-8b3f-87827f12b399"
      },
      "source": [
        "training_basis_preprocessed.printSchema()"
      ],
      "execution_count": null,
      "outputs": [
        {
          "output_type": "display_data",
          "data": {
            "text/html": [
              "<style scoped>\n",
              "  .ansiout {\n",
              "    display: block;\n",
              "    unicode-bidi: embed;\n",
              "    white-space: pre-wrap;\n",
              "    word-wrap: break-word;\n",
              "    word-break: break-all;\n",
              "    font-family: \"Source Code Pro\", \"Menlo\", monospace;;\n",
              "    font-size: 13px;\n",
              "    color: #555;\n",
              "    margin-left: 4px;\n",
              "    line-height: 19px;\n",
              "  }\n",
              "</style>\n",
              "<div class=\"ansiout\">root\n",
              "-- placeID: string (nullable = true)\n",
              "-- userID: string (nullable = true)\n",
              "-- label: integer (nullable = false)\n",
              "-- smoker: string (nullable = true)\n",
              "-- drink_level: string (nullable = true)\n",
              "-- dress_preference: string (nullable = true)\n",
              "-- ambience: string (nullable = true)\n",
              "-- transport: string (nullable = true)\n",
              "-- marital_status: string (nullable = true)\n",
              "-- hijos: string (nullable = true)\n",
              "-- birth_year: integer (nullable = true)\n",
              "-- interest: string (nullable = true)\n",
              "-- personality: string (nullable = true)\n",
              "-- religion: string (nullable = true)\n",
              "-- activity: string (nullable = true)\n",
              "-- color: string (nullable = true)\n",
              "-- weight: float (nullable = true)\n",
              "-- budget: string (nullable = true)\n",
              "-- height: float (nullable = true)\n",
              "-- zip: integer (nullable = true)\n",
              "-- alcohol: string (nullable = true)\n",
              "-- smoking_area: string (nullable = true)\n",
              "-- dress_code: string (nullable = true)\n",
              "-- accessibility: string (nullable = true)\n",
              "-- price: string (nullable = true)\n",
              "-- franchise: string (nullable = true)\n",
              "-- area: string (nullable = true)\n",
              "-- smoker_index: double (nullable = false)\n",
              "-- drink_level_index: double (nullable = false)\n",
              "-- dress_preference_index: double (nullable = false)\n",
              "-- ambience_index: double (nullable = false)\n",
              "-- transport_index: double (nullable = false)\n",
              "-- marital_status_index: double (nullable = false)\n",
              "-- hijos_index: double (nullable = false)\n",
              "-- birth_year_index: double (nullable = false)\n",
              "-- interest_index: double (nullable = false)\n",
              "-- personality_index: double (nullable = false)\n",
              "-- religion_index: double (nullable = false)\n",
              "-- activity_index: double (nullable = false)\n",
              "-- budget_index: double (nullable = false)\n",
              "-- zip_index: double (nullable = false)\n",
              "-- alcohol_index: double (nullable = false)\n",
              "-- smoking_area_index: double (nullable = false)\n",
              "-- dress_code_index: double (nullable = false)\n",
              "-- accessibility_index: double (nullable = false)\n",
              "-- price_index: double (nullable = false)\n",
              "-- franchise_index: double (nullable = false)\n",
              "-- area_index: double (nullable = false)\n",
              "-- marital_status_vec: vector (nullable = true)\n",
              "-- smoking_area_vec: vector (nullable = true)\n",
              "-- drink_level_vec: vector (nullable = true)\n",
              "-- accessibility_vec: vector (nullable = true)\n",
              "-- personality_vec: vector (nullable = true)\n",
              "-- interest_vec: vector (nullable = true)\n",
              "-- dress_code_vec: vector (nullable = true)\n",
              "-- zip_vec: vector (nullable = true)\n",
              "-- dress_preference_vec: vector (nullable = true)\n",
              "-- price_vec: vector (nullable = true)\n",
              "-- alcohol_vec: vector (nullable = true)\n",
              "-- religion_vec: vector (nullable = true)\n",
              "-- budget_vec: vector (nullable = true)\n",
              "-- hijos_vec: vector (nullable = true)\n",
              "-- transport_vec: vector (nullable = true)\n",
              "-- franchise_vec: vector (nullable = true)\n",
              "-- activity_vec: vector (nullable = true)\n",
              "-- ambience_vec: vector (nullable = true)\n",
              "-- area_vec: vector (nullable = true)\n",
              "-- smoker_vec: vector (nullable = true)\n",
              "-- birth_year_vec: vector (nullable = true)\n",
              "-- features: vector (nullable = true)\n",
              "\n",
              "</div>"
            ]
          },
          "metadata": {
            "tags": []
          }
        }
      ]
    },
    {
      "cell_type": "code",
      "metadata": {
        "id": "gDWpLVhOEyYd",
        "outputId": "6a244373-24c2-492a-e04c-85fbb185d536"
      },
      "source": [
        "rating_cleaned.printSchema()"
      ],
      "execution_count": null,
      "outputs": [
        {
          "output_type": "display_data",
          "data": {
            "text/html": [
              "<style scoped>\n",
              "  .ansiout {\n",
              "    display: block;\n",
              "    unicode-bidi: embed;\n",
              "    white-space: pre-wrap;\n",
              "    word-wrap: break-word;\n",
              "    word-break: break-all;\n",
              "    font-family: \"Source Code Pro\", \"Menlo\", monospace;;\n",
              "    font-size: 13px;\n",
              "    color: #555;\n",
              "    margin-left: 4px;\n",
              "    line-height: 19px;\n",
              "  }\n",
              "</style>\n",
              "<div class=\"ansiout\">root\n",
              "-- userID: string (nullable = true)\n",
              "-- placeID: string (nullable = true)\n",
              "-- label: integer (nullable = false)\n",
              "\n",
              "</div>"
            ]
          },
          "metadata": {
            "tags": []
          }
        }
      ]
    },
    {
      "cell_type": "code",
      "metadata": {
        "id": "YLnuzkcdEyYg",
        "outputId": "9e605536-3ba9-4365-94df-f8a921ebb5ba"
      },
      "source": [
        "rating_cleaned_label = rating_cleaned.select('userID','label')\n",
        "display(rating_cleaned_label.head(3))"
      ],
      "execution_count": null,
      "outputs": [
        {
          "output_type": "display_data",
          "data": {
            "text/html": [
              "<style scoped>\n",
              "  .table-result-container {\n",
              "    max-height: 300px;\n",
              "    overflow: auto;\n",
              "  }\n",
              "  table, th, td {\n",
              "    border: 1px solid black;\n",
              "    border-collapse: collapse;\n",
              "  }\n",
              "  th, td {\n",
              "    padding: 5px;\n",
              "  }\n",
              "  th {\n",
              "    text-align: left;\n",
              "  }\n",
              "</style><div class='table-result-container'><table class='table-result'><thead style='background-color: white'><tr><th>userID</th><th>label</th></tr></thead><tbody><tr><td>U1077</td><td>1</td></tr><tr><td>U1077</td><td>1</td></tr><tr><td>U1077</td><td>1</td></tr></tbody></table></div>"
            ]
          },
          "metadata": {
            "tags": []
          }
        }
      ]
    },
    {
      "cell_type": "code",
      "metadata": {
        "id": "O6Wj96uiEyYl"
      },
      "source": [
        ""
      ],
      "execution_count": null,
      "outputs": []
    },
    {
      "cell_type": "markdown",
      "metadata": {
        "id": "qVCt2z2asMOa"
      },
      "source": [
        "#3. Entrainement du modèle"
      ]
    },
    {
      "cell_type": "markdown",
      "metadata": {
        "id": "vM7Z0p_VEyYq"
      },
      "source": [
        "##3.1 Regression logistique"
      ]
    },
    {
      "cell_type": "markdown",
      "metadata": {
        "id": "C8Bj9bJ4xfkG"
      },
      "source": [
        "8. Séparez vos données en un échantillon train et test"
      ]
    },
    {
      "cell_type": "code",
      "metadata": {
        "id": "425BE_QRsMOb",
        "outputId": "5a590e67-5ef3-4c2a-8e85-9a3f15583f0d"
      },
      "source": [
        "training_basis_preprocessed_train, training_basis_preprocessed_test = training_basis_preprocessed.randomSplit([0.7, 0.3], seed=100)"
      ],
      "execution_count": null,
      "outputs": [
        {
          "output_type": "display_data",
          "data": {
            "text/html": [
              "<style scoped>\n",
              "  .ansiout {\n",
              "    display: block;\n",
              "    unicode-bidi: embed;\n",
              "    white-space: pre-wrap;\n",
              "    word-wrap: break-word;\n",
              "    word-break: break-all;\n",
              "    font-family: \"Source Code Pro\", \"Menlo\", monospace;;\n",
              "    font-size: 13px;\n",
              "    color: #555;\n",
              "    margin-left: 4px;\n",
              "    line-height: 19px;\n",
              "  }\n",
              "</style>\n",
              "<div class=\"ansiout\"></div>"
            ]
          },
          "metadata": {
            "tags": []
          }
        }
      ]
    },
    {
      "cell_type": "markdown",
      "metadata": {
        "id": "6EzOedA9xo2A"
      },
      "source": [
        "9. Entraînez un random forest classifier ou un autre modèle de votre choix afin de prédire la valeur de rating. Evaluez ensuite les performances de ce modèle.\n",
        "Vous pouvez bien entendu faire une grid search afin de déterminer des valeurs bien choisies des hyper paramètres."
      ]
    },
    {
      "cell_type": "code",
      "metadata": {
        "id": "M3MkBfqKsMOo",
        "outputId": "36f9b4dd-f30e-4245-f9d7-3cdbe5cf3189"
      },
      "source": [
        "from pyspark.ml.classification import LogisticRegression\n",
        "# Le modele ne prendra en compte que les variables explicatives issues de l'assembla de la vectorisation\n",
        "lr = LogisticRegression(labelCol=\"label\", featuresCol=\"features\")"
      ],
      "execution_count": null,
      "outputs": [
        {
          "output_type": "display_data",
          "data": {
            "text/html": [
              "<style scoped>\n",
              "  .ansiout {\n",
              "    display: block;\n",
              "    unicode-bidi: embed;\n",
              "    white-space: pre-wrap;\n",
              "    word-wrap: break-word;\n",
              "    word-break: break-all;\n",
              "    font-family: \"Source Code Pro\", \"Menlo\", monospace;;\n",
              "    font-size: 13px;\n",
              "    color: #555;\n",
              "    margin-left: 4px;\n",
              "    line-height: 19px;\n",
              "  }\n",
              "</style>\n",
              "<div class=\"ansiout\"></div>"
            ]
          },
          "metadata": {
            "tags": []
          }
        }
      ]
    },
    {
      "cell_type": "code",
      "metadata": {
        "id": "x5KGUqPfEyYx",
        "outputId": "ef212742-7c03-4aaf-e540-903d43605511"
      },
      "source": [
        "lr_model = lr.fit(training_basis_preprocessed_train)"
      ],
      "execution_count": null,
      "outputs": [
        {
          "output_type": "display_data",
          "data": {
            "text/html": [
              "<style scoped>\n",
              "  .ansiout {\n",
              "    display: block;\n",
              "    unicode-bidi: embed;\n",
              "    white-space: pre-wrap;\n",
              "    word-wrap: break-word;\n",
              "    word-break: break-all;\n",
              "    font-family: \"Source Code Pro\", \"Menlo\", monospace;;\n",
              "    font-size: 13px;\n",
              "    color: #555;\n",
              "    margin-left: 4px;\n",
              "    line-height: 19px;\n",
              "  }\n",
              "</style>\n",
              "<div class=\"ansiout\"></div>"
            ]
          },
          "metadata": {
            "tags": []
          }
        }
      ]
    },
    {
      "cell_type": "code",
      "metadata": {
        "id": "fqXbViwlEyY0",
        "outputId": "0c6d0b26-abcf-41a7-a658-25cb597dafcb"
      },
      "source": [
        "training_basis_preprocessed_train_pred = lr_model.transform(training_basis_preprocessed_train)\n",
        "training_basis_preprocessed_test_pred = lr_model.transform(training_basis_preprocessed_test)"
      ],
      "execution_count": null,
      "outputs": [
        {
          "output_type": "display_data",
          "data": {
            "text/html": [
              "<style scoped>\n",
              "  .ansiout {\n",
              "    display: block;\n",
              "    unicode-bidi: embed;\n",
              "    white-space: pre-wrap;\n",
              "    word-wrap: break-word;\n",
              "    word-break: break-all;\n",
              "    font-family: \"Source Code Pro\", \"Menlo\", monospace;;\n",
              "    font-size: 13px;\n",
              "    color: #555;\n",
              "    margin-left: 4px;\n",
              "    line-height: 19px;\n",
              "  }\n",
              "</style>\n",
              "<div class=\"ansiout\"></div>"
            ]
          },
          "metadata": {
            "tags": []
          }
        }
      ]
    },
    {
      "cell_type": "markdown",
      "metadata": {
        "id": "e4klXqtrsMOt"
      },
      "source": [
        "##3.2 Evaluation et analyse du modele LR"
      ]
    },
    {
      "cell_type": "markdown",
      "metadata": {
        "id": "FucaoPA-yBAQ"
      },
      "source": [
        "10. Evaluez maintenant le modèle à l'aide des techniques habituelles."
      ]
    },
    {
      "cell_type": "markdown",
      "metadata": {
        "id": "ygu7N7ZjEyY4"
      },
      "source": [
        "La clasification est binaire; un évaluateur bianire est utilisé."
      ]
    },
    {
      "cell_type": "code",
      "metadata": {
        "id": "tF0PyrkJsMOu",
        "outputId": "b59f3dd9-f63b-442f-ca05-5adb9457326f"
      },
      "source": [
        "from pyspark.ml.evaluation import BinaryClassificationEvaluator\n",
        "\n",
        "evaluator_auc = BinaryClassificationEvaluator(rawPredictionCol=\"rawPrediction\", metricName=\"areaUnderROC\")\n",
        "\n",
        "evaluation_train = evaluator_auc.evaluate(training_basis_preprocessed_train_pred)\n",
        "evaluation_test =  evaluator_auc.evaluate(training_basis_preprocessed_test_pred)\n",
        "\n",
        "print(\n",
        "  \"AUC train : {0} - AUC test : {1}\"\n",
        "  .format(\n",
        "    evaluation_train, \n",
        "    evaluation_test\n",
        "  )\n",
        ")"
      ],
      "execution_count": null,
      "outputs": [
        {
          "output_type": "display_data",
          "data": {
            "text/html": [
              "<style scoped>\n",
              "  .ansiout {\n",
              "    display: block;\n",
              "    unicode-bidi: embed;\n",
              "    white-space: pre-wrap;\n",
              "    word-wrap: break-word;\n",
              "    word-break: break-all;\n",
              "    font-family: \"Source Code Pro\", \"Menlo\", monospace;;\n",
              "    font-size: 13px;\n",
              "    color: #555;\n",
              "    margin-left: 4px;\n",
              "    line-height: 19px;\n",
              "  }\n",
              "</style>\n",
              "<div class=\"ansiout\">AUC train : 0.8644142641257617 - AUC test : 0.6753646881287727\n",
              "</div>"
            ]
          },
          "metadata": {
            "tags": []
          }
        }
      ]
    },
    {
      "cell_type": "code",
      "metadata": {
        "id": "0sMKAnvBEyY7",
        "outputId": "ecab96a6-dad0-45d8-fd05-063da72fd4b0"
      },
      "source": [
        "from pyspark.sql.types import *\n",
        "from pyspark.sql import functions as F\n",
        "\n",
        "cf_count = training_basis_preprocessed_test_pred.select(F.col(\"prediction\"), F.col(\"label\").cast(IntegerType()))\\\n",
        "                           .groupBy(\"prediction\")\\\n",
        "                           .pivot(\"label\")\\\n",
        "                           .count() \n",
        "\n",
        "display(cf_count)"
      ],
      "execution_count": null,
      "outputs": [
        {
          "output_type": "display_data",
          "data": {
            "text/html": [
              "<style scoped>\n",
              "  .table-result-container {\n",
              "    max-height: 300px;\n",
              "    overflow: auto;\n",
              "  }\n",
              "  table, th, td {\n",
              "    border: 1px solid black;\n",
              "    border-collapse: collapse;\n",
              "  }\n",
              "  th, td {\n",
              "    padding: 5px;\n",
              "  }\n",
              "  th {\n",
              "    text-align: left;\n",
              "  }\n",
              "</style><div class='table-result-container'><table class='table-result'><thead style='background-color: white'><tr><th>prediction</th><th>0</th><th>1</th></tr></thead><tbody><tr><td>0.0</td><td>71</td><td>32</td></tr><tr><td>1.0</td><td>41</td><td>39</td></tr></tbody></table></div>"
            ]
          },
          "metadata": {
            "tags": []
          }
        }
      ]
    },
    {
      "cell_type": "code",
      "metadata": {
        "id": "NHHMEe4RsMO1",
        "outputId": "d9ad0333-40f2-4efe-abcb-5e16f55d3901"
      },
      "source": [
        "total_count = training_basis_preprocessed_test_pred.count()\n",
        "\n",
        "print(total_count)\n",
        "cf = cf_count.select(\n",
        "  F.col(\"prediction\"),\n",
        "  (F.col(\"0\") / total_count).alias(\"% 0\"),\n",
        "  (F.col(\"1\") / total_count).alias(\"% 1\")\n",
        ")\n",
        "display(cf)"
      ],
      "execution_count": null,
      "outputs": [
        {
          "output_type": "display_data",
          "data": {
            "text/html": [
              "<style scoped>\n",
              "  .table-result-container {\n",
              "    max-height: 300px;\n",
              "    overflow: auto;\n",
              "  }\n",
              "  table, th, td {\n",
              "    border: 1px solid black;\n",
              "    border-collapse: collapse;\n",
              "  }\n",
              "  th, td {\n",
              "    padding: 5px;\n",
              "  }\n",
              "  th {\n",
              "    text-align: left;\n",
              "  }\n",
              "</style><div class='table-result-container'><table class='table-result'><thead style='background-color: white'><tr><th>prediction</th><th>% 0</th><th>% 1</th></tr></thead><tbody><tr><td>0.0</td><td>0.3879781420765027</td><td>0.17486338797814208</td></tr><tr><td>1.0</td><td>0.22404371584699453</td><td>0.21311475409836064</td></tr></tbody></table></div>"
            ]
          },
          "metadata": {
            "tags": []
          }
        }
      ]
    },
    {
      "cell_type": "markdown",
      "metadata": {
        "id": "bb0zKwcLsMO_",
        "outputId": "5e0ab819-9bd7-4aa3-a275-fb31086b563f"
      },
      "source": [
        "0.3879781420765027   0.17486338797814208\n",
        "\n",
        "0.22404371584699453 0.21311475409836064"
      ]
    },
    {
      "cell_type": "code",
      "metadata": {
        "id": "pCYS4aUOEyZC",
        "outputId": "3eeb2789-30a2-4f12-ee48-990f71e455d7"
      },
      "source": [
        "import matplotlib.pyplot as plt\n",
        "\n",
        "modelSummary = lr_model.summary\n",
        "roc = modelSummary.roc.toPandas()\n",
        "plt.plot(roc['FPR'],roc['TPR'])\n",
        "plt.ylabel('Faux Positifs', color='blue')\n",
        "plt.xlabel('Vrai Positifs', color='blue')\n",
        "plt.title('AUROC Log. Reg. : AUC={:.2f}'.format(modelSummary.areaUnderROC), color='blue', size=20)\n",
        "plt.show()\n",
        "#print('AUC : dataset d\\'entraînement : ' + str(trainingSummary.areaUnderROC))"
      ],
      "execution_count": null,
      "outputs": [
        {
          "output_type": "display_data",
          "data": {
            "image/png": "[encoded data removed]"
          },
          "metadata": {
            "tags": []
          }
        }
      ]
    },
    {
      "cell_type": "code",
      "metadata": {
        "id": "FO1160WdEyZI",
        "outputId": "4bb0ca7f-3283-4e6a-e16d-0636b88f4285"
      },
      "source": [
        "#dir(pyspark.ml.classification.RandomForestClassificationModel)"
      ],
      "execution_count": null,
      "outputs": [
        {
          "output_type": "display_data",
          "data": {
            "text/html": [
              "<style scoped>\n",
              "  .ansiout {\n",
              "    display: block;\n",
              "    unicode-bidi: embed;\n",
              "    white-space: pre-wrap;\n",
              "    word-wrap: break-word;\n",
              "    word-break: break-all;\n",
              "    font-family: \"Source Code Pro\", \"Menlo\", monospace;;\n",
              "    font-size: 13px;\n",
              "    color: #555;\n",
              "    margin-left: 4px;\n",
              "    line-height: 19px;\n",
              "  }\n",
              "</style>\n",
              "<div class=\"ansiout\"></div>"
            ]
          },
          "metadata": {
            "tags": []
          }
        }
      ]
    },
    {
      "cell_type": "markdown",
      "metadata": {
        "id": "CqM54xWesMPE",
        "outputId": "a70bf730-fdf1-4b71-b890-2221f647bf79"
      },
      "source": [
        "# 4. Classification Random Forest"
      ]
    },
    {
      "cell_type": "code",
      "metadata": {
        "id": "JGO-TbAHsMPS",
        "outputId": "d507421d-14e9-4cec-96a4-f0e7fb7651f6"
      },
      "source": [
        "from pyspark.ml.classification import RandomForestClassifier, RandomForestClassificationModel\n",
        "\n",
        "rf = RandomForestClassifier(labelCol=\"label\", featuresCol=\"features\", numTrees=10)\n"
      ],
      "execution_count": null,
      "outputs": [
        {
          "output_type": "display_data",
          "data": {
            "text/html": [
              "<style scoped>\n",
              "  .ansiout {\n",
              "    display: block;\n",
              "    unicode-bidi: embed;\n",
              "    white-space: pre-wrap;\n",
              "    word-wrap: break-word;\n",
              "    word-break: break-all;\n",
              "    font-family: \"Source Code Pro\", \"Menlo\", monospace;;\n",
              "    font-size: 13px;\n",
              "    color: #555;\n",
              "    margin-left: 4px;\n",
              "    line-height: 19px;\n",
              "  }\n",
              "</style>\n",
              "<div class=\"ansiout\"></div>"
            ]
          },
          "metadata": {
            "tags": []
          }
        }
      ]
    },
    {
      "cell_type": "code",
      "metadata": {
        "id": "ew7ayGsGEyZR",
        "outputId": "61dd9f18-550d-4342-a62f-5cac58d68b4c"
      },
      "source": [
        "from pyspark.ml import Pipeline\n",
        "\n",
        "rf_pipeline = Pipeline(\n",
        "  stages= [*list_stringIndexer, one_hot_encoder, vector_assembler, rf]\n",
        ")"
      ],
      "execution_count": null,
      "outputs": [
        {
          "output_type": "display_data",
          "data": {
            "text/html": [
              "<style scoped>\n",
              "  .ansiout {\n",
              "    display: block;\n",
              "    unicode-bidi: embed;\n",
              "    white-space: pre-wrap;\n",
              "    word-wrap: break-word;\n",
              "    word-break: break-all;\n",
              "    font-family: \"Source Code Pro\", \"Menlo\", monospace;;\n",
              "    font-size: 13px;\n",
              "    color: #555;\n",
              "    margin-left: 4px;\n",
              "    line-height: 19px;\n",
              "  }\n",
              "</style>\n",
              "<div class=\"ansiout\"></div>"
            ]
          },
          "metadata": {
            "tags": []
          }
        }
      ]
    },
    {
      "cell_type": "code",
      "metadata": {
        "id": "Sci47ekIEyZW"
      },
      "source": [
        "#rf_model = rf_pipeline.fit(training_basis_preprocessed_train)"
      ],
      "execution_count": null,
      "outputs": []
    },
    {
      "cell_type": "code",
      "metadata": {
        "id": "NKnWowliEyZa",
        "outputId": "b5e3a07c-e600-451e-9274-4a56af71c9de"
      },
      "source": [
        "from pyspark.ml.evaluation import BinaryClassificationEvaluator\n",
        "rf_model = rf.fit(training_basis_preprocessed_train)\n",
        "\n",
        "# Make predictions.\n",
        "training_basis_preprocessed_test_train = rf_model.transform(training_basis_preprocessed_train)\n",
        "training_basis_preprocessed_test_pred = rf_model.transform(training_basis_preprocessed_test)\n",
        "\n",
        "\n",
        "evaluator_auc = BinaryClassificationEvaluator( metricName=\"areaUnderROC\")\n",
        "\n",
        "evaluation_train = evaluator_auc.evaluate(training_basis_preprocessed_train_pred)\n",
        "evaluation_test =  evaluator_auc.evaluate(training_basis_preprocessed_test_pred)\n",
        "\n",
        "print(\n",
        "  \"RF AUC train : {0} - RF AUC test : {1}\"\n",
        "  .format(\n",
        "    evaluation_train, \n",
        "    evaluation_test\n",
        "  )\n",
        ")"
      ],
      "execution_count": null,
      "outputs": [
        {
          "output_type": "display_data",
          "data": {
            "text/html": [
              "<style scoped>\n",
              "  .ansiout {\n",
              "    display: block;\n",
              "    unicode-bidi: embed;\n",
              "    white-space: pre-wrap;\n",
              "    word-wrap: break-word;\n",
              "    word-break: break-all;\n",
              "    font-family: \"Source Code Pro\", \"Menlo\", monospace;;\n",
              "    font-size: 13px;\n",
              "    color: #555;\n",
              "    margin-left: 4px;\n",
              "    line-height: 19px;\n",
              "  }\n",
              "</style>\n",
              "<div class=\"ansiout\">RF AUC train : 0.8644142641257617 - RF AUC test : 0.622422032193159\n",
              "</div>"
            ]
          },
          "metadata": {
            "tags": []
          }
        }
      ]
    },
    {
      "cell_type": "code",
      "metadata": {
        "id": "0-Yf11jVEyZd",
        "outputId": "5841b43a-7a49-4aea-a364-f8402537e721"
      },
      "source": [
        "from pyspark.ml.classification import GBTClassifier\n",
        "gbt = GBTClassifier(maxIter=10)\n",
        "gbt_model = gbt.fit(training_basis_preprocessed_train)\n",
        "training_basis_preprocessed_test_pred = gbt_model.transform(training_basis_preprocessed_test)\n",
        "training_basis_preprocessed_test_pred = gbt_model.transform(training_basis_preprocessed_train)\n",
        "\n",
        "evaluator_auc = BinaryClassificationEvaluator( metricName=\"areaUnderROC\")\n",
        "\n",
        "evaluation_train = evaluator_auc.evaluate(training_basis_preprocessed_train_pred)\n",
        "evaluation_test =  evaluator_auc.evaluate(training_basis_preprocessed_test_pred)\n",
        "\n",
        "print(\"GBT AUC train : {0:.2f} - GBT AUC test : {1:.2f}\".format(evaluation_train, evaluation_test))"
      ],
      "execution_count": null,
      "outputs": [
        {
          "output_type": "display_data",
          "data": {
            "text/html": [
              "<style scoped>\n",
              "  .ansiout {\n",
              "    display: block;\n",
              "    unicode-bidi: embed;\n",
              "    white-space: pre-wrap;\n",
              "    word-wrap: break-word;\n",
              "    word-break: break-all;\n",
              "    font-family: \"Source Code Pro\", \"Menlo\", monospace;;\n",
              "    font-size: 13px;\n",
              "    color: #555;\n",
              "    margin-left: 4px;\n",
              "    line-height: 19px;\n",
              "  }\n",
              "</style>\n",
              "<div class=\"ansiout\">GBT AUC train : 0.86 - GBT AUC test : 0.92\n",
              "</div>"
            ]
          },
          "metadata": {
            "tags": []
          }
        }
      ]
    },
    {
      "cell_type": "code",
      "metadata": {
        "id": "zUXQqmeBEyZg",
        "outputId": "460a20e0-bab3-413f-b241-95dea4fb607e"
      },
      "source": [
        "from pyspark.ml.tuning import ParamGridBuilder, CrossValidator\n",
        "paramGrid = (ParamGridBuilder()\n",
        "             .addGrid(gbt.maxDepth, [2, 4, 6])\n",
        "             .addGrid(gbt.maxBins, [20, 60])\n",
        "             .addGrid(gbt.maxIter, [5, 15])\n",
        "             .build())\n",
        "\n",
        "evaluator_auc = BinaryClassificationEvaluator(metricName=\"areaUnderROC\")\n",
        "\n",
        "cv = CrossValidator(estimator=gbt, estimatorParamMaps=paramGrid, evaluator=evaluator_auc, numFolds=5)\n",
        "# Run cross validations.  \n",
        "cv_model = cv.fit(training_basis_preprocessed_train)\n",
        "training_basis_preprocessed_test_pred = cv_model.transform(training_basis_preprocessed_test)\n",
        "evaluator_auc.evaluate(training_basis_preprocessed_test_pred)"
      ],
      "execution_count": null,
      "outputs": [
        {
          "output_type": "display_data",
          "data": {
            "text/html": [
              "<style scoped>\n",
              "  .ansiout {\n",
              "    display: block;\n",
              "    unicode-bidi: embed;\n",
              "    white-space: pre-wrap;\n",
              "    word-wrap: break-word;\n",
              "    word-break: break-all;\n",
              "    font-family: \"Source Code Pro\", \"Menlo\", monospace;;\n",
              "    font-size: 13px;\n",
              "    color: #555;\n",
              "    margin-left: 4px;\n",
              "    line-height: 19px;\n",
              "  }\n",
              "</style>\n",
              "<div class=\"ansiout\">/databricks/spark/python/pyspark/ml/util.py:762: UserWarning: Cannot find mlflow module. To enable MLflow logging, install mlflow from PyPI.\n",
              "  warnings.warn(_MLflowInstrumentation._NO_MLFLOW_WARNING)\n",
              "Out[41]: 0.7068661971830987</div>"
            ]
          },
          "metadata": {
            "tags": []
          }
        }
      ]
    },
    {
      "cell_type": "code",
      "metadata": {
        "id": "cAvbjzzaEyZm",
        "outputId": "6afd143c-3e87-42ef-c343-a0d4ac712983"
      },
      "source": [
        "bgt_best_model = cv_model.bestModel\n",
        "training_basis_preprocessed_test_pred = bgt_best_model.transform(training_basis_preprocessed_test)\n",
        "best_evaluation_test = evaluator_auc.evaluate(training_basis_preprocessed_test_pred)\n",
        "print(\"Best GBT AUC test : {0:.2f}\".format(best_evaluation_test))"
      ],
      "execution_count": null,
      "outputs": [
        {
          "output_type": "display_data",
          "data": {
            "text/html": [
              "<style scoped>\n",
              "  .ansiout {\n",
              "    display: block;\n",
              "    unicode-bidi: embed;\n",
              "    white-space: pre-wrap;\n",
              "    word-wrap: break-word;\n",
              "    word-break: break-all;\n",
              "    font-family: \"Source Code Pro\", \"Menlo\", monospace;;\n",
              "    font-size: 13px;\n",
              "    color: #555;\n",
              "    margin-left: 4px;\n",
              "    line-height: 19px;\n",
              "  }\n",
              "</style>\n",
              "<div class=\"ansiout\">Best GBT AUC test : 0.71\n",
              "</div>"
            ]
          },
          "metadata": {
            "tags": []
          }
        }
      ]
    },
    {
      "cell_type": "markdown",
      "metadata": {
        "id": "dLo9F30tEyZr"
      },
      "source": [
        "preds = training_basis_preprocessed_test_pred.select('label','probability').rdd.map(lambda row: (float(row['probability'][1]), float(row['label'])))\n",
        "\n",
        "points = CurveMetrics(preds).get_curve('roc')"
      ]
    },
    {
      "cell_type": "code",
      "metadata": {
        "id": "jiOtyAkBEyZs"
      },
      "source": [
        ""
      ],
      "execution_count": null,
      "outputs": []
    }
  ]
}