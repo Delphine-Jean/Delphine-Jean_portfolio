{
  "nbformat": 4,
  "nbformat_minor": 0,
  "metadata": {
    "colab": {
      "name": "Mental Health music.ipynb",
      "provenance": []
    },
    "kernelspec": {
      "name": "python3",
      "display_name": "Python 3"
    }
  },
  "cells": [
    {
      "cell_type": "markdown",
      "metadata": {
        "id": "YJLnURzoHArV",
        "colab_type": "text"
      },
      "source": [
        "##Projet de machine learning : Mental Health and music"
      ]
    },
    {
      "cell_type": "markdown",
      "metadata": {
        "id": "4F_t5hImGHYt",
        "colab_type": "text"
      },
      "source": [
        "La problématique que l'on va essayer de résoudre est la corrélation entre la musique et la dépression afin de prédire \"mental health\" en fonction des paramètre Intensité, aspect dansant, émotion, sentiment. La variable cible à prédire est l'intensité de la santé psychologique (Low, médium est high)\n",
        "\n",
        "\n",
        "Les données proviennent de la plateforme Kaggle source : Spotify"
      ]
    },
    {
      "cell_type": "code",
      "metadata": {
        "id": "J6O3w1ESG8-q",
        "colab_type": "code",
        "colab": {
          "base_uri": "https://localhost:8080/",
          "height": 51
        },
        "outputId": "7acf7572-791e-4976-9a41-cbaeefc59f7d"
      },
      "source": [
        "# Importations des librairies \n",
        "\n",
        "import pandas as pd \n",
        "import matplotlib.pyplot as plt\n",
        "import seaborn as sns \n",
        "import numpy as np"
      ],
      "execution_count": 1,
      "outputs": [
        {
          "output_type": "stream",
          "text": [
            "/usr/local/lib/python3.6/dist-packages/statsmodels/tools/_testing.py:19: FutureWarning: pandas.util.testing is deprecated. Use the functions in the public API at pandas.testing instead.\n",
            "  import pandas.util.testing as tm\n"
          ],
          "name": "stderr"
        }
      ]
    },
    {
      "cell_type": "code",
      "metadata": {
        "id": "-KXUYPq6HcnD",
        "colab_type": "code",
        "colab": {}
      },
      "source": [
        "# Importation du dataset\n",
        "\n",
        "dataset = pd.read_csv('https://raw.githubusercontent.com/Delphine-Jean/Delphine-Jean_portfolio/master/Portfolio%20Data%20Science/Music%20and%20mental%20health%20data/datasets_566879_1031115_master_song_data.csv')"
      ],
      "execution_count": 2,
      "outputs": []
    },
    {
      "cell_type": "code",
      "metadata": {
        "id": "NJgBs96BHohw",
        "colab_type": "code",
        "colab": {
          "base_uri": "https://localhost:8080/",
          "height": 581
        },
        "outputId": "1e912829-6ae8-4a33-dbc3-cd49ee939cc6"
      },
      "source": [
        "# Observations de notre dataset\n",
        "\n",
        "dataset.head()"
      ],
      "execution_count": 3,
      "outputs": [
        {
          "output_type": "execute_result",
          "data": {
            "text/html": [
              "<div>\n",
              "<style scoped>\n",
              "    .dataframe tbody tr th:only-of-type {\n",
              "        vertical-align: middle;\n",
              "    }\n",
              "\n",
              "    .dataframe tbody tr th {\n",
              "        vertical-align: top;\n",
              "    }\n",
              "\n",
              "    .dataframe thead th {\n",
              "        text-align: right;\n",
              "    }\n",
              "</style>\n",
              "<table border=\"1\" class=\"dataframe\">\n",
              "  <thead>\n",
              "    <tr style=\"text-align: right;\">\n",
              "      <th></th>\n",
              "      <th>Participant_ID</th>\n",
              "      <th>Song_name</th>\n",
              "      <th>Artist</th>\n",
              "      <th>Spotify_ID</th>\n",
              "      <th>Loudness</th>\n",
              "      <th>Valence</th>\n",
              "      <th>Danceability</th>\n",
              "      <th>Acousticness</th>\n",
              "      <th>Instrumental</th>\n",
              "      <th>Audio_class</th>\n",
              "      <th>Lyrics</th>\n",
              "      <th>Sentiment_class</th>\n",
              "      <th>Audio + Lyrics analysis</th>\n",
              "      <th>Total_mental_health</th>\n",
              "      <th>Mental_health_severity_class</th>\n",
              "    </tr>\n",
              "  </thead>\n",
              "  <tbody>\n",
              "    <tr>\n",
              "      <th>0</th>\n",
              "      <td>2</td>\n",
              "      <td>Here again</td>\n",
              "      <td>Elevation Worship</td>\n",
              "      <td>1wuqCUWHniGdEmOKZbQ1cg</td>\n",
              "      <td>-8.210</td>\n",
              "      <td>0.103</td>\n",
              "      <td>0.124</td>\n",
              "      <td>0.0128</td>\n",
              "      <td>0.000000</td>\n",
              "      <td>Sad</td>\n",
              "      <td>Can't go back to the beginning\\n Can't control...</td>\n",
              "      <td>Positive</td>\n",
              "      <td>Sad</td>\n",
              "      <td>8</td>\n",
              "      <td>Low</td>\n",
              "    </tr>\n",
              "    <tr>\n",
              "      <th>1</th>\n",
              "      <td>2</td>\n",
              "      <td>The Stand</td>\n",
              "      <td>Hillsong United</td>\n",
              "      <td>0j2sui6BmkPy974W3VG3RZ</td>\n",
              "      <td>-8.128</td>\n",
              "      <td>0.133</td>\n",
              "      <td>0.449</td>\n",
              "      <td>0.1470</td>\n",
              "      <td>0.000000</td>\n",
              "      <td>Sad</td>\n",
              "      <td>You stood before creation\\n Eternity in your h...</td>\n",
              "      <td>Positive</td>\n",
              "      <td>Sad</td>\n",
              "      <td>8</td>\n",
              "      <td>Low</td>\n",
              "    </tr>\n",
              "    <tr>\n",
              "      <th>2</th>\n",
              "      <td>2</td>\n",
              "      <td>Here I Bow</td>\n",
              "      <td>Brian Johnson</td>\n",
              "      <td>3RMcL7vuHuRzJQfMEuoJJP</td>\n",
              "      <td>-7.395</td>\n",
              "      <td>0.218</td>\n",
              "      <td>0.389</td>\n",
              "      <td>0.6780</td>\n",
              "      <td>0.000001</td>\n",
              "      <td>Sad</td>\n",
              "      <td>[Adolf Hitler:]\\n Vader... This is your last c...</td>\n",
              "      <td>Positive</td>\n",
              "      <td>Sad</td>\n",
              "      <td>8</td>\n",
              "      <td>Low</td>\n",
              "    </tr>\n",
              "    <tr>\n",
              "      <th>3</th>\n",
              "      <td>3</td>\n",
              "      <td>On my way</td>\n",
              "      <td>Alan Walker</td>\n",
              "      <td>5csliehPVWFrDaWJvdSvbB</td>\n",
              "      <td>-5.952</td>\n",
              "      <td>0.295</td>\n",
              "      <td>0.616</td>\n",
              "      <td>0.0480</td>\n",
              "      <td>0.000119</td>\n",
              "      <td>Tense</td>\n",
              "      <td>Today I'm kinda feelin' like a ghost\\n Call my...</td>\n",
              "      <td>Positive</td>\n",
              "      <td>Exciting,Disturbing</td>\n",
              "      <td>15</td>\n",
              "      <td>Med</td>\n",
              "    </tr>\n",
              "    <tr>\n",
              "      <th>4</th>\n",
              "      <td>3</td>\n",
              "      <td>Bad guy</td>\n",
              "      <td>Billie Eilish</td>\n",
              "      <td>2Fxmhks0bxGSBdJ92vM42m</td>\n",
              "      <td>-10.965</td>\n",
              "      <td>0.562</td>\n",
              "      <td>0.701</td>\n",
              "      <td>0.3280</td>\n",
              "      <td>0.130000</td>\n",
              "      <td>Relax</td>\n",
              "      <td>White shirt now red, my bloody nose\\n Sleepin'...</td>\n",
              "      <td>Positive</td>\n",
              "      <td>Relax</td>\n",
              "      <td>15</td>\n",
              "      <td>Med</td>\n",
              "    </tr>\n",
              "  </tbody>\n",
              "</table>\n",
              "</div>"
            ],
            "text/plain": [
              "   Participant_ID   Song_name  ... Total_mental_health Mental_health_severity_class\n",
              "0               2  Here again  ...                   8                          Low\n",
              "1               2   The Stand  ...                   8                          Low\n",
              "2               2  Here I Bow  ...                   8                          Low\n",
              "3               3   On my way  ...                  15                          Med\n",
              "4               3     Bad guy  ...                  15                          Med\n",
              "\n",
              "[5 rows x 15 columns]"
            ]
          },
          "metadata": {
            "tags": []
          },
          "execution_count": 3
        }
      ]
    },
    {
      "cell_type": "code",
      "metadata": {
        "id": "xl0AopbtHwk-",
        "colab_type": "code",
        "colab": {
          "base_uri": "https://localhost:8080/",
          "height": 102
        },
        "outputId": "2d5a9e9a-e012-4f9d-c406-afbb5f7f2cbd"
      },
      "source": [
        "dataset.columns"
      ],
      "execution_count": 4,
      "outputs": [
        {
          "output_type": "execute_result",
          "data": {
            "text/plain": [
              "Index(['Participant_ID', 'Song_name', 'Artist', 'Spotify_ID', 'Loudness',\n",
              "       'Valence', 'Danceability', 'Acousticness', 'Instrumental',\n",
              "       'Audio_class', 'Lyrics', 'Sentiment_class', 'Audio + Lyrics analysis',\n",
              "       'Total_mental_health', 'Mental_health_severity_class'],\n",
              "      dtype='object')"
            ]
          },
          "metadata": {
            "tags": []
          },
          "execution_count": 4
        }
      ]
    },
    {
      "cell_type": "code",
      "metadata": {
        "id": "5iz5VDXBH4YW",
        "colab_type": "code",
        "colab": {
          "base_uri": "https://localhost:8080/",
          "height": 34
        },
        "outputId": "a6dfc8cf-e6d8-42db-9ec5-4aab74da9b97"
      },
      "source": [
        "dataset.shape\n",
        "\n",
        "#On observe un nombre peu significatif d'observations pour implémenter un modèle"
      ],
      "execution_count": 5,
      "outputs": [
        {
          "output_type": "execute_result",
          "data": {
            "text/plain": [
              "(206, 15)"
            ]
          },
          "metadata": {
            "tags": []
          },
          "execution_count": 5
        }
      ]
    },
    {
      "cell_type": "code",
      "metadata": {
        "id": "vVP4NRXEH--2",
        "colab_type": "code",
        "colab": {
          "base_uri": "https://localhost:8080/",
          "height": 391
        },
        "outputId": "8d822a66-81de-4246-da1c-39763d110466"
      },
      "source": [
        "dataset.info()"
      ],
      "execution_count": 6,
      "outputs": [
        {
          "output_type": "stream",
          "text": [
            "<class 'pandas.core.frame.DataFrame'>\n",
            "RangeIndex: 206 entries, 0 to 205\n",
            "Data columns (total 15 columns):\n",
            " #   Column                        Non-Null Count  Dtype  \n",
            "---  ------                        --------------  -----  \n",
            " 0   Participant_ID                206 non-null    int64  \n",
            " 1   Song_name                     206 non-null    object \n",
            " 2   Artist                        206 non-null    object \n",
            " 3   Spotify_ID                    206 non-null    object \n",
            " 4   Loudness                      206 non-null    float64\n",
            " 5   Valence                       206 non-null    float64\n",
            " 6   Danceability                  206 non-null    float64\n",
            " 7   Acousticness                  206 non-null    float64\n",
            " 8   Instrumental                  206 non-null    float64\n",
            " 9   Audio_class                   206 non-null    object \n",
            " 10  Lyrics                        206 non-null    object \n",
            " 11  Sentiment_class               206 non-null    object \n",
            " 12  Audio + Lyrics analysis       206 non-null    object \n",
            " 13  Total_mental_health           206 non-null    int64  \n",
            " 14  Mental_health_severity_class  206 non-null    object \n",
            "dtypes: float64(5), int64(2), object(8)\n",
            "memory usage: 24.3+ KB\n"
          ],
          "name": "stdout"
        }
      ]
    },
    {
      "cell_type": "code",
      "metadata": {
        "id": "5AdE4BZM280R",
        "colab_type": "code",
        "colab": {
          "base_uri": "https://localhost:8080/",
          "height": 204
        },
        "outputId": "2eb03008-9eed-4e43-ac56-e2e406c5a89b"
      },
      "source": [
        "# Supression des variables non pertinente pour notre analyse\n",
        "from sklearn.preprocessing import LabelEncoder\n",
        "exclude = [\"Participant_ID\",\"Song_name\",\"Artist\"]\n",
        "for column in dataset.columns:\n",
        "  if dataset[column].dtype == type(object) and column not in exclude:\n",
        "    labelEncoder = LabelEncoder()\n",
        "    dataset[column] = labelEncoder.fit_transform(dataset[column])\n",
        "\n",
        "dataset.head()"
      ],
      "execution_count": 7,
      "outputs": [
        {
          "output_type": "execute_result",
          "data": {
            "text/html": [
              "<div>\n",
              "<style scoped>\n",
              "    .dataframe tbody tr th:only-of-type {\n",
              "        vertical-align: middle;\n",
              "    }\n",
              "\n",
              "    .dataframe tbody tr th {\n",
              "        vertical-align: top;\n",
              "    }\n",
              "\n",
              "    .dataframe thead th {\n",
              "        text-align: right;\n",
              "    }\n",
              "</style>\n",
              "<table border=\"1\" class=\"dataframe\">\n",
              "  <thead>\n",
              "    <tr style=\"text-align: right;\">\n",
              "      <th></th>\n",
              "      <th>Participant_ID</th>\n",
              "      <th>Song_name</th>\n",
              "      <th>Artist</th>\n",
              "      <th>Spotify_ID</th>\n",
              "      <th>Loudness</th>\n",
              "      <th>Valence</th>\n",
              "      <th>Danceability</th>\n",
              "      <th>Acousticness</th>\n",
              "      <th>Instrumental</th>\n",
              "      <th>Audio_class</th>\n",
              "      <th>Lyrics</th>\n",
              "      <th>Sentiment_class</th>\n",
              "      <th>Audio + Lyrics analysis</th>\n",
              "      <th>Total_mental_health</th>\n",
              "      <th>Mental_health_severity_class</th>\n",
              "    </tr>\n",
              "  </thead>\n",
              "  <tbody>\n",
              "    <tr>\n",
              "      <th>0</th>\n",
              "      <td>2</td>\n",
              "      <td>Here again</td>\n",
              "      <td>Elevation Worship</td>\n",
              "      <td>41</td>\n",
              "      <td>-8.210</td>\n",
              "      <td>0.103</td>\n",
              "      <td>0.124</td>\n",
              "      <td>0.0128</td>\n",
              "      <td>0.000000</td>\n",
              "      <td>2</td>\n",
              "      <td>26</td>\n",
              "      <td>1</td>\n",
              "      <td>3</td>\n",
              "      <td>8</td>\n",
              "      <td>1</td>\n",
              "    </tr>\n",
              "    <tr>\n",
              "      <th>1</th>\n",
              "      <td>2</td>\n",
              "      <td>The Stand</td>\n",
              "      <td>Hillsong United</td>\n",
              "      <td>17</td>\n",
              "      <td>-8.128</td>\n",
              "      <td>0.133</td>\n",
              "      <td>0.449</td>\n",
              "      <td>0.1470</td>\n",
              "      <td>0.000000</td>\n",
              "      <td>2</td>\n",
              "      <td>170</td>\n",
              "      <td>1</td>\n",
              "      <td>3</td>\n",
              "      <td>8</td>\n",
              "      <td>1</td>\n",
              "    </tr>\n",
              "    <tr>\n",
              "      <th>2</th>\n",
              "      <td>2</td>\n",
              "      <td>Here I Bow</td>\n",
              "      <td>Brian Johnson</td>\n",
              "      <td>78</td>\n",
              "      <td>-7.395</td>\n",
              "      <td>0.218</td>\n",
              "      <td>0.389</td>\n",
              "      <td>0.6780</td>\n",
              "      <td>0.000001</td>\n",
              "      <td>2</td>\n",
              "      <td>176</td>\n",
              "      <td>1</td>\n",
              "      <td>3</td>\n",
              "      <td>8</td>\n",
              "      <td>1</td>\n",
              "    </tr>\n",
              "    <tr>\n",
              "      <th>3</th>\n",
              "      <td>3</td>\n",
              "      <td>On my way</td>\n",
              "      <td>Alan Walker</td>\n",
              "      <td>136</td>\n",
              "      <td>-5.952</td>\n",
              "      <td>0.295</td>\n",
              "      <td>0.616</td>\n",
              "      <td>0.0480</td>\n",
              "      <td>0.000119</td>\n",
              "      <td>3</td>\n",
              "      <td>135</td>\n",
              "      <td>1</td>\n",
              "      <td>0</td>\n",
              "      <td>15</td>\n",
              "      <td>2</td>\n",
              "    </tr>\n",
              "    <tr>\n",
              "      <th>4</th>\n",
              "      <td>3</td>\n",
              "      <td>Bad guy</td>\n",
              "      <td>Billie Eilish</td>\n",
              "      <td>50</td>\n",
              "      <td>-10.965</td>\n",
              "      <td>0.562</td>\n",
              "      <td>0.701</td>\n",
              "      <td>0.3280</td>\n",
              "      <td>0.130000</td>\n",
              "      <td>1</td>\n",
              "      <td>158</td>\n",
              "      <td>1</td>\n",
              "      <td>2</td>\n",
              "      <td>15</td>\n",
              "      <td>2</td>\n",
              "    </tr>\n",
              "  </tbody>\n",
              "</table>\n",
              "</div>"
            ],
            "text/plain": [
              "   Participant_ID  ... Mental_health_severity_class\n",
              "0               2  ...                            1\n",
              "1               2  ...                            1\n",
              "2               2  ...                            1\n",
              "3               3  ...                            2\n",
              "4               3  ...                            2\n",
              "\n",
              "[5 rows x 15 columns]"
            ]
          },
          "metadata": {
            "tags": []
          },
          "execution_count": 7
        }
      ]
    },
    {
      "cell_type": "code",
      "metadata": {
        "id": "r6vju0R-3f8-",
        "colab_type": "code",
        "colab": {
          "base_uri": "https://localhost:8080/",
          "height": 391
        },
        "outputId": "09710cc4-66b0-4614-8068-9e1b4fa3da62"
      },
      "source": [
        "dataset.info()"
      ],
      "execution_count": 8,
      "outputs": [
        {
          "output_type": "stream",
          "text": [
            "<class 'pandas.core.frame.DataFrame'>\n",
            "RangeIndex: 206 entries, 0 to 205\n",
            "Data columns (total 15 columns):\n",
            " #   Column                        Non-Null Count  Dtype  \n",
            "---  ------                        --------------  -----  \n",
            " 0   Participant_ID                206 non-null    int64  \n",
            " 1   Song_name                     206 non-null    object \n",
            " 2   Artist                        206 non-null    object \n",
            " 3   Spotify_ID                    206 non-null    int64  \n",
            " 4   Loudness                      206 non-null    float64\n",
            " 5   Valence                       206 non-null    float64\n",
            " 6   Danceability                  206 non-null    float64\n",
            " 7   Acousticness                  206 non-null    float64\n",
            " 8   Instrumental                  206 non-null    float64\n",
            " 9   Audio_class                   206 non-null    int64  \n",
            " 10  Lyrics                        206 non-null    int64  \n",
            " 11  Sentiment_class               206 non-null    int64  \n",
            " 12  Audio + Lyrics analysis       206 non-null    int64  \n",
            " 13  Total_mental_health           206 non-null    int64  \n",
            " 14  Mental_health_severity_class  206 non-null    int64  \n",
            "dtypes: float64(5), int64(8), object(2)\n",
            "memory usage: 24.3+ KB\n"
          ],
          "name": "stdout"
        }
      ]
    },
    {
      "cell_type": "code",
      "metadata": {
        "id": "BH0-v9djHnlS",
        "colab_type": "code",
        "colab": {
          "base_uri": "https://localhost:8080/",
          "height": 204
        },
        "outputId": "ac8bef57-11c7-4a42-adfd-a56c2972df50"
      },
      "source": [
        "dataset = dataset.iloc[: , [0,1,2,4,5,6,7,9,11,12,13,14]]\n",
        "\n",
        "dataset.head()"
      ],
      "execution_count": 9,
      "outputs": [
        {
          "output_type": "execute_result",
          "data": {
            "text/html": [
              "<div>\n",
              "<style scoped>\n",
              "    .dataframe tbody tr th:only-of-type {\n",
              "        vertical-align: middle;\n",
              "    }\n",
              "\n",
              "    .dataframe tbody tr th {\n",
              "        vertical-align: top;\n",
              "    }\n",
              "\n",
              "    .dataframe thead th {\n",
              "        text-align: right;\n",
              "    }\n",
              "</style>\n",
              "<table border=\"1\" class=\"dataframe\">\n",
              "  <thead>\n",
              "    <tr style=\"text-align: right;\">\n",
              "      <th></th>\n",
              "      <th>Participant_ID</th>\n",
              "      <th>Song_name</th>\n",
              "      <th>Artist</th>\n",
              "      <th>Loudness</th>\n",
              "      <th>Valence</th>\n",
              "      <th>Danceability</th>\n",
              "      <th>Acousticness</th>\n",
              "      <th>Audio_class</th>\n",
              "      <th>Sentiment_class</th>\n",
              "      <th>Audio + Lyrics analysis</th>\n",
              "      <th>Total_mental_health</th>\n",
              "      <th>Mental_health_severity_class</th>\n",
              "    </tr>\n",
              "  </thead>\n",
              "  <tbody>\n",
              "    <tr>\n",
              "      <th>0</th>\n",
              "      <td>2</td>\n",
              "      <td>Here again</td>\n",
              "      <td>Elevation Worship</td>\n",
              "      <td>-8.210</td>\n",
              "      <td>0.103</td>\n",
              "      <td>0.124</td>\n",
              "      <td>0.0128</td>\n",
              "      <td>2</td>\n",
              "      <td>1</td>\n",
              "      <td>3</td>\n",
              "      <td>8</td>\n",
              "      <td>1</td>\n",
              "    </tr>\n",
              "    <tr>\n",
              "      <th>1</th>\n",
              "      <td>2</td>\n",
              "      <td>The Stand</td>\n",
              "      <td>Hillsong United</td>\n",
              "      <td>-8.128</td>\n",
              "      <td>0.133</td>\n",
              "      <td>0.449</td>\n",
              "      <td>0.1470</td>\n",
              "      <td>2</td>\n",
              "      <td>1</td>\n",
              "      <td>3</td>\n",
              "      <td>8</td>\n",
              "      <td>1</td>\n",
              "    </tr>\n",
              "    <tr>\n",
              "      <th>2</th>\n",
              "      <td>2</td>\n",
              "      <td>Here I Bow</td>\n",
              "      <td>Brian Johnson</td>\n",
              "      <td>-7.395</td>\n",
              "      <td>0.218</td>\n",
              "      <td>0.389</td>\n",
              "      <td>0.6780</td>\n",
              "      <td>2</td>\n",
              "      <td>1</td>\n",
              "      <td>3</td>\n",
              "      <td>8</td>\n",
              "      <td>1</td>\n",
              "    </tr>\n",
              "    <tr>\n",
              "      <th>3</th>\n",
              "      <td>3</td>\n",
              "      <td>On my way</td>\n",
              "      <td>Alan Walker</td>\n",
              "      <td>-5.952</td>\n",
              "      <td>0.295</td>\n",
              "      <td>0.616</td>\n",
              "      <td>0.0480</td>\n",
              "      <td>3</td>\n",
              "      <td>1</td>\n",
              "      <td>0</td>\n",
              "      <td>15</td>\n",
              "      <td>2</td>\n",
              "    </tr>\n",
              "    <tr>\n",
              "      <th>4</th>\n",
              "      <td>3</td>\n",
              "      <td>Bad guy</td>\n",
              "      <td>Billie Eilish</td>\n",
              "      <td>-10.965</td>\n",
              "      <td>0.562</td>\n",
              "      <td>0.701</td>\n",
              "      <td>0.3280</td>\n",
              "      <td>1</td>\n",
              "      <td>1</td>\n",
              "      <td>2</td>\n",
              "      <td>15</td>\n",
              "      <td>2</td>\n",
              "    </tr>\n",
              "  </tbody>\n",
              "</table>\n",
              "</div>"
            ],
            "text/plain": [
              "   Participant_ID  ... Mental_health_severity_class\n",
              "0               2  ...                            1\n",
              "1               2  ...                            1\n",
              "2               2  ...                            1\n",
              "3               3  ...                            2\n",
              "4               3  ...                            2\n",
              "\n",
              "[5 rows x 12 columns]"
            ]
          },
          "metadata": {
            "tags": []
          },
          "execution_count": 9
        }
      ]
    },
    {
      "cell_type": "code",
      "metadata": {
        "id": "opFMMRsoCxpZ",
        "colab_type": "code",
        "colab": {
          "base_uri": "https://localhost:8080/",
          "height": 204
        },
        "outputId": "f0012869-2e87-4302-b181-8f44e1343b27"
      },
      "source": [
        "#Normalisation \n",
        "from sklearn.preprocessing import StandardScaler\n",
        "scaler = StandardScaler(with_mean=False)\n",
        "transformed = scaler.fit_transform(dataset[['Loudness', 'Valence', 'Danceability', 'Acousticness']])\n",
        "for idx, col in enumerate(dataset.columns[4:-6]):\n",
        "    dataset[col] = transformed[:,idx]\n",
        "    \n",
        "dataset.head()"
      ],
      "execution_count": 10,
      "outputs": [
        {
          "output_type": "execute_result",
          "data": {
            "text/html": [
              "<div>\n",
              "<style scoped>\n",
              "    .dataframe tbody tr th:only-of-type {\n",
              "        vertical-align: middle;\n",
              "    }\n",
              "\n",
              "    .dataframe tbody tr th {\n",
              "        vertical-align: top;\n",
              "    }\n",
              "\n",
              "    .dataframe thead th {\n",
              "        text-align: right;\n",
              "    }\n",
              "</style>\n",
              "<table border=\"1\" class=\"dataframe\">\n",
              "  <thead>\n",
              "    <tr style=\"text-align: right;\">\n",
              "      <th></th>\n",
              "      <th>Participant_ID</th>\n",
              "      <th>Song_name</th>\n",
              "      <th>Artist</th>\n",
              "      <th>Loudness</th>\n",
              "      <th>Valence</th>\n",
              "      <th>Danceability</th>\n",
              "      <th>Acousticness</th>\n",
              "      <th>Audio_class</th>\n",
              "      <th>Sentiment_class</th>\n",
              "      <th>Audio + Lyrics analysis</th>\n",
              "      <th>Total_mental_health</th>\n",
              "      <th>Mental_health_severity_class</th>\n",
              "    </tr>\n",
              "  </thead>\n",
              "  <tbody>\n",
              "    <tr>\n",
              "      <th>0</th>\n",
              "      <td>2</td>\n",
              "      <td>Here again</td>\n",
              "      <td>Elevation Worship</td>\n",
              "      <td>-8.210</td>\n",
              "      <td>-2.511326</td>\n",
              "      <td>0.468143</td>\n",
              "      <td>0.0128</td>\n",
              "      <td>2</td>\n",
              "      <td>1</td>\n",
              "      <td>3</td>\n",
              "      <td>8</td>\n",
              "      <td>1</td>\n",
              "    </tr>\n",
              "    <tr>\n",
              "      <th>1</th>\n",
              "      <td>2</td>\n",
              "      <td>The Stand</td>\n",
              "      <td>Hillsong United</td>\n",
              "      <td>-8.128</td>\n",
              "      <td>-2.486243</td>\n",
              "      <td>0.604496</td>\n",
              "      <td>0.1470</td>\n",
              "      <td>2</td>\n",
              "      <td>1</td>\n",
              "      <td>3</td>\n",
              "      <td>8</td>\n",
              "      <td>1</td>\n",
              "    </tr>\n",
              "    <tr>\n",
              "      <th>2</th>\n",
              "      <td>2</td>\n",
              "      <td>Here I Bow</td>\n",
              "      <td>Brian Johnson</td>\n",
              "      <td>-7.395</td>\n",
              "      <td>-2.262029</td>\n",
              "      <td>0.990827</td>\n",
              "      <td>0.6780</td>\n",
              "      <td>2</td>\n",
              "      <td>1</td>\n",
              "      <td>3</td>\n",
              "      <td>8</td>\n",
              "      <td>1</td>\n",
              "    </tr>\n",
              "    <tr>\n",
              "      <th>3</th>\n",
              "      <td>3</td>\n",
              "      <td>On my way</td>\n",
              "      <td>Alan Walker</td>\n",
              "      <td>-5.952</td>\n",
              "      <td>-1.820635</td>\n",
              "      <td>1.340798</td>\n",
              "      <td>0.0480</td>\n",
              "      <td>3</td>\n",
              "      <td>1</td>\n",
              "      <td>0</td>\n",
              "      <td>15</td>\n",
              "      <td>2</td>\n",
              "    </tr>\n",
              "    <tr>\n",
              "      <th>4</th>\n",
              "      <td>3</td>\n",
              "      <td>Bad guy</td>\n",
              "      <td>Billie Eilish</td>\n",
              "      <td>-10.965</td>\n",
              "      <td>-3.354042</td>\n",
              "      <td>2.554335</td>\n",
              "      <td>0.3280</td>\n",
              "      <td>1</td>\n",
              "      <td>1</td>\n",
              "      <td>2</td>\n",
              "      <td>15</td>\n",
              "      <td>2</td>\n",
              "    </tr>\n",
              "  </tbody>\n",
              "</table>\n",
              "</div>"
            ],
            "text/plain": [
              "   Participant_ID  ... Mental_health_severity_class\n",
              "0               2  ...                            1\n",
              "1               2  ...                            1\n",
              "2               2  ...                            1\n",
              "3               3  ...                            2\n",
              "4               3  ...                            2\n",
              "\n",
              "[5 rows x 12 columns]"
            ]
          },
          "metadata": {
            "tags": []
          },
          "execution_count": 10
        }
      ]
    },
    {
      "cell_type": "code",
      "metadata": {
        "id": "nAtI2_1YHkg6",
        "colab_type": "code",
        "colab": {}
      },
      "source": [
        "# Corrélation entre les variables du dataset\n",
        "dataset_corr = dataset.corr()"
      ],
      "execution_count": 11,
      "outputs": []
    },
    {
      "cell_type": "code",
      "metadata": {
        "id": "FAmBOoGNI9TT",
        "colab_type": "code",
        "colab": {
          "base_uri": "https://localhost:8080/",
          "height": 748
        },
        "outputId": "a9b8e163-e034-4bca-d1f3-f41c2ce67b6f"
      },
      "source": [
        "# Matrice de corrélation\n",
        "fig, ax = plt.subplots(figsize=(20,10))         # Sample figsize in inches\n",
        "sns.heatmap(data=dataset_corr,annot=True,linewidths=.5, ax=ax)\n",
        "\n",
        "# On observe une corrélation négatice entre notre target et les variables suivantes Sentiment_class, Loudness, Valence\n"
      ],
      "execution_count": 12,
      "outputs": [
        {
          "output_type": "execute_result",
          "data": {
            "text/plain": [
              "<matplotlib.axes._subplots.AxesSubplot at 0x7f34e39f0e10>"
            ]
          },
          "metadata": {
            "tags": []
          },
          "execution_count": 12
        },
        {
          "output_type": "display_data",
          "data": {
            "image/png": "[encoded data removed]",
            "text/plain": [
              "<Figure size 1440x720 with 2 Axes>"
            ]
          },
          "metadata": {
            "tags": [],
            "needs_background": "light"
          }
        }
      ]
    },
    {
      "cell_type": "code",
      "metadata": {
        "id": "r5VihuSTMRBi",
        "colab_type": "code",
        "colab": {
          "base_uri": "https://localhost:8080/",
          "height": 34
        },
        "outputId": "566b2c8c-5307-4e5c-b67e-213cf7d9cf79"
      },
      "source": [
        "chosen = [\"Loudness\", \"Valence\", \"Danceability\", \"Acousticness\", \"Audio + Lyrics analysis\" ,\"Total_mental_health\"]\n",
        "\n",
        "X = dataset[chosen].values\n",
        "y = dataset[\"Total_mental_health\"].values\n",
        "\n",
        "from sklearn.preprocessing import MinMaxScaler\n",
        "min_max_scaler = MinMaxScaler()\n",
        "X = min_max_scaler.fit_transform(X)\n",
        "\n",
        "# On va utiliser la méthode de sélection PCA afin de choisir les 3 variables qui expliquent une grande partie de la variance de notre dataset donc exploitable pour notre modèle \n",
        "from sklearn.decomposition import PCA\n",
        "pca = PCA(n_components=3)\n",
        "pca.fit(X)\n",
        "\n",
        "X = pca.transform(X)\n",
        "\n",
        "pca.explained_variance_ratio_\n",
        "\n"
      ],
      "execution_count": 14,
      "outputs": [
        {
          "output_type": "execute_result",
          "data": {
            "text/plain": [
              "array([0.51839807, 0.23074051, 0.10759126])"
            ]
          },
          "metadata": {
            "tags": []
          },
          "execution_count": 14
        }
      ]
    },
    {
      "cell_type": "code",
      "metadata": {
        "id": "6qULsKyBKxAc",
        "colab_type": "code",
        "colab": {}
      },
      "source": [
        ""
      ],
      "execution_count": 13,
      "outputs": []
    }
  ]
}