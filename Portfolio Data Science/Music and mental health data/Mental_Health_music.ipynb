{
  "nbformat": 4,
  "nbformat_minor": 0,
  "metadata": {
    "colab": {
      "name": "Mental Health music.ipynb",
      "provenance": []
    },
    "kernelspec": {
      "name": "python3",
      "display_name": "Python 3"
    }
  },
  "cells": [
    {
      "cell_type": "markdown",
      "metadata": {
        "id": "YJLnURzoHArV",
        "colab_type": "text"
      },
      "source": [
        "##Projet de machine learning : Mental Health and music"
      ]
    },
    {
      "cell_type": "markdown",
      "metadata": {
        "id": "4F_t5hImGHYt",
        "colab_type": "text"
      },
      "source": [
        "La problématique que l'on va essayer de résoudre est la corrélation entre la musique et la dépression afin de prédire \"mental health\" en fonction des paramètre Intensité, aspect dansant, émotion, sentiment. La variable cible à prédire est l'intensité de la santé psychologique (Low, médium est high)\n",
        "\n",
        "\n",
        "Les données proviennent de la plateforme Kaggle source : Spotify"
      ]
    },
    {
      "cell_type": "code",
      "metadata": {
        "id": "J6O3w1ESG8-q",
        "colab_type": "code",
        "colab": {
          "base_uri": "https://localhost:8080/",
          "height": 54
        },
        "outputId": "53fdb37c-c5d4-44de-f3fb-fd6bd85e2e7d"
      },
      "source": [
        "# Importations des librairies \n",
        "\n",
        "import pandas as pd \n",
        "import matplotlib.pyplot as plt\n",
        "import seaborn as sns \n",
        "import numpy as np"
      ],
      "execution_count": 1,
      "outputs": [
        {
          "output_type": "stream",
          "text": [
            "/usr/local/lib/python3.6/dist-packages/statsmodels/tools/_testing.py:19: FutureWarning: pandas.util.testing is deprecated. Use the functions in the public API at pandas.testing instead.\n",
            "  import pandas.util.testing as tm\n"
          ],
          "name": "stderr"
        }
      ]
    },
    {
      "cell_type": "code",
      "metadata": {
        "id": "-KXUYPq6HcnD",
        "colab_type": "code",
        "colab": {}
      },
      "source": [
        "# Importation du dataset\n",
        "\n",
        "dataset = pd.read_csv('https://raw.githubusercontent.com/Delphine-Jean/Delphine-Jean_portfolio/master/Portfolio%20Data%20Science/Music%20and%20mental%20health%20data/datasets_566879_1031115_master_song_data.csv')"
      ],
      "execution_count": 2,
      "outputs": []
    },
    {
      "cell_type": "code",
      "metadata": {
        "id": "NJgBs96BHohw",
        "colab_type": "code",
        "colab": {
          "base_uri": "https://localhost:8080/",
          "height": 581
        },
        "outputId": "f58e14cc-ae32-4024-9de1-5e4083515491"
      },
      "source": [
        "# Observations de notre dataset\n",
        "\n",
        "dataset.head()"
      ],
      "execution_count": 3,
      "outputs": [
        {
          "output_type": "execute_result",
          "data": {
            "text/html": [
              "<div>\n",
              "<style scoped>\n",
              "    .dataframe tbody tr th:only-of-type {\n",
              "        vertical-align: middle;\n",
              "    }\n",
              "\n",
              "    .dataframe tbody tr th {\n",
              "        vertical-align: top;\n",
              "    }\n",
              "\n",
              "    .dataframe thead th {\n",
              "        text-align: right;\n",
              "    }\n",
              "</style>\n",
              "<table border=\"1\" class=\"dataframe\">\n",
              "  <thead>\n",
              "    <tr style=\"text-align: right;\">\n",
              "      <th></th>\n",
              "      <th>Participant_ID</th>\n",
              "      <th>Song_name</th>\n",
              "      <th>Artist</th>\n",
              "      <th>Spotify_ID</th>\n",
              "      <th>Loudness</th>\n",
              "      <th>Valence</th>\n",
              "      <th>Danceability</th>\n",
              "      <th>Acousticness</th>\n",
              "      <th>Instrumental</th>\n",
              "      <th>Audio_class</th>\n",
              "      <th>Lyrics</th>\n",
              "      <th>Sentiment_class</th>\n",
              "      <th>Audio + Lyrics analysis</th>\n",
              "      <th>Total_mental_health</th>\n",
              "      <th>Mental_health_severity_class</th>\n",
              "    </tr>\n",
              "  </thead>\n",
              "  <tbody>\n",
              "    <tr>\n",
              "      <th>0</th>\n",
              "      <td>2</td>\n",
              "      <td>Here again</td>\n",
              "      <td>Elevation Worship</td>\n",
              "      <td>1wuqCUWHniGdEmOKZbQ1cg</td>\n",
              "      <td>-8.210</td>\n",
              "      <td>0.103</td>\n",
              "      <td>0.124</td>\n",
              "      <td>0.0128</td>\n",
              "      <td>0.000000</td>\n",
              "      <td>Sad</td>\n",
              "      <td>Can't go back to the beginning\\n Can't control...</td>\n",
              "      <td>Positive</td>\n",
              "      <td>Sad</td>\n",
              "      <td>8</td>\n",
              "      <td>Low</td>\n",
              "    </tr>\n",
              "    <tr>\n",
              "      <th>1</th>\n",
              "      <td>2</td>\n",
              "      <td>The Stand</td>\n",
              "      <td>Hillsong United</td>\n",
              "      <td>0j2sui6BmkPy974W3VG3RZ</td>\n",
              "      <td>-8.128</td>\n",
              "      <td>0.133</td>\n",
              "      <td>0.449</td>\n",
              "      <td>0.1470</td>\n",
              "      <td>0.000000</td>\n",
              "      <td>Sad</td>\n",
              "      <td>You stood before creation\\n Eternity in your h...</td>\n",
              "      <td>Positive</td>\n",
              "      <td>Sad</td>\n",
              "      <td>8</td>\n",
              "      <td>Low</td>\n",
              "    </tr>\n",
              "    <tr>\n",
              "      <th>2</th>\n",
              "      <td>2</td>\n",
              "      <td>Here I Bow</td>\n",
              "      <td>Brian Johnson</td>\n",
              "      <td>3RMcL7vuHuRzJQfMEuoJJP</td>\n",
              "      <td>-7.395</td>\n",
              "      <td>0.218</td>\n",
              "      <td>0.389</td>\n",
              "      <td>0.6780</td>\n",
              "      <td>0.000001</td>\n",
              "      <td>Sad</td>\n",
              "      <td>[Adolf Hitler:]\\n Vader... This is your last c...</td>\n",
              "      <td>Positive</td>\n",
              "      <td>Sad</td>\n",
              "      <td>8</td>\n",
              "      <td>Low</td>\n",
              "    </tr>\n",
              "    <tr>\n",
              "      <th>3</th>\n",
              "      <td>3</td>\n",
              "      <td>On my way</td>\n",
              "      <td>Alan Walker</td>\n",
              "      <td>5csliehPVWFrDaWJvdSvbB</td>\n",
              "      <td>-5.952</td>\n",
              "      <td>0.295</td>\n",
              "      <td>0.616</td>\n",
              "      <td>0.0480</td>\n",
              "      <td>0.000119</td>\n",
              "      <td>Tense</td>\n",
              "      <td>Today I'm kinda feelin' like a ghost\\n Call my...</td>\n",
              "      <td>Positive</td>\n",
              "      <td>Exciting,Disturbing</td>\n",
              "      <td>15</td>\n",
              "      <td>Med</td>\n",
              "    </tr>\n",
              "    <tr>\n",
              "      <th>4</th>\n",
              "      <td>3</td>\n",
              "      <td>Bad guy</td>\n",
              "      <td>Billie Eilish</td>\n",
              "      <td>2Fxmhks0bxGSBdJ92vM42m</td>\n",
              "      <td>-10.965</td>\n",
              "      <td>0.562</td>\n",
              "      <td>0.701</td>\n",
              "      <td>0.3280</td>\n",
              "      <td>0.130000</td>\n",
              "      <td>Relax</td>\n",
              "      <td>White shirt now red, my bloody nose\\n Sleepin'...</td>\n",
              "      <td>Positive</td>\n",
              "      <td>Relax</td>\n",
              "      <td>15</td>\n",
              "      <td>Med</td>\n",
              "    </tr>\n",
              "  </tbody>\n",
              "</table>\n",
              "</div>"
            ],
            "text/plain": [
              "   Participant_ID   Song_name  ... Total_mental_health Mental_health_severity_class\n",
              "0               2  Here again  ...                   8                          Low\n",
              "1               2   The Stand  ...                   8                          Low\n",
              "2               2  Here I Bow  ...                   8                          Low\n",
              "3               3   On my way  ...                  15                          Med\n",
              "4               3     Bad guy  ...                  15                          Med\n",
              "\n",
              "[5 rows x 15 columns]"
            ]
          },
          "metadata": {
            "tags": []
          },
          "execution_count": 3
        }
      ]
    },
    {
      "cell_type": "code",
      "metadata": {
        "id": "xl0AopbtHwk-",
        "colab_type": "code",
        "colab": {
          "base_uri": "https://localhost:8080/",
          "height": 108
        },
        "outputId": "896ae3e2-4442-44ba-e652-b98cef87b856"
      },
      "source": [
        "dataset.columns"
      ],
      "execution_count": 4,
      "outputs": [
        {
          "output_type": "execute_result",
          "data": {
            "text/plain": [
              "Index(['Participant_ID', 'Song_name', 'Artist', 'Spotify_ID', 'Loudness',\n",
              "       'Valence', 'Danceability', 'Acousticness', 'Instrumental',\n",
              "       'Audio_class', 'Lyrics', 'Sentiment_class', 'Audio + Lyrics analysis',\n",
              "       'Total_mental_health', 'Mental_health_severity_class'],\n",
              "      dtype='object')"
            ]
          },
          "metadata": {
            "tags": []
          },
          "execution_count": 4
        }
      ]
    },
    {
      "cell_type": "code",
      "metadata": {
        "id": "5iz5VDXBH4YW",
        "colab_type": "code",
        "colab": {
          "base_uri": "https://localhost:8080/",
          "height": 35
        },
        "outputId": "8b39eaf5-5fed-4f1d-dba5-817d809550d9"
      },
      "source": [
        "dataset.shape\n",
        "\n",
        "#On observe un nombre peu significatif d'observations pour implémenter un modèle"
      ],
      "execution_count": 5,
      "outputs": [
        {
          "output_type": "execute_result",
          "data": {
            "text/plain": [
              "(206, 15)"
            ]
          },
          "metadata": {
            "tags": []
          },
          "execution_count": 5
        }
      ]
    },
    {
      "cell_type": "code",
      "metadata": {
        "id": "vVP4NRXEH--2",
        "colab_type": "code",
        "colab": {
          "base_uri": "https://localhost:8080/",
          "height": 417
        },
        "outputId": "40da4cb5-02aa-47dd-af65-5d46a878515c"
      },
      "source": [
        "dataset.info()"
      ],
      "execution_count": 6,
      "outputs": [
        {
          "output_type": "stream",
          "text": [
            "<class 'pandas.core.frame.DataFrame'>\n",
            "RangeIndex: 206 entries, 0 to 205\n",
            "Data columns (total 15 columns):\n",
            " #   Column                        Non-Null Count  Dtype  \n",
            "---  ------                        --------------  -----  \n",
            " 0   Participant_ID                206 non-null    int64  \n",
            " 1   Song_name                     206 non-null    object \n",
            " 2   Artist                        206 non-null    object \n",
            " 3   Spotify_ID                    206 non-null    object \n",
            " 4   Loudness                      206 non-null    float64\n",
            " 5   Valence                       206 non-null    float64\n",
            " 6   Danceability                  206 non-null    float64\n",
            " 7   Acousticness                  206 non-null    float64\n",
            " 8   Instrumental                  206 non-null    float64\n",
            " 9   Audio_class                   206 non-null    object \n",
            " 10  Lyrics                        206 non-null    object \n",
            " 11  Sentiment_class               206 non-null    object \n",
            " 12  Audio + Lyrics analysis       206 non-null    object \n",
            " 13  Total_mental_health           206 non-null    int64  \n",
            " 14  Mental_health_severity_class  206 non-null    object \n",
            "dtypes: float64(5), int64(2), object(8)\n",
            "memory usage: 24.3+ KB\n"
          ],
          "name": "stdout"
        }
      ]
    },
    {
      "cell_type": "code",
      "metadata": {
        "id": "5AdE4BZM280R",
        "colab_type": "code",
        "colab": {}
      },
      "source": [
        "# Supression des variables non pertinente pour notre analyse\n",
        "dataset = dataset.drop(columns=['Participant_ID','Spotify_ID','Total_mental_health','Artist','Song_name','Audio_class','Lyrics','Sentiment_class','Audio + Lyrics analysis'])"
      ],
      "execution_count": 7,
      "outputs": []
    },
    {
      "cell_type": "code",
      "metadata": {
        "id": "r6vju0R-3f8-",
        "colab_type": "code",
        "colab": {
          "base_uri": "https://localhost:8080/",
          "height": 72
        },
        "outputId": "73b51d1f-3b35-4f02-e63e-78e4dca6191b"
      },
      "source": [
        "dataset.columns"
      ],
      "execution_count": 8,
      "outputs": [
        {
          "output_type": "execute_result",
          "data": {
            "text/plain": [
              "Index(['Loudness', 'Valence', 'Danceability', 'Acousticness', 'Instrumental',\n",
              "       'Mental_health_severity_class'],\n",
              "      dtype='object')"
            ]
          },
          "metadata": {
            "tags": []
          },
          "execution_count": 8
        }
      ]
    },
    {
      "cell_type": "code",
      "metadata": {
        "id": "YFMLUpxv5yOU",
        "colab_type": "code",
        "colab": {}
      },
      "source": [
        "#Transformation numérique de notre variable target \"Mental health severity\"\n",
        "\n",
        "replace_map = {'Mental_health_severity_class': {'Low': 1,'Med': 2,'High': 3}}"
      ],
      "execution_count": 9,
      "outputs": []
    },
    {
      "cell_type": "code",
      "metadata": {
        "id": "Vub7HogX9YDA",
        "colab_type": "code",
        "colab": {}
      },
      "source": [
        "dataset.replace(replace_map, inplace=True)"
      ],
      "execution_count": 10,
      "outputs": []
    },
    {
      "cell_type": "code",
      "metadata": {
        "id": "hiaqA_gL-gpZ",
        "colab_type": "code",
        "colab": {
          "base_uri": "https://localhost:8080/",
          "height": 235
        },
        "outputId": "aae761a9-5b49-4e05-90b9-00156c9f1cd6"
      },
      "source": [
        "pd.to_numeric(dataset.Mental_health_severity_class)"
      ],
      "execution_count": 11,
      "outputs": [
        {
          "output_type": "execute_result",
          "data": {
            "text/plain": [
              "0      1\n",
              "1      1\n",
              "2      1\n",
              "3      2\n",
              "4      2\n",
              "      ..\n",
              "201    2\n",
              "202    2\n",
              "203    2\n",
              "204    2\n",
              "205    2\n",
              "Name: Mental_health_severity_class, Length: 206, dtype: int64"
            ]
          },
          "metadata": {
            "tags": []
          },
          "execution_count": 11
        }
      ]
    },
    {
      "cell_type": "code",
      "metadata": {
        "id": "eU-ZMh2_90wi",
        "colab_type": "code",
        "colab": {
          "base_uri": "https://localhost:8080/",
          "height": 35
        },
        "outputId": "d7773efd-f9e3-40fe-b753-6bed7b01b8b1"
      },
      "source": [
        "dataset.iloc[:,-1].unique()"
      ],
      "execution_count": 12,
      "outputs": [
        {
          "output_type": "execute_result",
          "data": {
            "text/plain": [
              "array([1, 2, 3])"
            ]
          },
          "metadata": {
            "tags": []
          },
          "execution_count": 12
        }
      ]
    },
    {
      "cell_type": "code",
      "metadata": {
        "id": "X73CzNSoDFy0",
        "colab_type": "code",
        "colab": {
          "base_uri": "https://localhost:8080/",
          "height": 254
        },
        "outputId": "18f57685-0355-4efa-fcfb-dc1a4552bf9f"
      },
      "source": [
        "dataset.info()"
      ],
      "execution_count": 13,
      "outputs": [
        {
          "output_type": "stream",
          "text": [
            "<class 'pandas.core.frame.DataFrame'>\n",
            "RangeIndex: 206 entries, 0 to 205\n",
            "Data columns (total 6 columns):\n",
            " #   Column                        Non-Null Count  Dtype  \n",
            "---  ------                        --------------  -----  \n",
            " 0   Loudness                      206 non-null    float64\n",
            " 1   Valence                       206 non-null    float64\n",
            " 2   Danceability                  206 non-null    float64\n",
            " 3   Acousticness                  206 non-null    float64\n",
            " 4   Instrumental                  206 non-null    float64\n",
            " 5   Mental_health_severity_class  206 non-null    int64  \n",
            "dtypes: float64(5), int64(1)\n",
            "memory usage: 9.8 KB\n"
          ],
          "name": "stdout"
        }
      ]
    },
    {
      "cell_type": "code",
      "metadata": {
        "id": "AgHXAVLN97W5",
        "colab_type": "code",
        "colab": {
          "base_uri": "https://localhost:8080/",
          "height": 297
        },
        "outputId": "d6fdf217-c062-4fe3-cfaa-02218ec05d8e"
      },
      "source": [
        "sns.scatterplot(x=dataset['Loudness'],y = dataset['Mental_health_severity_class'])"
      ],
      "execution_count": 23,
      "outputs": [
        {
          "output_type": "execute_result",
          "data": {
            "text/plain": [
              "<matplotlib.axes._subplots.AxesSubplot at 0x7fe97bc5b4e0>"
            ]
          },
          "metadata": {
            "tags": []
          },
          "execution_count": 23
        },
        {
          "output_type": "display_data",
          "data": {
            "image/png": "[encoded data removed]",
            "text/plain": [
              "<Figure size 432x288 with 1 Axes>"
            ]
          },
          "metadata": {
            "tags": [],
            "needs_background": "light"
          }
        }
      ]
    },
    {
      "cell_type": "code",
      "metadata": {
        "id": "nAtI2_1YHkg6",
        "colab_type": "code",
        "colab": {}
      },
      "source": [
        "dataset_corr = dataset.corr()"
      ],
      "execution_count": 15,
      "outputs": []
    },
    {
      "cell_type": "code",
      "metadata": {
        "id": "FAmBOoGNI9TT",
        "colab_type": "code",
        "colab": {
          "base_uri": "https://localhost:8080/",
          "height": 423
        },
        "outputId": "218b08d7-e417-46eb-f971-35c7e243c0b8"
      },
      "source": [
        "# Matrice de corrélation\n",
        "sns.heatmap(data=dataset_corr,annot=True)"
      ],
      "execution_count": 16,
      "outputs": [
        {
          "output_type": "execute_result",
          "data": {
            "text/plain": [
              "<matplotlib.axes._subplots.AxesSubplot at 0x7fe97fe52b00>"
            ]
          },
          "metadata": {
            "tags": []
          },
          "execution_count": 16
        },
        {
          "output_type": "display_data",
          "data": {
            "image/png": "[encoded data removed]",
            "text/plain": [
              "<Figure size 432x288 with 2 Axes>"
            ]
          },
          "metadata": {
            "tags": [],
            "needs_background": "light"
          }
        }
      ]
    },
    {
      "cell_type": "code",
      "metadata": {
        "id": "jPogsCZkJkvn",
        "colab_type": "code",
        "colab": {}
      },
      "source": [
        "# Les corréaltions des features sur notre target est trés faible, la variable la plus corrélé \"Danceability\" est seulement de 0,068\n",
        "\n",
        "# Nous allons normaliser les variables afin de voir si on a une meilleure matrice de corrélation"
      ],
      "execution_count": 17,
      "outputs": []
    }
  ]
}