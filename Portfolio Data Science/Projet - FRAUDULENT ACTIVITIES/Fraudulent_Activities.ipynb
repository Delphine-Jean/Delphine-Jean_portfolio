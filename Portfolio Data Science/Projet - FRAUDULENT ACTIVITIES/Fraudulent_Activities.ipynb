{
  "nbformat": 4,
  "nbformat_minor": 0,
  "metadata": {
    "colab": {
      "name": "Fraudulent Fraud V2.ipynb",
      "provenance": []
    },
    "kernelspec": {
      "name": "python3",
      "display_name": "Python 3"
    }
  },
  "cells": [
    {
      "cell_type": "code",
      "metadata": {
        "id": "OVHH8lMs1xss"
      },
      "source": [
        "import numpy as np\n",
        "import pandas as pd\n",
        "import seaborn as sns\n",
        "import matplotlib.pyplot as plt\n",
        "import datetime as dt\n",
        "import calendar\n",
        "from datetime import datetime"
      ],
      "execution_count": 1,
      "outputs": []
    },
    {
      "cell_type": "markdown",
      "metadata": {
        "id": "RpiPHDeB2nfs"
      },
      "source": [
        "### Chargement des datasets / Renommage de \"class\" en \"result\" (certaines méthodes Python réagissent mal au nom \"class\")"
      ]
    },
    {
      "cell_type": "code",
      "metadata": {
        "id": "yf7Xjb9Y2c_k"
      },
      "source": [
        "# Chargement des datasets\n",
        "\n",
        "dataset = pd.read_csv(\"https://raw.githubusercontent.com/Delphine-Jean/Sources/main/Fraud_Data.csv\")\n",
        "countries = pd.read_csv(\"https://raw.githubusercontent.com/Delphine-Jean/Sources/main/IpAddress_to_Country.csv\")\n",
        "\n",
        "# Renommage de Class en Result\n",
        "\n",
        "dataset[\"result\"] = dataset[\"class\"]\n",
        "\n",
        "\n"
      ],
      "execution_count": 2,
      "outputs": []
    },
    {
      "cell_type": "markdown",
      "metadata": {
        "id": "QFNoZw9e76BE"
      },
      "source": [
        "# Preprocessing / Features engineering"
      ]
    },
    {
      "cell_type": "markdown",
      "metadata": {
        "id": "ZEqg0Jh38B9n"
      },
      "source": [
        "## Fonction pour amener le nom des pays du dataset secondaire vers le dataset \n",
        "\n",
        "---"
      ]
    },
    {
      "cell_type": "code",
      "metadata": {
        "id": "T0BpRyDa8GxS"
      },
      "source": [
        "# Fonction pour amener le nom des pays du dataset secondaire vers le dataset principal\n",
        "\n",
        "def transform_ip(arg) :\n",
        "    try :\n",
        "        return countries.country[(countries.lower_bound_ip_address < arg) & (countries.upper_bound_ip_address > arg)].iloc[0]\n",
        "    except IndexError :\n",
        "        return \"Pays inconnu\"  \n",
        "      \n",
        "\n",
        "dataset[\"Pays\"] = dataset.ip_address.apply(transform_ip)"
      ],
      "execution_count": 3,
      "outputs": []
    },
    {
      "cell_type": "markdown",
      "metadata": {
        "id": "ZLRTNsZR-Hg7"
      },
      "source": [
        "# Preprocessing / Features engineering"
      ]
    },
    {
      "cell_type": "markdown",
      "metadata": {
        "id": "0ljgPkVb-B9c"
      },
      "source": [
        "## Fonction pour amener le nom des pays du dataset secondaire vers le dataset \n",
        "\n",
        "---\n",
        "\n",
        "principal"
      ]
    },
    {
      "cell_type": "code",
      "metadata": {
        "id": "8qOZ_A_EE0dI"
      },
      "source": [
        "#Fonction afin de transférer les noms des pays du dataset secondaire vers le dataset principal \n",
        "\n",
        "def transform_ip(arg) :\n",
        "  try :\n",
        "      return countries.country[(countries.lower_bound_ip_adress < arg) & (countries.upper_bound_ip_adress > arg)].iloc[0]\n",
        "  except IndexError : \n",
        "      return \"Pays inconnu\"\n",
        "\n",
        "  dataset[\"Pays\"] = dataset.ip_adress.apply(transform_ip)"
      ],
      "execution_count": 4,
      "outputs": []
    },
    {
      "cell_type": "markdown",
      "metadata": {
        "id": "WyBja8XFICsB"
      },
      "source": [
        "### Travail sur les variables de dates et création des variables plus détaillées "
      ]
    },
    {
      "cell_type": "markdown",
      "metadata": {
        "id": "4SHMlrbzINe5"
      },
      "source": [
        "Transformation de purchase_date et signup_date en format Datetime\n"
      ]
    },
    {
      "cell_type": "code",
      "metadata": {
        "id": "yflpOoSuIv9q"
      },
      "source": [
        "dataset['signup_time'] = pd.to_datetime(dataset['signup_time'])\n",
        "dataset['purchase_time'] = pd.to_datetime(dataset['purchase_time'])"
      ],
      "execution_count": 5,
      "outputs": []
    },
    {
      "cell_type": "markdown",
      "metadata": {
        "id": "0lGNIiegJIqX"
      },
      "source": [
        "Sur purchase_date : Création d'une nouvelle variable pour avoir un numéro de mois\n",
        "\n",
        "Sur purchase_date : Création d'une nouvelle variable pour avoir un nom de jour puis un numéro de jour"
      ]
    },
    {
      "cell_type": "code",
      "metadata": {
        "id": "TnGxOJCAKaJs"
      },
      "source": [
        "from dateutil import parser\n",
        "dataset['purchase_month'] = dataset['purchase_time'].dt.month \n",
        "\n",
        "dataset[\"purchase_day\"] = dataset.purchase_time.apply(lambda x: calendar.day_name[x.weekday()])\n",
        "dataset[\"purchase_day\"] = dataset[\"purchase_day\"].replace([\"Monday\",\"Tuesday\",\"Wednesday\",\"Thursday\",\"Friday\",\"Saturday\",\"Sunday\"],[1,2,3,4,5,6,7])"
      ],
      "execution_count": 10,
      "outputs": []
    },
    {
      "cell_type": "markdown",
      "metadata": {
        "id": "aEE7LetnK0hT"
      },
      "source": [
        " - Création d'un dataset parallèle pour : \n",
        "\n",
        "Y calculer **le delta entre le signup et le pruchase** (exprimé en secondes) en créant les variables \"time_to_purchase\" et \"seconds_purchase\" \n",
        "\n",
        "- Ensuite, cette valeur est rapatriée dans le dataset principal pour : \n",
        "\n",
        "**Créer une variable \"bot\"** qui conclue que l'on a affaire à un robot lorsque \"time_to_purchase\" est inférieur à 5 secondes\n",
        "        \n"
      ]
    },
    {
      "cell_type": "code",
      "metadata": {
        "id": "1xlufj9DLHQm"
      },
      "source": [
        "dataset2 = pd.read_csv(\"https://raw.githubusercontent.com/Delphine-Jean/Sources/main/Fraud_Data.csv\")\n",
        "purchase = dataset2['purchase_time'].apply(lambda x: datetime.strptime(x,'%Y-%m-%d %H:%M:%S'))\n",
        "signup = dataset2['signup_time'].apply(lambda x: datetime.strptime(x,'%Y-%m-%d %H:%M:%S'))\n",
        "dataset[\"time_to_purchase\"] = purchase - signup\n",
        "dataset[\"seconds_purchase\"] = pd.DataFrame(dataset[\"time_to_purchase\"].apply(lambda x: x.total_seconds()))\n",
        "dataset[\"bot\"] = dataset[\"seconds_purchase\"].apply(lambda x: 1 if x <= 5 else 0)"
      ],
      "execution_count": 13,
      "outputs": []
    },
    {
      "cell_type": "markdown",
      "metadata": {
        "id": "_K0nfZ8rNH1D"
      },
      "source": [
        "## Visualisations pour disséquer le Dataset et créer de nouvelles variables\n"
      ]
    },
    {
      "cell_type": "markdown",
      "metadata": {
        "id": "D35luTkpNJrn"
      },
      "source": [
        "Le dataset comporte **9,36 % de fraude**. Comme la variable result comporte 1 (fraude) ou 0 (non fraude), il est ainsi facile de calculer une moyenne de fraude"
      ]
    },
    {
      "cell_type": "code",
      "metadata": {
        "colab": {
          "base_uri": "https://localhost:8080/"
        },
        "id": "q9cyuIPINTE7",
        "outputId": "876c4848-bfd1-4169-befd-b938a8223af4"
      },
      "source": [
        "dataset[\"result\"].mean()*100"
      ],
      "execution_count": 14,
      "outputs": [
        {
          "output_type": "execute_result",
          "data": {
            "text/plain": [
              "9.364577267192546"
            ]
          },
          "metadata": {
            "tags": []
          },
          "execution_count": 14
        }
      ]
    },
    {
      "cell_type": "markdown",
      "metadata": {
        "id": "z6tCMgO9Nb_M"
      },
      "source": [
        "Création de deux variables qui serviront uniquement à certaines visualisations"
      ]
    },
    {
      "cell_type": "code",
      "metadata": {
        "id": "c4mNSLfVNfjU"
      },
      "source": [
        "cas_frauduleux = dataset.query('result == 1')\n",
        "cas_non_frauduleux = dataset.query('result == 0')"
      ],
      "execution_count": 15,
      "outputs": []
    },
    {
      "cell_type": "markdown",
      "metadata": {
        "id": "AtLa7GdgOlSR"
      },
      "source": [
        "Distribution des cas non frauduleux / purchase_value : on s'approche d'une **distribution en cloche**"
      ]
    },
    {
      "cell_type": "code",
      "metadata": {
        "id": "5r2_syU943XO",
        "colab": {
          "base_uri": "https://localhost:8080/",
          "height": 351
        },
        "outputId": "1636a9c0-1437-4d3a-d081-c5957fcc9d36"
      },
      "source": [
        "sns.distplot(cas_non_frauduleux.purchase_value)"
      ],
      "execution_count": 16,
      "outputs": [
        {
          "output_type": "stream",
          "text": [
            "/usr/local/lib/python3.6/dist-packages/seaborn/distributions.py:2551: FutureWarning: `distplot` is a deprecated function and will be removed in a future version. Please adapt your code to use either `displot` (a figure-level function with similar flexibility) or `histplot` (an axes-level function for histograms).\n",
            "  warnings.warn(msg, FutureWarning)\n"
          ],
          "name": "stderr"
        },
        {
          "output_type": "execute_result",
          "data": {
            "text/plain": [
              "<matplotlib.axes._subplots.AxesSubplot at 0x7f78c7fcbb38>"
            ]
          },
          "metadata": {
            "tags": []
          },
          "execution_count": 16
        },
        {
          "output_type": "display_data",
          "data": {
            "image/png": "[encoded data removed]",
            "text/plain": [
              "<Figure size 432x288 with 1 Axes>"
            ]
          },
          "metadata": {
            "tags": [],
            "needs_background": "light"
          }
        }
      ]
    },
    {
      "cell_type": "markdown",
      "metadata": {
        "id": "UrjvzWcHOwyw"
      },
      "source": [
        "Distribution des cas frauduleux / purchase_value : pas de distribution normale mais on observe des **palliers fraude / jalons de prix**"
      ]
    },
    {
      "cell_type": "code",
      "metadata": {
        "colab": {
          "base_uri": "https://localhost:8080/",
          "height": 351
        },
        "id": "T1yH4n-jOoFN",
        "outputId": "66f83424-558a-4531-cd81-09d72574f7f9"
      },
      "source": [
        "sns.distplot(cas_frauduleux.purchase_value)"
      ],
      "execution_count": 17,
      "outputs": [
        {
          "output_type": "stream",
          "text": [
            "/usr/local/lib/python3.6/dist-packages/seaborn/distributions.py:2551: FutureWarning: `distplot` is a deprecated function and will be removed in a future version. Please adapt your code to use either `displot` (a figure-level function with similar flexibility) or `histplot` (an axes-level function for histograms).\n",
            "  warnings.warn(msg, FutureWarning)\n"
          ],
          "name": "stderr"
        },
        {
          "output_type": "execute_result",
          "data": {
            "text/plain": [
              "<matplotlib.axes._subplots.AxesSubplot at 0x7f78c7b28198>"
            ]
          },
          "metadata": {
            "tags": []
          },
          "execution_count": 17
        },
        {
          "output_type": "display_data",
          "data": {
            "image/png": "[encoded data removed]",
            "text/plain": [
              "<Figure size 432x288 with 1 Axes>"
            ]
          },
          "metadata": {
            "tags": [],
            "needs_background": "light"
          }
        }
      ]
    },
    {
      "cell_type": "markdown",
      "metadata": {
        "id": "kBhBXajLO_Xq"
      },
      "source": [
        "Donc : création d'une variable \"purchase_category\" qui créera des **catégories** depuis \"purchase_value\" (0-20, 21-35, 36-60, 51 et +)"
      ]
    },
    {
      "cell_type": "code",
      "metadata": {
        "id": "MGd3SRzlPCJ2"
      },
      "source": [
        "dataset[\"purchase_category\"] = dataset[\"purchase_value\"].apply(lambda x: '51-' if x>=51\n",
        "                                    else \"36-50\" if x>=36\n",
        "                                    else \"21-35\" if x>=21\n",
        "                                    else \"0-20\")"
      ],
      "execution_count": 20,
      "outputs": []
    },
    {
      "cell_type": "markdown",
      "metadata": {
        "id": "i4eIIzGDQkBB"
      },
      "source": [
        "## Temporalité des fraudes"
      ]
    },
    {
      "cell_type": "markdown",
      "metadata": {
        "id": "EyJt_dZ0Qwb7"
      },
      "source": [
        "La très grande majorité des fraudes ont lieu **durant le mois de janvier**\n"
      ]
    },
    {
      "cell_type": "code",
      "metadata": {
        "colab": {
          "base_uri": "https://localhost:8080/",
          "height": 282
        },
        "id": "WAxNmSnsQxss",
        "outputId": "0ed1db49-ccb1-4b45-bfd3-a95a813edee2"
      },
      "source": [
        "dataset.groupby('purchase_month').result.value_counts().unstack(1).plot.barh()"
      ],
      "execution_count": 21,
      "outputs": [
        {
          "output_type": "execute_result",
          "data": {
            "text/plain": [
              "<matplotlib.axes._subplots.AxesSubplot at 0x7f78c79ee978>"
            ]
          },
          "metadata": {
            "tags": []
          },
          "execution_count": 21
        },
        {
          "output_type": "display_data",
          "data": {
            "image/png": "[encoded data removed]",
            "text/plain": [
              "<Figure size 432x288 with 1 Axes>"
            ]
          },
          "metadata": {
            "tags": [],
            "needs_background": "light"
          }
        }
      ]
    },
    {
      "cell_type": "markdown",
      "metadata": {
        "id": "NjZ3qIshRGLG"
      },
      "source": [
        "Les fraudes sont assez bien lissées sur les jours de la semaine. Quoiqu'elles ont tendeance à aller crescendo jusqu'au dimanche"
      ]
    },
    {
      "cell_type": "code",
      "metadata": {
        "colab": {
          "base_uri": "https://localhost:8080/",
          "height": 282
        },
        "id": "KBfIpEmDO32l",
        "outputId": "48a1e8d0-d068-4f11-dd93-e4011731f66c"
      },
      "source": [
        "dataset.groupby('purchase_day').result.value_counts().unstack(1).plot.barh()"
      ],
      "execution_count": 22,
      "outputs": [
        {
          "output_type": "execute_result",
          "data": {
            "text/plain": [
              "<matplotlib.axes._subplots.AxesSubplot at 0x7f78c7adbb38>"
            ]
          },
          "metadata": {
            "tags": []
          },
          "execution_count": 22
        },
        {
          "output_type": "display_data",
          "data": {
            "image/png": "[encoded data removed]",
            "text/plain": [
              "<Figure size 432x288 with 1 Axes>"
            ]
          },
          "metadata": {
            "tags": [],
            "needs_background": "light"
          }
        }
      ]
    },
    {
      "cell_type": "markdown",
      "metadata": {
        "id": "yP3jf7NYWbqJ"
      },
      "source": [
        "### Travail sur la variable \"device\" (appareil utilisé pour l'achat) afin d'en extraire des variables plus intéréssantes"
      ]
    },
    {
      "cell_type": "markdown",
      "metadata": {
        "id": "TMACht0yWkd9"
      },
      "source": [
        "- Certains devices ont servi 19 fois à effectuer des fraudes"
      ]
    },
    {
      "cell_type": "code",
      "metadata": {
        "colab": {
          "base_uri": "https://localhost:8080/",
          "height": 390
        },
        "id": "4crYzPlbWpOU",
        "outputId": "b83daec4-9f86-4d69-f617-58152a15dca3"
      },
      "source": [
        "decompte_device = dataset.groupby(\"device_id\").sum()\n",
        "decompte_device_2 = decompte_device.query('result > 1')\n",
        "decompte_device_2 = decompte_device.sort_values(by='result', ascending=False)\n",
        "decompte_device_2.head(10)"
      ],
      "execution_count": 23,
      "outputs": [
        {
          "output_type": "execute_result",
          "data": {
            "text/html": [
              "<div>\n",
              "<style scoped>\n",
              "    .dataframe tbody tr th:only-of-type {\n",
              "        vertical-align: middle;\n",
              "    }\n",
              "\n",
              "    .dataframe tbody tr th {\n",
              "        vertical-align: top;\n",
              "    }\n",
              "\n",
              "    .dataframe thead th {\n",
              "        text-align: right;\n",
              "    }\n",
              "</style>\n",
              "<table border=\"1\" class=\"dataframe\">\n",
              "  <thead>\n",
              "    <tr style=\"text-align: right;\">\n",
              "      <th></th>\n",
              "      <th>user_id</th>\n",
              "      <th>purchase_value</th>\n",
              "      <th>age</th>\n",
              "      <th>ip_address</th>\n",
              "      <th>class</th>\n",
              "      <th>result</th>\n",
              "      <th>purchase_month</th>\n",
              "      <th>purchase_day</th>\n",
              "      <th>seconds_purchase</th>\n",
              "      <th>bot</th>\n",
              "    </tr>\n",
              "    <tr>\n",
              "      <th>device_id</th>\n",
              "      <th></th>\n",
              "      <th></th>\n",
              "      <th></th>\n",
              "      <th></th>\n",
              "      <th></th>\n",
              "      <th></th>\n",
              "      <th></th>\n",
              "      <th></th>\n",
              "      <th></th>\n",
              "      <th></th>\n",
              "    </tr>\n",
              "  </thead>\n",
              "  <tbody>\n",
              "    <tr>\n",
              "      <th>NGQCKIADMZORL</th>\n",
              "      <td>4102045</td>\n",
              "      <td>840</td>\n",
              "      <td>680</td>\n",
              "      <td>4.101928e+10</td>\n",
              "      <td>19</td>\n",
              "      <td>19</td>\n",
              "      <td>21</td>\n",
              "      <td>121</td>\n",
              "      <td>3119025.0</td>\n",
              "      <td>19</td>\n",
              "    </tr>\n",
              "    <tr>\n",
              "      <th>EQYVNEGOFLAWK</th>\n",
              "      <td>3661993</td>\n",
              "      <td>1369</td>\n",
              "      <td>744</td>\n",
              "      <td>3.500421e+10</td>\n",
              "      <td>19</td>\n",
              "      <td>19</td>\n",
              "      <td>31</td>\n",
              "      <td>76</td>\n",
              "      <td>16107103.0</td>\n",
              "      <td>18</td>\n",
              "    </tr>\n",
              "    <tr>\n",
              "      <th>CQTUVBYIWWWBC</th>\n",
              "      <td>3335041</td>\n",
              "      <td>644</td>\n",
              "      <td>847</td>\n",
              "      <td>8.107377e+09</td>\n",
              "      <td>19</td>\n",
              "      <td>19</td>\n",
              "      <td>29</td>\n",
              "      <td>137</td>\n",
              "      <td>11131568.0</td>\n",
              "      <td>18</td>\n",
              "    </tr>\n",
              "    <tr>\n",
              "      <th>KIPFSCNUGOLDP</th>\n",
              "      <td>3409073</td>\n",
              "      <td>1160</td>\n",
              "      <td>720</td>\n",
              "      <td>1.152122e+10</td>\n",
              "      <td>19</td>\n",
              "      <td>19</td>\n",
              "      <td>20</td>\n",
              "      <td>121</td>\n",
              "      <td>723231.0</td>\n",
              "      <td>19</td>\n",
              "    </tr>\n",
              "    <tr>\n",
              "      <th>ZUSVMDEZRBDTX</th>\n",
              "      <td>4580050</td>\n",
              "      <td>940</td>\n",
              "      <td>1100</td>\n",
              "      <td>3.005637e+10</td>\n",
              "      <td>19</td>\n",
              "      <td>19</td>\n",
              "      <td>22</td>\n",
              "      <td>45</td>\n",
              "      <td>7073947.0</td>\n",
              "      <td>19</td>\n",
              "    </tr>\n",
              "    <tr>\n",
              "      <th>ITUMJCKWEYNDD</th>\n",
              "      <td>3751981</td>\n",
              "      <td>760</td>\n",
              "      <td>860</td>\n",
              "      <td>7.749515e+10</td>\n",
              "      <td>19</td>\n",
              "      <td>19</td>\n",
              "      <td>23</td>\n",
              "      <td>116</td>\n",
              "      <td>9247798.0</td>\n",
              "      <td>19</td>\n",
              "    </tr>\n",
              "    <tr>\n",
              "      <th>BWSMVSLCJXMCM</th>\n",
              "      <td>4286246</td>\n",
              "      <td>285</td>\n",
              "      <td>741</td>\n",
              "      <td>5.582008e+10</td>\n",
              "      <td>18</td>\n",
              "      <td>18</td>\n",
              "      <td>23</td>\n",
              "      <td>57</td>\n",
              "      <td>10263998.0</td>\n",
              "      <td>18</td>\n",
              "    </tr>\n",
              "    <tr>\n",
              "      <th>CDFXVYHOIHPYP</th>\n",
              "      <td>3553992</td>\n",
              "      <td>836</td>\n",
              "      <td>608</td>\n",
              "      <td>4.914672e+10</td>\n",
              "      <td>18</td>\n",
              "      <td>18</td>\n",
              "      <td>20</td>\n",
              "      <td>41</td>\n",
              "      <td>2698960.0</td>\n",
              "      <td>18</td>\n",
              "    </tr>\n",
              "    <tr>\n",
              "      <th>IGKYVZDBEGALB</th>\n",
              "      <td>4002848</td>\n",
              "      <td>494</td>\n",
              "      <td>741</td>\n",
              "      <td>3.421044e+10</td>\n",
              "      <td>18</td>\n",
              "      <td>18</td>\n",
              "      <td>21</td>\n",
              "      <td>112</td>\n",
              "      <td>4653283.0</td>\n",
              "      <td>18</td>\n",
              "    </tr>\n",
              "    <tr>\n",
              "      <th>SDJQRPKXQFBED</th>\n",
              "      <td>3809105</td>\n",
              "      <td>627</td>\n",
              "      <td>855</td>\n",
              "      <td>5.811692e+10</td>\n",
              "      <td>18</td>\n",
              "      <td>18</td>\n",
              "      <td>20</td>\n",
              "      <td>23</td>\n",
              "      <td>2757525.0</td>\n",
              "      <td>18</td>\n",
              "    </tr>\n",
              "  </tbody>\n",
              "</table>\n",
              "</div>"
            ],
            "text/plain": [
              "               user_id  purchase_value  ...  seconds_purchase  bot\n",
              "device_id                               ...                       \n",
              "NGQCKIADMZORL  4102045             840  ...         3119025.0   19\n",
              "EQYVNEGOFLAWK  3661993            1369  ...        16107103.0   18\n",
              "CQTUVBYIWWWBC  3335041             644  ...        11131568.0   18\n",
              "KIPFSCNUGOLDP  3409073            1160  ...          723231.0   19\n",
              "ZUSVMDEZRBDTX  4580050             940  ...         7073947.0   19\n",
              "ITUMJCKWEYNDD  3751981             760  ...         9247798.0   19\n",
              "BWSMVSLCJXMCM  4286246             285  ...        10263998.0   18\n",
              "CDFXVYHOIHPYP  3553992             836  ...         2698960.0   18\n",
              "IGKYVZDBEGALB  4002848             494  ...         4653283.0   18\n",
              "SDJQRPKXQFBED  3809105             627  ...         2757525.0   18\n",
              "\n",
              "[10 rows x 10 columns]"
            ]
          },
          "metadata": {
            "tags": []
          },
          "execution_count": 23
        }
      ]
    },
    {
      "cell_type": "markdown",
      "metadata": {
        "id": "Z6CcnuyfXBvK"
      },
      "source": [
        "- Certains de ces devices frauduleux ont causé des préjudices aux alentours de 1 500 $"
      ]
    },
    {
      "cell_type": "code",
      "metadata": {
        "colab": {
          "base_uri": "https://localhost:8080/",
          "height": 390
        },
        "id": "-m-G3oWXU8HK",
        "outputId": "28b5bf55-f5be-4c52-ae30-cc7a4046de3b"
      },
      "source": [
        "decompte_device_2 = decompte_device.query('result > 1')\n",
        "decompte_device_3 = decompte_device.sort_values(by='purchase_value', ascending=False)\n",
        "decompte_device_3.head(10)"
      ],
      "execution_count": 24,
      "outputs": [
        {
          "output_type": "execute_result",
          "data": {
            "text/html": [
              "<div>\n",
              "<style scoped>\n",
              "    .dataframe tbody tr th:only-of-type {\n",
              "        vertical-align: middle;\n",
              "    }\n",
              "\n",
              "    .dataframe tbody tr th {\n",
              "        vertical-align: top;\n",
              "    }\n",
              "\n",
              "    .dataframe thead th {\n",
              "        text-align: right;\n",
              "    }\n",
              "</style>\n",
              "<table border=\"1\" class=\"dataframe\">\n",
              "  <thead>\n",
              "    <tr style=\"text-align: right;\">\n",
              "      <th></th>\n",
              "      <th>user_id</th>\n",
              "      <th>purchase_value</th>\n",
              "      <th>age</th>\n",
              "      <th>ip_address</th>\n",
              "      <th>class</th>\n",
              "      <th>result</th>\n",
              "      <th>purchase_month</th>\n",
              "      <th>purchase_day</th>\n",
              "      <th>seconds_purchase</th>\n",
              "      <th>bot</th>\n",
              "    </tr>\n",
              "    <tr>\n",
              "      <th>device_id</th>\n",
              "      <th></th>\n",
              "      <th></th>\n",
              "      <th></th>\n",
              "      <th></th>\n",
              "      <th></th>\n",
              "      <th></th>\n",
              "      <th></th>\n",
              "      <th></th>\n",
              "      <th></th>\n",
              "      <th></th>\n",
              "    </tr>\n",
              "  </thead>\n",
              "  <tbody>\n",
              "    <tr>\n",
              "      <th>KPAAACGRQWYIK</th>\n",
              "      <td>4113295</td>\n",
              "      <td>1458</td>\n",
              "      <td>432</td>\n",
              "      <td>3.311546e+09</td>\n",
              "      <td>17</td>\n",
              "      <td>17</td>\n",
              "      <td>21</td>\n",
              "      <td>36</td>\n",
              "      <td>9053278.0</td>\n",
              "      <td>17</td>\n",
              "    </tr>\n",
              "    <tr>\n",
              "      <th>UOMHJMHDVTLAS</th>\n",
              "      <td>3442096</td>\n",
              "      <td>1376</td>\n",
              "      <td>288</td>\n",
              "      <td>3.272740e+10</td>\n",
              "      <td>15</td>\n",
              "      <td>15</td>\n",
              "      <td>19</td>\n",
              "      <td>52</td>\n",
              "      <td>9429804.0</td>\n",
              "      <td>15</td>\n",
              "    </tr>\n",
              "    <tr>\n",
              "      <th>EQYVNEGOFLAWK</th>\n",
              "      <td>3661993</td>\n",
              "      <td>1369</td>\n",
              "      <td>744</td>\n",
              "      <td>3.500421e+10</td>\n",
              "      <td>19</td>\n",
              "      <td>19</td>\n",
              "      <td>31</td>\n",
              "      <td>76</td>\n",
              "      <td>16107103.0</td>\n",
              "      <td>18</td>\n",
              "    </tr>\n",
              "    <tr>\n",
              "      <th>KHHAMKJCMODJA</th>\n",
              "      <td>3222535</td>\n",
              "      <td>1320</td>\n",
              "      <td>405</td>\n",
              "      <td>5.028436e+10</td>\n",
              "      <td>14</td>\n",
              "      <td>14</td>\n",
              "      <td>16</td>\n",
              "      <td>75</td>\n",
              "      <td>4254508.0</td>\n",
              "      <td>14</td>\n",
              "    </tr>\n",
              "    <tr>\n",
              "      <th>TZSHXHDMKLRYJ</th>\n",
              "      <td>2871784</td>\n",
              "      <td>1288</td>\n",
              "      <td>252</td>\n",
              "      <td>8.423327e+09</td>\n",
              "      <td>13</td>\n",
              "      <td>13</td>\n",
              "      <td>16</td>\n",
              "      <td>83</td>\n",
              "      <td>5342869.0</td>\n",
              "      <td>13</td>\n",
              "    </tr>\n",
              "    <tr>\n",
              "      <th>RWZCXZTQUORQL</th>\n",
              "      <td>2987610</td>\n",
              "      <td>1278</td>\n",
              "      <td>810</td>\n",
              "      <td>2.306347e+10</td>\n",
              "      <td>17</td>\n",
              "      <td>17</td>\n",
              "      <td>21</td>\n",
              "      <td>123</td>\n",
              "      <td>8787771.0</td>\n",
              "      <td>17</td>\n",
              "    </tr>\n",
              "    <tr>\n",
              "      <th>FMSUVPZFDTJDV</th>\n",
              "      <td>2832862</td>\n",
              "      <td>1196</td>\n",
              "      <td>306</td>\n",
              "      <td>2.571607e+10</td>\n",
              "      <td>12</td>\n",
              "      <td>12</td>\n",
              "      <td>18</td>\n",
              "      <td>55</td>\n",
              "      <td>10878419.0</td>\n",
              "      <td>12</td>\n",
              "    </tr>\n",
              "    <tr>\n",
              "      <th>KIPFSCNUGOLDP</th>\n",
              "      <td>3409073</td>\n",
              "      <td>1160</td>\n",
              "      <td>720</td>\n",
              "      <td>1.152122e+10</td>\n",
              "      <td>19</td>\n",
              "      <td>19</td>\n",
              "      <td>20</td>\n",
              "      <td>121</td>\n",
              "      <td>723231.0</td>\n",
              "      <td>19</td>\n",
              "    </tr>\n",
              "    <tr>\n",
              "      <th>POEPUWBVHBKEH</th>\n",
              "      <td>2747843</td>\n",
              "      <td>1155</td>\n",
              "      <td>525</td>\n",
              "      <td>3.646773e+10</td>\n",
              "      <td>14</td>\n",
              "      <td>14</td>\n",
              "      <td>18</td>\n",
              "      <td>89</td>\n",
              "      <td>9003820.0</td>\n",
              "      <td>14</td>\n",
              "    </tr>\n",
              "    <tr>\n",
              "      <th>UYESMZUTQQKVF</th>\n",
              "      <td>2397343</td>\n",
              "      <td>1144</td>\n",
              "      <td>572</td>\n",
              "      <td>2.116013e+10</td>\n",
              "      <td>12</td>\n",
              "      <td>12</td>\n",
              "      <td>16</td>\n",
              "      <td>17</td>\n",
              "      <td>6972834.0</td>\n",
              "      <td>12</td>\n",
              "    </tr>\n",
              "  </tbody>\n",
              "</table>\n",
              "</div>"
            ],
            "text/plain": [
              "               user_id  purchase_value  ...  seconds_purchase  bot\n",
              "device_id                               ...                       \n",
              "KPAAACGRQWYIK  4113295            1458  ...         9053278.0   17\n",
              "UOMHJMHDVTLAS  3442096            1376  ...         9429804.0   15\n",
              "EQYVNEGOFLAWK  3661993            1369  ...        16107103.0   18\n",
              "KHHAMKJCMODJA  3222535            1320  ...         4254508.0   14\n",
              "TZSHXHDMKLRYJ  2871784            1288  ...         5342869.0   13\n",
              "RWZCXZTQUORQL  2987610            1278  ...         8787771.0   17\n",
              "FMSUVPZFDTJDV  2832862            1196  ...        10878419.0   12\n",
              "KIPFSCNUGOLDP  3409073            1160  ...          723231.0   19\n",
              "POEPUWBVHBKEH  2747843            1155  ...         9003820.0   14\n",
              "UYESMZUTQQKVF  2397343            1144  ...         6972834.0   12\n",
              "\n",
              "[10 rows x 10 columns]"
            ]
          },
          "metadata": {
            "tags": []
          },
          "execution_count": 24
        }
      ]
    },
    {
      "cell_type": "code",
      "metadata": {
        "colab": {
          "base_uri": "https://localhost:8080/",
          "height": 317
        },
        "id": "VLQGkGrPXFvO",
        "outputId": "928cf727-2812-4249-e7a3-048c71ecdcae"
      },
      "source": [
        "total_fraude = cas_frauduleux['purchase_value'].sum()\n",
        "total_ventes = dataset['purchase_value'].sum()\n",
        "total_ventes_reglos = total_ventes - total_fraude\n",
        "\n",
        "labels = \"Part du CA impacté par la fraude\",\"Part du CA non impacté par la fraude\"\n",
        "sizes = [total_fraude,total_ventes_reglos]\n",
        "explode = (0.1, 0, 0, 0)\n",
        "\n",
        "fig1, ax1 = plt.subplots()\n",
        "ax1.pie(sizes, labels=labels, autopct='%1.1f%%',shadow=True, startangle=90)\n",
        "ax1.axis('equal')"
      ],
      "execution_count": 25,
      "outputs": [
        {
          "output_type": "execute_result",
          "data": {
            "text/plain": [
              "(-1.1071813255801977,\n",
              " 1.1072833903119546,\n",
              " -1.10567289120639,\n",
              " 1.1002701376764947)"
            ]
          },
          "metadata": {
            "tags": []
          },
          "execution_count": 25
        },
        {
          "output_type": "display_data",
          "data": {
            "image/png": "[encoded data removed]",
            "text/plain": [
              "<Figure size 432x288 with 1 Axes>"
            ]
          },
          "metadata": {
            "tags": []
          }
        }
      ]
    },
    {
      "cell_type": "code",
      "metadata": {
        "colab": {
          "base_uri": "https://localhost:8080/"
        },
        "id": "6DA-oiZHXKWx",
        "outputId": "27b433a4-ed46-4fb2-c429-f52e3f30f579"
      },
      "source": [
        "print(\"Les ventes impactées par la fraude s'élèvent à :\" , total_fraude,\"$\")\n",
        "print(\"Pour comparaison, les ventes totales s'élèvent elle à :\" , total_ventes ,\"$\")"
      ],
      "execution_count": 26,
      "outputs": [
        {
          "output_type": "stream",
          "text": [
            "Les ventes impactées par la fraude s'élèvent à : 523488 $\n",
            "Pour comparaison, les ventes totales s'élèvent elle à : 5581378 $\n"
          ],
          "name": "stdout"
        }
      ]
    },
    {
      "cell_type": "markdown",
      "metadata": {
        "id": "tTyk-qjvXWh9"
      },
      "source": [
        "- Donc création dans le dataset principal d'une **nouvelle variable \"frequence_utilisation\"** qui indique le nombre de fois où le device est utilisé pour effectuer un achat sur le site "
      ]
    },
    {
      "cell_type": "code",
      "metadata": {
        "id": "lrjnVgPrXPcW"
      },
      "source": [
        "devices_reccurents = pd.DataFrame(dataset.groupby(by = \"device_id\").device_id.count())\n",
        "devices_reccurents.rename(columns={\"device_id\": \"frequence_utilisation\"}, inplace=True)\n",
        "devices_reccurents.reset_index(level=0, inplace= True) \n",
        "\n",
        "dataset = dataset.merge(devices_reccurents, on= \"device_id\")"
      ],
      "execution_count": 27,
      "outputs": []
    },
    {
      "cell_type": "markdown",
      "metadata": {
        "id": "wYc2NYo7Xf7_"
      },
      "source": [
        "### Observation des pays où il y a le plus de cas fraduleux : USA surreprésentés"
      ]
    },
    {
      "cell_type": "code",
      "metadata": {
        "colab": {
          "base_uri": "https://localhost:8080/",
          "height": 265
        },
        "id": "DdhrKPwuXb03",
        "outputId": "db50c83d-cfb6-4132-c03e-7ca8eac52992"
      },
      "source": [
        "dataset.Pays.value_counts()[dataset.Pays.value_counts() >2000].plot(kind=\"pie\")"
      ],
      "execution_count": 28,
      "outputs": [
        {
          "output_type": "execute_result",
          "data": {
            "text/plain": [
              "<matplotlib.axes._subplots.AxesSubplot at 0x7f78c4b3add8>"
            ]
          },
          "metadata": {
            "tags": []
          },
          "execution_count": 28
        },
        {
          "output_type": "display_data",
          "data": {
            "image/png": "[encoded data removed]",
            "text/plain": [
              "<Figure size 432x288 with 1 Axes>"
            ]
          },
          "metadata": {
            "tags": []
          }
        }
      ]
    },
    {
      "cell_type": "markdown",
      "metadata": {
        "id": "KJPLaYPoXoUK"
      },
      "source": [
        "Il sera difficile de faire tourner un modèle avec autant de pays (surtout un Random Forest) dans la colonne \"Pays\". Donc il y a besoin de simplifier cette variable. "
      ]
    },
    {
      "cell_type": "markdown",
      "metadata": {
        "id": "X3_Ml4ulXuR8"
      },
      "source": [
        "- On créé donc une **nouvelle variable** **\"taux_de_fraude_pays\"** qui indiquera pour chaque pays un taux Transaction frauduleuse / transaction non frauduleuses. Cela en calculant pour chaque pays la moyenne dans la colonne \"result\" (pour rappel : 1 vaut fraude et 0 vaut transaction valide)"
      ]
    },
    {
      "cell_type": "code",
      "metadata": {
        "id": "TpkhGWhvXjWz"
      },
      "source": [
        "score_pays = pd.DataFrame(dataset.groupby(by=\"Pays\").mean()[\"result\"].sort_values(ascending = False))\n",
        "score_pays[\"taux_de_fraude_pays\"] = score_pays[\"result\"]\n",
        "\n",
        "dataset = dataset.merge(score_pays.drop(\"result\", axis = 1), left_on= \"Pays\", right_index = True)"
      ],
      "execution_count": 29,
      "outputs": []
    },
    {
      "cell_type": "markdown",
      "metadata": {
        "id": "1wQFd6eAX3ea"
      },
      "source": [
        "- Certains pays ont des taux de fraude de 1, ou proches de 0.5"
      ]
    },
    {
      "cell_type": "code",
      "metadata": {
        "colab": {
          "base_uri": "https://localhost:8080/",
          "height": 235
        },
        "id": "_qr2tusSXzRq",
        "outputId": "0c638060-89fc-488a-d480-2474f3d33a15"
      },
      "source": [
        "score_pays.head()"
      ],
      "execution_count": 30,
      "outputs": [
        {
          "output_type": "execute_result",
          "data": {
            "text/html": [
              "<div>\n",
              "<style scoped>\n",
              "    .dataframe tbody tr th:only-of-type {\n",
              "        vertical-align: middle;\n",
              "    }\n",
              "\n",
              "    .dataframe tbody tr th {\n",
              "        vertical-align: top;\n",
              "    }\n",
              "\n",
              "    .dataframe thead th {\n",
              "        text-align: right;\n",
              "    }\n",
              "</style>\n",
              "<table border=\"1\" class=\"dataframe\">\n",
              "  <thead>\n",
              "    <tr style=\"text-align: right;\">\n",
              "      <th></th>\n",
              "      <th>result</th>\n",
              "      <th>taux_de_fraude_pays</th>\n",
              "    </tr>\n",
              "    <tr>\n",
              "      <th>Pays</th>\n",
              "      <th></th>\n",
              "      <th></th>\n",
              "    </tr>\n",
              "  </thead>\n",
              "  <tbody>\n",
              "    <tr>\n",
              "      <th>Turkmenistan</th>\n",
              "      <td>1.000000</td>\n",
              "      <td>1.000000</td>\n",
              "    </tr>\n",
              "    <tr>\n",
              "      <th>Namibia</th>\n",
              "      <td>0.434783</td>\n",
              "      <td>0.434783</td>\n",
              "    </tr>\n",
              "    <tr>\n",
              "      <th>Sri Lanka</th>\n",
              "      <td>0.419355</td>\n",
              "      <td>0.419355</td>\n",
              "    </tr>\n",
              "    <tr>\n",
              "      <th>Luxembourg</th>\n",
              "      <td>0.388889</td>\n",
              "      <td>0.388889</td>\n",
              "    </tr>\n",
              "    <tr>\n",
              "      <th>Virgin Islands (U.S.)</th>\n",
              "      <td>0.333333</td>\n",
              "      <td>0.333333</td>\n",
              "    </tr>\n",
              "  </tbody>\n",
              "</table>\n",
              "</div>"
            ],
            "text/plain": [
              "                         result  taux_de_fraude_pays\n",
              "Pays                                                \n",
              "Turkmenistan           1.000000             1.000000\n",
              "Namibia                0.434783             0.434783\n",
              "Sri Lanka              0.419355             0.419355\n",
              "Luxembourg             0.388889             0.388889\n",
              "Virgin Islands (U.S.)  0.333333             0.333333"
            ]
          },
          "metadata": {
            "tags": []
          },
          "execution_count": 30
        }
      ]
    },
    {
      "cell_type": "markdown",
      "metadata": {
        "id": "GgUti6XIX_ZQ"
      },
      "source": [
        "- La distribution des fraudes indique un pic important aux alentours des 5%, 10 \n",
        "\n",
        "\n",
        "%, 12 % et 20 % de fraude.  "
      ]
    },
    {
      "cell_type": "code",
      "metadata": {
        "colab": {
          "base_uri": "https://localhost:8080/",
          "height": 351
        },
        "id": "dVr9VaX3X6Zg",
        "outputId": "7eeebdd9-36fb-460b-f57e-e9f7fc6fa9e9"
      },
      "source": [
        "fraude_constatee = dataset.query('taux_de_fraude_pays > 0.0')\n",
        "sns.distplot(fraude_constatee[\"taux_de_fraude_pays\"],kde=False)"
      ],
      "execution_count": 31,
      "outputs": [
        {
          "output_type": "stream",
          "text": [
            "/usr/local/lib/python3.6/dist-packages/seaborn/distributions.py:2551: FutureWarning: `distplot` is a deprecated function and will be removed in a future version. Please adapt your code to use either `displot` (a figure-level function with similar flexibility) or `histplot` (an axes-level function for histograms).\n",
            "  warnings.warn(msg, FutureWarning)\n"
          ],
          "name": "stderr"
        },
        {
          "output_type": "execute_result",
          "data": {
            "text/plain": [
              "<matplotlib.axes._subplots.AxesSubplot at 0x7f78c4bbc710>"
            ]
          },
          "metadata": {
            "tags": []
          },
          "execution_count": 31
        },
        {
          "output_type": "display_data",
          "data": {
            "image/png": "[encoded data removed]",
            "text/plain": [
              "<Figure size 432x288 with 1 Axes>"
            ]
          },
          "metadata": {
            "tags": [],
            "needs_background": "light"
          }
        }
      ]
    },
    {
      "cell_type": "markdown",
      "metadata": {
        "id": "dKhKr_mWYIpx"
      },
      "source": [
        "- Donc, une variable \"groupe_pays_fraude\" sera créé avec les seuils de 5 %, 10 %, 12 % et 20 % (toujours dans l'optique de faciliter l'apprentissage du modèle)"
      ]
    },
    {
      "cell_type": "code",
      "metadata": {
        "id": "OgPdQTKHYC0y"
      },
      "source": [
        "dataset[\"groupe_pays_fraude\"] = dataset[\"taux_de_fraude_pays\"].apply(lambda x: \"20-\" if x>=21 \n",
        "                         \t\t      \telse \"11-20\" if x>=11\n",
        "                         \t\t      \telse \"6-10\" if x>=6\n",
        "                         \t\t      \telse \"0-5\") "
      ],
      "execution_count": 33,
      "outputs": []
    },
    {
      "cell_type": "markdown",
      "metadata": {
        "id": "O7nZDuKiYQEu"
      },
      "source": [
        "### Travail sur la variable \"age\""
      ]
    },
    {
      "cell_type": "markdown",
      "metadata": {
        "id": "842E-o-jYUq5"
      },
      "source": [
        "La variable \"age\" contient un certains nombre de pics qui constitueront autant de seuils afin de les classer en catégories et ainsi simplifier le travail du modèle par la suite"
      ]
    },
    {
      "cell_type": "code",
      "metadata": {
        "colab": {
          "base_uri": "https://localhost:8080/",
          "height": 350
        },
        "id": "l1FMRtwjYGeS",
        "outputId": "5246e65c-3ee3-4d9c-a526-c25a90c9b6eb"
      },
      "source": [
        "sns.distplot(dataset.age)"
      ],
      "execution_count": 34,
      "outputs": [
        {
          "output_type": "stream",
          "text": [
            "/usr/local/lib/python3.6/dist-packages/seaborn/distributions.py:2551: FutureWarning: `distplot` is a deprecated function and will be removed in a future version. Please adapt your code to use either `displot` (a figure-level function with similar flexibility) or `histplot` (an axes-level function for histograms).\n",
            "  warnings.warn(msg, FutureWarning)\n"
          ],
          "name": "stderr"
        },
        {
          "output_type": "execute_result",
          "data": {
            "text/plain": [
              "<matplotlib.axes._subplots.AxesSubplot at 0x7f78c4a2dcc0>"
            ]
          },
          "metadata": {
            "tags": []
          },
          "execution_count": 34
        },
        {
          "output_type": "display_data",
          "data": {
            "image/png": "[encoded data removed]",
            "text/plain": [
              "<Figure size 432x288 with 1 Axes>"
            ]
          },
          "metadata": {
            "tags": [],
            "needs_background": "light"
          }
        }
      ]
    },
    {
      "cell_type": "code",
      "metadata": {
        "id": "KUYX8jMfYaH6"
      },
      "source": [
        "dataset[\"categorie_age\"] = dataset[\"age\"].apply(lambda x: \"41-\" if x>=41\n",
        "                         \t\t      \telse \"33-40\" if x>=33\n",
        "                         \t\t      \telse \"26-32\" if x>=26\n",
        "                         \t\t      \telse \"0-25\") "
      ],
      "execution_count": 35,
      "outputs": []
    },
    {
      "cell_type": "markdown",
      "metadata": {
        "id": "ZtB1qESDYkBy"
      },
      "source": [
        "## Nettoyage du dataset et dernières opérations avant entraînement du modèle"
      ]
    },
    {
      "cell_type": "markdown",
      "metadata": {
        "id": "YDUV7wSMYqTq"
      },
      "source": [
        "Après toutes ces étapes, les variables suivantes ont été créées dans le dataset : \n",
        "\n",
        "- \"result\" pour remplacer \"class\"\n",
        "- \"Pays\" pour rappatrier le bon pays pour la bonne IP\n",
        "- \"purchase_month\" pour le mois de l'achat\n",
        "- \"purchase_day\" pour le numéro du jour où l'achat a été effectué \n",
        "- \"time_to_purchase\" pour compter le temps entre le signup et le purchase\n",
        "- \"seconds_purchase\" pour compter ce même temps mais en secondes\n",
        "- \"bot\" pour flaguer les cas où le delta signup / purchase est inférieur à 5 secondes\n",
        "- \"purchase_category\" pour classer le montant des achats en plusieurs catégories\n",
        "- \"frequence_utilisation\" pour compter le nombre de fois où un même numéro de device à servi à faire un achat\n",
        "- \"taux_de_fraude_pays\" pour indiquer le taux de fraude pour un pays donné\n",
        "- \"groupe_pays_fraude\" pour classer les pays selon leur niveau d'exposition à la fraude\n",
        "- \"categorie_age\" pour classer les âges en catégories issues de la distribution des âges dans le dataset"
      ]
    },
    {
      "cell_type": "markdown",
      "metadata": {
        "id": "EDePOE20Yzbn"
      },
      "source": [
        "\n",
        "Donc, toutes les variables ne sont pas utiles (car redondantes / et peuvent créer de la colinéarité en cas de modèle linéaire) et certaines d'entre elles peuvent être supprimées :\n",
        "\n",
        "- \"user_id\"\n",
        "- \"signup_time\"\n",
        "- \"purchase_time\"\n",
        "- \"purchase_value\"\n",
        "- \"device_id\"\n",
        "- \"ip_address\"\n",
        "- \"class\"\n",
        "- \"Pays\"\n",
        "- \"time_to_purchase\"\n",
        "- \"seconds_purchase\"\n",
        "- \"taux_de_fraude_pays\"\n"
      ]
    },
    {
      "cell_type": "code",
      "metadata": {
        "id": "jO6pvzr8Yeme"
      },
      "source": [
        "dataset_2 = dataset\n",
        "dataset_2 = dataset_2.drop([\"age\",\"user_id\", \"signup_time\",\"purchase_time\",\"purchase_value\",\"device_id\",\"ip_address\",\"class\",\"Pays\",\"time_to_purchase\",\"seconds_purchase\",\"taux_de_fraude_pays\"],axis=1)"
      ],
      "execution_count": 36,
      "outputs": []
    },
    {
      "cell_type": "markdown",
      "metadata": {
        "id": "b9xFyLHuZHgP"
      },
      "source": [
        "On dummyfie les variables catégorielles (moins nombreuses grâce au preprocessing donc)\n"
      ]
    },
    {
      "cell_type": "code",
      "metadata": {
        "id": "U2eyWI1qY82f"
      },
      "source": [
        "dataset_2 = pd.get_dummies(dataset_2, drop_first=True) "
      ],
      "execution_count": 38,
      "outputs": []
    },
    {
      "cell_type": "markdown",
      "metadata": {
        "id": "v8oARBbDZQRi"
      },
      "source": [
        "**Le dataset suivant servira pour l'apprentissage ressemble donc à cela**"
      ]
    },
    {
      "cell_type": "code",
      "metadata": {
        "colab": {
          "base_uri": "https://localhost:8080/",
          "height": 241
        },
        "id": "3DpvFzEEZEpu",
        "outputId": "8e842b61-86bc-4f75-ef4f-3a7e41329cf9"
      },
      "source": [
        "dataset_2.head()"
      ],
      "execution_count": 39,
      "outputs": [
        {
          "output_type": "execute_result",
          "data": {
            "text/html": [
              "<div>\n",
              "<style scoped>\n",
              "    .dataframe tbody tr th:only-of-type {\n",
              "        vertical-align: middle;\n",
              "    }\n",
              "\n",
              "    .dataframe tbody tr th {\n",
              "        vertical-align: top;\n",
              "    }\n",
              "\n",
              "    .dataframe thead th {\n",
              "        text-align: right;\n",
              "    }\n",
              "</style>\n",
              "<table border=\"1\" class=\"dataframe\">\n",
              "  <thead>\n",
              "    <tr style=\"text-align: right;\">\n",
              "      <th></th>\n",
              "      <th>result</th>\n",
              "      <th>purchase_month</th>\n",
              "      <th>purchase_day</th>\n",
              "      <th>bot</th>\n",
              "      <th>frequence_utilisation</th>\n",
              "      <th>source_Direct</th>\n",
              "      <th>source_SEO</th>\n",
              "      <th>browser_FireFox</th>\n",
              "      <th>browser_IE</th>\n",
              "      <th>browser_Opera</th>\n",
              "      <th>browser_Safari</th>\n",
              "      <th>sex_M</th>\n",
              "      <th>purchase_category_21-35</th>\n",
              "      <th>purchase_category_36-50</th>\n",
              "      <th>purchase_category_51-</th>\n",
              "      <th>categorie_age_26-32</th>\n",
              "      <th>categorie_age_33-40</th>\n",
              "      <th>categorie_age_41-</th>\n",
              "    </tr>\n",
              "  </thead>\n",
              "  <tbody>\n",
              "    <tr>\n",
              "      <th>0</th>\n",
              "      <td>0</td>\n",
              "      <td>4</td>\n",
              "      <td>6</td>\n",
              "      <td>0</td>\n",
              "      <td>1</td>\n",
              "      <td>0</td>\n",
              "      <td>1</td>\n",
              "      <td>0</td>\n",
              "      <td>0</td>\n",
              "      <td>0</td>\n",
              "      <td>0</td>\n",
              "      <td>1</td>\n",
              "      <td>1</td>\n",
              "      <td>0</td>\n",
              "      <td>0</td>\n",
              "      <td>0</td>\n",
              "      <td>1</td>\n",
              "      <td>0</td>\n",
              "    </tr>\n",
              "    <tr>\n",
              "      <th>61</th>\n",
              "      <td>0</td>\n",
              "      <td>4</td>\n",
              "      <td>4</td>\n",
              "      <td>0</td>\n",
              "      <td>1</td>\n",
              "      <td>1</td>\n",
              "      <td>0</td>\n",
              "      <td>0</td>\n",
              "      <td>0</td>\n",
              "      <td>0</td>\n",
              "      <td>0</td>\n",
              "      <td>0</td>\n",
              "      <td>0</td>\n",
              "      <td>0</td>\n",
              "      <td>1</td>\n",
              "      <td>1</td>\n",
              "      <td>0</td>\n",
              "      <td>0</td>\n",
              "    </tr>\n",
              "    <tr>\n",
              "      <th>70</th>\n",
              "      <td>0</td>\n",
              "      <td>8</td>\n",
              "      <td>1</td>\n",
              "      <td>0</td>\n",
              "      <td>1</td>\n",
              "      <td>1</td>\n",
              "      <td>0</td>\n",
              "      <td>0</td>\n",
              "      <td>0</td>\n",
              "      <td>0</td>\n",
              "      <td>0</td>\n",
              "      <td>0</td>\n",
              "      <td>0</td>\n",
              "      <td>0</td>\n",
              "      <td>1</td>\n",
              "      <td>0</td>\n",
              "      <td>0</td>\n",
              "      <td>1</td>\n",
              "    </tr>\n",
              "    <tr>\n",
              "      <th>84</th>\n",
              "      <td>0</td>\n",
              "      <td>1</td>\n",
              "      <td>1</td>\n",
              "      <td>0</td>\n",
              "      <td>2</td>\n",
              "      <td>1</td>\n",
              "      <td>0</td>\n",
              "      <td>0</td>\n",
              "      <td>1</td>\n",
              "      <td>0</td>\n",
              "      <td>0</td>\n",
              "      <td>0</td>\n",
              "      <td>0</td>\n",
              "      <td>0</td>\n",
              "      <td>1</td>\n",
              "      <td>0</td>\n",
              "      <td>0</td>\n",
              "      <td>1</td>\n",
              "    </tr>\n",
              "    <tr>\n",
              "      <th>91</th>\n",
              "      <td>0</td>\n",
              "      <td>9</td>\n",
              "      <td>7</td>\n",
              "      <td>0</td>\n",
              "      <td>2</td>\n",
              "      <td>0</td>\n",
              "      <td>1</td>\n",
              "      <td>0</td>\n",
              "      <td>0</td>\n",
              "      <td>0</td>\n",
              "      <td>0</td>\n",
              "      <td>0</td>\n",
              "      <td>1</td>\n",
              "      <td>0</td>\n",
              "      <td>0</td>\n",
              "      <td>0</td>\n",
              "      <td>1</td>\n",
              "      <td>0</td>\n",
              "    </tr>\n",
              "  </tbody>\n",
              "</table>\n",
              "</div>"
            ],
            "text/plain": [
              "    result  purchase_month  ...  categorie_age_33-40  categorie_age_41-\n",
              "0        0               4  ...                    1                  0\n",
              "61       0               4  ...                    0                  0\n",
              "70       0               8  ...                    0                  1\n",
              "84       0               1  ...                    0                  1\n",
              "91       0               9  ...                    1                  0\n",
              "\n",
              "[5 rows x 18 columns]"
            ]
          },
          "metadata": {
            "tags": []
          },
          "execution_count": 39
        }
      ]
    },
    {
      "cell_type": "code",
      "metadata": {
        "colab": {
          "base_uri": "https://localhost:8080/"
        },
        "id": "aPKc_vaqZbND",
        "outputId": "124a6632-3ba7-41b3-fccf-3c13024ebb6a"
      },
      "source": [
        "dataset_2.columns"
      ],
      "execution_count": 40,
      "outputs": [
        {
          "output_type": "execute_result",
          "data": {
            "text/plain": [
              "Index(['result', 'purchase_month', 'purchase_day', 'bot',\n",
              "       'frequence_utilisation', 'source_Direct', 'source_SEO',\n",
              "       'browser_FireFox', 'browser_IE', 'browser_Opera', 'browser_Safari',\n",
              "       'sex_M', 'purchase_category_21-35', 'purchase_category_36-50',\n",
              "       'purchase_category_51-', 'categorie_age_26-32', 'categorie_age_33-40',\n",
              "       'categorie_age_41-'],\n",
              "      dtype='object')"
            ]
          },
          "metadata": {
            "tags": []
          },
          "execution_count": 40
        }
      ]
    },
    {
      "cell_type": "code",
      "metadata": {
        "colab": {
          "base_uri": "https://localhost:8080/"
        },
        "id": "g27vtkQQZj9g",
        "outputId": "6e0d02ab-ffbe-4db9-bd8e-dcd6b01329c9"
      },
      "source": [
        "dataset_2.shape"
      ],
      "execution_count": 41,
      "outputs": [
        {
          "output_type": "execute_result",
          "data": {
            "text/plain": [
              "(151112, 18)"
            ]
          },
          "metadata": {
            "tags": []
          },
          "execution_count": 41
        }
      ]
    },
    {
      "cell_type": "markdown",
      "metadata": {
        "id": "XSknSTH-ZyDA"
      },
      "source": [
        "#Entraînement du modèle"
      ]
    },
    {
      "cell_type": "markdown",
      "metadata": {
        "id": "LyYDELxMZ2iF"
      },
      "source": [
        "Création de X et y, et split du dataset en train/test"
      ]
    },
    {
      "cell_type": "code",
      "metadata": {
        "id": "5s9WPV-iZoqz"
      },
      "source": [
        "y = dataset_2.iloc[:,0]\n",
        "X = dataset_2.iloc[:,1:]"
      ],
      "execution_count": 42,
      "outputs": []
    },
    {
      "cell_type": "code",
      "metadata": {
        "id": "mj4ifIqyZ7nK"
      },
      "source": [
        "from sklearn.model_selection import train_test_split\n",
        "\n",
        "X_train, X_test, y_train, y_test = train_test_split(X, y, test_size = 0.2)"
      ],
      "execution_count": 43,
      "outputs": []
    },
    {
      "cell_type": "markdown",
      "metadata": {
        "id": "jVYNgnvyaFLH"
      },
      "source": [
        "###Premier entraînement avec une Regression Logistique"
      ]
    },
    {
      "cell_type": "code",
      "metadata": {
        "id": "5BKyqHYsaAeX"
      },
      "source": [
        "from sklearn.preprocessing import StandardScaler\n",
        "\n",
        "sc_x = StandardScaler()\n",
        "\n",
        "sc_x_fit = sc_x.fit(X_train)\n",
        "\n",
        "X_train = sc_x.transform(X_train)\n",
        "X_test = sc_x.transform(X_test)"
      ],
      "execution_count": 44,
      "outputs": []
    },
    {
      "cell_type": "code",
      "metadata": {
        "colab": {
          "base_uri": "https://localhost:8080/"
        },
        "id": "SBtOUngDaLpw",
        "outputId": "377fc7e2-1f54-4a38-f0bc-1cf1c8c65521"
      },
      "source": [
        "from sklearn.linear_model import LogisticRegression\n",
        "logistic = LogisticRegression()\n",
        "logistic.fit(X_train, y_train)"
      ],
      "execution_count": 45,
      "outputs": [
        {
          "output_type": "execute_result",
          "data": {
            "text/plain": [
              "LogisticRegression(C=1.0, class_weight=None, dual=False, fit_intercept=True,\n",
              "                   intercept_scaling=1, l1_ratio=None, max_iter=100,\n",
              "                   multi_class='auto', n_jobs=None, penalty='l2',\n",
              "                   random_state=None, solver='lbfgs', tol=0.0001, verbose=0,\n",
              "                   warm_start=False)"
            ]
          },
          "metadata": {
            "tags": []
          },
          "execution_count": 45
        }
      ]
    },
    {
      "cell_type": "markdown",
      "metadata": {
        "id": "Q8ZaNJI6aUpO"
      },
      "source": [
        "**Un premier score de 0.95....pas mal. Voyons ca de plus près...**"
      ]
    },
    {
      "cell_type": "code",
      "metadata": {
        "colab": {
          "base_uri": "https://localhost:8080/"
        },
        "id": "JOfOYxo2aQCl",
        "outputId": "a3deb7db-0b7e-411f-c115-71db6147d326"
      },
      "source": [
        "logistic.score(X_test, y_test)"
      ],
      "execution_count": 46,
      "outputs": [
        {
          "output_type": "execute_result",
          "data": {
            "text/plain": [
              "0.9577804982959998"
            ]
          },
          "metadata": {
            "tags": []
          },
          "execution_count": 46
        }
      ]
    },
    {
      "cell_type": "code",
      "metadata": {
        "colab": {
          "base_uri": "https://localhost:8080/",
          "height": 282
        },
        "id": "3EfTRo8hacTC",
        "outputId": "b814b6b0-7d21-4c3a-e419-ea57f7ac08c7"
      },
      "source": [
        "y_pred = logistic.predict(X_test)\n",
        "\n",
        "from sklearn.metrics import confusion_matrix\n",
        "cm = confusion_matrix(y_test, y_pred)\n",
        "sns.heatmap(cm, annot=True, fmt=\"d\")"
      ],
      "execution_count": 47,
      "outputs": [
        {
          "output_type": "execute_result",
          "data": {
            "text/plain": [
              "<matplotlib.axes._subplots.AxesSubplot at 0x7f78c14e1358>"
            ]
          },
          "metadata": {
            "tags": []
          },
          "execution_count": 47
        },
        {
          "output_type": "display_data",
          "data": {
            "image/png": "[encoded data removed]",
            "text/plain": [
              "<Figure size 432x288 with 2 Axes>"
            ]
          },
          "metadata": {
            "tags": [],
            "needs_background": "light"
          }
        }
      ]
    },
    {
      "cell_type": "markdown",
      "metadata": {
        "id": "2Ks8nTvIapS-"
      },
      "source": [
        "### Tentons d'entraîner notre jeu de test sur plusieurs modèles tout en faisant du Stacking :-)"
      ]
    },
    {
      "cell_type": "code",
      "metadata": {
        "colab": {
          "base_uri": "https://localhost:8080/"
        },
        "id": "JtqWQVdCahMt",
        "outputId": "0fe3a2ed-f047-4aee-ccd4-1ae3295e4b1d"
      },
      "source": [
        "pip install vecstack"
      ],
      "execution_count": 48,
      "outputs": [
        {
          "output_type": "stream",
          "text": [
            "Collecting vecstack\n",
            "  Downloading https://files.pythonhosted.org/packages/d0/a1/b9a1e9e9e5a12078da1ab9788c7885e4c745358f7e57d5f94d9db6a4e898/vecstack-0.4.0.tar.gz\n",
            "Requirement already satisfied: numpy in /usr/local/lib/python3.6/dist-packages (from vecstack) (1.18.5)\n",
            "Requirement already satisfied: scipy in /usr/local/lib/python3.6/dist-packages (from vecstack) (1.4.1)\n",
            "Requirement already satisfied: scikit-learn>=0.18 in /usr/local/lib/python3.6/dist-packages (from vecstack) (0.22.2.post1)\n",
            "Requirement already satisfied: joblib>=0.11 in /usr/local/lib/python3.6/dist-packages (from scikit-learn>=0.18->vecstack) (0.17.0)\n",
            "Building wheels for collected packages: vecstack\n",
            "  Building wheel for vecstack (setup.py) ... \u001b[?25l\u001b[?25hdone\n",
            "  Created wheel for vecstack: filename=vecstack-0.4.0-cp36-none-any.whl size=19880 sha256=d1bf07cdc61923e3053232a96af9207fcd1566c0291d0ecda886d651d968fd69\n",
            "  Stored in directory: /root/.cache/pip/wheels/5f/bb/4e/f6488433d53bc0684673d6845e5bf11a25240577c8151c140e\n",
            "Successfully built vecstack\n",
            "Installing collected packages: vecstack\n",
            "Successfully installed vecstack-0.4.0\n"
          ],
          "name": "stdout"
        }
      ]
    },
    {
      "cell_type": "code",
      "metadata": {
        "id": "2ll2Vs8ta3If"
      },
      "source": [
        "from sklearn.linear_model import LogisticRegression\n",
        "from sklearn.metrics import accuracy_score\n",
        "from sklearn.neighbors import KNeighborsClassifier\n",
        "from sklearn.ensemble import RandomForestClassifier\n",
        "from sklearn import svm\n",
        "\n",
        "from xgboost import XGBClassifier\n",
        "from vecstack import stacking\n",
        "\n",
        "\n",
        "\n",
        "\n",
        "models = [\n",
        "    LogisticRegression(),\n",
        "    \n",
        "    KNeighborsClassifier(n_neighbors=5,\n",
        "                        n_jobs=-1),\n",
        "        \n",
        "    RandomForestClassifier(random_state=0, n_jobs=-1, \n",
        "                           n_estimators=100, max_depth=3),\n",
        "        \n",
        "    XGBClassifier(random_state=0, n_jobs=-1, learning_rate=0.1, \n",
        "                  n_estimators=100, max_depth=3),\n",
        "    \n",
        "    svm.SVC(kernel=\"linear\")\n",
        "]"
      ],
      "execution_count": 49,
      "outputs": []
    },
    {
      "cell_type": "code",
      "metadata": {
        "colab": {
          "base_uri": "https://localhost:8080/"
        },
        "id": "aQqODPGqbF_P",
        "outputId": "ade96d70-066c-4b74-cf58-d861d682979f"
      },
      "source": [
        "S_train, S_test = stacking(models,                   \n",
        "                           X_train, y_train, X_test,   \n",
        "                           regression=False, \n",
        "     \n",
        "                           mode='oof_pred_bag', \n",
        "       \n",
        "                           needs_proba=False,\n",
        "         \n",
        "                           save_dir=None, \n",
        "            \n",
        "                           metric=accuracy_score, \n",
        "    \n",
        "                           n_folds=4, \n",
        "                 \n",
        "                           stratified=True,\n",
        "            \n",
        "                           shuffle=True,  \n",
        "            \n",
        "                           random_state=0,    \n",
        "         \n",
        "                           verbose=2)"
      ],
      "execution_count": 50,
      "outputs": [
        {
          "output_type": "stream",
          "text": [
            "task:         [classification]\n",
            "n_classes:    [2]\n",
            "metric:       [accuracy_score]\n",
            "mode:         [oof_pred_bag]\n",
            "n_models:     [5]\n",
            "\n",
            "model  0:     [LogisticRegression]\n",
            "    fold  0:  [0.95751580]\n",
            "    fold  1:  [0.95589306]\n",
            "    fold  2:  [0.95552908]\n",
            "    fold  3:  [0.95569453]\n",
            "    ----\n",
            "    MEAN:     [0.95615812] + [0.00079438]\n",
            "    FULL:     [0.95615813]\n",
            "\n",
            "model  1:     [KNeighborsClassifier]\n",
            "    fold  0:  [0.95698640]\n",
            "    fold  1:  [0.95529747]\n",
            "    fold  2:  [0.95549600]\n",
            "    fold  3:  [0.95542982]\n",
            "    ----\n",
            "    MEAN:     [0.95580242] + [0.00068730]\n",
            "    FULL:     [0.95580243]\n",
            "\n",
            "model  2:     [RandomForestClassifier]\n",
            "    fold  0:  [0.95761506]\n",
            "    fold  1:  [0.95599232]\n",
            "    fold  2:  [0.95579379]\n",
            "    fold  3:  [0.95592615]\n",
            "    ----\n",
            "    MEAN:     [0.95633183] + [0.00074431]\n",
            "    FULL:     [0.95633184]\n",
            "\n",
            "model  3:     [XGBClassifier]\n",
            "    fold  0:  [0.95761506]\n",
            "    fold  1:  [0.95599232]\n",
            "    fold  2:  [0.95579379]\n",
            "    fold  3:  [0.95592615]\n",
            "    ----\n",
            "    MEAN:     [0.95633183] + [0.00074431]\n",
            "    FULL:     [0.95633184]\n",
            "\n",
            "model  4:     [SVC]\n",
            "    fold  0:  [0.95761506]\n",
            "    fold  1:  [0.95599232]\n",
            "    fold  2:  [0.95579379]\n",
            "    fold  3:  [0.95592615]\n",
            "    ----\n",
            "    MEAN:     [0.95633183] + [0.00074431]\n",
            "    FULL:     [0.95633184]\n",
            "\n"
          ],
          "name": "stdout"
        }
      ]
    },
    {
      "cell_type": "markdown",
      "metadata": {
        "id": "S4rOjB76bQDa"
      },
      "source": [
        "### Plusieurs modèles ont été testés : RegLog, KNN, Random Forest, etc.\n",
        "\n",
        "#### Random Forest donne des résultats intéréssants : tentons de l'approfondir"
      ]
    },
    {
      "cell_type": "code",
      "metadata": {
        "colab": {
          "base_uri": "https://localhost:8080/"
        },
        "id": "e-r_g5bJbKgk",
        "outputId": "2395aecc-5fef-435d-e54c-14b2a451c242"
      },
      "source": [
        "forest = RandomForestClassifier(random_state=0, n_jobs=-1, n_estimators=100, max_depth=3)\n",
        "    \n",
        "forest = forest.fit(X_train, y_train)\n",
        "\n",
        "y_pred_2 = forest.predict(X_test)\n",
        "\n",
        "forest.score(X_test, y_test)"
      ],
      "execution_count": 51,
      "outputs": [
        {
          "output_type": "execute_result",
          "data": {
            "text/plain": [
              "0.957912847831122"
            ]
          },
          "metadata": {
            "tags": []
          },
          "execution_count": 51
        }
      ]
    },
    {
      "cell_type": "markdown",
      "metadata": {
        "id": "t7zEDQarcq76"
      },
      "source": [
        "#### Lançons une GridSearch pour trouver les meilleurs paramètres pour la Random Forest : en mettant des paramètres proches de ceux qui donnaient un score de 0.95"
      ]
    },
    {
      "cell_type": "code",
      "metadata": {
        "id": "qAw2ZVPsbTV1"
      },
      "source": [
        "from sklearn.model_selection import GridSearchCV\n",
        "param_grid = {\n",
        "    'bootstrap': [True],\n",
        "    'criterion': ['gini','entropy'],\n",
        "    'max_depth': [3, 5, 7, 10],\n",
        "    'max_features': [2, 3],\n",
        "    'min_samples_leaf': [2, 3, 4],\n",
        "    'min_samples_split': [2, 3, 4],\n",
        "    'n_estimators': [100, 110, 90, 105]}\n",
        "    \n",
        "\n",
        "forest = RandomForestClassifier()\n",
        "grid_search = GridSearchCV(estimator = forest, param_grid = param_grid, \n",
        "                          cv = 3, n_jobs = -1, verbose = 2)"
      ],
      "execution_count": 57,
      "outputs": []
    },
    {
      "cell_type": "code",
      "metadata": {
        "colab": {
          "base_uri": "https://localhost:8080/"
        },
        "id": "RbGA13kJcwHo",
        "outputId": "3f3f0757-c01e-4b27-a810-869c161e5bb9"
      },
      "source": [
        "grid_search.fit(X_train, y_train)\n",
        "grid_search.best_params_"
      ],
      "execution_count": 58,
      "outputs": [
        {
          "output_type": "stream",
          "text": [
            "Fitting 3 folds for each of 576 candidates, totalling 1728 fits\n"
          ],
          "name": "stdout"
        },
        {
          "output_type": "stream",
          "text": [
            "[Parallel(n_jobs=-1)]: Using backend LokyBackend with 2 concurrent workers.\n",
            "[Parallel(n_jobs=-1)]: Done  37 tasks      | elapsed:   54.8s\n",
            "[Parallel(n_jobs=-1)]: Done 158 tasks      | elapsed:  3.8min\n",
            "[Parallel(n_jobs=-1)]: Done 361 tasks      | elapsed:  9.5min\n",
            "[Parallel(n_jobs=-1)]: Done 644 tasks      | elapsed: 19.4min\n",
            "[Parallel(n_jobs=-1)]: Done 1009 tasks      | elapsed: 32.4min\n",
            "[Parallel(n_jobs=-1)]: Done 1454 tasks      | elapsed: 46.2min\n",
            "[Parallel(n_jobs=-1)]: Done 1728 out of 1728 | elapsed: 58.0min finished\n"
          ],
          "name": "stderr"
        },
        {
          "output_type": "execute_result",
          "data": {
            "text/plain": [
              "{'bootstrap': True,\n",
              " 'criterion': 'gini',\n",
              " 'max_depth': 3,\n",
              " 'max_features': 3,\n",
              " 'min_samples_leaf': 2,\n",
              " 'min_samples_split': 2,\n",
              " 'n_estimators': 100}"
            ]
          },
          "metadata": {
            "tags": []
          },
          "execution_count": 58
        }
      ]
    },
    {
      "cell_type": "code",
      "metadata": {
        "colab": {
          "base_uri": "https://localhost:8080/",
          "height": 282
        },
        "id": "Yvfuu29Jd8tl",
        "outputId": "d509be35-78af-4f6c-84c9-5b77f3102f04"
      },
      "source": [
        "y_pred_grd = grid_search.predict(X_test)\n",
        "\n",
        "cm2 = confusion_matrix(y_test, y_pred_grd)\n",
        "sns.heatmap(cm2, annot=True, fmt=\"d\")"
      ],
      "execution_count": 59,
      "outputs": [
        {
          "output_type": "execute_result",
          "data": {
            "text/plain": [
              "<matplotlib.axes._subplots.AxesSubplot at 0x7f78b559f048>"
            ]
          },
          "metadata": {
            "tags": []
          },
          "execution_count": 59
        },
        {
          "output_type": "display_data",
          "data": {
            "image/png": "[encoded data removed]",
            "text/plain": [
              "<Figure size 432x288 with 2 Axes>"
            ]
          },
          "metadata": {
            "tags": [],
            "needs_background": "light"
          }
        }
      ]
    },
    {
      "cell_type": "markdown",
      "metadata": {
        "id": "JvwYKLAMtDE8"
      },
      "source": [
        "# Recommandations"
      ]
    },
    {
      "cell_type": "markdown",
      "metadata": {
        "id": "aW5gYhCutHv2"
      },
      "source": [
        "Les utilisateurs qui peuvent être classés comme risqués sont : \n",
        "\n",
        "- Ceux qui utilisent des bots pour effectuer des achats. Donc il est nécéssaire de bloquer les transactions dont le signup et le pruchase sont trop rapprochés dans le temps (tous les cas où le delta s'élève à 1 seconde)\n",
        "\n",
        "- Ceux dont l'adresse IP renvoie vers des pays exotiques et dont le taux de fraude (transactions frauduleuses / transactions conformes) est supérieur à 10 %. A fortiori si peu d'utilisateurs proviennent du pays en question, ce taux de fraude devient une metric fondamentale. \n",
        "\n",
        "- Ceux dont le device a été flagué comme frauduleux et qui effectuent de nombreux achats (parfois sur plusieurs pays) frauduleux\n",
        "\n",
        "\n",
        "Donc : \n",
        "\n",
        "- A minima, un système de ban s'impose. Pour bannir : les adresses IP frauduleuses, les devices reconnus comme frauduleux. \n",
        "\n",
        "- Aussi, il est nécéssaire d'imposer un système de sécurité supplémentaire lorsque le pays de connexion est reconnu comme à risque. \n",
        "\n",
        "\n",
        "----\n",
        "\n",
        "\n",
        "Concernant l'expérience utilisateur dans une démarche où le modèle serait mis en production : \n",
        "\n",
        "- Le modèle pourrait être intégré dans une stratégie plus générale de détéction de fraude à l'achat. \n",
        "\n",
        "- Chaque transaction devrait être mis en attente le temps que le modèle ait automatiquement considéré si l'achat est sur ou non (avec pourquoi pas l'appui d'un mail de confirmation qui pourra ainsi écarter les bots non sophistiqués). Si le client est considéré comme clean, la transaction peut se poursuivre. Autrement, la transaction est avortée. \n",
        "\n",
        "- Si le modèle est en ligne, il pourra continuer à s'enrichir des nouveaux cas de fraude détéctés et ainsi devenir plus performant sur le temps. "
      ]
    },
    {
      "cell_type": "code",
      "metadata": {
        "id": "v7Woi2W2s6d4"
      },
      "source": [
        ""
      ],
      "execution_count": null,
      "outputs": []
    }
  ]
}