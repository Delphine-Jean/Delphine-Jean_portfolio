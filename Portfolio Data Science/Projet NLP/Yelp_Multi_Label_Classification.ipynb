{
  "nbformat": 4,
  "nbformat_minor": 0,
  "metadata": {
    "colab": {
      "name": "Copie de Yelp_Multi_Label_Classification_SOLUTIONS.ipynb",
      "provenance": [],
      "collapsed_sections": [],
      "machine_shape": "hm"
    },
    "kernelspec": {
      "name": "python3",
      "display_name": "Python 3"
    },
    "accelerator": "GPU"
  },
  "cells": [
    {
      "cell_type": "markdown",
      "metadata": {
        "id": "89Ef2nWP3_O5"
      },
      "source": [
        "# Yelp Multi-Label Classification \n",
        "\n",
        "Dans cet exercice, nous allons monter en difficulté et essayer d'entrer dans la [compétition Kaggle de Yelp](https://www.kaggle.com/c/yelp-restaurant-photo-classification/overview). Yelp souhaiterait en effet prédire \"l'ambiance d'un restaurant\" à partir d'une image. On aura les labels suivants à prédire sur l'image : \n",
        "\n",
        "* Bien pour les dejeuners\n",
        "* Bien pour les dîners \n",
        "* Prends des réservation \n",
        "* Terrasse disponible\n",
        "* Restaurant est cher ou non\n",
        "* Sert de l'alcool \n",
        "* Sert à Table \n",
        "* L'ambiance est classe \n",
        "* Bien pour les enfants. \n",
        "\n",
        "Au lieu de faire de la classification d'un seul label (i.e chat/chien), cette fois, nous allons devoir placer plusieurs labels sur la même photos. Voyons donc comment nous pouvons résoudre ce challenge avec TensorFlow. "
      ]
    },
    {
      "cell_type": "markdown",
      "metadata": {
        "id": "g0WEJCht5LaV"
      },
      "source": [
        "* Commencez par installer : \n",
        "  * --upgrade tensorflow \n",
        "  * kaggle "
      ]
    },
    {
      "cell_type": "code",
      "metadata": {
        "id": "eYQ9yLxIJz99",
        "colab": {
          "base_uri": "https://localhost:8080/",
          "height": 853
        },
        "outputId": "fa1089b4-6983-48cf-c224-696c999e1a1b"
      },
      "source": [
        "!pip install --upgrade tensorflow\n",
        "!pip install kaggle"
      ],
      "execution_count": null,
      "outputs": [
        {
          "output_type": "stream",
          "text": [
            "Requirement already up-to-date: tensorflow in /usr/local/lib/python3.6/dist-packages (2.3.0)\n",
            "Requirement already satisfied, skipping upgrade: absl-py>=0.7.0 in /usr/local/lib/python3.6/dist-packages (from tensorflow) (0.8.1)\n",
            "Requirement already satisfied, skipping upgrade: gast==0.3.3 in /usr/local/lib/python3.6/dist-packages (from tensorflow) (0.3.3)\n",
            "Requirement already satisfied, skipping upgrade: opt-einsum>=2.3.2 in /usr/local/lib/python3.6/dist-packages (from tensorflow) (3.3.0)\n",
            "Requirement already satisfied, skipping upgrade: protobuf>=3.9.2 in /usr/local/lib/python3.6/dist-packages (from tensorflow) (3.12.4)\n",
            "Requirement already satisfied, skipping upgrade: wrapt>=1.11.1 in /usr/local/lib/python3.6/dist-packages (from tensorflow) (1.12.1)\n",
            "Requirement already satisfied, skipping upgrade: wheel>=0.26 in /usr/local/lib/python3.6/dist-packages (from tensorflow) (0.35.1)\n",
            "Requirement already satisfied, skipping upgrade: scipy==1.4.1 in /usr/local/lib/python3.6/dist-packages (from tensorflow) (1.4.1)\n",
            "Requirement already satisfied, skipping upgrade: keras-preprocessing<1.2,>=1.1.1 in /usr/local/lib/python3.6/dist-packages (from tensorflow) (1.1.2)\n",
            "Requirement already satisfied, skipping upgrade: grpcio>=1.8.6 in /usr/local/lib/python3.6/dist-packages (from tensorflow) (1.31.0)\n",
            "Requirement already satisfied, skipping upgrade: astunparse==1.6.3 in /usr/local/lib/python3.6/dist-packages (from tensorflow) (1.6.3)\n",
            "Requirement already satisfied, skipping upgrade: termcolor>=1.1.0 in /usr/local/lib/python3.6/dist-packages (from tensorflow) (1.1.0)\n",
            "Requirement already satisfied, skipping upgrade: h5py<2.11.0,>=2.10.0 in /usr/local/lib/python3.6/dist-packages (from tensorflow) (2.10.0)\n",
            "Requirement already satisfied, skipping upgrade: numpy<1.19.0,>=1.16.0 in /usr/local/lib/python3.6/dist-packages (from tensorflow) (1.18.5)\n",
            "Requirement already satisfied, skipping upgrade: six>=1.12.0 in /usr/local/lib/python3.6/dist-packages (from tensorflow) (1.15.0)\n",
            "Requirement already satisfied, skipping upgrade: google-pasta>=0.1.8 in /usr/local/lib/python3.6/dist-packages (from tensorflow) (0.2.0)\n",
            "Requirement already satisfied, skipping upgrade: tensorboard<3,>=2.3.0 in /usr/local/lib/python3.6/dist-packages (from tensorflow) (2.3.0)\n",
            "Requirement already satisfied, skipping upgrade: tensorflow-estimator<2.4.0,>=2.3.0 in /usr/local/lib/python3.6/dist-packages (from tensorflow) (2.3.0)\n",
            "Requirement already satisfied, skipping upgrade: setuptools in /usr/local/lib/python3.6/dist-packages (from protobuf>=3.9.2->tensorflow) (49.6.0)\n",
            "Requirement already satisfied, skipping upgrade: google-auth<2,>=1.6.3 in /usr/local/lib/python3.6/dist-packages (from tensorboard<3,>=2.3.0->tensorflow) (1.17.2)\n",
            "Requirement already satisfied, skipping upgrade: markdown>=2.6.8 in /usr/local/lib/python3.6/dist-packages (from tensorboard<3,>=2.3.0->tensorflow) (3.2.2)\n",
            "Requirement already satisfied, skipping upgrade: tensorboard-plugin-wit>=1.6.0 in /usr/local/lib/python3.6/dist-packages (from tensorboard<3,>=2.3.0->tensorflow) (1.7.0)\n",
            "Requirement already satisfied, skipping upgrade: google-auth-oauthlib<0.5,>=0.4.1 in /usr/local/lib/python3.6/dist-packages (from tensorboard<3,>=2.3.0->tensorflow) (0.4.1)\n",
            "Requirement already satisfied, skipping upgrade: requests<3,>=2.21.0 in /usr/local/lib/python3.6/dist-packages (from tensorboard<3,>=2.3.0->tensorflow) (2.23.0)\n",
            "Requirement already satisfied, skipping upgrade: werkzeug>=0.11.15 in /usr/local/lib/python3.6/dist-packages (from tensorboard<3,>=2.3.0->tensorflow) (1.0.1)\n",
            "Requirement already satisfied, skipping upgrade: cachetools<5.0,>=2.0.0 in /usr/local/lib/python3.6/dist-packages (from google-auth<2,>=1.6.3->tensorboard<3,>=2.3.0->tensorflow) (4.1.1)\n",
            "Requirement already satisfied, skipping upgrade: pyasn1-modules>=0.2.1 in /usr/local/lib/python3.6/dist-packages (from google-auth<2,>=1.6.3->tensorboard<3,>=2.3.0->tensorflow) (0.2.8)\n",
            "Requirement already satisfied, skipping upgrade: rsa<5,>=3.1.4; python_version >= \"3\" in /usr/local/lib/python3.6/dist-packages (from google-auth<2,>=1.6.3->tensorboard<3,>=2.3.0->tensorflow) (4.6)\n",
            "Requirement already satisfied, skipping upgrade: importlib-metadata; python_version < \"3.8\" in /usr/local/lib/python3.6/dist-packages (from markdown>=2.6.8->tensorboard<3,>=2.3.0->tensorflow) (1.7.0)\n",
            "Requirement already satisfied, skipping upgrade: requests-oauthlib>=0.7.0 in /usr/local/lib/python3.6/dist-packages (from google-auth-oauthlib<0.5,>=0.4.1->tensorboard<3,>=2.3.0->tensorflow) (1.3.0)\n",
            "Requirement already satisfied, skipping upgrade: urllib3!=1.25.0,!=1.25.1,<1.26,>=1.21.1 in /usr/local/lib/python3.6/dist-packages (from requests<3,>=2.21.0->tensorboard<3,>=2.3.0->tensorflow) (1.24.3)\n",
            "Requirement already satisfied, skipping upgrade: chardet<4,>=3.0.2 in /usr/local/lib/python3.6/dist-packages (from requests<3,>=2.21.0->tensorboard<3,>=2.3.0->tensorflow) (3.0.4)\n",
            "Requirement already satisfied, skipping upgrade: certifi>=2017.4.17 in /usr/local/lib/python3.6/dist-packages (from requests<3,>=2.21.0->tensorboard<3,>=2.3.0->tensorflow) (2020.6.20)\n",
            "Requirement already satisfied, skipping upgrade: idna<3,>=2.5 in /usr/local/lib/python3.6/dist-packages (from requests<3,>=2.21.0->tensorboard<3,>=2.3.0->tensorflow) (2.10)\n",
            "Requirement already satisfied, skipping upgrade: pyasn1<0.5.0,>=0.4.6 in /usr/local/lib/python3.6/dist-packages (from pyasn1-modules>=0.2.1->google-auth<2,>=1.6.3->tensorboard<3,>=2.3.0->tensorflow) (0.4.8)\n",
            "Requirement already satisfied, skipping upgrade: zipp>=0.5 in /usr/local/lib/python3.6/dist-packages (from importlib-metadata; python_version < \"3.8\"->markdown>=2.6.8->tensorboard<3,>=2.3.0->tensorflow) (3.1.0)\n",
            "Requirement already satisfied, skipping upgrade: oauthlib>=3.0.0 in /usr/local/lib/python3.6/dist-packages (from requests-oauthlib>=0.7.0->google-auth-oauthlib<0.5,>=0.4.1->tensorboard<3,>=2.3.0->tensorflow) (3.1.0)\n",
            "Requirement already satisfied: kaggle in /usr/local/lib/python3.6/dist-packages (1.5.6)\n",
            "Requirement already satisfied: certifi in /usr/local/lib/python3.6/dist-packages (from kaggle) (2020.6.20)\n",
            "Requirement already satisfied: python-slugify in /usr/local/lib/python3.6/dist-packages (from kaggle) (4.0.1)\n",
            "Requirement already satisfied: requests in /usr/local/lib/python3.6/dist-packages (from kaggle) (2.23.0)\n",
            "Requirement already satisfied: urllib3<1.25,>=1.21.1 in /usr/local/lib/python3.6/dist-packages (from kaggle) (1.24.3)\n",
            "Requirement already satisfied: tqdm in /usr/local/lib/python3.6/dist-packages (from kaggle) (4.41.1)\n",
            "Requirement already satisfied: python-dateutil in /usr/local/lib/python3.6/dist-packages (from kaggle) (2.8.1)\n",
            "Requirement already satisfied: six>=1.10 in /usr/local/lib/python3.6/dist-packages (from kaggle) (1.15.0)\n",
            "Requirement already satisfied: text-unidecode>=1.3 in /usr/local/lib/python3.6/dist-packages (from python-slugify->kaggle) (1.3)\n",
            "Requirement already satisfied: idna<3,>=2.5 in /usr/local/lib/python3.6/dist-packages (from requests->kaggle) (2.10)\n",
            "Requirement already satisfied: chardet<4,>=3.0.2 in /usr/local/lib/python3.6/dist-packages (from requests->kaggle) (3.0.4)\n"
          ],
          "name": "stdout"
        }
      ]
    },
    {
      "cell_type": "markdown",
      "metadata": {
        "id": "GgzRHSDNOKov"
      },
      "source": [
        "* Pour la suite, nous allons utiliser l'API de Kaggle pour télécharger des données (trop volumineuses pour le faire autrement)\n",
        "  * Allez sur l'API de Kaggle et regardez comment télécharger votre fichier `kaggle.json` : [Kaggle API](https://github.com/Kaggle/kaggle-api)\n",
        "  * Pour la suite, il faut que vous placiez votre `kaggle.json` dans le dossier `/root/.kaggle` de votre Google Colab (ou votre machine en local) \n",
        "   * 1. Télécharger le fichier kaggle.json puis l'uploader sur votre collab\n",
        "   * 2. créer le dossier /root/.kaggle\n",
        "   * 3. Mettre le fichier kaggle.json dans le dossier /root/.kaggle\n",
        "   * 4. se rendre à l'adresse [suivante](https://www.kaggle.com/c/yelp-restaurant-photo-classification/rules) et accepter les conditions d'utilisation du dataset\n",
        "   * 5. Ensuite vous pourrez télécharger les données\n",
        "  * Essayez de faire cela en utilisant les commandes de votre terminal\n",
        "  * Voici des rappels \n",
        "\n",
        "  <img src=\"https://i.redd.it/rl0fe7r6zku11.jpg\" alt=\"linux cmd\" height=700>"
      ]
    },
    {
      "cell_type": "code",
      "metadata": {
        "id": "n7b78LbQTju4",
        "colab": {
          "base_uri": "https://localhost:8080/",
          "height": 102
        },
        "outputId": "95717560-0178-469a-a4f5-a96ebba4fd4c"
      },
      "source": [
        "# Solution 1: on uploade le fichier dans son gdrive avant de le mettre dans le root\n",
        "# de la machine\n",
        "\n",
        "#from google.colab import drive\n",
        "#drive.mount('/content/drive')\n",
        "\n",
        "# Solution 2: Une fois que vous avez téléchargé le fichier kaggle.json depuis\n",
        "# votre compte kaggle, vous l'importez dans le notebook en cliquant sur l'icone\n",
        "# avec un dossier à gauche puis l'icone avec un fichier et une fleche vers le haut\n",
        "# Une fois effectué, votre fichier kaggle.json sera dans le notebook dans le dossier /content\n",
        "# On peut le vérifier en lançant les commandes terminal \n",
        "# !pwd (liste le path ou on se trouve)\n",
        "# !ls (liste tous les fichiers présents dans le path ou on se trouve)\n",
        "\n",
        "!pwd\n",
        "!ls"
      ],
      "execution_count": null,
      "outputs": [
        {
          "output_type": "stream",
          "text": [
            "/content\n",
            "kaggle.json  train.csv.tgz\t   train_photo_to_biz_ids.csv\n",
            "ls\t     train_photos\t   train_photo_to_biz_ids.csv.tgz\n",
            "sample_data  train_photos.tgz\t   train_photo_to_biz_ids.csv.tgz.zip\n",
            "train.csv    train_photos.tgz.zip\n"
          ],
          "name": "stdout"
        }
      ]
    },
    {
      "cell_type": "code",
      "metadata": {
        "id": "iWOrB9FIMQru",
        "colab": {
          "base_uri": "https://localhost:8080/",
          "height": 51
        },
        "outputId": "a1c32965-0906-4241-e97f-e2beeef9d499"
      },
      "source": [
        "# Maintenant on va créer un dossier .kaggle qui va contenir nos credentials (kaggle.json)\n",
        "# à la racine de notre machine, c.a.d dans le repertoire /root. on vérifie que cela a \n",
        "# bien fonctionné en essayant de lister les éléments présents dans ce dossier (ls ...), \n",
        "# si le dossier n'existe pas le terminal nous retournera une erreur de type \"file not exists\"\n",
        "!mkdir /root/.kaggle/\n",
        "!ls /root/.kaggle"
      ],
      "execution_count": null,
      "outputs": [
        {
          "output_type": "stream",
          "text": [
            "mkdir: cannot create directory ‘/root/.kaggle/’: File exists\n",
            "kaggle.json\n"
          ],
          "name": "stdout"
        }
      ]
    },
    {
      "cell_type": "code",
      "metadata": {
        "id": "0FPuEZ7CiuMo",
        "colab": {
          "base_uri": "https://localhost:8080/",
          "height": 34
        },
        "outputId": "c12dbb34-a4b3-43d3-fc42-3ba73f151eeb"
      },
      "source": [
        "# Maintenant on va déplacer le fichier kaggle.json dans le dossier qu'on vient de créer\n",
        "# Cela va nous permettre d'utiliser l'API kaggle en s'authentifiant directement\n",
        "#!mv /content/kaggle.json /root/.kaggle/kaggle.json\n",
        "\n",
        "# Vérifions que cela a bien fonctionné avec un ls\n",
        "!ls /root/.kaggle"
      ],
      "execution_count": null,
      "outputs": [
        {
          "output_type": "stream",
          "text": [
            "kaggle.json\n"
          ],
          "name": "stdout"
        }
      ]
    },
    {
      "cell_type": "markdown",
      "metadata": {
        "id": "9fwfW4Oa6gh7"
      },
      "source": [
        "* Utilisez la commande `!kaggle compitions download -p /content -c yelp-restaurant-photo-classification` pour télécharger tous les éléments\n",
        "* Cette commande est disponible [ici](https://www.kaggle.com/c/yelp-restaurant-photo-classification/data)"
      ]
    },
    {
      "cell_type": "code",
      "metadata": {
        "id": "uIkRXcNNMcDD",
        "colab": {
          "base_uri": "https://localhost:8080/",
          "height": 71
        },
        "outputId": "fd7f7b86-4b4b-4dc3-8986-05d74d7e88f6"
      },
      "source": [
        "!kaggle competitions download -p /content -c yelp-restaurant-photo-classification -f train.csv.tgz"
      ],
      "execution_count": null,
      "outputs": [
        {
          "output_type": "stream",
          "text": [
            "Warning: Your Kaggle API key is readable by other users on this system! To fix this, you can run 'chmod 600 /root/.kaggle/kaggle.json'\n",
            "train.csv.tgz: Skipping, found more recently modified local copy (use --force to force download)\n"
          ],
          "name": "stdout"
        }
      ]
    },
    {
      "cell_type": "code",
      "metadata": {
        "id": "Yc2TJ774nqSf",
        "colab": {
          "base_uri": "https://localhost:8080/",
          "height": 105
        },
        "outputId": "220f7093-3b3f-4a63-f5e8-716d75c1e4e9"
      },
      "source": [
        "!kaggle competitions download -p /content -c yelp-restaurant-photo-classification -f train_photos.tgz "
      ],
      "execution_count": null,
      "outputs": [
        {
          "output_type": "stream",
          "text": [
            "Warning: Your Kaggle API key is readable by other users on this system! To fix this, you can run 'chmod 600 /root/.kaggle/kaggle.json'\n",
            "Downloading train_photos.tgz.zip to /content\n",
            "100% 6.54G/6.55G [02:19<00:00, 35.8MB/s]\n",
            "100% 6.55G/6.55G [02:19<00:00, 50.5MB/s]\n"
          ],
          "name": "stdout"
        }
      ]
    },
    {
      "cell_type": "code",
      "metadata": {
        "id": "sz9LDdNmn812",
        "colab": {
          "base_uri": "https://localhost:8080/",
          "height": 105
        },
        "outputId": "08f0cbc3-d6a9-4e0d-e934-be8757b0e6fa"
      },
      "source": [
        "!kaggle competitions download -p /content -c yelp-restaurant-photo-classification -f train_photo_to_biz_ids.csv.tgz"
      ],
      "execution_count": null,
      "outputs": [
        {
          "output_type": "stream",
          "text": [
            "Warning: Your Kaggle API key is readable by other users on this system! To fix this, you can run 'chmod 600 /root/.kaggle/kaggle.json'\n",
            "Downloading train_photo_to_biz_ids.csv.tgz.zip to /content\n",
            "  0% 0.00/1.12M [00:00<?, ?B/s]\n",
            "100% 1.12M/1.12M [00:00<00:00, 18.5MB/s]\n"
          ],
          "name": "stdout"
        }
      ]
    },
    {
      "cell_type": "markdown",
      "metadata": {
        "id": "HF3sUVO16syr"
      },
      "source": [
        "* En utilisant la commande `!unzip` dezippez les fichiers en `.zip`"
      ]
    },
    {
      "cell_type": "code",
      "metadata": {
        "id": "CMYkyA_s8uvP",
        "colab": {
          "base_uri": "https://localhost:8080/",
          "height": 34
        },
        "outputId": "5b214253-cc72-427f-a529-19beac50bb26"
      },
      "source": [
        "cd /content"
      ],
      "execution_count": null,
      "outputs": [
        {
          "output_type": "stream",
          "text": [
            "/content\n"
          ],
          "name": "stdout"
        }
      ]
    },
    {
      "cell_type": "code",
      "metadata": {
        "id": "kAbkZAEKO-PX",
        "colab": {
          "base_uri": "https://localhost:8080/",
          "height": 51
        },
        "outputId": "7b311c0d-d09f-44c1-d79d-aae8124d89ba"
      },
      "source": [
        "!unzip train_photos.tgz.zip"
      ],
      "execution_count": null,
      "outputs": [
        {
          "output_type": "stream",
          "text": [
            "Archive:  train_photos.tgz.zip\n",
            "  inflating: train_photos.tgz        \n"
          ],
          "name": "stdout"
        }
      ]
    },
    {
      "cell_type": "code",
      "metadata": {
        "id": "KGxyY7Wwpkhl",
        "colab": {
          "base_uri": "https://localhost:8080/",
          "height": 1000
        },
        "outputId": "0ad11d07-d440-435b-d636-9fb13a8c4532"
      },
      "source": [
        "!unzip train_photo_to_biz_ids.csv.tgz.zip"
      ],
      "execution_count": null,
      "outputs": [
        {
          "output_type": "stream",
          "text": [
            "Usage: tar [OPTION...] [FILE]...\n",
            "GNU 'tar' saves many files together into a single tape or disk archive, and can\n",
            "restore individual files from the archive.\n",
            "\n",
            "Examples:\n",
            "  tar -cf archive.tar foo bar  # Create archive.tar from files foo and bar.\n",
            "  tar -tvf archive.tar         # List all files in archive.tar verbosely.\n",
            "  tar -xf archive.tar          # Extract all files from archive.tar.\n",
            "\n",
            " Local file name selection:\n",
            "\n",
            "      --add-file=FILE        add given FILE to the archive (useful if its name\n",
            "                             starts with a dash)\n",
            "  -C, --directory=DIR        change to directory DIR\n",
            "      --exclude=PATTERN      exclude files, given as a PATTERN\n",
            "      --exclude-backups      exclude backup and lock files\n",
            "      --exclude-caches       exclude contents of directories containing\n",
            "                             CACHEDIR.TAG, except for the tag file itself\n",
            "      --exclude-caches-all   exclude directories containing CACHEDIR.TAG\n",
            "      --exclude-caches-under exclude everything under directories containing\n",
            "                             CACHEDIR.TAG\n",
            "      --exclude-ignore=FILE  read exclude patterns for each directory from\n",
            "                             FILE, if it exists\n",
            "      --exclude-ignore-recursive=FILE\n",
            "                             read exclude patterns for each directory and its\n",
            "                             subdirectories from FILE, if it exists\n",
            "      --exclude-tag=FILE     exclude contents of directories containing FILE,\n",
            "                             except for FILE itself\n",
            "      --exclude-tag-all=FILE exclude directories containing FILE\n",
            "      --exclude-tag-under=FILE   exclude everything under directories\n",
            "                             containing FILE\n",
            "      --exclude-vcs          exclude version control system directories\n",
            "      --exclude-vcs-ignores  read exclude patterns from the VCS ignore files\n",
            "      --no-null              disable the effect of the previous --null option\n",
            "      --no-recursion         avoid descending automatically in directories\n",
            "      --no-unquote           do not unquote input file or member names\n",
            "      --no-verbatim-files-from   -T treats file names starting with dash as\n",
            "                             options (default)\n",
            "      --null                 -T reads null-terminated names; implies\n",
            "                             --verbatim-files-from\n",
            "      --recursion            recurse into directories (default)\n",
            "  -T, --files-from=FILE      get names to extract or create from FILE\n",
            "      --unquote              unquote input file or member names (default)\n",
            "      --verbatim-files-from  -T reads file names verbatim (no option handling)\n",
            "  -X, --exclude-from=FILE    exclude patterns listed in FILE\n",
            "\n",
            " File name matching options (affect both exclude and include patterns):\n",
            "\n",
            "      --anchored             patterns match file name start\n",
            "      --ignore-case          ignore case\n",
            "      --no-anchored          patterns match after any '/' (default for\n",
            "                             exclusion)\n",
            "      --no-ignore-case       case sensitive matching (default)\n",
            "      --no-wildcards         verbatim string matching\n",
            "      --no-wildcards-match-slash   wildcards do not match '/'\n",
            "      --wildcards            use wildcards (default for exclusion)\n",
            "      --wildcards-match-slash   wildcards match '/' (default for exclusion)\n",
            "\n",
            " Main operation mode:\n",
            "\n",
            "  -A, --catenate, --concatenate   append tar files to an archive\n",
            "  -c, --create               create a new archive\n",
            "  -d, --diff, --compare      find differences between archive and file system\n",
            "      --delete               delete from the archive (not on mag tapes!)\n",
            "  -r, --append               append files to the end of an archive\n",
            "  -t, --list                 list the contents of an archive\n",
            "      --test-label           test the archive volume label and exit\n",
            "  -u, --update               only append files newer than copy in archive\n",
            "  -x, --extract, --get       extract files from an archive\n",
            "\n",
            " Operation modifiers:\n",
            "\n",
            "      --check-device         check device numbers when creating incremental\n",
            "                             archives (default)\n",
            "  -g, --listed-incremental=FILE   handle new GNU-format incremental backup\n",
            "  -G, --incremental          handle old GNU-format incremental backup\n",
            "      --hole-detection=TYPE  technique to detect holes\n",
            "      --ignore-failed-read   do not exit with nonzero on unreadable files\n",
            "      --level=NUMBER         dump level for created listed-incremental archive\n",
            "  -n, --seek                 archive is seekable\n",
            "      --no-check-device      do not check device numbers when creating\n",
            "                             incremental archives\n",
            "      --no-seek              archive is not seekable\n",
            "      --occurrence[=NUMBER]  process only the NUMBERth occurrence of each file\n",
            "                             in the archive; this option is valid only in\n",
            "                             conjunction with one of the subcommands --delete,\n",
            "                             --diff, --extract or --list and when a list of\n",
            "                             files is given either on the command line or via\n",
            "                             the -T option; NUMBER defaults to 1\n",
            "      --sparse-version=MAJOR[.MINOR]\n",
            "                             set version of the sparse format to use (implies\n",
            "                             --sparse)\n",
            "  -S, --sparse               handle sparse files efficiently\n",
            "\n",
            " Overwrite control:\n",
            "\n",
            "  -k, --keep-old-files       don't replace existing files when extracting,\n",
            "                             treat them as errors\n",
            "      --keep-directory-symlink   preserve existing symlinks to directories when\n",
            "                             extracting\n",
            "      --keep-newer-files     don't replace existing files that are newer than\n",
            "                             their archive copies\n",
            "      --no-overwrite-dir     preserve metadata of existing directories\n",
            "      --one-top-level[=DIR]  create a subdirectory to avoid having loose files\n",
            "                             extracted\n",
            "      --overwrite            overwrite existing files when extracting\n",
            "      --overwrite-dir        overwrite metadata of existing directories when\n",
            "                             extracting (default)\n",
            "      --recursive-unlink     empty hierarchies prior to extracting directory\n",
            "      --remove-files         remove files after adding them to the archive\n",
            "      --skip-old-files       don't replace existing files when extracting,\n",
            "                             silently skip over them\n",
            "  -U, --unlink-first         remove each file prior to extracting over it\n",
            "  -W, --verify               attempt to verify the archive after writing it\n",
            "\n",
            " Select output stream:\n",
            "\n",
            "      --ignore-command-error ignore exit codes of children\n",
            "      --no-ignore-command-error   treat non-zero exit codes of children as\n",
            "                             error\n",
            "  -O, --to-stdout            extract files to standard output\n",
            "      --to-command=COMMAND   pipe extracted files to another program\n",
            "\n",
            " Handling of file attributes:\n",
            "\n",
            "      --atime-preserve[=METHOD]   preserve access times on dumped files, either\n",
            "                             by restoring the times after reading\n",
            "                             (METHOD='replace'; default) or by not setting the\n",
            "                             times in the first place (METHOD='system')\n",
            "      --clamp-mtime          only set time when the file is more recent than\n",
            "                             what was given with --mtime\n",
            "      --delay-directory-restore   delay setting modification times and\n",
            "                             permissions of extracted directories until the end\n",
            "                             of extraction\n",
            "      --group=NAME           force NAME as group for added files\n",
            "      --group-map=FILE       use FILE to map file owner GIDs and names\n",
            "      --mode=CHANGES         force (symbolic) mode CHANGES for added files\n",
            "      --mtime=DATE-OR-FILE   set mtime for added files from DATE-OR-FILE\n",
            "  -m, --touch                don't extract file modified time\n",
            "      --no-delay-directory-restore\n",
            "                             cancel the effect of --delay-directory-restore\n",
            "                             option\n",
            "      --no-same-owner        extract files as yourself (default for ordinary\n",
            "                             users)\n",
            "      --no-same-permissions  apply the user's umask when extracting permissions\n",
            "                             from the archive (default for ordinary users)\n",
            "      --numeric-owner        always use numbers for user/group names\n",
            "      --owner=NAME           force NAME as owner for added files\n",
            "      --owner-map=FILE       use FILE to map file owner UIDs and names\n",
            "  -p, --preserve-permissions, --same-permissions\n",
            "                             extract information about file permissions\n",
            "                             (default for superuser)\n",
            "      --same-owner           try extracting files with the same ownership as\n",
            "                             exists in the archive (default for superuser)\n",
            "  -s, --preserve-order, --same-order\n",
            "                             member arguments are listed in the same order as\n",
            "                             the files in the archive\n",
            "      --sort=ORDER           directory sorting order: none (default), name or\n",
            "                             inode\n",
            "\n",
            " Handling of extended file attributes:\n",
            "\n",
            "      --acls                 Enable the POSIX ACLs support\n",
            "      --no-acls              Disable the POSIX ACLs support\n",
            "      --no-selinux           Disable the SELinux context support\n",
            "      --no-xattrs            Disable extended attributes support\n",
            "      --selinux              Enable the SELinux context support\n",
            "      --xattrs               Enable extended attributes support\n",
            "      --xattrs-exclude=MASK  specify the exclude pattern for xattr keys\n",
            "      --xattrs-include=MASK  specify the include pattern for xattr keys\n",
            "\n",
            " Device selection and switching:\n",
            "\n",
            "  -f, --file=ARCHIVE         use archive file or device ARCHIVE\n",
            "      --force-local          archive file is local even if it has a colon\n",
            "  -F, --info-script=NAME, --new-volume-script=NAME\n",
            "                             run script at end of each tape (implies -M)\n",
            "  -L, --tape-length=NUMBER   change tape after writing NUMBER x 1024 bytes\n",
            "  -M, --multi-volume         create/list/extract multi-volume archive\n",
            "      --rmt-command=COMMAND  use given rmt COMMAND instead of rmt\n",
            "      --rsh-command=COMMAND  use remote COMMAND instead of rsh\n",
            "      --volno-file=FILE      use/update the volume number in FILE\n",
            "\n",
            " Device blocking:\n",
            "\n",
            "  -b, --blocking-factor=BLOCKS   BLOCKS x 512 bytes per record\n",
            "  -B, --read-full-records    reblock as we read (for 4.2BSD pipes)\n",
            "  -i, --ignore-zeros         ignore zeroed blocks in archive (means EOF)\n",
            "      --record-size=NUMBER   NUMBER of bytes per record, multiple of 512\n",
            "\n",
            " Archive format selection:\n",
            "\n",
            "  -H, --format=FORMAT        create archive of the given format\n",
            "\n",
            " FORMAT is one of the following:\n",
            "\n",
            "    gnu                      GNU tar 1.13.x format\n",
            "    oldgnu                   GNU format as per tar <= 1.12\n",
            "    pax                      POSIX 1003.1-2001 (pax) format\n",
            "    posix                    same as pax\n",
            "    ustar                    POSIX 1003.1-1988 (ustar) format\n",
            "    v7                       old V7 tar format\n",
            "\n",
            "      --old-archive, --portability\n",
            "                             same as --format=v7\n",
            "      --pax-option=keyword[[:]=value][,keyword[[:]=value]]...\n",
            "                             control pax keywords\n",
            "      --posix                same as --format=posix\n",
            "  -V, --label=TEXT           create archive with volume name TEXT; at\n",
            "                             list/extract time, use TEXT as a globbing pattern\n",
            "                             for volume name\n",
            "\n",
            " Compression options:\n",
            "\n",
            "  -a, --auto-compress        use archive suffix to determine the compression\n",
            "                             program\n",
            "  -I, --use-compress-program=PROG\n",
            "                             filter through PROG (must accept -d)\n",
            "  -j, --bzip2                filter the archive through bzip2\n",
            "  -J, --xz                   filter the archive through xz\n",
            "      --lzip                 filter the archive through lzip\n",
            "      --lzma                 filter the archive through xz\n",
            "      --lzop                 filter the archive through xz\n",
            "      --no-auto-compress     do not use archive suffix to determine the\n",
            "                             compression program\n",
            "  -z, --gzip, --gunzip, --ungzip   filter the archive through gzip\n",
            "  -Z, --compress, --uncompress   filter the archive through compress\n",
            "\n",
            " Local file selection:\n",
            "\n",
            "      --backup[=CONTROL]     backup before removal, choose version CONTROL\n",
            "  -h, --dereference          follow symlinks; archive and dump the files they\n",
            "                             point to\n",
            "      --hard-dereference     follow hard links; archive and dump the files they\n",
            "                             refer to\n",
            "  -K, --starting-file=MEMBER-NAME\n",
            "                             begin at member MEMBER-NAME when reading the\n",
            "                             archive\n",
            "      --newer-mtime=DATE     compare date and time when data changed only\n",
            "  -N, --newer=DATE-OR-FILE, --after-date=DATE-OR-FILE\n",
            "                             only store files newer than DATE-OR-FILE\n",
            "      --one-file-system      stay in local file system when creating archive\n",
            "  -P, --absolute-names       don't strip leading '/'s from file names\n",
            "      --suffix=STRING        backup before removal, override usual suffix ('~'\n",
            "                             unless overridden by environment variable\n",
            "                             SIMPLE_BACKUP_SUFFIX)\n",
            "\n",
            " File name transformations:\n",
            "\n",
            "      --strip-components=NUMBER   strip NUMBER leading components from file\n",
            "                             names on extraction\n",
            "      --transform=EXPRESSION, --xform=EXPRESSION\n",
            "                             use sed replace EXPRESSION to transform file\n",
            "                             names\n",
            "\n",
            " Informative output:\n",
            "\n",
            "      --checkpoint[=NUMBER]  display progress messages every NUMBERth record\n",
            "                             (default 10)\n",
            "      --checkpoint-action=ACTION   execute ACTION on each checkpoint\n",
            "      --full-time            print file time to its full resolution\n",
            "      --index-file=FILE      send verbose output to FILE\n",
            "  -l, --check-links          print a message if not all links are dumped\n",
            "      --no-quote-chars=STRING   disable quoting for characters from STRING\n",
            "      --quote-chars=STRING   additionally quote characters from STRING\n",
            "      --quoting-style=STYLE  set name quoting style; see below for valid STYLE\n",
            "                             values\n",
            "  -R, --block-number         show block number within archive with each message\n",
            "                            \n",
            "      --show-defaults        show tar defaults\n",
            "      --show-omitted-dirs    when listing or extracting, list each directory\n",
            "                             that does not match search criteria\n",
            "      --show-snapshot-field-ranges\n",
            "                             show valid ranges for snapshot-file fields\n",
            "      --show-transformed-names, --show-stored-names\n",
            "                             show file or archive names after transformation\n",
            "      --totals[=SIGNAL]      print total bytes after processing the archive;\n",
            "                             with an argument - print total bytes when this\n",
            "                             SIGNAL is delivered; Allowed signals are: SIGHUP,\n",
            "                             SIGQUIT, SIGINT, SIGUSR1 and SIGUSR2; the names\n",
            "                             without SIG prefix are also accepted\n",
            "      --utc                  print file modification times in UTC\n",
            "  -v, --verbose              verbosely list files processed\n",
            "      --warning=KEYWORD      warning control\n",
            "  -w, --interactive, --confirmation\n",
            "                             ask for confirmation for every action\n",
            "\n",
            " Compatibility options:\n",
            "\n",
            "  -o                         when creating, same as --old-archive; when\n",
            "                             extracting, same as --no-same-owner\n",
            "\n",
            " Other options:\n",
            "\n",
            "  -?, --help                 give this help list\n",
            "      --restrict             disable use of some potentially harmful options\n",
            "      --usage                give a short usage message\n",
            "      --version              print program version\n",
            "\n",
            "Mandatory or optional arguments to long options are also mandatory or optional\n",
            "for any corresponding short options.\n",
            "\n",
            "The backup suffix is '~', unless set with --suffix or SIMPLE_BACKUP_SUFFIX.\n",
            "The version control may be set with --backup or VERSION_CONTROL, values are:\n",
            "\n",
            "  none, off       never make backups\n",
            "  t, numbered     make numbered backups\n",
            "  nil, existing   numbered if numbered backups exist, simple otherwise\n",
            "  never, simple   always make simple backups\n",
            "\n",
            "Valid arguments for the --quoting-style option are:\n",
            "\n",
            "  literal\n",
            "  shell\n",
            "  shell-always\n",
            "  c\n",
            "  c-maybe\n",
            "  escape\n",
            "  locale\n",
            "  clocale\n",
            "\n",
            "*This* tar defaults to:\n",
            "--format=gnu -f- -b20 --quoting-style=escape --rmt-command=/usr/lib/tar/rmt\n",
            "--rsh-command=/usr/bin/rsh\n"
          ],
          "name": "stdout"
        }
      ]
    },
    {
      "cell_type": "markdown",
      "metadata": {
        "id": "T-sY6F8h61FJ"
      },
      "source": [
        "* Nous avons à gérer des fichiers en `.tgz`. Utilisez donc la librairie `tarfile` pour pouvoir les décompresser à nouveau. Voici un lien vers la documentation pour vous aider : [Tarfile Documentation](https://www.journaldev.com/17946/python-tarfile-module)"
      ]
    },
    {
      "cell_type": "code",
      "metadata": {
        "id": "JLQt84N7MdH3",
        "colab": {
          "base_uri": "https://localhost:8080/",
          "height": 358
        },
        "outputId": "31798754-0f69-426a-b5bc-65fd0ec9284d"
      },
      "source": [
        "import tarfile\n",
        "file = tarfile.open(\"train_photos.tgz\", mode=\"r:gz\")\n",
        "file.extractall()\n",
        "file.close()"
      ],
      "execution_count": null,
      "outputs": [
        {
          "output_type": "error",
          "ename": "KeyboardInterrupt",
          "evalue": "ignored",
          "traceback": [
            "\u001b[0;31m---------------------------------------------------------------------------\u001b[0m",
            "\u001b[0;31mKeyboardInterrupt\u001b[0m                         Traceback (most recent call last)",
            "\u001b[0;32m<ipython-input-23-e69db1f51296>\u001b[0m in \u001b[0;36m<module>\u001b[0;34m()\u001b[0m\n\u001b[1;32m      1\u001b[0m \u001b[0;32mimport\u001b[0m \u001b[0mtarfile\u001b[0m\u001b[0;34m\u001b[0m\u001b[0;34m\u001b[0m\u001b[0m\n\u001b[1;32m      2\u001b[0m \u001b[0mfile\u001b[0m \u001b[0;34m=\u001b[0m \u001b[0mtarfile\u001b[0m\u001b[0;34m.\u001b[0m\u001b[0mopen\u001b[0m\u001b[0;34m(\u001b[0m\u001b[0;34m\"train_photos.tgz\"\u001b[0m\u001b[0;34m,\u001b[0m \u001b[0mmode\u001b[0m\u001b[0;34m=\u001b[0m\u001b[0;34m\"r:gz\"\u001b[0m\u001b[0;34m)\u001b[0m\u001b[0;34m\u001b[0m\u001b[0;34m\u001b[0m\u001b[0m\n\u001b[0;32m----> 3\u001b[0;31m \u001b[0mfile\u001b[0m\u001b[0;34m.\u001b[0m\u001b[0mextractall\u001b[0m\u001b[0;34m(\u001b[0m\u001b[0;34m)\u001b[0m\u001b[0;34m\u001b[0m\u001b[0;34m\u001b[0m\u001b[0m\n\u001b[0m\u001b[1;32m      4\u001b[0m \u001b[0mfile\u001b[0m\u001b[0;34m.\u001b[0m\u001b[0mclose\u001b[0m\u001b[0;34m(\u001b[0m\u001b[0;34m)\u001b[0m\u001b[0;34m\u001b[0m\u001b[0;34m\u001b[0m\u001b[0m\n",
            "\u001b[0;32m/usr/lib/python3.6/tarfile.py\u001b[0m in \u001b[0;36mextractall\u001b[0;34m(self, path, members, numeric_owner)\u001b[0m\n\u001b[1;32m   2010\u001b[0m             \u001b[0;31m# Do not set_attrs directories, as we will do that further down\u001b[0m\u001b[0;34m\u001b[0m\u001b[0;34m\u001b[0m\u001b[0;34m\u001b[0m\u001b[0m\n\u001b[1;32m   2011\u001b[0m             self.extract(tarinfo, path, set_attrs=not tarinfo.isdir(),\n\u001b[0;32m-> 2012\u001b[0;31m                          numeric_owner=numeric_owner)\n\u001b[0m\u001b[1;32m   2013\u001b[0m \u001b[0;34m\u001b[0m\u001b[0m\n\u001b[1;32m   2014\u001b[0m         \u001b[0;31m# Reverse sort directories.\u001b[0m\u001b[0;34m\u001b[0m\u001b[0;34m\u001b[0m\u001b[0;34m\u001b[0m\u001b[0m\n",
            "\u001b[0;32m/usr/lib/python3.6/tarfile.py\u001b[0m in \u001b[0;36mextract\u001b[0;34m(self, member, path, set_attrs, numeric_owner)\u001b[0m\n\u001b[1;32m   2052\u001b[0m             self._extract_member(tarinfo, os.path.join(path, tarinfo.name),\n\u001b[1;32m   2053\u001b[0m                                  \u001b[0mset_attrs\u001b[0m\u001b[0;34m=\u001b[0m\u001b[0mset_attrs\u001b[0m\u001b[0;34m,\u001b[0m\u001b[0;34m\u001b[0m\u001b[0;34m\u001b[0m\u001b[0m\n\u001b[0;32m-> 2054\u001b[0;31m                                  numeric_owner=numeric_owner)\n\u001b[0m\u001b[1;32m   2055\u001b[0m         \u001b[0;32mexcept\u001b[0m \u001b[0mOSError\u001b[0m \u001b[0;32mas\u001b[0m \u001b[0me\u001b[0m\u001b[0;34m:\u001b[0m\u001b[0;34m\u001b[0m\u001b[0;34m\u001b[0m\u001b[0m\n\u001b[1;32m   2056\u001b[0m             \u001b[0;32mif\u001b[0m \u001b[0mself\u001b[0m\u001b[0;34m.\u001b[0m\u001b[0merrorlevel\u001b[0m \u001b[0;34m>\u001b[0m \u001b[0;36m0\u001b[0m\u001b[0;34m:\u001b[0m\u001b[0;34m\u001b[0m\u001b[0;34m\u001b[0m\u001b[0m\n",
            "\u001b[0;32m/usr/lib/python3.6/tarfile.py\u001b[0m in \u001b[0;36m_extract_member\u001b[0;34m(self, tarinfo, targetpath, set_attrs, numeric_owner)\u001b[0m\n\u001b[1;32m   2122\u001b[0m \u001b[0;34m\u001b[0m\u001b[0m\n\u001b[1;32m   2123\u001b[0m         \u001b[0;32mif\u001b[0m \u001b[0mtarinfo\u001b[0m\u001b[0;34m.\u001b[0m\u001b[0misreg\u001b[0m\u001b[0;34m(\u001b[0m\u001b[0;34m)\u001b[0m\u001b[0;34m:\u001b[0m\u001b[0;34m\u001b[0m\u001b[0;34m\u001b[0m\u001b[0m\n\u001b[0;32m-> 2124\u001b[0;31m             \u001b[0mself\u001b[0m\u001b[0;34m.\u001b[0m\u001b[0mmakefile\u001b[0m\u001b[0;34m(\u001b[0m\u001b[0mtarinfo\u001b[0m\u001b[0;34m,\u001b[0m \u001b[0mtargetpath\u001b[0m\u001b[0;34m)\u001b[0m\u001b[0;34m\u001b[0m\u001b[0;34m\u001b[0m\u001b[0m\n\u001b[0m\u001b[1;32m   2125\u001b[0m         \u001b[0;32melif\u001b[0m \u001b[0mtarinfo\u001b[0m\u001b[0;34m.\u001b[0m\u001b[0misdir\u001b[0m\u001b[0;34m(\u001b[0m\u001b[0;34m)\u001b[0m\u001b[0;34m:\u001b[0m\u001b[0;34m\u001b[0m\u001b[0;34m\u001b[0m\u001b[0m\n\u001b[1;32m   2126\u001b[0m             \u001b[0mself\u001b[0m\u001b[0;34m.\u001b[0m\u001b[0mmakedir\u001b[0m\u001b[0;34m(\u001b[0m\u001b[0mtarinfo\u001b[0m\u001b[0;34m,\u001b[0m \u001b[0mtargetpath\u001b[0m\u001b[0;34m)\u001b[0m\u001b[0;34m\u001b[0m\u001b[0;34m\u001b[0m\u001b[0m\n",
            "\u001b[0;32m/usr/lib/python3.6/tarfile.py\u001b[0m in \u001b[0;36mmakefile\u001b[0;34m(self, tarinfo, targetpath)\u001b[0m\n\u001b[1;32m   2171\u001b[0m                 \u001b[0mtarget\u001b[0m\u001b[0;34m.\u001b[0m\u001b[0mtruncate\u001b[0m\u001b[0;34m(\u001b[0m\u001b[0;34m)\u001b[0m\u001b[0;34m\u001b[0m\u001b[0;34m\u001b[0m\u001b[0m\n\u001b[1;32m   2172\u001b[0m             \u001b[0;32melse\u001b[0m\u001b[0;34m:\u001b[0m\u001b[0;34m\u001b[0m\u001b[0;34m\u001b[0m\u001b[0m\n\u001b[0;32m-> 2173\u001b[0;31m                 \u001b[0mcopyfileobj\u001b[0m\u001b[0;34m(\u001b[0m\u001b[0msource\u001b[0m\u001b[0;34m,\u001b[0m \u001b[0mtarget\u001b[0m\u001b[0;34m,\u001b[0m \u001b[0mtarinfo\u001b[0m\u001b[0;34m.\u001b[0m\u001b[0msize\u001b[0m\u001b[0;34m,\u001b[0m \u001b[0mReadError\u001b[0m\u001b[0;34m,\u001b[0m \u001b[0mbufsize\u001b[0m\u001b[0;34m)\u001b[0m\u001b[0;34m\u001b[0m\u001b[0;34m\u001b[0m\u001b[0m\n\u001b[0m\u001b[1;32m   2174\u001b[0m \u001b[0;34m\u001b[0m\u001b[0m\n\u001b[1;32m   2175\u001b[0m     \u001b[0;32mdef\u001b[0m \u001b[0mmakeunknown\u001b[0m\u001b[0;34m(\u001b[0m\u001b[0mself\u001b[0m\u001b[0;34m,\u001b[0m \u001b[0mtarinfo\u001b[0m\u001b[0;34m,\u001b[0m \u001b[0mtargetpath\u001b[0m\u001b[0;34m)\u001b[0m\u001b[0;34m:\u001b[0m\u001b[0;34m\u001b[0m\u001b[0;34m\u001b[0m\u001b[0m\n",
            "\u001b[0;32m/usr/lib/python3.6/tarfile.py\u001b[0m in \u001b[0;36mcopyfileobj\u001b[0;34m(src, dst, length, exception, bufsize)\u001b[0m\n\u001b[1;32m    247\u001b[0m     \u001b[0mblocks\u001b[0m\u001b[0;34m,\u001b[0m \u001b[0mremainder\u001b[0m \u001b[0;34m=\u001b[0m \u001b[0mdivmod\u001b[0m\u001b[0;34m(\u001b[0m\u001b[0mlength\u001b[0m\u001b[0;34m,\u001b[0m \u001b[0mbufsize\u001b[0m\u001b[0;34m)\u001b[0m\u001b[0;34m\u001b[0m\u001b[0;34m\u001b[0m\u001b[0m\n\u001b[1;32m    248\u001b[0m     \u001b[0;32mfor\u001b[0m \u001b[0mb\u001b[0m \u001b[0;32min\u001b[0m \u001b[0mrange\u001b[0m\u001b[0;34m(\u001b[0m\u001b[0mblocks\u001b[0m\u001b[0;34m)\u001b[0m\u001b[0;34m:\u001b[0m\u001b[0;34m\u001b[0m\u001b[0;34m\u001b[0m\u001b[0m\n\u001b[0;32m--> 249\u001b[0;31m         \u001b[0mbuf\u001b[0m \u001b[0;34m=\u001b[0m \u001b[0msrc\u001b[0m\u001b[0;34m.\u001b[0m\u001b[0mread\u001b[0m\u001b[0;34m(\u001b[0m\u001b[0mbufsize\u001b[0m\u001b[0;34m)\u001b[0m\u001b[0;34m\u001b[0m\u001b[0;34m\u001b[0m\u001b[0m\n\u001b[0m\u001b[1;32m    250\u001b[0m         \u001b[0;32mif\u001b[0m \u001b[0mlen\u001b[0m\u001b[0;34m(\u001b[0m\u001b[0mbuf\u001b[0m\u001b[0;34m)\u001b[0m \u001b[0;34m<\u001b[0m \u001b[0mbufsize\u001b[0m\u001b[0;34m:\u001b[0m\u001b[0;34m\u001b[0m\u001b[0;34m\u001b[0m\u001b[0m\n\u001b[1;32m    251\u001b[0m             \u001b[0;32mraise\u001b[0m \u001b[0mexception\u001b[0m\u001b[0;34m(\u001b[0m\u001b[0;34m\"unexpected end of data\"\u001b[0m\u001b[0;34m)\u001b[0m\u001b[0;34m\u001b[0m\u001b[0;34m\u001b[0m\u001b[0m\n",
            "\u001b[0;32m/usr/lib/python3.6/gzip.py\u001b[0m in \u001b[0;36mread\u001b[0;34m(self, size)\u001b[0m\n\u001b[1;32m    271\u001b[0m     \u001b[0;32mdef\u001b[0m \u001b[0mread\u001b[0m\u001b[0;34m(\u001b[0m\u001b[0mself\u001b[0m\u001b[0;34m,\u001b[0m \u001b[0msize\u001b[0m\u001b[0;34m=\u001b[0m\u001b[0;34m-\u001b[0m\u001b[0;36m1\u001b[0m\u001b[0;34m)\u001b[0m\u001b[0;34m:\u001b[0m\u001b[0;34m\u001b[0m\u001b[0;34m\u001b[0m\u001b[0m\n\u001b[1;32m    272\u001b[0m         \u001b[0mself\u001b[0m\u001b[0;34m.\u001b[0m\u001b[0m_check_not_closed\u001b[0m\u001b[0;34m(\u001b[0m\u001b[0;34m)\u001b[0m\u001b[0;34m\u001b[0m\u001b[0;34m\u001b[0m\u001b[0m\n\u001b[0;32m--> 273\u001b[0;31m         \u001b[0;32mif\u001b[0m \u001b[0mself\u001b[0m\u001b[0;34m.\u001b[0m\u001b[0mmode\u001b[0m \u001b[0;34m!=\u001b[0m \u001b[0mREAD\u001b[0m\u001b[0;34m:\u001b[0m\u001b[0;34m\u001b[0m\u001b[0;34m\u001b[0m\u001b[0m\n\u001b[0m\u001b[1;32m    274\u001b[0m             \u001b[0;32mimport\u001b[0m \u001b[0merrno\u001b[0m\u001b[0;34m\u001b[0m\u001b[0;34m\u001b[0m\u001b[0m\n\u001b[1;32m    275\u001b[0m             \u001b[0;32mraise\u001b[0m \u001b[0mOSError\u001b[0m\u001b[0;34m(\u001b[0m\u001b[0merrno\u001b[0m\u001b[0;34m.\u001b[0m\u001b[0mEBADF\u001b[0m\u001b[0;34m,\u001b[0m \u001b[0;34m\"read() on write-only GzipFile object\"\u001b[0m\u001b[0;34m)\u001b[0m\u001b[0;34m\u001b[0m\u001b[0;34m\u001b[0m\u001b[0m\n",
            "\u001b[0;31mKeyboardInterrupt\u001b[0m: "
          ]
        }
      ]
    },
    {
      "cell_type": "code",
      "metadata": {
        "id": "RS_N05tbTEgj"
      },
      "source": [
        "file = tarfile.open(\"train.csv.tgz\", mode=\"r:gz\")\n",
        "file.extractall()\n",
        "file.close()"
      ],
      "execution_count": null,
      "outputs": []
    },
    {
      "cell_type": "code",
      "metadata": {
        "id": "orNUsY2oTPgh"
      },
      "source": [
        "file = tarfile.open(\"train_photo_to_biz_ids.csv.tgz\", mode=\"r:gz\")\n",
        "file.extractall()\n",
        "file.close()"
      ],
      "execution_count": null,
      "outputs": []
    },
    {
      "cell_type": "markdown",
      "metadata": {
        "id": "0DblUS_h7FH6"
      },
      "source": [
        "* Importez les librairies suivantes : \n",
        "\n",
        "  * Pandas \n",
        "  * Matplotlib\n",
        "  * Tensorflow \n",
        "  * pathlib\n",
        "  * from sklearn.preprocessing import MultiLabelBinarizer"
      ]
    },
    {
      "cell_type": "code",
      "metadata": {
        "id": "y4Xsso5tDZlL",
        "colab": {
          "base_uri": "https://localhost:8080/",
          "height": 35
        },
        "outputId": "7a6e82f5-a774-4f7b-8a10-bb5941c225df"
      },
      "source": [
        "import pandas as pd \n",
        "import tensorflow as tf\n",
        "import matplotlib.pyplot as plt\n",
        "from sklearn.preprocessing import MultiLabelBinarizer\n",
        "import pathlib\n",
        "tf.__version__"
      ],
      "execution_count": null,
      "outputs": [
        {
          "output_type": "execute_result",
          "data": {
            "application/vnd.google.colaboratory.intrinsic+json": {
              "type": "string"
            },
            "text/plain": [
              "'2.3.0'"
            ]
          },
          "metadata": {
            "tags": []
          },
          "execution_count": 65
        }
      ]
    },
    {
      "cell_type": "markdown",
      "metadata": {
        "id": "Xe2qmkOz7PGw"
      },
      "source": [
        "* Créez une fonction `clean_path_img` qui va :\n",
        "  * Créer un objet `Path` pour toutes les images ayant une extension `.jpg`\n",
        "  * Transformer les objets `Path` en `str`\n",
        "  * Filtrer tous les chemins d'images qui commencent par un `.` (ce sont des images corrompues dans le dataset"
      ]
    },
    {
      "cell_type": "code",
      "metadata": {
        "id": "ku5osICyAmzB"
      },
      "source": [
        "def clean_path_img(path):\n",
        "\n",
        "  all_images = [img for img in list(path.glob('*')) if img.suffix == \".jpg\"]\n",
        "  all_image_path = [str(img) for img in all_images]\n",
        "  all_image_path_cleaned = [img for img in all_image_path if img.split(\"/\")[-1][0] != \".\"]\n",
        "  \n",
        "  return all_image_path_cleaned"
      ],
      "execution_count": null,
      "outputs": []
    },
    {
      "cell_type": "code",
      "metadata": {
        "id": "U39h86uYhs7s",
        "colab": {
          "base_uri": "https://localhost:8080/",
          "height": 35
        },
        "outputId": "a50eb3dc-7f1f-4da6-f129-6122eb722e71"
      },
      "source": [
        "# Permet de compter le nombre de fichiers dans le dossier train_photos\n",
        "!ls train_photos | wc -l"
      ],
      "execution_count": null,
      "outputs": [
        {
          "output_type": "execute_result",
          "data": {
            "application/vnd.google.colaboratory.intrinsic+json": {
              "type": "string"
            },
            "text/plain": [
              "'1'"
            ]
          },
          "metadata": {
            "tags": []
          },
          "execution_count": 68
        }
      ]
    },
    {
      "cell_type": "code",
      "metadata": {
        "id": "GYJDSlwqA4rh",
        "colab": {
          "base_uri": "https://localhost:8080/",
          "height": 102
        },
        "outputId": "daaf23f1-183d-48a9-ddae-0f4f6922fae6"
      },
      "source": [
        "path = pathlib.Path(\"/content/train_photos\")\n",
        "all_image_path_cleaned = clean_path_img(path)\n",
        "all_image_path_cleaned[:5]"
      ],
      "execution_count": null,
      "outputs": [
        {
          "output_type": "execute_result",
          "data": {
            "text/plain": [
              "['/content/train_photos/219669.jpg',\n",
              " '/content/train_photos/345116.jpg',\n",
              " '/content/train_photos/39199.jpg',\n",
              " '/content/train_photos/380578.jpg',\n",
              " '/content/train_photos/364452.jpg']"
            ]
          },
          "metadata": {
            "tags": []
          },
          "execution_count": 28
        }
      ]
    },
    {
      "cell_type": "markdown",
      "metadata": {
        "id": "Tz3gqezo7lh4"
      },
      "source": [
        "* Regardez la taille finale de votre dataset "
      ]
    },
    {
      "cell_type": "code",
      "metadata": {
        "id": "pWoSToENeINk",
        "colab": {
          "base_uri": "https://localhost:8080/",
          "height": 34
        },
        "outputId": "de6762d9-219b-4ad2-b0b0-756a18c30a71"
      },
      "source": [
        "len(all_image_path_cleaned)"
      ],
      "execution_count": null,
      "outputs": [
        {
          "output_type": "execute_result",
          "data": {
            "text/plain": [
              "234842"
            ]
          },
          "metadata": {
            "tags": []
          },
          "execution_count": 29
        }
      ]
    },
    {
      "cell_type": "markdown",
      "metadata": {
        "id": "R-z8Pud27szS"
      },
      "source": [
        "* Créez maintenant une fonction `mapping_dataset` qui va: \n",
        "  * Lire les deux fichiers `train.csv` & `train_photo_to_biz_ids.csv`\n",
        "  * Fusionner les deux fichiers \n",
        "  * Créer une colonne contenant tous les chemins vers chacune des images correspondant à son label\n",
        "  * Enlever les NaN \n",
        "  * Prendre un sample de 60% des données (pour limiter le temps d'entrainement par la suite) "
      ]
    },
    {
      "cell_type": "code",
      "metadata": {
        "id": "AU-c-MPQBfG1"
      },
      "source": [
        "def mapping_dataset(path_1, path_2, on, photo_path, sample_size=1):\n",
        "  \n",
        "  df_1 = pd.read_csv(path_1)\n",
        "  df_2 = pd.read_csv(path_2)\n",
        "\n",
        "  mapping = pd.merge(df_1, df_2, how=\"inner\", on=on)\n",
        "  mapping[\"path\"] = mapping.photo_id.apply(lambda x: photo_path+\"{}.jpg\".format(x))\n",
        "  mapping = mapping.dropna()\n",
        "\n",
        "  mapping = mapping.sample(int(sample_size*len(mapping))).reset_index(drop=True)\n",
        "\n",
        "  return mapping"
      ],
      "execution_count": null,
      "outputs": []
    },
    {
      "cell_type": "code",
      "metadata": {
        "id": "N9Id1QGdewTJ"
      },
      "source": [
        "  df_1 = pd.read_csv('train.csv')\n",
        "  df_2 = pd.read_csv('train_photo_to_biz_ids.csv')"
      ],
      "execution_count": null,
      "outputs": []
    },
    {
      "cell_type": "code",
      "metadata": {
        "id": "cCzwgHnde1L4",
        "colab": {
          "base_uri": "https://localhost:8080/",
          "height": 51
        },
        "outputId": "bb70ad63-9ed5-4afc-d6af-5cd4f746541d"
      },
      "source": [
        "print(df_2.columns)\n",
        "print(df_1.columns)"
      ],
      "execution_count": null,
      "outputs": [
        {
          "output_type": "stream",
          "text": [
            "Index(['photo_id', 'business_id'], dtype='object')\n",
            "Index(['business_id', 'labels'], dtype='object')\n"
          ],
          "name": "stdout"
        }
      ]
    },
    {
      "cell_type": "code",
      "metadata": {
        "id": "H9P8B3HRC0pg",
        "colab": {
          "base_uri": "https://localhost:8080/",
          "height": 204
        },
        "outputId": "cbbf8e5f-59f1-4bc6-c243-869d36fb0857"
      },
      "source": [
        "mapping = mapping_dataset(\"train.csv\", \n",
        "                          \"train_photo_to_biz_ids.csv\", \n",
        "                          \"business_id\",\n",
        "                          \"/content/train_photos/\", \n",
        "                          0.3)\n",
        "mapping.head()"
      ],
      "execution_count": null,
      "outputs": [
        {
          "output_type": "execute_result",
          "data": {
            "text/html": [
              "<div>\n",
              "<style scoped>\n",
              "    .dataframe tbody tr th:only-of-type {\n",
              "        vertical-align: middle;\n",
              "    }\n",
              "\n",
              "    .dataframe tbody tr th {\n",
              "        vertical-align: top;\n",
              "    }\n",
              "\n",
              "    .dataframe thead th {\n",
              "        text-align: right;\n",
              "    }\n",
              "</style>\n",
              "<table border=\"1\" class=\"dataframe\">\n",
              "  <thead>\n",
              "    <tr style=\"text-align: right;\">\n",
              "      <th></th>\n",
              "      <th>business_id</th>\n",
              "      <th>labels</th>\n",
              "      <th>photo_id</th>\n",
              "      <th>path</th>\n",
              "    </tr>\n",
              "  </thead>\n",
              "  <tbody>\n",
              "    <tr>\n",
              "      <th>0</th>\n",
              "      <td>2854</td>\n",
              "      <td>0 1 3 5 6 8</td>\n",
              "      <td>99627</td>\n",
              "      <td>/content/train_photos/99627.jpg</td>\n",
              "    </tr>\n",
              "    <tr>\n",
              "      <th>1</th>\n",
              "      <td>3261</td>\n",
              "      <td>1 2 3 5 6 7 8</td>\n",
              "      <td>190036</td>\n",
              "      <td>/content/train_photos/190036.jpg</td>\n",
              "    </tr>\n",
              "    <tr>\n",
              "      <th>2</th>\n",
              "      <td>846</td>\n",
              "      <td>2 4 5 6 7 8</td>\n",
              "      <td>285142</td>\n",
              "      <td>/content/train_photos/285142.jpg</td>\n",
              "    </tr>\n",
              "    <tr>\n",
              "      <th>3</th>\n",
              "      <td>2159</td>\n",
              "      <td>3 6 8</td>\n",
              "      <td>233688</td>\n",
              "      <td>/content/train_photos/233688.jpg</td>\n",
              "    </tr>\n",
              "    <tr>\n",
              "      <th>4</th>\n",
              "      <td>2315</td>\n",
              "      <td>1 2 3 4 5 6 7</td>\n",
              "      <td>386623</td>\n",
              "      <td>/content/train_photos/386623.jpg</td>\n",
              "    </tr>\n",
              "  </tbody>\n",
              "</table>\n",
              "</div>"
            ],
            "text/plain": [
              "   business_id         labels  photo_id                              path\n",
              "0         2854    0 1 3 5 6 8     99627   /content/train_photos/99627.jpg\n",
              "1         3261  1 2 3 5 6 7 8    190036  /content/train_photos/190036.jpg\n",
              "2          846    2 4 5 6 7 8    285142  /content/train_photos/285142.jpg\n",
              "3         2159          3 6 8    233688  /content/train_photos/233688.jpg\n",
              "4         2315  1 2 3 4 5 6 7    386623  /content/train_photos/386623.jpg"
            ]
          },
          "metadata": {
            "tags": []
          },
          "execution_count": 35
        }
      ]
    },
    {
      "cell_type": "markdown",
      "metadata": {
        "id": "v3-3P4LW8M84"
      },
      "source": [
        "* Nous allons devoir créer des versions `one_hot_encoder` de nos labels. Pour cela nous allons devoir utiliser le module `MultiLabelBinarizer()` de sklearn. Créer donc une fonction qui va : \n",
        "  * Créer une instance de `MultiLabelBinarizer`\n",
        "  * Fitter l'instance sur les labels de notre dataset \n",
        "  * Transformer les labels en une liste de 0 & 1 "
      ]
    },
    {
      "cell_type": "code",
      "metadata": {
        "id": "m7K74Nw1DjS8",
        "colab": {
          "base_uri": "https://localhost:8080/",
          "height": 1000
        },
        "outputId": "f2ba9b39-d857-4a30-d374-3a7e62993b81"
      },
      "source": [
        "def binarize_data(df):\n",
        "  mlb = MultiLabelBinarizer()\n",
        "  labels_list = df.labels.str.split(\" \", expand=False)\n",
        "\n",
        "  # Fit MultiLabelBinarizer\n",
        "  mlb.fit(labels_list.to_list())\n",
        "  labels_binarized = mlb.transform(labels_list.to_list())\n",
        "\n",
        "  return labels_binarized\n",
        "\n",
        "\n",
        "mapping.labels.str.split(\" \", expand=False).to_list()"
      ],
      "execution_count": null,
      "outputs": [
        {
          "output_type": "execute_result",
          "data": {
            "text/plain": [
              "[['0', '1', '3', '5', '6', '8'],\n",
              " ['1', '2', '3', '5', '6', '7', '8'],\n",
              " ['2', '4', '5', '6', '7', '8'],\n",
              " ['3', '6', '8'],\n",
              " ['1', '2', '3', '4', '5', '6', '7'],\n",
              " ['1', '2', '4', '5', '6', '7'],\n",
              " ['1', '2', '3', '4', '5', '6'],\n",
              " ['1', '2', '4', '5', '6', '7'],\n",
              " ['1', '2', '3', '4', '5', '6'],\n",
              " ['1', '2', '4', '5', '6', '7'],\n",
              " ['0', '2', '3', '6', '8'],\n",
              " ['3', '5', '6', '8'],\n",
              " ['2', '3', '5', '6'],\n",
              " ['0', '8'],\n",
              " ['1', '2', '4', '5', '6', '7'],\n",
              " ['0', '3', '8'],\n",
              " ['0', '3', '8'],\n",
              " ['1', '2', '3', '4', '5', '6', '7', '8'],\n",
              " ['1', '2', '5', '6', '8'],\n",
              " ['1', '2', '4', '5', '6'],\n",
              " ['0', '3', '8'],\n",
              " ['1', '2', '4', '5', '6', '7', '8'],\n",
              " ['1', '2', '3', '4', '5', '6', '7', '8'],\n",
              " ['1', '2', '3', '5', '6', '7', '8'],\n",
              " ['6', '8'],\n",
              " ['1', '2', '4', '5', '6'],\n",
              " ['8'],\n",
              " ['1', '2', '3', '4', '5', '6', '7'],\n",
              " ['1', '2', '5', '6', '8'],\n",
              " ['1', '2', '3', '5', '6'],\n",
              " ['3', '8'],\n",
              " ['0', '2', '3', '5', '6', '8'],\n",
              " ['1', '2', '4', '5', '6', '7'],\n",
              " ['1', '2', '4', '5', '6', '7'],\n",
              " ['1', '2', '3', '4', '5', '6', '7'],\n",
              " ['1', '2', '5', '6', '8'],\n",
              " ['0', '2', '3', '8'],\n",
              " ['5', '8'],\n",
              " ['1', '2', '4', '5', '6', '7'],\n",
              " ['0', '3', '5', '8'],\n",
              " ['1', '2', '6', '8'],\n",
              " ['8'],\n",
              " ['1', '2', '3', '5', '6', '7'],\n",
              " ['2', '3', '4', '5', '6', '7', '8'],\n",
              " ['1', '2', '3', '4', '5', '6', '7'],\n",
              " ['0', '2', '3', '6', '8'],\n",
              " ['1', '5', '6'],\n",
              " ['1', '2', '3', '4', '5', '6', '7'],\n",
              " ['1', '2', '4', '5', '6', '7', '8'],\n",
              " ['0', '2', '3', '8'],\n",
              " ['3', '5', '6'],\n",
              " ['2', '4', '5', '6'],\n",
              " ['3', '8'],\n",
              " ['1', '2', '4', '5', '6'],\n",
              " ['1', '2', '4', '5', '6', '7', '8'],\n",
              " ['1', '2', '4', '5', '6'],\n",
              " ['8'],\n",
              " ['1', '2', '5', '6', '8'],\n",
              " ['1', '2', '4', '5', '6'],\n",
              " ['1', '2', '3', '4', '5', '6', '7'],\n",
              " ['1', '2', '3', '4', '5', '6', '7'],\n",
              " ['5', '8'],\n",
              " ['2', '3', '5', '6'],\n",
              " ['0', '3', '5', '6'],\n",
              " ['1', '2', '4', '5', '6', '7'],\n",
              " ['5', '8'],\n",
              " ['1', '2', '4', '5', '6', '7', '8'],\n",
              " ['6', '8'],\n",
              " ['6', '8'],\n",
              " ['1', '3', '5', '6', '7'],\n",
              " ['1', '2', '3', '4', '5', '6', '7'],\n",
              " ['3', '5'],\n",
              " ['1', '5', '6', '7'],\n",
              " ['1', '2', '5', '6', '7'],\n",
              " ['1', '2', '4', '5', '6', '7'],\n",
              " ['2', '8'],\n",
              " ['5', '6', '8'],\n",
              " ['1', '2', '3', '4', '5', '6', '7'],\n",
              " ['8'],\n",
              " ['1', '2', '4', '5', '6', '8'],\n",
              " ['1', '2', '4', '5', '6', '7'],\n",
              " ['0', '1', '5', '8'],\n",
              " ['1', '2', '4', '5', '6'],\n",
              " ['1', '2', '4', '5', '6', '7'],\n",
              " ['1', '5', '6'],\n",
              " ['1', '2', '3', '4', '5', '6'],\n",
              " ['0', '1', '2', '3', '5', '6', '8'],\n",
              " ['1', '2', '3', '4', '5', '6', '7'],\n",
              " ['2', '5', '6', '8'],\n",
              " ['1', '2', '4', '5', '6', '7'],\n",
              " ['0', '3', '8'],\n",
              " ['1', '2', '5', '6', '7'],\n",
              " ['1', '2', '4', '5', '6', '7'],\n",
              " ['0', '2', '6', '8'],\n",
              " ['2', '4', '5', '6'],\n",
              " ['5', '8'],\n",
              " ['0', '1', '2', '3', '5', '6', '8'],\n",
              " ['0', '8'],\n",
              " ['0', '3', '8'],\n",
              " ['1', '2', '3', '4', '5', '6', '7'],\n",
              " ['1', '2', '3', '5', '6', '7'],\n",
              " ['0', '8'],\n",
              " ['1', '2', '5', '6', '8'],\n",
              " ['1', '2', '4', '5', '6', '7', '8'],\n",
              " ['1', '2', '4', '5', '6', '7'],\n",
              " ['1', '2', '4', '5', '6', '7'],\n",
              " ['1', '2', '3', '4', '5', '6', '7', '8'],\n",
              " ['0', '2', '5', '6', '7', '8'],\n",
              " ['1', '2', '5', '6'],\n",
              " ['2', '3', '5', '6', '8'],\n",
              " ['0', '8'],\n",
              " ['1', '2', '4', '5', '6', '7', '8'],\n",
              " ['1', '2', '3', '5', '6', '8'],\n",
              " ['0', '3', '8'],\n",
              " ['1', '2', '5', '6', '7'],\n",
              " ['1', '2', '4', '5', '6'],\n",
              " ['0', '5', '8'],\n",
              " ['0', '2', '3', '5', '6', '8'],\n",
              " ['1', '2', '4', '5', '6', '7'],\n",
              " ['3', '5', '8'],\n",
              " ['8'],\n",
              " ['8'],\n",
              " ['1', '2', '5', '6', '7'],\n",
              " ['6', '8'],\n",
              " ['1', '2', '3', '4', '5', '6'],\n",
              " ['1', '2', '3', '5', '6', '8'],\n",
              " ['3', '6', '8'],\n",
              " ['0', '5', '8'],\n",
              " ['3', '6', '8'],\n",
              " ['1', '2', '3', '5', '6', '7'],\n",
              " ['1', '2', '3', '4', '5', '6', '7', '8'],\n",
              " ['1', '2', '4', '5', '6', '7'],\n",
              " ['2', '5', '6', '8'],\n",
              " ['1', '2', '5', '6'],\n",
              " ['3', '5', '6', '8'],\n",
              " ['1', '2', '4', '5', '6', '7'],\n",
              " ['1', '2', '5', '6', '7'],\n",
              " ['1', '2', '3', '4', '5', '6', '7', '8'],\n",
              " ['1', '2', '5', '6', '8'],\n",
              " ['1', '2', '4', '5', '6', '7'],\n",
              " ['2', '4', '5', '6'],\n",
              " ['1', '2', '5', '6', '8'],\n",
              " ['1', '2', '3', '4', '5', '6', '7'],\n",
              " ['0', '5', '8'],\n",
              " ['1', '2', '3', '5', '6', '8'],\n",
              " ['1', '2', '4', '5', '6'],\n",
              " ['0', '3', '8'],\n",
              " ['1', '2', '4', '5', '6'],\n",
              " ['0', '6', '8'],\n",
              " ['0', '3', '8'],\n",
              " ['1', '2', '3', '5', '6', '7', '8'],\n",
              " ['0', '3', '8'],\n",
              " ['1', '2', '4', '5', '6', '7'],\n",
              " ['0', '3', '5', '8'],\n",
              " ['1', '2', '4', '5', '6'],\n",
              " ['3', '8'],\n",
              " ['1', '2', '4', '5', '6', '7'],\n",
              " ['1', '2', '3', '5', '6'],\n",
              " ['1', '2', '5', '6', '7', '8'],\n",
              " ['1', '2', '4', '5', '6', '7'],\n",
              " ['3', '8'],\n",
              " ['0', '8'],\n",
              " ['1', '2', '5', '6'],\n",
              " ['1', '2', '3', '4', '5', '6', '7'],\n",
              " ['1', '2', '5', '6', '8'],\n",
              " ['1', '4', '5', '6'],\n",
              " ['3', '8'],\n",
              " ['1', '2', '3', '5', '6', '7'],\n",
              " ['3', '8'],\n",
              " ['0', '3', '8'],\n",
              " ['3', '8'],\n",
              " ['0', '1', '3', '5', '6', '8'],\n",
              " ['0', '5', '6', '8'],\n",
              " ['1', '2', '3', '4', '5', '6', '7'],\n",
              " ['3', '8'],\n",
              " ['8'],\n",
              " ['1', '2', '4', '5', '6', '7'],\n",
              " ['1', '2', '4', '5', '6'],\n",
              " ['1', '2', '4', '5', '6', '7'],\n",
              " ['1', '2', '3', '4', '5', '6', '7'],\n",
              " ['0', '1', '2', '3', '6', '8'],\n",
              " ['1', '2', '4', '5', '6', '7'],\n",
              " ['1', '2', '3', '4', '5', '6'],\n",
              " ['0', '3', '8'],\n",
              " ['2', '3', '5', '6'],\n",
              " ['1', '2', '4', '5', '6', '8'],\n",
              " ['1', '2', '4', '5', '6', '7', '8'],\n",
              " ['0', '3', '8'],\n",
              " ['1', '2', '4', '5', '6', '7'],\n",
              " ['0', '8'],\n",
              " ['1', '2', '4', '5', '6', '7', '8'],\n",
              " ['1', '2', '4', '5', '6', '7', '8'],\n",
              " ['1', '2', '3', '4', '5', '6', '7'],\n",
              " ['2', '3', '5', '6', '8'],\n",
              " ['8'],\n",
              " ['0', '3', '8'],\n",
              " ['8'],\n",
              " ['1', '2', '3', '5', '6', '7'],\n",
              " ['0', '2', '5', '6', '8'],\n",
              " ['1', '2', '4', '5', '6'],\n",
              " ['2', '5', '6', '8'],\n",
              " ['1', '2', '3', '4', '5', '6'],\n",
              " ['0', '8'],\n",
              " ['2', '3', '6', '8'],\n",
              " ['0', '3', '8'],\n",
              " ['1', '2', '4', '5', '6', '7'],\n",
              " ['1', '2', '3', '4', '5', '6', '7'],\n",
              " ['1', '4', '5', '6', '7', '8'],\n",
              " ['1', '2', '5', '6', '8'],\n",
              " ['6', '8'],\n",
              " ['1', '2', '4', '5', '6', '7'],\n",
              " ['1', '2', '3', '5', '6', '7'],\n",
              " ['0', '5', '8'],\n",
              " ['1', '2', '4', '5', '6', '7'],\n",
              " ['1', '2', '3', '4', '5', '6', '7'],\n",
              " ['1', '2', '5', '6'],\n",
              " ['0', '6', '8'],\n",
              " ['3', '6', '8'],\n",
              " ['1', '2', '3', '4', '5', '6', '7'],\n",
              " ['0', '3', '8'],\n",
              " ['8'],\n",
              " ['3', '6', '8'],\n",
              " ['1', '2', '3', '4', '5', '6'],\n",
              " ['1', '2', '3', '4', '5', '6', '7'],\n",
              " ['1', '2', '5', '6', '8'],\n",
              " ['3', '8'],\n",
              " ['1', '2', '3', '5', '6', '7'],\n",
              " ['1', '2', '5', '6', '8'],\n",
              " ['2', '5', '6'],\n",
              " ['3', '8'],\n",
              " ['1', '2', '4', '5', '6'],\n",
              " ['2', '4', '5', '6'],\n",
              " ['1', '2', '3', '4', '5', '6'],\n",
              " ['5', '8'],\n",
              " ['0', '6', '8'],\n",
              " ['3', '8'],\n",
              " ['1', '2', '3', '4', '5', '6'],\n",
              " ['1', '2', '3', '4', '5', '6'],\n",
              " ['0', '2', '3', '5', '8'],\n",
              " ['1', '2', '3', '4', '5', '6', '7'],\n",
              " ['1', '2', '3', '4', '5', '6', '7', '8'],\n",
              " ['1', '2', '4', '5', '6', '7'],\n",
              " ['1', '2', '5', '6', '8'],\n",
              " ['1', '2', '3', '4', '5', '6'],\n",
              " ['0', '3', '5', '8'],\n",
              " ['1', '2', '4', '5', '6', '7'],\n",
              " ['1', '2', '4', '5', '6', '7'],\n",
              " ['1', '4', '5', '6', '7', '8'],\n",
              " ['2', '3', '5', '6', '7', '8'],\n",
              " ['1', '2', '4', '5', '6'],\n",
              " ['1', '2', '4', '5', '6', '7'],\n",
              " ['1', '2', '4', '5', '6', '7'],\n",
              " ['1', '2', '3', '5', '6', '7'],\n",
              " ['0', '8'],\n",
              " ['1', '2', '4', '5', '6'],\n",
              " ['1', '2', '3', '4', '6'],\n",
              " ['1', '2', '3', '4', '5', '6', '7'],\n",
              " ['8'],\n",
              " ['1', '2', '3', '4', '5', '6'],\n",
              " ['3', '5', '6'],\n",
              " ['1', '2', '4', '5', '6'],\n",
              " ['6', '8'],\n",
              " ['2', '3', '5', '6', '7', '8'],\n",
              " ['0', '8'],\n",
              " ['0', '3', '8'],\n",
              " ['0', '5', '6'],\n",
              " ['8'],\n",
              " ['2', '3', '5', '6', '8'],\n",
              " ['1', '2', '3', '5', '6', '7'],\n",
              " ['1', '2', '5', '6', '8'],\n",
              " ['5', '8'],\n",
              " ['3', '8'],\n",
              " ['0', '3', '8'],\n",
              " ['2', '3', '5', '6', '8'],\n",
              " ['1', '2', '4', '5', '6', '7'],\n",
              " ['1', '2', '4', '5', '6', '7'],\n",
              " ['1', '2', '4', '5', '6', '7', '8'],\n",
              " ['3', '6', '8'],\n",
              " ['1', '2', '3', '5', '6', '7', '8'],\n",
              " ['1', '2', '4', '5', '6', '7'],\n",
              " ['0', '2', '3', '6', '8'],\n",
              " ['1', '2', '3', '5', '6'],\n",
              " ['1', '5', '6'],\n",
              " ['1', '2', '3', '4', '5', '6'],\n",
              " ['1', '3', '5', '8'],\n",
              " ['0', '3', '5', '8'],\n",
              " ['2', '4', '5', '6', '7', '8'],\n",
              " ['2', '4', '5', '6', '7', '8'],\n",
              " ['0', '1', '3', '4', '5', '6'],\n",
              " ['1', '3', '4', '5', '6'],\n",
              " ['1', '2', '4', '5', '6', '7'],\n",
              " ['1', '2', '4', '5', '6', '7'],\n",
              " ['1', '2', '4', '5', '6', '7'],\n",
              " ['0', '2', '5', '6'],\n",
              " ['3', '8'],\n",
              " ['1', '2', '4', '5', '6', '7'],\n",
              " ['0', '2', '3', '5', '6', '8'],\n",
              " ['1', '2', '4', '5', '6', '7'],\n",
              " ['8'],\n",
              " ['0', '5', '6', '8'],\n",
              " ['3', '8'],\n",
              " ['1', '2', '4', '5', '6', '7'],\n",
              " ['0', '1', '2', '4', '5', '6', '7', '8'],\n",
              " ['6', '8'],\n",
              " ['0', '5', '6', '8'],\n",
              " ['1', '2', '4', '5', '6', '7'],\n",
              " ['0', '3', '8'],\n",
              " ['2', '3', '5', '6', '7', '8'],\n",
              " ['1', '2', '4', '5', '6', '7', '8'],\n",
              " ['1', '2', '3', '5', '6'],\n",
              " ['1', '2', '4', '5', '6', '7'],\n",
              " ['1', '2', '4', '5', '6'],\n",
              " ['6', '8'],\n",
              " ['0', '3', '8'],\n",
              " ['1', '2', '3', '4', '5', '6', '7'],\n",
              " ['5', '6', '8'],\n",
              " ['2', '3', '5', '6', '7', '8'],\n",
              " ['3', '6', '8'],\n",
              " ['2', '5', '6', '8'],\n",
              " ['0', '2', '3', '6', '8'],\n",
              " ['1', '2', '4', '5', '6', '7'],\n",
              " ['1', '2', '5', '6', '8'],\n",
              " ['0', '3', '8'],\n",
              " ['1', '5', '6'],\n",
              " ['1', '2', '6', '8'],\n",
              " ['2', '3', '6', '8'],\n",
              " ['1', '2', '4', '5', '6'],\n",
              " ['1', '2', '3', '5', '6', '7'],\n",
              " ['0', '6', '8'],\n",
              " ['1', '2', '4', '5', '6', '7'],\n",
              " ['1', '2', '4', '5', '6', '7'],\n",
              " ['1', '2', '4', '5', '6', '7', '8'],\n",
              " ['1', '2', '3', '4', '5', '6', '7'],\n",
              " ['1', '2', '3', '4', '5', '6', '7'],\n",
              " ['1', '2', '3', '4', '5', '6', '7'],\n",
              " ['1', '2', '3', '4', '5', '6', '7'],\n",
              " ['1', '2', '5', '6', '7', '8'],\n",
              " ['1', '2', '3', '4', '5', '6', '7'],\n",
              " ['1', '2', '4', '5', '6', '7', '8'],\n",
              " ['1', '2', '4', '5', '6', '7'],\n",
              " ['0', '3', '5', '8'],\n",
              " ['1', '2', '3', '4', '5', '6', '7'],\n",
              " ['2', '3', '5', '6', '8'],\n",
              " ['1', '2', '4', '5', '6', '7'],\n",
              " ['1', '2', '4', '5', '6'],\n",
              " ['0', '3', '8'],\n",
              " ['1', '5', '6', '7'],\n",
              " ['1', '2', '4', '5', '6', '7'],\n",
              " ['1', '4', '5', '6', '8'],\n",
              " ['0', '1', '3', '5', '6', '8'],\n",
              " ['1', '2', '4', '5', '6', '7', '8'],\n",
              " ['3', '6', '8'],\n",
              " ['6', '8'],\n",
              " ['3', '8'],\n",
              " ['0', '8'],\n",
              " ['2', '3', '5', '6', '8'],\n",
              " ['1', '3', '5', '6'],\n",
              " ['0', '2', '3', '5', '6'],\n",
              " ['1', '2', '4', '5', '6', '7'],\n",
              " ['0', '2', '3', '8'],\n",
              " ['1', '2', '5', '6', '7'],\n",
              " ['1', '2', '3', '5', '6', '8'],\n",
              " ['1', '2', '5', '6', '8'],\n",
              " ['0', '3', '8'],\n",
              " ['1', '2', '4', '5', '6', '7'],\n",
              " ['1', '2', '4', '5', '6', '7'],\n",
              " ['1', '2', '3', '4', '5', '6'],\n",
              " ['3', '8'],\n",
              " ['2', '5', '6', '8'],\n",
              " ['0', '1', '6', '8'],\n",
              " ['1', '2', '3', '5', '6', '7'],\n",
              " ['1', '4', '5', '6'],\n",
              " ['0', '1', '2', '3', '5', '6', '7', '8'],\n",
              " ['1', '2', '3', '4', '5', '6'],\n",
              " ['0', '2', '3', '5', '6', '8'],\n",
              " ['1', '2', '4', '5', '6', '7'],\n",
              " ['1', '2', '4', '5', '6', '7', '8'],\n",
              " ['1', '2', '4', '5', '6'],\n",
              " ['3', '5', '6', '7', '8'],\n",
              " ['1', '2', '3', '4', '5', '6', '7'],\n",
              " ['2', '3', '4', '5', '6'],\n",
              " ['6', '8'],\n",
              " ['1', '6', '8'],\n",
              " ['1', '2', '4', '5', '6', '7', '8'],\n",
              " ['2', '3', '5', '6'],\n",
              " ['1', '2', '4', '5', '6', '7'],\n",
              " ['1', '2', '4', '5', '6', '7'],\n",
              " ['3', '5', '8'],\n",
              " ['1', '2', '3', '4', '5', '6', '7'],\n",
              " ['0', '8'],\n",
              " ['1', '2', '5', '6', '8'],\n",
              " ['0', '3', '6', '8'],\n",
              " ['1', '2', '3', '4', '5', '6'],\n",
              " ['1', '2', '4', '5', '6', '7'],\n",
              " ['1', '2', '4', '5', '6'],\n",
              " ['1', '2', '4', '5', '6', '7'],\n",
              " ['1', '2', '3', '4', '5', '6', '7'],\n",
              " ['1', '2', '3', '4', '5', '6'],\n",
              " ['0', '1', '5', '6'],\n",
              " ['0', '3', '8'],\n",
              " ['8'],\n",
              " ['0', '8'],\n",
              " ['0', '3', '8'],\n",
              " ['0', '3', '8'],\n",
              " ['0', '2', '3', '5', '8'],\n",
              " ['1', '2', '4', '5', '6'],\n",
              " ['1', '2', '5', '6'],\n",
              " ['1', '2', '3', '4', '5', '6', '7'],\n",
              " ['1', '2', '3', '5', '6', '7', '8'],\n",
              " ['0', '8'],\n",
              " ['1', '2', '3', '4', '5', '6', '7'],\n",
              " ['1', '2', '4', '5', '6', '8'],\n",
              " ['0', '2', '3', '5', '6'],\n",
              " ['3', '5', '6', '8'],\n",
              " ['6', '8'],\n",
              " ['3', '5', '6'],\n",
              " ['0', '1', '2', '5', '6', '7', '8'],\n",
              " ['1', '2', '4', '5', '6'],\n",
              " ['5', '6', '8'],\n",
              " ['0', '1', '2', '3', '5', '6', '8'],\n",
              " ['0', '2', '3', '5', '6', '7'],\n",
              " ['0', '3', '8'],\n",
              " ['1', '2', '4', '5', '6', '7'],\n",
              " ['1', '2', '3', '4', '5', '6'],\n",
              " ['0', '3', '8'],\n",
              " ['1', '2', '4', '5', '6', '7'],\n",
              " ['1', '2', '4', '5', '6'],\n",
              " ['1', '2', '4', '5', '6', '7', '8'],\n",
              " ['1', '2', '4', '5', '6', '7'],\n",
              " ['3', '8'],\n",
              " ['1', '2', '3', '4', '5', '6', '7'],\n",
              " ['0', '3', '8'],\n",
              " ['6', '8'],\n",
              " ['3', '5', '6', '8'],\n",
              " ['1', '2', '5', '6', '7'],\n",
              " ['1', '4', '5', '6', '7'],\n",
              " ['1', '2', '3', '4', '5', '6', '7', '8'],\n",
              " ['0', '1', '2', '5', '6', '8'],\n",
              " ['1', '2', '4', '5', '6', '8'],\n",
              " ['1', '2', '3', '4', '5', '6'],\n",
              " ['1', '2', '4', '5', '6', '7'],\n",
              " ['1', '2', '3', '5', '6', '7'],\n",
              " ['1', '2', '3', '4', '5', '6'],\n",
              " ['1', '2', '4', '5', '6', '7'],\n",
              " ['0', '2', '5', '6'],\n",
              " ['3', '6'],\n",
              " ['0', '1', '2', '3', '5', '6', '7'],\n",
              " ['1', '2', '4', '5', '6', '7'],\n",
              " ['3', '8'],\n",
              " ['1', '2', '4', '5', '6', '7'],\n",
              " ['1', '2', '3', '5', '6', '8'],\n",
              " ['0', '8'],\n",
              " ['2', '3', '5', '6'],\n",
              " ['0', '3', '8'],\n",
              " ['1', '2', '3', '4', '5', '6', '7'],\n",
              " ['2', '5', '6', '7', '8'],\n",
              " ['1', '2', '3', '5', '6', '7', '8'],\n",
              " ['6', '8'],\n",
              " ['1', '2', '3', '4', '5', '6'],\n",
              " ['1', '2', '4', '5', '6', '7'],\n",
              " ['3', '8'],\n",
              " ['2', '5', '6'],\n",
              " ['1', '2', '3', '5', '6', '7'],\n",
              " ['1', '4', '5', '6'],\n",
              " ['0', '8'],\n",
              " ['2', '3', '5', '6'],\n",
              " ['1', '2', '3', '5', '6', '7'],\n",
              " ['3', '5', '6', '8'],\n",
              " ['1', '2', '3', '4', '5', '6', '7', '8'],\n",
              " ['1', '2', '3', '5', '6', '7'],\n",
              " ['1', '2', '5', '6', '7', '8'],\n",
              " ['1', '2', '3', '4', '5', '6', '7'],\n",
              " ['1', '2', '3', '4', '5', '6', '7'],\n",
              " ['5', '6', '8'],\n",
              " ['1', '2', '4', '5', '6', '7'],\n",
              " ['0', '6', '8'],\n",
              " ['3', '8'],\n",
              " ['1', '2', '3', '5', '6', '7'],\n",
              " ['1', '2', '3', '5', '6'],\n",
              " ['1', '2', '3', '4', '5', '6', '7'],\n",
              " ['0', '2', '3', '5', '8'],\n",
              " ['1', '2', '4', '5', '6', '7'],\n",
              " ['1', '2', '3', '5', '6'],\n",
              " ['6'],\n",
              " ['2', '3', '4', '5', '6', '7'],\n",
              " ['1', '2', '4', '5', '6', '7'],\n",
              " ['1', '2', '3', '5', '6', '8'],\n",
              " ['1', '2', '3', '4', '5', '6'],\n",
              " ['1', '2', '5', '6', '8'],\n",
              " ['1', '2', '5', '6', '7'],\n",
              " ['3', '5', '6', '7', '8'],\n",
              " ['1', '2', '5', '6', '7'],\n",
              " ['1', '2', '4', '5', '6'],\n",
              " ['8'],\n",
              " ['1', '2', '3', '5', '6', '7'],\n",
              " ['0', '3', '8'],\n",
              " ['1', '2', '4', '5', '6', '7'],\n",
              " ['1', '2', '4', '5', '6', '7', '8'],\n",
              " ['6', '8'],\n",
              " ['1', '2', '4', '6', '7'],\n",
              " ['1', '2', '4', '5', '6', '7'],\n",
              " ['0', '2', '3', '5', '6', '7'],\n",
              " ['1', '2', '3', '5', '6', '7'],\n",
              " ['3', '5', '6', '8'],\n",
              " ['1', '2', '4', '5', '6'],\n",
              " ['0', '3', '8'],\n",
              " ['1', '2', '3', '4', '5', '6'],\n",
              " ['1', '2', '3', '5', '6', '7'],\n",
              " ['1', '2', '3', '4', '5', '6'],\n",
              " ['1', '2', '3', '5', '6', '7', '8'],\n",
              " ['3', '5', '6'],\n",
              " ['1', '2', '4', '5', '6', '7'],\n",
              " ['1', '2', '4', '5', '6', '8'],\n",
              " ['1', '2', '4', '5', '6'],\n",
              " ['1', '2', '5', '6', '7', '8'],\n",
              " ['0', '8'],\n",
              " ['1', '2', '4', '5', '6'],\n",
              " ['0', '3', '8'],\n",
              " ['1', '2', '4', '5', '6', '7'],\n",
              " ['5', '8'],\n",
              " ['0', '2', '3', '5', '6', '8'],\n",
              " ['1', '3', '5', '6', '7'],\n",
              " ['0', '3', '5', '8'],\n",
              " ['1', '2', '4', '5', '6', '8'],\n",
              " ['2', '3', '5', '6'],\n",
              " ['6', '8'],\n",
              " ['1', '2', '3', '4', '5', '6'],\n",
              " ['1', '2', '5', '6', '7'],\n",
              " ['0', '3', '5', '8'],\n",
              " ['1', '7'],\n",
              " ['8'],\n",
              " ['1', '2', '4', '5', '6', '7'],\n",
              " ['1', '2', '4', '5', '6', '7'],\n",
              " ['3', '5', '6', '8'],\n",
              " ['2', '3', '5', '6'],\n",
              " ['0', '2', '3', '5', '6', '8'],\n",
              " ['1', '2', '5', '6', '7'],\n",
              " ['1', '2', '4', '5', '6', '7'],\n",
              " ['1', '2', '4', '5', '6', '7'],\n",
              " ['1', '2', '3', '4', '5', '6', '7', '8'],\n",
              " ['1', '2', '3', '5', '6'],\n",
              " ['1', '2', '3', '4', '5', '6', '7'],\n",
              " ['1', '2', '4', '5', '6', '7'],\n",
              " ['1', '2', '5', '6', '8'],\n",
              " ['0', '3', '8'],\n",
              " ['3', '8'],\n",
              " ['0', '8'],\n",
              " ['1', '3', '5', '6'],\n",
              " ['1', '2', '4', '5', '6', '7'],\n",
              " ['2', '5', '6'],\n",
              " ['1', '2', '4', '5', '6'],\n",
              " ['0', '2', '3', '6', '8'],\n",
              " ['1', '2', '4', '5', '6', '7'],\n",
              " ['1', '2', '3', '5', '6', '7'],\n",
              " ['1', '2', '5', '6', '7'],\n",
              " ['1', '2', '3', '8'],\n",
              " ['3', '5', '6', '8'],\n",
              " ['0', '8'],\n",
              " ['1', '2', '3', '4', '5', '6', '7'],\n",
              " ['3', '8'],\n",
              " ['1', '2', '4', '5', '6'],\n",
              " ['0', '8'],\n",
              " ['0', '3', '8'],\n",
              " ['1', '4', '5', '6', '8'],\n",
              " ['1', '2', '3', '4', '5', '6'],\n",
              " ['1', '2', '3', '4', '5', '6', '7'],\n",
              " ['1', '2', '3', '4', '5', '6', '7'],\n",
              " ['1', '2', '3', '5', '6', '8'],\n",
              " ['1', '2', '4', '5', '6', '7'],\n",
              " ['8'],\n",
              " ['1', '2', '5', '6', '8'],\n",
              " ['3', '5', '6', '7', '8'],\n",
              " ['1', '2', '3', '6', '7'],\n",
              " ['8'],\n",
              " ['1', '2', '4', '5', '6', '7'],\n",
              " ['1', '2', '3', '4', '5', '6', '7'],\n",
              " ['3', '6', '8'],\n",
              " ['5', '6', '8'],\n",
              " ['1', '2', '3', '5', '6'],\n",
              " ['0', '1', '8'],\n",
              " ['1', '2', '4', '5', '6'],\n",
              " ['0', '8'],\n",
              " ['3', '8'],\n",
              " ['1', '2', '3', '4', '5', '6'],\n",
              " ['3', '5', '6', '8'],\n",
              " ['1', '2', '4', '5', '6', '7'],\n",
              " ['0', '2', '8'],\n",
              " ['1', '2', '4', '5', '6', '7'],\n",
              " ['5', '8'],\n",
              " ['1', '2', '3', '4', '5', '6'],\n",
              " ['1', '2', '4', '5', '6', '7'],\n",
              " ['6', '8'],\n",
              " ['2', '3', '6', '8'],\n",
              " ['1', '2', '3', '4', '5', '6'],\n",
              " ['8'],\n",
              " ['1', '2', '4', '5', '6'],\n",
              " ['0', '3', '5', '8'],\n",
              " ['1', '2', '4', '5', '6', '7'],\n",
              " ['1', '2', '3', '5', '6', '7'],\n",
              " ['1', '2', '4', '5', '6', '7'],\n",
              " ['1', '2', '3', '4', '5', '6'],\n",
              " ['1', '2', '3', '5', '6', '7'],\n",
              " ['1', '2', '4', '5', '6', '7'],\n",
              " ['1', '2', '3', '4', '5', '6', '7'],\n",
              " ['3', '5', '6'],\n",
              " ['1', '2', '4', '5', '6'],\n",
              " ['1', '2', '5', '6', '8'],\n",
              " ['1', '2', '3', '4', '5', '6', '7'],\n",
              " ['1', '3', '4', '5', '6', '8'],\n",
              " ['0', '8'],\n",
              " ['1', '2', '4', '5', '6', '7'],\n",
              " ['0', '3', '5', '8'],\n",
              " ['1', '2', '3', '4', '5', '6'],\n",
              " ['1', '2', '4', '5', '6', '7'],\n",
              " ['5', '6', '8'],\n",
              " ['0', '1', '2', '6', '8'],\n",
              " ['8'],\n",
              " ['1', '2', '4', '5', '6', '7'],\n",
              " ['1', '2', '3', '4', '5', '6', '7', '8'],\n",
              " ['1', '2', '4', '5', '6', '7'],\n",
              " ['1', '2', '4', '5', '6', '7'],\n",
              " ['0', '2', '3', '4', '5', '6', '7', '8'],\n",
              " ['1', '2', '4', '5', '6', '7'],\n",
              " ['1', '2', '3', '4', '5', '6', '7'],\n",
              " ['1', '2', '4', '5', '6', '7'],\n",
              " ['0', '1', '3'],\n",
              " ['1', '2', '4', '5', '6', '7', '8'],\n",
              " ['0', '3', '5'],\n",
              " ['6', '8'],\n",
              " ['0', '3', '8'],\n",
              " ['0', '2', '6', '8'],\n",
              " ['1', '2', '3', '4', '5', '6'],\n",
              " ['3', '8'],\n",
              " ['1', '2', '3', '4', '5', '6', '7'],\n",
              " ['6', '8'],\n",
              " ['2', '3', '5', '6'],\n",
              " ['1', '2', '3', '4', '5', '6', '7'],\n",
              " ['1', '2', '4', '5', '6'],\n",
              " ['1', '2', '5', '6', '8'],\n",
              " ['6', '8'],\n",
              " ['0', '1', '2', '5', '6', '8'],\n",
              " ['1', '2', '5', '6', '8'],\n",
              " ['0', '3', '8'],\n",
              " ['0', '2', '8'],\n",
              " ['1', '2', '4', '5', '6', '7'],\n",
              " ['1', '2', '3', '5', '6', '8'],\n",
              " ['2', '6', '8'],\n",
              " ['1', '2', '3', '4', '5', '6'],\n",
              " ['1', '2', '3', '4', '5', '6', '7'],\n",
              " ['0', '1', '2', '5', '6', '8'],\n",
              " ['1', '2', '3', '4', '5', '6', '7'],\n",
              " ['0', '3', '8'],\n",
              " ['2', '3', '5', '6', '7'],\n",
              " ['0', '3', '8'],\n",
              " ['6', '8'],\n",
              " ['6', '8'],\n",
              " ['3', '6', '8'],\n",
              " ['1', '2', '4', '5', '6'],\n",
              " ['1', '2', '4', '5', '6', '7'],\n",
              " ['3', '5', '8'],\n",
              " ['0', '2', '3', '5', '8'],\n",
              " ['0', '8'],\n",
              " ['1', '2', '4', '5', '6'],\n",
              " ['2', '3', '4', '5', '6', '7', '8'],\n",
              " ['1', '2', '4', '5', '6', '7'],\n",
              " ['3', '6', '8'],\n",
              " ['1', '2', '5', '6', '8'],\n",
              " ['1', '2', '3', '5', '6', '7'],\n",
              " ['1', '2', '4', '5', '6', '7', '8'],\n",
              " ['0', '6', '8'],\n",
              " ['1', '4', '5', '6', '8'],\n",
              " ['0', '2', '4', '5', '6', '7'],\n",
              " ['0', '5'],\n",
              " ['1', '2', '3', '4', '5', '6', '7'],\n",
              " ['1', '2', '5', '6', '8'],\n",
              " ['1', '2', '5', '6', '7', '8'],\n",
              " ['1', '2', '3', '5', '6'],\n",
              " ['1', '2', '5', '6', '7'],\n",
              " ['2', '5', '6'],\n",
              " ['1', '2', '5', '6'],\n",
              " ['0', '1', '2', '5', '8'],\n",
              " ['1', '2', '4', '5', '6', '7'],\n",
              " ['1', '2', '3', '4', '5', '6', '7'],\n",
              " ['0', '2', '3', '5', '8'],\n",
              " ['1', '2', '3', '5', '6'],\n",
              " ['1', '3', '5', '6'],\n",
              " ['3', '8'],\n",
              " ['1', '2', '4', '5', '6', '7'],\n",
              " ['1', '2', '4', '5', '6', '7'],\n",
              " ['0', '2', '3', '5', '8'],\n",
              " ['1', '2', '5', '6', '8'],\n",
              " ['0', '6', '8'],\n",
              " ['1', '2', '4', '5', '6', '7', '8'],\n",
              " ['1', '2', '4', '5', '6', '7'],\n",
              " ['0', '3', '8'],\n",
              " ['0', '3', '8'],\n",
              " ['8'],\n",
              " ['1', '2', '4', '5', '6', '7'],\n",
              " ['1', '2', '3', '4', '5', '6'],\n",
              " ['1', '2', '4', '5', '6', '7'],\n",
              " ['2', '3', '8'],\n",
              " ['3', '8'],\n",
              " ['1', '2', '4', '5', '6', '7'],\n",
              " ['1', '2', '4', '5', '6'],\n",
              " ['1', '2', '4', '5', '6', '7', '8'],\n",
              " ['1', '2', '5', '6', '7'],\n",
              " ['0', '8'],\n",
              " ['2', '4', '5', '6'],\n",
              " ['1', '8'],\n",
              " ['1', '2', '3', '4', '5', '6', '7'],\n",
              " ['2', '3', '4', '5', '6', '7'],\n",
              " ['0', '1', '3', '5', '8'],\n",
              " ['0', '3', '5', '6', '8'],\n",
              " ['2', '8'],\n",
              " ['1', '2', '4', '5', '6', '7'],\n",
              " ['0', '8'],\n",
              " ['1', '2', '6', '7'],\n",
              " ['0', '8'],\n",
              " ['1', '2', '3', '4', '5', '6', '7'],\n",
              " ['1', '2', '3', '4', '5', '6', '7'],\n",
              " ['1', '2', '3', '4', '5', '6', '7'],\n",
              " ['1', '2', '4', '5', '6', '7'],\n",
              " ['0', '8'],\n",
              " ['0', '3', '8'],\n",
              " ['1', '2', '5', '6', '7'],\n",
              " ['2', '6', '8'],\n",
              " ['1', '2', '4', '5', '6'],\n",
              " ['1', '2', '3', '4', '5', '6'],\n",
              " ['6', '8'],\n",
              " ['1', '2', '3', '5', '6', '7'],\n",
              " ['0', '2', '3', '8'],\n",
              " ['0', '2', '6', '8'],\n",
              " ['1', '2', '3', '4', '5', '6'],\n",
              " ['1', '2', '3', '5', '6', '8'],\n",
              " ['2', '4', '5', '6', '7'],\n",
              " ['0', '3', '5', '8'],\n",
              " ['1', '2', '4', '5', '6', '7'],\n",
              " ['1', '2', '3', '4', '5', '6'],\n",
              " ['8'],\n",
              " ['0', '3', '8'],\n",
              " ['1', '2', '3', '4', '5', '6', '7', '8'],\n",
              " ['6', '8'],\n",
              " ['0', '3', '5', '8'],\n",
              " ['8'],\n",
              " ['1', '2', '5', '6'],\n",
              " ['1', '2', '3', '5', '6'],\n",
              " ['0', '3', '5', '8'],\n",
              " ['1', '5', '6'],\n",
              " ['2', '3', '4', '5', '6', '7', '8'],\n",
              " ['1', '2', '5', '6', '8'],\n",
              " ['1', '2', '3', '4', '5', '6'],\n",
              " ['0', '3', '8'],\n",
              " ['2', '5', '6', '8'],\n",
              " ['1', '2', '3', '5', '6'],\n",
              " ['1', '2', '4', '5', '6', '7'],\n",
              " ['1', '3', '5', '6'],\n",
              " ['1', '2', '3', '5', '6', '7'],\n",
              " ['1', '2', '4', '5', '6', '7', '8'],\n",
              " ['0', '3', '8'],\n",
              " ['0', '5', '8'],\n",
              " ['1', '2', '4', '5', '6', '7'],\n",
              " ['1', '2', '4', '5', '6', '8'],\n",
              " ['0', '3', '8'],\n",
              " ['1', '2', '4', '5', '6', '7', '8'],\n",
              " ['1', '2', '3', '4', '5', '6', '7'],\n",
              " ['1', '2', '4', '5', '6', '7'],\n",
              " ['1', '2', '5', '6', '7', '8'],\n",
              " ['1', '2', '3', '5', '6', '7'],\n",
              " ['0', '8'],\n",
              " ['1', '2', '5', '6', '7'],\n",
              " ['0', '3', '5', '8'],\n",
              " ['1', '2', '3', '4', '5', '6', '7', '8'],\n",
              " ['0', '6', '8'],\n",
              " ['6', '8'],\n",
              " ['1', '2', '5', '6', '8'],\n",
              " ['1', '2', '4', '5', '6'],\n",
              " ['0', '3', '8'],\n",
              " ['0', '2', '3', '5', '6', '8'],\n",
              " ['1', '2', '3', '4', '5', '6', '7'],\n",
              " ['1', '2', '6', '7'],\n",
              " ['6', '8'],\n",
              " ['3', '8'],\n",
              " ['1', '2', '3', '5', '6'],\n",
              " ['3', '5'],\n",
              " ['1', '2', '3', '4', '5', '6', '7', '8'],\n",
              " ['3', '5', '8'],\n",
              " ['3', '8'],\n",
              " ['1', '2', '3', '4', '5', '6', '7'],\n",
              " ['1', '2', '3', '4', '5', '6', '7'],\n",
              " ['1', '2', '3', '5', '6', '8'],\n",
              " ['0', '1', '2', '3', '5', '6', '7'],\n",
              " ['1', '2', '3', '5', '6', '7'],\n",
              " ['0', '3', '8'],\n",
              " ['1', '2', '3', '5', '6', '7'],\n",
              " ['8'],\n",
              " ['0', '2', '3', '5', '6'],\n",
              " ['0', '8'],\n",
              " ['1', '2', '4', '5', '6', '7'],\n",
              " ['0', '3', '5', '8'],\n",
              " ['2', '3', '4', '5', '6', '7', '8'],\n",
              " ['0', '3', '8'],\n",
              " ['1', '2', '4', '5', '6'],\n",
              " ['1', '5', '8'],\n",
              " ['1', '2', '5', '6', '7'],\n",
              " ['3', '5', '8'],\n",
              " ['3', '6', '8'],\n",
              " ['5', '8'],\n",
              " ['1', '2', '4', '5', '6', '7'],\n",
              " ['1', '2', '4', '5', '6'],\n",
              " ['0', '2', '5', '6', '8'],\n",
              " ['0', '8'],\n",
              " ['1', '2', '5', '6'],\n",
              " ['1', '2', '3', '4', '5', '6', '7'],\n",
              " ['1', '2', '4', '5', '6', '7'],\n",
              " ['1', '2', '3', '4', '5', '6'],\n",
              " ['0', '6', '8'],\n",
              " ['1', '2', '3', '4', '5', '6'],\n",
              " ['0', '1', '2', '5', '6', '8'],\n",
              " ['3', '8'],\n",
              " ['1', '2', '3', '4', '5', '6', '7'],\n",
              " ['1', '2', '3', '4', '5', '6', '7'],\n",
              " ['6', '8'],\n",
              " ['0', '8'],\n",
              " ['0', '5', '8'],\n",
              " ['5', '8'],\n",
              " ['0'],\n",
              " ['1', '2', '4', '5', '6', '7'],\n",
              " ['1', '2', '4', '5', '6', '7'],\n",
              " ['0', '3', '8'],\n",
              " ['1', '2', '4', '5', '6', '7'],\n",
              " ['0', '6', '8'],\n",
              " ['5', '6', '8'],\n",
              " ['1', '2', '3', '5', '6', '8'],\n",
              " ['3', '5', '6', '8'],\n",
              " ['1', '2', '3', '4', '5', '6', '7', '8'],\n",
              " ['0', '3', '8'],\n",
              " ['1', '2', '3', '4', '5', '6'],\n",
              " ['0', '6', '8'],\n",
              " ['1', '2', '4', '5', '6', '7', '8'],\n",
              " ['0', '8'],\n",
              " ['0', '3', '8'],\n",
              " ['1', '2', '4', '5', '6', '7'],\n",
              " ['3', '8'],\n",
              " ['1', '2', '4', '5', '6', '7'],\n",
              " ['0', '2', '4', '5', '6', '7'],\n",
              " ['1', '2', '3', '5', '6'],\n",
              " ['0', '1', '6', '8'],\n",
              " ['8'],\n",
              " ['6', '8'],\n",
              " ['0', '8'],\n",
              " ['1', '2', '3', '4', '5', '6', '7'],\n",
              " ['0', '3', '8'],\n",
              " ['0', '3', '5', '8'],\n",
              " ['0', '8'],\n",
              " ['8'],\n",
              " ['1', '2', '4', '5', '6'],\n",
              " ['1', '2', '3', '5', '6'],\n",
              " ['1', '2', '4', '5', '6', '7'],\n",
              " ['0', '5'],\n",
              " ['1', '2', '3', '4', '5', '6', '7'],\n",
              " ['1', '2', '4', '5', '6', '7', '8'],\n",
              " ['0', '1', '5', '8'],\n",
              " ['1', '2', '4', '5', '6', '7'],\n",
              " ['0', '1', '3', '5', '6'],\n",
              " ['1', '2', '3', '4', '5', '6'],\n",
              " ['2', '3', '5', '6'],\n",
              " ['1', '2', '4', '5', '6', '7'],\n",
              " ['1', '2', '3', '5', '6', '7'],\n",
              " ['1', '2', '4', '5', '6'],\n",
              " ['1', '5', '6', '8'],\n",
              " ['2', '3', '5', '6', '8'],\n",
              " ['5', '8'],\n",
              " ['0', '3', '5', '6', '8'],\n",
              " ['5', '6', '8'],\n",
              " ['1', '2', '4', '5', '6', '7'],\n",
              " ['1', '2', '5', '6', '7', '8'],\n",
              " ['0', '1', '2', '5', '6', '8'],\n",
              " ['0', '3', '8'],\n",
              " ['1', '2', '3', '4', '5', '6'],\n",
              " ['1', '2', '4', '5', '6'],\n",
              " ['2', '3', '4', '5', '6', '7', '8'],\n",
              " ['6', '8'],\n",
              " ['1', '2', '3', '5', '6', '8'],\n",
              " ['1', '2', '4', '5', '6'],\n",
              " ['1', '2', '3', '4', '5', '6', '7'],\n",
              " ['0', '8'],\n",
              " ['1', '2', '4', '5', '6'],\n",
              " ['2', '3', '4', '5', '6', '7'],\n",
              " ['1', '2', '3', '4', '5', '6', '7'],\n",
              " ['1', '2', '5', '6', '8'],\n",
              " ['1', '2', '3', '4', '5', '6', '7'],\n",
              " ['1', '2', '5', '6', '7', '8'],\n",
              " ['2', '5', '6', '8'],\n",
              " ['0', '1', '2', '5', '6', '8'],\n",
              " ['2', '3', '5', '6', '7', '8'],\n",
              " ['0', '1', '3', '8'],\n",
              " ['0', '8'],\n",
              " ['2', '4', '5', '6', '7', '8'],\n",
              " ['8'],\n",
              " ['0', '3', '8'],\n",
              " ['1', '2', '4', '5', '6'],\n",
              " ['6', '8'],\n",
              " ['0', '3', '8'],\n",
              " ['3', '5', '6', '8'],\n",
              " ['1', '6', '8'],\n",
              " ['1', '2', '4', '5', '6', '7'],\n",
              " ['1', '2', '4', '5', '6', '7'],\n",
              " ['1', '2', '4', '5', '6', '7'],\n",
              " ['1', '2', '4', '5', '6'],\n",
              " ['3', '8'],\n",
              " ['1', '2', '3', '5', '6', '7'],\n",
              " ['1', '2', '4', '5', '6'],\n",
              " ['1', '2', '3', '4', '5', '6'],\n",
              " ['6', '8'],\n",
              " ['1', '2', '3', '5', '6'],\n",
              " ['0', '1', '2', '5', '6', '8'],\n",
              " ['1', '2', '3', '5', '6'],\n",
              " ['3', '5', '6', '8'],\n",
              " ['0', '2', '5', '6', '8'],\n",
              " ['0', '2', '3', '5', '6', '8'],\n",
              " ['1', '2', '5', '6', '8'],\n",
              " ['1', '2', '4', '5', '6', '8'],\n",
              " ['1', '2', '4', '5', '6', '7'],\n",
              " ['1', '2', '4', '5', '6'],\n",
              " ['6', '8'],\n",
              " ['0', '3', '5', '6'],\n",
              " ['1', '2', '4', '5', '6', '7', '8'],\n",
              " ['1', '2', '4', '6', '7'],\n",
              " ['3', '5', '6', '8'],\n",
              " ['1', '2', '4', '5', '6', '7'],\n",
              " ['0', '3', '5', '8'],\n",
              " ['1', '2', '3', '4', '5', '6'],\n",
              " ['1', '2', '4', '5', '6', '7'],\n",
              " ['1', '2', '3', '4', '5', '6', '7'],\n",
              " ['5', '8'],\n",
              " ['0', '2', '3', '6', '8'],\n",
              " ['1', '2', '3', '4', '5', '6', '7'],\n",
              " ['1', '2', '5', '6'],\n",
              " ['0', '8'],\n",
              " ['1', '5', '6', '7'],\n",
              " ['0', '2', '3', '6', '8'],\n",
              " ['3', '6', '8'],\n",
              " ['1', '2', '4', '5', '6', '7'],\n",
              " ['2', '3', '5', '6'],\n",
              " ['0', '6', '8'],\n",
              " ['1', '2', '4', '5', '6', '7'],\n",
              " ['3', '5', '6', '8'],\n",
              " ['1', '2', '4', '5', '6', '8'],\n",
              " ['8'],\n",
              " ['0', '2', '3', '6', '8'],\n",
              " ['2', '3', '5', '6', '8'],\n",
              " ['1', '2', '3', '4', '5', '6', '7'],\n",
              " ['0', '2', '3', '6', '8'],\n",
              " ['3', '5', '6', '8'],\n",
              " ['1', '2', '3', '4', '5', '6'],\n",
              " ['1', '2', '3', '5', '6', '7', '8'],\n",
              " ['1', '2', '4', '5', '6', '7', '8'],\n",
              " ['1', '2', '3', '5', '6', '7'],\n",
              " ['1', '2', '3', '4', '5', '6', '7'],\n",
              " ['1', '2', '5', '6', '7'],\n",
              " ['0', '3', '8'],\n",
              " ['1', '2', '3', '5', '6'],\n",
              " ['1', '2', '4', '5', '6', '7'],\n",
              " ['1', '2', '3', '4', '5', '6'],\n",
              " ['1', '2', '4', '5', '6', '7'],\n",
              " ['6', '8'],\n",
              " ['0', '3', '8'],\n",
              " ['1', '2', '3', '4', '5', '6', '7'],\n",
              " ['1', '2', '3', '4', '5', '6', '7'],\n",
              " ['1', '2', '4', '5', '6', '7', '8'],\n",
              " ['3', '5', '8'],\n",
              " ['1', '2', '5', '6', '8'],\n",
              " ['1', '5', '6'],\n",
              " ['0', '3', '8'],\n",
              " ['1', '5', '6'],\n",
              " ['1', '2', '4', '5', '6', '7', '8'],\n",
              " ['1', '2', '4', '5', '6', '7'],\n",
              " ['1', '2', '3', '5', '6', '7'],\n",
              " ['1', '2', '3', '4', '5', '6', '7', '8'],\n",
              " ['0', '8'],\n",
              " ['1', '2', '3', '4', '5', '6', '7'],\n",
              " ['1', '2', '5', '6', '7'],\n",
              " ['1', '2', '3', '4', '5', '6', '7'],\n",
              " ['1', '2', '3', '4', '5', '6', '7', '8'],\n",
              " ['1', '2', '3', '5', '6', '8'],\n",
              " ['3', '5', '6', '8'],\n",
              " ['1', '2', '3', '5', '6', '7', '8'],\n",
              " ['1', '2', '3', '4', '5', '6'],\n",
              " ['6', '8'],\n",
              " ['1', '2', '3', '4', '5', '6'],\n",
              " ['1', '2', '4', '5', '6', '7'],\n",
              " ['6', '8'],\n",
              " ['1', '2', '4', '5', '6'],\n",
              " ['2', '4', '5', '6', '7'],\n",
              " ['0', '1', '5', '6', '8'],\n",
              " ['2', '4', '5', '6'],\n",
              " ['1', '2', '4', '5', '6', '7'],\n",
              " ['3', '5', '6'],\n",
              " ['6', '8'],\n",
              " ['0', '8'],\n",
              " ...]"
            ]
          },
          "metadata": {
            "tags": []
          },
          "execution_count": 38
        }
      ]
    },
    {
      "cell_type": "code",
      "metadata": {
        "id": "yVEcDLpFD4ii",
        "colab": {
          "base_uri": "https://localhost:8080/",
          "height": 105
        },
        "outputId": "b9149268-df4a-4a1f-e9b4-7c5ddc252257"
      },
      "source": [
        "# Chaque ligne de notre array labels_binarized est un array qui correspond au label d'une image.\n",
        "# par exemple l'array [0, 0, 0, 1, 0, 0, 0, 0, 1] signifie que l'image correspondante contient les labels 3 et 8\n",
        "labels_binarized = binarize_data(mapping)\n",
        "labels_binarized[:5]"
      ],
      "execution_count": null,
      "outputs": [
        {
          "output_type": "execute_result",
          "data": {
            "text/plain": [
              "array([[0, 0, 0, 1, 0, 0, 0, 0, 1],\n",
              "       [0, 1, 1, 1, 1, 1, 1, 0, 0],\n",
              "       [1, 1, 1, 1, 0, 0, 0, 0, 1],\n",
              "       [0, 1, 0, 1, 0, 0, 1, 0, 1],\n",
              "       [1, 0, 1, 1, 0, 0, 1, 0, 1]])"
            ]
          },
          "metadata": {
            "tags": []
          },
          "execution_count": 52
        }
      ]
    },
    {
      "cell_type": "markdown",
      "metadata": {
        "id": "WkDRvUmf8jSq"
      },
      "source": [
        "* Si vous faites une boucles sur les 10 premiers éléments, vous pourrez donc trouver les labels correspondant à chacun des chemins de vos images. "
      ]
    },
    {
      "cell_type": "code",
      "metadata": {
        "id": "Y50iOKYqclh4",
        "colab": {
          "base_uri": "https://localhost:8080/",
          "height": 181
        },
        "outputId": "11a3f618-504e-4c40-d5ac-0c2e6c6644d0"
      },
      "source": [
        "for i in range(10):\n",
        "  print(mapping.path[i], labels_binarized[i])"
      ],
      "execution_count": null,
      "outputs": [
        {
          "output_type": "error",
          "ename": "NameError",
          "evalue": "ignored",
          "traceback": [
            "\u001b[0;31m---------------------------------------------------------------------------\u001b[0m",
            "\u001b[0;31mNameError\u001b[0m                                 Traceback (most recent call last)",
            "\u001b[0;32m<ipython-input-60-abf5f9afa720>\u001b[0m in \u001b[0;36m<module>\u001b[0;34m()\u001b[0m\n\u001b[1;32m      1\u001b[0m \u001b[0;32mfor\u001b[0m \u001b[0mi\u001b[0m \u001b[0;32min\u001b[0m \u001b[0mrange\u001b[0m\u001b[0;34m(\u001b[0m\u001b[0;36m10\u001b[0m\u001b[0;34m)\u001b[0m\u001b[0;34m:\u001b[0m\u001b[0;34m\u001b[0m\u001b[0;34m\u001b[0m\u001b[0m\n\u001b[0;32m----> 2\u001b[0;31m   \u001b[0mprint\u001b[0m\u001b[0;34m(\u001b[0m\u001b[0mmapping\u001b[0m\u001b[0;34m.\u001b[0m\u001b[0mpath\u001b[0m\u001b[0;34m[\u001b[0m\u001b[0mi\u001b[0m\u001b[0;34m]\u001b[0m\u001b[0;34m,\u001b[0m \u001b[0mlabels_binarized\u001b[0m\u001b[0;34m[\u001b[0m\u001b[0mi\u001b[0m\u001b[0;34m]\u001b[0m\u001b[0;34m)\u001b[0m\u001b[0;34m\u001b[0m\u001b[0;34m\u001b[0m\u001b[0m\n\u001b[0m",
            "\u001b[0;31mNameError\u001b[0m: name 'labels_binarized' is not defined"
          ]
        }
      ]
    },
    {
      "cell_type": "markdown",
      "metadata": {
        "id": "wz4mbZoYjbWt"
      },
      "source": [
        "# TensorFlow Dataset \n",
        "\n",
        "Nous allons passer à la création du dataset TensorFlow \n",
        "\n",
        "* Créez une fonction `parse_function` qui va \n",
        "  * Lire les chemins de chaque image \n",
        "  * Décoder les images \n",
        "  * Retailler les images en (224, 224, 3)\n",
        "  * Divisez les tenseurs par 255"
      ]
    },
    {
      "cell_type": "code",
      "metadata": {
        "id": "6bw8R43phXzd"
      },
      "source": [
        "@tf.function\n",
        "def parse_function(img, labels):\n",
        "\n",
        "  img = tf.io.read_file(img)\n",
        "  img = tf.image.decode_jpeg(img, channels=3)\n",
        "  img = tf.image.resize(img, [224, 224])\n",
        "  img = img / 255.0\n",
        "  \n",
        "  return img, labels "
      ],
      "execution_count": null,
      "outputs": []
    },
    {
      "cell_type": "markdown",
      "metadata": {
        "id": "D80Raid889zD"
      },
      "source": [
        "* Créez un `tf.data.Dataset` contenant vos chemins d'images et vos labels correspondants"
      ]
    },
    {
      "cell_type": "code",
      "metadata": {
        "id": "HcHqxfuOkCsC"
      },
      "source": [
        "full_ds = tf.data.Dataset.from_tensor_slices((mapping.path.values, labels_binarized))"
      ],
      "execution_count": null,
      "outputs": []
    },
    {
      "cell_type": "code",
      "metadata": {
        "id": "vnh3xDWLkL7G",
        "colab": {
          "base_uri": "https://localhost:8080/",
          "height": 34
        },
        "outputId": "603306e5-adba-450c-ff7e-5a5376c874c5"
      },
      "source": [
        "for x, y in full_ds.take(1):\n",
        "  print(x, y)"
      ],
      "execution_count": null,
      "outputs": [
        {
          "output_type": "stream",
          "text": [
            "tf.Tensor(b'/content/train_photos/220674.jpg', shape=(), dtype=string) tf.Tensor([0 0 0 1 0 0 0 0 1], shape=(9,), dtype=int64)\n"
          ],
          "name": "stdout"
        }
      ]
    },
    {
      "cell_type": "markdown",
      "metadata": {
        "id": "65lqBhPJ9EHk"
      },
      "source": [
        "* Appliquez ensuite votre fonction `parse_function`"
      ]
    },
    {
      "cell_type": "code",
      "metadata": {
        "id": "OpICJ3whkOpn"
      },
      "source": [
        "full_ds = full_ds.map(parse_function)"
      ],
      "execution_count": null,
      "outputs": []
    },
    {
      "cell_type": "markdown",
      "metadata": {
        "id": "7kxjeUM59IHD"
      },
      "source": [
        "* Visualisez la première image de votre dataset "
      ]
    },
    {
      "cell_type": "code",
      "metadata": {
        "id": "MTXIgiN8mikZ",
        "colab": {
          "base_uri": "https://localhost:8080/",
          "height": 286
        },
        "outputId": "ff5e20ab-ae6b-4711-d6a9-b311122ed6c4"
      },
      "source": [
        "for x, y in full_ds.take(1):\n",
        "  plt.imshow(x)\n",
        "  print(y)"
      ],
      "execution_count": null,
      "outputs": [
        {
          "output_type": "stream",
          "text": [
            "tf.Tensor([0 0 0 1 0 0 0 0 1], shape=(9,), dtype=int64)\n"
          ],
          "name": "stdout"
        },
        {
          "output_type": "display_data",
          "data": {
            "image/png": "[encoded data removed]",
            "text/plain": [
              "<Figure size 432x288 with 1 Axes>"
            ]
          },
          "metadata": {
            "tags": [],
            "needs_background": "light"
          }
        }
      ]
    },
    {
      "cell_type": "markdown",
      "metadata": {
        "id": "lje8P-D49Ldu"
      },
      "source": [
        "* Créez des batchs de 64 dans votre dataset d'entrainement"
      ]
    },
    {
      "cell_type": "code",
      "metadata": {
        "id": "YGpYXK-LIgEB"
      },
      "source": [
        "BATCH_SIZE = 64\n",
        "full_ds = full_ds.batch(BATCH_SIZE)"
      ],
      "execution_count": null,
      "outputs": []
    },
    {
      "cell_type": "markdown",
      "metadata": {
        "id": "itQXSvL99Psm"
      },
      "source": [
        "* Faites un train / test split "
      ]
    },
    {
      "cell_type": "code",
      "metadata": {
        "id": "FFbp0O8Cmu9H"
      },
      "source": [
        "# Train / Test split \n",
        "split = int(0.75*len(mapping)/BATCH_SIZE)\n",
        "\n",
        "train_set = full_ds.take(split)\n",
        "test_set = full_ds.skip(split)"
      ],
      "execution_count": null,
      "outputs": []
    },
    {
      "cell_type": "markdown",
      "metadata": {
        "id": "aeuDhPXY9SeK"
      },
      "source": [
        "* Regardez une image sur votre `Train` pour être sur que tout est okay "
      ]
    },
    {
      "cell_type": "code",
      "metadata": {
        "id": "-9WeUwE9Nogd",
        "colab": {
          "base_uri": "https://localhost:8080/",
          "height": 286
        },
        "outputId": "eef57c87-bdf1-4c26-86c1-85f43431783e"
      },
      "source": [
        "for x, y in train_set.take(1):\n",
        "  plt.imshow(x[0])\n",
        "  print(tf.shape(y))"
      ],
      "execution_count": null,
      "outputs": [
        {
          "output_type": "stream",
          "text": [
            "tf.Tensor([64  9], shape=(2,), dtype=int32)\n"
          ],
          "name": "stdout"
        },
        {
          "output_type": "display_data",
          "data": {
            "image/png": "[encoded data removed]",
            "text/plain": [
              "<Figure size 432x288 with 1 Axes>"
            ]
          },
          "metadata": {
            "tags": [],
            "needs_background": "light"
          }
        }
      ]
    },
    {
      "cell_type": "markdown",
      "metadata": {
        "id": "qyxIarmfGviv"
      },
      "source": [
        "# Model Architecture"
      ]
    },
    {
      "cell_type": "markdown",
      "metadata": {
        "id": "nv-COL8k9YWi"
      },
      "source": [
        "* Créez une instance de `tf.distribute.MirrorStrategy`. C'est un moyen d'accélerer notre computing."
      ]
    },
    {
      "cell_type": "code",
      "metadata": {
        "id": "wma3juLn1Y7s",
        "colab": {
          "base_uri": "https://localhost:8080/",
          "height": 52
        },
        "outputId": "52ff0a23-0942-493c-9c09-17cc48add261"
      },
      "source": [
        "#import tensorflow as tf\n",
        "# Distributed Strategy\n",
        "strategy = tf.distribute.MirroredStrategy()\n",
        "print(\"Number of replicas in sync: {}\".format(strategy.num_replicas_in_sync))"
      ],
      "execution_count": null,
      "outputs": [
        {
          "output_type": "stream",
          "text": [
            "INFO:tensorflow:Using MirroredStrategy with devices ('/job:localhost/replica:0/task:0/device:GPU:0',)\n",
            "Number of replicas in sync: 1\n"
          ],
          "name": "stdout"
        }
      ]
    },
    {
      "cell_type": "markdown",
      "metadata": {
        "id": "ibtLnw549gpZ"
      },
      "source": [
        "* Créez un modèle pré-entrainé MobileNetV2 que vous adapterez à votre dataset. Vous devrez envelopper d'un contexte `strategy.scope()`. I.e \n",
        "```\n",
        "with strategy.scope():\n",
        "\n",
        "  YOUR MODEL ARCHITECTURE\n",
        "\n",
        "  YOUR LEARNING RATE SCHEDULER\n",
        "\n",
        "  YOUR COMPILER\n",
        "\n",
        "```"
      ]
    },
    {
      "cell_type": "code",
      "metadata": {
        "id": "haXSqjzzHBEI",
        "colab": {
          "base_uri": "https://localhost:8080/",
          "height": 245
        },
        "outputId": "b873c5a3-493d-4d75-fcbc-7cfa4f832efc"
      },
      "source": [
        "with strategy.scope():\n",
        "  base_model = tf.keras.applications.MobileNetV2(input_shape=(224,224,3),\n",
        "                                               include_top=False,\n",
        "                                               weights = \"imagenet\"\n",
        "                                               )\n",
        "  \n",
        "  base_model.trainable = False\n",
        "\n",
        "  model = tf.keras.Sequential([\n",
        "      base_model,\n",
        "      tf.keras.layers.GlobalAveragePooling2D(),\n",
        "      tf.keras.layers.Dense(1024, activation='relu'),\n",
        "      tf.keras.layers.Dense(524, activation='relu'),\n",
        "      tf.keras.layers.Dense(256, activation='relu'),\n",
        "      tf.keras.layers.Dense(124, activation='relu'),\n",
        "      tf.keras.layers.Dense(64, activation='relu'),\n",
        "      tf.keras.layers.Dense(32, activation='relu'),\n",
        "      tf.keras.layers.Dense(9, activation=\"sigmoid\")\n",
        "  ])\n",
        "\n",
        "  # Créons un learning rate schedule pour décroitre le learning rate à mesure que nous entrainons le modèle \n",
        "  initial_learning_rate = 0.0001\n",
        "\n",
        "  lr_schedule = tf.keras.optimizers.schedules.ExponentialDecay(\n",
        "      initial_learning_rate,\n",
        "      decay_steps=2000,\n",
        "      decay_rate=0.90,\n",
        "      staircase=True)\n",
        "  \n",
        "  model.compile(optimizer=tf.keras.optimizers.Adam(learning_rate = lr_schedule),\n",
        "              loss = tf.keras.losses.CategoricalCrossentropy(from_logits=False),\n",
        "              metrics = [tf.keras.metrics.CategoricalAccuracy()])"
      ],
      "execution_count": null,
      "outputs": [
        {
          "output_type": "stream",
          "text": [
            "INFO:tensorflow:Reduce to /job:localhost/replica:0/task:0/device:CPU:0 then broadcast to ('/job:localhost/replica:0/task:0/device:CPU:0',).\n",
            "INFO:tensorflow:Reduce to /job:localhost/replica:0/task:0/device:CPU:0 then broadcast to ('/job:localhost/replica:0/task:0/device:CPU:0',).\n",
            "INFO:tensorflow:Reduce to /job:localhost/replica:0/task:0/device:CPU:0 then broadcast to ('/job:localhost/replica:0/task:0/device:CPU:0',).\n",
            "INFO:tensorflow:Reduce to /job:localhost/replica:0/task:0/device:CPU:0 then broadcast to ('/job:localhost/replica:0/task:0/device:CPU:0',).\n",
            "INFO:tensorflow:Reduce to /job:localhost/replica:0/task:0/device:CPU:0 then broadcast to ('/job:localhost/replica:0/task:0/device:CPU:0',).\n",
            "INFO:tensorflow:Reduce to /job:localhost/replica:0/task:0/device:CPU:0 then broadcast to ('/job:localhost/replica:0/task:0/device:CPU:0',).\n",
            "INFO:tensorflow:Reduce to /job:localhost/replica:0/task:0/device:CPU:0 then broadcast to ('/job:localhost/replica:0/task:0/device:CPU:0',).\n",
            "INFO:tensorflow:Reduce to /job:localhost/replica:0/task:0/device:CPU:0 then broadcast to ('/job:localhost/replica:0/task:0/device:CPU:0',).\n",
            "INFO:tensorflow:Reduce to /job:localhost/replica:0/task:0/device:CPU:0 then broadcast to ('/job:localhost/replica:0/task:0/device:CPU:0',).\n",
            "INFO:tensorflow:Reduce to /job:localhost/replica:0/task:0/device:CPU:0 then broadcast to ('/job:localhost/replica:0/task:0/device:CPU:0',).\n",
            "Downloading data from https://storage.googleapis.com/tensorflow/keras-applications/mobilenet_v2/mobilenet_v2_weights_tf_dim_ordering_tf_kernels_1.0_224_no_top.h5\n",
            "9412608/9406464 [==============================] - 0s 0us/step\n"
          ],
          "name": "stdout"
        }
      ]
    },
    {
      "cell_type": "code",
      "metadata": {
        "id": "Jn8k1iU0x2GF",
        "colab": {
          "base_uri": "https://localhost:8080/",
          "height": 1000
        },
        "outputId": "96d44b5c-096b-4eb8-ef90-9f33c45fd347"
      },
      "source": [
        "model.trainable_weights"
      ],
      "execution_count": null,
      "outputs": [
        {
          "output_type": "execute_result",
          "data": {
            "text/plain": [
              "[MirroredVariable:{\n",
              "   0: <tf.Variable 'dense/kernel:0' shape=(1280, 1024) dtype=float32, numpy=\n",
              " array([[ 0.02258448,  0.01448158, -0.00802983, ...,  0.03101818,\n",
              "          0.04230285, -0.04606204],\n",
              "        [ 0.03330795, -0.01508409, -0.0051165 , ..., -0.00989623,\n",
              "          0.02415139,  0.01334747],\n",
              "        [ 0.00235423, -0.03139581, -0.01620579, ...,  0.00112811,\n",
              "         -0.01867373,  0.04043901],\n",
              "        ...,\n",
              "        [ 0.04796403, -0.00994291,  0.0373853 , ...,  0.03295147,\n",
              "         -0.0230675 , -0.0184386 ],\n",
              "        [-0.03715787,  0.04655666, -0.00401958, ..., -0.00815739,\n",
              "         -0.02561367,  0.05020844],\n",
              "        [-0.02894389,  0.04147518,  0.02319495, ...,  0.01500867,\n",
              "         -0.02460559, -0.03435538]], dtype=float32)>\n",
              " }, MirroredVariable:{\n",
              "   0: <tf.Variable 'dense/bias:0' shape=(1024,) dtype=float32, numpy=array([0., 0., 0., ..., 0., 0., 0.], dtype=float32)>\n",
              " }, MirroredVariable:{\n",
              "   0: <tf.Variable 'dense_1/kernel:0' shape=(1024, 524) dtype=float32, numpy=\n",
              " array([[ 0.02268881,  0.0267401 , -0.00531571, ...,  0.04498014,\n",
              "          0.05970749, -0.01428518],\n",
              "        [ 0.0173514 ,  0.05072115, -0.04292891, ..., -0.02446017,\n",
              "         -0.04991382, -0.01660829],\n",
              "        [ 0.05433018, -0.05065937,  0.03889383, ..., -0.06024181,\n",
              "         -0.04645526, -0.02168868],\n",
              "        ...,\n",
              "        [ 0.05749422,  0.04541028,  0.04788031, ..., -0.05235734,\n",
              "          0.013563  , -0.01671796],\n",
              "        [ 0.03227784, -0.00181248, -0.06140436, ..., -0.03347741,\n",
              "          0.00093351, -0.0564297 ],\n",
              "        [ 0.04685312,  0.00434422, -0.0405035 , ..., -0.05860462,\n",
              "         -0.03106946, -0.05980961]], dtype=float32)>\n",
              " }, MirroredVariable:{\n",
              "   0: <tf.Variable 'dense_1/bias:0' shape=(524,) dtype=float32, numpy=\n",
              " array([0., 0., 0., 0., 0., 0., 0., 0., 0., 0., 0., 0., 0., 0., 0., 0., 0.,\n",
              "        0., 0., 0., 0., 0., 0., 0., 0., 0., 0., 0., 0., 0., 0., 0., 0., 0.,\n",
              "        0., 0., 0., 0., 0., 0., 0., 0., 0., 0., 0., 0., 0., 0., 0., 0., 0.,\n",
              "        0., 0., 0., 0., 0., 0., 0., 0., 0., 0., 0., 0., 0., 0., 0., 0., 0.,\n",
              "        0., 0., 0., 0., 0., 0., 0., 0., 0., 0., 0., 0., 0., 0., 0., 0., 0.,\n",
              "        0., 0., 0., 0., 0., 0., 0., 0., 0., 0., 0., 0., 0., 0., 0., 0., 0.,\n",
              "        0., 0., 0., 0., 0., 0., 0., 0., 0., 0., 0., 0., 0., 0., 0., 0., 0.,\n",
              "        0., 0., 0., 0., 0., 0., 0., 0., 0., 0., 0., 0., 0., 0., 0., 0., 0.,\n",
              "        0., 0., 0., 0., 0., 0., 0., 0., 0., 0., 0., 0., 0., 0., 0., 0., 0.,\n",
              "        0., 0., 0., 0., 0., 0., 0., 0., 0., 0., 0., 0., 0., 0., 0., 0., 0.,\n",
              "        0., 0., 0., 0., 0., 0., 0., 0., 0., 0., 0., 0., 0., 0., 0., 0., 0.,\n",
              "        0., 0., 0., 0., 0., 0., 0., 0., 0., 0., 0., 0., 0., 0., 0., 0., 0.,\n",
              "        0., 0., 0., 0., 0., 0., 0., 0., 0., 0., 0., 0., 0., 0., 0., 0., 0.,\n",
              "        0., 0., 0., 0., 0., 0., 0., 0., 0., 0., 0., 0., 0., 0., 0., 0., 0.,\n",
              "        0., 0., 0., 0., 0., 0., 0., 0., 0., 0., 0., 0., 0., 0., 0., 0., 0.,\n",
              "        0., 0., 0., 0., 0., 0., 0., 0., 0., 0., 0., 0., 0., 0., 0., 0., 0.,\n",
              "        0., 0., 0., 0., 0., 0., 0., 0., 0., 0., 0., 0., 0., 0., 0., 0., 0.,\n",
              "        0., 0., 0., 0., 0., 0., 0., 0., 0., 0., 0., 0., 0., 0., 0., 0., 0.,\n",
              "        0., 0., 0., 0., 0., 0., 0., 0., 0., 0., 0., 0., 0., 0., 0., 0., 0.,\n",
              "        0., 0., 0., 0., 0., 0., 0., 0., 0., 0., 0., 0., 0., 0., 0., 0., 0.,\n",
              "        0., 0., 0., 0., 0., 0., 0., 0., 0., 0., 0., 0., 0., 0., 0., 0., 0.,\n",
              "        0., 0., 0., 0., 0., 0., 0., 0., 0., 0., 0., 0., 0., 0., 0., 0., 0.,\n",
              "        0., 0., 0., 0., 0., 0., 0., 0., 0., 0., 0., 0., 0., 0., 0., 0., 0.,\n",
              "        0., 0., 0., 0., 0., 0., 0., 0., 0., 0., 0., 0., 0., 0., 0., 0., 0.,\n",
              "        0., 0., 0., 0., 0., 0., 0., 0., 0., 0., 0., 0., 0., 0., 0., 0., 0.,\n",
              "        0., 0., 0., 0., 0., 0., 0., 0., 0., 0., 0., 0., 0., 0., 0., 0., 0.,\n",
              "        0., 0., 0., 0., 0., 0., 0., 0., 0., 0., 0., 0., 0., 0., 0., 0., 0.,\n",
              "        0., 0., 0., 0., 0., 0., 0., 0., 0., 0., 0., 0., 0., 0., 0., 0., 0.,\n",
              "        0., 0., 0., 0., 0., 0., 0., 0., 0., 0., 0., 0., 0., 0., 0., 0., 0.,\n",
              "        0., 0., 0., 0., 0., 0., 0., 0., 0., 0., 0., 0., 0., 0., 0., 0., 0.,\n",
              "        0., 0., 0., 0., 0., 0., 0., 0., 0., 0., 0., 0., 0., 0.],\n",
              "       dtype=float32)>\n",
              " }, MirroredVariable:{\n",
              "   0: <tf.Variable 'dense_2/kernel:0' shape=(524, 256) dtype=float32, numpy=\n",
              " array([[-0.02842804,  0.02236486,  0.07669579, ...,  0.04464986,\n",
              "          0.08648921, -0.04822167],\n",
              "        [-0.05863343, -0.03483659,  0.03764299, ..., -0.00587095,\n",
              "          0.0360552 , -0.06012968],\n",
              "        [ 0.05898348,  0.05761749, -0.04309756, ...,  0.08652807,\n",
              "          0.03184876,  0.02870045],\n",
              "        ...,\n",
              "        [ 0.06188285,  0.06178062, -0.02832468, ..., -0.01161014,\n",
              "         -0.05231608,  0.07031346],\n",
              "        [ 0.08283377,  0.06724068,  0.05130474, ...,  0.06249585,\n",
              "          0.05648794,  0.02064195],\n",
              "        [ 0.06856344, -0.06764162,  0.06507891, ...,  0.07369741,\n",
              "          0.06959235, -0.03199179]], dtype=float32)>\n",
              " }, MirroredVariable:{\n",
              "   0: <tf.Variable 'dense_2/bias:0' shape=(256,) dtype=float32, numpy=\n",
              " array([0., 0., 0., 0., 0., 0., 0., 0., 0., 0., 0., 0., 0., 0., 0., 0., 0.,\n",
              "        0., 0., 0., 0., 0., 0., 0., 0., 0., 0., 0., 0., 0., 0., 0., 0., 0.,\n",
              "        0., 0., 0., 0., 0., 0., 0., 0., 0., 0., 0., 0., 0., 0., 0., 0., 0.,\n",
              "        0., 0., 0., 0., 0., 0., 0., 0., 0., 0., 0., 0., 0., 0., 0., 0., 0.,\n",
              "        0., 0., 0., 0., 0., 0., 0., 0., 0., 0., 0., 0., 0., 0., 0., 0., 0.,\n",
              "        0., 0., 0., 0., 0., 0., 0., 0., 0., 0., 0., 0., 0., 0., 0., 0., 0.,\n",
              "        0., 0., 0., 0., 0., 0., 0., 0., 0., 0., 0., 0., 0., 0., 0., 0., 0.,\n",
              "        0., 0., 0., 0., 0., 0., 0., 0., 0., 0., 0., 0., 0., 0., 0., 0., 0.,\n",
              "        0., 0., 0., 0., 0., 0., 0., 0., 0., 0., 0., 0., 0., 0., 0., 0., 0.,\n",
              "        0., 0., 0., 0., 0., 0., 0., 0., 0., 0., 0., 0., 0., 0., 0., 0., 0.,\n",
              "        0., 0., 0., 0., 0., 0., 0., 0., 0., 0., 0., 0., 0., 0., 0., 0., 0.,\n",
              "        0., 0., 0., 0., 0., 0., 0., 0., 0., 0., 0., 0., 0., 0., 0., 0., 0.,\n",
              "        0., 0., 0., 0., 0., 0., 0., 0., 0., 0., 0., 0., 0., 0., 0., 0., 0.,\n",
              "        0., 0., 0., 0., 0., 0., 0., 0., 0., 0., 0., 0., 0., 0., 0., 0., 0.,\n",
              "        0., 0., 0., 0., 0., 0., 0., 0., 0., 0., 0., 0., 0., 0., 0., 0., 0.,\n",
              "        0.], dtype=float32)>\n",
              " }, MirroredVariable:{\n",
              "   0: <tf.Variable 'dense_3/kernel:0' shape=(256, 124) dtype=float32, numpy=\n",
              " array([[ 0.01807849,  0.01419806,  0.07377109, ...,  0.07909797,\n",
              "          0.03526272, -0.10045852],\n",
              "        [-0.06050682, -0.11739627,  0.00312734, ...,  0.08169521,\n",
              "         -0.07120506,  0.08903009],\n",
              "        [ 0.00142886, -0.04576109, -0.00947841, ..., -0.02831712,\n",
              "         -0.01745494, -0.00084556],\n",
              "        ...,\n",
              "        [ 0.02162483,  0.00449657,  0.0359071 , ...,  0.08125983,\n",
              "         -0.01070733,  0.00342627],\n",
              "        [ 0.09361935, -0.12429841, -0.09917933, ...,  0.03512728,\n",
              "         -0.05748092, -0.05256251],\n",
              "        [-0.03412079, -0.12325165,  0.05564804, ...,  0.08936083,\n",
              "         -0.01786809,  0.01286177]], dtype=float32)>\n",
              " }, MirroredVariable:{\n",
              "   0: <tf.Variable 'dense_3/bias:0' shape=(124,) dtype=float32, numpy=\n",
              " array([0., 0., 0., 0., 0., 0., 0., 0., 0., 0., 0., 0., 0., 0., 0., 0., 0.,\n",
              "        0., 0., 0., 0., 0., 0., 0., 0., 0., 0., 0., 0., 0., 0., 0., 0., 0.,\n",
              "        0., 0., 0., 0., 0., 0., 0., 0., 0., 0., 0., 0., 0., 0., 0., 0., 0.,\n",
              "        0., 0., 0., 0., 0., 0., 0., 0., 0., 0., 0., 0., 0., 0., 0., 0., 0.,\n",
              "        0., 0., 0., 0., 0., 0., 0., 0., 0., 0., 0., 0., 0., 0., 0., 0., 0.,\n",
              "        0., 0., 0., 0., 0., 0., 0., 0., 0., 0., 0., 0., 0., 0., 0., 0., 0.,\n",
              "        0., 0., 0., 0., 0., 0., 0., 0., 0., 0., 0., 0., 0., 0., 0., 0., 0.,\n",
              "        0., 0., 0., 0., 0.], dtype=float32)>\n",
              " }, MirroredVariable:{\n",
              "   0: <tf.Variable 'dense_4/kernel:0' shape=(124, 64) dtype=float32, numpy=\n",
              " array([[ 0.00149041,  0.14831135, -0.08793006, ..., -0.08363121,\n",
              "         -0.01839292, -0.17692843],\n",
              "        [ 0.01982957, -0.00174576,  0.07518819, ...,  0.13647246,\n",
              "         -0.12301371, -0.14438528],\n",
              "        [-0.01322803, -0.10667718, -0.06803638, ...,  0.04341823,\n",
              "         -0.05684865,  0.13811165],\n",
              "        ...,\n",
              "        [ 0.03674805,  0.00138439,  0.05777964, ..., -0.10814714,\n",
              "         -0.12522936,  0.06930834],\n",
              "        [-0.02489595,  0.02905311, -0.05065615, ...,  0.03506692,\n",
              "          0.17041877, -0.09837911],\n",
              "        [-0.16987975, -0.12812869,  0.13284469, ..., -0.0075265 ,\n",
              "         -0.06405067, -0.11932752]], dtype=float32)>\n",
              " }, MirroredVariable:{\n",
              "   0: <tf.Variable 'dense_4/bias:0' shape=(64,) dtype=float32, numpy=\n",
              " array([0., 0., 0., 0., 0., 0., 0., 0., 0., 0., 0., 0., 0., 0., 0., 0., 0.,\n",
              "        0., 0., 0., 0., 0., 0., 0., 0., 0., 0., 0., 0., 0., 0., 0., 0., 0.,\n",
              "        0., 0., 0., 0., 0., 0., 0., 0., 0., 0., 0., 0., 0., 0., 0., 0., 0.,\n",
              "        0., 0., 0., 0., 0., 0., 0., 0., 0., 0., 0., 0., 0.], dtype=float32)>\n",
              " }, MirroredVariable:{\n",
              "   0: <tf.Variable 'dense_5/kernel:0' shape=(64, 32) dtype=float32, numpy=\n",
              " array([[-0.09360635,  0.18797445,  0.06973612, ..., -0.10252875,\n",
              "         -0.17002076, -0.24805701],\n",
              "        [ 0.13887018,  0.06355453, -0.0427835 , ...,  0.15449148,\n",
              "         -0.1036976 , -0.22137564],\n",
              "        [-0.17833096,  0.07964224,  0.13758373, ...,  0.24343407,\n",
              "         -0.00513923, -0.01316977],\n",
              "        ...,\n",
              "        [ 0.01342434, -0.07892144, -0.12371022, ..., -0.1409586 ,\n",
              "         -0.16722482,  0.21251297],\n",
              "        [ 0.02619749, -0.02494782,  0.1267519 , ...,  0.19023526,\n",
              "          0.16817987, -0.0100894 ],\n",
              "        [-0.14727801, -0.0788179 , -0.13420874, ..., -0.20582706,\n",
              "          0.03017837,  0.07223684]], dtype=float32)>\n",
              " }, MirroredVariable:{\n",
              "   0: <tf.Variable 'dense_5/bias:0' shape=(32,) dtype=float32, numpy=\n",
              " array([0., 0., 0., 0., 0., 0., 0., 0., 0., 0., 0., 0., 0., 0., 0., 0., 0.,\n",
              "        0., 0., 0., 0., 0., 0., 0., 0., 0., 0., 0., 0., 0., 0., 0.],\n",
              "       dtype=float32)>\n",
              " }, MirroredVariable:{\n",
              "   0: <tf.Variable 'dense_6/kernel:0' shape=(32, 9) dtype=float32, numpy=\n",
              " array([[-3.24035287e-02, -3.53800893e-01,  5.09049296e-02,\n",
              "         -1.95218682e-01,  1.59211189e-01, -1.69450864e-01,\n",
              "         -3.53070498e-02,  1.15447849e-01, -2.92736292e-03],\n",
              "        [-1.56918973e-01,  3.80673021e-01,  3.70202661e-02,\n",
              "          3.61312926e-02,  2.16801077e-01,  8.88137519e-02,\n",
              "          7.63776898e-03,  3.75367492e-01, -7.72849321e-02],\n",
              "        [-3.21407676e-01, -1.88700467e-01, -1.75815225e-01,\n",
              "         -3.14096779e-01, -1.64878801e-01, -3.58093947e-01,\n",
              "          1.60881668e-01, -2.73489922e-01, -2.12404430e-02],\n",
              "        [ 7.97237754e-02,  1.86292082e-01,  2.94200569e-01,\n",
              "          2.91907787e-02,  2.44524151e-01, -1.38480067e-02,\n",
              "         -3.69600654e-02, -8.52444768e-02, -1.30399346e-01],\n",
              "        [-2.85033047e-01, -1.92616940e-01,  7.14398921e-02,\n",
              "          3.19861472e-02,  1.60175294e-01, -2.27924004e-01,\n",
              "         -3.15279990e-01,  2.52430707e-01, -2.34056339e-01],\n",
              "        [ 3.25807899e-01, -2.01765269e-01, -3.59950721e-01,\n",
              "          5.76630533e-02, -2.20472515e-02,  2.62495786e-01,\n",
              "         -8.86238515e-02, -1.96334779e-01,  4.48722839e-02],\n",
              "        [ 2.02039450e-01, -2.61163890e-01, -2.21356750e-03,\n",
              "          3.25395674e-01,  1.85499281e-01,  1.37970477e-01,\n",
              "         -1.56864524e-02,  1.54312551e-02,  2.57176608e-01],\n",
              "        [ 2.43733317e-01,  2.17465460e-02,  1.93876058e-01,\n",
              "         -2.05269456e-02,  3.44713360e-01, -2.91344225e-02,\n",
              "          3.50772053e-01, -1.90449879e-01,  2.08098739e-01],\n",
              "        [ 1.24140680e-02, -1.01374745e-01,  4.33114767e-02,\n",
              "         -3.47557366e-01,  1.61103398e-01, -2.74088860e-01,\n",
              "         -1.18082970e-01,  3.65041882e-01,  2.55203277e-01],\n",
              "        [-1.73393160e-01,  3.04725200e-01, -2.75533199e-01,\n",
              "          2.47299463e-01, -1.53899044e-01, -1.20347351e-01,\n",
              "          2.74642140e-01,  2.65885890e-02, -1.90582275e-02],\n",
              "        [-1.22400105e-01,  2.48384923e-01, -3.51275802e-02,\n",
              "         -1.59503028e-01,  1.73660308e-01,  1.26124412e-01,\n",
              "          3.05578381e-01,  1.24179721e-02, -3.04681391e-01],\n",
              "        [ 2.17805058e-01, -2.89649636e-01, -2.51071632e-01,\n",
              "         -2.25494727e-01,  3.18159074e-01, -3.07429165e-01,\n",
              "         -2.37641647e-01, -1.24385118e-01,  2.30313987e-01],\n",
              "        [ 3.51647407e-01, -7.38650560e-03,  3.23931366e-01,\n",
              "         -3.36512029e-02,  1.98550552e-01,  3.60411137e-01,\n",
              "          2.20949262e-01, -1.51897341e-01, -1.51077136e-01],\n",
              "        [ 5.47189116e-02, -6.55107796e-02,  3.26705545e-01,\n",
              "         -1.51062533e-01,  1.11913145e-01,  1.12651557e-01,\n",
              "          3.49255294e-01, -1.48515701e-01, -8.60728323e-02],\n",
              "        [ 1.22641027e-02, -1.78977072e-01,  3.52403522e-03,\n",
              "         -9.86102819e-02, -1.69244379e-01,  6.74527287e-02,\n",
              "          3.43273729e-01,  6.22343719e-02,  3.63211423e-01],\n",
              "        [-3.38256627e-01, -2.06482917e-01, -1.70394778e-02,\n",
              "         -6.17353916e-02, -8.95626545e-02,  8.66165757e-03,\n",
              "          3.02387565e-01, -4.25784588e-02,  5.95441759e-02],\n",
              "        [ 2.37761825e-01,  2.00952441e-01, -2.01730341e-01,\n",
              "          2.69997418e-02,  3.91587913e-02,  3.28528434e-01,\n",
              "          9.15288627e-02,  1.09058499e-01,  2.70618409e-01],\n",
              "        [-3.36153239e-01, -1.63452968e-01,  1.60365075e-01,\n",
              "         -2.61107147e-01, -1.11509204e-01, -3.39028150e-01,\n",
              "          2.92713672e-01, -3.16576600e-01,  6.05342090e-02],\n",
              "        [ 3.21434230e-01, -7.17038512e-02, -2.85805762e-01,\n",
              "          2.08355933e-01, -1.28726989e-01, -2.55157053e-01,\n",
              "         -3.52306366e-02, -2.82338262e-03, -1.98469728e-01],\n",
              "        [ 1.62109733e-03,  2.64155895e-01, -2.15595037e-01,\n",
              "          1.57597452e-01,  3.07282776e-01,  4.82589602e-02,\n",
              "          2.60364205e-01, -8.51900280e-02, -2.77978897e-01],\n",
              "        [ 2.29043037e-01, -8.71368349e-02,  8.30899179e-02,\n",
              "         -9.49547291e-02,  2.11814195e-01,  1.53815448e-02,\n",
              "         -5.37020564e-02, -5.46705723e-02,  2.84063071e-01],\n",
              "        [ 2.59920955e-02,  2.91436464e-01, -3.48579973e-01,\n",
              "          4.12611663e-02,  2.76083976e-01, -2.45561257e-01,\n",
              "          3.49393457e-01,  2.27750450e-01,  1.31086558e-01],\n",
              "        [-3.46121609e-01, -2.57527947e-01,  3.79017085e-01,\n",
              "          1.44814402e-01,  2.03929335e-01,  1.18653983e-01,\n",
              "          1.56639606e-01,  1.26581758e-01,  2.09440380e-01],\n",
              "        [-1.66294321e-01,  2.15445429e-01,  4.91223335e-02,\n",
              "          1.25549108e-01,  3.51900458e-02, -2.57152915e-01,\n",
              "         -1.50925085e-01,  1.80152506e-01, -1.55838996e-01],\n",
              "        [-5.61122596e-02,  1.35505795e-02, -7.46695995e-02,\n",
              "          2.52534300e-01,  3.39679569e-01,  3.51007313e-01,\n",
              "          7.40434825e-02,  2.06477374e-01,  1.18418783e-01],\n",
              "        [-2.13388577e-01,  3.43558460e-01, -2.83919692e-01,\n",
              "         -1.79184571e-01,  7.19855726e-02, -2.22082525e-01,\n",
              "          1.42865092e-01, -3.50089520e-01, -1.19329751e-01],\n",
              "        [ 8.96935165e-02, -3.08225751e-01,  2.23528296e-01,\n",
              "         -3.49692345e-01,  2.02925414e-01,  4.91738319e-06,\n",
              "         -3.24842691e-01,  7.81144500e-02, -3.78999203e-01],\n",
              "        [ 3.67390066e-01, -3.73041630e-01,  2.48407811e-01,\n",
              "          2.07459658e-01,  8.16733241e-02, -1.63031146e-01,\n",
              "         -2.11871907e-01, -1.02457911e-01, -3.09506118e-01],\n",
              "        [ 3.18125695e-01, -1.18595451e-01,  3.55932206e-01,\n",
              "          3.17590535e-02, -2.06529886e-01, -1.29226238e-01,\n",
              "         -1.76255122e-01, -1.00842267e-01,  1.14836752e-01],\n",
              "        [-6.28731847e-02, -3.13590765e-01, -1.64754942e-01,\n",
              "         -1.78852662e-01, -3.05718243e-01, -2.69831657e-01,\n",
              "         -2.41708338e-01,  1.74378663e-01, -1.13391787e-01],\n",
              "        [-1.28211409e-01, -9.16820765e-02, -9.68243778e-02,\n",
              "          2.06619650e-01,  3.43902558e-01,  4.98846173e-02,\n",
              "         -3.37343127e-01, -1.35650903e-01, -2.14791238e-01],\n",
              "        [-2.29196876e-01, -3.77266198e-01, -2.13903710e-01,\n",
              "         -7.77994394e-02,  3.20526958e-03,  2.52766162e-01,\n",
              "          3.77659798e-02, -1.94234252e-02,  2.14841872e-01]], dtype=float32)>\n",
              " }, MirroredVariable:{\n",
              "   0: <tf.Variable 'dense_6/bias:0' shape=(9,) dtype=float32, numpy=array([0., 0., 0., 0., 0., 0., 0., 0., 0.], dtype=float32)>\n",
              " }]"
            ]
          },
          "metadata": {
            "tags": []
          },
          "execution_count": 7
        }
      ]
    },
    {
      "cell_type": "markdown",
      "metadata": {
        "id": "hZ-et74n95GU"
      },
      "source": [
        "* Fittez votre modèle sur 5 à 10 epochs \n",
        "\n",
        "ATTENTION : Cet entrainement sera long ! (environs 5 min / epochs)"
      ]
    },
    {
      "cell_type": "code",
      "metadata": {
        "id": "xm0Il4oDIRJc",
        "colab": {
          "base_uri": "https://localhost:8080/",
          "height": 712
        },
        "outputId": "0703b7b3-cb24-449e-fde2-0271f3dca4e1"
      },
      "source": [
        "history = model.fit(train_set,\n",
        "                    validation_data=test_set,\n",
        "                    epochs=100)"
      ],
      "execution_count": null,
      "outputs": [
        {
          "output_type": "stream",
          "text": [
            "Epoch 1/100\n",
            "824/824 [==============================] - 287s 348ms/step - loss: 656845248.0000 - categorical_accuracy: 0.0372 - val_loss: 4177004032.0000 - val_categorical_accuracy: 0.0211\n",
            "Epoch 2/100\n",
            "824/824 [==============================] - 289s 351ms/step - loss: 39789383680.0000 - categorical_accuracy: 0.0381 - val_loss: 99019014144.0000 - val_categorical_accuracy: 0.0233\n",
            "Epoch 3/100\n",
            "824/824 [==============================] - 284s 345ms/step - loss: 171596775424.0000 - categorical_accuracy: 0.0384 - val_loss: 217497960448.0000 - val_categorical_accuracy: 0.0363\n",
            "Epoch 4/100\n",
            "824/824 [==============================] - 287s 349ms/step - loss: 106174054400.0000 - categorical_accuracy: 0.0599 - val_loss: 26987751424.0000 - val_categorical_accuracy: 0.0363\n",
            "Epoch 5/100\n",
            "824/824 [==============================] - 286s 347ms/step - loss: 32572076032.0000 - categorical_accuracy: 0.1041 - val_loss: 52576292864.0000 - val_categorical_accuracy: 0.0623\n",
            "Epoch 6/100\n",
            "824/824 [==============================] - 288s 349ms/step - loss: 62445608960.0000 - categorical_accuracy: 0.1072 - val_loss: 52037226496.0000 - val_categorical_accuracy: 0.0783\n",
            "Epoch 7/100\n",
            "824/824 [==============================] - 289s 350ms/step - loss: 100603158528.0000 - categorical_accuracy: 0.1086 - val_loss: 122241605632.0000 - val_categorical_accuracy: 0.0783\n",
            "Epoch 8/100\n",
            "824/824 [==============================] - 288s 350ms/step - loss: 158344511488.0000 - categorical_accuracy: 0.1050 - val_loss: 173943947264.0000 - val_categorical_accuracy: 0.0783\n",
            "Epoch 9/100\n",
            "824/824 [==============================] - 290s 352ms/step - loss: 212942389248.0000 - categorical_accuracy: 0.1038 - val_loss: 226009317376.0000 - val_categorical_accuracy: 0.0623\n",
            "Epoch 10/100\n",
            "824/824 [==============================] - 290s 352ms/step - loss: 300902612992.0000 - categorical_accuracy: 0.1069 - val_loss: 370169217024.0000 - val_categorical_accuracy: 0.0211\n",
            "Epoch 11/100\n",
            "824/824 [==============================] - 291s 353ms/step - loss: 402975457280.0000 - categorical_accuracy: 0.1062 - val_loss: 596885110784.0000 - val_categorical_accuracy: 0.0211\n",
            "Epoch 12/100\n",
            "824/824 [==============================] - 289s 350ms/step - loss: 497471356928.0000 - categorical_accuracy: 0.1069 - val_loss: 598315499520.0000 - val_categorical_accuracy: 0.0363\n",
            "Epoch 13/100\n",
            "824/824 [==============================] - 287s 349ms/step - loss: 597353168896.0000 - categorical_accuracy: 0.1067 - val_loss: 587139055616.0000 - val_categorical_accuracy: 0.2360\n",
            "Epoch 14/100\n",
            "824/824 [==============================] - 287s 349ms/step - loss: 653717209088.0000 - categorical_accuracy: 0.1096 - val_loss: 926813257728.0000 - val_categorical_accuracy: 0.0000e+00\n",
            "Epoch 15/100\n",
            "824/824 [==============================] - 286s 348ms/step - loss: 821647769600.0000 - categorical_accuracy: 0.1092 - val_loss: 447236505600.0000 - val_categorical_accuracy: 0.0363\n",
            "Epoch 16/100\n",
            "824/824 [==============================] - 288s 349ms/step - loss: 851702513664.0000 - categorical_accuracy: 0.1081 - val_loss: 553759473664.0000 - val_categorical_accuracy: 0.0233\n",
            "Epoch 17/100\n",
            "824/824 [==============================] - 287s 348ms/step - loss: 1112150507520.0000 - categorical_accuracy: 0.1076 - val_loss: 797520101376.0000 - val_categorical_accuracy: 0.0211\n",
            "Epoch 18/100\n",
            "824/824 [==============================] - 285s 345ms/step - loss: 1089666547712.0000 - categorical_accuracy: 0.1055 - val_loss: 1097972383744.0000 - val_categorical_accuracy: 0.0233\n",
            "Epoch 19/100\n",
            "824/824 [==============================] - ETA: 0s - loss: 1262424031232.0000 - categorical_accuracy: 0.1064"
          ],
          "name": "stdout"
        }
      ]
    },
    {
      "cell_type": "markdown",
      "metadata": {
        "id": "otm3ehQrLguS"
      },
      "source": [
        "* Visualisez votre accuracy par rapport à vos epochs sur votre train & test"
      ]
    },
    {
      "cell_type": "code",
      "metadata": {
        "id": "yGfxQwEdz03-",
        "colab": {
          "base_uri": "https://localhost:8080/",
          "height": 265
        },
        "outputId": "6b265915-a1f3-421a-bbf0-4339ac557d9e"
      },
      "source": [
        "# Visualise train / Valid Accuracy\n",
        "plt.plot(history.history[\"categorical_accuracy\"], c=\"r\", label=\"train_accuracy\")\n",
        "plt.plot(history.history[\"val_categorical_accuracy\"], c=\"b\", label=\"test_accuracy\")\n",
        "plt.legend(loc=\"upper left\")\n",
        "plt.show()"
      ],
      "execution_count": null,
      "outputs": [
        {
          "output_type": "display_data",
          "data": {
            "image/png": "[encoded data removed]",
            "text/plain": [
              "<Figure size 432x288 with 1 Axes>"
            ]
          },
          "metadata": {
            "tags": []
          }
        }
      ]
    },
    {
      "cell_type": "markdown",
      "metadata": {
        "id": "VuIJWLopLot_"
      },
      "source": [
        "* Faites de même avec votre loss"
      ]
    },
    {
      "cell_type": "code",
      "metadata": {
        "id": "esvdzJAHz13r",
        "colab": {
          "base_uri": "https://localhost:8080/",
          "height": 268
        },
        "outputId": "51f7864c-dac8-40d8-86e8-8bfd664993a8"
      },
      "source": [
        "# Visualise train / Valid Loss\n",
        "plt.plot(history.history[\"loss\"], c=\"r\", label=\"train_loss\")\n",
        "plt.plot(history.history[\"val_loss\"], c=\"b\", label=\"test_loss\")\n",
        "plt.legend(loc=\"upper left\")\n",
        "plt.show()"
      ],
      "execution_count": null,
      "outputs": [
        {
          "output_type": "display_data",
          "data": {
            "image/png": "[encoded data removed]",
            "text/plain": [
              "<Figure size 432x288 with 1 Axes>"
            ]
          },
          "metadata": {
            "tags": []
          }
        }
      ]
    },
    {
      "cell_type": "markdown",
      "metadata": {
        "id": "11vwxHExLsXJ"
      },
      "source": [
        "* Dégelez les 50 dernières couches de votre modèle "
      ]
    },
    {
      "cell_type": "code",
      "metadata": {
        "id": "EZNOYALUITlx"
      },
      "source": [
        "base_model.trainable = True\n",
        "fine_tune_at = 100\n",
        "for layer in base_model.layers[:fine_tune_at]:\n",
        "  layer.trainable = False"
      ],
      "execution_count": null,
      "outputs": []
    },
    {
      "cell_type": "markdown",
      "metadata": {
        "id": "ndDKbbtNLvie"
      },
      "source": [
        "* Recompilez votre modèle "
      ]
    },
    {
      "cell_type": "code",
      "metadata": {
        "id": "92X5snvcz5Fi"
      },
      "source": [
        "model.compile(optimizer=tf.keras.optimizers.Adam(learning_rate = lr_schedule),\n",
        "            loss = tf.keras.losses.CategoricalCrossentropy(from_logits=False),\n",
        "            metrics = [tf.keras.metrics.CategoricalAccuracy()])"
      ],
      "execution_count": null,
      "outputs": []
    },
    {
      "cell_type": "markdown",
      "metadata": {
        "id": "INp0nC6-LyLQ"
      },
      "source": [
        "* Entrainez à nouveau votre modèle sur 5 à 10 epochs "
      ]
    },
    {
      "cell_type": "code",
      "metadata": {
        "id": "UNXkrAugz6GH",
        "colab": {
          "base_uri": "https://localhost:8080/",
          "height": 485
        },
        "outputId": "649d97e1-3dfd-42b3-df50-c931092ba047"
      },
      "source": [
        "history = model.fit(train_set,\n",
        "                    validation_data=test_set,\n",
        "                    epochs=10)"
      ],
      "execution_count": null,
      "outputs": [
        {
          "output_type": "stream",
          "text": [
            "Train for 824 steps, validate for 276 steps\n",
            "Epoch 1/10\n",
            "824/824 [==============================] - 311s 377ms/step - loss: 9.1924 - categorical_accuracy: 0.0946 - val_loss: 10.3365 - val_categorical_accuracy: 0.0411\n",
            "Epoch 2/10\n",
            "824/824 [==============================] - 305s 370ms/step - loss: 9.1375 - categorical_accuracy: 0.0749 - val_loss: 10.3288 - val_categorical_accuracy: 0.0462\n",
            "Epoch 3/10\n",
            "824/824 [==============================] - 262s 319ms/step - loss: 8.9491 - categorical_accuracy: 0.0985\n"
          ],
          "name": "stdout"
        },
        {
          "output_type": "error",
          "ename": "KeyboardInterrupt",
          "evalue": "ignored",
          "traceback": [
            "\u001b[0;31m---------------------------------------------------------------------------\u001b[0m",
            "\u001b[0;31mKeyboardInterrupt\u001b[0m                         Traceback (most recent call last)",
            "\u001b[0;32m<ipython-input-117-293b2663841b>\u001b[0m in \u001b[0;36m<module>\u001b[0;34m()\u001b[0m\n\u001b[1;32m      1\u001b[0m history = model.fit(train_set,\n\u001b[1;32m      2\u001b[0m                     \u001b[0mvalidation_data\u001b[0m\u001b[0;34m=\u001b[0m\u001b[0mtest_set\u001b[0m\u001b[0;34m,\u001b[0m\u001b[0;34m\u001b[0m\u001b[0;34m\u001b[0m\u001b[0m\n\u001b[0;32m----> 3\u001b[0;31m                     epochs=10)\n\u001b[0m",
            "\u001b[0;32m/usr/local/lib/python3.6/dist-packages/tensorflow_core/python/keras/engine/training.py\u001b[0m in \u001b[0;36mfit\u001b[0;34m(self, x, y, batch_size, epochs, verbose, callbacks, validation_split, validation_data, shuffle, class_weight, sample_weight, initial_epoch, steps_per_epoch, validation_steps, validation_freq, max_queue_size, workers, use_multiprocessing, **kwargs)\u001b[0m\n\u001b[1;32m    817\u001b[0m         \u001b[0mmax_queue_size\u001b[0m\u001b[0;34m=\u001b[0m\u001b[0mmax_queue_size\u001b[0m\u001b[0;34m,\u001b[0m\u001b[0;34m\u001b[0m\u001b[0;34m\u001b[0m\u001b[0m\n\u001b[1;32m    818\u001b[0m         \u001b[0mworkers\u001b[0m\u001b[0;34m=\u001b[0m\u001b[0mworkers\u001b[0m\u001b[0;34m,\u001b[0m\u001b[0;34m\u001b[0m\u001b[0;34m\u001b[0m\u001b[0m\n\u001b[0;32m--> 819\u001b[0;31m         use_multiprocessing=use_multiprocessing)\n\u001b[0m\u001b[1;32m    820\u001b[0m \u001b[0;34m\u001b[0m\u001b[0m\n\u001b[1;32m    821\u001b[0m   def evaluate(self,\n",
            "\u001b[0;32m/usr/local/lib/python3.6/dist-packages/tensorflow_core/python/keras/engine/training_v2.py\u001b[0m in \u001b[0;36mfit\u001b[0;34m(self, model, x, y, batch_size, epochs, verbose, callbacks, validation_split, validation_data, shuffle, class_weight, sample_weight, initial_epoch, steps_per_epoch, validation_steps, validation_freq, max_queue_size, workers, use_multiprocessing, **kwargs)\u001b[0m\n\u001b[1;32m    393\u001b[0m                       \u001b[0mmode\u001b[0m\u001b[0;34m=\u001b[0m\u001b[0mModeKeys\u001b[0m\u001b[0;34m.\u001b[0m\u001b[0mTEST\u001b[0m\u001b[0;34m,\u001b[0m\u001b[0;34m\u001b[0m\u001b[0;34m\u001b[0m\u001b[0m\n\u001b[1;32m    394\u001b[0m                       \u001b[0mtraining_context\u001b[0m\u001b[0;34m=\u001b[0m\u001b[0meval_context\u001b[0m\u001b[0;34m,\u001b[0m\u001b[0;34m\u001b[0m\u001b[0;34m\u001b[0m\u001b[0m\n\u001b[0;32m--> 395\u001b[0;31m                       total_epochs=1)\n\u001b[0m\u001b[1;32m    396\u001b[0m                   cbks.make_logs(model, epoch_logs, eval_result, ModeKeys.TEST,\n\u001b[1;32m    397\u001b[0m                                  prefix='val_')\n",
            "\u001b[0;32m/usr/local/lib/python3.6/dist-packages/tensorflow_core/python/keras/engine/training_v2.py\u001b[0m in \u001b[0;36mrun_one_epoch\u001b[0;34m(model, iterator, execution_function, dataset_size, batch_size, strategy, steps_per_epoch, num_samples, mode, training_context, total_epochs)\u001b[0m\n\u001b[1;32m    126\u001b[0m         step=step, mode=mode, size=current_batch_size) as batch_logs:\n\u001b[1;32m    127\u001b[0m       \u001b[0;32mtry\u001b[0m\u001b[0;34m:\u001b[0m\u001b[0;34m\u001b[0m\u001b[0;34m\u001b[0m\u001b[0m\n\u001b[0;32m--> 128\u001b[0;31m         \u001b[0mbatch_outs\u001b[0m \u001b[0;34m=\u001b[0m \u001b[0mexecution_function\u001b[0m\u001b[0;34m(\u001b[0m\u001b[0miterator\u001b[0m\u001b[0;34m)\u001b[0m\u001b[0;34m\u001b[0m\u001b[0;34m\u001b[0m\u001b[0m\n\u001b[0m\u001b[1;32m    129\u001b[0m       \u001b[0;32mexcept\u001b[0m \u001b[0;34m(\u001b[0m\u001b[0mStopIteration\u001b[0m\u001b[0;34m,\u001b[0m \u001b[0merrors\u001b[0m\u001b[0;34m.\u001b[0m\u001b[0mOutOfRangeError\u001b[0m\u001b[0;34m)\u001b[0m\u001b[0;34m:\u001b[0m\u001b[0;34m\u001b[0m\u001b[0;34m\u001b[0m\u001b[0m\n\u001b[1;32m    130\u001b[0m         \u001b[0;31m# TODO(kaftan): File bug about tf function and errors.OutOfRangeError?\u001b[0m\u001b[0;34m\u001b[0m\u001b[0;34m\u001b[0m\u001b[0;34m\u001b[0m\u001b[0m\n",
            "\u001b[0;32m/usr/local/lib/python3.6/dist-packages/tensorflow_core/python/keras/engine/training_v2_utils.py\u001b[0m in \u001b[0;36mexecution_function\u001b[0;34m(input_fn)\u001b[0m\n\u001b[1;32m     96\u001b[0m     \u001b[0;31m# `numpy` translates Tensors to values in Eager mode.\u001b[0m\u001b[0;34m\u001b[0m\u001b[0;34m\u001b[0m\u001b[0;34m\u001b[0m\u001b[0m\n\u001b[1;32m     97\u001b[0m     return nest.map_structure(_non_none_constant_value,\n\u001b[0;32m---> 98\u001b[0;31m                               distributed_function(input_fn))\n\u001b[0m\u001b[1;32m     99\u001b[0m \u001b[0;34m\u001b[0m\u001b[0m\n\u001b[1;32m    100\u001b[0m   \u001b[0;32mreturn\u001b[0m \u001b[0mexecution_function\u001b[0m\u001b[0;34m\u001b[0m\u001b[0;34m\u001b[0m\u001b[0m\n",
            "\u001b[0;32m/usr/local/lib/python3.6/dist-packages/tensorflow_core/python/eager/def_function.py\u001b[0m in \u001b[0;36m__call__\u001b[0;34m(self, *args, **kwds)\u001b[0m\n\u001b[1;32m    566\u001b[0m         \u001b[0mxla_context\u001b[0m\u001b[0;34m.\u001b[0m\u001b[0mExit\u001b[0m\u001b[0;34m(\u001b[0m\u001b[0;34m)\u001b[0m\u001b[0;34m\u001b[0m\u001b[0;34m\u001b[0m\u001b[0m\n\u001b[1;32m    567\u001b[0m     \u001b[0;32melse\u001b[0m\u001b[0;34m:\u001b[0m\u001b[0;34m\u001b[0m\u001b[0;34m\u001b[0m\u001b[0m\n\u001b[0;32m--> 568\u001b[0;31m       \u001b[0mresult\u001b[0m \u001b[0;34m=\u001b[0m \u001b[0mself\u001b[0m\u001b[0;34m.\u001b[0m\u001b[0m_call\u001b[0m\u001b[0;34m(\u001b[0m\u001b[0;34m*\u001b[0m\u001b[0margs\u001b[0m\u001b[0;34m,\u001b[0m \u001b[0;34m**\u001b[0m\u001b[0mkwds\u001b[0m\u001b[0;34m)\u001b[0m\u001b[0;34m\u001b[0m\u001b[0;34m\u001b[0m\u001b[0m\n\u001b[0m\u001b[1;32m    569\u001b[0m \u001b[0;34m\u001b[0m\u001b[0m\n\u001b[1;32m    570\u001b[0m     \u001b[0;32mif\u001b[0m \u001b[0mtracing_count\u001b[0m \u001b[0;34m==\u001b[0m \u001b[0mself\u001b[0m\u001b[0;34m.\u001b[0m\u001b[0m_get_tracing_count\u001b[0m\u001b[0;34m(\u001b[0m\u001b[0;34m)\u001b[0m\u001b[0;34m:\u001b[0m\u001b[0;34m\u001b[0m\u001b[0;34m\u001b[0m\u001b[0m\n",
            "\u001b[0;32m/usr/local/lib/python3.6/dist-packages/tensorflow_core/python/eager/def_function.py\u001b[0m in \u001b[0;36m_call\u001b[0;34m(self, *args, **kwds)\u001b[0m\n\u001b[1;32m    604\u001b[0m       \u001b[0;31m# In this case we have not created variables on the first call. So we can\u001b[0m\u001b[0;34m\u001b[0m\u001b[0;34m\u001b[0m\u001b[0;34m\u001b[0m\u001b[0m\n\u001b[1;32m    605\u001b[0m       \u001b[0;31m# run the first trace but we should fail if variables are created.\u001b[0m\u001b[0;34m\u001b[0m\u001b[0;34m\u001b[0m\u001b[0;34m\u001b[0m\u001b[0m\n\u001b[0;32m--> 606\u001b[0;31m       \u001b[0mresults\u001b[0m \u001b[0;34m=\u001b[0m \u001b[0mself\u001b[0m\u001b[0;34m.\u001b[0m\u001b[0m_stateful_fn\u001b[0m\u001b[0;34m(\u001b[0m\u001b[0;34m*\u001b[0m\u001b[0margs\u001b[0m\u001b[0;34m,\u001b[0m \u001b[0;34m**\u001b[0m\u001b[0mkwds\u001b[0m\u001b[0;34m)\u001b[0m\u001b[0;34m\u001b[0m\u001b[0;34m\u001b[0m\u001b[0m\n\u001b[0m\u001b[1;32m    607\u001b[0m       \u001b[0;32mif\u001b[0m \u001b[0mself\u001b[0m\u001b[0;34m.\u001b[0m\u001b[0m_created_variables\u001b[0m\u001b[0;34m:\u001b[0m\u001b[0;34m\u001b[0m\u001b[0;34m\u001b[0m\u001b[0m\n\u001b[1;32m    608\u001b[0m         raise ValueError(\"Creating variables on a non-first call to a function\"\n",
            "\u001b[0;32m/usr/local/lib/python3.6/dist-packages/tensorflow_core/python/eager/function.py\u001b[0m in \u001b[0;36m__call__\u001b[0;34m(self, *args, **kwargs)\u001b[0m\n\u001b[1;32m   2361\u001b[0m     \u001b[0;32mwith\u001b[0m \u001b[0mself\u001b[0m\u001b[0;34m.\u001b[0m\u001b[0m_lock\u001b[0m\u001b[0;34m:\u001b[0m\u001b[0;34m\u001b[0m\u001b[0;34m\u001b[0m\u001b[0m\n\u001b[1;32m   2362\u001b[0m       \u001b[0mgraph_function\u001b[0m\u001b[0;34m,\u001b[0m \u001b[0margs\u001b[0m\u001b[0;34m,\u001b[0m \u001b[0mkwargs\u001b[0m \u001b[0;34m=\u001b[0m \u001b[0mself\u001b[0m\u001b[0;34m.\u001b[0m\u001b[0m_maybe_define_function\u001b[0m\u001b[0;34m(\u001b[0m\u001b[0margs\u001b[0m\u001b[0;34m,\u001b[0m \u001b[0mkwargs\u001b[0m\u001b[0;34m)\u001b[0m\u001b[0;34m\u001b[0m\u001b[0;34m\u001b[0m\u001b[0m\n\u001b[0;32m-> 2363\u001b[0;31m     \u001b[0;32mreturn\u001b[0m \u001b[0mgraph_function\u001b[0m\u001b[0;34m.\u001b[0m\u001b[0m_filtered_call\u001b[0m\u001b[0;34m(\u001b[0m\u001b[0margs\u001b[0m\u001b[0;34m,\u001b[0m \u001b[0mkwargs\u001b[0m\u001b[0;34m)\u001b[0m  \u001b[0;31m# pylint: disable=protected-access\u001b[0m\u001b[0;34m\u001b[0m\u001b[0;34m\u001b[0m\u001b[0m\n\u001b[0m\u001b[1;32m   2364\u001b[0m \u001b[0;34m\u001b[0m\u001b[0m\n\u001b[1;32m   2365\u001b[0m   \u001b[0;34m@\u001b[0m\u001b[0mproperty\u001b[0m\u001b[0;34m\u001b[0m\u001b[0;34m\u001b[0m\u001b[0m\n",
            "\u001b[0;32m/usr/local/lib/python3.6/dist-packages/tensorflow_core/python/eager/function.py\u001b[0m in \u001b[0;36m_filtered_call\u001b[0;34m(self, args, kwargs)\u001b[0m\n\u001b[1;32m   1609\u001b[0m          if isinstance(t, (ops.Tensor,\n\u001b[1;32m   1610\u001b[0m                            resource_variable_ops.BaseResourceVariable))),\n\u001b[0;32m-> 1611\u001b[0;31m         self.captured_inputs)\n\u001b[0m\u001b[1;32m   1612\u001b[0m \u001b[0;34m\u001b[0m\u001b[0m\n\u001b[1;32m   1613\u001b[0m   \u001b[0;32mdef\u001b[0m \u001b[0m_call_flat\u001b[0m\u001b[0;34m(\u001b[0m\u001b[0mself\u001b[0m\u001b[0;34m,\u001b[0m \u001b[0margs\u001b[0m\u001b[0;34m,\u001b[0m \u001b[0mcaptured_inputs\u001b[0m\u001b[0;34m,\u001b[0m \u001b[0mcancellation_manager\u001b[0m\u001b[0;34m=\u001b[0m\u001b[0;32mNone\u001b[0m\u001b[0;34m)\u001b[0m\u001b[0;34m:\u001b[0m\u001b[0;34m\u001b[0m\u001b[0;34m\u001b[0m\u001b[0m\n",
            "\u001b[0;32m/usr/local/lib/python3.6/dist-packages/tensorflow_core/python/eager/function.py\u001b[0m in \u001b[0;36m_call_flat\u001b[0;34m(self, args, captured_inputs, cancellation_manager)\u001b[0m\n\u001b[1;32m   1690\u001b[0m       \u001b[0;31m# No tape is watching; skip to running the function.\u001b[0m\u001b[0;34m\u001b[0m\u001b[0;34m\u001b[0m\u001b[0;34m\u001b[0m\u001b[0m\n\u001b[1;32m   1691\u001b[0m       return self._build_call_outputs(self._inference_function.call(\n\u001b[0;32m-> 1692\u001b[0;31m           ctx, args, cancellation_manager=cancellation_manager))\n\u001b[0m\u001b[1;32m   1693\u001b[0m     forward_backward = self._select_forward_and_backward_functions(\n\u001b[1;32m   1694\u001b[0m         \u001b[0margs\u001b[0m\u001b[0;34m,\u001b[0m\u001b[0;34m\u001b[0m\u001b[0;34m\u001b[0m\u001b[0m\n",
            "\u001b[0;32m/usr/local/lib/python3.6/dist-packages/tensorflow_core/python/eager/function.py\u001b[0m in \u001b[0;36mcall\u001b[0;34m(self, ctx, args, cancellation_manager)\u001b[0m\n\u001b[1;32m    543\u001b[0m               \u001b[0minputs\u001b[0m\u001b[0;34m=\u001b[0m\u001b[0margs\u001b[0m\u001b[0;34m,\u001b[0m\u001b[0;34m\u001b[0m\u001b[0;34m\u001b[0m\u001b[0m\n\u001b[1;32m    544\u001b[0m               \u001b[0mattrs\u001b[0m\u001b[0;34m=\u001b[0m\u001b[0;34m(\u001b[0m\u001b[0;34m\"executor_type\"\u001b[0m\u001b[0;34m,\u001b[0m \u001b[0mexecutor_type\u001b[0m\u001b[0;34m,\u001b[0m \u001b[0;34m\"config_proto\"\u001b[0m\u001b[0;34m,\u001b[0m \u001b[0mconfig\u001b[0m\u001b[0;34m)\u001b[0m\u001b[0;34m,\u001b[0m\u001b[0;34m\u001b[0m\u001b[0;34m\u001b[0m\u001b[0m\n\u001b[0;32m--> 545\u001b[0;31m               ctx=ctx)\n\u001b[0m\u001b[1;32m    546\u001b[0m         \u001b[0;32melse\u001b[0m\u001b[0;34m:\u001b[0m\u001b[0;34m\u001b[0m\u001b[0;34m\u001b[0m\u001b[0m\n\u001b[1;32m    547\u001b[0m           outputs = execute.execute_with_cancellation(\n",
            "\u001b[0;32m/usr/local/lib/python3.6/dist-packages/tensorflow_core/python/eager/execute.py\u001b[0m in \u001b[0;36mquick_execute\u001b[0;34m(op_name, num_outputs, inputs, attrs, ctx, name)\u001b[0m\n\u001b[1;32m     59\u001b[0m     tensors = pywrap_tensorflow.TFE_Py_Execute(ctx._handle, device_name,\n\u001b[1;32m     60\u001b[0m                                                \u001b[0mop_name\u001b[0m\u001b[0;34m,\u001b[0m \u001b[0minputs\u001b[0m\u001b[0;34m,\u001b[0m \u001b[0mattrs\u001b[0m\u001b[0;34m,\u001b[0m\u001b[0;34m\u001b[0m\u001b[0;34m\u001b[0m\u001b[0m\n\u001b[0;32m---> 61\u001b[0;31m                                                num_outputs)\n\u001b[0m\u001b[1;32m     62\u001b[0m   \u001b[0;32mexcept\u001b[0m \u001b[0mcore\u001b[0m\u001b[0;34m.\u001b[0m\u001b[0m_NotOkStatusException\u001b[0m \u001b[0;32mas\u001b[0m \u001b[0me\u001b[0m\u001b[0;34m:\u001b[0m\u001b[0;34m\u001b[0m\u001b[0;34m\u001b[0m\u001b[0m\n\u001b[1;32m     63\u001b[0m     \u001b[0;32mif\u001b[0m \u001b[0mname\u001b[0m \u001b[0;32mis\u001b[0m \u001b[0;32mnot\u001b[0m \u001b[0;32mNone\u001b[0m\u001b[0;34m:\u001b[0m\u001b[0;34m\u001b[0m\u001b[0;34m\u001b[0m\u001b[0m\n",
            "\u001b[0;31mKeyboardInterrupt\u001b[0m: "
          ]
        }
      ]
    },
    {
      "cell_type": "markdown",
      "metadata": {
        "id": "l5THKWhsL2YP"
      },
      "source": [
        "* Faites vos visualisations "
      ]
    },
    {
      "cell_type": "code",
      "metadata": {
        "id": "gPLs74hC0D4u",
        "colab": {
          "base_uri": "https://localhost:8080/",
          "height": 265
        },
        "outputId": "2dcf06b8-c521-4345-b70d-5940731c1d93"
      },
      "source": [
        "# Visualise train / Valid Accuracy\n",
        "plt.plot(history.history[\"categorical_accuracy\"], c=\"r\", label=\"train_accuracy\")\n",
        "plt.plot(history.history[\"val_categorical_accuracy\"], c=\"b\", label=\"test_accuracy\")\n",
        "plt.legend(loc=\"upper left\")\n",
        "plt.show()"
      ],
      "execution_count": null,
      "outputs": [
        {
          "output_type": "display_data",
          "data": {
            "image/png": "[encoded data removed]",
            "text/plain": [
              "<Figure size 432x288 with 1 Axes>"
            ]
          },
          "metadata": {
            "tags": []
          }
        }
      ]
    },
    {
      "cell_type": "code",
      "metadata": {
        "id": "WccHfySZ0HUF",
        "colab": {
          "base_uri": "https://localhost:8080/",
          "height": 268
        },
        "outputId": "678b53a4-e047-41ff-d3f3-837d4e7d25f3"
      },
      "source": [
        "# Visualise train / Valid Loss\n",
        "plt.plot(history.history[\"loss\"], c=\"r\", label=\"train_loss\")\n",
        "plt.plot(history.history[\"val_loss\"], c=\"b\", label=\"test_loss\")\n",
        "plt.legend(loc=\"upper left\")\n",
        "plt.show()"
      ],
      "execution_count": null,
      "outputs": [
        {
          "output_type": "display_data",
          "data": {
            "image/png": "[encoded data removed]",
            "text/plain": [
              "<Figure size 432x288 with 1 Axes>"
            ]
          },
          "metadata": {
            "tags": []
          }
        }
      ]
    },
    {
      "cell_type": "markdown",
      "metadata": {
        "id": "x_jhEvOOL8kB"
      },
      "source": [
        "* Regardez un exemple de prédictions par rapport à la réalité "
      ]
    },
    {
      "cell_type": "code",
      "metadata": {
        "id": "63tY9vhs_TYg",
        "colab": {
          "base_uri": "https://localhost:8080/",
          "height": 1000
        },
        "outputId": "f81d37bb-fd62-453e-a4ac-7bd0e2b19b22"
      },
      "source": [
        "for x, y in test_set.take(1):\n",
        "  y_pred = model.predict(x)\n",
        "  print(\"Preds : {}\\nTruth : {}\".format(y_pred[0], y[0].numpy()))\n",
        "  plt.imshow(x[0])"
      ],
      "execution_count": null,
      "outputs": [
        {
          "output_type": "stream",
          "text": [
            "Preds : [[5.76355169e-03 8.10269952e-01 8.18216681e-01 2.20609382e-01\n",
            "  8.26897323e-01 8.87685359e-01 9.09323573e-01 6.21288121e-01\n",
            "  1.86799973e-01]\n",
            " [5.97681338e-03 1.22407518e-01 1.53987706e-01 4.36927043e-02\n",
            "  1.45531848e-01 3.99268299e-01 8.24838221e-01 2.20916197e-02\n",
            "  8.86870921e-01]\n",
            " [6.63592696e-01 8.37993324e-02 3.27355742e-01 6.88536465e-01\n",
            "  3.83680244e-03 2.61096150e-01 3.34949732e-01 2.08177976e-02\n",
            "  9.03036714e-01]\n",
            " [4.92751986e-01 2.47997180e-01 5.30289471e-01 6.34881794e-01\n",
            "  3.85337994e-02 7.47867107e-01 7.44807839e-01 1.11960173e-01\n",
            "  4.48496759e-01]\n",
            " [7.66871381e-04 7.10754022e-02 4.36163545e-01 2.25824550e-01\n",
            "  4.61604416e-01 6.01840854e-01 8.24751019e-01 2.37891719e-01\n",
            "  3.99948269e-01]\n",
            " [4.56622010e-03 8.74551892e-01 9.29242969e-01 5.49611509e-01\n",
            "  6.71292007e-01 9.31284547e-01 9.61085379e-01 2.57293165e-01\n",
            "  1.55432979e-02]\n",
            " [2.76422203e-02 5.81419617e-02 4.17620510e-01 8.62708151e-01\n",
            "  3.47598791e-02 8.78928721e-01 8.55695903e-01 1.22436911e-01\n",
            "  8.31468701e-01]\n",
            " [9.44483578e-02 7.96067640e-02 2.27850109e-01 8.88410687e-01\n",
            "  1.10309534e-02 6.67850196e-01 5.57067871e-01 3.28580961e-02\n",
            "  9.33052540e-01]\n",
            " [7.93118015e-05 9.29979324e-01 9.55908775e-01 1.71828285e-01\n",
            "  9.70282793e-01 9.12070692e-01 9.66875076e-01 8.16650748e-01\n",
            "  1.77821930e-04]\n",
            " [7.20114040e-04 9.67471063e-01 9.65233743e-01 4.15637016e-01\n",
            "  9.38618302e-01 9.76180732e-01 9.80707824e-01 7.72810936e-01\n",
            "  5.41792437e-03]\n",
            " [1.99687993e-03 3.69617552e-03 5.66365616e-03 2.26243474e-02\n",
            "  1.25568267e-05 6.10661864e-01 6.82398677e-01 9.51680195e-05\n",
            "  9.99496102e-01]\n",
            " [2.27434933e-01 3.08030583e-02 2.62186199e-01 1.57194465e-01\n",
            "  1.10395802e-02 1.73334077e-01 7.02002704e-01 1.52012054e-03\n",
            "  7.25060403e-01]\n",
            " [3.02058980e-02 2.58364179e-03 4.29854207e-02 6.69972539e-01\n",
            "  1.18868630e-02 2.02879101e-01 5.87197900e-01 3.04174260e-03\n",
            "  7.21945465e-01]\n",
            " [2.71383703e-01 5.18762507e-02 1.30829170e-01 7.11160898e-01\n",
            "  1.78118125e-02 4.91750062e-01 3.33105206e-01 1.50701087e-02\n",
            "  6.48424268e-01]\n",
            " [3.81932617e-03 6.84718847e-01 7.47380137e-01 2.07849249e-01\n",
            "  6.36369467e-01 8.24231625e-01 8.78988385e-01 8.10803354e-01\n",
            "  1.04547679e-01]\n",
            " [2.82494009e-01 5.94724655e-01 5.88041127e-01 3.52565557e-01\n",
            "  1.27452642e-01 6.39882565e-01 9.03966367e-01 8.10806602e-02\n",
            "  5.59968054e-01]\n",
            " [6.86669373e-05 4.06865895e-01 6.42778337e-01 6.99161440e-02\n",
            "  8.91267419e-01 8.34547102e-01 8.90417099e-01 5.54545581e-01\n",
            "  1.40682459e-01]\n",
            " [2.00605188e-02 5.32918155e-01 6.79708958e-01 4.97301906e-01\n",
            "  4.68466878e-01 7.68469334e-01 7.28811502e-01 4.69696671e-01\n",
            "  5.22035003e-01]\n",
            " [3.41475382e-02 5.69289148e-01 7.54341900e-01 1.53618619e-01\n",
            "  1.43310323e-01 7.25878000e-01 9.20780957e-01 2.44270250e-01\n",
            "  7.37055838e-01]\n",
            " [1.99132204e-01 2.66237557e-02 3.60248052e-02 7.95711875e-01\n",
            "  5.30438730e-04 1.64480567e-01 2.12253541e-01 4.31942474e-03\n",
            "  9.50094461e-01]\n",
            " [2.60872272e-04 8.98806036e-01 9.15310979e-01 5.16895235e-01\n",
            "  6.46514714e-01 9.50321138e-01 9.54235315e-01 5.67435980e-01\n",
            "  1.21438177e-02]\n",
            " [1.02636463e-03 4.77534384e-01 5.93129814e-01 1.80016816e-01\n",
            "  5.81652224e-01 7.17659354e-01 8.74098122e-01 1.34762093e-01\n",
            "  7.39901811e-02]\n",
            " [5.52798390e-01 8.20292711e-01 7.83125281e-01 1.94541514e-01\n",
            "  1.63428802e-02 6.96671784e-01 8.90997827e-01 8.53903685e-03\n",
            "  7.92590857e-01]\n",
            " [4.72421162e-02 6.71196759e-01 8.40785444e-01 8.79264116e-01\n",
            "  3.79694253e-01 8.34139049e-01 8.59138429e-01 4.77979153e-01\n",
            "  6.09034672e-02]\n",
            " [8.66661221e-02 2.23689266e-02 1.88149437e-02 2.77076066e-01\n",
            "  9.15713666e-04 1.80862397e-01 4.77809131e-01 1.11094303e-03\n",
            "  9.67558146e-01]\n",
            " [4.65173721e-01 5.44693135e-02 3.87262106e-02 2.54370719e-01\n",
            "  1.58570101e-03 6.26172245e-01 1.93357021e-01 1.90235826e-03\n",
            "  9.85009432e-01]\n",
            " [5.93683958e-01 3.71179450e-03 1.46881882e-02 3.24989140e-01\n",
            "  3.23027052e-05 6.20025508e-02 8.28628689e-02 5.82390385e-05\n",
            "  9.91379738e-01]\n",
            " [4.10161503e-02 2.12735366e-02 3.09318632e-01 6.70160890e-01\n",
            "  1.41427770e-01 2.98273295e-01 8.47109377e-01 8.56627245e-03\n",
            "  3.36847782e-01]\n",
            " [4.56003025e-02 5.67775309e-01 5.89011967e-01 1.66230053e-02\n",
            "  2.93119729e-01 6.76545084e-01 9.23634470e-01 2.34464128e-02\n",
            "  5.89130998e-01]\n",
            " [3.98917422e-02 1.75707154e-02 1.39078289e-01 1.03475839e-01\n",
            "  1.61166817e-01 3.70443642e-01 4.77051437e-01 1.35149479e-01\n",
            "  7.59673357e-01]\n",
            " [1.83433108e-02 7.75242686e-01 8.66059840e-01 6.22292936e-01\n",
            "  5.42805910e-01 8.69712472e-01 9.23558116e-01 3.76041055e-01\n",
            "  8.38218629e-02]\n",
            " [6.52743271e-03 9.05263424e-01 9.16749895e-01 1.83648393e-01\n",
            "  7.87748277e-01 9.38616812e-01 9.70079899e-01 2.44039536e-01\n",
            "  1.82491690e-02]\n",
            " [1.12312951e-03 1.01492886e-04 4.46195342e-03 3.34173560e-01\n",
            "  2.17619745e-04 1.32261291e-01 8.38548422e-01 1.39775017e-04\n",
            "  9.92287755e-01]\n",
            " [2.78617186e-03 8.48828793e-01 7.55173147e-01 1.52946293e-01\n",
            "  7.33427584e-01 8.98091733e-01 8.92605782e-01 5.93710899e-01\n",
            "  2.83302933e-01]\n",
            " [2.24524993e-03 7.97081351e-01 7.83938766e-01 3.50832075e-01\n",
            "  6.72528148e-01 8.75494123e-01 8.80780578e-01 7.35500872e-01\n",
            "  9.61838290e-02]\n",
            " [7.49277096e-05 8.54260981e-01 8.71797919e-01 2.75086872e-02\n",
            "  8.05234015e-01 9.04218912e-01 9.28010106e-01 8.13070536e-01\n",
            "  1.52655989e-01]\n",
            " [1.24271680e-03 8.59036624e-01 8.99312377e-01 4.90678251e-01\n",
            "  8.86197269e-01 9.18402433e-01 9.34920013e-01 8.46400440e-01\n",
            "  4.43489337e-03]\n",
            " [1.34259641e-01 4.17732773e-03 5.48508763e-02 9.44049120e-01\n",
            "  4.80350136e-04 7.21269250e-01 4.79169190e-01 1.13935058e-03\n",
            "  9.74411130e-01]\n",
            " [5.29272074e-04 5.07864237e-01 8.18260014e-01 2.26164892e-01\n",
            "  6.80824101e-01 8.31002772e-01 9.02137339e-01 5.72906196e-01\n",
            "  2.55596191e-02]\n",
            " [2.76390649e-03 7.43897796e-01 8.06164026e-01 7.39160299e-01\n",
            "  6.16581619e-01 9.05123651e-01 8.66103113e-01 7.31295705e-01\n",
            "  4.20180082e-01]\n",
            " [2.39274045e-03 5.52941084e-01 7.38932729e-01 5.52198648e-01\n",
            "  1.94475204e-01 8.68381143e-01 8.98880661e-01 4.82507378e-01\n",
            "  5.63138127e-01]\n",
            " [3.04269046e-01 1.23709142e-02 5.85056022e-02 7.38869429e-01\n",
            "  5.25712618e-04 3.69185448e-01 3.79509598e-01 1.09030062e-03\n",
            "  9.73130524e-01]\n",
            " [5.22330821e-01 6.78534880e-02 2.70437658e-01 4.76078510e-01\n",
            "  9.06507426e-04 4.04282540e-01 7.47678936e-01 7.79408379e-04\n",
            "  8.87033761e-01]\n",
            " [8.13846418e-05 9.03064251e-01 9.16592002e-01 2.36987263e-01\n",
            "  8.97632658e-01 9.49216008e-01 9.58808184e-01 8.38202477e-01\n",
            "  9.87882074e-03]\n",
            " [1.22578748e-01 3.90653521e-01 6.21422112e-01 8.78777206e-01\n",
            "  1.96864501e-01 7.51673579e-01 6.57721400e-01 3.31986487e-01\n",
            "  6.28898740e-01]\n",
            " [1.80680800e-04 8.82731974e-01 9.14879382e-01 5.79707682e-01\n",
            "  8.02831948e-01 9.55430508e-01 9.46815014e-01 8.61845791e-01\n",
            "  4.00528572e-02]\n",
            " [2.27209926e-02 4.27482724e-01 6.32022023e-01 6.10101044e-01\n",
            "  3.82004082e-01 7.21642017e-01 7.77096927e-01 4.74833816e-01\n",
            "  2.36814037e-01]\n",
            " [2.75454647e-03 7.95164883e-01 8.13324392e-01 6.39300466e-01\n",
            "  6.99718237e-01 8.84992421e-01 8.87486458e-01 7.52606392e-01\n",
            "  9.72038358e-02]\n",
            " [1.87108468e-03 1.81830630e-01 3.76056969e-01 7.10641518e-02\n",
            "  4.66053784e-02 7.32632220e-01 8.74919355e-01 7.78372586e-02\n",
            "  9.70750093e-01]\n",
            " [5.49139804e-05 9.08101618e-01 9.02557909e-01 5.57563841e-01\n",
            "  8.58714700e-01 9.76132691e-01 9.62421596e-01 8.56914639e-01\n",
            "  1.05456717e-01]\n",
            " [1.42219039e-02 5.71045280e-01 6.90917015e-01 8.36593807e-02\n",
            "  6.44361317e-01 6.72077298e-01 7.66489983e-01 6.21680975e-01\n",
            "  2.49749377e-01]\n",
            " [7.59907663e-01 4.14005667e-02 5.69481105e-02 6.86410785e-01\n",
            "  5.52693848e-04 1.88383624e-01 7.80422539e-02 8.59818130e-04\n",
            "  9.42816317e-01]\n",
            " [3.28023434e-02 4.30245399e-01 6.74804688e-01 1.17811918e-01\n",
            "  4.22229767e-02 6.94301367e-01 8.91535759e-01 6.49867952e-02\n",
            "  7.52330661e-01]\n",
            " [2.29424494e-03 8.76960695e-01 7.02748656e-01 1.15992315e-02\n",
            "  5.02576113e-01 9.29813683e-01 9.49141681e-01 4.19318713e-02\n",
            "  7.55643606e-01]\n",
            " [3.82617931e-03 7.64449418e-01 7.99643159e-01 5.13336360e-01\n",
            "  6.48267686e-01 8.79894614e-01 8.93336356e-01 7.43090808e-01\n",
            "  7.45124072e-02]\n",
            " [3.39077902e-03 5.87058485e-01 7.76513040e-01 1.95286438e-01\n",
            "  5.04983604e-01 8.47174823e-01 7.71120787e-01 7.47140944e-01\n",
            "  7.03574896e-01]\n",
            " [3.66409455e-04 5.95912755e-01 7.96954989e-01 4.10064071e-01\n",
            "  7.30634391e-01 9.07208323e-01 8.97479117e-01 6.38860524e-01\n",
            "  3.16454798e-01]\n",
            " [5.28661795e-02 4.48076753e-03 1.53098822e-01 5.75152218e-01\n",
            "  9.22260713e-03 2.65615910e-01 5.89483917e-01 2.37925462e-02\n",
            "  9.07054007e-01]\n",
            " [3.03553730e-01 6.05735779e-02 1.69579133e-01 7.64123857e-01\n",
            "  4.63828415e-04 3.23616296e-01 4.27835315e-01 2.92097102e-03\n",
            "  9.74646389e-01]\n",
            " [1.42394740e-03 8.22603822e-01 8.59200418e-01 3.84225398e-01\n",
            "  8.94439280e-01 8.86625051e-01 8.96857023e-01 7.65407264e-01\n",
            "  1.36692766e-02]\n",
            " [6.79184571e-02 4.15813923e-02 2.39007309e-01 8.57757688e-01\n",
            "  5.03103286e-02 3.82801712e-01 6.50745571e-01 4.60443608e-02\n",
            "  7.34169543e-01]\n",
            " [5.73582947e-03 9.04953539e-01 9.00256693e-01 4.36025262e-01\n",
            "  8.33334684e-01 9.27762747e-01 9.50272977e-01 3.23076099e-01\n",
            "  7.36818928e-03]\n",
            " [6.69014349e-04 6.21493645e-02 2.16314211e-01 2.33898032e-02\n",
            "  3.76539156e-02 3.32780093e-01 9.27457273e-01 7.69858621e-03\n",
            "  8.53495240e-01]\n",
            " [2.22033001e-02 2.67602922e-03 2.08800584e-02 7.92857766e-01\n",
            "  1.07356871e-03 4.23379600e-01 7.42460638e-02 5.84245566e-03\n",
            "  9.92210627e-01]]\n",
            "Truth : [0 1 1 1 1 1 1 1 0]\n"
          ],
          "name": "stdout"
        },
        {
          "output_type": "display_data",
          "data": {
            "image/png": "[encoded data removed]",
            "text/plain": [
              "<Figure size 432x288 with 1 Axes>"
            ]
          },
          "metadata": {
            "tags": []
          }
        }
      ]
    },
    {
      "cell_type": "markdown",
      "metadata": {
        "id": "AV0Nux10NJmO"
      },
      "source": [
        "# Pour aller plus loin \n",
        "\n",
        "* [Multi-Label Image Classification in TensorFlow 2.0.ipynb](https://github.com/ashrefm/multi-label-soft-f1/blob/master/Multi-Label%20Image%20Classification%20in%20TensorFlow%202.0.ipynb)\n",
        "\n",
        "* [Kaggle API](https://github.com/Kaggle/kaggle-api)"
      ]
    },
    {
      "cell_type": "code",
      "metadata": {
        "id": "gPao5C1IMhhc"
      },
      "source": [
        ""
      ],
      "execution_count": null,
      "outputs": []
    }
  ]
}