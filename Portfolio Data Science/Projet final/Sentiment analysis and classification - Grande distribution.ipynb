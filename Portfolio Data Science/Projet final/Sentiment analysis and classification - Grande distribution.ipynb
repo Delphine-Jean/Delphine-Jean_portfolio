{
 "cells": [
  {
   "cell_type": "code",
   "execution_count": 39,
   "metadata": {},
   "outputs": [
    {
     "ename": "ModuleNotFoundError",
     "evalue": "No module named 'wordcloud'",
     "output_type": "error",
     "traceback": [
      "\u001b[1;31m---------------------------------------------------------------------------\u001b[0m",
      "\u001b[1;31mModuleNotFoundError\u001b[0m                       Traceback (most recent call last)",
      "\u001b[1;32m<ipython-input-39-78860db73dfc>\u001b[0m in \u001b[0;36m<module>\u001b[1;34m\u001b[0m\n\u001b[0;32m      4\u001b[0m \u001b[1;32mimport\u001b[0m \u001b[0mseaborn\u001b[0m \u001b[1;32mas\u001b[0m \u001b[0msns\u001b[0m\u001b[1;33m\u001b[0m\u001b[1;33m\u001b[0m\u001b[0m\n\u001b[0;32m      5\u001b[0m \u001b[1;32mimport\u001b[0m \u001b[0mtime\u001b[0m\u001b[1;33m\u001b[0m\u001b[1;33m\u001b[0m\u001b[0m\n\u001b[1;32m----> 6\u001b[1;33m \u001b[1;32mfrom\u001b[0m \u001b[0mwordcloud\u001b[0m \u001b[1;32mimport\u001b[0m \u001b[0mWordCloud\u001b[0m\u001b[1;33m,\u001b[0m \u001b[0mSTOPWORDS\u001b[0m\u001b[1;33m\u001b[0m\u001b[1;33m\u001b[0m\u001b[0m\n\u001b[0m\u001b[0;32m      7\u001b[0m \u001b[1;32mimport\u001b[0m \u001b[0mmatplotlib\u001b[0m\u001b[1;33m.\u001b[0m\u001b[0mpyplot\u001b[0m \u001b[1;32mas\u001b[0m \u001b[0mplt\u001b[0m\u001b[1;33m\u001b[0m\u001b[1;33m\u001b[0m\u001b[0m\n\u001b[0;32m      8\u001b[0m \u001b[1;32mfrom\u001b[0m \u001b[0mIPython\u001b[0m\u001b[1;33m.\u001b[0m\u001b[0mcore\u001b[0m\u001b[1;33m.\u001b[0m\u001b[0mdisplay\u001b[0m \u001b[1;32mimport\u001b[0m \u001b[0mdisplay\u001b[0m\u001b[1;33m,\u001b[0m \u001b[0mHTML\u001b[0m\u001b[1;33m\u001b[0m\u001b[1;33m\u001b[0m\u001b[0m\n",
      "\u001b[1;31mModuleNotFoundError\u001b[0m: No module named 'wordcloud'"
     ]
    }
   ],
   "source": [
    "import pandas as pd\n",
    "import numpy as np\n",
    "import matplotlib.pyplot as plt\n",
    "import seaborn as sns\n",
    "import time \n",
    "from wordcloud import WordCloud, STOPWORDS\n",
    "import matplotlib.pyplot as plt\n",
    "from IPython.core.display import display, HTML\n",
    "import plotly.graph_objects as go\n",
    "import re\n",
    "# Natural Language Tool Kit \n",
    "import nltk  \n",
    "nltk.download('stopwords') \n",
    "from nltk.corpus import stopwords \n",
    "from nltk.stem.porter import PorterStemmer \n",
    "from collections import Counter\n",
    "import cufflinks as cf\n",
    "cf.go_offline()"
   ]
  },
  {
   "cell_type": "code",
   "execution_count": 8,
   "metadata": {},
   "outputs": [],
   "source": [
    "carrefour = pd.read_csv(\"carrefour_comment.csv\")\n",
    "aldi = pd.read_csv(\"aldi_comment.csv\")\n",
    "casino = pd.read_csv(\"casino_comment.csv\")\n",
    "intermarche = pd.read_csv(\"intermarche_comment.csv\")\n",
    "leclerc = pd.read_csv(\"leclerc_comment.csv\")\n",
    "lidl = pd.read_csv(\"lidl_comment.csv\")"
   ]
  },
  {
   "cell_type": "code",
   "execution_count": 9,
   "metadata": {},
   "outputs": [
    {
     "data": {
      "text/html": [
       "<div>\n",
       "<style scoped>\n",
       "    .dataframe tbody tr th:only-of-type {\n",
       "        vertical-align: middle;\n",
       "    }\n",
       "\n",
       "    .dataframe tbody tr th {\n",
       "        vertical-align: top;\n",
       "    }\n",
       "\n",
       "    .dataframe thead th {\n",
       "        text-align: right;\n",
       "    }\n",
       "</style>\n",
       "<table border=\"1\" class=\"dataframe\">\n",
       "  <thead>\n",
       "    <tr style=\"text-align: right;\">\n",
       "      <th></th>\n",
       "      <th>Title</th>\n",
       "      <th>Content</th>\n",
       "      <th>Date</th>\n",
       "      <th>Rating</th>\n",
       "    </tr>\n",
       "  </thead>\n",
       "  <tbody>\n",
       "    <tr>\n",
       "      <th>0</th>\n",
       "      <td>Bonjour (:</td>\n",
       "      <td>Bonjour, pour parler du Carrefour de Feurs (42...</td>\n",
       "      <td>2020-10-25</td>\n",
       "      <td>medium</td>\n",
       "    </tr>\n",
       "    <tr>\n",
       "      <th>1</th>\n",
       "      <td>Viande à jeter…</td>\n",
       "      <td>La semaine dernière,j’ai acheté une selle d’ag...</td>\n",
       "      <td>2020-10-24</td>\n",
       "      <td>medium</td>\n",
       "    </tr>\n",
       "    <tr>\n",
       "      <th>2</th>\n",
       "      <td>carrefour france,  petit bleu cremeux en ls</td>\n",
       "      <td>le meilleur bleu en ls qu on puisse trouver es...</td>\n",
       "      <td>2020-10-23</td>\n",
       "      <td>medium</td>\n",
       "    </tr>\n",
       "    <tr>\n",
       "      <th>3</th>\n",
       "      <td>Carrefour Les Portes en Ré à éviter</td>\n",
       "      <td>Carrefour Les Portes en Ré en constante ruptur...</td>\n",
       "      <td>2020-10-23</td>\n",
       "      <td>medium</td>\n",
       "    </tr>\n",
       "    <tr>\n",
       "      <th>4</th>\n",
       "      <td>Carrefour drive et cagnotte pas reversé sur ma...</td>\n",
       "      <td>J'ai fait un gros achat en septembre sur le dr...</td>\n",
       "      <td>2020-10-23</td>\n",
       "      <td>medium</td>\n",
       "    </tr>\n",
       "  </tbody>\n",
       "</table>\n",
       "</div>"
      ],
      "text/plain": [
       "                                               Title  \\\n",
       "0                                         Bonjour (:   \n",
       "1                                    Viande à jeter…   \n",
       "2        carrefour france,  petit bleu cremeux en ls   \n",
       "3                Carrefour Les Portes en Ré à éviter   \n",
       "4  Carrefour drive et cagnotte pas reversé sur ma...   \n",
       "\n",
       "                                             Content        Date  Rating  \n",
       "0  Bonjour, pour parler du Carrefour de Feurs (42...  2020-10-25  medium  \n",
       "1  La semaine dernière,j’ai acheté une selle d’ag...  2020-10-24  medium  \n",
       "2  le meilleur bleu en ls qu on puisse trouver es...  2020-10-23  medium  \n",
       "3  Carrefour Les Portes en Ré en constante ruptur...  2020-10-23  medium  \n",
       "4  J'ai fait un gros achat en septembre sur le dr...  2020-10-23  medium  "
      ]
     },
     "execution_count": 9,
     "metadata": {},
     "output_type": "execute_result"
    }
   ],
   "source": [
    "carrefour.head()"
   ]
  },
  {
   "cell_type": "code",
   "execution_count": 13,
   "metadata": {},
   "outputs": [
    {
     "data": {
      "text/html": [
       "<div>\n",
       "<style scoped>\n",
       "    .dataframe tbody tr th:only-of-type {\n",
       "        vertical-align: middle;\n",
       "    }\n",
       "\n",
       "    .dataframe tbody tr th {\n",
       "        vertical-align: top;\n",
       "    }\n",
       "\n",
       "    .dataframe thead th {\n",
       "        text-align: right;\n",
       "    }\n",
       "</style>\n",
       "<table border=\"1\" class=\"dataframe\">\n",
       "  <thead>\n",
       "    <tr style=\"text-align: right;\">\n",
       "      <th></th>\n",
       "      <th>Title</th>\n",
       "      <th>Content</th>\n",
       "      <th>Date</th>\n",
       "      <th>Rating</th>\n",
       "      <th>Enseigne</th>\n",
       "    </tr>\n",
       "  </thead>\n",
       "  <tbody>\n",
       "    <tr>\n",
       "      <th>0</th>\n",
       "      <td>Bonjour (:</td>\n",
       "      <td>Bonjour, pour parler du Carrefour de Feurs (42...</td>\n",
       "      <td>2020-10-25</td>\n",
       "      <td>medium</td>\n",
       "      <td>Carrefour</td>\n",
       "    </tr>\n",
       "    <tr>\n",
       "      <th>1</th>\n",
       "      <td>Viande à jeter…</td>\n",
       "      <td>La semaine dernière,j’ai acheté une selle d’ag...</td>\n",
       "      <td>2020-10-24</td>\n",
       "      <td>medium</td>\n",
       "      <td>Carrefour</td>\n",
       "    </tr>\n",
       "    <tr>\n",
       "      <th>2</th>\n",
       "      <td>carrefour france,  petit bleu cremeux en ls</td>\n",
       "      <td>le meilleur bleu en ls qu on puisse trouver es...</td>\n",
       "      <td>2020-10-23</td>\n",
       "      <td>medium</td>\n",
       "      <td>Carrefour</td>\n",
       "    </tr>\n",
       "    <tr>\n",
       "      <th>3</th>\n",
       "      <td>Carrefour Les Portes en Ré à éviter</td>\n",
       "      <td>Carrefour Les Portes en Ré en constante ruptur...</td>\n",
       "      <td>2020-10-23</td>\n",
       "      <td>medium</td>\n",
       "      <td>Carrefour</td>\n",
       "    </tr>\n",
       "    <tr>\n",
       "      <th>4</th>\n",
       "      <td>Carrefour drive et cagnotte pas reversé sur ma...</td>\n",
       "      <td>J'ai fait un gros achat en septembre sur le dr...</td>\n",
       "      <td>2020-10-23</td>\n",
       "      <td>medium</td>\n",
       "      <td>Carrefour</td>\n",
       "    </tr>\n",
       "  </tbody>\n",
       "</table>\n",
       "</div>"
      ],
      "text/plain": [
       "                                               Title  \\\n",
       "0                                         Bonjour (:   \n",
       "1                                    Viande à jeter…   \n",
       "2        carrefour france,  petit bleu cremeux en ls   \n",
       "3                Carrefour Les Portes en Ré à éviter   \n",
       "4  Carrefour drive et cagnotte pas reversé sur ma...   \n",
       "\n",
       "                                             Content        Date  Rating  \\\n",
       "0  Bonjour, pour parler du Carrefour de Feurs (42...  2020-10-25  medium   \n",
       "1  La semaine dernière,j’ai acheté une selle d’ag...  2020-10-24  medium   \n",
       "2  le meilleur bleu en ls qu on puisse trouver es...  2020-10-23  medium   \n",
       "3  Carrefour Les Portes en Ré en constante ruptur...  2020-10-23  medium   \n",
       "4  J'ai fait un gros achat en septembre sur le dr...  2020-10-23  medium   \n",
       "\n",
       "    Enseigne  \n",
       "0  Carrefour  \n",
       "1  Carrefour  \n",
       "2  Carrefour  \n",
       "3  Carrefour  \n",
       "4  Carrefour  "
      ]
     },
     "execution_count": 13,
     "metadata": {},
     "output_type": "execute_result"
    }
   ],
   "source": [
    "carrefour['Enseigne'] = 'Carrefour'\n",
    "aldi['Enseigne'] = 'Aldi'\n",
    "casino['Enseigne'] = 'Casino'\n",
    "intermarche['Enseigne'] = 'Intermarché'\n",
    "leclerc['Enseigne'] = 'Leclerc'\n",
    "lidl['Enseigne'] = 'Lidl'\n",
    "\n",
    "carrefour.head()"
   ]
  },
  {
   "cell_type": "code",
   "execution_count": 14,
   "metadata": {},
   "outputs": [],
   "source": [
    "frames = [carrefour,aldi,casino,intermarche,leclerc,lidl]\n",
    "\n",
    "merged_df = pd.concat(frames)"
   ]
  },
  {
   "cell_type": "code",
   "execution_count": 16,
   "metadata": {},
   "outputs": [
    {
     "data": {
      "text/html": [
       "<div>\n",
       "<style scoped>\n",
       "    .dataframe tbody tr th:only-of-type {\n",
       "        vertical-align: middle;\n",
       "    }\n",
       "\n",
       "    .dataframe tbody tr th {\n",
       "        vertical-align: top;\n",
       "    }\n",
       "\n",
       "    .dataframe thead th {\n",
       "        text-align: right;\n",
       "    }\n",
       "</style>\n",
       "<table border=\"1\" class=\"dataframe\">\n",
       "  <thead>\n",
       "    <tr style=\"text-align: right;\">\n",
       "      <th></th>\n",
       "      <th>Title</th>\n",
       "      <th>Content</th>\n",
       "      <th>Date</th>\n",
       "      <th>Rating</th>\n",
       "      <th>Enseigne</th>\n",
       "    </tr>\n",
       "  </thead>\n",
       "  <tbody>\n",
       "    <tr>\n",
       "      <th>count</th>\n",
       "      <td>240</td>\n",
       "      <td>240</td>\n",
       "      <td>240</td>\n",
       "      <td>240</td>\n",
       "      <td>240</td>\n",
       "    </tr>\n",
       "    <tr>\n",
       "      <th>unique</th>\n",
       "      <td>239</td>\n",
       "      <td>240</td>\n",
       "      <td>96</td>\n",
       "      <td>1</td>\n",
       "      <td>6</td>\n",
       "    </tr>\n",
       "    <tr>\n",
       "      <th>top</th>\n",
       "      <td>Bonjour</td>\n",
       "      <td>Intermarché Cessole Nice . Ce magasin particip...</td>\n",
       "      <td>2020-10-23</td>\n",
       "      <td>medium</td>\n",
       "      <td>Aldi</td>\n",
       "    </tr>\n",
       "    <tr>\n",
       "      <th>freq</th>\n",
       "      <td>2</td>\n",
       "      <td>1</td>\n",
       "      <td>10</td>\n",
       "      <td>240</td>\n",
       "      <td>40</td>\n",
       "    </tr>\n",
       "  </tbody>\n",
       "</table>\n",
       "</div>"
      ],
      "text/plain": [
       "          Title                                            Content  \\\n",
       "count       240                                                240   \n",
       "unique      239                                                240   \n",
       "top     Bonjour  Intermarché Cessole Nice . Ce magasin particip...   \n",
       "freq          2                                                  1   \n",
       "\n",
       "              Date  Rating Enseigne  \n",
       "count          240     240      240  \n",
       "unique          96       1        6  \n",
       "top     2020-10-23  medium     Aldi  \n",
       "freq            10     240       40  "
      ]
     },
     "execution_count": 16,
     "metadata": {},
     "output_type": "execute_result"
    }
   ],
   "source": [
    "merged_df.describe()"
   ]
  },
  {
   "cell_type": "code",
   "execution_count": 17,
   "metadata": {},
   "outputs": [
    {
     "name": "stdout",
     "output_type": "stream",
     "text": [
      "<class 'pandas.core.frame.DataFrame'>\n",
      "Int64Index: 240 entries, 0 to 39\n",
      "Data columns (total 5 columns):\n",
      "Title       240 non-null object\n",
      "Content     240 non-null object\n",
      "Date        240 non-null object\n",
      "Rating      240 non-null object\n",
      "Enseigne    240 non-null object\n",
      "dtypes: object(5)\n",
      "memory usage: 11.2+ KB\n"
     ]
    }
   ],
   "source": [
    "merged_df.info()"
   ]
  },
  {
   "cell_type": "code",
   "execution_count": 18,
   "metadata": {},
   "outputs": [
    {
     "data": {
      "text/html": [
       "<div>\n",
       "<style scoped>\n",
       "    .dataframe tbody tr th:only-of-type {\n",
       "        vertical-align: middle;\n",
       "    }\n",
       "\n",
       "    .dataframe tbody tr th {\n",
       "        vertical-align: top;\n",
       "    }\n",
       "\n",
       "    .dataframe thead th {\n",
       "        text-align: right;\n",
       "    }\n",
       "</style>\n",
       "<table border=\"1\" class=\"dataframe\">\n",
       "  <thead>\n",
       "    <tr style=\"text-align: right;\">\n",
       "      <th></th>\n",
       "      <th>Title</th>\n",
       "      <th>Content</th>\n",
       "      <th>Date</th>\n",
       "      <th>Rating</th>\n",
       "      <th>Enseigne</th>\n",
       "    </tr>\n",
       "  </thead>\n",
       "  <tbody>\n",
       "    <tr>\n",
       "      <th>0</th>\n",
       "      <td>Bonjour (:</td>\n",
       "      <td>Bonjour, pour parler du Carrefour de Feurs (42...</td>\n",
       "      <td>2020-10-25</td>\n",
       "      <td>medium</td>\n",
       "      <td>Carrefour</td>\n",
       "    </tr>\n",
       "    <tr>\n",
       "      <th>1</th>\n",
       "      <td>Viande à jeter…</td>\n",
       "      <td>La semaine dernière,j’ai acheté une selle d’ag...</td>\n",
       "      <td>2020-10-24</td>\n",
       "      <td>medium</td>\n",
       "      <td>Carrefour</td>\n",
       "    </tr>\n",
       "    <tr>\n",
       "      <th>2</th>\n",
       "      <td>carrefour france,  petit bleu cremeux en ls</td>\n",
       "      <td>le meilleur bleu en ls qu on puisse trouver es...</td>\n",
       "      <td>2020-10-23</td>\n",
       "      <td>medium</td>\n",
       "      <td>Carrefour</td>\n",
       "    </tr>\n",
       "    <tr>\n",
       "      <th>3</th>\n",
       "      <td>Carrefour Les Portes en Ré à éviter</td>\n",
       "      <td>Carrefour Les Portes en Ré en constante ruptur...</td>\n",
       "      <td>2020-10-23</td>\n",
       "      <td>medium</td>\n",
       "      <td>Carrefour</td>\n",
       "    </tr>\n",
       "    <tr>\n",
       "      <th>4</th>\n",
       "      <td>Carrefour drive et cagnotte pas reversé sur ma...</td>\n",
       "      <td>J'ai fait un gros achat en septembre sur le dr...</td>\n",
       "      <td>2020-10-23</td>\n",
       "      <td>medium</td>\n",
       "      <td>Carrefour</td>\n",
       "    </tr>\n",
       "  </tbody>\n",
       "</table>\n",
       "</div>"
      ],
      "text/plain": [
       "                                               Title  \\\n",
       "0                                         Bonjour (:   \n",
       "1                                    Viande à jeter…   \n",
       "2        carrefour france,  petit bleu cremeux en ls   \n",
       "3                Carrefour Les Portes en Ré à éviter   \n",
       "4  Carrefour drive et cagnotte pas reversé sur ma...   \n",
       "\n",
       "                                             Content        Date  Rating  \\\n",
       "0  Bonjour, pour parler du Carrefour de Feurs (42...  2020-10-25  medium   \n",
       "1  La semaine dernière,j’ai acheté une selle d’ag...  2020-10-24  medium   \n",
       "2  le meilleur bleu en ls qu on puisse trouver es...  2020-10-23  medium   \n",
       "3  Carrefour Les Portes en Ré en constante ruptur...  2020-10-23  medium   \n",
       "4  J'ai fait un gros achat en septembre sur le dr...  2020-10-23  medium   \n",
       "\n",
       "    Enseigne  \n",
       "0  Carrefour  \n",
       "1  Carrefour  \n",
       "2  Carrefour  \n",
       "3  Carrefour  \n",
       "4  Carrefour  "
      ]
     },
     "execution_count": 18,
     "metadata": {},
     "output_type": "execute_result"
    }
   ],
   "source": [
    "merged_df.head()"
   ]
  },
  {
   "cell_type": "code",
   "execution_count": 28,
   "metadata": {},
   "outputs": [],
   "source": [
    "train = merged_df.iloc[0:190,:]\n",
    "test = merged_df.iloc[190:240,:]"
   ]
  },
  {
   "cell_type": "code",
   "execution_count": 29,
   "metadata": {},
   "outputs": [
    {
     "data": {
      "text/plain": [
       "(190, 5)"
      ]
     },
     "execution_count": 29,
     "metadata": {},
     "output_type": "execute_result"
    }
   ],
   "source": [
    "train.shape"
   ]
  },
  {
   "cell_type": "code",
   "execution_count": 30,
   "metadata": {},
   "outputs": [
    {
     "data": {
      "text/plain": [
       "(50, 5)"
      ]
     },
     "execution_count": 30,
     "metadata": {},
     "output_type": "execute_result"
    }
   ],
   "source": [
    "test.shape"
   ]
  },
  {
   "cell_type": "code",
   "execution_count": 38,
   "metadata": {},
   "outputs": [
    {
     "ename": "AttributeError",
     "evalue": "'DataFrame' object has no attribute 'keyword'",
     "output_type": "error",
     "traceback": [
      "\u001b[1;31m---------------------------------------------------------------------------\u001b[0m",
      "\u001b[1;31mAttributeError\u001b[0m                            Traceback (most recent call last)",
      "\u001b[1;32m<ipython-input-38-b9c1f70f95dc>\u001b[0m in \u001b[0;36m<module>\u001b[1;34m\u001b[0m\n\u001b[1;32m----> 1\u001b[1;33m \u001b[0mtrain\u001b[0m\u001b[1;33m.\u001b[0m\u001b[0mkeyword\u001b[0m\u001b[1;33m.\u001b[0m\u001b[0mvalue_counts\u001b[0m\u001b[1;33m(\u001b[0m\u001b[1;33m)\u001b[0m\u001b[1;33m[\u001b[0m\u001b[1;33m:\u001b[0m\u001b[1;36m20\u001b[0m\u001b[1;33m]\u001b[0m\u001b[1;33m.\u001b[0m\u001b[0miplot\u001b[0m\u001b[1;33m(\u001b[0m\u001b[0mkind\u001b[0m\u001b[1;33m=\u001b[0m\u001b[1;34m'bar'\u001b[0m\u001b[1;33m,\u001b[0m \u001b[0mtitle\u001b[0m\u001b[1;33m=\u001b[0m\u001b[1;34m'Top 20 keywords in text'\u001b[0m\u001b[1;33m,\u001b[0m \u001b[0mcolor\u001b[0m\u001b[1;33m=\u001b[0m\u001b[1;34m'red'\u001b[0m\u001b[1;33m)\u001b[0m\u001b[1;33m\u001b[0m\u001b[1;33m\u001b[0m\u001b[0m\n\u001b[0m",
      "\u001b[1;32m~\\Anaconda3\\lib\\site-packages\\pandas\\core\\generic.py\u001b[0m in \u001b[0;36m__getattr__\u001b[1;34m(self, name)\u001b[0m\n\u001b[0;32m   5065\u001b[0m             \u001b[1;32mif\u001b[0m \u001b[0mself\u001b[0m\u001b[1;33m.\u001b[0m\u001b[0m_info_axis\u001b[0m\u001b[1;33m.\u001b[0m\u001b[0m_can_hold_identifiers_and_holds_name\u001b[0m\u001b[1;33m(\u001b[0m\u001b[0mname\u001b[0m\u001b[1;33m)\u001b[0m\u001b[1;33m:\u001b[0m\u001b[1;33m\u001b[0m\u001b[1;33m\u001b[0m\u001b[0m\n\u001b[0;32m   5066\u001b[0m                 \u001b[1;32mreturn\u001b[0m \u001b[0mself\u001b[0m\u001b[1;33m[\u001b[0m\u001b[0mname\u001b[0m\u001b[1;33m]\u001b[0m\u001b[1;33m\u001b[0m\u001b[1;33m\u001b[0m\u001b[0m\n\u001b[1;32m-> 5067\u001b[1;33m             \u001b[1;32mreturn\u001b[0m \u001b[0mobject\u001b[0m\u001b[1;33m.\u001b[0m\u001b[0m__getattribute__\u001b[0m\u001b[1;33m(\u001b[0m\u001b[0mself\u001b[0m\u001b[1;33m,\u001b[0m \u001b[0mname\u001b[0m\u001b[1;33m)\u001b[0m\u001b[1;33m\u001b[0m\u001b[1;33m\u001b[0m\u001b[0m\n\u001b[0m\u001b[0;32m   5068\u001b[0m \u001b[1;33m\u001b[0m\u001b[0m\n\u001b[0;32m   5069\u001b[0m     \u001b[1;32mdef\u001b[0m \u001b[0m__setattr__\u001b[0m\u001b[1;33m(\u001b[0m\u001b[0mself\u001b[0m\u001b[1;33m,\u001b[0m \u001b[0mname\u001b[0m\u001b[1;33m,\u001b[0m \u001b[0mvalue\u001b[0m\u001b[1;33m)\u001b[0m\u001b[1;33m:\u001b[0m\u001b[1;33m\u001b[0m\u001b[1;33m\u001b[0m\u001b[0m\n",
      "\u001b[1;31mAttributeError\u001b[0m: 'DataFrame' object has no attribute 'keyword'"
     ]
    }
   ],
   "source": [
    "train.keyword.value_counts()[:20].iplot(kind='bar', title='Top 20 keywords in text', color='red')"
   ]
  },
  {
   "cell_type": "code",
   "execution_count": null,
   "metadata": {},
   "outputs": [],
   "source": []
  }
 ],
 "metadata": {
  "kernelspec": {
   "display_name": "Python 3",
   "language": "python",
   "name": "python3"
  },
  "language_info": {
   "codemirror_mode": {
    "name": "ipython",
    "version": 3
   },
   "file_extension": ".py",
   "mimetype": "text/x-python",
   "name": "python",
   "nbconvert_exporter": "python",
   "pygments_lexer": "ipython3",
   "version": "3.7.3"
  }
 },
 "nbformat": 4,
 "nbformat_minor": 2
}
