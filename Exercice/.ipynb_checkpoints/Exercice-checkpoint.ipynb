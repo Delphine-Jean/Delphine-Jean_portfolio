{
 "cells": [
  {
   "cell_type": "markdown",
   "metadata": {},
   "source": [
    "### Exercice "
   ]
  },
  {
   "cell_type": "code",
   "execution_count": 19,
   "metadata": {},
   "outputs": [
    {
     "name": "stdin",
     "output_type": "stream",
     "text": [
      "Combien de coupe de monde la France à t'elle gagné 2\n"
     ]
    }
   ],
   "source": [
    "question = input('Combien de coupe de monde la France à t\\'elle gagné' )"
   ]
  },
  {
   "cell_type": "code",
   "execution_count": 17,
   "metadata": {},
   "outputs": [
    {
     "name": "stdout",
     "output_type": "stream",
     "text": [
      "No\n"
     ]
    }
   ],
   "source": [
    "if question == 3:\n",
    "    print('Yes')\n",
    "elif question !=3:\n",
    "    print('No\n",
    "          \n",
    "          ')"
   ]
  },
  {
   "cell_type": "code",
   "execution_count": 3,
   "metadata": {},
   "outputs": [
    {
     "name": "stdout",
     "output_type": "stream",
     "text": [
      "Quel est le langage le plus utilisé en data science ?JS\n",
      "Faux - Quel est le langage le plus utilisé en data science ?Python\n",
      "Bonne réponse\n"
     ]
    }
   ],
   "source": [
    "question = input('Quel est le langage le plus utilisé en data science ?')\n",
    "i = question\n",
    "while question != 'Python':\n",
    "  question = input('Faux - Quel est le langage le plus utilisé en data science ?')\n",
    "  if question == 'Python':\n",
    "    print('Bonne réponse')"
   ]
  },
  {
   "cell_type": "markdown",
   "metadata": {},
   "source": [
    "### Voici notre quiz\n",
    "Combien de fois la France a gagné la coupe du monde ?4\n",
    "Dommage, ce n’est pas la bonne réponse\n",
    "Quand a été fondé Apple ?1980\n",
    "Dommage, ce n’est pas la bonne réponse\n",
    "Qui a fondé SpaceXelon musk\n",
    "Bravo, c’est la bonne réponse"
   ]
  },
  {
   "cell_type": "code",
   "execution_count": 3,
   "metadata": {},
   "outputs": [],
   "source": [
    "question1 = 'Combien de fois la France a gagné la coupe du monde ?'\n",
    "question2 = 'Quand a été fondé Apple ?'\n",
    "question3 = 'Qui a fondé SpaceX'"
   ]
  },
  {
   "cell_type": "code",
   "execution_count": null,
   "metadata": {},
   "outputs": [
    {
     "name": "stdout",
     "output_type": "stream",
     "text": [
      "Combien de fois la France a gagné la coupe du monde ?3\n",
      "Combien de fois la France a gagné la coupe du monde ?4\n"
     ]
    }
   ],
   "source": [
    "answer = int(input(question1))\n",
    "while answer != 4 :\n",
    "  answer = int(input(question1))\n",
    "  if answer == 4:\n",
    "        answer = int(input(question2))\n",
    "        while answer != 1980:\n",
    "            answer = int(input(question2))\n",
    "            if answer == 1980:\n",
    "            print('Yes')\n",
    "            "
   ]
  },
  {
   "cell_type": "code",
   "execution_count": 4,
   "metadata": {},
   "outputs": [
    {
     "name": "stdout",
     "output_type": "stream",
     "text": [
      "Voici notre quiz\n",
      "Combien de fois la France a t'elle gagné la Coupe de France ?2\n",
      "Bravo\n",
      "Quand a été fondé Apple1976\n",
      "Yes\n",
      "Qui a fondé SpaceX?Elon Musk\n",
      "Yes\n"
     ]
    }
   ],
   "source": [
    "print ('Voici notre quiz')\n",
    "\n",
    "question1 = input('Combien de fois la France a t\\'elle gagné la Coupe de France ?')\n",
    "\n",
    "if question1 != '2':\n",
    "    print('Dommage')\n",
    "else:\n",
    "    print('Bravo')\n",
    "    \n",
    "    question2= input('Quand a été fondé Apple')\n",
    "    \n",
    "    if question2 != \"1976\":\n",
    "        print('Dommage')\n",
    "    else:\n",
    "        print('Yes')\n",
    "        \n",
    "    question3 = input('Qui a fondé SpaceX?')\n",
    "    question3 = question3.lower()\n",
    "    \n",
    "    if question3 != \"elon musk\":\n",
    "        print('Dommage')\n",
    "    else:\n",
    "        print('Yes')"
   ]
  },
  {
   "cell_type": "code",
   "execution_count": null,
   "metadata": {},
   "outputs": [],
   "source": [
    "print ('Voici notre quiz')\n",
    "\n",
    "question1 = input('Combien de fois la France a t\\'elle gagné la Coupe de France ?')\n",
    "\n",
    "while question1 != '2':\n",
    "    print('Faux')\n",
    "    question1 = input('Combien de fois la France a t\\'elle gagné la Coupe de France ?')\n",
    "    \n",
    "question2 = input('Quand a été fondé Apple')\n",
    "while question2 != \"1976\":\n",
    "    print('Faux')\n",
    "    question2 = input('Quand a été fondé Apple')\n",
    "\n",
    "    "
   ]
  },
  {
   "cell_type": "code",
   "execution_count": null,
   "metadata": {},
   "outputs": [],
   "source": []
  }
 ],
 "metadata": {
  "kernelspec": {
   "display_name": "Python 3",
   "language": "python",
   "name": "python3"
  },
  "language_info": {
   "codemirror_mode": {
    "name": "ipython",
    "version": 3
   },
   "file_extension": ".py",
   "mimetype": "text/x-python",
   "name": "python",
   "nbconvert_exporter": "python",
   "pygments_lexer": "ipython3",
   "version": "3.7.3"
  }
 },
 "nbformat": 4,
 "nbformat_minor": 2
}
