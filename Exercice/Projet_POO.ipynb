{
 "cells": [
  {
   "cell_type": "markdown",
   "metadata": {},
   "source": [
    "Imputer\n",
    "En Data Science, il arrive souvent qu’il y ait des valeurs manquantes dans un dataset. Voyons comment on peut créer une classe qui va nous permettre de remplacer cette valeur manquante par la moyenne des valeurs de la liste\n",
    "\n",
    "Créez une classe qu’on appellera Imputer\n",
    "Pour simplifier l’exercice, on ne traitera qu’avec des listes pour l’instant\n",
    "Notre classe prendra un attribut qu’on appellera liste\n",
    "Créez une fonction avg() qui d’abord retirera la valeur manquante puis la remplacera par la moyenne de la liste"
   ]
  },
  {
   "cell_type": "code",
   "execution_count": null,
   "metadata": {},
   "outputs": [],
   "source": [
    "class Imputer:\n",
    "    list = [[None, 2, 4, 6, None]]\n",
    "    \n",
    "    def avg():\n",
    "        for None in range list[]:\n",
    "            \n",
    "        "
   ]
  }
 ],
 "metadata": {
  "kernelspec": {
   "display_name": "Python 3",
   "language": "python",
   "name": "python3"
  },
  "language_info": {
   "codemirror_mode": {
    "name": "ipython",
    "version": 3
   },
   "file_extension": ".py",
   "mimetype": "text/x-python",
   "name": "python",
   "nbconvert_exporter": "python",
   "pygments_lexer": "ipython3",
   "version": "3.7.3"
  }
 },
 "nbformat": 4,
 "nbformat_minor": 2
}
