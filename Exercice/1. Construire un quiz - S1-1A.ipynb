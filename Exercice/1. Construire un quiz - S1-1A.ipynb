<!doctype html>
<html>
  <head>
    
      <title>JULIE</title>
      <meta name="viewport" content="width=device-width, initial-scale=1">
      <link rel="stylesheet" href="https://stackpath.bootstrapcdn.com/bootstrap/4.3.1/css/bootstrap.min.css" integrity="sha384-ggOyR0iXCbMQv3Xipma34MD+dH/1fQ784/j6cY/iJTQUOhcWr7x9JvoRxT2MZw1T" crossorigin="anonymous">
      <script src="https://kit.fontawesome.com/a8503f7e92.js" crossorigin="anonymous"></script>
      <script src="https://code.jquery.com/jquery-3.3.1.slim.min.js" integrity="sha384-q8i/X+965DzO0rT7abK41JStQIAqVgRVzpbzo5smXKp4YfRvH+8abtTE1Pi6jizo" crossorigin="anonymous"></script>
      <script src="https://cdnjs.cloudflare.com/ajax/libs/popper.js/1.14.7/umd/popper.min.js" integrity="sha384-UO2eT0CpHqdSJQ6hJty5KVphtPhzWj9WO1clHTMGa3JDZwrnQq4sF86dIHNDz0W1" crossorigin="anonymous"></script>
      <script src="https://stackpath.bootstrapcdn.com/bootstrap/4.3.1/js/bootstrap.min.js" integrity="sha384-JjSmVgyd0p3pXB1rRibZUAYoIIy6OrQ6VrjIEaFf/nJGzIxFDsf4x0xIM+B07jRM" crossorigin="anonymous"></script>
      <link href="https://fonts.googleapis.com/css?family=Lato:400,400i,700,900" rel="stylesheet">
      <link rel="stylesheet" href="/static/style.css">
      <link rel="stylesheet" href="/static/notebooks.css">
    
  </head>
  <body>
    <nav class="navbar sticky-top navbar-expand-lg navbar-light pt-0 pb-0">
        <a class="navbar-brand p-0" href=/>
          <img class="nav-img" src="https://drive.google.com/uc?export=view&id=137l7MII4Sk-Xizbkwq-h9CcJiE_f47Gm" style="width:5rem;">
        </a>
        <button id="nav-toggler" class="navbar-toggler" type="button" data-toggle="collapse" data-target="#navbarNav" aria-controls="navbarNav" aria-expanded="false" aria-label="Toggle navigation">
          <span class="navbar-toggler-icon"></span>
        </button>
        <div class="collapse navbar-collapse justify-content-between" id="navbarNav">
          <div>
            <ul class="navbar-nav align-items-end">
              <li class="nav-item">
                <a class="nav-link" href=/>Courses</a>
              </li>
              <li class="nav-item">
                <a class="nav-link" href=/events>Events</a>
              </li>
              <li class="nav-item">
                <a class="nav-link" href=/alumni>Alumni</a>
              </li>
              
                <li class="nav-item">
                  <a class="nav-link"  href=/workspaces tabindex="-1" aria-disabled="true">Workspace</a>
                </li>
              
              <li class="nav-item">
                <a class="nav-link" href="https://jedhabootcamp.slack.com/" target="_blank" tabindex="-1" aria-disabled="true">Slack</a>
              </li>
            </ul>
          </div>
          <div>
            <ul class="collapse navbar-collapse navbar-nav align-items-end", id="navbarNav">
              
              <li class="nav-item">
                <a class="nav-link" href=/user/sign-out>Logout</a>
              </li>
              
              <li class="nav-item">
                <a class="nav-link" href=/my_profile>Profile</a>
              </li>
            </ul>
          </div>
        </div>
      </nav>
      <div class="content col-md-10 mt-5">
        
<div style="display:none;">
  
        <div class="p-1 submenu-wrapper col-8 col-md-4">        
            <ul class="m-1 p-0 d-flex flex-row justify-content-between align-items-center">       
              <li class="nav-item list-unstyled">
                <a class="submenu-btn submenu-active-btn text-white p-2" href=/>Data Degrees</a>
              </li>
              <li class="nav-item list-unstyled">
                  <a class="submenu-btn submenu-inactive-btn p-2" href=/tracks>Tracks</a>
              </li>
              <li class="nav-item list-unstyled">
                  <a class="submenu-btn submenu-inactive-btn p-2" href=/library>Library</a>
              </li>
            </ul>
        </div>
        
</div>


        <div class="subtitle-wrapper mt-5">
          <h1 class="subtitle"> Jedha full stack </h1>
        </div>
          

<div class="course-summary-wrapper">
  <ul class="p-0 mt-4">
    <button class="btn m-0 p-0 col-12" data-toggle="collapse" data-target="#summary" role="button" aria-expanded="false" aria-controls="summary">
      <span class="pl-5 pr-5 pt-3 pb-3 d-flex flex-row justify-content-between parent-folder">
      <span>jedha-full-stack-24-program</span>
      <i class="fas fa-sort-down"></i>
      </span>
    </button>
  </ul>
  <ul class="collapse" id="summary">
    
    
        
          
          <ul class="p-2">
            <li class="m-2 list-unstyled"><span class="far fa-file mr-1"></span>
                <a class="course-file" href=/courses/jedha-full-stack-24-program/.gitignore>.gitignore</a>
            </li>
          </ul>
        
    
    
        
          
          <ul class="p-2">
            <li class="m-2 list-unstyled"><span class="far fa-file mr-1"></span>
                <a class="course-file" href=/courses/jedha-full-stack-24-program/README.md>README.md</a>
            </li>
          </ul>
        
    
    
        
          <ul class="p-0 mt-4">
            <button class="btn m-0 p-0 col-12" data-toggle="collapse" data-target="#course_s01--fondamentauxdepython" role="button" aria-expanded="false" aria-controls="course_s01--fondamentauxdepython">
              
                <span class="pl-5 pr-5 pt-3 pb-3 d-flex flex-row justify-content-between child-folders">
              
                <span>S0.1 -- Fondamentaux de Python</span>
                <i class="fas fa-sort-down"></i>
              </span>
            </button>
          </ul>
          <ul class ="collapse" id="course_s01--fondamentauxdepython"> 
    
        
          <ul class="p-0 mt-4">
            <button class="btn m-0 p-0 col-12" data-toggle="collapse" data-target="#course_s1-a-conditionsboucles" role="button" aria-expanded="false" aria-controls="course_s1-a-conditionsboucles">
              
                <span class="pl-5 pr-5 pt-3 pb-3 d-flex flex-row justify-content-between parent-folder">
              
                <span>S1-A - Conditions &amp; Boucles</span>
                <i class="fas fa-sort-down"></i>
              </span>
            </button>
          </ul>
          <ul class ="collapse" id="course_s1-a-conditionsboucles"> 
    
        
          <ul class="p-0 mt-4">
            <button class="btn m-0 p-0 col-12" data-toggle="collapse" data-target="#course_2exercices" role="button" aria-expanded="false" aria-controls="course_2exercices">
              
                <span class="pl-5 pr-5 pt-3 pb-3 d-flex flex-row justify-content-between parent-folder">
              
                <span>2. Exercices</span>
                <i class="fas fa-sort-down"></i>
              </span>
            </button>
          </ul>
          <ul class ="collapse" id="course_2exercices"> 
    
        
          
          <ul class="p-2">
            <li class="m-2 list-unstyled"><span class="far fa-file mr-1"></span>
                <a class="course-file" href=/courses/jedha-full-stack-24-program/S0.1%20--%20Fondamentaux%20de%20Python/S1-A%20-%20Conditions%20%26%20Boucles/2.%20Exercices/1.%20Construire%20un%20quiz%20-%20S1-1A.ipynb>1. Construire un quiz - S1-1A.ipynb</a>
            </li>
          </ul>
        
    
    
        
          
          <ul class="p-2">
            <li class="m-2 list-unstyled"><span class="far fa-file mr-1"></span>
                <a class="course-file" href=/courses/jedha-full-stack-24-program/S0.1%20--%20Fondamentaux%20de%20Python/S1-A%20-%20Conditions%20%26%20Boucles/2.%20Exercices/2.%20Construire%20un%20quiz%20-%20Solutions.md>2. Construire un quiz - Solutions.md</a>
            </li>
          </ul>
        
    </ul>
        
    
    
        
          <ul class="p-0 mt-4">
            <button class="btn m-0 p-0 col-12" data-toggle="collapse" data-target="#course_3projet" role="button" aria-expanded="false" aria-controls="course_3projet">
              
                <span class="pl-5 pr-5 pt-3 pb-3 d-flex flex-row justify-content-between child-folders">
              
                <span>3. Projet</span>
                <i class="fas fa-sort-down"></i>
              </span>
            </button>
          </ul>
          <ul class ="collapse" id="course_3projet"> 
    
        
          
          <ul class="p-2">
            <li class="m-2 list-unstyled"><span class="far fa-file mr-1"></span>
                <a class="course-file" href=/courses/jedha-full-stack-24-program/S0.1%20--%20Fondamentaux%20de%20Python/S1-A%20-%20Conditions%20%26%20Boucles/3.%20Projet/1.%20Raffinons%20notre%20quiz%20-%20Mini%20Projets%20S1-1B.ipynb>1. Raffinons notre quiz - Mini Projets S1-1B.ipynb</a>
            </li>
          </ul>
        
    
    
        
          
          <ul class="p-2">
            <li class="m-2 list-unstyled"><span class="far fa-file mr-1"></span>
                <a class="course-file" href=/courses/jedha-full-stack-24-program/S0.1%20--%20Fondamentaux%20de%20Python/S1-A%20-%20Conditions%20%26%20Boucles/3.%20Projet/2.%20Fondamentaux%20Python%20-%20Solutions%20Projets%20S1-1B.md>2. Fondamentaux Python - Solutions Projets S1-1B.md</a>
            </li>
          </ul>
        
    </ul>
        
    
    
        
          
          <ul class="p-2">
            <li class="m-2 list-unstyled"><span class="far fa-file mr-1"></span>
                <a class="course-file" href=/courses/jedha-full-stack-24-program/S0.1%20--%20Fondamentaux%20de%20Python/S1-A%20-%20Conditions%20%26%20Boucles/README.md>README.md</a>
            </li>
          </ul>
        
    </ul>
        
    
    
        
          <ul class="p-0 mt-4">
            <button class="btn m-0 p-0 col-12" data-toggle="collapse" data-target="#course_s1-b-fonctionspoo" role="button" aria-expanded="false" aria-controls="course_s1-b-fonctionspoo">
              
                <span class="pl-5 pr-5 pt-3 pb-3 d-flex flex-row justify-content-between child-folders">
              
                <span>S1-B - Fonctions &amp; POO</span>
                <i class="fas fa-sort-down"></i>
              </span>
            </button>
          </ul>
          <ul class ="collapse" id="course_s1-b-fonctionspoo"> 
    
        
          <ul class="p-0 mt-4">
            <button class="btn m-0 p-0 col-12" data-toggle="collapse" data-target="#course_1fonctions" role="button" aria-expanded="false" aria-controls="course_1fonctions">
              
                <span class="pl-5 pr-5 pt-3 pb-3 d-flex flex-row justify-content-between parent-folder">
              
                <span>1. Fonctions</span>
                <i class="fas fa-sort-down"></i>
              </span>
            </button>
          </ul>
          <ul class ="collapse" id="course_1fonctions"> 
    
        
          <ul class="p-0 mt-4">
            <button class="btn m-0 p-0 col-12" data-toggle="collapse" data-target="#course_2exercices" role="button" aria-expanded="false" aria-controls="course_2exercices">
              
                <span class="pl-5 pr-5 pt-3 pb-3 d-flex flex-row justify-content-between parent-folder">
              
                <span>2. Exercices</span>
                <i class="fas fa-sort-down"></i>
              </span>
            </button>
          </ul>
          <ul class ="collapse" id="course_2exercices"> 
    
        
          
          <ul class="p-2">
            <li class="m-2 list-unstyled"><span class="far fa-file mr-1"></span>
                <a class="course-file" href=/courses/jedha-full-stack-24-program/S0.1%20--%20Fondamentaux%20de%20Python/S1-B%20-%20Fonctions%20%26%20POO/1.%20Fonctions/2.%20Exercices/1.%20Manipuler%20des%20collections%20de%20donn%C3%A9es%20-%20Exercices%20S1-2A.ipynb>1. Manipuler des collections de données - Exercices S1-2A.ipynb</a>
            </li>
          </ul>
        
    
    
        
          
          <ul class="p-2">
            <li class="m-2 list-unstyled"><span class="far fa-file mr-1"></span>
                <a class="course-file" href=/courses/jedha-full-stack-24-program/S0.1%20--%20Fondamentaux%20de%20Python/S1-B%20-%20Fonctions%20%26%20POO/1.%20Fonctions/2.%20Exercices/2.%20Manipuler%20des%20collections%20de%20donn%C3%A9es%20-%20Solutions.md>2. Manipuler des collections de données - Solutions.md</a>
            </li>
          </ul>
        
    </ul>
        
    
    
        
          <ul class="p-0 mt-4">
            <button class="btn m-0 p-0 col-12" data-toggle="collapse" data-target="#course_3projet" role="button" aria-expanded="false" aria-controls="course_3projet">
              
                <span class="pl-5 pr-5 pt-3 pb-3 d-flex flex-row justify-content-between child-folders">
              
                <span>3. Projet</span>
                <i class="fas fa-sort-down"></i>
              </span>
            </button>
          </ul>
          <ul class ="collapse" id="course_3projet"> 
    
        
          
          <ul class="p-2">
            <li class="m-2 list-unstyled"><span class="far fa-file mr-1"></span>
                <a class="course-file" href=/courses/jedha-full-stack-24-program/S0.1%20--%20Fondamentaux%20de%20Python/S1-B%20-%20Fonctions%20%26%20POO/1.%20Fonctions/3.%20Projet/1.%20Fondamentaux%20Python%20Mini%20Projets%20S1-2B.ipynb>1. Fondamentaux Python Mini Projets S1-2B.ipynb</a>
            </li>
          </ul>
        
    
    
        
          
          <ul class="p-2">
            <li class="m-2 list-unstyled"><span class="far fa-file mr-1"></span>
                <a class="course-file" href=/courses/jedha-full-stack-24-program/S0.1%20--%20Fondamentaux%20de%20Python/S1-B%20-%20Fonctions%20%26%20POO/1.%20Fonctions/3.%20Projet/2.%20Fondamentaux%20Python%20-%20Solutions%20S1-2B.md>2. Fondamentaux Python - Solutions S1-2B.md</a>
            </li>
          </ul>
        
    </ul>
        
    
    
        
          
          <ul class="p-2">
            <li class="m-2 list-unstyled"><span class="far fa-file mr-1"></span>
                <a class="course-file" href=/courses/jedha-full-stack-24-program/S0.1%20--%20Fondamentaux%20de%20Python/S1-B%20-%20Fonctions%20%26%20POO/1.%20Fonctions/README.md>README.md</a>
            </li>
          </ul>
        
    </ul>
        
    
    
        
          <ul class="p-0 mt-4">
            <button class="btn m-0 p-0 col-12" data-toggle="collapse" data-target="#course_2programmationorientéeobjets" role="button" aria-expanded="false" aria-controls="course_2programmationorientéeobjets">
              
                <span class="pl-5 pr-5 pt-3 pb-3 d-flex flex-row justify-content-between child-folders">
              
                <span>2. Programmation Orientée Objets</span>
                <i class="fas fa-sort-down"></i>
              </span>
            </button>
          </ul>
          <ul class ="collapse" id="course_2programmationorientéeobjets"> 
    
        
          <ul class="p-0 mt-4">
            <button class="btn m-0 p-0 col-12" data-toggle="collapse" data-target="#course_2exercices" role="button" aria-expanded="false" aria-controls="course_2exercices">
              
                <span class="pl-5 pr-5 pt-3 pb-3 d-flex flex-row justify-content-between parent-folder">
              
                <span>2. Exercices</span>
                <i class="fas fa-sort-down"></i>
              </span>
            </button>
          </ul>
          <ul class ="collapse" id="course_2exercices"> 
    
        
          
          <ul class="p-2">
            <li class="m-2 list-unstyled"><span class="far fa-file mr-1"></span>
                <a class="course-file" href=/courses/jedha-full-stack-24-program/S0.1%20--%20Fondamentaux%20de%20Python/S1-B%20-%20Fonctions%20%26%20POO/2.%20Programmation%20Orient%C3%A9e%20Objets/2.%20Exercices/1.%20Programmation%20Orient%C3%A9e%20Math%C3%A9matiques%20-%20Exercice.ipynb>1. Programmation Orientée Mathématiques - Exercice.ipynb</a>
            </li>
          </ul>
        
    
    
        
          
          <ul class="p-2">
            <li class="m-2 list-unstyled"><span class="far fa-file mr-1"></span>
                <a class="course-file" href=/courses/jedha-full-stack-24-program/S0.1%20--%20Fondamentaux%20de%20Python/S1-B%20-%20Fonctions%20%26%20POO/2.%20Programmation%20Orient%C3%A9e%20Objets/2.%20Exercices/2.%20Programmation%20Orient%C3%A9e%20Math%C3%A9matiques%20-%20Solutions.md>2. Programmation Orientée Mathématiques - Solutions.md</a>
            </li>
          </ul>
        
    </ul>
        
    
    
        
          <ul class="p-0 mt-4">
            <button class="btn m-0 p-0 col-12" data-toggle="collapse" data-target="#course_3projet" role="button" aria-expanded="false" aria-controls="course_3projet">
              
                <span class="pl-5 pr-5 pt-3 pb-3 d-flex flex-row justify-content-between child-folders">
              
                <span>3. Projet</span>
                <i class="fas fa-sort-down"></i>
              </span>
            </button>
          </ul>
          <ul class ="collapse" id="course_3projet"> 
    
        
          
          <ul class="p-2">
            <li class="m-2 list-unstyled"><span class="far fa-file mr-1"></span>
                <a class="course-file" href=/courses/jedha-full-stack-24-program/S0.1%20--%20Fondamentaux%20de%20Python/S1-B%20-%20Fonctions%20%26%20POO/2.%20Programmation%20Orient%C3%A9e%20Objets/3.%20Projet/1.%20Imputer%20-%20Exercice.ipynb>1. Imputer - Exercice.ipynb</a>
            </li>
          </ul>
        
    
    
        
          
          <ul class="p-2">
            <li class="m-2 list-unstyled"><span class="far fa-file mr-1"></span>
                <a class="course-file" href=/courses/jedha-full-stack-24-program/S0.1%20--%20Fondamentaux%20de%20Python/S1-B%20-%20Fonctions%20%26%20POO/2.%20Programmation%20Orient%C3%A9e%20Objets/3.%20Projet/2.%20Imputer%20-%20Solutions.md>2. Imputer - Solutions.md</a>
            </li>
          </ul>
        
    </ul>
        
    
    
        
          
          <ul class="p-2">
            <li class="m-2 list-unstyled"><span class="far fa-file mr-1"></span>
                <a class="course-file" href=/courses/jedha-full-stack-24-program/S0.1%20--%20Fondamentaux%20de%20Python/S1-B%20-%20Fonctions%20%26%20POO/2.%20Programmation%20Orient%C3%A9e%20Objets/README.md>README.md</a>
            </li>
          </ul>
        
    </ul>
        
    </ul>
        
    </ul>
        
    
    
        
          <ul class="p-0 mt-4">
            <button class="btn m-0 p-0 col-12" data-toggle="collapse" data-target="#course_s02--gestiondedatasetsavecpandascollaborationavecgithub" role="button" aria-expanded="false" aria-controls="course_s02--gestiondedatasetsavecpandascollaborationavecgithub">
              
                <span class="pl-5 pr-5 pt-3 pb-3 d-flex flex-row justify-content-between child-folders">
              
                <span>S0.2 -- Gestion de datasets avec Pandas &amp; Collaboration avec Github</span>
                <i class="fas fa-sort-down"></i>
              </span>
            </button>
          </ul>
          <ul class ="collapse" id="course_s02--gestiondedatasetsavecpandascollaborationavecgithub"> 
    
        
          <ul class="p-0 mt-4">
            <button class="btn m-0 p-0 col-12" data-toggle="collapse" data-target="#course_s2-a-gitgithub" role="button" aria-expanded="false" aria-controls="course_s2-a-gitgithub">
              
                <span class="pl-5 pr-5 pt-3 pb-3 d-flex flex-row justify-content-between parent-folder">
              
                <span>S2-A - Git &amp; Github</span>
                <i class="fas fa-sort-down"></i>
              </span>
            </button>
          </ul>
          <ul class ="collapse" id="course_s2-a-gitgithub"> 
    
        
          <ul class="p-0 mt-4">
            <button class="btn m-0 p-0 col-12" data-toggle="collapse" data-target="#course_1notesdecours" role="button" aria-expanded="false" aria-controls="course_1notesdecours">
              
                <span class="pl-5 pr-5 pt-3 pb-3 d-flex flex-row justify-content-between parent-folder">
              
                <span>1. Notes de cours</span>
                <i class="fas fa-sort-down"></i>
              </span>
            </button>
          </ul>
          <ul class ="collapse" id="course_1notesdecours"> 
    
        
          
          <ul class="p-2">
            <li class="m-2 list-unstyled"><span class="far fa-file mr-1"></span>
                <a class="course-file" href=/courses/jedha-full-stack-24-program/S0.2%20--%20Gestion%20de%20datasets%20avec%20Pandas%20%26%20Collaboration%20avec%20Github/S2-A%20-%20Git%20%26%20Github/1.%20Notes%20de%20cours/README.md>README.md</a>
            </li>
          </ul>
        
    
    
        
          <ul class="p-0 mt-4">
            <button class="btn m-0 p-0 col-12" data-toggle="collapse" data-target="#course_welcome_to_jedha" role="button" aria-expanded="false" aria-controls="course_welcome_to_jedha">
              
                <span class="pl-5 pr-5 pt-3 pb-3 d-flex flex-row justify-content-between child-folders">
              
                <span>welcome_to_jedha</span>
                <i class="fas fa-sort-down"></i>
              </span>
            </button>
          </ul>
          <ul class ="collapse" id="course_welcome_to_jedha"> 
    
        
          
          <ul class="p-2">
            <li class="m-2 list-unstyled"><span class="far fa-file mr-1"></span>
                <a class="course-file" href=/courses/jedha-full-stack-24-program/S0.2%20--%20Gestion%20de%20datasets%20avec%20Pandas%20%26%20Collaboration%20avec%20Github/S2-A%20-%20Git%20%26%20Github/1.%20Notes%20de%20cours/welcome_to_jedha/bienvenue.css>bienvenue.css</a>
            </li>
          </ul>
        
    
    
        
          
          <ul class="p-2">
            <li class="m-2 list-unstyled"><span class="far fa-file mr-1"></span>
                <a class="course-file" href=/courses/jedha-full-stack-24-program/S0.2%20--%20Gestion%20de%20datasets%20avec%20Pandas%20%26%20Collaboration%20avec%20Github/S2-A%20-%20Git%20%26%20Github/1.%20Notes%20de%20cours/welcome_to_jedha/bienvenue.html>bienvenue.html</a>
            </li>
          </ul>
        
    
    
        
          
          <ul class="p-2">
            <li class="m-2 list-unstyled"><span class="far fa-file mr-1"></span>
                <a class="course-file" href=/courses/jedha-full-stack-24-program/S0.2%20--%20Gestion%20de%20datasets%20avec%20Pandas%20%26%20Collaboration%20avec%20Github/S2-A%20-%20Git%20%26%20Github/1.%20Notes%20de%20cours/welcome_to_jedha/bienvenue.js>bienvenue.js</a>
            </li>
          </ul>
        
    </ul>
        
    </ul>
        
    
    
        
          <ul class="p-0 mt-4">
            <button class="btn m-0 p-0 col-12" data-toggle="collapse" data-target="#course_2exercices" role="button" aria-expanded="false" aria-controls="course_2exercices">
              
                <span class="pl-5 pr-5 pt-3 pb-3 d-flex flex-row justify-content-between child-folders">
              
                <span>2. Exercices</span>
                <i class="fas fa-sort-down"></i>
              </span>
            </button>
          </ul>
          <ul class ="collapse" id="course_2exercices"> 
    
        
          
          <ul class="p-2">
            <li class="m-2 list-unstyled"><span class="far fa-file mr-1"></span>
                <a class="course-file" href=/courses/jedha-full-stack-24-program/S0.2%20--%20Gestion%20de%20datasets%20avec%20Pandas%20%26%20Collaboration%20avec%20Github/S2-A%20-%20Git%20%26%20Github/2.%20Exercices/2.%20Pratiquer%20Github%20-%20Exercices.md>2. Pratiquer Github - Exercices.md</a>
            </li>
          </ul>
        
    </ul>
        
    
    
        
          <ul class="p-0 mt-4">
            <button class="btn m-0 p-0 col-12" data-toggle="collapse" data-target="#course_3projet" role="button" aria-expanded="false" aria-controls="course_3projet">
              
                <span class="pl-5 pr-5 pt-3 pb-3 d-flex flex-row justify-content-between child-folders">
              
                <span>3. Projet</span>
                <i class="fas fa-sort-down"></i>
              </span>
            </button>
          </ul>
          <ul class ="collapse" id="course_3projet"> 
    
        
          
          <ul class="p-2">
            <li class="m-2 list-unstyled"><span class="far fa-file mr-1"></span>
                <a class="course-file" href=/courses/jedha-full-stack-24-program/S0.2%20--%20Gestion%20de%20datasets%20avec%20Pandas%20%26%20Collaboration%20avec%20Github/S2-A%20-%20Git%20%26%20Github/3.%20Projet/1.%20Cr%C3%A9er%20un%20jeu%20de%20devinettes%20-%20Projet.md>1. Créer un jeu de devinettes - Projet.md</a>
            </li>
          </ul>
        
    
    
        
          
          <ul class="p-2">
            <li class="m-2 list-unstyled"><span class="far fa-file mr-1"></span>
                <a class="course-file" href=/courses/jedha-full-stack-24-program/S0.2%20--%20Gestion%20de%20datasets%20avec%20Pandas%20%26%20Collaboration%20avec%20Github/S2-A%20-%20Git%20%26%20Github/3.%20Projet/2.%20Cr%C3%A9er%20un%20jeu%20de%20devinettes%20-%20Solutions.md>2. Créer un jeu de devinettes - Solutions.md</a>
            </li>
          </ul>
        
    </ul>
        
    </ul>
        
    
    
        
          <ul class="p-0 mt-4">
            <button class="btn m-0 p-0 col-12" data-toggle="collapse" data-target="#course_s2-b-pandas" role="button" aria-expanded="false" aria-controls="course_s2-b-pandas">
              
                <span class="pl-5 pr-5 pt-3 pb-3 d-flex flex-row justify-content-between child-folders">
              
                <span>S2-B - Pandas</span>
                <i class="fas fa-sort-down"></i>
              </span>
            </button>
          </ul>
          <ul class ="collapse" id="course_s2-b-pandas"> 
    
        
          <ul class="p-0 mt-4">
            <button class="btn m-0 p-0 col-12" data-toggle="collapse" data-target="#course_1notesdecours" role="button" aria-expanded="false" aria-controls="course_1notesdecours">
              
                <span class="pl-5 pr-5 pt-3 pb-3 d-flex flex-row justify-content-between parent-folder">
              
                <span>1. Notes de cours</span>
                <i class="fas fa-sort-down"></i>
              </span>
            </button>
          </ul>
          <ul class ="collapse" id="course_1notesdecours"> 
    
        
          <ul class="p-0 mt-4">
            <button class="btn m-0 p-0 col-12" data-toggle="collapse" data-target="#course_datasets" role="button" aria-expanded="false" aria-controls="course_datasets">
              
                <span class="pl-5 pr-5 pt-3 pb-3 d-flex flex-row justify-content-between parent-folder">
              
                <span>Datasets</span>
                <i class="fas fa-sort-down"></i>
              </span>
            </button>
          </ul>
          <ul class ="collapse" id="course_datasets"> 
    
        
          
          <ul class="p-2">
            <li class="m-2 list-unstyled"><span class="far fa-file mr-1"></span>
                <a class="course-file" href=/courses/jedha-full-stack-24-program/S0.2%20--%20Gestion%20de%20datasets%20avec%20Pandas%20%26%20Collaboration%20avec%20Github/S2-B%20-%20Pandas/1.%20Notes%20de%20cours/Datasets/chipotle.csv>chipotle.csv</a>
            </li>
          </ul>
        
    </ul>
        
    
    
        
          <ul class="p-0 mt-4">
            <button class="btn m-0 p-0 col-12" data-toggle="collapse" data-target="#course_pandascheatsheet" role="button" aria-expanded="false" aria-controls="course_pandascheatsheet">
              
                <span class="pl-5 pr-5 pt-3 pb-3 d-flex flex-row justify-content-between child-folders">
              
                <span>Pandas Cheat Sheet</span>
                <i class="fas fa-sort-down"></i>
              </span>
            </button>
          </ul>
          <ul class ="collapse" id="course_pandascheatsheet"> 
    
        
          
          <ul class="p-2">
            <li class="m-2 list-unstyled"><span class="far fa-file mr-1"></span>
                <a class="course-file" href=/courses/jedha-full-stack-24-program/S0.2%20--%20Gestion%20de%20datasets%20avec%20Pandas%20%26%20Collaboration%20avec%20Github/S2-B%20-%20Pandas/1.%20Notes%20de%20cours/Pandas%20Cheat%20Sheet/C65MaLXU8AAzwBS.jpg>C65MaLXU8AAzwBS.jpg</a>
            </li>
          </ul>
        
    
    
        
          
          <ul class="p-2">
            <li class="m-2 list-unstyled"><span class="far fa-file mr-1"></span>
                <a class="course-file" href=/courses/jedha-full-stack-24-program/S0.2%20--%20Gestion%20de%20datasets%20avec%20Pandas%20%26%20Collaboration%20avec%20Github/S2-B%20-%20Pandas/1.%20Notes%20de%20cours/Pandas%20Cheat%20Sheet/Python-Pandas-Cheat-Sheet.png>Python-Pandas-Cheat-Sheet.png</a>
            </li>
          </ul>
        
    
    
        
          
          <ul class="p-2">
            <li class="m-2 list-unstyled"><span class="far fa-file mr-1"></span>
                <a class="course-file" href=/courses/jedha-full-stack-24-program/S0.2%20--%20Gestion%20de%20datasets%20avec%20Pandas%20%26%20Collaboration%20avec%20Github/S2-B%20-%20Pandas/1.%20Notes%20de%20cours/Pandas%20Cheat%20Sheet/pandas.PNG>pandas.PNG</a>
            </li>
          </ul>
        
    </ul>
        
    
    
        
          
          <ul class="p-2">
            <li class="m-2 list-unstyled"><span class="far fa-file mr-1"></span>
                <a class="course-file" href=/courses/jedha-full-stack-24-program/S0.2%20--%20Gestion%20de%20datasets%20avec%20Pandas%20%26%20Collaboration%20avec%20Github/S2-B%20-%20Pandas/1.%20Notes%20de%20cours/README.md>README.md</a>
            </li>
          </ul>
        
    </ul>
        
    
    
        
          <ul class="p-0 mt-4">
            <button class="btn m-0 p-0 col-12" data-toggle="collapse" data-target="#course_2exercices" role="button" aria-expanded="false" aria-controls="course_2exercices">
              
                <span class="pl-5 pr-5 pt-3 pb-3 d-flex flex-row justify-content-between child-folders">
              
                <span>2. Exercices</span>
                <i class="fas fa-sort-down"></i>
              </span>
            </button>
          </ul>
          <ul class ="collapse" id="course_2exercices"> 
    
        
          
          <ul class="p-2">
            <li class="m-2 list-unstyled"><span class="far fa-file mr-1"></span>
                <a class="course-file" href=/courses/jedha-full-stack-24-program/S0.2%20--%20Gestion%20de%20datasets%20avec%20Pandas%20%26%20Collaboration%20avec%20Github/S2-B%20-%20Pandas/2.%20Exercices/1.%20Explorer%20une%20base%20de%20donn%C3%A9es%20Exercice.ipynb>1. Explorer une base de données Exercice.ipynb</a>
            </li>
          </ul>
        
    
    
        
          
          <ul class="p-2">
            <li class="m-2 list-unstyled"><span class="far fa-file mr-1"></span>
                <a class="course-file" href=/courses/jedha-full-stack-24-program/S0.2%20--%20Gestion%20de%20datasets%20avec%20Pandas%20%26%20Collaboration%20avec%20Github/S2-B%20-%20Pandas/2.%20Exercices/2.%20Explorer%20une%20base%20de%20donn%C3%A9es%20-%20Solutions.md>2. Explorer une base de données - Solutions.md</a>
            </li>
          </ul>
        
    </ul>
        
    
    
        
          <ul class="p-0 mt-4">
            <button class="btn m-0 p-0 col-12" data-toggle="collapse" data-target="#course_3projet" role="button" aria-expanded="false" aria-controls="course_3projet">
              
                <span class="pl-5 pr-5 pt-3 pb-3 d-flex flex-row justify-content-between child-folders">
              
                <span>3. Projet</span>
                <i class="fas fa-sort-down"></i>
              </span>
            </button>
          </ul>
          <ul class ="collapse" id="course_3projet"> 
    
        
          
          <ul class="p-2">
            <li class="m-2 list-unstyled"><span class="far fa-file mr-1"></span>
                <a class="course-file" href=/courses/jedha-full-stack-24-program/S0.2%20--%20Gestion%20de%20datasets%20avec%20Pandas%20%26%20Collaboration%20avec%20Github/S2-B%20-%20Pandas/3.%20Projet/1.%20House%20Market%20-%20Exercice.ipynb>1. House Market - Exercice.ipynb</a>
            </li>
          </ul>
        
    
    
        
          
          <ul class="p-2">
            <li class="m-2 list-unstyled"><span class="far fa-file mr-1"></span>
                <a class="course-file" href=/courses/jedha-full-stack-24-program/S0.2%20--%20Gestion%20de%20datasets%20avec%20Pandas%20%26%20Collaboration%20avec%20Github/S2-B%20-%20Pandas/3.%20Projet/2.%20House%20Market%20-%20Solutions.md>2. House Market - Solutions.md</a>
            </li>
          </ul>
        
    
    
        
          <ul class="p-0 mt-4">
            <button class="btn m-0 p-0 col-12" data-toggle="collapse" data-target="#course_housemarket" role="button" aria-expanded="false" aria-controls="course_housemarket">
              
                <span class="pl-5 pr-5 pt-3 pb-3 d-flex flex-row justify-content-between child-folders">
              
                <span>house market</span>
                <i class="fas fa-sort-down"></i>
              </span>
            </button>
          </ul>
          <ul class ="collapse" id="course_housemarket"> 
    
        
          
          <ul class="p-2">
            <li class="m-2 list-unstyled"><span class="far fa-file mr-1"></span>
                <a class="course-file" href=/courses/jedha-full-stack-24-program/S0.2%20--%20Gestion%20de%20datasets%20avec%20Pandas%20%26%20Collaboration%20avec%20Github/S2-B%20-%20Pandas/3.%20Projet/house%20market/house_price.csv>house_price.csv</a>
            </li>
          </ul>
        
    
    
        
          
          <ul class="p-2">
            <li class="m-2 list-unstyled"><span class="far fa-file mr-1"></span>
                <a class="course-file" href=/courses/jedha-full-stack-24-program/S0.2%20--%20Gestion%20de%20datasets%20avec%20Pandas%20%26%20Collaboration%20avec%20Github/S2-B%20-%20Pandas/3.%20Projet/house%20market/nombre_de_chambres.csv>nombre_de_chambres.csv</a>
            </li>
          </ul>
        
    
    
        
          
          <ul class="p-2">
            <li class="m-2 list-unstyled"><span class="far fa-file mr-1"></span>
                <a class="course-file" href=/courses/jedha-full-stack-24-program/S0.2%20--%20Gestion%20de%20datasets%20avec%20Pandas%20%26%20Collaboration%20avec%20Github/S2-B%20-%20Pandas/3.%20Projet/house%20market/nombre_de_sdb.csv>nombre_de_sdb.csv</a>
            </li>
          </ul>
        
    
    
        
          
          <ul class="p-2">
            <li class="m-2 list-unstyled"><span class="far fa-file mr-1"></span>
                <a class="course-file" href=/courses/jedha-full-stack-24-program/S0.2%20--%20Gestion%20de%20datasets%20avec%20Pandas%20%26%20Collaboration%20avec%20Github/S2-B%20-%20Pandas/3.%20Projet/house%20market/superficie.csv>superficie.csv</a>
            </li>
          </ul>
        
    </ul>
        
    </ul>
        
    </ul>
        
    </ul>
        
    
    
        
          <ul class="p-0 mt-4">
            <button class="btn m-0 p-0 col-12" data-toggle="collapse" data-target="#course_s03--datavisualisation-utilisationseabornmatplotlib" role="button" aria-expanded="false" aria-controls="course_s03--datavisualisation-utilisationseabornmatplotlib">
              
                <span class="pl-5 pr-5 pt-3 pb-3 d-flex flex-row justify-content-between child-folders">
              
                <span>S0.3 -- Data Visualisation - Utilisation Seaborn &amp; Matplotlib</span>
                <i class="fas fa-sort-down"></i>
              </span>
            </button>
          </ul>
          <ul class ="collapse" id="course_s03--datavisualisation-utilisationseabornmatplotlib"> 
    
        
          <ul class="p-0 mt-4">
            <button class="btn m-0 p-0 col-12" data-toggle="collapse" data-target="#course_s3-a-statistiquesdescriptives" role="button" aria-expanded="false" aria-controls="course_s3-a-statistiquesdescriptives">
              
                <span class="pl-5 pr-5 pt-3 pb-3 d-flex flex-row justify-content-between parent-folder">
              
                <span>S3-A - Statistiques Descriptives</span>
                <i class="fas fa-sort-down"></i>
              </span>
            </button>
          </ul>
          <ul class ="collapse" id="course_s3-a-statistiquesdescriptives"> 
    
        
          <ul class="p-0 mt-4">
            <button class="btn m-0 p-0 col-12" data-toggle="collapse" data-target="#course_####datasources####" role="button" aria-expanded="false" aria-controls="course_####datasources####">
              
                <span class="pl-5 pr-5 pt-3 pb-3 d-flex flex-row justify-content-between parent-folder">
              
                <span>#### Data Sources ####</span>
                <i class="fas fa-sort-down"></i>
              </span>
            </button>
          </ul>
          <ul class ="collapse" id="course_####datasources####"> 
    
        
          
          <ul class="p-2">
            <li class="m-2 list-unstyled"><span class="far fa-file mr-1"></span>
                <a class="course-file" href=/courses/jedha-full-stack-24-program/S0.3%20--%20Data%20Visualisation%20-%20Utilisation%20Seaborn%20%26%20Matplotlib/S3-A%20-%20Statistiques%20Descriptives/%23%23%23%23%20Data%20Sources%20%23%23%23%23/50_Startups.csv>50_Startups.csv</a>
            </li>
          </ul>
        
    
    
        
          
          <ul class="p-2">
            <li class="m-2 list-unstyled"><span class="far fa-file mr-1"></span>
                <a class="course-file" href=/courses/jedha-full-stack-24-program/S0.3%20--%20Data%20Visualisation%20-%20Utilisation%20Seaborn%20%26%20Matplotlib/S3-A%20-%20Statistiques%20Descriptives/%23%23%23%23%20Data%20Sources%20%23%23%23%23/IBM_HR_ATTRITION.csv>IBM_HR_ATTRITION.csv</a>
            </li>
          </ul>
        
    
    
        
          
          <ul class="p-2">
            <li class="m-2 list-unstyled"><span class="far fa-file mr-1"></span>
                <a class="course-file" href=/courses/jedha-full-stack-24-program/S0.3%20--%20Data%20Visualisation%20-%20Utilisation%20Seaborn%20%26%20Matplotlib/S3-A%20-%20Statistiques%20Descriptives/%23%23%23%23%20Data%20Sources%20%23%23%23%23/Social_Network_Ads.csv>Social_Network_Ads.csv</a>
            </li>
          </ul>
        
    
    
        
          
          <ul class="p-2">
            <li class="m-2 list-unstyled"><span class="far fa-file mr-1"></span>
                <a class="course-file" href=/courses/jedha-full-stack-24-program/S0.3%20--%20Data%20Visualisation%20-%20Utilisation%20Seaborn%20%26%20Matplotlib/S3-A%20-%20Statistiques%20Descriptives/%23%23%23%23%20Data%20Sources%20%23%23%23%23/house_pricing.csv>house_pricing.csv</a>
            </li>
          </ul>
        
    
    
        
          
          <ul class="p-2">
            <li class="m-2 list-unstyled"><span class="far fa-file mr-1"></span>
                <a class="course-file" href=/courses/jedha-full-stack-24-program/S0.3%20--%20Data%20Visualisation%20-%20Utilisation%20Seaborn%20%26%20Matplotlib/S3-A%20-%20Statistiques%20Descriptives/%23%23%23%23%20Data%20Sources%20%23%23%23%23/sales_predictions.csv>sales_predictions.csv</a>
            </li>
          </ul>
        
    </ul>
        
    
    
        
          <ul class="p-0 mt-4">
            <button class="btn m-0 p-0 col-12" data-toggle="collapse" data-target="#course_2exercices" role="button" aria-expanded="false" aria-controls="course_2exercices">
              
                <span class="pl-5 pr-5 pt-3 pb-3 d-flex flex-row justify-content-between child-folders">
              
                <span>2. Exercices</span>
                <i class="fas fa-sort-down"></i>
              </span>
            </button>
          </ul>
          <ul class ="collapse" id="course_2exercices"> 
    
        
          
          <ul class="p-2">
            <li class="m-2 list-unstyled"><span class="far fa-file mr-1"></span>
                <a class="course-file" href=/courses/jedha-full-stack-24-program/S0.3%20--%20Data%20Visualisation%20-%20Utilisation%20Seaborn%20%26%20Matplotlib/S3-A%20-%20Statistiques%20Descriptives/2.%20Exercices/1.%20Visualisation%20d%E2%80%99une%20distribution%20-%20Exercice.ipynb>1. Visualisation d’une distribution - Exercice.ipynb</a>
            </li>
          </ul>
        
    
    
        
          
          <ul class="p-2">
            <li class="m-2 list-unstyled"><span class="far fa-file mr-1"></span>
                <a class="course-file" href=/courses/jedha-full-stack-24-program/S0.3%20--%20Data%20Visualisation%20-%20Utilisation%20Seaborn%20%26%20Matplotlib/S3-A%20-%20Statistiques%20Descriptives/2.%20Exercices/2.%20Visualisation%20d%E2%80%99un%20nuage%20de%20points.ipynb>2. Visualisation d’un nuage de points.ipynb</a>
            </li>
          </ul>
        
    </ul>
        
    
    
        
          <ul class="p-0 mt-4">
            <button class="btn m-0 p-0 col-12" data-toggle="collapse" data-target="#course_3solutions" role="button" aria-expanded="false" aria-controls="course_3solutions">
              
                <span class="pl-5 pr-5 pt-3 pb-3 d-flex flex-row justify-content-between child-folders">
              
                <span>3. Solutions</span>
                <i class="fas fa-sort-down"></i>
              </span>
            </button>
          </ul>
          <ul class ="collapse" id="course_3solutions"> 
    
        
          
          <ul class="p-2">
            <li class="m-2 list-unstyled"><span class="far fa-file mr-1"></span>
                <a class="course-file" href=/courses/jedha-full-stack-24-program/S0.3%20--%20Data%20Visualisation%20-%20Utilisation%20Seaborn%20%26%20Matplotlib/S3-A%20-%20Statistiques%20Descriptives/3.%20Solutions/1.%20Visualisation%20d%27une%20distribution%20-%20SOLUTIONS.md>1. Visualisation d&#39;une distribution - SOLUTIONS.md</a>
            </li>
          </ul>
        
    
    
        
          
          <ul class="p-2">
            <li class="m-2 list-unstyled"><span class="far fa-file mr-1"></span>
                <a class="course-file" href=/courses/jedha-full-stack-24-program/S0.3%20--%20Data%20Visualisation%20-%20Utilisation%20Seaborn%20%26%20Matplotlib/S3-A%20-%20Statistiques%20Descriptives/3.%20Solutions/2.%20Visualisation%20d%27un%20nuage%20de%20points%20et%20exploration%20des%20variables%20-%20SOLUTIONS.md>2. Visualisation d&#39;un nuage de points et exploration des variables - SOLUTIONS.md</a>
            </li>
          </ul>
        
    </ul>
        
    
    
        
          
          <ul class="p-2">
            <li class="m-2 list-unstyled"><span class="far fa-file mr-1"></span>
                <a class="course-file" href=/courses/jedha-full-stack-24-program/S0.3%20--%20Data%20Visualisation%20-%20Utilisation%20Seaborn%20%26%20Matplotlib/S3-A%20-%20Statistiques%20Descriptives/README.md>README.md</a>
            </li>
          </ul>
        
    </ul>
        
    
    
        
          <ul class="p-0 mt-4">
            <button class="btn m-0 p-0 col-12" data-toggle="collapse" data-target="#course_s3-b-pratiquedeseabornexercices" role="button" aria-expanded="false" aria-controls="course_s3-b-pratiquedeseabornexercices">
              
                <span class="pl-5 pr-5 pt-3 pb-3 d-flex flex-row justify-content-between child-folders">
              
                <span>S3-B - Pratique de Seaborn Exercices</span>
                <i class="fas fa-sort-down"></i>
              </span>
            </button>
          </ul>
          <ul class ="collapse" id="course_s3-b-pratiquedeseabornexercices"> 
    
        
          <ul class="p-0 mt-4">
            <button class="btn m-0 p-0 col-12" data-toggle="collapse" data-target="#course_datasets" role="button" aria-expanded="false" aria-controls="course_datasets">
              
                <span class="pl-5 pr-5 pt-3 pb-3 d-flex flex-row justify-content-between parent-folder">
              
                <span>Datasets</span>
                <i class="fas fa-sort-down"></i>
              </span>
            </button>
          </ul>
          <ul class ="collapse" id="course_datasets"> 
    
        
          
          <ul class="p-2">
            <li class="m-2 list-unstyled"><span class="far fa-file mr-1"></span>
                <a class="course-file" href=/courses/jedha-full-stack-24-program/S0.3%20--%20Data%20Visualisation%20-%20Utilisation%20Seaborn%20%26%20Matplotlib/S3-B%20-%20Pratique%20de%20Seaborn%20Exercices/Datasets/50_Startups.csv>50_Startups.csv</a>
            </li>
          </ul>
        
    
    
        
          
          <ul class="p-2">
            <li class="m-2 list-unstyled"><span class="far fa-file mr-1"></span>
                <a class="course-file" href=/courses/jedha-full-stack-24-program/S0.3%20--%20Data%20Visualisation%20-%20Utilisation%20Seaborn%20%26%20Matplotlib/S3-B%20-%20Pratique%20de%20Seaborn%20Exercices/Datasets/Social_Network_Ads.csv>Social_Network_Ads.csv</a>
            </li>
          </ul>
        
    </ul>
        
    
    
        
          <ul class="p-0 mt-4">
            <button class="btn m-0 p-0 col-12" data-toggle="collapse" data-target="#course_exercices" role="button" aria-expanded="false" aria-controls="course_exercices">
              
                <span class="pl-5 pr-5 pt-3 pb-3 d-flex flex-row justify-content-between child-folders">
              
                <span>Exercices</span>
                <i class="fas fa-sort-down"></i>
              </span>
            </button>
          </ul>
          <ul class ="collapse" id="course_exercices"> 
    
        
          
          <ul class="p-2">
            <li class="m-2 list-unstyled"><span class="far fa-file mr-1"></span>
                <a class="course-file" href=/courses/jedha-full-stack-24-program/S0.3%20--%20Data%20Visualisation%20-%20Utilisation%20Seaborn%20%26%20Matplotlib/S3-B%20-%20Pratique%20de%20Seaborn%20Exercices/Exercices/1.%20Visualisation%20de%20relations%20continues%20-%20Exercice.ipynb>1. Visualisation de relations continues - Exercice.ipynb</a>
            </li>
          </ul>
        
    
    
        
          
          <ul class="p-2">
            <li class="m-2 list-unstyled"><span class="far fa-file mr-1"></span>
                <a class="course-file" href=/courses/jedha-full-stack-24-program/S0.3%20--%20Data%20Visualisation%20-%20Utilisation%20Seaborn%20%26%20Matplotlib/S3-B%20-%20Pratique%20de%20Seaborn%20Exercices/Exercices/2.%20Visualisation%20de%20variables%20cat%C3%A9goriques%20-%20Exercices.ipynb>2. Visualisation de variables catégoriques - Exercices.ipynb</a>
            </li>
          </ul>
        
    
    
        
          
          <ul class="p-2">
            <li class="m-2 list-unstyled"><span class="far fa-file mr-1"></span>
                <a class="course-file" href=/courses/jedha-full-stack-24-program/S0.3%20--%20Data%20Visualisation%20-%20Utilisation%20Seaborn%20%26%20Matplotlib/S3-B%20-%20Pratique%20de%20Seaborn%20Exercices/Exercices/3.%20Visualisation%20d%E2%80%99une%20relation%20lin%C3%A9aire%20-%20Exercice.ipynb>3. Visualisation d’une relation linéaire - Exercice.ipynb</a>
            </li>
          </ul>
        
    
    
        
          
          <ul class="p-2">
            <li class="m-2 list-unstyled"><span class="far fa-file mr-1"></span>
                <a class="course-file" href=/courses/jedha-full-stack-24-program/S0.3%20--%20Data%20Visualisation%20-%20Utilisation%20Seaborn%20%26%20Matplotlib/S3-B%20-%20Pratique%20de%20Seaborn%20Exercices/Exercices/4.%20Heatmaps%20-%20SOLUTIONS.md>4. Heatmaps - SOLUTIONS.md</a>
            </li>
          </ul>
        
    
    
        
          
          <ul class="p-2">
            <li class="m-2 list-unstyled"><span class="far fa-file mr-1"></span>
                <a class="course-file" href=/courses/jedha-full-stack-24-program/S0.3%20--%20Data%20Visualisation%20-%20Utilisation%20Seaborn%20%26%20Matplotlib/S3-B%20-%20Pratique%20de%20Seaborn%20Exercices/Exercices/5.%2050%20Startups%20-%20Exercices.ipynb>5. 50 Startups - Exercices.ipynb</a>
            </li>
          </ul>
        
    
    
        
          
          <ul class="p-2">
            <li class="m-2 list-unstyled"><span class="far fa-file mr-1"></span>
                <a class="course-file" href=/courses/jedha-full-stack-24-program/S0.3%20--%20Data%20Visualisation%20-%20Utilisation%20Seaborn%20%26%20Matplotlib/S3-B%20-%20Pratique%20de%20Seaborn%20Exercices/Exercices/6.%20Social%20Network%20Ads%20-%20Exercice.ipynb>6. Social Network Ads - Exercice.ipynb</a>
            </li>
          </ul>
        
    </ul>
        
    
    
        
          <ul class="p-0 mt-4">
            <button class="btn m-0 p-0 col-12" data-toggle="collapse" data-target="#course_solutions" role="button" aria-expanded="false" aria-controls="course_solutions">
              
                <span class="pl-5 pr-5 pt-3 pb-3 d-flex flex-row justify-content-between child-folders">
              
                <span>Solutions</span>
                <i class="fas fa-sort-down"></i>
              </span>
            </button>
          </ul>
          <ul class ="collapse" id="course_solutions"> 
    
        
          
          <ul class="p-2">
            <li class="m-2 list-unstyled"><span class="far fa-file mr-1"></span>
                <a class="course-file" href=/courses/jedha-full-stack-24-program/S0.3%20--%20Data%20Visualisation%20-%20Utilisation%20Seaborn%20%26%20Matplotlib/S3-B%20-%20Pratique%20de%20Seaborn%20Exercices/Solutions/1.%20Visualisation%20de%20relations%20continues%20-%20SOLUTIONS.md>1. Visualisation de relations continues - SOLUTIONS.md</a>
            </li>
          </ul>
        
    
    
        
          
          <ul class="p-2">
            <li class="m-2 list-unstyled"><span class="far fa-file mr-1"></span>
                <a class="course-file" href=/courses/jedha-full-stack-24-program/S0.3%20--%20Data%20Visualisation%20-%20Utilisation%20Seaborn%20%26%20Matplotlib/S3-B%20-%20Pratique%20de%20Seaborn%20Exercices/Solutions/2.%20Visualisation%20de%20variables%20cat%C3%A9goriques%20-%20SOLUTIONS.md>2. Visualisation de variables catégoriques - SOLUTIONS.md</a>
            </li>
          </ul>
        
    
    
        
          
          <ul class="p-2">
            <li class="m-2 list-unstyled"><span class="far fa-file mr-1"></span>
                <a class="course-file" href=/courses/jedha-full-stack-24-program/S0.3%20--%20Data%20Visualisation%20-%20Utilisation%20Seaborn%20%26%20Matplotlib/S3-B%20-%20Pratique%20de%20Seaborn%20Exercices/Solutions/3.%20Visualisation%20d%27une%20relation%20lin%C3%A9aire%20-%20SOLUTIONS.md>3. Visualisation d&#39;une relation linéaire - SOLUTIONS.md</a>
            </li>
          </ul>
        
    
    
        
          
          <ul class="p-2">
            <li class="m-2 list-unstyled"><span class="far fa-file mr-1"></span>
                <a class="course-file" href=/courses/jedha-full-stack-24-program/S0.3%20--%20Data%20Visualisation%20-%20Utilisation%20Seaborn%20%26%20Matplotlib/S3-B%20-%20Pratique%20de%20Seaborn%20Exercices/Solutions/4.%20Heatmaps%20-%20Exercice.ipynb>4. Heatmaps - Exercice.ipynb</a>
            </li>
          </ul>
        
    
    
        
          
          <ul class="p-2">
            <li class="m-2 list-unstyled"><span class="far fa-file mr-1"></span>
                <a class="course-file" href=/courses/jedha-full-stack-24-program/S0.3%20--%20Data%20Visualisation%20-%20Utilisation%20Seaborn%20%26%20Matplotlib/S3-B%20-%20Pratique%20de%20Seaborn%20Exercices/Solutions/5.%2050%20Startups%20-%20Exercices%20SOLUTIONS.md>5. 50 Startups - Exercices SOLUTIONS.md</a>
            </li>
          </ul>
        
    
    
        
          
          <ul class="p-2">
            <li class="m-2 list-unstyled"><span class="far fa-file mr-1"></span>
                <a class="course-file" href=/courses/jedha-full-stack-24-program/S0.3%20--%20Data%20Visualisation%20-%20Utilisation%20Seaborn%20%26%20Matplotlib/S3-B%20-%20Pratique%20de%20Seaborn%20Exercices/Solutions/6.%20Social%20Network%20Ads%20-%20Exercices%20SOLUTIONS.md>6. Social Network Ads - Exercices SOLUTIONS.md</a>
            </li>
          </ul>
        
    </ul>
        
    </ul>
        
    </ul>
        
    
    
        
          <ul class="p-0 mt-4">
            <button class="btn m-0 p-0 col-12" data-toggle="collapse" data-target="#course_s04--projetairbnb" role="button" aria-expanded="false" aria-controls="course_s04--projetairbnb">
              
                <span class="pl-5 pr-5 pt-3 pb-3 d-flex flex-row justify-content-between child-folders">
              
                <span>S0.4 -- Projet AIRBNB</span>
                <i class="fas fa-sort-down"></i>
              </span>
            </button>
          </ul>
          <ul class ="collapse" id="course_s04--projetairbnb"> 
    
        
          <ul class="p-0 mt-4">
            <button class="btn m-0 p-0 col-12" data-toggle="collapse" data-target="#course_s4-a-projet-airbnbinseattle" role="button" aria-expanded="false" aria-controls="course_s4-a-projet-airbnbinseattle">
              
                <span class="pl-5 pr-5 pt-3 pb-3 d-flex flex-row justify-content-between parent-folder">
              
                <span>S4-A - Projet - Airbnb in Seattle</span>
                <i class="fas fa-sort-down"></i>
              </span>
            </button>
          </ul>
          <ul class ="collapse" id="course_s4-a-projet-airbnbinseattle"> 
    
        
          <ul class="p-0 mt-4">
            <button class="btn m-0 p-0 col-12" data-toggle="collapse" data-target="#course_1airbnb" role="button" aria-expanded="false" aria-controls="course_1airbnb">
              
                <span class="pl-5 pr-5 pt-3 pb-3 d-flex flex-row justify-content-between parent-folder">
              
                <span>1. AIRBNB</span>
                <i class="fas fa-sort-down"></i>
              </span>
            </button>
          </ul>
          <ul class ="collapse" id="course_1airbnb"> 
    
        
          
          <ul class="p-2">
            <li class="m-2 list-unstyled"><span class="far fa-file mr-1"></span>
                <a class="course-file" href=/courses/jedha-full-stack-24-program/S0.4%20--%20Projet%20AIRBNB/S4-A%20-%20Projet%20-%20Airbnb%20in%20Seattle/1.%20AIRBNB/1.%20Airbnb%20in%20Seattle%20-%20Exercice.ipynb>1. Airbnb in Seattle - Exercice.ipynb</a>
            </li>
          </ul>
        
    
    
        
          <ul class="p-0 mt-4">
            <button class="btn m-0 p-0 col-12" data-toggle="collapse" data-target="#course_datasets" role="button" aria-expanded="false" aria-controls="course_datasets">
              
                <span class="pl-5 pr-5 pt-3 pb-3 d-flex flex-row justify-content-between child-folders">
              
                <span>Datasets</span>
                <i class="fas fa-sort-down"></i>
              </span>
            </button>
          </ul>
          <ul class ="collapse" id="course_datasets"> 
    
        
          
          <ul class="p-2">
            <li class="m-2 list-unstyled"><span class="far fa-file mr-1"></span>
                <a class="course-file" href=/courses/jedha-full-stack-24-program/S0.4%20--%20Projet%20AIRBNB/S4-A%20-%20Projet%20-%20Airbnb%20in%20Seattle/1.%20AIRBNB/Datasets/listings.csv>listings.csv</a>
            </li>
          </ul>
        
    
    
        
          
          <ul class="p-2">
            <li class="m-2 list-unstyled"><span class="far fa-file mr-1"></span>
                <a class="course-file" href=/courses/jedha-full-stack-24-program/S0.4%20--%20Projet%20AIRBNB/S4-A%20-%20Projet%20-%20Airbnb%20in%20Seattle/1.%20AIRBNB/Datasets/reviews.csv>reviews.csv</a>
            </li>
          </ul>
        
    </ul>
        
    
    
        
          <ul class="p-0 mt-4">
            <button class="btn m-0 p-0 col-12" data-toggle="collapse" data-target="#course_solutions" role="button" aria-expanded="false" aria-controls="course_solutions">
              
                <span class="pl-5 pr-5 pt-3 pb-3 d-flex flex-row justify-content-between child-folders">
              
                <span>Solutions</span>
                <i class="fas fa-sort-down"></i>
              </span>
            </button>
          </ul>
          <ul class ="collapse" id="course_solutions"> 
    
        
          
          <ul class="p-2">
            <li class="m-2 list-unstyled"><span class="far fa-file mr-1"></span>
                <a class="course-file" href=/courses/jedha-full-stack-24-program/S0.4%20--%20Projet%20AIRBNB/S4-A%20-%20Projet%20-%20Airbnb%20in%20Seattle/1.%20AIRBNB/Solutions/1.%20Airbnb%20in%20Seattle%20-%20Exercice%20SOLUTION.md>1. Airbnb in Seattle - Exercice SOLUTION.md</a>
            </li>
          </ul>
        
    </ul>
        
    </ul>
        
    
    
        
          <ul class="p-0 mt-4">
            <button class="btn m-0 p-0 col-12" data-toggle="collapse" data-target="#course_2optionnel-speeddating" role="button" aria-expanded="false" aria-controls="course_2optionnel-speeddating">
              
                <span class="pl-5 pr-5 pt-3 pb-3 d-flex flex-row justify-content-between child-folders">
              
                <span>2. OPTIONNEL - SPEED DATING</span>
                <i class="fas fa-sort-down"></i>
              </span>
            </button>
          </ul>
          <ul class ="collapse" id="course_2optionnel-speeddating"> 
    
        
          
          <ul class="p-2">
            <li class="m-2 list-unstyled"><span class="far fa-file mr-1"></span>
                <a class="course-file" href=/courses/jedha-full-stack-24-program/S0.4%20--%20Projet%20AIRBNB/S4-A%20-%20Projet%20-%20Airbnb%20in%20Seattle/2.%20OPTIONNEL%20-%20SPEED%20DATING/README.md>README.md</a>
            </li>
          </ul>
        
    
    
        
          
          <ul class="p-2">
            <li class="m-2 list-unstyled"><span class="far fa-file mr-1"></span>
                <a class="course-file" href=/courses/jedha-full-stack-24-program/S0.4%20--%20Projet%20AIRBNB/S4-A%20-%20Projet%20-%20Airbnb%20in%20Seattle/2.%20OPTIONNEL%20-%20SPEED%20DATING/Speed%20Dating%20Data.csv>Speed Dating Data.csv</a>
            </li>
          </ul>
        
    
    
        
          
          <ul class="p-2">
            <li class="m-2 list-unstyled"><span class="far fa-file mr-1"></span>
                <a class="course-file" href=/courses/jedha-full-stack-24-program/S0.4%20--%20Projet%20AIRBNB/S4-A%20-%20Projet%20-%20Airbnb%20in%20Seattle/2.%20OPTIONNEL%20-%20SPEED%20DATING/Speed%20Dating%20_%20Description%20des%20variables.md>Speed Dating _ Description des variables.md</a>
            </li>
          </ul>
        
    
    
        
          <ul class="p-0 mt-4">
            <button class="btn m-0 p-0 col-12" data-toggle="collapse" data-target="#course_speeddatingchallenge" role="button" aria-expanded="false" aria-controls="course_speeddatingchallenge">
              
                <span class="pl-5 pr-5 pt-3 pb-3 d-flex flex-row justify-content-between child-folders">
              
                <span>speed dating challenge</span>
                <i class="fas fa-sort-down"></i>
              </span>
            </button>
          </ul>
          <ul class ="collapse" id="course_speeddatingchallenge"> 
    
        
          
          <ul class="p-2">
            <li class="m-2 list-unstyled"><span class="far fa-file mr-1"></span>
                <a class="course-file" href=/courses/jedha-full-stack-24-program/S0.4%20--%20Projet%20AIRBNB/S4-A%20-%20Projet%20-%20Airbnb%20in%20Seattle/2.%20OPTIONNEL%20-%20SPEED%20DATING/speed%20dating%20challenge/Copy%20of%20Gestion_valeurs_manquantes.ipynb>Copy of Gestion_valeurs_manquantes.ipynb</a>
            </li>
          </ul>
        
    
    
        
          
          <ul class="p-2">
            <li class="m-2 list-unstyled"><span class="far fa-file mr-1"></span>
                <a class="course-file" href=/courses/jedha-full-stack-24-program/S0.4%20--%20Projet%20AIRBNB/S4-A%20-%20Projet%20-%20Airbnb%20in%20Seattle/2.%20OPTIONNEL%20-%20SPEED%20DATING/speed%20dating%20challenge/Gestion_valeurs_manquantes.ipynb>Gestion_valeurs_manquantes.ipynb</a>
            </li>
          </ul>
        
    
    
        
          
          <ul class="p-2">
            <li class="m-2 list-unstyled"><span class="far fa-file mr-1"></span>
                <a class="course-file" href=/courses/jedha-full-stack-24-program/S0.4%20--%20Projet%20AIRBNB/S4-A%20-%20Projet%20-%20Airbnb%20in%20Seattle/2.%20OPTIONNEL%20-%20SPEED%20DATING/speed%20dating%20challenge/Speed%20Dating%20-%20The%20Secret%20to%20Getting%20the%20Second%20Date.ipynb>Speed Dating - The Secret to Getting the Second Date.ipynb</a>
            </li>
          </ul>
        
    
    
        
          
          <ul class="p-2">
            <li class="m-2 list-unstyled"><span class="far fa-file mr-1"></span>
                <a class="course-file" href=/courses/jedha-full-stack-24-program/S0.4%20--%20Projet%20AIRBNB/S4-A%20-%20Projet%20-%20Airbnb%20in%20Seattle/2.%20OPTIONNEL%20-%20SPEED%20DATING/speed%20dating%20challenge/simple-data-visualization-with-plotly.ipynb>simple-data-visualization-with-plotly.ipynb</a>
            </li>
          </ul>
        
    
    
        
          
          <ul class="p-2">
            <li class="m-2 list-unstyled"><span class="far fa-file mr-1"></span>
                <a class="course-file" href=/courses/jedha-full-stack-24-program/S0.4%20--%20Projet%20AIRBNB/S4-A%20-%20Projet%20-%20Airbnb%20in%20Seattle/2.%20OPTIONNEL%20-%20SPEED%20DATING/speed%20dating%20challenge/the-data-science-book-of-love.ipynb>the-data-science-book-of-love.ipynb</a>
            </li>
          </ul>
        
    </ul>
        
    </ul>
        
    </ul>
        
    
    
        
          <ul class="p-0 mt-4">
            <button class="btn m-0 p-0 col-12" data-toggle="collapse" data-target="#course_s4-b-articledatavisualisation" role="button" aria-expanded="false" aria-controls="course_s4-b-articledatavisualisation">
              
                <span class="pl-5 pr-5 pt-3 pb-3 d-flex flex-row justify-content-between child-folders">
              
                <span>S4-B - Article Data Visualisation</span>
                <i class="fas fa-sort-down"></i>
              </span>
            </button>
          </ul>
          <ul class ="collapse" id="course_s4-b-articledatavisualisation"> 
    
        
          
          <ul class="p-2">
            <li class="m-2 list-unstyled"><span class="far fa-file mr-1"></span>
                <a class="course-file" href=/courses/jedha-full-stack-24-program/S0.4%20--%20Projet%20AIRBNB/S4-B%20-%20Article%20Data%20Visualisation/README.md>README.md</a>
            </li>
          </ul>
        
    </ul>
        
    </ul>
        
    
    
        
          <ul class="p-0 mt-4">
            <button class="btn m-0 p-0 col-12" data-toggle="collapse" data-target="#course_s05--mlsupervisé-regressionslinéairesrégressionsrégularisées" role="button" aria-expanded="false" aria-controls="course_s05--mlsupervisé-regressionslinéairesrégressionsrégularisées">
              
                <span class="pl-5 pr-5 pt-3 pb-3 d-flex flex-row justify-content-between child-folders">
              
                <span>S0.5 -- ML supervisé - Regressions Linéaires &amp; Régressions Régularisées</span>
                <i class="fas fa-sort-down"></i>
              </span>
            </button>
          </ul>
          <ul class ="collapse" id="course_s05--mlsupervisé-regressionslinéairesrégressionsrégularisées"> 
    
        
          <ul class="p-0 mt-4">
            <button class="btn m-0 p-0 col-12" data-toggle="collapse" data-target="#course_s5-a-régressionslinéaires" role="button" aria-expanded="false" aria-controls="course_s5-a-régressionslinéaires">
              
                <span class="pl-5 pr-5 pt-3 pb-3 d-flex flex-row justify-content-between parent-folder">
              
                <span>S5-A - Régressions Linéaires</span>
                <i class="fas fa-sort-down"></i>
              </span>
            </button>
          </ul>
          <ul class ="collapse" id="course_s5-a-régressionslinéaires"> 
    
        
          <ul class="p-0 mt-4">
            <button class="btn m-0 p-0 col-12" data-toggle="collapse" data-target="#course_2exercices" role="button" aria-expanded="false" aria-controls="course_2exercices">
              
                <span class="pl-5 pr-5 pt-3 pb-3 d-flex flex-row justify-content-between parent-folder">
              
                <span>2. Exercices</span>
                <i class="fas fa-sort-down"></i>
              </span>
            </button>
          </ul>
          <ul class ="collapse" id="course_2exercices"> 
    
        
          
          <ul class="p-2">
            <li class="m-2 list-unstyled"><span class="far fa-file mr-1"></span>
                <a class="course-file" href=/courses/jedha-full-stack-24-program/S0.5%20--%20ML%20supervis%C3%A9%20-%20Regressions%20Lin%C3%A9aires%20%26%20R%C3%A9gressions%20R%C3%A9gularis%C3%A9es/S5-A%20-%20R%C3%A9gressions%20Lin%C3%A9aires/2.%20Exercices/1.%20Californian%20Housing%20Market%20-%20Exercice.ipynb>1. Californian Housing Market - Exercice.ipynb</a>
            </li>
          </ul>
        
    
    
        
          
          <ul class="p-2">
            <li class="m-2 list-unstyled"><span class="far fa-file mr-1"></span>
                <a class="course-file" href=/courses/jedha-full-stack-24-program/S0.5%20--%20ML%20supervis%C3%A9%20-%20Regressions%20Lin%C3%A9aires%20%26%20R%C3%A9gressions%20R%C3%A9gularis%C3%A9es/S5-A%20-%20R%C3%A9gressions%20Lin%C3%A9aires/2.%20Exercices/California_housing.py>California_housing.py</a>
            </li>
          </ul>
        
    </ul>
        
    
    
        
          <ul class="p-0 mt-4">
            <button class="btn m-0 p-0 col-12" data-toggle="collapse" data-target="#course_3solutions" role="button" aria-expanded="false" aria-controls="course_3solutions">
              
                <span class="pl-5 pr-5 pt-3 pb-3 d-flex flex-row justify-content-between child-folders">
              
                <span>3. Solutions</span>
                <i class="fas fa-sort-down"></i>
              </span>
            </button>
          </ul>
          <ul class ="collapse" id="course_3solutions"> 
    
        
          
          <ul class="p-2">
            <li class="m-2 list-unstyled"><span class="far fa-file mr-1"></span>
                <a class="course-file" href=/courses/jedha-full-stack-24-program/S0.5%20--%20ML%20supervis%C3%A9%20-%20Regressions%20Lin%C3%A9aires%20%26%20R%C3%A9gressions%20R%C3%A9gularis%C3%A9es/S5-A%20-%20R%C3%A9gressions%20Lin%C3%A9aires/3.%20Solutions/1.%20Californian%20Housing%20Market%20-%20SOLUTIONS.md>1. Californian Housing Market - SOLUTIONS.md</a>
            </li>
          </ul>
        
    </ul>
        
    
    
        
          
          <ul class="p-2">
            <li class="m-2 list-unstyled"><span class="far fa-file mr-1"></span>
                <a class="course-file" href=/courses/jedha-full-stack-24-program/S0.5%20--%20ML%20supervis%C3%A9%20-%20Regressions%20Lin%C3%A9aires%20%26%20R%C3%A9gressions%20R%C3%A9gularis%C3%A9es/S5-A%20-%20R%C3%A9gressions%20Lin%C3%A9aires/README.md>README.md</a>
            </li>
          </ul>
        
    </ul>
        
    
    
        
          <ul class="p-0 mt-4">
            <button class="btn m-0 p-0 col-12" data-toggle="collapse" data-target="#course_s5-b-ridgelasso" role="button" aria-expanded="false" aria-controls="course_s5-b-ridgelasso">
              
                <span class="pl-5 pr-5 pt-3 pb-3 d-flex flex-row justify-content-between child-folders">
              
                <span>S5-B - RIDGE &amp; LASSO</span>
                <i class="fas fa-sort-down"></i>
              </span>
            </button>
          </ul>
          <ul class ="collapse" id="course_s5-b-ridgelasso"> 
    
        
          <ul class="p-0 mt-4">
            <button class="btn m-0 p-0 col-12" data-toggle="collapse" data-target="#course_2exercices" role="button" aria-expanded="false" aria-controls="course_2exercices">
              
                <span class="pl-5 pr-5 pt-3 pb-3 d-flex flex-row justify-content-between parent-folder">
              
                <span>2. Exercices</span>
                <i class="fas fa-sort-down"></i>
              </span>
            </button>
          </ul>
          <ul class ="collapse" id="course_2exercices"> 
    
        
          
          <ul class="p-2">
            <li class="m-2 list-unstyled"><span class="far fa-file mr-1"></span>
                <a class="course-file" href=/courses/jedha-full-stack-24-program/S0.5%20--%20ML%20supervis%C3%A9%20-%20Regressions%20Lin%C3%A9aires%20%26%20R%C3%A9gressions%20R%C3%A9gularis%C3%A9es/S5-B%20-%20RIDGE%20%26%20LASSO/2.%20Exercices/1.%20R%C3%A9gressions%20R%C3%A9gularis%C3%A9es%20Ridge%20-%20Exercice.ipynb>1. Régressions Régularisées Ridge - Exercice.ipynb</a>
            </li>
          </ul>
        
    
    
        
          
          <ul class="p-2">
            <li class="m-2 list-unstyled"><span class="far fa-file mr-1"></span>
                <a class="course-file" href=/courses/jedha-full-stack-24-program/S0.5%20--%20ML%20supervis%C3%A9%20-%20Regressions%20Lin%C3%A9aires%20%26%20R%C3%A9gressions%20R%C3%A9gularis%C3%A9es/S5-B%20-%20RIDGE%20%26%20LASSO/2.%20Exercices/2.%20R%C3%A9gressions%20R%C3%A9gularis%C3%A9es%20LASSO%20-%20Exercice.ipynb>2. Régressions Régularisées LASSO - Exercice.ipynb</a>
            </li>
          </ul>
        
    </ul>
        
    
    
        
          <ul class="p-0 mt-4">
            <button class="btn m-0 p-0 col-12" data-toggle="collapse" data-target="#course_3solutions" role="button" aria-expanded="false" aria-controls="course_3solutions">
              
                <span class="pl-5 pr-5 pt-3 pb-3 d-flex flex-row justify-content-between child-folders">
              
                <span>3. Solutions</span>
                <i class="fas fa-sort-down"></i>
              </span>
            </button>
          </ul>
          <ul class ="collapse" id="course_3solutions"> 
    
        
          
          <ul class="p-2">
            <li class="m-2 list-unstyled"><span class="far fa-file mr-1"></span>
                <a class="course-file" href=/courses/jedha-full-stack-24-program/S0.5%20--%20ML%20supervis%C3%A9%20-%20Regressions%20Lin%C3%A9aires%20%26%20R%C3%A9gressions%20R%C3%A9gularis%C3%A9es/S5-B%20-%20RIDGE%20%26%20LASSO/3.%20Solutions/1.%20R%C3%A9gressions%20R%C3%A9gularis%C3%A9es%20-%20Ridge%20%26%20Lasso%20SOLUTIONS.md>1. Régressions Régularisées - Ridge &amp; Lasso SOLUTIONS.md</a>
            </li>
          </ul>
        
    </ul>
        
    
    
        
          
          <ul class="p-2">
            <li class="m-2 list-unstyled"><span class="far fa-file mr-1"></span>
                <a class="course-file" href=/courses/jedha-full-stack-24-program/S0.5%20--%20ML%20supervis%C3%A9%20-%20Regressions%20Lin%C3%A9aires%20%26%20R%C3%A9gressions%20R%C3%A9gularis%C3%A9es/S5-B%20-%20RIDGE%20%26%20LASSO/README.md>README.md</a>
            </li>
          </ul>
        
    
    
        
          <ul class="p-0 mt-4">
            <button class="btn m-0 p-0 col-12" data-toggle="collapse" data-target="#course_studentdata" role="button" aria-expanded="false" aria-controls="course_studentdata">
              
                <span class="pl-5 pr-5 pt-3 pb-3 d-flex flex-row justify-content-between child-folders">
              
                <span>Student Data</span>
                <i class="fas fa-sort-down"></i>
              </span>
            </button>
          </ul>
          <ul class ="collapse" id="course_studentdata"> 
    
        
          
          <ul class="p-2">
            <li class="m-2 list-unstyled"><span class="far fa-file mr-1"></span>
                <a class="course-file" href=/courses/jedha-full-stack-24-program/S0.5%20--%20ML%20supervis%C3%A9%20-%20Regressions%20Lin%C3%A9aires%20%26%20R%C3%A9gressions%20R%C3%A9gularis%C3%A9es/S5-B%20-%20RIDGE%20%26%20LASSO/Student%20Data/student-mat.csv>student-mat.csv</a>
            </li>
          </ul>
        
    
    
        
          
          <ul class="p-2">
            <li class="m-2 list-unstyled"><span class="far fa-file mr-1"></span>
                <a class="course-file" href=/courses/jedha-full-stack-24-program/S0.5%20--%20ML%20supervis%C3%A9%20-%20Regressions%20Lin%C3%A9aires%20%26%20R%C3%A9gressions%20R%C3%A9gularis%C3%A9es/S5-B%20-%20RIDGE%20%26%20LASSO/Student%20Data/student-merge.R>student-merge.R</a>
            </li>
          </ul>
        
    
    
        
          
          <ul class="p-2">
            <li class="m-2 list-unstyled"><span class="far fa-file mr-1"></span>
                <a class="course-file" href=/courses/jedha-full-stack-24-program/S0.5%20--%20ML%20supervis%C3%A9%20-%20Regressions%20Lin%C3%A9aires%20%26%20R%C3%A9gressions%20R%C3%A9gularis%C3%A9es/S5-B%20-%20RIDGE%20%26%20LASSO/Student%20Data/student-por.csv>student-por.csv</a>
            </li>
          </ul>
        
    
    
        
          
          <ul class="p-2">
            <li class="m-2 list-unstyled"><span class="far fa-file mr-1"></span>
                <a class="course-file" href=/courses/jedha-full-stack-24-program/S0.5%20--%20ML%20supervis%C3%A9%20-%20Regressions%20Lin%C3%A9aires%20%26%20R%C3%A9gressions%20R%C3%A9gularis%C3%A9es/S5-B%20-%20RIDGE%20%26%20LASSO/Student%20Data/student.txt>student.txt</a>
            </li>
          </ul>
        
    </ul>
        
    </ul>
        
    </ul>
        
    
    
        
          <ul class="p-0 mt-4">
            <button class="btn m-0 p-0 col-12" data-toggle="collapse" data-target="#course_s06--mlsupervisé-regressionslogistiquesnaivebayessvm" role="button" aria-expanded="false" aria-controls="course_s06--mlsupervisé-regressionslogistiquesnaivebayessvm">
              
                <span class="pl-5 pr-5 pt-3 pb-3 d-flex flex-row justify-content-between child-folders">
              
                <span>S0.6 -- ML supervisé - Regressions Logistiques, Naive Bayes &amp; SVM</span>
                <i class="fas fa-sort-down"></i>
              </span>
            </button>
          </ul>
          <ul class ="collapse" id="course_s06--mlsupervisé-regressionslogistiquesnaivebayessvm"> 
    
        
          <ul class="p-0 mt-4">
            <button class="btn m-0 p-0 col-12" data-toggle="collapse" data-target="#course_s6-a-régressionslogistiques" role="button" aria-expanded="false" aria-controls="course_s6-a-régressionslogistiques">
              
                <span class="pl-5 pr-5 pt-3 pb-3 d-flex flex-row justify-content-between parent-folder">
              
                <span>S6-A - Régressions Logistiques</span>
                <i class="fas fa-sort-down"></i>
              </span>
            </button>
          </ul>
          <ul class ="collapse" id="course_s6-a-régressionslogistiques"> 
    
        
          <ul class="p-0 mt-4">
            <button class="btn m-0 p-0 col-12" data-toggle="collapse" data-target="#course_2exercices" role="button" aria-expanded="false" aria-controls="course_2exercices">
              
                <span class="pl-5 pr-5 pt-3 pb-3 d-flex flex-row justify-content-between parent-folder">
              
                <span>2. Exercices</span>
                <i class="fas fa-sort-down"></i>
              </span>
            </button>
          </ul>
          <ul class ="collapse" id="course_2exercices"> 
    
        
          
          <ul class="p-2">
            <li class="m-2 list-unstyled"><span class="far fa-file mr-1"></span>
                <a class="course-file" href=/courses/jedha-full-stack-24-program/S0.6%20--%20ML%20supervis%C3%A9%20-%20Regressions%20Logistiques%2C%20Naive%20Bayes%20%26%20SVM/S6-A%20-%20R%C3%A9gressions%20Logistiques/2.%20Exercices/1.%20Une%20premi%C3%A8re%20classification%20-%20Exercice.ipynb>1. Une première classification - Exercice.ipynb</a>
            </li>
          </ul>
        
    
    
        
          
          <ul class="p-2">
            <li class="m-2 list-unstyled"><span class="far fa-file mr-1"></span>
                <a class="course-file" href=/courses/jedha-full-stack-24-program/S0.6%20--%20ML%20supervis%C3%A9%20-%20Regressions%20Logistiques%2C%20Naive%20Bayes%20%26%20SVM/S6-A%20-%20R%C3%A9gressions%20Logistiques/2.%20Exercices/2.%20Vino%20Verde%20-%20Exercice.ipynb>2. Vino Verde - Exercice.ipynb</a>
            </li>
          </ul>
        
    
    
        
          <ul class="p-0 mt-4">
            <button class="btn m-0 p-0 col-12" data-toggle="collapse" data-target="#course_datasets" role="button" aria-expanded="false" aria-controls="course_datasets">
              
                <span class="pl-5 pr-5 pt-3 pb-3 d-flex flex-row justify-content-between child-folders">
              
                <span>Datasets</span>
                <i class="fas fa-sort-down"></i>
              </span>
            </button>
          </ul>
          <ul class ="collapse" id="course_datasets"> 
    
        
          
          <ul class="p-2">
            <li class="m-2 list-unstyled"><span class="far fa-file mr-1"></span>
                <a class="course-file" href=/courses/jedha-full-stack-24-program/S0.6%20--%20ML%20supervis%C3%A9%20-%20Regressions%20Logistiques%2C%20Naive%20Bayes%20%26%20SVM/S6-A%20-%20R%C3%A9gressions%20Logistiques/2.%20Exercices/Datasets/ex2data1.txt>ex2data1.txt</a>
            </li>
          </ul>
        
    
    
        
          
          <ul class="p-2">
            <li class="m-2 list-unstyled"><span class="far fa-file mr-1"></span>
                <a class="course-file" href=/courses/jedha-full-stack-24-program/S0.6%20--%20ML%20supervis%C3%A9%20-%20Regressions%20Logistiques%2C%20Naive%20Bayes%20%26%20SVM/S6-A%20-%20R%C3%A9gressions%20Logistiques/2.%20Exercices/Datasets/ex2data2.txt>ex2data2.txt</a>
            </li>
          </ul>
        
    
    
        
          
          <ul class="p-2">
            <li class="m-2 list-unstyled"><span class="far fa-file mr-1"></span>
                <a class="course-file" href=/courses/jedha-full-stack-24-program/S0.6%20--%20ML%20supervis%C3%A9%20-%20Regressions%20Logistiques%2C%20Naive%20Bayes%20%26%20SVM/S6-A%20-%20R%C3%A9gressions%20Logistiques/2.%20Exercices/Datasets/winequality-red.csv>winequality-red.csv</a>
            </li>
          </ul>
        
    </ul>
        
    </ul>
        
    
    
        
          <ul class="p-0 mt-4">
            <button class="btn m-0 p-0 col-12" data-toggle="collapse" data-target="#course_3solutions" role="button" aria-expanded="false" aria-controls="course_3solutions">
              
                <span class="pl-5 pr-5 pt-3 pb-3 d-flex flex-row justify-content-between child-folders">
              
                <span>3. Solutions</span>
                <i class="fas fa-sort-down"></i>
              </span>
            </button>
          </ul>
          <ul class ="collapse" id="course_3solutions"> 
    
        
          
          <ul class="p-2">
            <li class="m-2 list-unstyled"><span class="far fa-file mr-1"></span>
                <a class="course-file" href=/courses/jedha-full-stack-24-program/S0.6%20--%20ML%20supervis%C3%A9%20-%20Regressions%20Logistiques%2C%20Naive%20Bayes%20%26%20SVM/S6-A%20-%20R%C3%A9gressions%20Logistiques/3.%20Solutions/1.%20Une%20premi%C3%A8re%20classification%20-%20SOLUTIONS.md>1. Une première classification - SOLUTIONS.md</a>
            </li>
          </ul>
        
    
    
        
          
          <ul class="p-2">
            <li class="m-2 list-unstyled"><span class="far fa-file mr-1"></span>
                <a class="course-file" href=/courses/jedha-full-stack-24-program/S0.6%20--%20ML%20supervis%C3%A9%20-%20Regressions%20Logistiques%2C%20Naive%20Bayes%20%26%20SVM/S6-A%20-%20R%C3%A9gressions%20Logistiques/3.%20Solutions/2.%20Vino%20Verde%20-%20SOLUTIONS.md>2. Vino Verde - SOLUTIONS.md</a>
            </li>
          </ul>
        
    </ul>
        
    
    
        
          
          <ul class="p-2">
            <li class="m-2 list-unstyled"><span class="far fa-file mr-1"></span>
                <a class="course-file" href=/courses/jedha-full-stack-24-program/S0.6%20--%20ML%20supervis%C3%A9%20-%20Regressions%20Logistiques%2C%20Naive%20Bayes%20%26%20SVM/S6-A%20-%20R%C3%A9gressions%20Logistiques/README.md>README.md</a>
            </li>
          </ul>
        
    </ul>
        
    
    
        
          <ul class="p-0 mt-4">
            <button class="btn m-0 p-0 col-12" data-toggle="collapse" data-target="#course_s6-b-naivebayessvm" role="button" aria-expanded="false" aria-controls="course_s6-b-naivebayessvm">
              
                <span class="pl-5 pr-5 pt-3 pb-3 d-flex flex-row justify-content-between child-folders">
              
                <span>S6-B - Naive Bayes &amp; SVM</span>
                <i class="fas fa-sort-down"></i>
              </span>
            </button>
          </ul>
          <ul class ="collapse" id="course_s6-b-naivebayessvm"> 
    
        
          <ul class="p-0 mt-4">
            <button class="btn m-0 p-0 col-12" data-toggle="collapse" data-target="#course_naivebayes" role="button" aria-expanded="false" aria-controls="course_naivebayes">
              
                <span class="pl-5 pr-5 pt-3 pb-3 d-flex flex-row justify-content-between parent-folder">
              
                <span>Naive Bayes</span>
                <i class="fas fa-sort-down"></i>
              </span>
            </button>
          </ul>
          <ul class ="collapse" id="course_naivebayes"> 
    
        
          
          <ul class="p-2">
            <li class="m-2 list-unstyled"><span class="far fa-file mr-1"></span>
                <a class="course-file" href=/courses/jedha-full-stack-24-program/S0.6%20--%20ML%20supervis%C3%A9%20-%20Regressions%20Logistiques%2C%20Naive%20Bayes%20%26%20SVM/S6-B%20-%20Naive%20Bayes%20%26%20SVM/Naive%20Bayes/2.%20Le%20diab%C3%A8te%20en%20Naive%20Bayes%20-%20Exercice.ipynb>2. Le diabète en Naive Bayes - Exercice.ipynb</a>
            </li>
          </ul>
        
    
    
        
          
          <ul class="p-2">
            <li class="m-2 list-unstyled"><span class="far fa-file mr-1"></span>
                <a class="course-file" href=/courses/jedha-full-stack-24-program/S0.6%20--%20ML%20supervis%C3%A9%20-%20Regressions%20Logistiques%2C%20Naive%20Bayes%20%26%20SVM/S6-B%20-%20Naive%20Bayes%20%26%20SVM/Naive%20Bayes/3.%20Le%20diab%C3%A8te%20en%20Naive%20Bayes%20-%20Exercice%20SOLUTION.md>3. Le diabète en Naive Bayes - Exercice SOLUTION.md</a>
            </li>
          </ul>
        
    
    
        
          
          <ul class="p-2">
            <li class="m-2 list-unstyled"><span class="far fa-file mr-1"></span>
                <a class="course-file" href=/courses/jedha-full-stack-24-program/S0.6%20--%20ML%20supervis%C3%A9%20-%20Regressions%20Logistiques%2C%20Naive%20Bayes%20%26%20SVM/S6-B%20-%20Naive%20Bayes%20%26%20SVM/Naive%20Bayes/MODL%20a%20Bayes%20Optimal%20Discretization%20Method%20For%20Continuous%20Attributes.pdf>MODL a Bayes Optimal Discretization Method For Continuous Attributes.pdf</a>
            </li>
          </ul>
        
    
    
        
          
          <ul class="p-2">
            <li class="m-2 list-unstyled"><span class="far fa-file mr-1"></span>
                <a class="course-file" href=/courses/jedha-full-stack-24-program/S0.6%20--%20ML%20supervis%C3%A9%20-%20Regressions%20Logistiques%2C%20Naive%20Bayes%20%26%20SVM/S6-B%20-%20Naive%20Bayes%20%26%20SVM/Naive%20Bayes/README.md>README.md</a>
            </li>
          </ul>
        
    
    
        
          
          <ul class="p-2">
            <li class="m-2 list-unstyled"><span class="far fa-file mr-1"></span>
                <a class="course-file" href=/courses/jedha-full-stack-24-program/S0.6%20--%20ML%20supervis%C3%A9%20-%20Regressions%20Logistiques%2C%20Naive%20Bayes%20%26%20SVM/S6-B%20-%20Naive%20Bayes%20%26%20SVM/Naive%20Bayes/pima-indians-diabetes.csv>pima-indians-diabetes.csv</a>
            </li>
          </ul>
        
    </ul>
        
    
    
        
          <ul class="p-0 mt-4">
            <button class="btn m-0 p-0 col-12" data-toggle="collapse" data-target="#course_svm" role="button" aria-expanded="false" aria-controls="course_svm">
              
                <span class="pl-5 pr-5 pt-3 pb-3 d-flex flex-row justify-content-between child-folders">
              
                <span>SVM</span>
                <i class="fas fa-sort-down"></i>
              </span>
            </button>
          </ul>
          <ul class ="collapse" id="course_svm"> 
    
        
          
          <ul class="p-2">
            <li class="m-2 list-unstyled"><span class="far fa-file mr-1"></span>
                <a class="course-file" href=/courses/jedha-full-stack-24-program/S0.6%20--%20ML%20supervis%C3%A9%20-%20Regressions%20Logistiques%2C%20Naive%20Bayes%20%26%20SVM/S6-B%20-%20Naive%20Bayes%20%26%20SVM/SVM/2.%20Reconna%C3%AEtre%20des%20visages%20avec%20SVM%20-%20Exercice.ipynb>2. Reconnaître des visages avec SVM - Exercice.ipynb</a>
            </li>
          </ul>
        
    
    
        
          
          <ul class="p-2">
            <li class="m-2 list-unstyled"><span class="far fa-file mr-1"></span>
                <a class="course-file" href=/courses/jedha-full-stack-24-program/S0.6%20--%20ML%20supervis%C3%A9%20-%20Regressions%20Logistiques%2C%20Naive%20Bayes%20%26%20SVM/S6-B%20-%20Naive%20Bayes%20%26%20SVM/SVM/3.%20Reconna%C3%AEtre%20des%20visages%20avec%20SVM%20-%20Exercice%20SOLUTIONS.md>3. Reconnaître des visages avec SVM - Exercice SOLUTIONS.md</a>
            </li>
          </ul>
        
    
    
        
          
          <ul class="p-2">
            <li class="m-2 list-unstyled"><span class="far fa-file mr-1"></span>
                <a class="course-file" href=/courses/jedha-full-stack-24-program/S0.6%20--%20ML%20supervis%C3%A9%20-%20Regressions%20Logistiques%2C%20Naive%20Bayes%20%26%20SVM/S6-B%20-%20Naive%20Bayes%20%26%20SVM/SVM/README.md>README.md</a>
            </li>
          </ul>
        
    </ul>
        
    </ul>
        
    </ul>
        
    
    
        
          <ul class="p-0 mt-4">
            <button class="btn m-0 p-0 col-12" data-toggle="collapse" data-target="#course_s07--mlsupervisé-decisiontreerandomforest" role="button" aria-expanded="false" aria-controls="course_s07--mlsupervisé-decisiontreerandomforest">
              
                <span class="pl-5 pr-5 pt-3 pb-3 d-flex flex-row justify-content-between child-folders">
              
                <span>S0.7 -- ML supervisé - Decision Tree &amp; Random Forest</span>
                <i class="fas fa-sort-down"></i>
              </span>
            </button>
          </ul>
          <ul class ="collapse" id="course_s07--mlsupervisé-decisiontreerandomforest"> 
    
        
          <ul class="p-0 mt-4">
            <button class="btn m-0 p-0 col-12" data-toggle="collapse" data-target="#course_s7-a-decisiontree" role="button" aria-expanded="false" aria-controls="course_s7-a-decisiontree">
              
                <span class="pl-5 pr-5 pt-3 pb-3 d-flex flex-row justify-content-between parent-folder">
              
                <span>S7-A - Decision Tree</span>
                <i class="fas fa-sort-down"></i>
              </span>
            </button>
          </ul>
          <ul class ="collapse" id="course_s7-a-decisiontree"> 
    
        
          
          <ul class="p-2">
            <li class="m-2 list-unstyled"><span class="far fa-file mr-1"></span>
                <a class="course-file" href=/courses/jedha-full-stack-24-program/S0.7%20--%20ML%20supervis%C3%A9%20-%20Decision%20Tree%20%26%20Random%20Forest/S7-A%20-%20Decision%20Tree/2.%20Decision%20Tree%20-%20Exercice.ipynb>2. Decision Tree - Exercice.ipynb</a>
            </li>
          </ul>
        
    
    
        
          
          <ul class="p-2">
            <li class="m-2 list-unstyled"><span class="far fa-file mr-1"></span>
                <a class="course-file" href=/courses/jedha-full-stack-24-program/S0.7%20--%20ML%20supervis%C3%A9%20-%20Decision%20Tree%20%26%20Random%20Forest/S7-A%20-%20Decision%20Tree/3.%20Machine%20Learning%20Supervis%C3%A9%20-%20Decision%20Tree%20-%20Exercice%20SOLUTION.md>3. Machine Learning Supervisé - Decision Tree - Exercice SOLUTION.md</a>
            </li>
          </ul>
        
    
    
        
          
          <ul class="p-2">
            <li class="m-2 list-unstyled"><span class="far fa-file mr-1"></span>
                <a class="course-file" href=/courses/jedha-full-stack-24-program/S0.7%20--%20ML%20supervis%C3%A9%20-%20Decision%20Tree%20%26%20Random%20Forest/S7-A%20-%20Decision%20Tree/README.md>README.md</a>
            </li>
          </ul>
        
    
    
        
          
          <ul class="p-2">
            <li class="m-2 list-unstyled"><span class="far fa-file mr-1"></span>
                <a class="course-file" href=/courses/jedha-full-stack-24-program/S0.7%20--%20ML%20supervis%C3%A9%20-%20Decision%20Tree%20%26%20Random%20Forest/S7-A%20-%20Decision%20Tree/bl.txt>bl.txt</a>
            </li>
          </ul>
        
    </ul>
        
    
    
        
          <ul class="p-0 mt-4">
            <button class="btn m-0 p-0 col-12" data-toggle="collapse" data-target="#course_s7-b-randomforest" role="button" aria-expanded="false" aria-controls="course_s7-b-randomforest">
              
                <span class="pl-5 pr-5 pt-3 pb-3 d-flex flex-row justify-content-between child-folders">
              
                <span>S7-B - Random Forest</span>
                <i class="fas fa-sort-down"></i>
              </span>
            </button>
          </ul>
          <ul class ="collapse" id="course_s7-b-randomforest"> 
    
        
          
          <ul class="p-2">
            <li class="m-2 list-unstyled"><span class="far fa-file mr-1"></span>
                <a class="course-file" href=/courses/jedha-full-stack-24-program/S0.7%20--%20ML%20supervis%C3%A9%20-%20Decision%20Tree%20%26%20Random%20Forest/S7-B%20-%20Random%20Forest/1.%20Graduate%20Admission%20-%20Exercice.ipynb>1. Graduate Admission - Exercice.ipynb</a>
            </li>
          </ul>
        
    
    
        
          
          <ul class="p-2">
            <li class="m-2 list-unstyled"><span class="far fa-file mr-1"></span>
                <a class="course-file" href=/courses/jedha-full-stack-24-program/S0.7%20--%20ML%20supervis%C3%A9%20-%20Decision%20Tree%20%26%20Random%20Forest/S7-B%20-%20Random%20Forest/2.%20Graduate%20Admission%20-%20Exercice%20SOLUTION.md>2. Graduate Admission - Exercice SOLUTION.md</a>
            </li>
          </ul>
        
    
    
        
          <ul class="p-0 mt-4">
            <button class="btn m-0 p-0 col-12" data-toggle="collapse" data-target="#course_dataset" role="button" aria-expanded="false" aria-controls="course_dataset">
              
                <span class="pl-5 pr-5 pt-3 pb-3 d-flex flex-row justify-content-between child-folders">
              
                <span>Dataset</span>
                <i class="fas fa-sort-down"></i>
              </span>
            </button>
          </ul>
          <ul class ="collapse" id="course_dataset"> 
    
        
          
          <ul class="p-2">
            <li class="m-2 list-unstyled"><span class="far fa-file mr-1"></span>
                <a class="course-file" href=/courses/jedha-full-stack-24-program/S0.7%20--%20ML%20supervis%C3%A9%20-%20Decision%20Tree%20%26%20Random%20Forest/S7-B%20-%20Random%20Forest/Dataset/Admission_Predict_Ver1.1.csv>Admission_Predict_Ver1.1.csv</a>
            </li>
          </ul>
        
    </ul>
        
    </ul>
        
    </ul>
        
    
    
        
          <ul class="p-0 mt-4">
            <button class="btn m-0 p-0 col-12" data-toggle="collapse" data-target="#course_s08--projet-conversionrate" role="button" aria-expanded="false" aria-controls="course_s08--projet-conversionrate">
              
                <span class="pl-5 pr-5 pt-3 pb-3 d-flex flex-row justify-content-between child-folders">
              
                <span>S0.8 -- Projet - CONVERSION RATE</span>
                <i class="fas fa-sort-down"></i>
              </span>
            </button>
          </ul>
          <ul class ="collapse" id="course_s08--projet-conversionrate"> 
    
        
          <ul class="p-0 mt-4">
            <button class="btn m-0 p-0 col-12" data-toggle="collapse" data-target="#course_s8-a-projet-conversionrate" role="button" aria-expanded="false" aria-controls="course_s8-a-projet-conversionrate">
              
                <span class="pl-5 pr-5 pt-3 pb-3 d-flex flex-row justify-content-between parent-folder">
              
                <span>S8-A - Projet - Conversion Rate</span>
                <i class="fas fa-sort-down"></i>
              </span>
            </button>
          </ul>
          <ul class ="collapse" id="course_s8-a-projet-conversionrate"> 
    
        
          <ul class="p-0 mt-4">
            <button class="btn m-0 p-0 col-12" data-toggle="collapse" data-target="#course_1conversionrate" role="button" aria-expanded="false" aria-controls="course_1conversionrate">
              
                <span class="pl-5 pr-5 pt-3 pb-3 d-flex flex-row justify-content-between parent-folder">
              
                <span>1. CONVERSION RATE</span>
                <i class="fas fa-sort-down"></i>
              </span>
            </button>
          </ul>
          <ul class ="collapse" id="course_1conversionrate"> 
    
        
          
          <ul class="p-2">
            <li class="m-2 list-unstyled"><span class="far fa-file mr-1"></span>
                <a class="course-file" href=/courses/jedha-full-stack-24-program/S0.8%20--%20Projet%20-%20CONVERSION%20RATE/S8-A%20-%20Projet%20-%20Conversion%20Rate/1.%20CONVERSION%20RATE/Projet%20--Conversion%20Rate%20Challenge%20-%20SOLUTION.md>Projet --Conversion Rate Challenge - SOLUTION.md</a>
            </li>
          </ul>
        
    
    
        
          
          <ul class="p-2">
            <li class="m-2 list-unstyled"><span class="far fa-file mr-1"></span>
                <a class="course-file" href=/courses/jedha-full-stack-24-program/S0.8%20--%20Projet%20-%20CONVERSION%20RATE/S8-A%20-%20Projet%20-%20Conversion%20Rate/1.%20CONVERSION%20RATE/README.md>README.md</a>
            </li>
          </ul>
        
    
    
        
          
          <ul class="p-2">
            <li class="m-2 list-unstyled"><span class="far fa-file mr-1"></span>
                <a class="course-file" href=/courses/jedha-full-stack-24-program/S0.8%20--%20Projet%20-%20CONVERSION%20RATE/S8-A%20-%20Projet%20-%20Conversion%20Rate/1.%20CONVERSION%20RATE/conversion_data.csv>conversion_data.csv</a>
            </li>
          </ul>
        
    </ul>
        
    
    
        
          <ul class="p-0 mt-4">
            <button class="btn m-0 p-0 col-12" data-toggle="collapse" data-target="#course_2optionnel-houseprices" role="button" aria-expanded="false" aria-controls="course_2optionnel-houseprices">
              
                <span class="pl-5 pr-5 pt-3 pb-3 d-flex flex-row justify-content-between child-folders">
              
                <span>2. OPTIONNEL - HOUSE PRICES</span>
                <i class="fas fa-sort-down"></i>
              </span>
            </button>
          </ul>
          <ul class ="collapse" id="course_2optionnel-houseprices"> 
    
        
          
          <ul class="p-2">
            <li class="m-2 list-unstyled"><span class="far fa-file mr-1"></span>
                <a class="course-file" href=/courses/jedha-full-stack-24-program/S0.8%20--%20Projet%20-%20CONVERSION%20RATE/S8-A%20-%20Projet%20-%20Conversion%20Rate/2.%20OPTIONNEL%20-%20HOUSE%20PRICES/README.md>README.md</a>
            </li>
          </ul>
        
    </ul>
        
    </ul>
        
    
    
        
          <ul class="p-0 mt-4">
            <button class="btn m-0 p-0 col-12" data-toggle="collapse" data-target="#course_s8-b-articlemachinelearningsupervisépart1" role="button" aria-expanded="false" aria-controls="course_s8-b-articlemachinelearningsupervisépart1">
              
                <span class="pl-5 pr-5 pt-3 pb-3 d-flex flex-row justify-content-between child-folders">
              
                <span>S8-B - Article Machine Learning Supervisé PART 1</span>
                <i class="fas fa-sort-down"></i>
              </span>
            </button>
          </ul>
          <ul class ="collapse" id="course_s8-b-articlemachinelearningsupervisépart1"> 
    
        
          
          <ul class="p-2">
            <li class="m-2 list-unstyled"><span class="far fa-file mr-1"></span>
                <a class="course-file" href=/courses/jedha-full-stack-24-program/S0.8%20--%20Projet%20-%20CONVERSION%20RATE/S8-B%20-%20Article%20Machine%20Learning%20Supervis%C3%A9%20PART%201/README.md>README.md</a>
            </li>
          </ul>
        
    </ul>
        
    </ul>
        
    
    
        
          <ul class="p-0 mt-4">
            <button class="btn m-0 p-0 col-12" data-toggle="collapse" data-target="#course_s09--mlsupervisé-réductiondedimensionsboostingensemblelearning" role="button" aria-expanded="false" aria-controls="course_s09--mlsupervisé-réductiondedimensionsboostingensemblelearning">
              
                <span class="pl-5 pr-5 pt-3 pb-3 d-flex flex-row justify-content-between child-folders">
              
                <span>S0.9 -- ML supervisé - Réduction de dimensions, Boosting &amp; Ensemble Learning</span>
                <i class="fas fa-sort-down"></i>
              </span>
            </button>
          </ul>
          <ul class ="collapse" id="course_s09--mlsupervisé-réductiondedimensionsboostingensemblelearning"> 
    
        
          <ul class="p-0 mt-4">
            <button class="btn m-0 p-0 col-12" data-toggle="collapse" data-target="#course_s9-a-pca" role="button" aria-expanded="false" aria-controls="course_s9-a-pca">
              
                <span class="pl-5 pr-5 pt-3 pb-3 d-flex flex-row justify-content-between parent-folder">
              
                <span>S9-A - PCA</span>
                <i class="fas fa-sort-down"></i>
              </span>
            </button>
          </ul>
          <ul class ="collapse" id="course_s9-a-pca"> 
    
        
          
          <ul class="p-2">
            <li class="m-2 list-unstyled"><span class="far fa-file mr-1"></span>
                <a class="course-file" href=/courses/jedha-full-stack-24-program/S0.9%20--%20ML%20supervis%C3%A9%20-%20R%C3%A9duction%20de%20dimensions%2C%20Boosting%20%26%20Ensemble%20Learning/S9-A%20-%20PCA/2.%20Conna%C3%AEtre%20les%20fleurs%20avec%20PCA%20-%20Exercice.ipynb>2. Connaître les fleurs avec PCA - Exercice.ipynb</a>
            </li>
          </ul>
        
    
    
        
          
          <ul class="p-2">
            <li class="m-2 list-unstyled"><span class="far fa-file mr-1"></span>
                <a class="course-file" href=/courses/jedha-full-stack-24-program/S0.9%20--%20ML%20supervis%C3%A9%20-%20R%C3%A9duction%20de%20dimensions%2C%20Boosting%20%26%20Ensemble%20Learning/S9-A%20-%20PCA/3.%20Conna%C3%AEtre%20les%20fleurs%20avec%20PCA%20-%20Exercice%20SOLUTIONS.md>3. Connaître les fleurs avec PCA - Exercice SOLUTIONS.md</a>
            </li>
          </ul>
        
    
    
        
          
          <ul class="p-2">
            <li class="m-2 list-unstyled"><span class="far fa-file mr-1"></span>
                <a class="course-file" href=/courses/jedha-full-stack-24-program/S0.9%20--%20ML%20supervis%C3%A9%20-%20R%C3%A9duction%20de%20dimensions%2C%20Boosting%20%26%20Ensemble%20Learning/S9-A%20-%20PCA/README.md>README.md</a>
            </li>
          </ul>
        
    </ul>
        
    
    
        
          <ul class="p-0 mt-4">
            <button class="btn m-0 p-0 col-12" data-toggle="collapse" data-target="#course_s9-b-boostingensemblelearning" role="button" aria-expanded="false" aria-controls="course_s9-b-boostingensemblelearning">
              
                <span class="pl-5 pr-5 pt-3 pb-3 d-flex flex-row justify-content-between child-folders">
              
                <span>S9-B - Boosting &amp; Ensemble Learning</span>
                <i class="fas fa-sort-down"></i>
              </span>
            </button>
          </ul>
          <ul class ="collapse" id="course_s9-b-boostingensemblelearning"> 
    
        
          <ul class="p-0 mt-4">
            <button class="btn m-0 p-0 col-12" data-toggle="collapse" data-target="#course_boosting" role="button" aria-expanded="false" aria-controls="course_boosting">
              
                <span class="pl-5 pr-5 pt-3 pb-3 d-flex flex-row justify-content-between parent-folder">
              
                <span>Boosting</span>
                <i class="fas fa-sort-down"></i>
              </span>
            </button>
          </ul>
          <ul class ="collapse" id="course_boosting"> 
    
        
          
          <ul class="p-2">
            <li class="m-2 list-unstyled"><span class="far fa-file mr-1"></span>
                <a class="course-file" href=/courses/jedha-full-stack-24-program/S0.9%20--%20ML%20supervis%C3%A9%20-%20R%C3%A9duction%20de%20dimensions%2C%20Boosting%20%26%20Ensemble%20Learning/S9-B%20-%20Boosting%20%26%20Ensemble%20Learning/Boosting/Adaboost%20ou%20XGBoost%20-%20Exercice%20SOLUTION.ipynb>Adaboost ou XGBoost - Exercice SOLUTION.ipynb</a>
            </li>
          </ul>
        
    
    
        
          
          <ul class="p-2">
            <li class="m-2 list-unstyled"><span class="far fa-file mr-1"></span>
                <a class="course-file" href=/courses/jedha-full-stack-24-program/S0.9%20--%20ML%20supervis%C3%A9%20-%20R%C3%A9duction%20de%20dimensions%2C%20Boosting%20%26%20Ensemble%20Learning/S9-B%20-%20Boosting%20%26%20Ensemble%20Learning/Boosting/Adaboost%20ou%20XGBoost%20-%20Exercice.ipynb>Adaboost ou XGBoost - Exercice.ipynb</a>
            </li>
          </ul>
        
    
    
        
          <ul class="p-0 mt-4">
            <button class="btn m-0 p-0 col-12" data-toggle="collapse" data-target="#course_dataset" role="button" aria-expanded="false" aria-controls="course_dataset">
              
                <span class="pl-5 pr-5 pt-3 pb-3 d-flex flex-row justify-content-between child-folders">
              
                <span>Dataset</span>
                <i class="fas fa-sort-down"></i>
              </span>
            </button>
          </ul>
          <ul class ="collapse" id="course_dataset"> 
    
        
          
          <ul class="p-2">
            <li class="m-2 list-unstyled"><span class="far fa-file mr-1"></span>
                <a class="course-file" href=/courses/jedha-full-stack-24-program/S0.9%20--%20ML%20supervis%C3%A9%20-%20R%C3%A9duction%20de%20dimensions%2C%20Boosting%20%26%20Ensemble%20Learning/S9-B%20-%20Boosting%20%26%20Ensemble%20Learning/Boosting/Dataset/listings.csv>listings.csv</a>
            </li>
          </ul>
        
    </ul>
        
    
    
        
          
          <ul class="p-2">
            <li class="m-2 list-unstyled"><span class="far fa-file mr-1"></span>
                <a class="course-file" href=/courses/jedha-full-stack-24-program/S0.9%20--%20ML%20supervis%C3%A9%20-%20R%C3%A9duction%20de%20dimensions%2C%20Boosting%20%26%20Ensemble%20Learning/S9-B%20-%20Boosting%20%26%20Ensemble%20Learning/Boosting/README.md>README.md</a>
            </li>
          </ul>
        
    </ul>
        
    
    
        
          <ul class="p-0 mt-4">
            <button class="btn m-0 p-0 col-12" data-toggle="collapse" data-target="#course_ensemblelearning" role="button" aria-expanded="false" aria-controls="course_ensemblelearning">
              
                <span class="pl-5 pr-5 pt-3 pb-3 d-flex flex-row justify-content-between child-folders">
              
                <span>Ensemble Learning</span>
                <i class="fas fa-sort-down"></i>
              </span>
            </button>
          </ul>
          <ul class ="collapse" id="course_ensemblelearning"> 
    
        
          <ul class="p-0 mt-4">
            <button class="btn m-0 p-0 col-12" data-toggle="collapse" data-target="#course_data" role="button" aria-expanded="false" aria-controls="course_data">
              
                <span class="pl-5 pr-5 pt-3 pb-3 d-flex flex-row justify-content-between parent-folder">
              
                <span>Data</span>
                <i class="fas fa-sort-down"></i>
              </span>
            </button>
          </ul>
          <ul class ="collapse" id="course_data"> 
    
        
          
          <ul class="p-2">
            <li class="m-2 list-unstyled"><span class="far fa-file mr-1"></span>
                <a class="course-file" href=/courses/jedha-full-stack-24-program/S0.9%20--%20ML%20supervis%C3%A9%20-%20R%C3%A9duction%20de%20dimensions%2C%20Boosting%20%26%20Ensemble%20Learning/S9-B%20-%20Boosting%20%26%20Ensemble%20Learning/Ensemble%20Learning/Data/train%20%281%29.csv>train (1).csv</a>
            </li>
          </ul>
        
    </ul>
        
    
    
        
          
          <ul class="p-2">
            <li class="m-2 list-unstyled"><span class="far fa-file mr-1"></span>
                <a class="course-file" href=/courses/jedha-full-stack-24-program/S0.9%20--%20ML%20supervis%C3%A9%20-%20R%C3%A9duction%20de%20dimensions%2C%20Boosting%20%26%20Ensemble%20Learning/S9-B%20-%20Boosting%20%26%20Ensemble%20Learning/Ensemble%20Learning/Titanic%20-%20Stacking%20Exercice.ipynb>Titanic - Stacking Exercice.ipynb</a>
            </li>
          </ul>
        
    
    
        
          
          <ul class="p-2">
            <li class="m-2 list-unstyled"><span class="far fa-file mr-1"></span>
                <a class="course-file" href=/courses/jedha-full-stack-24-program/S0.9%20--%20ML%20supervis%C3%A9%20-%20R%C3%A9duction%20de%20dimensions%2C%20Boosting%20%26%20Ensemble%20Learning/S9-B%20-%20Boosting%20%26%20Ensemble%20Learning/Ensemble%20Learning/Titanic%20-%20Stacking%20SOLUTION.ipynb>Titanic - Stacking SOLUTION.ipynb</a>
            </li>
          </ul>
        
    
    
        
          
          <ul class="p-2">
            <li class="m-2 list-unstyled"><span class="far fa-file mr-1"></span>
                <a class="course-file" href=/courses/jedha-full-stack-24-program/S0.9%20--%20ML%20supervis%C3%A9%20-%20R%C3%A9duction%20de%20dimensions%2C%20Boosting%20%26%20Ensemble%20Learning/S9-B%20-%20Boosting%20%26%20Ensemble%20Learning/Ensemble%20Learning/Voting%20Classifier%20-%20Exercice%20SOLUTION.ipynb>Voting Classifier - Exercice SOLUTION.ipynb</a>
            </li>
          </ul>
        
    
    
        
          
          <ul class="p-2">
            <li class="m-2 list-unstyled"><span class="far fa-file mr-1"></span>
                <a class="course-file" href=/courses/jedha-full-stack-24-program/S0.9%20--%20ML%20supervis%C3%A9%20-%20R%C3%A9duction%20de%20dimensions%2C%20Boosting%20%26%20Ensemble%20Learning/S9-B%20-%20Boosting%20%26%20Ensemble%20Learning/Ensemble%20Learning/Voting%20Classifier%20-%20Exercice.ipynb>Voting Classifier - Exercice.ipynb</a>
            </li>
          </ul>
        
    </ul>
        
    </ul>
        
    </ul>
        
    
    
        
          <ul class="p-0 mt-4">
            <button class="btn m-0 p-0 col-12" data-toggle="collapse" data-target="#course_s10--projet-fraudulentactivities" role="button" aria-expanded="false" aria-controls="course_s10--projet-fraudulentactivities">
              
                <span class="pl-5 pr-5 pt-3 pb-3 d-flex flex-row justify-content-between child-folders">
              
                <span>S1.0 -- Projet - FRAUDULENT ACTIVITIES</span>
                <i class="fas fa-sort-down"></i>
              </span>
            </button>
          </ul>
          <ul class ="collapse" id="course_s10--projet-fraudulentactivities"> 
    
        
          <ul class="p-0 mt-4">
            <button class="btn m-0 p-0 col-12" data-toggle="collapse" data-target="#course_s10-a-projet-fraudulentactivities" role="button" aria-expanded="false" aria-controls="course_s10-a-projet-fraudulentactivities">
              
                <span class="pl-5 pr-5 pt-3 pb-3 d-flex flex-row justify-content-between parent-folder">
              
                <span>S10-A - Projet - Fraudulent Activities</span>
                <i class="fas fa-sort-down"></i>
              </span>
            </button>
          </ul>
          <ul class ="collapse" id="course_s10-a-projet-fraudulentactivities"> 
    
        
          <ul class="p-0 mt-4">
            <button class="btn m-0 p-0 col-12" data-toggle="collapse" data-target="#course_fraudulentactivities" role="button" aria-expanded="false" aria-controls="course_fraudulentactivities">
              
                <span class="pl-5 pr-5 pt-3 pb-3 d-flex flex-row justify-content-between parent-folder">
              
                <span>Fraudulent Activities</span>
                <i class="fas fa-sort-down"></i>
              </span>
            </button>
          </ul>
          <ul class ="collapse" id="course_fraudulentactivities"> 
    
        
          <ul class="p-0 mt-4">
            <button class="btn m-0 p-0 col-12" data-toggle="collapse" data-target="#course_datasets" role="button" aria-expanded="false" aria-controls="course_datasets">
              
                <span class="pl-5 pr-5 pt-3 pb-3 d-flex flex-row justify-content-between parent-folder">
              
                <span>Datasets</span>
                <i class="fas fa-sort-down"></i>
              </span>
            </button>
          </ul>
          <ul class ="collapse" id="course_datasets"> 
    
        
          
          <ul class="p-2">
            <li class="m-2 list-unstyled"><span class="far fa-file mr-1"></span>
                <a class="course-file" href=/courses/jedha-full-stack-24-program/S1.0%20--%20Projet%20-%20FRAUDULENT%20ACTIVITIES/S10-A%20-%20Projet%20-%20Fraudulent%20Activities/Fraudulent%20Activities/Datasets/Fraud_Data.csv>Fraud_Data.csv</a>
            </li>
          </ul>
        
    
    
        
          
          <ul class="p-2">
            <li class="m-2 list-unstyled"><span class="far fa-file mr-1"></span>
                <a class="course-file" href=/courses/jedha-full-stack-24-program/S1.0%20--%20Projet%20-%20FRAUDULENT%20ACTIVITIES/S10-A%20-%20Projet%20-%20Fraudulent%20Activities/Fraudulent%20Activities/Datasets/IpAddress_to_Country.csv>IpAddress_to_Country.csv</a>
            </li>
          </ul>
        
    </ul>
        
    
    
        
          
          <ul class="p-2">
            <li class="m-2 list-unstyled"><span class="far fa-file mr-1"></span>
                <a class="course-file" href=/courses/jedha-full-stack-24-program/S1.0%20--%20Projet%20-%20FRAUDULENT%20ACTIVITIES/S10-A%20-%20Projet%20-%20Fraudulent%20Activities/Fraudulent%20Activities/README.md>README.md</a>
            </li>
          </ul>
        
    </ul>
        
    
    
        
          <ul class="p-0 mt-4">
            <button class="btn m-0 p-0 col-12" data-toggle="collapse" data-target="#course_optionnel:worldcupwinner" role="button" aria-expanded="false" aria-controls="course_optionnel:worldcupwinner">
              
                <span class="pl-5 pr-5 pt-3 pb-3 d-flex flex-row justify-content-between child-folders">
              
                <span>Optionnel : World Cup Winner</span>
                <i class="fas fa-sort-down"></i>
              </span>
            </button>
          </ul>
          <ul class ="collapse" id="course_optionnel:worldcupwinner"> 
    
        
          
          <ul class="p-2">
            <li class="m-2 list-unstyled"><span class="far fa-file mr-1"></span>
                <a class="course-file" href=/courses/jedha-full-stack-24-program/S1.0%20--%20Projet%20-%20FRAUDULENT%20ACTIVITIES/S10-A%20-%20Projet%20-%20Fraudulent%20Activities/Optionnel%20:%20World%20Cup%20Winner/1.%20World%20Cup%20Winner%20-%20Projet.ipynb>1. World Cup Winner - Projet.ipynb</a>
            </li>
          </ul>
        
    
    
        
          
          <ul class="p-2">
            <li class="m-2 list-unstyled"><span class="far fa-file mr-1"></span>
                <a class="course-file" href=/courses/jedha-full-stack-24-program/S1.0%20--%20Projet%20-%20FRAUDULENT%20ACTIVITIES/S10-A%20-%20Projet%20-%20Fraudulent%20Activities/Optionnel%20:%20World%20Cup%20Winner/2.%20World%20Cup%20Winner%20-%20SOLUTIONS.md>2. World Cup Winner - SOLUTIONS.md</a>
            </li>
          </ul>
        
    
    
        
          <ul class="p-0 mt-4">
            <button class="btn m-0 p-0 col-12" data-toggle="collapse" data-target="#course_datasets" role="button" aria-expanded="false" aria-controls="course_datasets">
              
                <span class="pl-5 pr-5 pt-3 pb-3 d-flex flex-row justify-content-between child-folders">
              
                <span>Datasets</span>
                <i class="fas fa-sort-down"></i>
              </span>
            </button>
          </ul>
          <ul class ="collapse" id="course_datasets"> 
    
        
          
          <ul class="p-2">
            <li class="m-2 list-unstyled"><span class="far fa-file mr-1"></span>
                <a class="course-file" href=/courses/jedha-full-stack-24-program/S1.0%20--%20Projet%20-%20FRAUDULENT%20ACTIVITIES/S10-A%20-%20Projet%20-%20Fraudulent%20Activities/Optionnel%20:%20World%20Cup%20Winner/Datasets/FullData.csv>FullData.csv</a>
            </li>
          </ul>
        
    
    
        
          
          <ul class="p-2">
            <li class="m-2 list-unstyled"><span class="far fa-file mr-1"></span>
                <a class="course-file" href=/courses/jedha-full-stack-24-program/S1.0%20--%20Projet%20-%20FRAUDULENT%20ACTIVITIES/S10-A%20-%20Projet%20-%20Fraudulent%20Activities/Optionnel%20:%20World%20Cup%20Winner/Datasets/World%20Cup%202018%20Dataset.csv>World Cup 2018 Dataset.csv</a>
            </li>
          </ul>
        
    
    
        
          
          <ul class="p-2">
            <li class="m-2 list-unstyled"><span class="far fa-file mr-1"></span>
                <a class="course-file" href=/courses/jedha-full-stack-24-program/S1.0%20--%20Projet%20-%20FRAUDULENT%20ACTIVITIES/S10-A%20-%20Projet%20-%20Fraudulent%20Activities/Optionnel%20:%20World%20Cup%20Winner/Datasets/all_time_fifa_statistics.csv>all_time_fifa_statistics.csv</a>
            </li>
          </ul>
        
    
    
        
          
          <ul class="p-2">
            <li class="m-2 list-unstyled"><span class="far fa-file mr-1"></span>
                <a class="course-file" href=/courses/jedha-full-stack-24-program/S1.0%20--%20Projet%20-%20FRAUDULENT%20ACTIVITIES/S10-A%20-%20Projet%20-%20Fraudulent%20Activities/Optionnel%20:%20World%20Cup%20Winner/Datasets/fifa_ranking.csv>fifa_ranking.csv</a>
            </li>
          </ul>
        
    
    
        
          
          <ul class="p-2">
            <li class="m-2 list-unstyled"><span class="far fa-file mr-1"></span>
                <a class="course-file" href=/courses/jedha-full-stack-24-program/S1.0%20--%20Projet%20-%20FRAUDULENT%20ACTIVITIES/S10-A%20-%20Projet%20-%20Fraudulent%20Activities/Optionnel%20:%20World%20Cup%20Winner/Datasets/results.csv>results.csv</a>
            </li>
          </ul>
        
    </ul>
        
    </ul>
        
    </ul>
        
    
    
        
          <ul class="p-0 mt-4">
            <button class="btn m-0 p-0 col-12" data-toggle="collapse" data-target="#course_s10-b-articlemachinelearningsupervisépart2" role="button" aria-expanded="false" aria-controls="course_s10-b-articlemachinelearningsupervisépart2">
              
                <span class="pl-5 pr-5 pt-3 pb-3 d-flex flex-row justify-content-between child-folders">
              
                <span>S10-B - Article Machine Learning Supervisé PART 2</span>
                <i class="fas fa-sort-down"></i>
              </span>
            </button>
          </ul>
          <ul class ="collapse" id="course_s10-b-articlemachinelearningsupervisépart2"> 
    
        
          
          <ul class="p-2">
            <li class="m-2 list-unstyled"><span class="far fa-file mr-1"></span>
                <a class="course-file" href=/courses/jedha-full-stack-24-program/S1.0%20--%20Projet%20-%20FRAUDULENT%20ACTIVITIES/S10-B%20-%20Article%20Machine%20Learning%20Supervis%C3%A9%20PART%202/README.md>README.md</a>
            </li>
          </ul>
        
    </ul>
        
    </ul>
        
    
    
        
          <ul class="p-0 mt-4">
            <button class="btn m-0 p-0 col-12" data-toggle="collapse" data-target="#course_s11--mlnon-supervisé-k-meansdbscan" role="button" aria-expanded="false" aria-controls="course_s11--mlnon-supervisé-k-meansdbscan">
              
                <span class="pl-5 pr-5 pt-3 pb-3 d-flex flex-row justify-content-between child-folders">
              
                <span>S1.1 -- ML non-supervisé - K-Means &amp; DBSCAN</span>
                <i class="fas fa-sort-down"></i>
              </span>
            </button>
          </ul>
          <ul class ="collapse" id="course_s11--mlnon-supervisé-k-meansdbscan"> 
    
        
          <ul class="p-0 mt-4">
            <button class="btn m-0 p-0 col-12" data-toggle="collapse" data-target="#course_s11-a-théoriekmeans" role="button" aria-expanded="false" aria-controls="course_s11-a-théoriekmeans">
              
                <span class="pl-5 pr-5 pt-3 pb-3 d-flex flex-row justify-content-between parent-folder">
              
                <span>S11-A - Théorie KMEANS</span>
                <i class="fas fa-sort-down"></i>
              </span>
            </button>
          </ul>
          <ul class ="collapse" id="course_s11-a-théoriekmeans"> 
    
        
          <ul class="p-0 mt-4">
            <button class="btn m-0 p-0 col-12" data-toggle="collapse" data-target="#course_2exercices" role="button" aria-expanded="false" aria-controls="course_2exercices">
              
                <span class="pl-5 pr-5 pt-3 pb-3 d-flex flex-row justify-content-between parent-folder">
              
                <span>2.Exercices</span>
                <i class="fas fa-sort-down"></i>
              </span>
            </button>
          </ul>
          <ul class ="collapse" id="course_2exercices"> 
    
        
          
          <ul class="p-2">
            <li class="m-2 list-unstyled"><span class="far fa-file mr-1"></span>
                <a class="course-file" href=/courses/jedha-full-stack-24-program/S1.1%20--%20ML%20non-supervis%C3%A9%20-%20K-Means%20%26%20DBSCAN/S11-A%20-%20Th%C3%A9orie%20KMEANS/2.Exercices/1.%20Conna%C3%AEtre%20ses%20clients%20-%20KMeans%20-%20Exercice.ipynb>1. Connaître ses clients - KMeans - Exercice.ipynb</a>
            </li>
          </ul>
        
    
    
        
          <ul class="p-0 mt-4">
            <button class="btn m-0 p-0 col-12" data-toggle="collapse" data-target="#course_datasets" role="button" aria-expanded="false" aria-controls="course_datasets">
              
                <span class="pl-5 pr-5 pt-3 pb-3 d-flex flex-row justify-content-between child-folders">
              
                <span>datasets</span>
                <i class="fas fa-sort-down"></i>
              </span>
            </button>
          </ul>
          <ul class ="collapse" id="course_datasets"> 
    
        
          
          <ul class="p-2">
            <li class="m-2 list-unstyled"><span class="far fa-file mr-1"></span>
                <a class="course-file" href=/courses/jedha-full-stack-24-program/S1.1%20--%20ML%20non-supervis%C3%A9%20-%20K-Means%20%26%20DBSCAN/S11-A%20-%20Th%C3%A9orie%20KMEANS/2.Exercices/datasets/Mall_Customers.csv>Mall_Customers.csv</a>
            </li>
          </ul>
        
    </ul>
        
    </ul>
        
    
    
        
          <ul class="p-0 mt-4">
            <button class="btn m-0 p-0 col-12" data-toggle="collapse" data-target="#course_3solutions" role="button" aria-expanded="false" aria-controls="course_3solutions">
              
                <span class="pl-5 pr-5 pt-3 pb-3 d-flex flex-row justify-content-between child-folders">
              
                <span>3.Solutions</span>
                <i class="fas fa-sort-down"></i>
              </span>
            </button>
          </ul>
          <ul class ="collapse" id="course_3solutions"> 
    
        
          
          <ul class="p-2">
            <li class="m-2 list-unstyled"><span class="far fa-file mr-1"></span>
                <a class="course-file" href=/courses/jedha-full-stack-24-program/S1.1%20--%20ML%20non-supervis%C3%A9%20-%20K-Means%20%26%20DBSCAN/S11-A%20-%20Th%C3%A9orie%20KMEANS/3.Solutions/1.%20Conna%C3%AEtre%20ses%20clients%20KMeans%20-%20SOLUTION.md>1. Connaître ses clients KMeans - SOLUTION.md</a>
            </li>
          </ul>
        
    </ul>
        
    
    
        
          
          <ul class="p-2">
            <li class="m-2 list-unstyled"><span class="far fa-file mr-1"></span>
                <a class="course-file" href=/courses/jedha-full-stack-24-program/S1.1%20--%20ML%20non-supervis%C3%A9%20-%20K-Means%20%26%20DBSCAN/S11-A%20-%20Th%C3%A9orie%20KMEANS/README.md>README.md</a>
            </li>
          </ul>
        
    </ul>
        
    
    
        
          <ul class="p-0 mt-4">
            <button class="btn m-0 p-0 col-12" data-toggle="collapse" data-target="#course_s11-b-pratiquekmeansdbscan" role="button" aria-expanded="false" aria-controls="course_s11-b-pratiquekmeansdbscan">
              
                <span class="pl-5 pr-5 pt-3 pb-3 d-flex flex-row justify-content-between child-folders">
              
                <span>S11-B - Pratique KMEANS &amp; DBSCAN</span>
                <i class="fas fa-sort-down"></i>
              </span>
            </button>
          </ul>
          <ul class ="collapse" id="course_s11-b-pratiquekmeansdbscan"> 
    
        
          <ul class="p-0 mt-4">
            <button class="btn m-0 p-0 col-12" data-toggle="collapse" data-target="#course_1pratiquekmeans" role="button" aria-expanded="false" aria-controls="course_1pratiquekmeans">
              
                <span class="pl-5 pr-5 pt-3 pb-3 d-flex flex-row justify-content-between parent-folder">
              
                <span>1. Pratique KMeans</span>
                <i class="fas fa-sort-down"></i>
              </span>
            </button>
          </ul>
          <ul class ="collapse" id="course_1pratiquekmeans"> 
    
        
          <ul class="p-0 mt-4">
            <button class="btn m-0 p-0 col-12" data-toggle="collapse" data-target="#course_dataset" role="button" aria-expanded="false" aria-controls="course_dataset">
              
                <span class="pl-5 pr-5 pt-3 pb-3 d-flex flex-row justify-content-between parent-folder">
              
                <span>Dataset</span>
                <i class="fas fa-sort-down"></i>
              </span>
            </button>
          </ul>
          <ul class ="collapse" id="course_dataset"> 
    
        
          
          <ul class="p-2">
            <li class="m-2 list-unstyled"><span class="far fa-file mr-1"></span>
                <a class="course-file" href=/courses/jedha-full-stack-24-program/S1.1%20--%20ML%20non-supervis%C3%A9%20-%20K-Means%20%26%20DBSCAN/S11-B%20-%20Pratique%20KMEANS%20%26%20DBSCAN/1.%20Pratique%20KMeans/Dataset/Auto_Insurance_Claims_Sample.csv>Auto_Insurance_Claims_Sample.csv</a>
            </li>
          </ul>
        
    </ul>
        
    
    
        
          <ul class="p-0 mt-4">
            <button class="btn m-0 p-0 col-12" data-toggle="collapse" data-target="#course_exercices" role="button" aria-expanded="false" aria-controls="course_exercices">
              
                <span class="pl-5 pr-5 pt-3 pb-3 d-flex flex-row justify-content-between child-folders">
              
                <span>Exercices</span>
                <i class="fas fa-sort-down"></i>
              </span>
            </button>
          </ul>
          <ul class ="collapse" id="course_exercices"> 
    
        
          
          <ul class="p-2">
            <li class="m-2 list-unstyled"><span class="far fa-file mr-1"></span>
                <a class="course-file" href=/courses/jedha-full-stack-24-program/S1.1%20--%20ML%20non-supervis%C3%A9%20-%20K-Means%20%26%20DBSCAN/S11-B%20-%20Pratique%20KMEANS%20%26%20DBSCAN/1.%20Pratique%20KMeans/Exercices/1.%20Image%20Compression%20KMeans%20-%20Exercice.ipynb>1. Image Compression KMeans - Exercice.ipynb</a>
            </li>
          </ul>
        
    
    
        
          
          <ul class="p-2">
            <li class="m-2 list-unstyled"><span class="far fa-file mr-1"></span>
                <a class="course-file" href=/courses/jedha-full-stack-24-program/S1.1%20--%20ML%20non-supervis%C3%A9%20-%20K-Means%20%26%20DBSCAN/S11-B%20-%20Pratique%20KMEANS%20%26%20DBSCAN/1.%20Pratique%20KMeans/Exercices/2.%20Digit%20Recognition%20-%20KMeans%20Exercice.ipynb>2. Digit Recognition - KMeans Exercice.ipynb</a>
            </li>
          </ul>
        
    
    
        
          
          <ul class="p-2">
            <li class="m-2 list-unstyled"><span class="far fa-file mr-1"></span>
                <a class="course-file" href=/courses/jedha-full-stack-24-program/S1.1%20--%20ML%20non-supervis%C3%A9%20-%20K-Means%20%26%20DBSCAN/S11-B%20-%20Pratique%20KMEANS%20%26%20DBSCAN/1.%20Pratique%20KMeans/Exercices/3.%20Auto%20Insurance%20-%20KMeans%20Exercice.ipynb>3. Auto Insurance - KMeans Exercice.ipynb</a>
            </li>
          </ul>
        
    </ul>
        
    
    
        
          <ul class="p-0 mt-4">
            <button class="btn m-0 p-0 col-12" data-toggle="collapse" data-target="#course_solutions" role="button" aria-expanded="false" aria-controls="course_solutions">
              
                <span class="pl-5 pr-5 pt-3 pb-3 d-flex flex-row justify-content-between child-folders">
              
                <span>Solutions</span>
                <i class="fas fa-sort-down"></i>
              </span>
            </button>
          </ul>
          <ul class ="collapse" id="course_solutions"> 
    
        
          
          <ul class="p-2">
            <li class="m-2 list-unstyled"><span class="far fa-file mr-1"></span>
                <a class="course-file" href=/courses/jedha-full-stack-24-program/S1.1%20--%20ML%20non-supervis%C3%A9%20-%20K-Means%20%26%20DBSCAN/S11-B%20-%20Pratique%20KMEANS%20%26%20DBSCAN/1.%20Pratique%20KMeans/Solutions/1.%20Image%20Compression%20KMeans%20-%20SOLUTION.md>1. Image Compression KMeans - SOLUTION.md</a>
            </li>
          </ul>
        
    
    
        
          
          <ul class="p-2">
            <li class="m-2 list-unstyled"><span class="far fa-file mr-1"></span>
                <a class="course-file" href=/courses/jedha-full-stack-24-program/S1.1%20--%20ML%20non-supervis%C3%A9%20-%20K-Means%20%26%20DBSCAN/S11-B%20-%20Pratique%20KMEANS%20%26%20DBSCAN/1.%20Pratique%20KMeans/Solutions/2.%20Digit%20Recognition%20KMeans%20-%20SOLUTION.md>2. Digit Recognition KMeans - SOLUTION.md</a>
            </li>
          </ul>
        
    
    
        
          
          <ul class="p-2">
            <li class="m-2 list-unstyled"><span class="far fa-file mr-1"></span>
                <a class="course-file" href=/courses/jedha-full-stack-24-program/S1.1%20--%20ML%20non-supervis%C3%A9%20-%20K-Means%20%26%20DBSCAN/S11-B%20-%20Pratique%20KMEANS%20%26%20DBSCAN/1.%20Pratique%20KMeans/Solutions/3.%20Auto_Insurance%20-%20SOLUTION.md>3. Auto_Insurance - SOLUTION.md</a>
            </li>
          </ul>
        
    </ul>
        
    </ul>
        
    
    
        
          <ul class="p-0 mt-4">
            <button class="btn m-0 p-0 col-12" data-toggle="collapse" data-target="#course_2dbscan" role="button" aria-expanded="false" aria-controls="course_2dbscan">
              
                <span class="pl-5 pr-5 pt-3 pb-3 d-flex flex-row justify-content-between child-folders">
              
                <span>2. DBSCAN</span>
                <i class="fas fa-sort-down"></i>
              </span>
            </button>
          </ul>
          <ul class ="collapse" id="course_2dbscan"> 
    
        
          
          <ul class="p-2">
            <li class="m-2 list-unstyled"><span class="far fa-file mr-1"></span>
                <a class="course-file" href=/courses/jedha-full-stack-24-program/S1.1%20--%20ML%20non-supervis%C3%A9%20-%20K-Means%20%26%20DBSCAN/S11-B%20-%20Pratique%20KMEANS%20%26%20DBSCAN/2.%20DBSCAN/2.%20Vive%20les%20courses%20-%20Exercice.ipynb>2. Vive les courses - Exercice.ipynb</a>
            </li>
          </ul>
        
    
    
        
          
          <ul class="p-2">
            <li class="m-2 list-unstyled"><span class="far fa-file mr-1"></span>
                <a class="course-file" href=/courses/jedha-full-stack-24-program/S1.1%20--%20ML%20non-supervis%C3%A9%20-%20K-Means%20%26%20DBSCAN/S11-B%20-%20Pratique%20KMEANS%20%26%20DBSCAN/2.%20DBSCAN/3.%20Vive%20les%20course%20-%20Exercice%20SOLUTION.md>3. Vive les course - Exercice SOLUTION.md</a>
            </li>
          </ul>
        
    
    
        
          <ul class="p-0 mt-4">
            <button class="btn m-0 p-0 col-12" data-toggle="collapse" data-target="#course_dataset" role="button" aria-expanded="false" aria-controls="course_dataset">
              
                <span class="pl-5 pr-5 pt-3 pb-3 d-flex flex-row justify-content-between child-folders">
              
                <span>Dataset</span>
                <i class="fas fa-sort-down"></i>
              </span>
            </button>
          </ul>
          <ul class ="collapse" id="course_dataset"> 
    
        
          
          <ul class="p-2">
            <li class="m-2 list-unstyled"><span class="far fa-file mr-1"></span>
                <a class="course-file" href=/courses/jedha-full-stack-24-program/S1.1%20--%20ML%20non-supervis%C3%A9%20-%20K-Means%20%26%20DBSCAN/S11-B%20-%20Pratique%20KMEANS%20%26%20DBSCAN/2.%20DBSCAN/Dataset/income_prediction.csv>income_prediction.csv</a>
            </li>
          </ul>
        
    </ul>
        
    
    
        
          
          <ul class="p-2">
            <li class="m-2 list-unstyled"><span class="far fa-file mr-1"></span>
                <a class="course-file" href=/courses/jedha-full-stack-24-program/S1.1%20--%20ML%20non-supervis%C3%A9%20-%20K-Means%20%26%20DBSCAN/S11-B%20-%20Pratique%20KMEANS%20%26%20DBSCAN/2.%20DBSCAN/README.md>README.md</a>
            </li>
          </ul>
        
    </ul>
        
    </ul>
        
    </ul>
        
    
    
        
          <ul class="p-0 mt-4">
            <button class="btn m-0 p-0 col-12" data-toggle="collapse" data-target="#course_s12--projetuberpickups" role="button" aria-expanded="false" aria-controls="course_s12--projetuberpickups">
              
                <span class="pl-5 pr-5 pt-3 pb-3 d-flex flex-row justify-content-between child-folders">
              
                <span>S1.2 -- Projet UBER PICKUPS</span>
                <i class="fas fa-sort-down"></i>
              </span>
            </button>
          </ul>
          <ul class ="collapse" id="course_s12--projetuberpickups"> 
    
        
          <ul class="p-0 mt-4">
            <button class="btn m-0 p-0 col-12" data-toggle="collapse" data-target="#course_extra" role="button" aria-expanded="false" aria-controls="course_extra">
              
                <span class="pl-5 pr-5 pt-3 pb-3 d-flex flex-row justify-content-between parent-folder">
              
                <span>EXTRA</span>
                <i class="fas fa-sort-down"></i>
              </span>
            </button>
          </ul>
          <ul class ="collapse" id="course_extra"> 
    
        
          <ul class="p-0 mt-4">
            <button class="btn m-0 p-0 col-12" data-toggle="collapse" data-target="#course_1cah" role="button" aria-expanded="false" aria-controls="course_1cah">
              
                <span class="pl-5 pr-5 pt-3 pb-3 d-flex flex-row justify-content-between parent-folder">
              
                <span>1. CAH</span>
                <i class="fas fa-sort-down"></i>
              </span>
            </button>
          </ul>
          <ul class ="collapse" id="course_1cah"> 
    
        
          
          <ul class="p-2">
            <li class="m-2 list-unstyled"><span class="far fa-file mr-1"></span>
                <a class="course-file" href=/courses/jedha-full-stack-24-program/S1.2%20--%20Projet%20UBER%20PICKUPS/EXTRA/1.%20CAH/Apprentissage%20non%20supervis%C3%A9%20-%20Classification%20ascendante%20hi%C3%A9rarchique.md>Apprentissage non supervisé - Classification ascendante hiérarchique.md</a>
            </li>
          </ul>
        
    
    
        
          
          <ul class="p-2">
            <li class="m-2 list-unstyled"><span class="far fa-file mr-1"></span>
                <a class="course-file" href=/courses/jedha-full-stack-24-program/S1.2%20--%20Projet%20UBER%20PICKUPS/EXTRA/1.%20CAH/Exercices%20-%20CAH.md>Exercices - CAH.md</a>
            </li>
          </ul>
        
    
    
        
          
          <ul class="p-2">
            <li class="m-2 list-unstyled"><span class="far fa-file mr-1"></span>
                <a class="course-file" href=/courses/jedha-full-stack-24-program/S1.2%20--%20Projet%20UBER%20PICKUPS/EXTRA/1.%20CAH/fromage.txt>fromage.txt</a>
            </li>
          </ul>
        
    </ul>
        
    
    
        
          <ul class="p-0 mt-4">
            <button class="btn m-0 p-0 col-12" data-toggle="collapse" data-target="#course_2tsne" role="button" aria-expanded="false" aria-controls="course_2tsne">
              
                <span class="pl-5 pr-5 pt-3 pb-3 d-flex flex-row justify-content-between child-folders">
              
                <span>2. TSNE</span>
                <i class="fas fa-sort-down"></i>
              </span>
            </button>
          </ul>
          <ul class ="collapse" id="course_2tsne"> 
    
        
          
          <ul class="p-2">
            <li class="m-2 list-unstyled"><span class="far fa-file mr-1"></span>
                <a class="course-file" href=/courses/jedha-full-stack-24-program/S1.2%20--%20Projet%20UBER%20PICKUPS/EXTRA/2.%20TSNE/Apprentissage%20non%20supervis%C3%A9%20-%20T%20SNE.md>Apprentissage non supervisé - T SNE.md</a>
            </li>
          </ul>
        
    
    
        
          
          <ul class="p-2">
            <li class="m-2 list-unstyled"><span class="far fa-file mr-1"></span>
                <a class="course-file" href=/courses/jedha-full-stack-24-program/S1.2%20--%20Projet%20UBER%20PICKUPS/EXTRA/2.%20TSNE/Exercice%20-%20TSNE.md>Exercice - TSNE.md</a>
            </li>
          </ul>
        
    
    
        
          
          <ul class="p-2">
            <li class="m-2 list-unstyled"><span class="far fa-file mr-1"></span>
                <a class="course-file" href=/courses/jedha-full-stack-24-program/S1.2%20--%20Projet%20UBER%20PICKUPS/EXTRA/2.%20TSNE/mnist_test.csv>mnist_test.csv</a>
            </li>
          </ul>
        
    </ul>
        
    </ul>
        
    
    
        
          <ul class="p-0 mt-4">
            <button class="btn m-0 p-0 col-12" data-toggle="collapse" data-target="#course_s12-a-projetuberpickups" role="button" aria-expanded="false" aria-controls="course_s12-a-projetuberpickups">
              
                <span class="pl-5 pr-5 pt-3 pb-3 d-flex flex-row justify-content-between child-folders">
              
                <span>S12-A - Projet UBER PICKUPS</span>
                <i class="fas fa-sort-down"></i>
              </span>
            </button>
          </ul>
          <ul class ="collapse" id="course_s12-a-projetuberpickups"> 
    
        
          
          <ul class="p-2">
            <li class="m-2 list-unstyled"><span class="far fa-file mr-1"></span>
                <a class="course-file" href=/courses/jedha-full-stack-24-program/S1.2%20--%20Projet%20UBER%20PICKUPS/S12-A%20-%20Projet%20UBER%20PICKUPS/Income_prediction_SOLUTION.md>Income_prediction_SOLUTION.md</a>
            </li>
          </ul>
        
    
    
        
          
          <ul class="p-2">
            <li class="m-2 list-unstyled"><span class="far fa-file mr-1"></span>
                <a class="course-file" href=/courses/jedha-full-stack-24-program/S1.2%20--%20Projet%20UBER%20PICKUPS/S12-A%20-%20Projet%20UBER%20PICKUPS/Income_predictions_ENONCE.ipynb>Income_predictions_ENONCE.ipynb</a>
            </li>
          </ul>
        
    
    
        
          
          <ul class="p-2">
            <li class="m-2 list-unstyled"><span class="far fa-file mr-1"></span>
                <a class="course-file" href=/courses/jedha-full-stack-24-program/S1.2%20--%20Projet%20UBER%20PICKUPS/S12-A%20-%20Projet%20UBER%20PICKUPS/Projet%20--%20UBER%20PICKUPS%20-%20SOLUTIONS.md>Projet -- UBER PICKUPS - SOLUTIONS.md</a>
            </li>
          </ul>
        
    
    
        
          
          <ul class="p-2">
            <li class="m-2 list-unstyled"><span class="far fa-file mr-1"></span>
                <a class="course-file" href=/courses/jedha-full-stack-24-program/S1.2%20--%20Projet%20UBER%20PICKUPS/S12-A%20-%20Projet%20UBER%20PICKUPS/README.md>README.md</a>
            </li>
          </ul>
        
    </ul>
        
    
    
        
          <ul class="p-0 mt-4">
            <button class="btn m-0 p-0 col-12" data-toggle="collapse" data-target="#course_s12-b-articlemachinelearningnonsupervisé" role="button" aria-expanded="false" aria-controls="course_s12-b-articlemachinelearningnonsupervisé">
              
                <span class="pl-5 pr-5 pt-3 pb-3 d-flex flex-row justify-content-between child-folders">
              
                <span>S12-B - Article Machine Learning Non Supervisé</span>
                <i class="fas fa-sort-down"></i>
              </span>
            </button>
          </ul>
          <ul class ="collapse" id="course_s12-b-articlemachinelearningnonsupervisé"> 
    
        
          
          <ul class="p-2">
            <li class="m-2 list-unstyled"><span class="far fa-file mr-1"></span>
                <a class="course-file" href=/courses/jedha-full-stack-24-program/S1.2%20--%20Projet%20UBER%20PICKUPS/S12-B%20-%20Article%20Machine%20Learning%20Non%20Supervis%C3%A9/README.md>README.md</a>
            </li>
          </ul>
        
    </ul>
        
    </ul>
        
    
    
        
          <ul class="p-0 mt-4">
            <button class="btn m-0 p-0 col-12" data-toggle="collapse" data-target="#course_s13--deeplearning-introductionauxréseauxdeneuronesfastai" role="button" aria-expanded="false" aria-controls="course_s13--deeplearning-introductionauxréseauxdeneuronesfastai">
              
                <span class="pl-5 pr-5 pt-3 pb-3 d-flex flex-row justify-content-between child-folders">
              
                <span>S1.3 -- Deep Learning - Introduction aux réseaux de neurones &amp; FASTAI</span>
                <i class="fas fa-sort-down"></i>
              </span>
            </button>
          </ul>
          <ul class ="collapse" id="course_s13--deeplearning-introductionauxréseauxdeneuronesfastai"> 
    
        
          <ul class="p-0 mt-4">
            <button class="btn m-0 p-0 col-12" data-toggle="collapse" data-target="#course_s13-a-leperceptron" role="button" aria-expanded="false" aria-controls="course_s13-a-leperceptron">
              
                <span class="pl-5 pr-5 pt-3 pb-3 d-flex flex-row justify-content-between parent-folder">
              
                <span>S13-A - Le perceptron</span>
                <i class="fas fa-sort-down"></i>
              </span>
            </button>
          </ul>
          <ul class ="collapse" id="course_s13-a-leperceptron"> 
    
        
          <ul class="p-0 mt-4">
            <button class="btn m-0 p-0 col-12" data-toggle="collapse" data-target="#course_exercices" role="button" aria-expanded="false" aria-controls="course_exercices">
              
                <span class="pl-5 pr-5 pt-3 pb-3 d-flex flex-row justify-content-between parent-folder">
              
                <span>Exercices</span>
                <i class="fas fa-sort-down"></i>
              </span>
            </button>
          </ul>
          <ul class ="collapse" id="course_exercices"> 
    
        
          
          <ul class="p-2">
            <li class="m-2 list-unstyled"><span class="far fa-file mr-1"></span>
                <a class="course-file" href=/courses/jedha-full-stack-24-program/S1.3%20--%20Deep%20Learning%20-%20Introduction%20aux%20r%C3%A9seaux%20de%20neurones%20%26%20FASTAI/S13-A%20-%20Le%20perceptron/Exercices/1.%20Linear%20Regression%20From%20Scratch%20-%20EXERCICE.ipynb>1. Linear Regression From Scratch - EXERCICE.ipynb</a>
            </li>
          </ul>
        
    
    
        
          
          <ul class="p-2">
            <li class="m-2 list-unstyled"><span class="far fa-file mr-1"></span>
                <a class="course-file" href=/courses/jedha-full-stack-24-program/S1.3%20--%20Deep%20Learning%20-%20Introduction%20aux%20r%C3%A9seaux%20de%20neurones%20%26%20FASTAI/S13-A%20-%20Le%20perceptron/Exercices/1.%20Perceptron.ipynb>1. Perceptron.ipynb</a>
            </li>
          </ul>
        
    
    
        
          
          <ul class="p-2">
            <li class="m-2 list-unstyled"><span class="far fa-file mr-1"></span>
                <a class="course-file" href=/courses/jedha-full-stack-24-program/S1.3%20--%20Deep%20Learning%20-%20Introduction%20aux%20r%C3%A9seaux%20de%20neurones%20%26%20FASTAI/S13-A%20-%20Le%20perceptron/Exercices/2.%20Tabular%20data%20with%20FastAI.ipynb>2. Tabular data with FastAI.ipynb</a>
            </li>
          </ul>
        
    </ul>
        
    
    
        
          
          <ul class="p-2">
            <li class="m-2 list-unstyled"><span class="far fa-file mr-1"></span>
                <a class="course-file" href=/courses/jedha-full-stack-24-program/S1.3%20--%20Deep%20Learning%20-%20Introduction%20aux%20r%C3%A9seaux%20de%20neurones%20%26%20FASTAI/S13-A%20-%20Le%20perceptron/README.md>README.md</a>
            </li>
          </ul>
        
    
    
        
          <ul class="p-0 mt-4">
            <button class="btn m-0 p-0 col-12" data-toggle="collapse" data-target="#course_solutions" role="button" aria-expanded="false" aria-controls="course_solutions">
              
                <span class="pl-5 pr-5 pt-3 pb-3 d-flex flex-row justify-content-between child-folders">
              
                <span>Solutions</span>
                <i class="fas fa-sort-down"></i>
              </span>
            </button>
          </ul>
          <ul class ="collapse" id="course_solutions"> 
    
        
          
          <ul class="p-2">
            <li class="m-2 list-unstyled"><span class="far fa-file mr-1"></span>
                <a class="course-file" href=/courses/jedha-full-stack-24-program/S1.3%20--%20Deep%20Learning%20-%20Introduction%20aux%20r%C3%A9seaux%20de%20neurones%20%26%20FASTAI/S13-A%20-%20Le%20perceptron/Solutions/1.%20Linear%20Regression%20From%20Scratch%20-%20SOLUTIONS.md>1. Linear Regression From Scratch - SOLUTIONS.md</a>
            </li>
          </ul>
        
    
    
        
          
          <ul class="p-2">
            <li class="m-2 list-unstyled"><span class="far fa-file mr-1"></span>
                <a class="course-file" href=/courses/jedha-full-stack-24-program/S1.3%20--%20Deep%20Learning%20-%20Introduction%20aux%20r%C3%A9seaux%20de%20neurones%20%26%20FASTAI/S13-A%20-%20Le%20perceptron/Solutions/2.%20Perceptron.md>2. Perceptron.md</a>
            </li>
          </ul>
        
    
    
        
          
          <ul class="p-2">
            <li class="m-2 list-unstyled"><span class="far fa-file mr-1"></span>
                <a class="course-file" href=/courses/jedha-full-stack-24-program/S1.3%20--%20Deep%20Learning%20-%20Introduction%20aux%20r%C3%A9seaux%20de%20neurones%20%26%20FASTAI/S13-A%20-%20Le%20perceptron/Solutions/3.%20Tabular%20Data%20with%20FastAI.md>3. Tabular Data with FastAI.md</a>
            </li>
          </ul>
        
    </ul>
        
    </ul>
        
    
    
        
          <ul class="p-0 mt-4">
            <button class="btn m-0 p-0 col-12" data-toggle="collapse" data-target="#course_s13-b-pratiquedefastai" role="button" aria-expanded="false" aria-controls="course_s13-b-pratiquedefastai">
              
                <span class="pl-5 pr-5 pt-3 pb-3 d-flex flex-row justify-content-between child-folders">
              
                <span>S13-B - Pratique de FASTAI</span>
                <i class="fas fa-sort-down"></i>
              </span>
            </button>
          </ul>
          <ul class ="collapse" id="course_s13-b-pratiquedefastai"> 
    
        
          
          <ul class="p-2">
            <li class="m-2 list-unstyled"><span class="far fa-file mr-1"></span>
                <a class="course-file" href=/courses/jedha-full-stack-24-program/S1.3%20--%20Deep%20Learning%20-%20Introduction%20aux%20r%C3%A9seaux%20de%20neurones%20%26%20FASTAI/S13-B%20-%20Pratique%20de%20FASTAI/1.%20FastAI%20101.ipynb>1. FastAI 101.ipynb</a>
            </li>
          </ul>
        
    
    
        
          <ul class="p-0 mt-4">
            <button class="btn m-0 p-0 col-12" data-toggle="collapse" data-target="#course_2exercices" role="button" aria-expanded="false" aria-controls="course_2exercices">
              
                <span class="pl-5 pr-5 pt-3 pb-3 d-flex flex-row justify-content-between child-folders">
              
                <span>2. Exercices</span>
                <i class="fas fa-sort-down"></i>
              </span>
            </button>
          </ul>
          <ul class ="collapse" id="course_2exercices"> 
    
        
          
          <ul class="p-2">
            <li class="m-2 list-unstyled"><span class="far fa-file mr-1"></span>
                <a class="course-file" href=/courses/jedha-full-stack-24-program/S1.3%20--%20Deep%20Learning%20-%20Introduction%20aux%20r%C3%A9seaux%20de%20neurones%20%26%20FASTAI/S13-B%20-%20Pratique%20de%20FASTAI/2.%20Exercices/1.%20Trouver%20un%20visage%20sur%20une%20photo.ipynb>1. Trouver un visage sur une photo.ipynb</a>
            </li>
          </ul>
        
    
    
        
          
          <ul class="p-2">
            <li class="m-2 list-unstyled"><span class="far fa-file mr-1"></span>
                <a class="course-file" href=/courses/jedha-full-stack-24-program/S1.3%20--%20Deep%20Learning%20-%20Introduction%20aux%20r%C3%A9seaux%20de%20neurones%20%26%20FASTAI/S13-B%20-%20Pratique%20de%20FASTAI/2.%20Exercices/2.%20Multi-label%20Classification.ipynb>2. Multi-label Classification.ipynb</a>
            </li>
          </ul>
        
    </ul>
        
    
    
        
          
          <ul class="p-2">
            <li class="m-2 list-unstyled"><span class="far fa-file mr-1"></span>
                <a class="course-file" href=/courses/jedha-full-stack-24-program/S1.3%20--%20Deep%20Learning%20-%20Introduction%20aux%20r%C3%A9seaux%20de%20neurones%20%26%20FASTAI/S13-B%20-%20Pratique%20de%20FASTAI/2.%20Importer%20des%20donn%C3%A9es%20custom%20sur%20FastAI.ipynb>2. Importer des données custom sur FastAI.ipynb</a>
            </li>
          </ul>
        
    
    
        
          <ul class="p-0 mt-4">
            <button class="btn m-0 p-0 col-12" data-toggle="collapse" data-target="#course_3solutions" role="button" aria-expanded="false" aria-controls="course_3solutions">
              
                <span class="pl-5 pr-5 pt-3 pb-3 d-flex flex-row justify-content-between child-folders">
              
                <span>3. Solutions</span>
                <i class="fas fa-sort-down"></i>
              </span>
            </button>
          </ul>
          <ul class ="collapse" id="course_3solutions"> 
    
        
          
          <ul class="p-2">
            <li class="m-2 list-unstyled"><span class="far fa-file mr-1"></span>
                <a class="course-file" href=/courses/jedha-full-stack-24-program/S1.3%20--%20Deep%20Learning%20-%20Introduction%20aux%20r%C3%A9seaux%20de%20neurones%20%26%20FASTAI/S13-B%20-%20Pratique%20de%20FASTAI/3.%20Solutions/1.%20Trouver%20un%20visage%20sur%20une%20photo.md>1. Trouver un visage sur une photo.md</a>
            </li>
          </ul>
        
    
    
        
          
          <ul class="p-2">
            <li class="m-2 list-unstyled"><span class="far fa-file mr-1"></span>
                <a class="course-file" href=/courses/jedha-full-stack-24-program/S1.3%20--%20Deep%20Learning%20-%20Introduction%20aux%20r%C3%A9seaux%20de%20neurones%20%26%20FASTAI/S13-B%20-%20Pratique%20de%20FASTAI/3.%20Solutions/2.%20Multi-Label%20Classification.md>2. Multi-Label Classification.md</a>
            </li>
          </ul>
        
    </ul>
        
    </ul>
        
    </ul>
        
    
    
        
          <ul class="p-0 mt-4">
            <button class="btn m-0 p-0 col-12" data-toggle="collapse" data-target="#course_s14--deeplearning-cnnnlp" role="button" aria-expanded="false" aria-controls="course_s14--deeplearning-cnnnlp">
              
                <span class="pl-5 pr-5 pt-3 pb-3 d-flex flex-row justify-content-between child-folders">
              
                <span>S1.4 -- Deep Learning - CNN &amp; NLP</span>
                <i class="fas fa-sort-down"></i>
              </span>
            </button>
          </ul>
          <ul class ="collapse" id="course_s14--deeplearning-cnnnlp"> 
    
        
          <ul class="p-0 mt-4">
            <button class="btn m-0 p-0 col-12" data-toggle="collapse" data-target="#course_extra-lstm" role="button" aria-expanded="false" aria-controls="course_extra-lstm">
              
                <span class="pl-5 pr-5 pt-3 pb-3 d-flex flex-row justify-content-between parent-folder">
              
                <span>EXTRA - LSTM</span>
                <i class="fas fa-sort-down"></i>
              </span>
            </button>
          </ul>
          <ul class ="collapse" id="course_extra-lstm"> 
    
        
          
          <ul class="p-2">
            <li class="m-2 list-unstyled"><span class="far fa-file mr-1"></span>
                <a class="course-file" href=/courses/jedha-full-stack-24-program/S1.4%20--%20Deep%20Learning%20-%20CNN%20%26%20NLP/EXTRA%20-%20LSTM/README.md>README.md</a>
            </li>
          </ul>
        
    </ul>
        
    
    
        
          <ul class="p-0 mt-4">
            <button class="btn m-0 p-0 col-12" data-toggle="collapse" data-target="#course_s14-a-cnn" role="button" aria-expanded="false" aria-controls="course_s14-a-cnn">
              
                <span class="pl-5 pr-5 pt-3 pb-3 d-flex flex-row justify-content-between child-folders">
              
                <span>S14-A - CNN</span>
                <i class="fas fa-sort-down"></i>
              </span>
            </button>
          </ul>
          <ul class ="collapse" id="course_s14-a-cnn"> 
    
        
          
          <ul class="p-2">
            <li class="m-2 list-unstyled"><span class="far fa-file mr-1"></span>
                <a class="course-file" href=/courses/jedha-full-stack-24-program/S1.4%20--%20Deep%20Learning%20-%20CNN%20%26%20NLP/S14-A%20-%20CNN/2.%20Construire_%26_Evaluer_un_Learner.ipynb>2. Construire_&amp;_Evaluer_un_Learner.ipynb</a>
            </li>
          </ul>
        
    
    
        
          <ul class="p-0 mt-4">
            <button class="btn m-0 p-0 col-12" data-toggle="collapse" data-target="#course_exercices" role="button" aria-expanded="false" aria-controls="course_exercices">
              
                <span class="pl-5 pr-5 pt-3 pb-3 d-flex flex-row justify-content-between child-folders">
              
                <span>Exercices</span>
                <i class="fas fa-sort-down"></i>
              </span>
            </button>
          </ul>
          <ul class ="collapse" id="course_exercices"> 
    
        
          
          <ul class="p-2">
            <li class="m-2 list-unstyled"><span class="far fa-file mr-1"></span>
                <a class="course-file" href=/courses/jedha-full-stack-24-program/S1.4%20--%20Deep%20Learning%20-%20CNN%20%26%20NLP/S14-A%20-%20CNN/Exercices/1.%20Image%20Recognition%20with%20FastAI.ipynb>1. Image Recognition with FastAI.ipynb</a>
            </li>
          </ul>
        
    
    
        
          
          <ul class="p-2">
            <li class="m-2 list-unstyled"><span class="far fa-file mr-1"></span>
                <a class="course-file" href=/courses/jedha-full-stack-24-program/S1.4%20--%20Deep%20Learning%20-%20CNN%20%26%20NLP/S14-A%20-%20CNN/Exercices/2.%20Fastai%20From%20local%20files.ipynb>2. Fastai From local files.ipynb</a>
            </li>
          </ul>
        
    
    
        
          
          <ul class="p-2">
            <li class="m-2 list-unstyled"><span class="far fa-file mr-1"></span>
                <a class="course-file" href=/courses/jedha-full-stack-24-program/S1.4%20--%20Deep%20Learning%20-%20CNN%20%26%20NLP/S14-A%20-%20CNN/Exercices/3.%20Segmentation%20with%20FastAi.ipynb>3. Segmentation with FastAi.ipynb</a>
            </li>
          </ul>
        
    
    
        
          <ul class="p-0 mt-4">
            <button class="btn m-0 p-0 col-12" data-toggle="collapse" data-target="#course_datasets" role="button" aria-expanded="false" aria-controls="course_datasets">
              
                <span class="pl-5 pr-5 pt-3 pb-3 d-flex flex-row justify-content-between child-folders">
              
                <span>Datasets</span>
                <i class="fas fa-sort-down"></i>
              </span>
            </button>
          </ul>
          <ul class ="collapse" id="course_datasets"> 
    
        
          
          <ul class="p-2">
            <li class="m-2 list-unstyled"><span class="far fa-file mr-1"></span>
                <a class="course-file" href=/courses/jedha-full-stack-24-program/S1.4%20--%20Deep%20Learning%20-%20CNN%20%26%20NLP/S14-A%20-%20CNN/Exercices/Datasets/femme.csv>femme.csv</a>
            </li>
          </ul>
        
    
    
        
          
          <ul class="p-2">
            <li class="m-2 list-unstyled"><span class="far fa-file mr-1"></span>
                <a class="course-file" href=/courses/jedha-full-stack-24-program/S1.4%20--%20Deep%20Learning%20-%20CNN%20%26%20NLP/S14-A%20-%20CNN/Exercices/Datasets/homme.csv>homme.csv</a>
            </li>
          </ul>
        
    </ul>
        
    </ul>
        
    
    
        
          
          <ul class="p-2">
            <li class="m-2 list-unstyled"><span class="far fa-file mr-1"></span>
                <a class="course-file" href=/courses/jedha-full-stack-24-program/S1.4%20--%20Deep%20Learning%20-%20CNN%20%26%20NLP/S14-A%20-%20CNN/README.md>README.md</a>
            </li>
          </ul>
        
    
    
        
          <ul class="p-0 mt-4">
            <button class="btn m-0 p-0 col-12" data-toggle="collapse" data-target="#course_solutions" role="button" aria-expanded="false" aria-controls="course_solutions">
              
                <span class="pl-5 pr-5 pt-3 pb-3 d-flex flex-row justify-content-between child-folders">
              
                <span>Solutions</span>
                <i class="fas fa-sort-down"></i>
              </span>
            </button>
          </ul>
          <ul class ="collapse" id="course_solutions"> 
    
        
          
          <ul class="p-2">
            <li class="m-2 list-unstyled"><span class="far fa-file mr-1"></span>
                <a class="course-file" href=/courses/jedha-full-stack-24-program/S1.4%20--%20Deep%20Learning%20-%20CNN%20%26%20NLP/S14-A%20-%20CNN/Solutions/1.%20Image%20Recognition.md>1. Image Recognition.md</a>
            </li>
          </ul>
        
    
    
        
          
          <ul class="p-2">
            <li class="m-2 list-unstyled"><span class="far fa-file mr-1"></span>
                <a class="course-file" href=/courses/jedha-full-stack-24-program/S1.4%20--%20Deep%20Learning%20-%20CNN%20%26%20NLP/S14-A%20-%20CNN/Solutions/2.%20FastAi%20from%20local%20files.md>2. FastAi from local files.md</a>
            </li>
          </ul>
        
    
    
        
          
          <ul class="p-2">
            <li class="m-2 list-unstyled"><span class="far fa-file mr-1"></span>
                <a class="course-file" href=/courses/jedha-full-stack-24-program/S1.4%20--%20Deep%20Learning%20-%20CNN%20%26%20NLP/S14-A%20-%20CNN/Solutions/3.%20Segmentation%20with%20FastAi.md>3. Segmentation with FastAi.md</a>
            </li>
          </ul>
        
    </ul>
        
    </ul>
        
    
    
        
          <ul class="p-0 mt-4">
            <button class="btn m-0 p-0 col-12" data-toggle="collapse" data-target="#course_s14-b-nlp" role="button" aria-expanded="false" aria-controls="course_s14-b-nlp">
              
                <span class="pl-5 pr-5 pt-3 pb-3 d-flex flex-row justify-content-between child-folders">
              
                <span>S14-B - NLP</span>
                <i class="fas fa-sort-down"></i>
              </span>
            </button>
          </ul>
          <ul class ="collapse" id="course_s14-b-nlp"> 
    
        
          <ul class="p-0 mt-4">
            <button class="btn m-0 p-0 col-12" data-toggle="collapse" data-target="#course_2exercices" role="button" aria-expanded="false" aria-controls="course_2exercices">
              
                <span class="pl-5 pr-5 pt-3 pb-3 d-flex flex-row justify-content-between parent-folder">
              
                <span>2. Exercices</span>
                <i class="fas fa-sort-down"></i>
              </span>
            </button>
          </ul>
          <ul class ="collapse" id="course_2exercices"> 
    
        
          
          <ul class="p-2">
            <li class="m-2 list-unstyled"><span class="far fa-file mr-1"></span>
                <a class="course-file" href=/courses/jedha-full-stack-24-program/S1.4%20--%20Deep%20Learning%20-%20CNN%20%26%20NLP/S14-B%20-%20NLP/2.%20Exercices/1.%20NLP%20in%20FRENCH%20with%20FastAI.ipynb>1. NLP in FRENCH with FastAI.ipynb</a>
            </li>
          </ul>
        
    
    
        
          
          <ul class="p-2">
            <li class="m-2 list-unstyled"><span class="far fa-file mr-1"></span>
                <a class="course-file" href=/courses/jedha-full-stack-24-program/S1.4%20--%20Deep%20Learning%20-%20CNN%20%26%20NLP/S14-B%20-%20NLP/2.%20Exercices/1.%20NLP%20with%20FastAI.ipynb>1. NLP with FastAI.ipynb</a>
            </li>
          </ul>
        
    </ul>
        
    
    
        
          <ul class="p-0 mt-4">
            <button class="btn m-0 p-0 col-12" data-toggle="collapse" data-target="#course_3solutions" role="button" aria-expanded="false" aria-controls="course_3solutions">
              
                <span class="pl-5 pr-5 pt-3 pb-3 d-flex flex-row justify-content-between child-folders">
              
                <span>3. Solutions</span>
                <i class="fas fa-sort-down"></i>
              </span>
            </button>
          </ul>
          <ul class ="collapse" id="course_3solutions"> 
    
        
          
          <ul class="p-2">
            <li class="m-2 list-unstyled"><span class="far fa-file mr-1"></span>
                <a class="course-file" href=/courses/jedha-full-stack-24-program/S1.4%20--%20Deep%20Learning%20-%20CNN%20%26%20NLP/S14-B%20-%20NLP/3.%20Solutions/1.%20NLP%20in%20FRENCH%20with%20FASTAI.md>1. NLP in FRENCH with FASTAI.md</a>
            </li>
          </ul>
        
    
    
        
          
          <ul class="p-2">
            <li class="m-2 list-unstyled"><span class="far fa-file mr-1"></span>
                <a class="course-file" href=/courses/jedha-full-stack-24-program/S1.4%20--%20Deep%20Learning%20-%20CNN%20%26%20NLP/S14-B%20-%20NLP/3.%20Solutions/1.%20NLP%20with%20FASTAI.md>1. NLP with FASTAI.md</a>
            </li>
          </ul>
        
    </ul>
        
    
    
        
          
          <ul class="p-2">
            <li class="m-2 list-unstyled"><span class="far fa-file mr-1"></span>
                <a class="course-file" href=/courses/jedha-full-stack-24-program/S1.4%20--%20Deep%20Learning%20-%20CNN%20%26%20NLP/S14-B%20-%20NLP/README.md>README.md</a>
            </li>
          </ul>
        
    </ul>
        
    </ul>
        
    
    
        
          <ul class="p-0 mt-4">
            <button class="btn m-0 p-0 col-12" data-toggle="collapse" data-target="#course_s15--deeplearningsurtensorflow20" role="button" aria-expanded="false" aria-controls="course_s15--deeplearningsurtensorflow20">
              
                <span class="pl-5 pr-5 pt-3 pb-3 d-flex flex-row justify-content-between child-folders">
              
                <span>S1.5 -- Deep Learning sur TensorFlow 2.0</span>
                <i class="fas fa-sort-down"></i>
              </span>
            </button>
          </ul>
          <ul class ="collapse" id="course_s15--deeplearningsurtensorflow20"> 
    
        
          <ul class="p-0 mt-4">
            <button class="btn m-0 p-0 col-12" data-toggle="collapse" data-target="#course_s15-a-manipulationdetenseurscréationd&#39;unestructuresimple" role="button" aria-expanded="false" aria-controls="course_s15-a-manipulationdetenseurscréationd&#39;unestructuresimple">
              
                <span class="pl-5 pr-5 pt-3 pb-3 d-flex flex-row justify-content-between parent-folder">
              
                <span>S15-A - Manipulation de tenseurs &amp; Création d&#39;une structure simple</span>
                <i class="fas fa-sort-down"></i>
              </span>
            </button>
          </ul>
          <ul class ="collapse" id="course_s15-a-manipulationdetenseurscréationd&#39;unestructuresimple"> 
    
        
          <ul class="p-0 mt-4">
            <button class="btn m-0 p-0 col-12" data-toggle="collapse" data-target="#course_exercices" role="button" aria-expanded="false" aria-controls="course_exercices">
              
                <span class="pl-5 pr-5 pt-3 pb-3 d-flex flex-row justify-content-between parent-folder">
              
                <span>Exercices</span>
                <i class="fas fa-sort-down"></i>
              </span>
            </button>
          </ul>
          <ul class ="collapse" id="course_exercices"> 
    
        
          
          <ul class="p-2">
            <li class="m-2 list-unstyled"><span class="far fa-file mr-1"></span>
                <a class="course-file" href=/courses/jedha-full-stack-24-program/S1.5%20--%20Deep%20Learning%20sur%20TensorFlow%202.0/S15-A%20-%20Manipulation%20de%20tenseurs%20%26%20Cr%C3%A9ation%20d%27une%20structure%20simple/Exercices/1.%20Manipulations%20de%20Tenseurs%20sur%20TF%202.ipynb>1. Manipulations de Tenseurs sur TF 2.ipynb</a>
            </li>
          </ul>
        
    
    
        
          
          <ul class="p-2">
            <li class="m-2 list-unstyled"><span class="far fa-file mr-1"></span>
                <a class="course-file" href=/courses/jedha-full-stack-24-program/S1.5%20--%20Deep%20Learning%20sur%20TensorFlow%202.0/S15-A%20-%20Manipulation%20de%20tenseurs%20%26%20Cr%C3%A9ation%20d%27une%20structure%20simple/Exercices/2.%20Cats%20%26%20Dogs.ipynb>2. Cats &amp; Dogs.ipynb</a>
            </li>
          </ul>
        
    </ul>
        
    
    
        
          
          <ul class="p-2">
            <li class="m-2 list-unstyled"><span class="far fa-file mr-1"></span>
                <a class="course-file" href=/courses/jedha-full-stack-24-program/S1.5%20--%20Deep%20Learning%20sur%20TensorFlow%202.0/S15-A%20-%20Manipulation%20de%20tenseurs%20%26%20Cr%C3%A9ation%20d%27une%20structure%20simple/Introduction%20Tensorflow%202.ipynb>Introduction Tensorflow 2.ipynb</a>
            </li>
          </ul>
        
    
    
        
          <ul class="p-0 mt-4">
            <button class="btn m-0 p-0 col-12" data-toggle="collapse" data-target="#course_solutions" role="button" aria-expanded="false" aria-controls="course_solutions">
              
                <span class="pl-5 pr-5 pt-3 pb-3 d-flex flex-row justify-content-between child-folders">
              
                <span>Solutions</span>
                <i class="fas fa-sort-down"></i>
              </span>
            </button>
          </ul>
          <ul class ="collapse" id="course_solutions"> 
    
        
          
          <ul class="p-2">
            <li class="m-2 list-unstyled"><span class="far fa-file mr-1"></span>
                <a class="course-file" href=/courses/jedha-full-stack-24-program/S1.5%20--%20Deep%20Learning%20sur%20TensorFlow%202.0/S15-A%20-%20Manipulation%20de%20tenseurs%20%26%20Cr%C3%A9ation%20d%27une%20structure%20simple/Solutions/1.%20Manipulations%20de%20Tenseurs%20sur%20TF%202.md>1. Manipulations de Tenseurs sur TF 2.md</a>
            </li>
          </ul>
        
    
    
        
          
          <ul class="p-2">
            <li class="m-2 list-unstyled"><span class="far fa-file mr-1"></span>
                <a class="course-file" href=/courses/jedha-full-stack-24-program/S1.5%20--%20Deep%20Learning%20sur%20TensorFlow%202.0/S15-A%20-%20Manipulation%20de%20tenseurs%20%26%20Cr%C3%A9ation%20d%27une%20structure%20simple/Solutions/2.%20Cats%20%26%20Dogs.md>2. Cats &amp; Dogs.md</a>
            </li>
          </ul>
        
    </ul>
        
    </ul>
        
    
    
        
          <ul class="p-0 mt-4">
            <button class="btn m-0 p-0 col-12" data-toggle="collapse" data-target="#course_s15-b-transferlearningsurtensorflow20" role="button" aria-expanded="false" aria-controls="course_s15-b-transferlearningsurtensorflow20">
              
                <span class="pl-5 pr-5 pt-3 pb-3 d-flex flex-row justify-content-between child-folders">
              
                <span>S15-B - Transfer Learning sur TensorFlow 2.0</span>
                <i class="fas fa-sort-down"></i>
              </span>
            </button>
          </ul>
          <ul class ="collapse" id="course_s15-b-transferlearningsurtensorflow20"> 
    
        
          <ul class="p-0 mt-4">
            <button class="btn m-0 p-0 col-12" data-toggle="collapse" data-target="#course_exercices" role="button" aria-expanded="false" aria-controls="course_exercices">
              
                <span class="pl-5 pr-5 pt-3 pb-3 d-flex flex-row justify-content-between parent-folder">
              
                <span>Exercices</span>
                <i class="fas fa-sort-down"></i>
              </span>
            </button>
          </ul>
          <ul class ="collapse" id="course_exercices"> 
    
        
          
          <ul class="p-2">
            <li class="m-2 list-unstyled"><span class="far fa-file mr-1"></span>
                <a class="course-file" href=/courses/jedha-full-stack-24-program/S1.5%20--%20Deep%20Learning%20sur%20TensorFlow%202.0/S15-B%20-%20Transfer%20Learning%20sur%20TensorFlow%202.0/Exercices/1.%20Cifar10%20with%20ResNet50.ipynb>1. Cifar10 with ResNet50.ipynb</a>
            </li>
          </ul>
        
    
    
        
          
          <ul class="p-2">
            <li class="m-2 list-unstyled"><span class="far fa-file mr-1"></span>
                <a class="course-file" href=/courses/jedha-full-stack-24-program/S1.5%20--%20Deep%20Learning%20sur%20TensorFlow%202.0/S15-B%20-%20Transfer%20Learning%20sur%20TensorFlow%202.0/Exercices/2.%20Caltech101.ipynb>2. Caltech101.ipynb</a>
            </li>
          </ul>
        
    </ul>
        
    
    
        
          <ul class="p-0 mt-4">
            <button class="btn m-0 p-0 col-12" data-toggle="collapse" data-target="#course_solutions" role="button" aria-expanded="false" aria-controls="course_solutions">
              
                <span class="pl-5 pr-5 pt-3 pb-3 d-flex flex-row justify-content-between child-folders">
              
                <span>Solutions</span>
                <i class="fas fa-sort-down"></i>
              </span>
            </button>
          </ul>
          <ul class ="collapse" id="course_solutions"> 
    
        
          
          <ul class="p-2">
            <li class="m-2 list-unstyled"><span class="far fa-file mr-1"></span>
                <a class="course-file" href=/courses/jedha-full-stack-24-program/S1.5%20--%20Deep%20Learning%20sur%20TensorFlow%202.0/S15-B%20-%20Transfer%20Learning%20sur%20TensorFlow%202.0/Solutions/1.%20Cifar10%20with%20ResNet50.md>1. Cifar10 with ResNet50.md</a>
            </li>
          </ul>
        
    
    
        
          
          <ul class="p-2">
            <li class="m-2 list-unstyled"><span class="far fa-file mr-1"></span>
                <a class="course-file" href=/courses/jedha-full-stack-24-program/S1.5%20--%20Deep%20Learning%20sur%20TensorFlow%202.0/S15-B%20-%20Transfer%20Learning%20sur%20TensorFlow%202.0/Solutions/2.%20Caltech101.md>2. Caltech101.md</a>
            </li>
          </ul>
        
    </ul>
        
    
    
        
          
          <ul class="p-2">
            <li class="m-2 list-unstyled"><span class="far fa-file mr-1"></span>
                <a class="course-file" href=/courses/jedha-full-stack-24-program/S1.5%20--%20Deep%20Learning%20sur%20TensorFlow%202.0/S15-B%20-%20Transfer%20Learning%20sur%20TensorFlow%202.0/Transfer%20Learning%20%26%20Fine%20Tuning.ipynb>Transfer Learning &amp; Fine Tuning.ipynb</a>
            </li>
          </ul>
        
    </ul>
        
    </ul>
        
    
    
        
          <ul class="p-0 mt-4">
            <button class="btn m-0 p-0 col-12" data-toggle="collapse" data-target="#course_s16--deeplearning-customtrainingprojetobjectdetectionwithyolov3" role="button" aria-expanded="false" aria-controls="course_s16--deeplearning-customtrainingprojetobjectdetectionwithyolov3">
              
                <span class="pl-5 pr-5 pt-3 pb-3 d-flex flex-row justify-content-between child-folders">
              
                <span>S1.6 -- Deep Learning - Custom Training &amp; Projet OBJECT DETECTION WITH YOLOV3</span>
                <i class="fas fa-sort-down"></i>
              </span>
            </button>
          </ul>
          <ul class ="collapse" id="course_s16--deeplearning-customtrainingprojetobjectdetectionwithyolov3"> 
    
        
          <ul class="p-0 mt-4">
            <button class="btn m-0 p-0 col-12" data-toggle="collapse" data-target="#course_s16-a-customtraining" role="button" aria-expanded="false" aria-controls="course_s16-a-customtraining">
              
                <span class="pl-5 pr-5 pt-3 pb-3 d-flex flex-row justify-content-between parent-folder">
              
                <span>S16-A - Custom Training</span>
                <i class="fas fa-sort-down"></i>
              </span>
            </button>
          </ul>
          <ul class ="collapse" id="course_s16-a-customtraining"> 
    
        
          
          <ul class="p-2">
            <li class="m-2 list-unstyled"><span class="far fa-file mr-1"></span>
                <a class="course-file" href=/courses/jedha-full-stack-24-program/S1.6%20--%20Deep%20Learning%20-%20Custom%20Training%20%26%20Projet%20OBJECT%20DETECTION%20WITH%20YOLOV3/S16-A%20-%20Custom%20Training/1.%20Introduction%20NLP%20with%20Tensorflow.ipynb>1. Introduction NLP with Tensorflow.ipynb</a>
            </li>
          </ul>
        
    
    
        
          
          <ul class="p-2">
            <li class="m-2 list-unstyled"><span class="far fa-file mr-1"></span>
                <a class="course-file" href=/courses/jedha-full-stack-24-program/S1.6%20--%20Deep%20Learning%20-%20Custom%20Training%20%26%20Projet%20OBJECT%20DETECTION%20WITH%20YOLOV3/S16-A%20-%20Custom%20Training/2.%20Custom%20Training%20with%20Tensorflow%202.0.ipynb>2. Custom Training with Tensorflow 2.0.ipynb</a>
            </li>
          </ul>
        
    
    
        
          
          <ul class="p-2">
            <li class="m-2 list-unstyled"><span class="far fa-file mr-1"></span>
                <a class="course-file" href=/courses/jedha-full-stack-24-program/S1.6%20--%20Deep%20Learning%20-%20Custom%20Training%20%26%20Projet%20OBJECT%20DETECTION%20WITH%20YOLOV3/S16-A%20-%20Custom%20Training/Custom%20Training%20with%20Tensorflow%202.0.ipynb>Custom Training with Tensorflow 2.0.ipynb</a>
            </li>
          </ul>
        
    
    
        
          <ul class="p-0 mt-4">
            <button class="btn m-0 p-0 col-12" data-toggle="collapse" data-target="#course_exercices" role="button" aria-expanded="false" aria-controls="course_exercices">
              
                <span class="pl-5 pr-5 pt-3 pb-3 d-flex flex-row justify-content-between child-folders">
              
                <span>Exercices</span>
                <i class="fas fa-sort-down"></i>
              </span>
            </button>
          </ul>
          <ul class ="collapse" id="course_exercices"> 
    
        
          
          <ul class="p-2">
            <li class="m-2 list-unstyled"><span class="far fa-file mr-1"></span>
                <a class="course-file" href=/courses/jedha-full-stack-24-program/S1.6%20--%20Deep%20Learning%20-%20Custom%20Training%20%26%20Projet%20OBJECT%20DETECTION%20WITH%20YOLOV3/S16-A%20-%20Custom%20Training/Exercices/0.%20Sentiment%20Analysis.ipynb>0. Sentiment Analysis.ipynb</a>
            </li>
          </ul>
        
    
    
        
          
          <ul class="p-2">
            <li class="m-2 list-unstyled"><span class="far fa-file mr-1"></span>
                <a class="course-file" href=/courses/jedha-full-stack-24-program/S1.6%20--%20Deep%20Learning%20-%20Custom%20Training%20%26%20Projet%20OBJECT%20DETECTION%20WITH%20YOLOV3/S16-A%20-%20Custom%20Training/Exercices/1.%20Custom%20Traing%20with%20Iris.ipynb>1. Custom Traing with Iris.ipynb</a>
            </li>
          </ul>
        
    
    
        
          
          <ul class="p-2">
            <li class="m-2 list-unstyled"><span class="far fa-file mr-1"></span>
                <a class="course-file" href=/courses/jedha-full-stack-24-program/S1.6%20--%20Deep%20Learning%20-%20Custom%20Training%20%26%20Projet%20OBJECT%20DETECTION%20WITH%20YOLOV3/S16-A%20-%20Custom%20Training/Exercices/2.%20Introduction%20aux%20GAN.ipynb>2. Introduction aux GAN.ipynb</a>
            </li>
          </ul>
        
    </ul>
        
    
    
        
          <ul class="p-0 mt-4">
            <button class="btn m-0 p-0 col-12" data-toggle="collapse" data-target="#course_solutions" role="button" aria-expanded="false" aria-controls="course_solutions">
              
                <span class="pl-5 pr-5 pt-3 pb-3 d-flex flex-row justify-content-between child-folders">
              
                <span>Solutions</span>
                <i class="fas fa-sort-down"></i>
              </span>
            </button>
          </ul>
          <ul class ="collapse" id="course_solutions"> 
    
        
          
          <ul class="p-2">
            <li class="m-2 list-unstyled"><span class="far fa-file mr-1"></span>
                <a class="course-file" href=/courses/jedha-full-stack-24-program/S1.6%20--%20Deep%20Learning%20-%20Custom%20Training%20%26%20Projet%20OBJECT%20DETECTION%20WITH%20YOLOV3/S16-A%20-%20Custom%20Training/Solutions/0.%20Sentiment%20Analysis.md>0. Sentiment Analysis.md</a>
            </li>
          </ul>
        
    
    
        
          
          <ul class="p-2">
            <li class="m-2 list-unstyled"><span class="far fa-file mr-1"></span>
                <a class="course-file" href=/courses/jedha-full-stack-24-program/S1.6%20--%20Deep%20Learning%20-%20Custom%20Training%20%26%20Projet%20OBJECT%20DETECTION%20WITH%20YOLOV3/S16-A%20-%20Custom%20Training/Solutions/1.%20Custom%20Training%20with%20Iris.md>1. Custom Training with Iris.md</a>
            </li>
          </ul>
        
    
    
        
          
          <ul class="p-2">
            <li class="m-2 list-unstyled"><span class="far fa-file mr-1"></span>
                <a class="course-file" href=/courses/jedha-full-stack-24-program/S1.6%20--%20Deep%20Learning%20-%20Custom%20Training%20%26%20Projet%20OBJECT%20DETECTION%20WITH%20YOLOV3/S16-A%20-%20Custom%20Training/Solutions/2.%20Introduction%20aux%20GAN.md>2. Introduction aux GAN.md</a>
            </li>
          </ul>
        
    </ul>
        
    </ul>
        
    
    
        
          <ul class="p-0 mt-4">
            <button class="btn m-0 p-0 col-12" data-toggle="collapse" data-target="#course_s16-b-projet-yolov3" role="button" aria-expanded="false" aria-controls="course_s16-b-projet-yolov3">
              
                <span class="pl-5 pr-5 pt-3 pb-3 d-flex flex-row justify-content-between child-folders">
              
                <span>S16-B - Projet - YOLOV3</span>
                <i class="fas fa-sort-down"></i>
              </span>
            </button>
          </ul>
          <ul class ="collapse" id="course_s16-b-projet-yolov3"> 
    
        
          
          <ul class="p-2">
            <li class="m-2 list-unstyled"><span class="far fa-file mr-1"></span>
                <a class="course-file" href=/courses/jedha-full-stack-24-program/S1.6%20--%20Deep%20Learning%20-%20Custom%20Training%20%26%20Projet%20OBJECT%20DETECTION%20WITH%20YOLOV3/S16-B%20-%20Projet%20-%20YOLOV3/OBJECT%20DETECTION%20-%20SOLUTIONS.md>OBJECT DETECTION - SOLUTIONS.md</a>
            </li>
          </ul>
        
    
    
        
          
          <ul class="p-2">
            <li class="m-2 list-unstyled"><span class="far fa-file mr-1"></span>
                <a class="course-file" href=/courses/jedha-full-stack-24-program/S1.6%20--%20Deep%20Learning%20-%20Custom%20Training%20%26%20Projet%20OBJECT%20DETECTION%20WITH%20YOLOV3/S16-B%20-%20Projet%20-%20YOLOV3/README.md>README.md</a>
            </li>
          </ul>
        
    </ul>
        
    </ul>
        
    
    
        
          <ul class="p-0 mt-4">
            <button class="btn m-0 p-0 col-12" data-toggle="collapse" data-target="#course_s17--webscrappingsurbeautifulsoupselenium" role="button" aria-expanded="false" aria-controls="course_s17--webscrappingsurbeautifulsoupselenium">
              
                <span class="pl-5 pr-5 pt-3 pb-3 d-flex flex-row justify-content-between child-folders">
              
                <span>S1.7 -- Web Scrapping sur BeautifulSoup &amp; Selenium</span>
                <i class="fas fa-sort-down"></i>
              </span>
            </button>
          </ul>
          <ul class ="collapse" id="course_s17--webscrappingsurbeautifulsoupselenium"> 
    
        
          <ul class="p-0 mt-4">
            <button class="btn m-0 p-0 col-12" data-toggle="collapse" data-target="#course_s17-a-htmlcssbeautifulsoup" role="button" aria-expanded="false" aria-controls="course_s17-a-htmlcssbeautifulsoup">
              
                <span class="pl-5 pr-5 pt-3 pb-3 d-flex flex-row justify-content-between parent-folder">
              
                <span>S17-A - HTML, CSS &amp; BeautifulSoup</span>
                <i class="fas fa-sort-down"></i>
              </span>
            </button>
          </ul>
          <ul class ="collapse" id="course_s17-a-htmlcssbeautifulsoup"> 
    
        
          <ul class="p-0 mt-4">
            <button class="btn m-0 p-0 col-12" data-toggle="collapse" data-target="#course_rappelshtmlcss" role="button" aria-expanded="false" aria-controls="course_rappelshtmlcss">
              
                <span class="pl-5 pr-5 pt-3 pb-3 d-flex flex-row justify-content-between parent-folder">
              
                <span>Rappels HTML &amp; CSS</span>
                <i class="fas fa-sort-down"></i>
              </span>
            </button>
          </ul>
          <ul class ="collapse" id="course_rappelshtmlcss"> 
    
        
          
          <ul class="p-2">
            <li class="m-2 list-unstyled"><span class="far fa-file mr-1"></span>
                <a class="course-file" href=/courses/jedha-full-stack-24-program/S1.7%20--%20Web%20Scrapping%20sur%20BeautifulSoup%20%26%20Selenium/S17-A%20-%20HTML%2C%20CSS%20%26%20BeautifulSoup/Rappels%20HTML%20%26%20CSS/2.%20API%20%26%20Web%20Scrapping%20-%20Exercices%20S7-1A.md>2. API &amp; Web Scrapping - Exercices S7-1A.md</a>
            </li>
          </ul>
        
    
    
        
          
          <ul class="p-2">
            <li class="m-2 list-unstyled"><span class="far fa-file mr-1"></span>
                <a class="course-file" href=/courses/jedha-full-stack-24-program/S1.7%20--%20Web%20Scrapping%20sur%20BeautifulSoup%20%26%20Selenium/S17-A%20-%20HTML%2C%20CSS%20%26%20BeautifulSoup/Rappels%20HTML%20%26%20CSS/README.md>README.md</a>
            </li>
          </ul>
        
    </ul>
        
    
    
        
          <ul class="p-0 mt-4">
            <button class="btn m-0 p-0 col-12" data-toggle="collapse" data-target="#course_scrappingavecbeautifulsoup" role="button" aria-expanded="false" aria-controls="course_scrappingavecbeautifulsoup">
              
                <span class="pl-5 pr-5 pt-3 pb-3 d-flex flex-row justify-content-between child-folders">
              
                <span>Scrapping avec BeautifulSoup</span>
                <i class="fas fa-sort-down"></i>
              </span>
            </button>
          </ul>
          <ul class ="collapse" id="course_scrappingavecbeautifulsoup"> 
    
        
          
          <ul class="p-2">
            <li class="m-2 list-unstyled"><span class="far fa-file mr-1"></span>
                <a class="course-file" href=/courses/jedha-full-stack-24-program/S1.7%20--%20Web%20Scrapping%20sur%20BeautifulSoup%20%26%20Selenium/S17-A%20-%20HTML%2C%20CSS%20%26%20BeautifulSoup/Scrapping%20avec%20BeautifulSoup/2.%20API%20%26%20Web%20Scrapping%20-%20Exercices.md>2. API &amp; Web Scrapping - Exercices.md</a>
            </li>
          </ul>
        
    
    
        
          
          <ul class="p-2">
            <li class="m-2 list-unstyled"><span class="far fa-file mr-1"></span>
                <a class="course-file" href=/courses/jedha-full-stack-24-program/S1.7%20--%20Web%20Scrapping%20sur%20BeautifulSoup%20%26%20Selenium/S17-A%20-%20HTML%2C%20CSS%20%26%20BeautifulSoup/Scrapping%20avec%20BeautifulSoup/3.%20API%20%26%20Web%20Scrapping%20-%20SOLUTIONS.md>3. API &amp; Web Scrapping - SOLUTIONS.md</a>
            </li>
          </ul>
        
    
    
        
          
          <ul class="p-2">
            <li class="m-2 list-unstyled"><span class="far fa-file mr-1"></span>
                <a class="course-file" href=/courses/jedha-full-stack-24-program/S1.7%20--%20Web%20Scrapping%20sur%20BeautifulSoup%20%26%20Selenium/S17-A%20-%20HTML%2C%20CSS%20%26%20BeautifulSoup/Scrapping%20avec%20BeautifulSoup/README.md>README.md</a>
            </li>
          </ul>
        
    </ul>
        
    </ul>
        
    
    
        
          <ul class="p-0 mt-4">
            <button class="btn m-0 p-0 col-12" data-toggle="collapse" data-target="#course_s17-b-utilisationdeseleniumsurlinkedin" role="button" aria-expanded="false" aria-controls="course_s17-b-utilisationdeseleniumsurlinkedin">
              
                <span class="pl-5 pr-5 pt-3 pb-3 d-flex flex-row justify-content-between child-folders">
              
                <span>S17-B - Utilisation de Selenium sur LinkedIn</span>
                <i class="fas fa-sort-down"></i>
              </span>
            </button>
          </ul>
          <ul class ="collapse" id="course_s17-b-utilisationdeseleniumsurlinkedin"> 
    
        
          <ul class="p-0 mt-4">
            <button class="btn m-0 p-0 col-12" data-toggle="collapse" data-target="#course_exercices" role="button" aria-expanded="false" aria-controls="course_exercices">
              
                <span class="pl-5 pr-5 pt-3 pb-3 d-flex flex-row justify-content-between parent-folder">
              
                <span>Exercices</span>
                <i class="fas fa-sort-down"></i>
              </span>
            </button>
          </ul>
          <ul class ="collapse" id="course_exercices"> 
    
        
          
          <ul class="p-2">
            <li class="m-2 list-unstyled"><span class="far fa-file mr-1"></span>
                <a class="course-file" href=/courses/jedha-full-stack-24-program/S1.7%20--%20Web%20Scrapping%20sur%20BeautifulSoup%20%26%20Selenium/S17-B%20-%20Utilisation%20de%20Selenium%20sur%20LinkedIn/Exercices/1.%20Hacker%20LinkedIn%20pour%20sa%20recherche%20de%20Job.md>1. Hacker LinkedIn pour sa recherche de Job.md</a>
            </li>
          </ul>
        
    
    
        
          
          <ul class="p-2">
            <li class="m-2 list-unstyled"><span class="far fa-file mr-1"></span>
                <a class="course-file" href=/courses/jedha-full-stack-24-program/S1.7%20--%20Web%20Scrapping%20sur%20BeautifulSoup%20%26%20Selenium/S17-B%20-%20Utilisation%20de%20Selenium%20sur%20LinkedIn/Exercices/2.%20Hacker%20LinkedIn%20pour%20sa%20recherche%20de%20Job.md>2. Hacker LinkedIn pour sa recherche de Job.md</a>
            </li>
          </ul>
        
    </ul>
        
    
    
        
          
          <ul class="p-2">
            <li class="m-2 list-unstyled"><span class="far fa-file mr-1"></span>
                <a class="course-file" href=/courses/jedha-full-stack-24-program/S1.7%20--%20Web%20Scrapping%20sur%20BeautifulSoup%20%26%20Selenium/S17-B%20-%20Utilisation%20de%20Selenium%20sur%20LinkedIn/README.md>README.md</a>
            </li>
          </ul>
        
    
    
        
          <ul class="p-0 mt-4">
            <button class="btn m-0 p-0 col-12" data-toggle="collapse" data-target="#course_solutions" role="button" aria-expanded="false" aria-controls="course_solutions">
              
                <span class="pl-5 pr-5 pt-3 pb-3 d-flex flex-row justify-content-between child-folders">
              
                <span>Solutions</span>
                <i class="fas fa-sort-down"></i>
              </span>
            </button>
          </ul>
          <ul class ="collapse" id="course_solutions"> 
    
        
          
          <ul class="p-2">
            <li class="m-2 list-unstyled"><span class="far fa-file mr-1"></span>
                <a class="course-file" href=/courses/jedha-full-stack-24-program/S1.7%20--%20Web%20Scrapping%20sur%20BeautifulSoup%20%26%20Selenium/S17-B%20-%20Utilisation%20de%20Selenium%20sur%20LinkedIn/Solutions/1.%20Ajout%20de%20personnes%20via%20recherche.md>1. Ajout de personnes via recherche.md</a>
            </li>
          </ul>
        
    
    
        
          
          <ul class="p-2">
            <li class="m-2 list-unstyled"><span class="far fa-file mr-1"></span>
                <a class="course-file" href=/courses/jedha-full-stack-24-program/S1.7%20--%20Web%20Scrapping%20sur%20BeautifulSoup%20%26%20Selenium/S17-B%20-%20Utilisation%20de%20Selenium%20sur%20LinkedIn/Solutions/2.%20Ajout%20de%20personnes%20via%20fichier.md>2. Ajout de personnes via fichier.md</a>
            </li>
          </ul>
        
    </ul>
        
    </ul>
        
    </ul>
        
    
    
        
          <ul class="p-0 mt-4">
            <button class="btn m-0 p-0 col-12" data-toggle="collapse" data-target="#course_s18--webdevelopmentsurflask" role="button" aria-expanded="false" aria-controls="course_s18--webdevelopmentsurflask">
              
                <span class="pl-5 pr-5 pt-3 pb-3 d-flex flex-row justify-content-between child-folders">
              
                <span>S1.8 -- Web Development sur Flask</span>
                <i class="fas fa-sort-down"></i>
              </span>
            </button>
          </ul>
          <ul class ="collapse" id="course_s18--webdevelopmentsurflask"> 
    
        
          <ul class="p-0 mt-4">
            <button class="btn m-0 p-0 col-12" data-toggle="collapse" data-target="#course_s18-a-introductionàflask" role="button" aria-expanded="false" aria-controls="course_s18-a-introductionàflask">
              
                <span class="pl-5 pr-5 pt-3 pb-3 d-flex flex-row justify-content-between parent-folder">
              
                <span>S18-A - Introduction à FLASK</span>
                <i class="fas fa-sort-down"></i>
              </span>
            </button>
          </ul>
          <ul class ="collapse" id="course_s18-a-introductionàflask"> 
    
        
          
          <ul class="p-2">
            <li class="m-2 list-unstyled"><span class="far fa-file mr-1"></span>
                <a class="course-file" href=/courses/jedha-full-stack-24-program/S1.8%20--%20Web%20Development%20sur%20Flask/S18-A%20-%20Introduction%20%C3%A0%20FLASK/2.%20Introduction%20%C3%A0%20FLASK%20-%20Exercices.md>2. Introduction à FLASK - Exercices.md</a>
            </li>
          </ul>
        
    
    
        
          <ul class="p-0 mt-4">
            <button class="btn m-0 p-0 col-12" data-toggle="collapse" data-target="#course_mapremièreapplicationflask-solution" role="button" aria-expanded="false" aria-controls="course_mapremièreapplicationflask-solution">
              
                <span class="pl-5 pr-5 pt-3 pb-3 d-flex flex-row justify-content-between child-folders">
              
                <span>Ma première application FLASK - SOLUTION</span>
                <i class="fas fa-sort-down"></i>
              </span>
            </button>
          </ul>
          <ul class ="collapse" id="course_mapremièreapplicationflask-solution"> 
    
        
          
          <ul class="p-2">
            <li class="m-2 list-unstyled"><span class="far fa-file mr-1"></span>
                <a class="course-file" href=/courses/jedha-full-stack-24-program/S1.8%20--%20Web%20Development%20sur%20Flask/S18-A%20-%20Introduction%20%C3%A0%20FLASK/Ma%20premi%C3%A8re%20application%20FLASK%20-%20SOLUTION/app.py>app.py</a>
            </li>
          </ul>
        
    
    
        
          <ul class="p-0 mt-4">
            <button class="btn m-0 p-0 col-12" data-toggle="collapse" data-target="#course_static" role="button" aria-expanded="false" aria-controls="course_static">
              
                <span class="pl-5 pr-5 pt-3 pb-3 d-flex flex-row justify-content-between child-folders">
              
                <span>static</span>
                <i class="fas fa-sort-down"></i>
              </span>
            </button>
          </ul>
          <ul class ="collapse" id="course_static"> 
    
        
          
          <ul class="p-2">
            <li class="m-2 list-unstyled"><span class="far fa-file mr-1"></span>
                <a class="course-file" href=/courses/jedha-full-stack-24-program/S1.8%20--%20Web%20Development%20sur%20Flask/S18-A%20-%20Introduction%20%C3%A0%20FLASK/Ma%20premi%C3%A8re%20application%20FLASK%20-%20SOLUTION/static/animations.js>animations.js</a>
            </li>
          </ul>
        
    
    
        
          
          <ul class="p-2">
            <li class="m-2 list-unstyled"><span class="far fa-file mr-1"></span>
                <a class="course-file" href=/courses/jedha-full-stack-24-program/S1.8%20--%20Web%20Development%20sur%20Flask/S18-A%20-%20Introduction%20%C3%A0%20FLASK/Ma%20premi%C3%A8re%20application%20FLASK%20-%20SOLUTION/static/style.css>style.css</a>
            </li>
          </ul>
        
    </ul>
        
    
    
        
          <ul class="p-0 mt-4">
            <button class="btn m-0 p-0 col-12" data-toggle="collapse" data-target="#course_templates" role="button" aria-expanded="false" aria-controls="course_templates">
              
                <span class="pl-5 pr-5 pt-3 pb-3 d-flex flex-row justify-content-between child-folders">
              
                <span>templates</span>
                <i class="fas fa-sort-down"></i>
              </span>
            </button>
          </ul>
          <ul class ="collapse" id="course_templates"> 
    
        
          
          <ul class="p-2">
            <li class="m-2 list-unstyled"><span class="far fa-file mr-1"></span>
                <a class="course-file" href=/courses/jedha-full-stack-24-program/S1.8%20--%20Web%20Development%20sur%20Flask/S18-A%20-%20Introduction%20%C3%A0%20FLASK/Ma%20premi%C3%A8re%20application%20FLASK%20-%20SOLUTION/templates/index.html>index.html</a>
            </li>
          </ul>
        
    
    
        
          
          <ul class="p-2">
            <li class="m-2 list-unstyled"><span class="far fa-file mr-1"></span>
                <a class="course-file" href=/courses/jedha-full-stack-24-program/S1.8%20--%20Web%20Development%20sur%20Flask/S18-A%20-%20Introduction%20%C3%A0%20FLASK/Ma%20premi%C3%A8re%20application%20FLASK%20-%20SOLUTION/templates/layout.html>layout.html</a>
            </li>
          </ul>
        
    </ul>
        
    </ul>
        
    
    
        
          
          <ul class="p-2">
            <li class="m-2 list-unstyled"><span class="far fa-file mr-1"></span>
                <a class="course-file" href=/courses/jedha-full-stack-24-program/S1.8%20--%20Web%20Development%20sur%20Flask/S18-A%20-%20Introduction%20%C3%A0%20FLASK/README.md>README.md</a>
            </li>
          </ul>
        
    </ul>
        
    
    
        
          <ul class="p-0 mt-4">
            <button class="btn m-0 p-0 col-12" data-toggle="collapse" data-target="#course_s18-b-machinelearningflask" role="button" aria-expanded="false" aria-controls="course_s18-b-machinelearningflask">
              
                <span class="pl-5 pr-5 pt-3 pb-3 d-flex flex-row justify-content-between child-folders">
              
                <span>S18-B - Machine Learning &amp; FLASK</span>
                <i class="fas fa-sort-down"></i>
              </span>
            </button>
          </ul>
          <ul class ="collapse" id="course_s18-b-machinelearningflask"> 
    
        
          
          <ul class="p-2">
            <li class="m-2 list-unstyled"><span class="far fa-file mr-1"></span>
                <a class="course-file" href=/courses/jedha-full-stack-24-program/S1.8%20--%20Web%20Development%20sur%20Flask/S18-B%20-%20Machine%20Learning%20%26%20FLASK/1.%20Machine%20Learning%20%26%20FLASK%20-%20Exercices.md>1. Machine Learning &amp; FLASK - Exercices.md</a>
            </li>
          </ul>
        
    
    
        
          <ul class="p-0 mt-4">
            <button class="btn m-0 p-0 col-12" data-toggle="collapse" data-target="#course_fashionimgclassificationapi-solution" role="button" aria-expanded="false" aria-controls="course_fashionimgclassificationapi-solution">
              
                <span class="pl-5 pr-5 pt-3 pb-3 d-flex flex-row justify-content-between child-folders">
              
                <span>Fashion Img Classification API - SOLUTION</span>
                <i class="fas fa-sort-down"></i>
              </span>
            </button>
          </ul>
          <ul class ="collapse" id="course_fashionimgclassificationapi-solution"> 
    
        
          
          <ul class="p-2">
            <li class="m-2 list-unstyled"><span class="far fa-file mr-1"></span>
                <a class="course-file" href=/courses/jedha-full-stack-24-program/S1.8%20--%20Web%20Development%20sur%20Flask/S18-B%20-%20Machine%20Learning%20%26%20FLASK/Fashion%20Img%20Classification%20API%20-%20SOLUTION/FashionMNIST_img_classification.ipynb>FashionMNIST_img_classification.ipynb</a>
            </li>
          </ul>
        
    
    
        
          
          <ul class="p-2">
            <li class="m-2 list-unstyled"><span class="far fa-file mr-1"></span>
                <a class="course-file" href=/courses/jedha-full-stack-24-program/S1.8%20--%20Web%20Development%20sur%20Flask/S18-B%20-%20Machine%20Learning%20%26%20FLASK/Fashion%20Img%20Classification%20API%20-%20SOLUTION/README.md>README.md</a>
            </li>
          </ul>
        
    
    
        
          
          <ul class="p-2">
            <li class="m-2 list-unstyled"><span class="far fa-file mr-1"></span>
                <a class="course-file" href=/courses/jedha-full-stack-24-program/S1.8%20--%20Web%20Development%20sur%20Flask/S18-B%20-%20Machine%20Learning%20%26%20FLASK/Fashion%20Img%20Classification%20API%20-%20SOLUTION/app.py>app.py</a>
            </li>
          </ul>
        
    
    
        
          
          <ul class="p-2">
            <li class="m-2 list-unstyled"><span class="far fa-file mr-1"></span>
                <a class="course-file" href=/courses/jedha-full-stack-24-program/S1.8%20--%20Web%20Development%20sur%20Flask/S18-B%20-%20Machine%20Learning%20%26%20FLASK/Fashion%20Img%20Classification%20API%20-%20SOLUTION/fashionMnist.h5>fashionMnist.h5</a>
            </li>
          </ul>
        
    
    
        
          
          <ul class="p-2">
            <li class="m-2 list-unstyled"><span class="far fa-file mr-1"></span>
                <a class="course-file" href=/courses/jedha-full-stack-24-program/S1.8%20--%20Web%20Development%20sur%20Flask/S18-B%20-%20Machine%20Learning%20%26%20FLASK/Fashion%20Img%20Classification%20API%20-%20SOLUTION/requirements.txt>requirements.txt</a>
            </li>
          </ul>
        
    
    
        
          <ul class="p-0 mt-4">
            <button class="btn m-0 p-0 col-12" data-toggle="collapse" data-target="#course_uploads" role="button" aria-expanded="false" aria-controls="course_uploads">
              
                <span class="pl-5 pr-5 pt-3 pb-3 d-flex flex-row justify-content-between child-folders">
              
                <span>uploads</span>
                <i class="fas fa-sort-down"></i>
              </span>
            </button>
          </ul>
          <ul class ="collapse" id="course_uploads"> 
    
        
          
          <ul class="p-2">
            <li class="m-2 list-unstyled"><span class="far fa-file mr-1"></span>
                <a class="course-file" href=/courses/jedha-full-stack-24-program/S1.8%20--%20Web%20Development%20sur%20Flask/S18-B%20-%20Machine%20Learning%20%26%20FLASK/Fashion%20Img%20Classification%20API%20-%20SOLUTION/uploads/Screenshot_2019-06-06_at_10.42.28.png>Screenshot_2019-06-06_at_10.42.28.png</a>
            </li>
          </ul>
        
    
    
        
          
          <ul class="p-2">
            <li class="m-2 list-unstyled"><span class="far fa-file mr-1"></span>
                <a class="course-file" href=/courses/jedha-full-stack-24-program/S1.8%20--%20Web%20Development%20sur%20Flask/S18-B%20-%20Machine%20Learning%20%26%20FLASK/Fashion%20Img%20Classification%20API%20-%20SOLUTION/uploads/kadinsky-turtle.png>kadinsky-turtle.png</a>
            </li>
          </ul>
        
    </ul>
        
    </ul>
        
    
    
        
          <ul class="p-0 mt-4">
            <button class="btn m-0 p-0 col-12" data-toggle="collapse" data-target="#course_linearregression-solution" role="button" aria-expanded="false" aria-controls="course_linearregression-solution">
              
                <span class="pl-5 pr-5 pt-3 pb-3 d-flex flex-row justify-content-between child-folders">
              
                <span>Linear Regression - SOLUTION</span>
                <i class="fas fa-sort-down"></i>
              </span>
            </button>
          </ul>
          <ul class ="collapse" id="course_linearregression-solution"> 
    
        
          
          <ul class="p-2">
            <li class="m-2 list-unstyled"><span class="far fa-file mr-1"></span>
                <a class="course-file" href=/courses/jedha-full-stack-24-program/S1.8%20--%20Web%20Development%20sur%20Flask/S18-B%20-%20Machine%20Learning%20%26%20FLASK/Linear%20Regression%20-%20SOLUTION/app.py>app.py</a>
            </li>
          </ul>
        
    
    
        
          
          <ul class="p-2">
            <li class="m-2 list-unstyled"><span class="far fa-file mr-1"></span>
                <a class="course-file" href=/courses/jedha-full-stack-24-program/S1.8%20--%20Web%20Development%20sur%20Flask/S18-B%20-%20Machine%20Learning%20%26%20FLASK/Linear%20Regression%20-%20SOLUTION/linear_regression_model.pkl>linear_regression_model.pkl</a>
            </li>
          </ul>
        
    
    
        
          
          <ul class="p-2">
            <li class="m-2 list-unstyled"><span class="far fa-file mr-1"></span>
                <a class="course-file" href=/courses/jedha-full-stack-24-program/S1.8%20--%20Web%20Development%20sur%20Flask/S18-B%20-%20Machine%20Learning%20%26%20FLASK/Linear%20Regression%20-%20SOLUTION/prediction.py>prediction.py</a>
            </li>
          </ul>
        
    
    
        
          <ul class="p-0 mt-4">
            <button class="btn m-0 p-0 col-12" data-toggle="collapse" data-target="#course_src" role="button" aria-expanded="false" aria-controls="course_src">
              
                <span class="pl-5 pr-5 pt-3 pb-3 d-flex flex-row justify-content-between child-folders">
              
                <span>src</span>
                <i class="fas fa-sort-down"></i>
              </span>
            </button>
          </ul>
          <ul class ="collapse" id="course_src"> 
    
        
          
          <ul class="p-2">
            <li class="m-2 list-unstyled"><span class="far fa-file mr-1"></span>
                <a class="course-file" href=/courses/jedha-full-stack-24-program/S1.8%20--%20Web%20Development%20sur%20Flask/S18-B%20-%20Machine%20Learning%20%26%20FLASK/Linear%20Regression%20-%20SOLUTION/src/Salary_Data.csv>Salary_Data.csv</a>
            </li>
          </ul>
        
    </ul>
        
    
    
        
          <ul class="p-0 mt-4">
            <button class="btn m-0 p-0 col-12" data-toggle="collapse" data-target="#course_static" role="button" aria-expanded="false" aria-controls="course_static">
              
                <span class="pl-5 pr-5 pt-3 pb-3 d-flex flex-row justify-content-between child-folders">
              
                <span>static</span>
                <i class="fas fa-sort-down"></i>
              </span>
            </button>
          </ul>
          <ul class ="collapse" id="course_static"> 
    
        
          
          <ul class="p-2">
            <li class="m-2 list-unstyled"><span class="far fa-file mr-1"></span>
                <a class="course-file" href=/courses/jedha-full-stack-24-program/S1.8%20--%20Web%20Development%20sur%20Flask/S18-B%20-%20Machine%20Learning%20%26%20FLASK/Linear%20Regression%20-%20SOLUTION/static/animations.js>animations.js</a>
            </li>
          </ul>
        
    
    
        
          
          <ul class="p-2">
            <li class="m-2 list-unstyled"><span class="far fa-file mr-1"></span>
                <a class="course-file" href=/courses/jedha-full-stack-24-program/S1.8%20--%20Web%20Development%20sur%20Flask/S18-B%20-%20Machine%20Learning%20%26%20FLASK/Linear%20Regression%20-%20SOLUTION/static/style.css>style.css</a>
            </li>
          </ul>
        
    </ul>
        
    
    
        
          <ul class="p-0 mt-4">
            <button class="btn m-0 p-0 col-12" data-toggle="collapse" data-target="#course_templates" role="button" aria-expanded="false" aria-controls="course_templates">
              
                <span class="pl-5 pr-5 pt-3 pb-3 d-flex flex-row justify-content-between child-folders">
              
                <span>templates</span>
                <i class="fas fa-sort-down"></i>
              </span>
            </button>
          </ul>
          <ul class ="collapse" id="course_templates"> 
    
        
          
          <ul class="p-2">
            <li class="m-2 list-unstyled"><span class="far fa-file mr-1"></span>
                <a class="course-file" href=/courses/jedha-full-stack-24-program/S1.8%20--%20Web%20Development%20sur%20Flask/S18-B%20-%20Machine%20Learning%20%26%20FLASK/Linear%20Regression%20-%20SOLUTION/templates/index.html>index.html</a>
            </li>
          </ul>
        
    
    
        
          
          <ul class="p-2">
            <li class="m-2 list-unstyled"><span class="far fa-file mr-1"></span>
                <a class="course-file" href=/courses/jedha-full-stack-24-program/S1.8%20--%20Web%20Development%20sur%20Flask/S18-B%20-%20Machine%20Learning%20%26%20FLASK/Linear%20Regression%20-%20SOLUTION/templates/layout.html>layout.html</a>
            </li>
          </ul>
        
    
    
        
          
          <ul class="p-2">
            <li class="m-2 list-unstyled"><span class="far fa-file mr-1"></span>
                <a class="course-file" href=/courses/jedha-full-stack-24-program/S1.8%20--%20Web%20Development%20sur%20Flask/S18-B%20-%20Machine%20Learning%20%26%20FLASK/Linear%20Regression%20-%20SOLUTION/templates/predicted.html>predicted.html</a>
            </li>
          </ul>
        
    </ul>
        
    </ul>
        
    </ul>
        
    </ul>
        
    
    
        
          <ul class="p-0 mt-4">
            <button class="btn m-0 p-0 col-12" data-toggle="collapse" data-target="#course_s19--déployeruneapplicationflask" role="button" aria-expanded="false" aria-controls="course_s19--déployeruneapplicationflask">
              
                <span class="pl-5 pr-5 pt-3 pb-3 d-flex flex-row justify-content-between child-folders">
              
                <span>S1.9 -- Déployer une application FLASK</span>
                <i class="fas fa-sort-down"></i>
              </span>
            </button>
          </ul>
          <ul class ="collapse" id="course_s19--déployeruneapplicationflask"> 
    
        
          <ul class="p-0 mt-4">
            <button class="btn m-0 p-0 col-12" data-toggle="collapse" data-target="#course_s19-a-ajouterunebddsurflask" role="button" aria-expanded="false" aria-controls="course_s19-a-ajouterunebddsurflask">
              
                <span class="pl-5 pr-5 pt-3 pb-3 d-flex flex-row justify-content-between parent-folder">
              
                <span>S19-A - Ajouter une BDD sur FLASK</span>
                <i class="fas fa-sort-down"></i>
              </span>
            </button>
          </ul>
          <ul class ="collapse" id="course_s19-a-ajouterunebddsurflask"> 
    
        
          
          <ul class="p-2">
            <li class="m-2 list-unstyled"><span class="far fa-file mr-1"></span>
                <a class="course-file" href=/courses/jedha-full-stack-24-program/S1.9%20--%20D%C3%A9ployer%20une%20application%20FLASK/S19-A%20-%20Ajouter%20une%20BDD%20sur%20FLASK/1.%20Cr%C3%A9er%20une%20base%20de%20donn%C3%A9es%20PostgreSQL.md>1. Créer une base de données PostgreSQL.md</a>
            </li>
          </ul>
        
    
    
        
          
          <ul class="p-2">
            <li class="m-2 list-unstyled"><span class="far fa-file mr-1"></span>
                <a class="course-file" href=/courses/jedha-full-stack-24-program/S1.9%20--%20D%C3%A9ployer%20une%20application%20FLASK/S19-A%20-%20Ajouter%20une%20BDD%20sur%20FLASK/2.%20Connecter%20Flask%20%C3%A0%20PostgreSQL.md>2. Connecter Flask à PostgreSQL.md</a>
            </li>
          </ul>
        
    
    
        
          <ul class="p-0 mt-4">
            <button class="btn m-0 p-0 col-12" data-toggle="collapse" data-target="#course_exercices" role="button" aria-expanded="false" aria-controls="course_exercices">
              
                <span class="pl-5 pr-5 pt-3 pb-3 d-flex flex-row justify-content-between child-folders">
              
                <span>Exercices</span>
                <i class="fas fa-sort-down"></i>
              </span>
            </button>
          </ul>
          <ul class ="collapse" id="course_exercices"> 
    
        
          
          <ul class="p-2">
            <li class="m-2 list-unstyled"><span class="far fa-file mr-1"></span>
                <a class="course-file" href=/courses/jedha-full-stack-24-program/S1.9%20--%20D%C3%A9ployer%20une%20application%20FLASK/S19-A%20-%20Ajouter%20une%20BDD%20sur%20FLASK/Exercices/Exercice_Cr%C3%A9er_une_Base_de_donn%C3%A9es_POSTGRESQL_sur_Azure.ipynb>Exercice_Créer_une_Base_de_données_POSTGRESQL_sur_Azure.ipynb</a>
            </li>
          </ul>
        
    
    
        
          <ul class="p-0 mt-4">
            <button class="btn m-0 p-0 col-12" data-toggle="collapse" data-target="#course_linear_regression_with_flask-nobdd" role="button" aria-expanded="false" aria-controls="course_linear_regression_with_flask-nobdd">
              
                <span class="pl-5 pr-5 pt-3 pb-3 d-flex flex-row justify-content-between child-folders">
              
                <span>linear_regression_with_flask - NO BDD</span>
                <i class="fas fa-sort-down"></i>
              </span>
            </button>
          </ul>
          <ul class ="collapse" id="course_linear_regression_with_flask-nobdd"> 
    
        
          
          <ul class="p-2">
            <li class="m-2 list-unstyled"><span class="far fa-file mr-1"></span>
                <a class="course-file" href=/courses/jedha-full-stack-24-program/S1.9%20--%20D%C3%A9ployer%20une%20application%20FLASK/S19-A%20-%20Ajouter%20une%20BDD%20sur%20FLASK/Exercices/linear_regression_with_flask%20-%20NO%20BDD/app.py>app.py</a>
            </li>
          </ul>
        
    
    
        
          
          <ul class="p-2">
            <li class="m-2 list-unstyled"><span class="far fa-file mr-1"></span>
                <a class="course-file" href=/courses/jedha-full-stack-24-program/S1.9%20--%20D%C3%A9ployer%20une%20application%20FLASK/S19-A%20-%20Ajouter%20une%20BDD%20sur%20FLASK/Exercices/linear_regression_with_flask%20-%20NO%20BDD/linear_regression_model.pkl>linear_regression_model.pkl</a>
            </li>
          </ul>
        
    
    
        
          
          <ul class="p-2">
            <li class="m-2 list-unstyled"><span class="far fa-file mr-1"></span>
                <a class="course-file" href=/courses/jedha-full-stack-24-program/S1.9%20--%20D%C3%A9ployer%20une%20application%20FLASK/S19-A%20-%20Ajouter%20une%20BDD%20sur%20FLASK/Exercices/linear_regression_with_flask%20-%20NO%20BDD/prediction.py>prediction.py</a>
            </li>
          </ul>
        
    
    
        
          <ul class="p-0 mt-4">
            <button class="btn m-0 p-0 col-12" data-toggle="collapse" data-target="#course_static" role="button" aria-expanded="false" aria-controls="course_static">
              
                <span class="pl-5 pr-5 pt-3 pb-3 d-flex flex-row justify-content-between child-folders">
              
                <span>static</span>
                <i class="fas fa-sort-down"></i>
              </span>
            </button>
          </ul>
          <ul class ="collapse" id="course_static"> 
    
        
          
          <ul class="p-2">
            <li class="m-2 list-unstyled"><span class="far fa-file mr-1"></span>
                <a class="course-file" href=/courses/jedha-full-stack-24-program/S1.9%20--%20D%C3%A9ployer%20une%20application%20FLASK/S19-A%20-%20Ajouter%20une%20BDD%20sur%20FLASK/Exercices/linear_regression_with_flask%20-%20NO%20BDD/static/animations.js>animations.js</a>
            </li>
          </ul>
        
    
    
        
          
          <ul class="p-2">
            <li class="m-2 list-unstyled"><span class="far fa-file mr-1"></span>
                <a class="course-file" href=/courses/jedha-full-stack-24-program/S1.9%20--%20D%C3%A9ployer%20une%20application%20FLASK/S19-A%20-%20Ajouter%20une%20BDD%20sur%20FLASK/Exercices/linear_regression_with_flask%20-%20NO%20BDD/static/style.css>style.css</a>
            </li>
          </ul>
        
    </ul>
        
    
    
        
          <ul class="p-0 mt-4">
            <button class="btn m-0 p-0 col-12" data-toggle="collapse" data-target="#course_templates" role="button" aria-expanded="false" aria-controls="course_templates">
              
                <span class="pl-5 pr-5 pt-3 pb-3 d-flex flex-row justify-content-between child-folders">
              
                <span>templates</span>
                <i class="fas fa-sort-down"></i>
              </span>
            </button>
          </ul>
          <ul class ="collapse" id="course_templates"> 
    
        
          
          <ul class="p-2">
            <li class="m-2 list-unstyled"><span class="far fa-file mr-1"></span>
                <a class="course-file" href=/courses/jedha-full-stack-24-program/S1.9%20--%20D%C3%A9ployer%20une%20application%20FLASK/S19-A%20-%20Ajouter%20une%20BDD%20sur%20FLASK/Exercices/linear_regression_with_flask%20-%20NO%20BDD/templates/index.html>index.html</a>
            </li>
          </ul>
        
    
    
        
          
          <ul class="p-2">
            <li class="m-2 list-unstyled"><span class="far fa-file mr-1"></span>
                <a class="course-file" href=/courses/jedha-full-stack-24-program/S1.9%20--%20D%C3%A9ployer%20une%20application%20FLASK/S19-A%20-%20Ajouter%20une%20BDD%20sur%20FLASK/Exercices/linear_regression_with_flask%20-%20NO%20BDD/templates/layout.html>layout.html</a>
            </li>
          </ul>
        
    
    
        
          
          <ul class="p-2">
            <li class="m-2 list-unstyled"><span class="far fa-file mr-1"></span>
                <a class="course-file" href=/courses/jedha-full-stack-24-program/S1.9%20--%20D%C3%A9ployer%20une%20application%20FLASK/S19-A%20-%20Ajouter%20une%20BDD%20sur%20FLASK/Exercices/linear_regression_with_flask%20-%20NO%20BDD/templates/predicted.html>predicted.html</a>
            </li>
          </ul>
        
    </ul>
        
    </ul>
        
    </ul>
        
    
    
        
          <ul class="p-0 mt-4">
            <button class="btn m-0 p-0 col-12" data-toggle="collapse" data-target="#course_solutions" role="button" aria-expanded="false" aria-controls="course_solutions">
              
                <span class="pl-5 pr-5 pt-3 pb-3 d-flex flex-row justify-content-between child-folders">
              
                <span>Solutions</span>
                <i class="fas fa-sort-down"></i>
              </span>
            </button>
          </ul>
          <ul class ="collapse" id="course_solutions"> 
    
        
          
          <ul class="p-2">
            <li class="m-2 list-unstyled"><span class="far fa-file mr-1"></span>
                <a class="course-file" href=/courses/jedha-full-stack-24-program/S1.9%20--%20D%C3%A9ployer%20une%20application%20FLASK/S19-A%20-%20Ajouter%20une%20BDD%20sur%20FLASK/Solutions/SOLUTION_Cr%C3%A9er_une_Base_de_donn%C3%A9es_POSTGRESQL_sur_Azure.ipynb>SOLUTION_Créer_une_Base_de_données_POSTGRESQL_sur_Azure.ipynb</a>
            </li>
          </ul>
        
    
    
        
          <ul class="p-0 mt-4">
            <button class="btn m-0 p-0 col-12" data-toggle="collapse" data-target="#course_linear_regression_with_flask-solutions" role="button" aria-expanded="false" aria-controls="course_linear_regression_with_flask-solutions">
              
                <span class="pl-5 pr-5 pt-3 pb-3 d-flex flex-row justify-content-between child-folders">
              
                <span>linear_regression_with_flask - SOLUTIONS</span>
                <i class="fas fa-sort-down"></i>
              </span>
            </button>
          </ul>
          <ul class ="collapse" id="course_linear_regression_with_flask-solutions"> 
    
        
          <ul class="p-0 mt-4">
            <button class="btn m-0 p-0 col-12" data-toggle="collapse" data-target="#course___pycache__" role="button" aria-expanded="false" aria-controls="course___pycache__">
              
                <span class="pl-5 pr-5 pt-3 pb-3 d-flex flex-row justify-content-between parent-folder">
              
                <span>__pycache__</span>
                <i class="fas fa-sort-down"></i>
              </span>
            </button>
          </ul>
          <ul class ="collapse" id="course___pycache__"> 
    
        
          
          <ul class="p-2">
            <li class="m-2 list-unstyled"><span class="far fa-file mr-1"></span>
                <a class="course-file" href=/courses/jedha-full-stack-24-program/S1.9%20--%20D%C3%A9ployer%20une%20application%20FLASK/S19-A%20-%20Ajouter%20une%20BDD%20sur%20FLASK/Solutions/linear_regression_with_flask%20-%20SOLUTIONS/__pycache__/app.cpython-36.pyc>app.cpython-36.pyc</a>
            </li>
          </ul>
        
    
    
        
          
          <ul class="p-2">
            <li class="m-2 list-unstyled"><span class="far fa-file mr-1"></span>
                <a class="course-file" href=/courses/jedha-full-stack-24-program/S1.9%20--%20D%C3%A9ployer%20une%20application%20FLASK/S19-A%20-%20Ajouter%20une%20BDD%20sur%20FLASK/Solutions/linear_regression_with_flask%20-%20SOLUTIONS/__pycache__/config.cpython-36.pyc>config.cpython-36.pyc</a>
            </li>
          </ul>
        
    
    
        
          
          <ul class="p-2">
            <li class="m-2 list-unstyled"><span class="far fa-file mr-1"></span>
                <a class="course-file" href=/courses/jedha-full-stack-24-program/S1.9%20--%20D%C3%A9ployer%20une%20application%20FLASK/S19-A%20-%20Ajouter%20une%20BDD%20sur%20FLASK/Solutions/linear_regression_with_flask%20-%20SOLUTIONS/__pycache__/models.cpython-36.pyc>models.cpython-36.pyc</a>
            </li>
          </ul>
        
    </ul>
        
    
    
        
          
          <ul class="p-2">
            <li class="m-2 list-unstyled"><span class="far fa-file mr-1"></span>
                <a class="course-file" href=/courses/jedha-full-stack-24-program/S1.9%20--%20D%C3%A9ployer%20une%20application%20FLASK/S19-A%20-%20Ajouter%20une%20BDD%20sur%20FLASK/Solutions/linear_regression_with_flask%20-%20SOLUTIONS/app.py>app.py</a>
            </li>
          </ul>
        
    
    
        
          
          <ul class="p-2">
            <li class="m-2 list-unstyled"><span class="far fa-file mr-1"></span>
                <a class="course-file" href=/courses/jedha-full-stack-24-program/S1.9%20--%20D%C3%A9ployer%20une%20application%20FLASK/S19-A%20-%20Ajouter%20une%20BDD%20sur%20FLASK/Solutions/linear_regression_with_flask%20-%20SOLUTIONS/config.py>config.py</a>
            </li>
          </ul>
        
    
    
        
          
          <ul class="p-2">
            <li class="m-2 list-unstyled"><span class="far fa-file mr-1"></span>
                <a class="course-file" href=/courses/jedha-full-stack-24-program/S1.9%20--%20D%C3%A9ployer%20une%20application%20FLASK/S19-A%20-%20Ajouter%20une%20BDD%20sur%20FLASK/Solutions/linear_regression_with_flask%20-%20SOLUTIONS/linear_regression_model.pkl>linear_regression_model.pkl</a>
            </li>
          </ul>
        
    
    
        
          
          <ul class="p-2">
            <li class="m-2 list-unstyled"><span class="far fa-file mr-1"></span>
                <a class="course-file" href=/courses/jedha-full-stack-24-program/S1.9%20--%20D%C3%A9ployer%20une%20application%20FLASK/S19-A%20-%20Ajouter%20une%20BDD%20sur%20FLASK/Solutions/linear_regression_with_flask%20-%20SOLUTIONS/manage.py>manage.py</a>
            </li>
          </ul>
        
    
    
        
          <ul class="p-0 mt-4">
            <button class="btn m-0 p-0 col-12" data-toggle="collapse" data-target="#course_migrations" role="button" aria-expanded="false" aria-controls="course_migrations">
              
                <span class="pl-5 pr-5 pt-3 pb-3 d-flex flex-row justify-content-between child-folders">
              
                <span>migrations</span>
                <i class="fas fa-sort-down"></i>
              </span>
            </button>
          </ul>
          <ul class ="collapse" id="course_migrations"> 
    
        
          
          <ul class="p-2">
            <li class="m-2 list-unstyled"><span class="far fa-file mr-1"></span>
                <a class="course-file" href=/courses/jedha-full-stack-24-program/S1.9%20--%20D%C3%A9ployer%20une%20application%20FLASK/S19-A%20-%20Ajouter%20une%20BDD%20sur%20FLASK/Solutions/linear_regression_with_flask%20-%20SOLUTIONS/migrations/README>README</a>
            </li>
          </ul>
        
    
    
        
          <ul class="p-0 mt-4">
            <button class="btn m-0 p-0 col-12" data-toggle="collapse" data-target="#course___pycache__" role="button" aria-expanded="false" aria-controls="course___pycache__">
              
                <span class="pl-5 pr-5 pt-3 pb-3 d-flex flex-row justify-content-between child-folders">
              
                <span>__pycache__</span>
                <i class="fas fa-sort-down"></i>
              </span>
            </button>
          </ul>
          <ul class ="collapse" id="course___pycache__"> 
    
        
          
          <ul class="p-2">
            <li class="m-2 list-unstyled"><span class="far fa-file mr-1"></span>
                <a class="course-file" href=/courses/jedha-full-stack-24-program/S1.9%20--%20D%C3%A9ployer%20une%20application%20FLASK/S19-A%20-%20Ajouter%20une%20BDD%20sur%20FLASK/Solutions/linear_regression_with_flask%20-%20SOLUTIONS/migrations/__pycache__/env.cpython-36.pyc>env.cpython-36.pyc</a>
            </li>
          </ul>
        
    </ul>
        
    
    
        
          
          <ul class="p-2">
            <li class="m-2 list-unstyled"><span class="far fa-file mr-1"></span>
                <a class="course-file" href=/courses/jedha-full-stack-24-program/S1.9%20--%20D%C3%A9ployer%20une%20application%20FLASK/S19-A%20-%20Ajouter%20une%20BDD%20sur%20FLASK/Solutions/linear_regression_with_flask%20-%20SOLUTIONS/migrations/alembic.ini>alembic.ini</a>
            </li>
          </ul>
        
    
    
        
          
          <ul class="p-2">
            <li class="m-2 list-unstyled"><span class="far fa-file mr-1"></span>
                <a class="course-file" href=/courses/jedha-full-stack-24-program/S1.9%20--%20D%C3%A9ployer%20une%20application%20FLASK/S19-A%20-%20Ajouter%20une%20BDD%20sur%20FLASK/Solutions/linear_regression_with_flask%20-%20SOLUTIONS/migrations/env.py>env.py</a>
            </li>
          </ul>
        
    
    
        
          
          <ul class="p-2">
            <li class="m-2 list-unstyled"><span class="far fa-file mr-1"></span>
                <a class="course-file" href=/courses/jedha-full-stack-24-program/S1.9%20--%20D%C3%A9ployer%20une%20application%20FLASK/S19-A%20-%20Ajouter%20une%20BDD%20sur%20FLASK/Solutions/linear_regression_with_flask%20-%20SOLUTIONS/migrations/script.py.mako>script.py.mako</a>
            </li>
          </ul>
        
    
    
        
          <ul class="p-0 mt-4">
            <button class="btn m-0 p-0 col-12" data-toggle="collapse" data-target="#course_versions" role="button" aria-expanded="false" aria-controls="course_versions">
              
                <span class="pl-5 pr-5 pt-3 pb-3 d-flex flex-row justify-content-between child-folders">
              
                <span>versions</span>
                <i class="fas fa-sort-down"></i>
              </span>
            </button>
          </ul>
          <ul class ="collapse" id="course_versions"> 
    
        
          <ul class="p-0 mt-4">
            <button class="btn m-0 p-0 col-12" data-toggle="collapse" data-target="#course___pycache__" role="button" aria-expanded="false" aria-controls="course___pycache__">
              
                <span class="pl-5 pr-5 pt-3 pb-3 d-flex flex-row justify-content-between parent-folder">
              
                <span>__pycache__</span>
                <i class="fas fa-sort-down"></i>
              </span>
            </button>
          </ul>
          <ul class ="collapse" id="course___pycache__"> 
    
        
          
          <ul class="p-2">
            <li class="m-2 list-unstyled"><span class="far fa-file mr-1"></span>
                <a class="course-file" href=/courses/jedha-full-stack-24-program/S1.9%20--%20D%C3%A9ployer%20une%20application%20FLASK/S19-A%20-%20Ajouter%20une%20BDD%20sur%20FLASK/Solutions/linear_regression_with_flask%20-%20SOLUTIONS/migrations/versions/__pycache__/e93678a942b6_.cpython-36.pyc>e93678a942b6_.cpython-36.pyc</a>
            </li>
          </ul>
        
    </ul>
        
    
    
        
          
          <ul class="p-2">
            <li class="m-2 list-unstyled"><span class="far fa-file mr-1"></span>
                <a class="course-file" href=/courses/jedha-full-stack-24-program/S1.9%20--%20D%C3%A9ployer%20une%20application%20FLASK/S19-A%20-%20Ajouter%20une%20BDD%20sur%20FLASK/Solutions/linear_regression_with_flask%20-%20SOLUTIONS/migrations/versions/e93678a942b6_.py>e93678a942b6_.py</a>
            </li>
          </ul>
        
    </ul>
        
    </ul>
        
    
    
        
          
          <ul class="p-2">
            <li class="m-2 list-unstyled"><span class="far fa-file mr-1"></span>
                <a class="course-file" href=/courses/jedha-full-stack-24-program/S1.9%20--%20D%C3%A9ployer%20une%20application%20FLASK/S19-A%20-%20Ajouter%20une%20BDD%20sur%20FLASK/Solutions/linear_regression_with_flask%20-%20SOLUTIONS/models.py>models.py</a>
            </li>
          </ul>
        
    
    
        
          
          <ul class="p-2">
            <li class="m-2 list-unstyled"><span class="far fa-file mr-1"></span>
                <a class="course-file" href=/courses/jedha-full-stack-24-program/S1.9%20--%20D%C3%A9ployer%20une%20application%20FLASK/S19-A%20-%20Ajouter%20une%20BDD%20sur%20FLASK/Solutions/linear_regression_with_flask%20-%20SOLUTIONS/prediction.py>prediction.py</a>
            </li>
          </ul>
        
    
    
        
          <ul class="p-0 mt-4">
            <button class="btn m-0 p-0 col-12" data-toggle="collapse" data-target="#course_static" role="button" aria-expanded="false" aria-controls="course_static">
              
                <span class="pl-5 pr-5 pt-3 pb-3 d-flex flex-row justify-content-between child-folders">
              
                <span>static</span>
                <i class="fas fa-sort-down"></i>
              </span>
            </button>
          </ul>
          <ul class ="collapse" id="course_static"> 
    
        
          
          <ul class="p-2">
            <li class="m-2 list-unstyled"><span class="far fa-file mr-1"></span>
                <a class="course-file" href=/courses/jedha-full-stack-24-program/S1.9%20--%20D%C3%A9ployer%20une%20application%20FLASK/S19-A%20-%20Ajouter%20une%20BDD%20sur%20FLASK/Solutions/linear_regression_with_flask%20-%20SOLUTIONS/static/animations.js>animations.js</a>
            </li>
          </ul>
        
    
    
        
          
          <ul class="p-2">
            <li class="m-2 list-unstyled"><span class="far fa-file mr-1"></span>
                <a class="course-file" href=/courses/jedha-full-stack-24-program/S1.9%20--%20D%C3%A9ployer%20une%20application%20FLASK/S19-A%20-%20Ajouter%20une%20BDD%20sur%20FLASK/Solutions/linear_regression_with_flask%20-%20SOLUTIONS/static/style.css>style.css</a>
            </li>
          </ul>
        
    </ul>
        
    
    
        
          <ul class="p-0 mt-4">
            <button class="btn m-0 p-0 col-12" data-toggle="collapse" data-target="#course_templates" role="button" aria-expanded="false" aria-controls="course_templates">
              
                <span class="pl-5 pr-5 pt-3 pb-3 d-flex flex-row justify-content-between child-folders">
              
                <span>templates</span>
                <i class="fas fa-sort-down"></i>
              </span>
            </button>
          </ul>
          <ul class ="collapse" id="course_templates"> 
    
        
          
          <ul class="p-2">
            <li class="m-2 list-unstyled"><span class="far fa-file mr-1"></span>
                <a class="course-file" href=/courses/jedha-full-stack-24-program/S1.9%20--%20D%C3%A9ployer%20une%20application%20FLASK/S19-A%20-%20Ajouter%20une%20BDD%20sur%20FLASK/Solutions/linear_regression_with_flask%20-%20SOLUTIONS/templates/index.html>index.html</a>
            </li>
          </ul>
        
    
    
        
          
          <ul class="p-2">
            <li class="m-2 list-unstyled"><span class="far fa-file mr-1"></span>
                <a class="course-file" href=/courses/jedha-full-stack-24-program/S1.9%20--%20D%C3%A9ployer%20une%20application%20FLASK/S19-A%20-%20Ajouter%20une%20BDD%20sur%20FLASK/Solutions/linear_regression_with_flask%20-%20SOLUTIONS/templates/layout.html>layout.html</a>
            </li>
          </ul>
        
    
    
        
          
          <ul class="p-2">
            <li class="m-2 list-unstyled"><span class="far fa-file mr-1"></span>
                <a class="course-file" href=/courses/jedha-full-stack-24-program/S1.9%20--%20D%C3%A9ployer%20une%20application%20FLASK/S19-A%20-%20Ajouter%20une%20BDD%20sur%20FLASK/Solutions/linear_regression_with_flask%20-%20SOLUTIONS/templates/predicted.html>predicted.html</a>
            </li>
          </ul>
        
    </ul>
        
    </ul>
        
    </ul>
        
    </ul>
        
    
    
        
          <ul class="p-0 mt-4">
            <button class="btn m-0 p-0 col-12" data-toggle="collapse" data-target="#course_s19-b-deployeruneapplicationsurazure" role="button" aria-expanded="false" aria-controls="course_s19-b-deployeruneapplicationsurazure">
              
                <span class="pl-5 pr-5 pt-3 pb-3 d-flex flex-row justify-content-between child-folders">
              
                <span>S19-B - Deployer une application sur Azure</span>
                <i class="fas fa-sort-down"></i>
              </span>
            </button>
          </ul>
          <ul class ="collapse" id="course_s19-b-deployeruneapplicationsurazure"> 
    
        
          <ul class="p-0 mt-4">
            <button class="btn m-0 p-0 col-12" data-toggle="collapse" data-target="#course_exercices" role="button" aria-expanded="false" aria-controls="course_exercices">
              
                <span class="pl-5 pr-5 pt-3 pb-3 d-flex flex-row justify-content-between parent-folder">
              
                <span>Exercices</span>
                <i class="fas fa-sort-down"></i>
              </span>
            </button>
          </ul>
          <ul class ="collapse" id="course_exercices"> 
    
        
          
          <ul class="p-2">
            <li class="m-2 list-unstyled"><span class="far fa-file mr-1"></span>
                <a class="course-file" href=/courses/jedha-full-stack-24-program/S1.9%20--%20D%C3%A9ployer%20une%20application%20FLASK/S19-B%20-%20Deployer%20une%20application%20sur%20Azure/Exercices/README.md>README.md</a>
            </li>
          </ul>
        
    
    
        
          <ul class="p-0 mt-4">
            <button class="btn m-0 p-0 col-12" data-toggle="collapse" data-target="#course_linear_regression_with_flask_with_bdd" role="button" aria-expanded="false" aria-controls="course_linear_regression_with_flask_with_bdd">
              
                <span class="pl-5 pr-5 pt-3 pb-3 d-flex flex-row justify-content-between child-folders">
              
                <span>linear_regression_with_flask_with_bdd</span>
                <i class="fas fa-sort-down"></i>
              </span>
            </button>
          </ul>
          <ul class ="collapse" id="course_linear_regression_with_flask_with_bdd"> 
    
        
          <ul class="p-0 mt-4">
            <button class="btn m-0 p-0 col-12" data-toggle="collapse" data-target="#course___pycache__" role="button" aria-expanded="false" aria-controls="course___pycache__">
              
                <span class="pl-5 pr-5 pt-3 pb-3 d-flex flex-row justify-content-between parent-folder">
              
                <span>__pycache__</span>
                <i class="fas fa-sort-down"></i>
              </span>
            </button>
          </ul>
          <ul class ="collapse" id="course___pycache__"> 
    
        
          
          <ul class="p-2">
            <li class="m-2 list-unstyled"><span class="far fa-file mr-1"></span>
                <a class="course-file" href=/courses/jedha-full-stack-24-program/S1.9%20--%20D%C3%A9ployer%20une%20application%20FLASK/S19-B%20-%20Deployer%20une%20application%20sur%20Azure/Exercices/linear_regression_with_flask_with_bdd/__pycache__/app.cpython-36.pyc>app.cpython-36.pyc</a>
            </li>
          </ul>
        
    
    
        
          
          <ul class="p-2">
            <li class="m-2 list-unstyled"><span class="far fa-file mr-1"></span>
                <a class="course-file" href=/courses/jedha-full-stack-24-program/S1.9%20--%20D%C3%A9ployer%20une%20application%20FLASK/S19-B%20-%20Deployer%20une%20application%20sur%20Azure/Exercices/linear_regression_with_flask_with_bdd/__pycache__/config.cpython-36.pyc>config.cpython-36.pyc</a>
            </li>
          </ul>
        
    
    
        
          
          <ul class="p-2">
            <li class="m-2 list-unstyled"><span class="far fa-file mr-1"></span>
                <a class="course-file" href=/courses/jedha-full-stack-24-program/S1.9%20--%20D%C3%A9ployer%20une%20application%20FLASK/S19-B%20-%20Deployer%20une%20application%20sur%20Azure/Exercices/linear_regression_with_flask_with_bdd/__pycache__/models.cpython-36.pyc>models.cpython-36.pyc</a>
            </li>
          </ul>
        
    </ul>
        
    
    
        
          
          <ul class="p-2">
            <li class="m-2 list-unstyled"><span class="far fa-file mr-1"></span>
                <a class="course-file" href=/courses/jedha-full-stack-24-program/S1.9%20--%20D%C3%A9ployer%20une%20application%20FLASK/S19-B%20-%20Deployer%20une%20application%20sur%20Azure/Exercices/linear_regression_with_flask_with_bdd/app.py>app.py</a>
            </li>
          </ul>
        
    
    
        
          
          <ul class="p-2">
            <li class="m-2 list-unstyled"><span class="far fa-file mr-1"></span>
                <a class="course-file" href=/courses/jedha-full-stack-24-program/S1.9%20--%20D%C3%A9ployer%20une%20application%20FLASK/S19-B%20-%20Deployer%20une%20application%20sur%20Azure/Exercices/linear_regression_with_flask_with_bdd/config.py>config.py</a>
            </li>
          </ul>
        
    
    
        
          
          <ul class="p-2">
            <li class="m-2 list-unstyled"><span class="far fa-file mr-1"></span>
                <a class="course-file" href=/courses/jedha-full-stack-24-program/S1.9%20--%20D%C3%A9ployer%20une%20application%20FLASK/S19-B%20-%20Deployer%20une%20application%20sur%20Azure/Exercices/linear_regression_with_flask_with_bdd/linear_regression_model.pkl>linear_regression_model.pkl</a>
            </li>
          </ul>
        
    
    
        
          
          <ul class="p-2">
            <li class="m-2 list-unstyled"><span class="far fa-file mr-1"></span>
                <a class="course-file" href=/courses/jedha-full-stack-24-program/S1.9%20--%20D%C3%A9ployer%20une%20application%20FLASK/S19-B%20-%20Deployer%20une%20application%20sur%20Azure/Exercices/linear_regression_with_flask_with_bdd/manage.py>manage.py</a>
            </li>
          </ul>
        
    
    
        
          <ul class="p-0 mt-4">
            <button class="btn m-0 p-0 col-12" data-toggle="collapse" data-target="#course_migrations" role="button" aria-expanded="false" aria-controls="course_migrations">
              
                <span class="pl-5 pr-5 pt-3 pb-3 d-flex flex-row justify-content-between child-folders">
              
                <span>migrations</span>
                <i class="fas fa-sort-down"></i>
              </span>
            </button>
          </ul>
          <ul class ="collapse" id="course_migrations"> 
    
        
          
          <ul class="p-2">
            <li class="m-2 list-unstyled"><span class="far fa-file mr-1"></span>
                <a class="course-file" href=/courses/jedha-full-stack-24-program/S1.9%20--%20D%C3%A9ployer%20une%20application%20FLASK/S19-B%20-%20Deployer%20une%20application%20sur%20Azure/Exercices/linear_regression_with_flask_with_bdd/migrations/README>README</a>
            </li>
          </ul>
        
    
    
        
          <ul class="p-0 mt-4">
            <button class="btn m-0 p-0 col-12" data-toggle="collapse" data-target="#course___pycache__" role="button" aria-expanded="false" aria-controls="course___pycache__">
              
                <span class="pl-5 pr-5 pt-3 pb-3 d-flex flex-row justify-content-between child-folders">
              
                <span>__pycache__</span>
                <i class="fas fa-sort-down"></i>
              </span>
            </button>
          </ul>
          <ul class ="collapse" id="course___pycache__"> 
    
        
          
          <ul class="p-2">
            <li class="m-2 list-unstyled"><span class="far fa-file mr-1"></span>
                <a class="course-file" href=/courses/jedha-full-stack-24-program/S1.9%20--%20D%C3%A9ployer%20une%20application%20FLASK/S19-B%20-%20Deployer%20une%20application%20sur%20Azure/Exercices/linear_regression_with_flask_with_bdd/migrations/__pycache__/env.cpython-36.pyc>env.cpython-36.pyc</a>
            </li>
          </ul>
        
    </ul>
        
    
    
        
          
          <ul class="p-2">
            <li class="m-2 list-unstyled"><span class="far fa-file mr-1"></span>
                <a class="course-file" href=/courses/jedha-full-stack-24-program/S1.9%20--%20D%C3%A9ployer%20une%20application%20FLASK/S19-B%20-%20Deployer%20une%20application%20sur%20Azure/Exercices/linear_regression_with_flask_with_bdd/migrations/alembic.ini>alembic.ini</a>
            </li>
          </ul>
        
    
    
        
          
          <ul class="p-2">
            <li class="m-2 list-unstyled"><span class="far fa-file mr-1"></span>
                <a class="course-file" href=/courses/jedha-full-stack-24-program/S1.9%20--%20D%C3%A9ployer%20une%20application%20FLASK/S19-B%20-%20Deployer%20une%20application%20sur%20Azure/Exercices/linear_regression_with_flask_with_bdd/migrations/env.py>env.py</a>
            </li>
          </ul>
        
    
    
        
          
          <ul class="p-2">
            <li class="m-2 list-unstyled"><span class="far fa-file mr-1"></span>
                <a class="course-file" href=/courses/jedha-full-stack-24-program/S1.9%20--%20D%C3%A9ployer%20une%20application%20FLASK/S19-B%20-%20Deployer%20une%20application%20sur%20Azure/Exercices/linear_regression_with_flask_with_bdd/migrations/script.py.mako>script.py.mako</a>
            </li>
          </ul>
        
    
    
        
          <ul class="p-0 mt-4">
            <button class="btn m-0 p-0 col-12" data-toggle="collapse" data-target="#course_versions" role="button" aria-expanded="false" aria-controls="course_versions">
              
                <span class="pl-5 pr-5 pt-3 pb-3 d-flex flex-row justify-content-between child-folders">
              
                <span>versions</span>
                <i class="fas fa-sort-down"></i>
              </span>
            </button>
          </ul>
          <ul class ="collapse" id="course_versions"> 
    
        
          <ul class="p-0 mt-4">
            <button class="btn m-0 p-0 col-12" data-toggle="collapse" data-target="#course___pycache__" role="button" aria-expanded="false" aria-controls="course___pycache__">
              
                <span class="pl-5 pr-5 pt-3 pb-3 d-flex flex-row justify-content-between parent-folder">
              
                <span>__pycache__</span>
                <i class="fas fa-sort-down"></i>
              </span>
            </button>
          </ul>
          <ul class ="collapse" id="course___pycache__"> 
    
        
          
          <ul class="p-2">
            <li class="m-2 list-unstyled"><span class="far fa-file mr-1"></span>
                <a class="course-file" href=/courses/jedha-full-stack-24-program/S1.9%20--%20D%C3%A9ployer%20une%20application%20FLASK/S19-B%20-%20Deployer%20une%20application%20sur%20Azure/Exercices/linear_regression_with_flask_with_bdd/migrations/versions/__pycache__/e93678a942b6_.cpython-36.pyc>e93678a942b6_.cpython-36.pyc</a>
            </li>
          </ul>
        
    </ul>
        
    
    
        
          
          <ul class="p-2">
            <li class="m-2 list-unstyled"><span class="far fa-file mr-1"></span>
                <a class="course-file" href=/courses/jedha-full-stack-24-program/S1.9%20--%20D%C3%A9ployer%20une%20application%20FLASK/S19-B%20-%20Deployer%20une%20application%20sur%20Azure/Exercices/linear_regression_with_flask_with_bdd/migrations/versions/e93678a942b6_.py>e93678a942b6_.py</a>
            </li>
          </ul>
        
    </ul>
        
    </ul>
        
    
    
        
          
          <ul class="p-2">
            <li class="m-2 list-unstyled"><span class="far fa-file mr-1"></span>
                <a class="course-file" href=/courses/jedha-full-stack-24-program/S1.9%20--%20D%C3%A9ployer%20une%20application%20FLASK/S19-B%20-%20Deployer%20une%20application%20sur%20Azure/Exercices/linear_regression_with_flask_with_bdd/models.py>models.py</a>
            </li>
          </ul>
        
    
    
        
          
          <ul class="p-2">
            <li class="m-2 list-unstyled"><span class="far fa-file mr-1"></span>
                <a class="course-file" href=/courses/jedha-full-stack-24-program/S1.9%20--%20D%C3%A9ployer%20une%20application%20FLASK/S19-B%20-%20Deployer%20une%20application%20sur%20Azure/Exercices/linear_regression_with_flask_with_bdd/prediction.py>prediction.py</a>
            </li>
          </ul>
        
    
    
        
          <ul class="p-0 mt-4">
            <button class="btn m-0 p-0 col-12" data-toggle="collapse" data-target="#course_static" role="button" aria-expanded="false" aria-controls="course_static">
              
                <span class="pl-5 pr-5 pt-3 pb-3 d-flex flex-row justify-content-between child-folders">
              
                <span>static</span>
                <i class="fas fa-sort-down"></i>
              </span>
            </button>
          </ul>
          <ul class ="collapse" id="course_static"> 
    
        
          
          <ul class="p-2">
            <li class="m-2 list-unstyled"><span class="far fa-file mr-1"></span>
                <a class="course-file" href=/courses/jedha-full-stack-24-program/S1.9%20--%20D%C3%A9ployer%20une%20application%20FLASK/S19-B%20-%20Deployer%20une%20application%20sur%20Azure/Exercices/linear_regression_with_flask_with_bdd/static/animations.js>animations.js</a>
            </li>
          </ul>
        
    
    
        
          
          <ul class="p-2">
            <li class="m-2 list-unstyled"><span class="far fa-file mr-1"></span>
                <a class="course-file" href=/courses/jedha-full-stack-24-program/S1.9%20--%20D%C3%A9ployer%20une%20application%20FLASK/S19-B%20-%20Deployer%20une%20application%20sur%20Azure/Exercices/linear_regression_with_flask_with_bdd/static/style.css>style.css</a>
            </li>
          </ul>
        
    </ul>
        
    
    
        
          <ul class="p-0 mt-4">
            <button class="btn m-0 p-0 col-12" data-toggle="collapse" data-target="#course_templates" role="button" aria-expanded="false" aria-controls="course_templates">
              
                <span class="pl-5 pr-5 pt-3 pb-3 d-flex flex-row justify-content-between child-folders">
              
                <span>templates</span>
                <i class="fas fa-sort-down"></i>
              </span>
            </button>
          </ul>
          <ul class ="collapse" id="course_templates"> 
    
        
          
          <ul class="p-2">
            <li class="m-2 list-unstyled"><span class="far fa-file mr-1"></span>
                <a class="course-file" href=/courses/jedha-full-stack-24-program/S1.9%20--%20D%C3%A9ployer%20une%20application%20FLASK/S19-B%20-%20Deployer%20une%20application%20sur%20Azure/Exercices/linear_regression_with_flask_with_bdd/templates/index.html>index.html</a>
            </li>
          </ul>
        
    
    
        
          
          <ul class="p-2">
            <li class="m-2 list-unstyled"><span class="far fa-file mr-1"></span>
                <a class="course-file" href=/courses/jedha-full-stack-24-program/S1.9%20--%20D%C3%A9ployer%20une%20application%20FLASK/S19-B%20-%20Deployer%20une%20application%20sur%20Azure/Exercices/linear_regression_with_flask_with_bdd/templates/layout.html>layout.html</a>
            </li>
          </ul>
        
    
    
        
          
          <ul class="p-2">
            <li class="m-2 list-unstyled"><span class="far fa-file mr-1"></span>
                <a class="course-file" href=/courses/jedha-full-stack-24-program/S1.9%20--%20D%C3%A9ployer%20une%20application%20FLASK/S19-B%20-%20Deployer%20une%20application%20sur%20Azure/Exercices/linear_regression_with_flask_with_bdd/templates/predicted.html>predicted.html</a>
            </li>
          </ul>
        
    </ul>
        
    </ul>
        
    </ul>
        
    
    
        
          
          <ul class="p-2">
            <li class="m-2 list-unstyled"><span class="far fa-file mr-1"></span>
                <a class="course-file" href=/courses/jedha-full-stack-24-program/S1.9%20--%20D%C3%A9ployer%20une%20application%20FLASK/S19-B%20-%20Deployer%20une%20application%20sur%20Azure/README.md>README.md</a>
            </li>
          </ul>
        
    
    
        
          <ul class="p-0 mt-4">
            <button class="btn m-0 p-0 col-12" data-toggle="collapse" data-target="#course_solutions" role="button" aria-expanded="false" aria-controls="course_solutions">
              
                <span class="pl-5 pr-5 pt-3 pb-3 d-flex flex-row justify-content-between child-folders">
              
                <span>Solutions</span>
                <i class="fas fa-sort-down"></i>
              </span>
            </button>
          </ul>
          <ul class ="collapse" id="course_solutions"> 
    
        
          
          <ul class="p-2">
            <li class="m-2 list-unstyled"><span class="far fa-file mr-1"></span>
                <a class="course-file" href=/courses/jedha-full-stack-24-program/S1.9%20--%20D%C3%A9ployer%20une%20application%20FLASK/S19-B%20-%20Deployer%20une%20application%20sur%20Azure/Solutions/README.md>README.md</a>
            </li>
          </ul>
        
    </ul>
        
    
    
        
          <ul class="p-0 mt-4">
            <button class="btn m-0 p-0 col-12" data-toggle="collapse" data-target="#course_linear_regression_with_flask" role="button" aria-expanded="false" aria-controls="course_linear_regression_with_flask">
              
                <span class="pl-5 pr-5 pt-3 pb-3 d-flex flex-row justify-content-between child-folders">
              
                <span>linear_regression_with_flask</span>
                <i class="fas fa-sort-down"></i>
              </span>
            </button>
          </ul>
          <ul class ="collapse" id="course_linear_regression_with_flask"> 
    
        
          
          <ul class="p-2">
            <li class="m-2 list-unstyled"><span class="far fa-file mr-1"></span>
                <a class="course-file" href=/courses/jedha-full-stack-24-program/S1.9%20--%20D%C3%A9ployer%20une%20application%20FLASK/S19-B%20-%20Deployer%20une%20application%20sur%20Azure/linear_regression_with_flask/app.py>app.py</a>
            </li>
          </ul>
        
    
    
        
          
          <ul class="p-2">
            <li class="m-2 list-unstyled"><span class="far fa-file mr-1"></span>
                <a class="course-file" href=/courses/jedha-full-stack-24-program/S1.9%20--%20D%C3%A9ployer%20une%20application%20FLASK/S19-B%20-%20Deployer%20une%20application%20sur%20Azure/linear_regression_with_flask/linear_regression_model.pkl>linear_regression_model.pkl</a>
            </li>
          </ul>
        
    
    
        
          
          <ul class="p-2">
            <li class="m-2 list-unstyled"><span class="far fa-file mr-1"></span>
                <a class="course-file" href=/courses/jedha-full-stack-24-program/S1.9%20--%20D%C3%A9ployer%20une%20application%20FLASK/S19-B%20-%20Deployer%20une%20application%20sur%20Azure/linear_regression_with_flask/prediction.py>prediction.py</a>
            </li>
          </ul>
        
    
    
        
          
          <ul class="p-2">
            <li class="m-2 list-unstyled"><span class="far fa-file mr-1"></span>
                <a class="course-file" href=/courses/jedha-full-stack-24-program/S1.9%20--%20D%C3%A9ployer%20une%20application%20FLASK/S19-B%20-%20Deployer%20une%20application%20sur%20Azure/linear_regression_with_flask/requirements.txt>requirements.txt</a>
            </li>
          </ul>
        
    
    
        
          <ul class="p-0 mt-4">
            <button class="btn m-0 p-0 col-12" data-toggle="collapse" data-target="#course_static" role="button" aria-expanded="false" aria-controls="course_static">
              
                <span class="pl-5 pr-5 pt-3 pb-3 d-flex flex-row justify-content-between child-folders">
              
                <span>static</span>
                <i class="fas fa-sort-down"></i>
              </span>
            </button>
          </ul>
          <ul class ="collapse" id="course_static"> 
    
        
          
          <ul class="p-2">
            <li class="m-2 list-unstyled"><span class="far fa-file mr-1"></span>
                <a class="course-file" href=/courses/jedha-full-stack-24-program/S1.9%20--%20D%C3%A9ployer%20une%20application%20FLASK/S19-B%20-%20Deployer%20une%20application%20sur%20Azure/linear_regression_with_flask/static/animations.js>animations.js</a>
            </li>
          </ul>
        
    
    
        
          
          <ul class="p-2">
            <li class="m-2 list-unstyled"><span class="far fa-file mr-1"></span>
                <a class="course-file" href=/courses/jedha-full-stack-24-program/S1.9%20--%20D%C3%A9ployer%20une%20application%20FLASK/S19-B%20-%20Deployer%20une%20application%20sur%20Azure/linear_regression_with_flask/static/style.css>style.css</a>
            </li>
          </ul>
        
    </ul>
        
    
    
        
          <ul class="p-0 mt-4">
            <button class="btn m-0 p-0 col-12" data-toggle="collapse" data-target="#course_templates" role="button" aria-expanded="false" aria-controls="course_templates">
              
                <span class="pl-5 pr-5 pt-3 pb-3 d-flex flex-row justify-content-between child-folders">
              
                <span>templates</span>
                <i class="fas fa-sort-down"></i>
              </span>
            </button>
          </ul>
          <ul class ="collapse" id="course_templates"> 
    
        
          
          <ul class="p-2">
            <li class="m-2 list-unstyled"><span class="far fa-file mr-1"></span>
                <a class="course-file" href=/courses/jedha-full-stack-24-program/S1.9%20--%20D%C3%A9ployer%20une%20application%20FLASK/S19-B%20-%20Deployer%20une%20application%20sur%20Azure/linear_regression_with_flask/templates/index.html>index.html</a>
            </li>
          </ul>
        
    
    
        
          
          <ul class="p-2">
            <li class="m-2 list-unstyled"><span class="far fa-file mr-1"></span>
                <a class="course-file" href=/courses/jedha-full-stack-24-program/S1.9%20--%20D%C3%A9ployer%20une%20application%20FLASK/S19-B%20-%20Deployer%20une%20application%20sur%20Azure/linear_regression_with_flask/templates/layout.html>layout.html</a>
            </li>
          </ul>
        
    
    
        
          
          <ul class="p-2">
            <li class="m-2 list-unstyled"><span class="far fa-file mr-1"></span>
                <a class="course-file" href=/courses/jedha-full-stack-24-program/S1.9%20--%20D%C3%A9ployer%20une%20application%20FLASK/S19-B%20-%20Deployer%20une%20application%20sur%20Azure/linear_regression_with_flask/templates/predicted.html>predicted.html</a>
            </li>
          </ul>
        
    </ul>
        
    </ul>
        
    </ul>
        
    </ul>
        
    
    
        
          <ul class="p-0 mt-4">
            <button class="btn m-0 p-0 col-12" data-toggle="collapse" data-target="#course_s20--bigdatatraitementsparallèlisés" role="button" aria-expanded="false" aria-controls="course_s20--bigdatatraitementsparallèlisés">
              
                <span class="pl-5 pr-5 pt-3 pb-3 d-flex flex-row justify-content-between child-folders">
              
                <span>S2.0 -- Big Data &amp; Traitements Parallèlisés</span>
                <i class="fas fa-sort-down"></i>
              </span>
            </button>
          </ul>
          <ul class ="collapse" id="course_s20--bigdatatraitementsparallèlisés"> 
    
        
          <ul class="p-0 mt-4">
            <button class="btn m-0 p-0 col-12" data-toggle="collapse" data-target="#course_s20-a-interagiraveclescomptesdestockages" role="button" aria-expanded="false" aria-controls="course_s20-a-interagiraveclescomptesdestockages">
              
                <span class="pl-5 pr-5 pt-3 pb-3 d-flex flex-row justify-content-between parent-folder">
              
                <span>S20-A - Interagir avec les comptes de stockages</span>
                <i class="fas fa-sort-down"></i>
              </span>
            </button>
          </ul>
          <ul class ="collapse" id="course_s20-a-interagiraveclescomptesdestockages"> 
    
        
          <ul class="p-0 mt-4">
            <button class="btn m-0 p-0 col-12" data-toggle="collapse" data-target="#course_exercices" role="button" aria-expanded="false" aria-controls="course_exercices">
              
                <span class="pl-5 pr-5 pt-3 pb-3 d-flex flex-row justify-content-between parent-folder">
              
                <span>Exercices</span>
                <i class="fas fa-sort-down"></i>
              </span>
            </button>
          </ul>
          <ul class ="collapse" id="course_exercices"> 
    
        
          
          <ul class="p-2">
            <li class="m-2 list-unstyled"><span class="far fa-file mr-1"></span>
                <a class="course-file" href=/courses/jedha-full-stack-24-program/S2.0%20--%20Big%20Data%20%26%20Traitements%20Parall%C3%A8lis%C3%A9s/S20-A%20-%20Interagir%20avec%20les%20comptes%20de%20stockages/Exercices/Exercices%20Azure.md>Exercices Azure.md</a>
            </li>
          </ul>
        
    </ul>
        
    
    
        
          
          <ul class="p-2">
            <li class="m-2 list-unstyled"><span class="far fa-file mr-1"></span>
                <a class="course-file" href=/courses/jedha-full-stack-24-program/S2.0%20--%20Big%20Data%20%26%20Traitements%20Parall%C3%A8lis%C3%A9s/S20-A%20-%20Interagir%20avec%20les%20comptes%20de%20stockages/README.md>README.md</a>
            </li>
          </ul>
        
    
    
        
          <ul class="p-0 mt-4">
            <button class="btn m-0 p-0 col-12" data-toggle="collapse" data-target="#course_solutions" role="button" aria-expanded="false" aria-controls="course_solutions">
              
                <span class="pl-5 pr-5 pt-3 pb-3 d-flex flex-row justify-content-between child-folders">
              
                <span>Solutions</span>
                <i class="fas fa-sort-down"></i>
              </span>
            </button>
          </ul>
          <ul class ="collapse" id="course_solutions"> 
    
        
          
          <ul class="p-2">
            <li class="m-2 list-unstyled"><span class="far fa-file mr-1"></span>
                <a class="course-file" href=/courses/jedha-full-stack-24-program/S2.0%20--%20Big%20Data%20%26%20Traitements%20Parall%C3%A8lis%C3%A9s/S20-A%20-%20Interagir%20avec%20les%20comptes%20de%20stockages/Solutions/1.%20Interagir%20avec%20les%20comptes%20de%20stockages.md>1. Interagir avec les comptes de stockages.md</a>
            </li>
          </ul>
        
    
    
        
          
          <ul class="p-2">
            <li class="m-2 list-unstyled"><span class="far fa-file mr-1"></span>
                <a class="course-file" href=/courses/jedha-full-stack-24-program/S2.0%20--%20Big%20Data%20%26%20Traitements%20Parall%C3%A8lis%C3%A9s/S20-A%20-%20Interagir%20avec%20les%20comptes%20de%20stockages/Solutions/2.%20Interagir%20avec%20les%20bases%20de%20donn%C3%A9es.md>2. Interagir avec les bases de données.md</a>
            </li>
          </ul>
        
    </ul>
        
    </ul>
        
    
    
        
          <ul class="p-0 mt-4">
            <button class="btn m-0 p-0 col-12" data-toggle="collapse" data-target="#course_s20-b-initiationdatabricksspark" role="button" aria-expanded="false" aria-controls="course_s20-b-initiationdatabricksspark">
              
                <span class="pl-5 pr-5 pt-3 pb-3 d-flex flex-row justify-content-between child-folders">
              
                <span>S20-B - Initiation DataBricks &amp; Spark</span>
                <i class="fas fa-sort-down"></i>
              </span>
            </button>
          </ul>
          <ul class ="collapse" id="course_s20-b-initiationdatabricksspark"> 
    
        
          
          <ul class="p-2">
            <li class="m-2 list-unstyled"><span class="far fa-file mr-1"></span>
                <a class="course-file" href=/courses/jedha-full-stack-24-program/S2.0%20--%20Big%20Data%20%26%20Traitements%20Parall%C3%A8lis%C3%A9s/S20-B%20-%20Initiation%20DataBricks%20%26%20Spark/2.%20Exercices%20initiation%20Spark%20et%20Databricks.md>2. Exercices initiation Spark et Databricks.md</a>
            </li>
          </ul>
        
    
    
        
          
          <ul class="p-2">
            <li class="m-2 list-unstyled"><span class="far fa-file mr-1"></span>
                <a class="course-file" href=/courses/jedha-full-stack-24-program/S2.0%20--%20Big%20Data%20%26%20Traitements%20Parall%C3%A8lis%C3%A9s/S20-B%20-%20Initiation%20DataBricks%20%26%20Spark/3.%20Introduction%20Spark%20et%20Databricks%20-%20SOLUTIONS.md>3. Introduction Spark et Databricks - SOLUTIONS.md</a>
            </li>
          </ul>
        
    
    
        
          
          <ul class="p-2">
            <li class="m-2 list-unstyled"><span class="far fa-file mr-1"></span>
                <a class="course-file" href=/courses/jedha-full-stack-24-program/S2.0%20--%20Big%20Data%20%26%20Traitements%20Parall%C3%A8lis%C3%A9s/S20-B%20-%20Initiation%20DataBricks%20%26%20Spark/README.md>README.md</a>
            </li>
          </ul>
        
    </ul>
        
    </ul>
        
    
    
        
          <ul class="p-0 mt-4">
            <button class="btn m-0 p-0 col-12" data-toggle="collapse" data-target="#course_s21--spark" role="button" aria-expanded="false" aria-controls="course_s21--spark">
              
                <span class="pl-5 pr-5 pt-3 pb-3 d-flex flex-row justify-content-between child-folders">
              
                <span>S2.1 -- Spark</span>
                <i class="fas fa-sort-down"></i>
              </span>
            </button>
          </ul>
          <ul class ="collapse" id="course_s21--spark"> 
    
        
          <ul class="p-0 mt-4">
            <button class="btn m-0 p-0 col-12" data-toggle="collapse" data-target="#course_s21-a-sparksql" role="button" aria-expanded="false" aria-controls="course_s21-a-sparksql">
              
                <span class="pl-5 pr-5 pt-3 pb-3 d-flex flex-row justify-content-between parent-folder">
              
                <span>S21-A - Spark SQL</span>
                <i class="fas fa-sort-down"></i>
              </span>
            </button>
          </ul>
          <ul class ="collapse" id="course_s21-a-sparksql"> 
    
        
          
          <ul class="p-2">
            <li class="m-2 list-unstyled"><span class="far fa-file mr-1"></span>
                <a class="course-file" href=/courses/jedha-full-stack-24-program/S2.1%20--%20Spark/S21-A%20-%20Spark%20SQL/1.%20Spark_SQL%20-%20Exercice.ipynb>1. Spark_SQL - Exercice.ipynb</a>
            </li>
          </ul>
        
    
    
        
          
          <ul class="p-2">
            <li class="m-2 list-unstyled"><span class="far fa-file mr-1"></span>
                <a class="course-file" href=/courses/jedha-full-stack-24-program/S2.1%20--%20Spark/S21-A%20-%20Spark%20SQL/2.%20Correction%20Spark%20SQL.md>2. Correction Spark SQL.md</a>
            </li>
          </ul>
        
    
    
        
          
          <ul class="p-2">
            <li class="m-2 list-unstyled"><span class="far fa-file mr-1"></span>
                <a class="course-file" href=/courses/jedha-full-stack-24-program/S2.1%20--%20Spark/S21-A%20-%20Spark%20SQL/3.%20SparkSQL.md>3. SparkSQL.md</a>
            </li>
          </ul>
        
    
    
        
          
          <ul class="p-2">
            <li class="m-2 list-unstyled"><span class="far fa-file mr-1"></span>
                <a class="course-file" href=/courses/jedha-full-stack-24-program/S2.1%20--%20Spark/S21-A%20-%20Spark%20SQL/README.md>README.md</a>
            </li>
          </ul>
        
    </ul>
        
    
    
        
          <ul class="p-0 mt-4">
            <button class="btn m-0 p-0 col-12" data-toggle="collapse" data-target="#course_s21-b-sparkmllib" role="button" aria-expanded="false" aria-controls="course_s21-b-sparkmllib">
              
                <span class="pl-5 pr-5 pt-3 pb-3 d-flex flex-row justify-content-between child-folders">
              
                <span>S21-B - Spark MLlib</span>
                <i class="fas fa-sort-down"></i>
              </span>
            </button>
          </ul>
          <ul class ="collapse" id="course_s21-b-sparkmllib"> 
    
        
          
          <ul class="p-2">
            <li class="m-2 list-unstyled"><span class="far fa-file mr-1"></span>
                <a class="course-file" href=/courses/jedha-full-stack-24-program/S2.1%20--%20Spark/S21-B%20-%20Spark%20MLlib/2.%20MLlib%20-%20Notebook.md>2. MLlib - Notebook.md</a>
            </li>
          </ul>
        
    
    
        
          
          <ul class="p-2">
            <li class="m-2 list-unstyled"><span class="far fa-file mr-1"></span>
                <a class="course-file" href=/courses/jedha-full-stack-24-program/S2.1%20--%20Spark/S21-B%20-%20Spark%20MLlib/README.md>README.md</a>
            </li>
          </ul>
        
    
    
        
          
          <ul class="p-2">
            <li class="m-2 list-unstyled"><span class="far fa-file mr-1"></span>
                <a class="course-file" href=/courses/jedha-full-stack-24-program/S2.1%20--%20Spark/S21-B%20-%20Spark%20MLlib/Spark%20MLlib%20Classification%20-%20Exercice%20SOLUTION.md>Spark MLlib Classification - Exercice SOLUTION.md</a>
            </li>
          </ul>
        
    </ul>
        
    </ul>
        
    
    
        
          <ul class="p-0 mt-4">
            <button class="btn m-0 p-0 col-12" data-toggle="collapse" data-target="#course_s22--projet-moteurderecommandationsavecspark" role="button" aria-expanded="false" aria-controls="course_s22--projet-moteurderecommandationsavecspark">
              
                <span class="pl-5 pr-5 pt-3 pb-3 d-flex flex-row justify-content-between child-folders">
              
                <span>S2.2 -- Projet - MOTEUR DE RECOMMANDATIONS AVEC SPARK</span>
                <i class="fas fa-sort-down"></i>
              </span>
            </button>
          </ul>
          <ul class ="collapse" id="course_s22--projet-moteurderecommandationsavecspark"> 
    
        
          <ul class="p-0 mt-4">
            <button class="btn m-0 p-0 col-12" data-toggle="collapse" data-target="#course_s22-a-introductionauxmoteursderecommandations" role="button" aria-expanded="false" aria-controls="course_s22-a-introductionauxmoteursderecommandations">
              
                <span class="pl-5 pr-5 pt-3 pb-3 d-flex flex-row justify-content-between parent-folder">
              
                <span>S22-A - Introduction aux moteurs de recommandations</span>
                <i class="fas fa-sort-down"></i>
              </span>
            </button>
          </ul>
          <ul class ="collapse" id="course_s22-a-introductionauxmoteursderecommandations"> 
    
        
          
          <ul class="p-2">
            <li class="m-2 list-unstyled"><span class="far fa-file mr-1"></span>
                <a class="course-file" href=/courses/jedha-full-stack-24-program/S2.2%20--%20Projet%20-%20MOTEUR%20DE%20RECOMMANDATIONS%20AVEC%20SPARK/S22-A%20-%20Introduction%20aux%20moteurs%20de%20recommandations/2.%20Moteur%20de%20recommandation%20-%20Notebook.md>2. Moteur de recommandation - Notebook.md</a>
            </li>
          </ul>
        
    
    
        
          
          <ul class="p-2">
            <li class="m-2 list-unstyled"><span class="far fa-file mr-1"></span>
                <a class="course-file" href=/courses/jedha-full-stack-24-program/S2.2%20--%20Projet%20-%20MOTEUR%20DE%20RECOMMANDATIONS%20AVEC%20SPARK/S22-A%20-%20Introduction%20aux%20moteurs%20de%20recommandations/README.md>README.md</a>
            </li>
          </ul>
        
    </ul>
        
    
    
        
          <ul class="p-0 mt-4">
            <button class="btn m-0 p-0 col-12" data-toggle="collapse" data-target="#course_s22-b-créersonmoteurderecommandationsderestaurants" role="button" aria-expanded="false" aria-controls="course_s22-b-créersonmoteurderecommandationsderestaurants">
              
                <span class="pl-5 pr-5 pt-3 pb-3 d-flex flex-row justify-content-between child-folders">
              
                <span>S22-B - Créer son moteur de recommandations de restaurants</span>
                <i class="fas fa-sort-down"></i>
              </span>
            </button>
          </ul>
          <ul class ="collapse" id="course_s22-b-créersonmoteurderecommandationsderestaurants"> 
    
        
          
          <ul class="p-2">
            <li class="m-2 list-unstyled"><span class="far fa-file mr-1"></span>
                <a class="course-file" href=/courses/jedha-full-stack-24-program/S2.2%20--%20Projet%20-%20MOTEUR%20DE%20RECOMMANDATIONS%20AVEC%20SPARK/S22-B%20-%20Cr%C3%A9er%20son%20moteur%20de%20recommandations%20de%20restaurants/1.%20Exercices%20Moteur%20de%20recommandation.md>1. Exercices Moteur de recommandation.md</a>
            </li>
          </ul>
        
    
    
        
          
          <ul class="p-2">
            <li class="m-2 list-unstyled"><span class="far fa-file mr-1"></span>
                <a class="course-file" href=/courses/jedha-full-stack-24-program/S2.2%20--%20Projet%20-%20MOTEUR%20DE%20RECOMMANDATIONS%20AVEC%20SPARK/S22-B%20-%20Cr%C3%A9er%20son%20moteur%20de%20recommandations%20de%20restaurants/2.%20Exercices%20Moteur%20de%20Recommandation%20-%20SOLUTIONS.md>2. Exercices Moteur de Recommandation - SOLUTIONS.md</a>
            </li>
          </ul>
        
    </ul>
        
    </ul>
        
    
    
        
          <ul class="p-0 mt-4">
            <button class="btn m-0 p-0 col-12" data-toggle="collapse" data-target="#course_s23--coachingcarrière" role="button" aria-expanded="false" aria-controls="course_s23--coachingcarrière">
              
                <span class="pl-5 pr-5 pt-3 pb-3 d-flex flex-row justify-content-between child-folders">
              
                <span>S2.3 -- Coaching carrière</span>
                <i class="fas fa-sort-down"></i>
              </span>
            </button>
          </ul>
          <ul class ="collapse" id="course_s23--coachingcarrière"> 
    
        
          <ul class="p-0 mt-4">
            <button class="btn m-0 p-0 col-12" data-toggle="collapse" data-target="#course_s23-a-codingchallenge" role="button" aria-expanded="false" aria-controls="course_s23-a-codingchallenge">
              
                <span class="pl-5 pr-5 pt-3 pb-3 d-flex flex-row justify-content-between parent-folder">
              
                <span>S23-A - Coding Challenge</span>
                <i class="fas fa-sort-down"></i>
              </span>
            </button>
          </ul>
          <ul class ="collapse" id="course_s23-a-codingchallenge"> 
    
        
          <ul class="p-0 mt-4">
            <button class="btn m-0 p-0 col-12" data-toggle="collapse" data-target="#course_codingchallenge" role="button" aria-expanded="false" aria-controls="course_codingchallenge">
              
                <span class="pl-5 pr-5 pt-3 pb-3 d-flex flex-row justify-content-between parent-folder">
              
                <span>Coding Challenge</span>
                <i class="fas fa-sort-down"></i>
              </span>
            </button>
          </ul>
          <ul class ="collapse" id="course_codingchallenge"> 
    
        
          
          <ul class="p-2">
            <li class="m-2 list-unstyled"><span class="far fa-file mr-1"></span>
                <a class="course-file" href=/courses/jedha-full-stack-24-program/S2.3%20--%20Coaching%20carri%C3%A8re/S23-A%20-%20Coding%20Challenge/Coding%20Challenge/1.%20Coding%20Challenge%20FULL%20STACK%20PROGRAM.ipynb>1. Coding Challenge FULL STACK PROGRAM.ipynb</a>
            </li>
          </ul>
        
    
    
        
          
          <ul class="p-2">
            <li class="m-2 list-unstyled"><span class="far fa-file mr-1"></span>
                <a class="course-file" href=/courses/jedha-full-stack-24-program/S2.3%20--%20Coaching%20carri%C3%A8re/S23-A%20-%20Coding%20Challenge/Coding%20Challenge/2.%20Coding%20Challenge%20SOLUTIONS.md>2. Coding Challenge SOLUTIONS.md</a>
            </li>
          </ul>
        
    </ul>
        
    
    
        
          
          <ul class="p-2">
            <li class="m-2 list-unstyled"><span class="far fa-file mr-1"></span>
                <a class="course-file" href=/courses/jedha-full-stack-24-program/S2.3%20--%20Coaching%20carri%C3%A8re/S23-A%20-%20Coding%20Challenge/README.md>README.md</a>
            </li>
          </ul>
        
    </ul>
        
    
    
        
          <ul class="p-0 mt-4">
            <button class="btn m-0 p-0 col-12" data-toggle="collapse" data-target="#course_s23-b-préparationauxentretienstechniques" role="button" aria-expanded="false" aria-controls="course_s23-b-préparationauxentretienstechniques">
              
                <span class="pl-5 pr-5 pt-3 pb-3 d-flex flex-row justify-content-between child-folders">
              
                <span>S23-B - Préparation aux entretiens techniques</span>
                <i class="fas fa-sort-down"></i>
              </span>
            </button>
          </ul>
          <ul class ="collapse" id="course_s23-b-préparationauxentretienstechniques"> 
    
        
          <ul class="p-0 mt-4">
            <button class="btn m-0 p-0 col-12" data-toggle="collapse" data-target="#course_codingchallenge" role="button" aria-expanded="false" aria-controls="course_codingchallenge">
              
                <span class="pl-5 pr-5 pt-3 pb-3 d-flex flex-row justify-content-between parent-folder">
              
                <span>Coding Challenge</span>
                <i class="fas fa-sort-down"></i>
              </span>
            </button>
          </ul>
          <ul class ="collapse" id="course_codingchallenge"> 
    
        
          
          <ul class="p-2">
            <li class="m-2 list-unstyled"><span class="far fa-file mr-1"></span>
                <a class="course-file" href=/courses/jedha-full-stack-24-program/S2.3%20--%20Coaching%20carri%C3%A8re/S23-B%20-%20Pr%C3%A9paration%20aux%20entretiens%20techniques/Coding%20Challenge/README.md>README.md</a>
            </li>
          </ul>
        
    
    
        
          
          <ul class="p-2">
            <li class="m-2 list-unstyled"><span class="far fa-file mr-1"></span>
                <a class="course-file" href=/courses/jedha-full-stack-24-program/S2.3%20--%20Coaching%20carri%C3%A8re/S23-B%20-%20Pr%C3%A9paration%20aux%20entretiens%20techniques/Coding%20Challenge/referral.csv>referral.csv</a>
            </li>
          </ul>
        
    </ul>
        
    
    
        
          <ul class="p-0 mt-4">
            <button class="btn m-0 p-0 col-12" data-toggle="collapse" data-target="#course_machinelearningflashcards" role="button" aria-expanded="false" aria-controls="course_machinelearningflashcards">
              
                <span class="pl-5 pr-5 pt-3 pb-3 d-flex flex-row justify-content-between child-folders">
              
                <span>Machine Learning Flashcards</span>
                <i class="fas fa-sort-down"></i>
              </span>
            </button>
          </ul>
          <ul class ="collapse" id="course_machinelearningflashcards"> 
    
        
          
          <ul class="p-2">
            <li class="m-2 list-unstyled"><span class="far fa-file mr-1"></span>
                <a class="course-file" href=/courses/jedha-full-stack-24-program/S2.3%20--%20Coaching%20carri%C3%A8re/S23-B%20-%20Pr%C3%A9paration%20aux%20entretiens%20techniques/Machine%20Learning%20Flashcards/AIC_web.png>AIC_web.png</a>
            </li>
          </ul>
        
    
    
        
          
          <ul class="p-2">
            <li class="m-2 list-unstyled"><span class="far fa-file mr-1"></span>
                <a class="course-file" href=/courses/jedha-full-stack-24-program/S2.3%20--%20Coaching%20carri%C3%A8re/S23-B%20-%20Pr%C3%A9paration%20aux%20entretiens%20techniques/Machine%20Learning%20Flashcards/Accuracy_web.png>Accuracy_web.png</a>
            </li>
          </ul>
        
    
    
        
          
          <ul class="p-2">
            <li class="m-2 list-unstyled"><span class="far fa-file mr-1"></span>
                <a class="course-file" href=/courses/jedha-full-stack-24-program/S2.3%20--%20Coaching%20carri%C3%A8re/S23-B%20-%20Pr%C3%A9paration%20aux%20entretiens%20techniques/Machine%20Learning%20Flashcards/AdaBoost_web.png>AdaBoost_web.png</a>
            </li>
          </ul>
        
    
    
        
          
          <ul class="p-2">
            <li class="m-2 list-unstyled"><span class="far fa-file mr-1"></span>
                <a class="course-file" href=/courses/jedha-full-stack-24-program/S2.3%20--%20Coaching%20carri%C3%A8re/S23-B%20-%20Pr%C3%A9paration%20aux%20entretiens%20techniques/Machine%20Learning%20Flashcards/Adjusted_R-Squared_web.png>Adjusted_R-Squared_web.png</a>
            </li>
          </ul>
        
    
    
        
          
          <ul class="p-2">
            <li class="m-2 list-unstyled"><span class="far fa-file mr-1"></span>
                <a class="course-file" href=/courses/jedha-full-stack-24-program/S2.3%20--%20Coaching%20carri%C3%A8re/S23-B%20-%20Pr%C3%A9paration%20aux%20entretiens%20techniques/Machine%20Learning%20Flashcards/Aggomerative_Clustering_web.png>Aggomerative_Clustering_web.png</a>
            </li>
          </ul>
        
    
    
        
          
          <ul class="p-2">
            <li class="m-2 list-unstyled"><span class="far fa-file mr-1"></span>
                <a class="course-file" href=/courses/jedha-full-stack-24-program/S2.3%20--%20Coaching%20carri%C3%A8re/S23-B%20-%20Pr%C3%A9paration%20aux%20entretiens%20techniques/Machine%20Learning%20Flashcards/Almost_Everywhere_web.png>Almost_Everywhere_web.png</a>
            </li>
          </ul>
        
    
    
        
          
          <ul class="p-2">
            <li class="m-2 list-unstyled"><span class="far fa-file mr-1"></span>
                <a class="course-file" href=/courses/jedha-full-stack-24-program/S2.3%20--%20Coaching%20carri%C3%A8re/S23-B%20-%20Pr%C3%A9paration%20aux%20entretiens%20techniques/Machine%20Learning%20Flashcards/Alpha_In_Ridge_Regression_web.png>Alpha_In_Ridge_Regression_web.png</a>
            </li>
          </ul>
        
    
    
        
          
          <ul class="p-2">
            <li class="m-2 list-unstyled"><span class="far fa-file mr-1"></span>
                <a class="course-file" href=/courses/jedha-full-stack-24-program/S2.3%20--%20Coaching%20carri%C3%A8re/S23-B%20-%20Pr%C3%A9paration%20aux%20entretiens%20techniques/Machine%20Learning%20Flashcards/Anscombes_Quartet_web.png>Anscombes_Quartet_web.png</a>
            </li>
          </ul>
        
    
    
        
          
          <ul class="p-2">
            <li class="m-2 list-unstyled"><span class="far fa-file mr-1"></span>
                <a class="course-file" href=/courses/jedha-full-stack-24-program/S2.3%20--%20Coaching%20carri%C3%A8re/S23-B%20-%20Pr%C3%A9paration%20aux%20entretiens%20techniques/Machine%20Learning%20Flashcards/Architecture_Of_A_Neural_Network_web.png>Architecture_Of_A_Neural_Network_web.png</a>
            </li>
          </ul>
        
    
    
        
          
          <ul class="p-2">
            <li class="m-2 list-unstyled"><span class="far fa-file mr-1"></span>
                <a class="course-file" href=/courses/jedha-full-stack-24-program/S2.3%20--%20Coaching%20carri%C3%A8re/S23-B%20-%20Pr%C3%A9paration%20aux%20entretiens%20techniques/Machine%20Learning%20Flashcards/Area_Under_The_Curve_web.png>Area_Under_The_Curve_web.png</a>
            </li>
          </ul>
        
    
    
        
          
          <ul class="p-2">
            <li class="m-2 list-unstyled"><span class="far fa-file mr-1"></span>
                <a class="course-file" href=/courses/jedha-full-stack-24-program/S2.3%20--%20Coaching%20carri%C3%A8re/S23-B%20-%20Pr%C3%A9paration%20aux%20entretiens%20techniques/Machine%20Learning%20Flashcards/Avoid_Overfitting_web.png>Avoid_Overfitting_web.png</a>
            </li>
          </ul>
        
    
    
        
          
          <ul class="p-2">
            <li class="m-2 list-unstyled"><span class="far fa-file mr-1"></span>
                <a class="course-file" href=/courses/jedha-full-stack-24-program/S2.3%20--%20Coaching%20carri%C3%A8re/S23-B%20-%20Pr%C3%A9paration%20aux%20entretiens%20techniques/Machine%20Learning%20Flashcards/BackProp_web.png>BackProp_web.png</a>
            </li>
          </ul>
        
    
    
        
          
          <ul class="p-2">
            <li class="m-2 list-unstyled"><span class="far fa-file mr-1"></span>
                <a class="course-file" href=/courses/jedha-full-stack-24-program/S2.3%20--%20Coaching%20carri%C3%A8re/S23-B%20-%20Pr%C3%A9paration%20aux%20entretiens%20techniques/Machine%20Learning%20Flashcards/Bag_Of_Words_web.png>Bag_Of_Words_web.png</a>
            </li>
          </ul>
        
    
    
        
          
          <ul class="p-2">
            <li class="m-2 list-unstyled"><span class="far fa-file mr-1"></span>
                <a class="course-file" href=/courses/jedha-full-stack-24-program/S2.3%20--%20Coaching%20carri%C3%A8re/S23-B%20-%20Pr%C3%A9paration%20aux%20entretiens%20techniques/Machine%20Learning%20Flashcards/Bagging_Vs_Dropout_web.png>Bagging_Vs_Dropout_web.png</a>
            </li>
          </ul>
        
    
    
        
          
          <ul class="p-2">
            <li class="m-2 list-unstyled"><span class="far fa-file mr-1"></span>
                <a class="course-file" href=/courses/jedha-full-stack-24-program/S2.3%20--%20Coaching%20carri%C3%A8re/S23-B%20-%20Pr%C3%A9paration%20aux%20entretiens%20techniques/Machine%20Learning%20Flashcards/Bagging_web.png>Bagging_web.png</a>
            </li>
          </ul>
        
    
    
        
          
          <ul class="p-2">
            <li class="m-2 list-unstyled"><span class="far fa-file mr-1"></span>
                <a class="course-file" href=/courses/jedha-full-stack-24-program/S2.3%20--%20Coaching%20carri%C3%A8re/S23-B%20-%20Pr%C3%A9paration%20aux%20entretiens%20techniques/Machine%20Learning%20Flashcards/Basic_Parts_Of_Deep_Learning_web.png>Basic_Parts_Of_Deep_Learning_web.png</a>
            </li>
          </ul>
        
    
    
        
          
          <ul class="p-2">
            <li class="m-2 list-unstyled"><span class="far fa-file mr-1"></span>
                <a class="course-file" href=/courses/jedha-full-stack-24-program/S2.3%20--%20Coaching%20carri%C3%A8re/S23-B%20-%20Pr%C3%A9paration%20aux%20entretiens%20techniques/Machine%20Learning%20Flashcards/Bayes_Error_web.png>Bayes_Error_web.png</a>
            </li>
          </ul>
        
    
    
        
          
          <ul class="p-2">
            <li class="m-2 list-unstyled"><span class="far fa-file mr-1"></span>
                <a class="course-file" href=/courses/jedha-full-stack-24-program/S2.3%20--%20Coaching%20carri%C3%A8re/S23-B%20-%20Pr%C3%A9paration%20aux%20entretiens%20techniques/Machine%20Learning%20Flashcards/Bayes_Theorem_web.png>Bayes_Theorem_web.png</a>
            </li>
          </ul>
        
    
    
        
          
          <ul class="p-2">
            <li class="m-2 list-unstyled"><span class="far fa-file mr-1"></span>
                <a class="course-file" href=/courses/jedha-full-stack-24-program/S2.3%20--%20Coaching%20carri%C3%A8re/S23-B%20-%20Pr%C3%A9paration%20aux%20entretiens%20techniques/Machine%20Learning%20Flashcards/Bayesian_Methods_Pros_And_Cons_web.png>Bayesian_Methods_Pros_And_Cons_web.png</a>
            </li>
          </ul>
        
    
    
        
          
          <ul class="p-2">
            <li class="m-2 list-unstyled"><span class="far fa-file mr-1"></span>
                <a class="course-file" href=/courses/jedha-full-stack-24-program/S2.3%20--%20Coaching%20carri%C3%A8re/S23-B%20-%20Pr%C3%A9paration%20aux%20entretiens%20techniques/Machine%20Learning%20Flashcards/Bias-Variance_Tradeoff_web.png>Bias-Variance_Tradeoff_web.png</a>
            </li>
          </ul>
        
    
    
        
          
          <ul class="p-2">
            <li class="m-2 list-unstyled"><span class="far fa-file mr-1"></span>
                <a class="course-file" href=/courses/jedha-full-stack-24-program/S2.3%20--%20Coaching%20carri%C3%A8re/S23-B%20-%20Pr%C3%A9paration%20aux%20entretiens%20techniques/Machine%20Learning%20Flashcards/Bias_web.png>Bias_web.png</a>
            </li>
          </ul>
        
    
    
        
          
          <ul class="p-2">
            <li class="m-2 list-unstyled"><span class="far fa-file mr-1"></span>
                <a class="course-file" href=/courses/jedha-full-stack-24-program/S2.3%20--%20Coaching%20carri%C3%A8re/S23-B%20-%20Pr%C3%A9paration%20aux%20entretiens%20techniques/Machine%20Learning%20Flashcards/Big_O_web.png>Big_O_web.png</a>
            </li>
          </ul>
        
    
    
        
          
          <ul class="p-2">
            <li class="m-2 list-unstyled"><span class="far fa-file mr-1"></span>
                <a class="course-file" href=/courses/jedha-full-stack-24-program/S2.3%20--%20Coaching%20carri%C3%A8re/S23-B%20-%20Pr%C3%A9paration%20aux%20entretiens%20techniques/Machine%20Learning%20Flashcards/Boosting_web.png>Boosting_web.png</a>
            </li>
          </ul>
        
    
    
        
          
          <ul class="p-2">
            <li class="m-2 list-unstyled"><span class="far fa-file mr-1"></span>
                <a class="course-file" href=/courses/jedha-full-stack-24-program/S2.3%20--%20Coaching%20carri%C3%A8re/S23-B%20-%20Pr%C3%A9paration%20aux%20entretiens%20techniques/Machine%20Learning%20Flashcards/Bootstrap_web.png>Bootstrap_web.png</a>
            </li>
          </ul>
        
    
    
        
          
          <ul class="p-2">
            <li class="m-2 list-unstyled"><span class="far fa-file mr-1"></span>
                <a class="course-file" href=/courses/jedha-full-stack-24-program/S2.3%20--%20Coaching%20carri%C3%A8re/S23-B%20-%20Pr%C3%A9paration%20aux%20entretiens%20techniques/Machine%20Learning%20Flashcards/Brier_Score_web.png>Brier_Score_web.png</a>
            </li>
          </ul>
        
    
    
        
          
          <ul class="p-2">
            <li class="m-2 list-unstyled"><span class="far fa-file mr-1"></span>
                <a class="course-file" href=/courses/jedha-full-stack-24-program/S2.3%20--%20Coaching%20carri%C3%A8re/S23-B%20-%20Pr%C3%A9paration%20aux%20entretiens%20techniques/Machine%20Learning%20Flashcards/C_web.png>C_web.png</a>
            </li>
          </ul>
        
    
    
        
          
          <ul class="p-2">
            <li class="m-2 list-unstyled"><span class="far fa-file mr-1"></span>
                <a class="course-file" href=/courses/jedha-full-stack-24-program/S2.3%20--%20Coaching%20carri%C3%A8re/S23-B%20-%20Pr%C3%A9paration%20aux%20entretiens%20techniques/Machine%20Learning%20Flashcards/Capacity_web.png>Capacity_web.png</a>
            </li>
          </ul>
        
    
    
        
          
          <ul class="p-2">
            <li class="m-2 list-unstyled"><span class="far fa-file mr-1"></span>
                <a class="course-file" href=/courses/jedha-full-stack-24-program/S2.3%20--%20Coaching%20carri%C3%A8re/S23-B%20-%20Pr%C3%A9paration%20aux%20entretiens%20techniques/Machine%20Learning%20Flashcards/Categorical_Feature_web.png>Categorical_Feature_web.png</a>
            </li>
          </ul>
        
    
    
        
          
          <ul class="p-2">
            <li class="m-2 list-unstyled"><span class="far fa-file mr-1"></span>
                <a class="course-file" href=/courses/jedha-full-stack-24-program/S2.3%20--%20Coaching%20carri%C3%A8re/S23-B%20-%20Pr%C3%A9paration%20aux%20entretiens%20techniques/Machine%20Learning%20Flashcards/Chain_Rule_Of_Calculus_web.png>Chain_Rule_Of_Calculus_web.png</a>
            </li>
          </ul>
        
    
    
        
          
          <ul class="p-2">
            <li class="m-2 list-unstyled"><span class="far fa-file mr-1"></span>
                <a class="course-file" href=/courses/jedha-full-stack-24-program/S2.3%20--%20Coaching%20carri%C3%A8re/S23-B%20-%20Pr%C3%A9paration%20aux%20entretiens%20techniques/Machine%20Learning%20Flashcards/Chi-Squared_For_Feature_Selection_web.png>Chi-Squared_For_Feature_Selection_web.png</a>
            </li>
          </ul>
        
    
    
        
          
          <ul class="p-2">
            <li class="m-2 list-unstyled"><span class="far fa-file mr-1"></span>
                <a class="course-file" href=/courses/jedha-full-stack-24-program/S2.3%20--%20Coaching%20carri%C3%A8re/S23-B%20-%20Pr%C3%A9paration%20aux%20entretiens%20techniques/Machine%20Learning%20Flashcards/Chi-Squared_web.png>Chi-Squared_web.png</a>
            </li>
          </ul>
        
    
    
        
          
          <ul class="p-2">
            <li class="m-2 list-unstyled"><span class="far fa-file mr-1"></span>
                <a class="course-file" href=/courses/jedha-full-stack-24-program/S2.3%20--%20Coaching%20carri%C3%A8re/S23-B%20-%20Pr%C3%A9paration%20aux%20entretiens%20techniques/Machine%20Learning%20Flashcards/Classification_web.png>Classification_web.png</a>
            </li>
          </ul>
        
    
    
        
          
          <ul class="p-2">
            <li class="m-2 list-unstyled"><span class="far fa-file mr-1"></span>
                <a class="course-file" href=/courses/jedha-full-stack-24-program/S2.3%20--%20Coaching%20carri%C3%A8re/S23-B%20-%20Pr%C3%A9paration%20aux%20entretiens%20techniques/Machine%20Learning%20Flashcards/Combination_web.png>Combination_web.png</a>
            </li>
          </ul>
        
    
    
        
          
          <ul class="p-2">
            <li class="m-2 list-unstyled"><span class="far fa-file mr-1"></span>
                <a class="course-file" href=/courses/jedha-full-stack-24-program/S2.3%20--%20Coaching%20carri%C3%A8re/S23-B%20-%20Pr%C3%A9paration%20aux%20entretiens%20techniques/Machine%20Learning%20Flashcards/Common_Optimizers_With_Neural_Networks_web.png>Common_Optimizers_With_Neural_Networks_web.png</a>
            </li>
          </ul>
        
    
    
        
          
          <ul class="p-2">
            <li class="m-2 list-unstyled"><span class="far fa-file mr-1"></span>
                <a class="course-file" href=/courses/jedha-full-stack-24-program/S2.3%20--%20Coaching%20carri%C3%A8re/S23-B%20-%20Pr%C3%A9paration%20aux%20entretiens%20techniques/Machine%20Learning%20Flashcards/Common_Output_Layer_Activation_Functions_web.png>Common_Output_Layer_Activation_Functions_web.png</a>
            </li>
          </ul>
        
    
    
        
          
          <ul class="p-2">
            <li class="m-2 list-unstyled"><span class="far fa-file mr-1"></span>
                <a class="course-file" href=/courses/jedha-full-stack-24-program/S2.3%20--%20Coaching%20carri%C3%A8re/S23-B%20-%20Pr%C3%A9paration%20aux%20entretiens%20techniques/Machine%20Learning%20Flashcards/Concave_And_Convex_Functions_web.png>Concave_And_Convex_Functions_web.png</a>
            </li>
          </ul>
        
    
    
        
          
          <ul class="p-2">
            <li class="m-2 list-unstyled"><span class="far fa-file mr-1"></span>
                <a class="course-file" href=/courses/jedha-full-stack-24-program/S2.3%20--%20Coaching%20carri%C3%A8re/S23-B%20-%20Pr%C3%A9paration%20aux%20entretiens%20techniques/Machine%20Learning%20Flashcards/Conditional_Probability_web.png>Conditional_Probability_web.png</a>
            </li>
          </ul>
        
    
    
        
          
          <ul class="p-2">
            <li class="m-2 list-unstyled"><span class="far fa-file mr-1"></span>
                <a class="course-file" href=/courses/jedha-full-stack-24-program/S2.3%20--%20Coaching%20carri%C3%A8re/S23-B%20-%20Pr%C3%A9paration%20aux%20entretiens%20techniques/Machine%20Learning%20Flashcards/Conditioning_web.png>Conditioning_web.png</a>
            </li>
          </ul>
        
    
    
        
          
          <ul class="p-2">
            <li class="m-2 list-unstyled"><span class="far fa-file mr-1"></span>
                <a class="course-file" href=/courses/jedha-full-stack-24-program/S2.3%20--%20Coaching%20carri%C3%A8re/S23-B%20-%20Pr%C3%A9paration%20aux%20entretiens%20techniques/Machine%20Learning%20Flashcards/Confidence_Intervals_web.png>Confidence_Intervals_web.png</a>
            </li>
          </ul>
        
    
    
        
          
          <ul class="p-2">
            <li class="m-2 list-unstyled"><span class="far fa-file mr-1"></span>
                <a class="course-file" href=/courses/jedha-full-stack-24-program/S2.3%20--%20Coaching%20carri%C3%A8re/S23-B%20-%20Pr%C3%A9paration%20aux%20entretiens%20techniques/Machine%20Learning%20Flashcards/Confusion_Matrix_web.png>Confusion_Matrix_web.png</a>
            </li>
          </ul>
        
    
    
        
          
          <ul class="p-2">
            <li class="m-2 list-unstyled"><span class="far fa-file mr-1"></span>
                <a class="course-file" href=/courses/jedha-full-stack-24-program/S2.3%20--%20Coaching%20carri%C3%A8re/S23-B%20-%20Pr%C3%A9paration%20aux%20entretiens%20techniques/Machine%20Learning%20Flashcards/Consistency_web.png>Consistency_web.png</a>
            </li>
          </ul>
        
    
    
        
          
          <ul class="p-2">
            <li class="m-2 list-unstyled"><span class="far fa-file mr-1"></span>
                <a class="course-file" href=/courses/jedha-full-stack-24-program/S2.3%20--%20Coaching%20carri%C3%A8re/S23-B%20-%20Pr%C3%A9paration%20aux%20entretiens%20techniques/Machine%20Learning%20Flashcards/Cost_And_Loss_Functions_web.png>Cost_And_Loss_Functions_web.png</a>
            </li>
          </ul>
        
    
    
        
          
          <ul class="p-2">
            <li class="m-2 list-unstyled"><span class="far fa-file mr-1"></span>
                <a class="course-file" href=/courses/jedha-full-stack-24-program/S2.3%20--%20Coaching%20carri%C3%A8re/S23-B%20-%20Pr%C3%A9paration%20aux%20entretiens%20techniques/Machine%20Learning%20Flashcards/Cp_web.png>Cp_web.png</a>
            </li>
          </ul>
        
    
    
        
          
          <ul class="p-2">
            <li class="m-2 list-unstyled"><span class="far fa-file mr-1"></span>
                <a class="course-file" href=/courses/jedha-full-stack-24-program/S2.3%20--%20Coaching%20carri%C3%A8re/S23-B%20-%20Pr%C3%A9paration%20aux%20entretiens%20techniques/Machine%20Learning%20Flashcards/Cross-Entropy_web.png>Cross-Entropy_web.png</a>
            </li>
          </ul>
        
    
    
        
          
          <ul class="p-2">
            <li class="m-2 list-unstyled"><span class="far fa-file mr-1"></span>
                <a class="course-file" href=/courses/jedha-full-stack-24-program/S2.3%20--%20Coaching%20carri%C3%A8re/S23-B%20-%20Pr%C3%A9paration%20aux%20entretiens%20techniques/Machine%20Learning%20Flashcards/Cumulative_Distribution_Function_web.png>Cumulative_Distribution_Function_web.png</a>
            </li>
          </ul>
        
    
    
        
          
          <ul class="p-2">
            <li class="m-2 list-unstyled"><span class="far fa-file mr-1"></span>
                <a class="course-file" href=/courses/jedha-full-stack-24-program/S2.3%20--%20Coaching%20carri%C3%A8re/S23-B%20-%20Pr%C3%A9paration%20aux%20entretiens%20techniques/Machine%20Learning%20Flashcards/Curse_Of_Dimensionality_web.png>Curse_Of_Dimensionality_web.png</a>
            </li>
          </ul>
        
    
    
        
          
          <ul class="p-2">
            <li class="m-2 list-unstyled"><span class="far fa-file mr-1"></span>
                <a class="course-file" href=/courses/jedha-full-stack-24-program/S2.3%20--%20Coaching%20carri%C3%A8re/S23-B%20-%20Pr%C3%A9paration%20aux%20entretiens%20techniques/Machine%20Learning%20Flashcards/DBSCAN_web.png>DBSCAN_web.png</a>
            </li>
          </ul>
        
    
    
        
          
          <ul class="p-2">
            <li class="m-2 list-unstyled"><span class="far fa-file mr-1"></span>
                <a class="course-file" href=/courses/jedha-full-stack-24-program/S2.3%20--%20Coaching%20carri%C3%A8re/S23-B%20-%20Pr%C3%A9paration%20aux%20entretiens%20techniques/Machine%20Learning%20Flashcards/Data-Generating_Distribution_web.png>Data-Generating_Distribution_web.png</a>
            </li>
          </ul>
        
    
    
        
          
          <ul class="p-2">
            <li class="m-2 list-unstyled"><span class="far fa-file mr-1"></span>
                <a class="course-file" href=/courses/jedha-full-stack-24-program/S2.3%20--%20Coaching%20carri%C3%A8re/S23-B%20-%20Pr%C3%A9paration%20aux%20entretiens%20techniques/Machine%20Learning%20Flashcards/Dataset_Augmentation_web.png>Dataset_Augmentation_web.png</a>
            </li>
          </ul>
        
    
    
        
          
          <ul class="p-2">
            <li class="m-2 list-unstyled"><span class="far fa-file mr-1"></span>
                <a class="course-file" href=/courses/jedha-full-stack-24-program/S2.3%20--%20Coaching%20carri%C3%A8re/S23-B%20-%20Pr%C3%A9paration%20aux%20entretiens%20techniques/Machine%20Learning%20Flashcards/Decision_Boundary_web.png>Decision_Boundary_web.png</a>
            </li>
          </ul>
        
    
    
        
          
          <ul class="p-2">
            <li class="m-2 list-unstyled"><span class="far fa-file mr-1"></span>
                <a class="course-file" href=/courses/jedha-full-stack-24-program/S2.3%20--%20Coaching%20carri%C3%A8re/S23-B%20-%20Pr%C3%A9paration%20aux%20entretiens%20techniques/Machine%20Learning%20Flashcards/Decision_Tree_Regression_web.png>Decision_Tree_Regression_web.png</a>
            </li>
          </ul>
        
    
    
        
          
          <ul class="p-2">
            <li class="m-2 list-unstyled"><span class="far fa-file mr-1"></span>
                <a class="course-file" href=/courses/jedha-full-stack-24-program/S2.3%20--%20Coaching%20carri%C3%A8re/S23-B%20-%20Pr%C3%A9paration%20aux%20entretiens%20techniques/Machine%20Learning%20Flashcards/Decision_Trees_web.png>Decision_Trees_web.png</a>
            </li>
          </ul>
        
    
    
        
          
          <ul class="p-2">
            <li class="m-2 list-unstyled"><span class="far fa-file mr-1"></span>
                <a class="course-file" href=/courses/jedha-full-stack-24-program/S2.3%20--%20Coaching%20carri%C3%A8re/S23-B%20-%20Pr%C3%A9paration%20aux%20entretiens%20techniques/Machine%20Learning%20Flashcards/Derivative_web.png>Derivative_web.png</a>
            </li>
          </ul>
        
    
    
        
          
          <ul class="p-2">
            <li class="m-2 list-unstyled"><span class="far fa-file mr-1"></span>
                <a class="course-file" href=/courses/jedha-full-stack-24-program/S2.3%20--%20Coaching%20carri%C3%A8re/S23-B%20-%20Pr%C3%A9paration%20aux%20entretiens%20techniques/Machine%20Learning%20Flashcards/Design_Matrix_web.png>Design_Matrix_web.png</a>
            </li>
          </ul>
        
    
    
        
          
          <ul class="p-2">
            <li class="m-2 list-unstyled"><span class="far fa-file mr-1"></span>
                <a class="course-file" href=/courses/jedha-full-stack-24-program/S2.3%20--%20Coaching%20carri%C3%A8re/S23-B%20-%20Pr%C3%A9paration%20aux%20entretiens%20techniques/Machine%20Learning%20Flashcards/Determinants_web.png>Determinants_web.png</a>
            </li>
          </ul>
        
    
    
        
          
          <ul class="p-2">
            <li class="m-2 list-unstyled"><span class="far fa-file mr-1"></span>
                <a class="course-file" href=/courses/jedha-full-stack-24-program/S2.3%20--%20Coaching%20carri%C3%A8re/S23-B%20-%20Pr%C3%A9paration%20aux%20entretiens%20techniques/Machine%20Learning%20Flashcards/Does-k-NN-Learn_web.png>Does-k-NN-Learn_web.png</a>
            </li>
          </ul>
        
    
    
        
          
          <ul class="p-2">
            <li class="m-2 list-unstyled"><span class="far fa-file mr-1"></span>
                <a class="course-file" href=/courses/jedha-full-stack-24-program/S2.3%20--%20Coaching%20carri%C3%A8re/S23-B%20-%20Pr%C3%A9paration%20aux%20entretiens%20techniques/Machine%20Learning%20Flashcards/Dot_Product_web.png>Dot_Product_web.png</a>
            </li>
          </ul>
        
    
    
        
          
          <ul class="p-2">
            <li class="m-2 list-unstyled"><span class="far fa-file mr-1"></span>
                <a class="course-file" href=/courses/jedha-full-stack-24-program/S2.3%20--%20Coaching%20carri%C3%A8re/S23-B%20-%20Pr%C3%A9paration%20aux%20entretiens%20techniques/Machine%20Learning%20Flashcards/Downsampling_web.png>Downsampling_web.png</a>
            </li>
          </ul>
        
    
    
        
          
          <ul class="p-2">
            <li class="m-2 list-unstyled"><span class="far fa-file mr-1"></span>
                <a class="course-file" href=/courses/jedha-full-stack-24-program/S2.3%20--%20Coaching%20carri%C3%A8re/S23-B%20-%20Pr%C3%A9paration%20aux%20entretiens%20techniques/Machine%20Learning%20Flashcards/Dropout_web.png>Dropout_web.png</a>
            </li>
          </ul>
        
    
    
        
          
          <ul class="p-2">
            <li class="m-2 list-unstyled"><span class="far fa-file mr-1"></span>
                <a class="course-file" href=/courses/jedha-full-stack-24-program/S2.3%20--%20Coaching%20carri%C3%A8re/S23-B%20-%20Pr%C3%A9paration%20aux%20entretiens%20techniques/Machine%20Learning%20Flashcards/ELUs_web.png>ELUs_web.png</a>
            </li>
          </ul>
        
    
    
        
          
          <ul class="p-2">
            <li class="m-2 list-unstyled"><span class="far fa-file mr-1"></span>
                <a class="course-file" href=/courses/jedha-full-stack-24-program/S2.3%20--%20Coaching%20carri%C3%A8re/S23-B%20-%20Pr%C3%A9paration%20aux%20entretiens%20techniques/Machine%20Learning%20Flashcards/Early_Stopping_Advantages_web.png>Early_Stopping_Advantages_web.png</a>
            </li>
          </ul>
        
    
    
        
          
          <ul class="p-2">
            <li class="m-2 list-unstyled"><span class="far fa-file mr-1"></span>
                <a class="course-file" href=/courses/jedha-full-stack-24-program/S2.3%20--%20Coaching%20carri%C3%A8re/S23-B%20-%20Pr%C3%A9paration%20aux%20entretiens%20techniques/Machine%20Learning%20Flashcards/Early_Stopping_web.png>Early_Stopping_web.png</a>
            </li>
          </ul>
        
    
    
        
          
          <ul class="p-2">
            <li class="m-2 list-unstyled"><span class="far fa-file mr-1"></span>
                <a class="course-file" href=/courses/jedha-full-stack-24-program/S2.3%20--%20Coaching%20carri%C3%A8re/S23-B%20-%20Pr%C3%A9paration%20aux%20entretiens%20techniques/Machine%20Learning%20Flashcards/Effect_Of_One-Hot_On_Feature_Importance_web.png>Effect_Of_One-Hot_On_Feature_Importance_web.png</a>
            </li>
          </ul>
        
    
    
        
          
          <ul class="p-2">
            <li class="m-2 list-unstyled"><span class="far fa-file mr-1"></span>
                <a class="course-file" href=/courses/jedha-full-stack-24-program/S2.3%20--%20Coaching%20carri%C3%A8re/S23-B%20-%20Pr%C3%A9paration%20aux%20entretiens%20techniques/Machine%20Learning%20Flashcards/Eigenvector_web.png>Eigenvector_web.png</a>
            </li>
          </ul>
        
    
    
        
          
          <ul class="p-2">
            <li class="m-2 list-unstyled"><span class="far fa-file mr-1"></span>
                <a class="course-file" href=/courses/jedha-full-stack-24-program/S2.3%20--%20Coaching%20carri%C3%A8re/S23-B%20-%20Pr%C3%A9paration%20aux%20entretiens%20techniques/Machine%20Learning%20Flashcards/ElasticNet_web.png>ElasticNet_web.png</a>
            </li>
          </ul>
        
    
    
        
          
          <ul class="p-2">
            <li class="m-2 list-unstyled"><span class="far fa-file mr-1"></span>
                <a class="course-file" href=/courses/jedha-full-stack-24-program/S2.3%20--%20Coaching%20carri%C3%A8re/S23-B%20-%20Pr%C3%A9paration%20aux%20entretiens%20techniques/Machine%20Learning%20Flashcards/Encoding_Ordinal_Categorical_Features_web.png>Encoding_Ordinal_Categorical_Features_web.png</a>
            </li>
          </ul>
        
    
    
        
          
          <ul class="p-2">
            <li class="m-2 list-unstyled"><span class="far fa-file mr-1"></span>
                <a class="course-file" href=/courses/jedha-full-stack-24-program/S2.3%20--%20Coaching%20carri%C3%A8re/S23-B%20-%20Pr%C3%A9paration%20aux%20entretiens%20techniques/Machine%20Learning%20Flashcards/Ensemble_Methods_web.png>Ensemble_Methods_web.png</a>
            </li>
          </ul>
        
    
    
        
          
          <ul class="p-2">
            <li class="m-2 list-unstyled"><span class="far fa-file mr-1"></span>
                <a class="course-file" href=/courses/jedha-full-stack-24-program/S2.3%20--%20Coaching%20carri%C3%A8re/S23-B%20-%20Pr%C3%A9paration%20aux%20entretiens%20techniques/Machine%20Learning%20Flashcards/Epoch_web.png>Epoch_web.png</a>
            </li>
          </ul>
        
    
    
        
          
          <ul class="p-2">
            <li class="m-2 list-unstyled"><span class="far fa-file mr-1"></span>
                <a class="course-file" href=/courses/jedha-full-stack-24-program/S2.3%20--%20Coaching%20carri%C3%A8re/S23-B%20-%20Pr%C3%A9paration%20aux%20entretiens%20techniques/Machine%20Learning%20Flashcards/Error_Types_web.png>Error_Types_web.png</a>
            </li>
          </ul>
        
    
    
        
          
          <ul class="p-2">
            <li class="m-2 list-unstyled"><span class="far fa-file mr-1"></span>
                <a class="course-file" href=/courses/jedha-full-stack-24-program/S2.3%20--%20Coaching%20carri%C3%A8re/S23-B%20-%20Pr%C3%A9paration%20aux%20entretiens%20techniques/Machine%20Learning%20Flashcards/Explained_Sum_Of_Squares_web.png>Explained_Sum_Of_Squares_web.png</a>
            </li>
          </ul>
        
    
    
        
          
          <ul class="p-2">
            <li class="m-2 list-unstyled"><span class="far fa-file mr-1"></span>
                <a class="course-file" href=/courses/jedha-full-stack-24-program/S2.3%20--%20Coaching%20carri%C3%A8re/S23-B%20-%20Pr%C3%A9paration%20aux%20entretiens%20techniques/Machine%20Learning%20Flashcards/Exploding_Gradient_Problem_web.png>Exploding_Gradient_Problem_web.png</a>
            </li>
          </ul>
        
    
    
        
          
          <ul class="p-2">
            <li class="m-2 list-unstyled"><span class="far fa-file mr-1"></span>
                <a class="course-file" href=/courses/jedha-full-stack-24-program/S2.3%20--%20Coaching%20carri%C3%A8re/S23-B%20-%20Pr%C3%A9paration%20aux%20entretiens%20techniques/Machine%20Learning%20Flashcards/Extrema_web.png>Extrema_web.png</a>
            </li>
          </ul>
        
    
    
        
          
          <ul class="p-2">
            <li class="m-2 list-unstyled"><span class="far fa-file mr-1"></span>
                <a class="course-file" href=/courses/jedha-full-stack-24-program/S2.3%20--%20Coaching%20carri%C3%A8re/S23-B%20-%20Pr%C3%A9paration%20aux%20entretiens%20techniques/Machine%20Learning%20Flashcards/F-Statistic_web.png>F-Statistic_web.png</a>
            </li>
          </ul>
        
    
    
        
          
          <ul class="p-2">
            <li class="m-2 list-unstyled"><span class="far fa-file mr-1"></span>
                <a class="course-file" href=/courses/jedha-full-stack-24-program/S2.3%20--%20Coaching%20carri%C3%A8re/S23-B%20-%20Pr%C3%A9paration%20aux%20entretiens%20techniques/Machine%20Learning%20Flashcards/F1_Score_web.png>F1_Score_web.png</a>
            </li>
          </ul>
        
    
    
        
          
          <ul class="p-2">
            <li class="m-2 list-unstyled"><span class="far fa-file mr-1"></span>
                <a class="course-file" href=/courses/jedha-full-stack-24-program/S2.3%20--%20Coaching%20carri%C3%A8re/S23-B%20-%20Pr%C3%A9paration%20aux%20entretiens%20techniques/Machine%20Learning%20Flashcards/False_Positive_Rate_web.png>False_Positive_Rate_web.png</a>
            </li>
          </ul>
        
    
    
        
          
          <ul class="p-2">
            <li class="m-2 list-unstyled"><span class="far fa-file mr-1"></span>
                <a class="course-file" href=/courses/jedha-full-stack-24-program/S2.3%20--%20Coaching%20carri%C3%A8re/S23-B%20-%20Pr%C3%A9paration%20aux%20entretiens%20techniques/Machine%20Learning%20Flashcards/Feature_Importance_web.png>Feature_Importance_web.png</a>
            </li>
          </ul>
        
    
    
        
          
          <ul class="p-2">
            <li class="m-2 list-unstyled"><span class="far fa-file mr-1"></span>
                <a class="course-file" href=/courses/jedha-full-stack-24-program/S2.3%20--%20Coaching%20carri%C3%A8re/S23-B%20-%20Pr%C3%A9paration%20aux%20entretiens%20techniques/Machine%20Learning%20Flashcards/Feature_Selection_Strategies_web.png>Feature_Selection_Strategies_web.png</a>
            </li>
          </ul>
        
    
    
        
          
          <ul class="p-2">
            <li class="m-2 list-unstyled"><span class="far fa-file mr-1"></span>
                <a class="course-file" href=/courses/jedha-full-stack-24-program/S2.3%20--%20Coaching%20carri%C3%A8re/S23-B%20-%20Pr%C3%A9paration%20aux%20entretiens%20techniques/Machine%20Learning%20Flashcards/Feedforward_Neural_Networks_web.png>Feedforward_Neural_Networks_web.png</a>
            </li>
          </ul>
        
    
    
        
          
          <ul class="p-2">
            <li class="m-2 list-unstyled"><span class="far fa-file mr-1"></span>
                <a class="course-file" href=/courses/jedha-full-stack-24-program/S2.3%20--%20Coaching%20carri%C3%A8re/S23-B%20-%20Pr%C3%A9paration%20aux%20entretiens%20techniques/Machine%20Learning%20Flashcards/Finding_Linear_Regression_Parameters_web.png>Finding_Linear_Regression_Parameters_web.png</a>
            </li>
          </ul>
        
    
    
        
          
          <ul class="p-2">
            <li class="m-2 list-unstyled"><span class="far fa-file mr-1"></span>
                <a class="course-file" href=/courses/jedha-full-stack-24-program/S2.3%20--%20Coaching%20carri%C3%A8re/S23-B%20-%20Pr%C3%A9paration%20aux%20entretiens%20techniques/Machine%20Learning%20Flashcards/Forward_Stepwise_Selection_web.png>Forward_Stepwise_Selection_web.png</a>
            </li>
          </ul>
        
    
    
        
          
          <ul class="p-2">
            <li class="m-2 list-unstyled"><span class="far fa-file mr-1"></span>
                <a class="course-file" href=/courses/jedha-full-stack-24-program/S2.3%20--%20Coaching%20carri%C3%A8re/S23-B%20-%20Pr%C3%A9paration%20aux%20entretiens%20techniques/Machine%20Learning%20Flashcards/Fowlkes-Mallows_web.png>Fowlkes-Mallows_web.png</a>
            </li>
          </ul>
        
    
    
        
          
          <ul class="p-2">
            <li class="m-2 list-unstyled"><span class="far fa-file mr-1"></span>
                <a class="course-file" href=/courses/jedha-full-stack-24-program/S2.3%20--%20Coaching%20carri%C3%A8re/S23-B%20-%20Pr%C3%A9paration%20aux%20entretiens%20techniques/Machine%20Learning%20Flashcards/Frobenius_Norm_web.png>Frobenius_Norm_web.png</a>
            </li>
          </ul>
        
    
    
        
          
          <ul class="p-2">
            <li class="m-2 list-unstyled"><span class="far fa-file mr-1"></span>
                <a class="course-file" href=/courses/jedha-full-stack-24-program/S2.3%20--%20Coaching%20carri%C3%A8re/S23-B%20-%20Pr%C3%A9paration%20aux%20entretiens%20techniques/Machine%20Learning%20Flashcards/Function_web.png>Function_web.png</a>
            </li>
          </ul>
        
    
    
        
          
          <ul class="p-2">
            <li class="m-2 list-unstyled"><span class="far fa-file mr-1"></span>
                <a class="course-file" href=/courses/jedha-full-stack-24-program/S2.3%20--%20Coaching%20carri%C3%A8re/S23-B%20-%20Pr%C3%A9paration%20aux%20entretiens%20techniques/Machine%20Learning%20Flashcards/Gaussian_Naive_Bayes_Classifier_web.png>Gaussian_Naive_Bayes_Classifier_web.png</a>
            </li>
          </ul>
        
    
    
        
          
          <ul class="p-2">
            <li class="m-2 list-unstyled"><span class="far fa-file mr-1"></span>
                <a class="course-file" href=/courses/jedha-full-stack-24-program/S2.3%20--%20Coaching%20carri%C3%A8re/S23-B%20-%20Pr%C3%A9paration%20aux%20entretiens%20techniques/Machine%20Learning%20Flashcards/Genderalization_web.png>Genderalization_web.png</a>
            </li>
          </ul>
        
    
    
        
          
          <ul class="p-2">
            <li class="m-2 list-unstyled"><span class="far fa-file mr-1"></span>
                <a class="course-file" href=/courses/jedha-full-stack-24-program/S2.3%20--%20Coaching%20carri%C3%A8re/S23-B%20-%20Pr%C3%A9paration%20aux%20entretiens%20techniques/Machine%20Learning%20Flashcards/Gini_Index_web.png>Gini_Index_web.png</a>
            </li>
          </ul>
        
    
    
        
          
          <ul class="p-2">
            <li class="m-2 list-unstyled"><span class="far fa-file mr-1"></span>
                <a class="course-file" href=/courses/jedha-full-stack-24-program/S2.3%20--%20Coaching%20carri%C3%A8re/S23-B%20-%20Pr%C3%A9paration%20aux%20entretiens%20techniques/Machine%20Learning%20Flashcards/Grabcut_web.png>Grabcut_web.png</a>
            </li>
          </ul>
        
    
    
        
          
          <ul class="p-2">
            <li class="m-2 list-unstyled"><span class="far fa-file mr-1"></span>
                <a class="course-file" href=/courses/jedha-full-stack-24-program/S2.3%20--%20Coaching%20carri%C3%A8re/S23-B%20-%20Pr%C3%A9paration%20aux%20entretiens%20techniques/Machine%20Learning%20Flashcards/Gradient_Cliff_web.png>Gradient_Cliff_web.png</a>
            </li>
          </ul>
        
    
    
        
          
          <ul class="p-2">
            <li class="m-2 list-unstyled"><span class="far fa-file mr-1"></span>
                <a class="course-file" href=/courses/jedha-full-stack-24-program/S2.3%20--%20Coaching%20carri%C3%A8re/S23-B%20-%20Pr%C3%A9paration%20aux%20entretiens%20techniques/Machine%20Learning%20Flashcards/Gradient_Clipping_web.png>Gradient_Clipping_web.png</a>
            </li>
          </ul>
        
    
    
        
          
          <ul class="p-2">
            <li class="m-2 list-unstyled"><span class="far fa-file mr-1"></span>
                <a class="course-file" href=/courses/jedha-full-stack-24-program/S2.3%20--%20Coaching%20carri%C3%A8re/S23-B%20-%20Pr%C3%A9paration%20aux%20entretiens%20techniques/Machine%20Learning%20Flashcards/Gradient_Descent_Rule_Of_Thumb_web.png>Gradient_Descent_Rule_Of_Thumb_web.png</a>
            </li>
          </ul>
        
    
    
        
          
          <ul class="p-2">
            <li class="m-2 list-unstyled"><span class="far fa-file mr-1"></span>
                <a class="course-file" href=/courses/jedha-full-stack-24-program/S2.3%20--%20Coaching%20carri%C3%A8re/S23-B%20-%20Pr%C3%A9paration%20aux%20entretiens%20techniques/Machine%20Learning%20Flashcards/Gradient_Descent_Visualized_web.png>Gradient_Descent_Visualized_web.png</a>
            </li>
          </ul>
        
    
    
        
          
          <ul class="p-2">
            <li class="m-2 list-unstyled"><span class="far fa-file mr-1"></span>
                <a class="course-file" href=/courses/jedha-full-stack-24-program/S2.3%20--%20Coaching%20carri%C3%A8re/S23-B%20-%20Pr%C3%A9paration%20aux%20entretiens%20techniques/Machine%20Learning%20Flashcards/Gradient_Descent_web.png>Gradient_Descent_web.png</a>
            </li>
          </ul>
        
    
    
        
          
          <ul class="p-2">
            <li class="m-2 list-unstyled"><span class="far fa-file mr-1"></span>
                <a class="course-file" href=/courses/jedha-full-stack-24-program/S2.3%20--%20Coaching%20carri%C3%A8re/S23-B%20-%20Pr%C3%A9paration%20aux%20entretiens%20techniques/Machine%20Learning%20Flashcards/Gradient_web.png>Gradient_web.png</a>
            </li>
          </ul>
        
    
    
        
          
          <ul class="p-2">
            <li class="m-2 list-unstyled"><span class="far fa-file mr-1"></span>
                <a class="course-file" href=/courses/jedha-full-stack-24-program/S2.3%20--%20Coaching%20carri%C3%A8re/S23-B%20-%20Pr%C3%A9paration%20aux%20entretiens%20techniques/Machine%20Learning%20Flashcards/Greedy_Algorithms_web.png>Greedy_Algorithms_web.png</a>
            </li>
          </ul>
        
    
    
        
          
          <ul class="p-2">
            <li class="m-2 list-unstyled"><span class="far fa-file mr-1"></span>
                <a class="course-file" href=/courses/jedha-full-stack-24-program/S2.3%20--%20Coaching%20carri%C3%A8re/S23-B%20-%20Pr%C3%A9paration%20aux%20entretiens%20techniques/Machine%20Learning%20Flashcards/Greek_Letters_1_web.png>Greek_Letters_1_web.png</a>
            </li>
          </ul>
        
    
    
        
          
          <ul class="p-2">
            <li class="m-2 list-unstyled"><span class="far fa-file mr-1"></span>
                <a class="course-file" href=/courses/jedha-full-stack-24-program/S2.3%20--%20Coaching%20carri%C3%A8re/S23-B%20-%20Pr%C3%A9paration%20aux%20entretiens%20techniques/Machine%20Learning%20Flashcards/Greek_Letters_2_web.png>Greek_Letters_2_web.png</a>
            </li>
          </ul>
        
    
    
        
          
          <ul class="p-2">
            <li class="m-2 list-unstyled"><span class="far fa-file mr-1"></span>
                <a class="course-file" href=/courses/jedha-full-stack-24-program/S2.3%20--%20Coaching%20carri%C3%A8re/S23-B%20-%20Pr%C3%A9paration%20aux%20entretiens%20techniques/Machine%20Learning%20Flashcards/Greek_Letters_3_web.png>Greek_Letters_3_web.png</a>
            </li>
          </ul>
        
    
    
        
          
          <ul class="p-2">
            <li class="m-2 list-unstyled"><span class="far fa-file mr-1"></span>
                <a class="course-file" href=/courses/jedha-full-stack-24-program/S2.3%20--%20Coaching%20carri%C3%A8re/S23-B%20-%20Pr%C3%A9paration%20aux%20entretiens%20techniques/Machine%20Learning%20Flashcards/Greek_Letters_4_web.png>Greek_Letters_4_web.png</a>
            </li>
          </ul>
        
    
    
        
          
          <ul class="p-2">
            <li class="m-2 list-unstyled"><span class="far fa-file mr-1"></span>
                <a class="course-file" href=/courses/jedha-full-stack-24-program/S2.3%20--%20Coaching%20carri%C3%A8re/S23-B%20-%20Pr%C3%A9paration%20aux%20entretiens%20techniques/Machine%20Learning%20Flashcards/Grid_Search_web.png>Grid_Search_web.png</a>
            </li>
          </ul>
        
    
    
        
          
          <ul class="p-2">
            <li class="m-2 list-unstyled"><span class="far fa-file mr-1"></span>
                <a class="course-file" href=/courses/jedha-full-stack-24-program/S2.3%20--%20Coaching%20carri%C3%A8re/S23-B%20-%20Pr%C3%A9paration%20aux%20entretiens%20techniques/Machine%20Learning%20Flashcards/Hadamard_Product_web.png>Hadamard_Product_web.png</a>
            </li>
          </ul>
        
    
    
        
          
          <ul class="p-2">
            <li class="m-2 list-unstyled"><span class="far fa-file mr-1"></span>
                <a class="course-file" href=/courses/jedha-full-stack-24-program/S2.3%20--%20Coaching%20carri%C3%A8re/S23-B%20-%20Pr%C3%A9paration%20aux%20entretiens%20techniques/Machine%20Learning%20Flashcards/Hamming_Loss_web.png>Hamming_Loss_web.png</a>
            </li>
          </ul>
        
    
    
        
          
          <ul class="p-2">
            <li class="m-2 list-unstyled"><span class="far fa-file mr-1"></span>
                <a class="course-file" href=/courses/jedha-full-stack-24-program/S2.3%20--%20Coaching%20carri%C3%A8re/S23-B%20-%20Pr%C3%A9paration%20aux%20entretiens%20techniques/Machine%20Learning%20Flashcards/Handling_Imbalanced_Classes_In_Support_Vector_Machines_web.png>Handling_Imbalanced_Classes_In_Support_Vector_Machines_web.png</a>
            </li>
          </ul>
        
    
    
        
          
          <ul class="p-2">
            <li class="m-2 list-unstyled"><span class="far fa-file mr-1"></span>
                <a class="course-file" href=/courses/jedha-full-stack-24-program/S2.3%20--%20Coaching%20carri%C3%A8re/S23-B%20-%20Pr%C3%A9paration%20aux%20entretiens%20techniques/Machine%20Learning%20Flashcards/Handling_Outliers_web.png>Handling_Outliers_web.png</a>
            </li>
          </ul>
        
    
    
        
          
          <ul class="p-2">
            <li class="m-2 list-unstyled"><span class="far fa-file mr-1"></span>
                <a class="course-file" href=/courses/jedha-full-stack-24-program/S2.3%20--%20Coaching%20carri%C3%A8re/S23-B%20-%20Pr%C3%A9paration%20aux%20entretiens%20techniques/Machine%20Learning%20Flashcards/Hessian_Matrix_web.png>Hessian_Matrix_web.png</a>
            </li>
          </ul>
        
    
    
        
          
          <ul class="p-2">
            <li class="m-2 list-unstyled"><span class="far fa-file mr-1"></span>
                <a class="course-file" href=/courses/jedha-full-stack-24-program/S2.3%20--%20Coaching%20carri%C3%A8re/S23-B%20-%20Pr%C3%A9paration%20aux%20entretiens%20techniques/Machine%20Learning%20Flashcards/Heteroskedasticity_web.png>Heteroskedasticity_web.png</a>
            </li>
          </ul>
        
    
    
        
          
          <ul class="p-2">
            <li class="m-2 list-unstyled"><span class="far fa-file mr-1"></span>
                <a class="course-file" href=/courses/jedha-full-stack-24-program/S2.3%20--%20Coaching%20carri%C3%A8re/S23-B%20-%20Pr%C3%A9paration%20aux%20entretiens%20techniques/Machine%20Learning%20Flashcards/Hidden_Layer_web.png>Hidden_Layer_web.png</a>
            </li>
          </ul>
        
    
    
        
          
          <ul class="p-2">
            <li class="m-2 list-unstyled"><span class="far fa-file mr-1"></span>
                <a class="course-file" href=/courses/jedha-full-stack-24-program/S2.3%20--%20Coaching%20carri%C3%A8re/S23-B%20-%20Pr%C3%A9paration%20aux%20entretiens%20techniques/Machine%20Learning%20Flashcards/Hinge_Loss_web.png>Hinge_Loss_web.png</a>
            </li>
          </ul>
        
    
    
        
          
          <ul class="p-2">
            <li class="m-2 list-unstyled"><span class="far fa-file mr-1"></span>
                <a class="course-file" href=/courses/jedha-full-stack-24-program/S2.3%20--%20Coaching%20carri%C3%A8re/S23-B%20-%20Pr%C3%A9paration%20aux%20entretiens%20techniques/Machine%20Learning%20Flashcards/How_Norm_Penalties_Work_web.png>How_Norm_Penalties_Work_web.png</a>
            </li>
          </ul>
        
    
    
        
          
          <ul class="p-2">
            <li class="m-2 list-unstyled"><span class="far fa-file mr-1"></span>
                <a class="course-file" href=/courses/jedha-full-stack-24-program/S2.3%20--%20Coaching%20carri%C3%A8re/S23-B%20-%20Pr%C3%A9paration%20aux%20entretiens%20techniques/Machine%20Learning%20Flashcards/How_To_Choose_Hidden_Unit_Activation_Functions_web.png>How_To_Choose_Hidden_Unit_Activation_Functions_web.png</a>
            </li>
          </ul>
        
    
    
        
          
          <ul class="p-2">
            <li class="m-2 list-unstyled"><span class="far fa-file mr-1"></span>
                <a class="course-file" href=/courses/jedha-full-stack-24-program/S2.3%20--%20Coaching%20carri%C3%A8re/S23-B%20-%20Pr%C3%A9paration%20aux%20entretiens%20techniques/Machine%20Learning%20Flashcards/Hyperparameter_Tuning_web.png>Hyperparameter_Tuning_web.png</a>
            </li>
          </ul>
        
    
    
        
          
          <ul class="p-2">
            <li class="m-2 list-unstyled"><span class="far fa-file mr-1"></span>
                <a class="course-file" href=/courses/jedha-full-stack-24-program/S2.3%20--%20Coaching%20carri%C3%A8re/S23-B%20-%20Pr%C3%A9paration%20aux%20entretiens%20techniques/Machine%20Learning%20Flashcards/Hyperplane_web.png>Hyperplane_web.png</a>
            </li>
          </ul>
        
    
    
        
          
          <ul class="p-2">
            <li class="m-2 list-unstyled"><span class="far fa-file mr-1"></span>
                <a class="course-file" href=/courses/jedha-full-stack-24-program/S2.3%20--%20Coaching%20carri%C3%A8re/S23-B%20-%20Pr%C3%A9paration%20aux%20entretiens%20techniques/Machine%20Learning%20Flashcards/Hypothesis_Space_web.png>Hypothesis_Space_web.png</a>
            </li>
          </ul>
        
    
    
        
          
          <ul class="p-2">
            <li class="m-2 list-unstyled"><span class="far fa-file mr-1"></span>
                <a class="course-file" href=/courses/jedha-full-stack-24-program/S2.3%20--%20Coaching%20carri%C3%A8re/S23-B%20-%20Pr%C3%A9paration%20aux%20entretiens%20techniques/Machine%20Learning%20Flashcards/IID_web.png>IID_web.png</a>
            </li>
          </ul>
        
    
    
        
          
          <ul class="p-2">
            <li class="m-2 list-unstyled"><span class="far fa-file mr-1"></span>
                <a class="course-file" href=/courses/jedha-full-stack-24-program/S2.3%20--%20Coaching%20carri%C3%A8re/S23-B%20-%20Pr%C3%A9paration%20aux%20entretiens%20techniques/Machine%20Learning%20Flashcards/Imputation_Using_k-NN_web.png>Imputation_Using_k-NN_web.png</a>
            </li>
          </ul>
        
    
    
        
          
          <ul class="p-2">
            <li class="m-2 list-unstyled"><span class="far fa-file mr-1"></span>
                <a class="course-file" href=/courses/jedha-full-stack-24-program/S2.3%20--%20Coaching%20carri%C3%A8re/S23-B%20-%20Pr%C3%A9paration%20aux%20entretiens%20techniques/Machine%20Learning%20Flashcards/Imputing_Missing_Values_web.png>Imputing_Missing_Values_web.png</a>
            </li>
          </ul>
        
    
    
        
          
          <ul class="p-2">
            <li class="m-2 list-unstyled"><span class="far fa-file mr-1"></span>
                <a class="course-file" href=/courses/jedha-full-stack-24-program/S2.3%20--%20Coaching%20carri%C3%A8re/S23-B%20-%20Pr%C3%A9paration%20aux%20entretiens%20techniques/Machine%20Learning%20Flashcards/Inflection_Point_web.png>Inflection_Point_web.png</a>
            </li>
          </ul>
        
    
    
        
          
          <ul class="p-2">
            <li class="m-2 list-unstyled"><span class="far fa-file mr-1"></span>
                <a class="course-file" href=/courses/jedha-full-stack-24-program/S2.3%20--%20Coaching%20carri%C3%A8re/S23-B%20-%20Pr%C3%A9paration%20aux%20entretiens%20techniques/Machine%20Learning%20Flashcards/Initialization_Of_Neural_Network_Parameters_web.png>Initialization_Of_Neural_Network_Parameters_web.png</a>
            </li>
          </ul>
        
    
    
        
          
          <ul class="p-2">
            <li class="m-2 list-unstyled"><span class="far fa-file mr-1"></span>
                <a class="course-file" href=/courses/jedha-full-stack-24-program/S2.3%20--%20Coaching%20carri%C3%A8re/S23-B%20-%20Pr%C3%A9paration%20aux%20entretiens%20techniques/Machine%20Learning%20Flashcards/Initializing_Weights_In_Feedforward_Neural_Networks_web.png>Initializing_Weights_In_Feedforward_Neural_Networks_web.png</a>
            </li>
          </ul>
        
    
    
        
          
          <ul class="p-2">
            <li class="m-2 list-unstyled"><span class="far fa-file mr-1"></span>
                <a class="course-file" href=/courses/jedha-full-stack-24-program/S2.3%20--%20Coaching%20carri%C3%A8re/S23-B%20-%20Pr%C3%A9paration%20aux%20entretiens%20techniques/Machine%20Learning%20Flashcards/Instrumental_Variables_web.png>Instrumental_Variables_web.png</a>
            </li>
          </ul>
        
    
    
        
          
          <ul class="p-2">
            <li class="m-2 list-unstyled"><span class="far fa-file mr-1"></span>
                <a class="course-file" href=/courses/jedha-full-stack-24-program/S2.3%20--%20Coaching%20carri%C3%A8re/S23-B%20-%20Pr%C3%A9paration%20aux%20entretiens%20techniques/Machine%20Learning%20Flashcards/Interaction_Term_web.png>Interaction_Term_web.png</a>
            </li>
          </ul>
        
    
    
        
          
          <ul class="p-2">
            <li class="m-2 list-unstyled"><span class="far fa-file mr-1"></span>
                <a class="course-file" href=/courses/jedha-full-stack-24-program/S2.3%20--%20Coaching%20carri%C3%A8re/S23-B%20-%20Pr%C3%A9paration%20aux%20entretiens%20techniques/Machine%20Learning%20Flashcards/Intercept_Term_web.png>Intercept_Term_web.png</a>
            </li>
          </ul>
        
    
    
        
          
          <ul class="p-2">
            <li class="m-2 list-unstyled"><span class="far fa-file mr-1"></span>
                <a class="course-file" href=/courses/jedha-full-stack-24-program/S2.3%20--%20Coaching%20carri%C3%A8re/S23-B%20-%20Pr%C3%A9paration%20aux%20entretiens%20techniques/Machine%20Learning%20Flashcards/Interpolation_web.png>Interpolation_web.png</a>
            </li>
          </ul>
        
    
    
        
          
          <ul class="p-2">
            <li class="m-2 list-unstyled"><span class="far fa-file mr-1"></span>
                <a class="course-file" href=/courses/jedha-full-stack-24-program/S2.3%20--%20Coaching%20carri%C3%A8re/S23-B%20-%20Pr%C3%A9paration%20aux%20entretiens%20techniques/Machine%20Learning%20Flashcards/Interquartile_Range_web.png>Interquartile_Range_web.png</a>
            </li>
          </ul>
        
    
    
        
          
          <ul class="p-2">
            <li class="m-2 list-unstyled"><span class="far fa-file mr-1"></span>
                <a class="course-file" href=/courses/jedha-full-stack-24-program/S2.3%20--%20Coaching%20carri%C3%A8re/S23-B%20-%20Pr%C3%A9paration%20aux%20entretiens%20techniques/Machine%20Learning%20Flashcards/Issues_With_Platt_Scaling_web.png>Issues_With_Platt_Scaling_web.png</a>
            </li>
          </ul>
        
    
    
        
          
          <ul class="p-2">
            <li class="m-2 list-unstyled"><span class="far fa-file mr-1"></span>
                <a class="course-file" href=/courses/jedha-full-stack-24-program/S2.3%20--%20Coaching%20carri%C3%A8re/S23-B%20-%20Pr%C3%A9paration%20aux%20entretiens%20techniques/Machine%20Learning%20Flashcards/Jacobian_Matrix_web.png>Jacobian_Matrix_web.png</a>
            </li>
          </ul>
        
    
    
        
          
          <ul class="p-2">
            <li class="m-2 list-unstyled"><span class="far fa-file mr-1"></span>
                <a class="course-file" href=/courses/jedha-full-stack-24-program/S2.3%20--%20Coaching%20carri%C3%A8re/S23-B%20-%20Pr%C3%A9paration%20aux%20entretiens%20techniques/Machine%20Learning%20Flashcards/Joins_web.png>Joins_web.png</a>
            </li>
          </ul>
        
    
    
        
          
          <ul class="p-2">
            <li class="m-2 list-unstyled"><span class="far fa-file mr-1"></span>
                <a class="course-file" href=/courses/jedha-full-stack-24-program/S2.3%20--%20Coaching%20carri%C3%A8re/S23-B%20-%20Pr%C3%A9paration%20aux%20entretiens%20techniques/Machine%20Learning%20Flashcards/K-Fold_Cross-Validation_web.png>K-Fold_Cross-Validation_web.png</a>
            </li>
          </ul>
        
    
    
        
          
          <ul class="p-2">
            <li class="m-2 list-unstyled"><span class="far fa-file mr-1"></span>
                <a class="course-file" href=/courses/jedha-full-stack-24-program/S2.3%20--%20Coaching%20carri%C3%A8re/S23-B%20-%20Pr%C3%A9paration%20aux%20entretiens%20techniques/Machine%20Learning%20Flashcards/K-Means_Clustering_web.png>K-Means_Clustering_web.png</a>
            </li>
          </ul>
        
    
    
        
          
          <ul class="p-2">
            <li class="m-2 list-unstyled"><span class="far fa-file mr-1"></span>
                <a class="course-file" href=/courses/jedha-full-stack-24-program/S2.3%20--%20Coaching%20carri%C3%A8re/S23-B%20-%20Pr%C3%A9paration%20aux%20entretiens%20techniques/Machine%20Learning%20Flashcards/K-NN_Neighborhood_Size_web.png>K-NN_Neighborhood_Size_web.png</a>
            </li>
          </ul>
        
    
    
        
          
          <ul class="p-2">
            <li class="m-2 list-unstyled"><span class="far fa-file mr-1"></span>
                <a class="course-file" href=/courses/jedha-full-stack-24-program/S2.3%20--%20Coaching%20carri%C3%A8re/S23-B%20-%20Pr%C3%A9paration%20aux%20entretiens%20techniques/Machine%20Learning%20Flashcards/K-Nearest_Neighbors_Tips_And_Tricks_web.png>K-Nearest_Neighbors_Tips_And_Tricks_web.png</a>
            </li>
          </ul>
        
    
    
        
          
          <ul class="p-2">
            <li class="m-2 list-unstyled"><span class="far fa-file mr-1"></span>
                <a class="course-file" href=/courses/jedha-full-stack-24-program/S2.3%20--%20Coaching%20carri%C3%A8re/S23-B%20-%20Pr%C3%A9paration%20aux%20entretiens%20techniques/Machine%20Learning%20Flashcards/Kernel_PCA_web.png>Kernel_PCA_web.png</a>
            </li>
          </ul>
        
    
    
        
          
          <ul class="p-2">
            <li class="m-2 list-unstyled"><span class="far fa-file mr-1"></span>
                <a class="course-file" href=/courses/jedha-full-stack-24-program/S2.3%20--%20Coaching%20carri%C3%A8re/S23-B%20-%20Pr%C3%A9paration%20aux%20entretiens%20techniques/Machine%20Learning%20Flashcards/Kernel_Trick_web.png>Kernel_Trick_web.png</a>
            </li>
          </ul>
        
    
    
        
          
          <ul class="p-2">
            <li class="m-2 list-unstyled"><span class="far fa-file mr-1"></span>
                <a class="course-file" href=/courses/jedha-full-stack-24-program/S2.3%20--%20Coaching%20carri%C3%A8re/S23-B%20-%20Pr%C3%A9paration%20aux%20entretiens%20techniques/Machine%20Learning%20Flashcards/L1_Norm_web.png>L1_Norm_web.png</a>
            </li>
          </ul>
        
    
    
        
          
          <ul class="p-2">
            <li class="m-2 list-unstyled"><span class="far fa-file mr-1"></span>
                <a class="course-file" href=/courses/jedha-full-stack-24-program/S2.3%20--%20Coaching%20carri%C3%A8re/S23-B%20-%20Pr%C3%A9paration%20aux%20entretiens%20techniques/Machine%20Learning%20Flashcards/L2_Norm_web.png>L2_Norm_web.png</a>
            </li>
          </ul>
        
    
    
        
          
          <ul class="p-2">
            <li class="m-2 list-unstyled"><span class="far fa-file mr-1"></span>
                <a class="course-file" href=/courses/jedha-full-stack-24-program/S2.3%20--%20Coaching%20carri%C3%A8re/S23-B%20-%20Pr%C3%A9paration%20aux%20entretiens%20techniques/Machine%20Learning%20Flashcards/Lasso_For_Feature_Selection_web.png>Lasso_For_Feature_Selection_web.png</a>
            </li>
          </ul>
        
    
    
        
          
          <ul class="p-2">
            <li class="m-2 list-unstyled"><span class="far fa-file mr-1"></span>
                <a class="course-file" href=/courses/jedha-full-stack-24-program/S2.3%20--%20Coaching%20carri%C3%A8re/S23-B%20-%20Pr%C3%A9paration%20aux%20entretiens%20techniques/Machine%20Learning%20Flashcards/Leaky_ReLU_web.png>Leaky_ReLU_web.png</a>
            </li>
          </ul>
        
    
    
        
          
          <ul class="p-2">
            <li class="m-2 list-unstyled"><span class="far fa-file mr-1"></span>
                <a class="course-file" href=/courses/jedha-full-stack-24-program/S2.3%20--%20Coaching%20carri%C3%A8re/S23-B%20-%20Pr%C3%A9paration%20aux%20entretiens%20techniques/Machine%20Learning%20Flashcards/Learning_Curve_web.png>Learning_Curve_web.png</a>
            </li>
          </ul>
        
    
    
        
          
          <ul class="p-2">
            <li class="m-2 list-unstyled"><span class="far fa-file mr-1"></span>
                <a class="course-file" href=/courses/jedha-full-stack-24-program/S2.3%20--%20Coaching%20carri%C3%A8re/S23-B%20-%20Pr%C3%A9paration%20aux%20entretiens%20techniques/Machine%20Learning%20Flashcards/Learning_In_Machine_Learning_web.png>Learning_In_Machine_Learning_web.png</a>
            </li>
          </ul>
        
    
    
        
          
          <ul class="p-2">
            <li class="m-2 list-unstyled"><span class="far fa-file mr-1"></span>
                <a class="course-file" href=/courses/jedha-full-stack-24-program/S2.3%20--%20Coaching%20carri%C3%A8re/S23-B%20-%20Pr%C3%A9paration%20aux%20entretiens%20techniques/Machine%20Learning%20Flashcards/Learning_Rate_web.png>Learning_Rate_web.png</a>
            </li>
          </ul>
        
    
    
        
          
          <ul class="p-2">
            <li class="m-2 list-unstyled"><span class="far fa-file mr-1"></span>
                <a class="course-file" href=/courses/jedha-full-stack-24-program/S2.3%20--%20Coaching%20carri%C3%A8re/S23-B%20-%20Pr%C3%A9paration%20aux%20entretiens%20techniques/Machine%20Learning%20Flashcards/Linear_Activation_Function_web.png>Linear_Activation_Function_web.png</a>
            </li>
          </ul>
        
    
    
        
          
          <ul class="p-2">
            <li class="m-2 list-unstyled"><span class="far fa-file mr-1"></span>
                <a class="course-file" href=/courses/jedha-full-stack-24-program/S2.3%20--%20Coaching%20carri%C3%A8re/S23-B%20-%20Pr%C3%A9paration%20aux%20entretiens%20techniques/Machine%20Learning%20Flashcards/Linear_Combination_web.png>Linear_Combination_web.png</a>
            </li>
          </ul>
        
    
    
        
          
          <ul class="p-2">
            <li class="m-2 list-unstyled"><span class="far fa-file mr-1"></span>
                <a class="course-file" href=/courses/jedha-full-stack-24-program/S2.3%20--%20Coaching%20carri%C3%A8re/S23-B%20-%20Pr%C3%A9paration%20aux%20entretiens%20techniques/Machine%20Learning%20Flashcards/Linear_Discriminant_Analysis_For_Dimensionality_Reduction_web.png>Linear_Discriminant_Analysis_For_Dimensionality_Reduction_web.png</a>
            </li>
          </ul>
        
    
    
        
          
          <ul class="p-2">
            <li class="m-2 list-unstyled"><span class="far fa-file mr-1"></span>
                <a class="course-file" href=/courses/jedha-full-stack-24-program/S2.3%20--%20Coaching%20carri%C3%A8re/S23-B%20-%20Pr%C3%A9paration%20aux%20entretiens%20techniques/Machine%20Learning%20Flashcards/Linearly_Independent_web.png>Linearly_Independent_web.png</a>
            </li>
          </ul>
        
    
    
        
          
          <ul class="p-2">
            <li class="m-2 list-unstyled"><span class="far fa-file mr-1"></span>
                <a class="course-file" href=/courses/jedha-full-stack-24-program/S2.3%20--%20Coaching%20carri%C3%A8re/S23-B%20-%20Pr%C3%A9paration%20aux%20entretiens%20techniques/Machine%20Learning%20Flashcards/Linearly_Separable_web.png>Linearly_Separable_web.png</a>
            </li>
          </ul>
        
    
    
        
          
          <ul class="p-2">
            <li class="m-2 list-unstyled"><span class="far fa-file mr-1"></span>
                <a class="course-file" href=/courses/jedha-full-stack-24-program/S2.3%20--%20Coaching%20carri%C3%A8re/S23-B%20-%20Pr%C3%A9paration%20aux%20entretiens%20techniques/Machine%20Learning%20Flashcards/Log-Sum-Exp_web.png>Log-Sum-Exp_web.png</a>
            </li>
          </ul>
        
    
    
        
          
          <ul class="p-2">
            <li class="m-2 list-unstyled"><span class="far fa-file mr-1"></span>
                <a class="course-file" href=/courses/jedha-full-stack-24-program/S2.3%20--%20Coaching%20carri%C3%A8re/S23-B%20-%20Pr%C3%A9paration%20aux%20entretiens%20techniques/Machine%20Learning%20Flashcards/Logistic_Regression_Vs_Linear_Regression_web.png>Logistic_Regression_Vs_Linear_Regression_web.png</a>
            </li>
          </ul>
        
    
    
        
          
          <ul class="p-2">
            <li class="m-2 list-unstyled"><span class="far fa-file mr-1"></span>
                <a class="course-file" href=/courses/jedha-full-stack-24-program/S2.3%20--%20Coaching%20carri%C3%A8re/S23-B%20-%20Pr%C3%A9paration%20aux%20entretiens%20techniques/Machine%20Learning%20Flashcards/Logistic_Regression_web.png>Logistic_Regression_web.png</a>
            </li>
          </ul>
        
    
    
        
          
          <ul class="p-2">
            <li class="m-2 list-unstyled"><span class="far fa-file mr-1"></span>
                <a class="course-file" href=/courses/jedha-full-stack-24-program/S2.3%20--%20Coaching%20carri%C3%A8re/S23-B%20-%20Pr%C3%A9paration%20aux%20entretiens%20techniques/Machine%20Learning%20Flashcards/Logistic_Sigmoid_Function_web.png>Logistic_Sigmoid_Function_web.png</a>
            </li>
          </ul>
        
    
    
        
          
          <ul class="p-2">
            <li class="m-2 list-unstyled"><span class="far fa-file mr-1"></span>
                <a class="course-file" href=/courses/jedha-full-stack-24-program/S2.3%20--%20Coaching%20carri%C3%A8re/S23-B%20-%20Pr%C3%A9paration%20aux%20entretiens%20techniques/Machine%20Learning%20Flashcards/Manhattan_Distance_web.png>Manhattan_Distance_web.png</a>
            </li>
          </ul>
        
    
    
        
          
          <ul class="p-2">
            <li class="m-2 list-unstyled"><span class="far fa-file mr-1"></span>
                <a class="course-file" href=/courses/jedha-full-stack-24-program/S2.3%20--%20Coaching%20carri%C3%A8re/S23-B%20-%20Pr%C3%A9paration%20aux%20entretiens%20techniques/Machine%20Learning%20Flashcards/Matrices_web.png>Matrices_web.png</a>
            </li>
          </ul>
        
    
    
        
          
          <ul class="p-2">
            <li class="m-2 list-unstyled"><span class="far fa-file mr-1"></span>
                <a class="course-file" href=/courses/jedha-full-stack-24-program/S2.3%20--%20Coaching%20carri%C3%A8re/S23-B%20-%20Pr%C3%A9paration%20aux%20entretiens%20techniques/Machine%20Learning%20Flashcards/Matrix_Inverse_web.png>Matrix_Inverse_web.png</a>
            </li>
          </ul>
        
    
    
        
          
          <ul class="p-2">
            <li class="m-2 list-unstyled"><span class="far fa-file mr-1"></span>
                <a class="course-file" href=/courses/jedha-full-stack-24-program/S2.3%20--%20Coaching%20carri%C3%A8re/S23-B%20-%20Pr%C3%A9paration%20aux%20entretiens%20techniques/Machine%20Learning%20Flashcards/Matrix_Multiplication_web.png>Matrix_Multiplication_web.png</a>
            </li>
          </ul>
        
    
    
        
          
          <ul class="p-2">
            <li class="m-2 list-unstyled"><span class="far fa-file mr-1"></span>
                <a class="course-file" href=/courses/jedha-full-stack-24-program/S2.3%20--%20Coaching%20carri%C3%A8re/S23-B%20-%20Pr%C3%A9paration%20aux%20entretiens%20techniques/Machine%20Learning%20Flashcards/Matthews_Correlation_Coefficient_web.png>Matthews_Correlation_Coefficient_web.png</a>
            </li>
          </ul>
        
    
    
        
          
          <ul class="p-2">
            <li class="m-2 list-unstyled"><span class="far fa-file mr-1"></span>
                <a class="course-file" href=/courses/jedha-full-stack-24-program/S2.3%20--%20Coaching%20carri%C3%A8re/S23-B%20-%20Pr%C3%A9paration%20aux%20entretiens%20techniques/Machine%20Learning%20Flashcards/Max_Norm_web.png>Max_Norm_web.png</a>
            </li>
          </ul>
        
    
    
        
          
          <ul class="p-2">
            <li class="m-2 list-unstyled"><span class="far fa-file mr-1"></span>
                <a class="course-file" href=/courses/jedha-full-stack-24-program/S2.3%20--%20Coaching%20carri%C3%A8re/S23-B%20-%20Pr%C3%A9paration%20aux%20entretiens%20techniques/Machine%20Learning%20Flashcards/Mean_Absolute_Error_web.png>Mean_Absolute_Error_web.png</a>
            </li>
          </ul>
        
    
    
        
          
          <ul class="p-2">
            <li class="m-2 list-unstyled"><span class="far fa-file mr-1"></span>
                <a class="course-file" href=/courses/jedha-full-stack-24-program/S2.3%20--%20Coaching%20carri%C3%A8re/S23-B%20-%20Pr%C3%A9paration%20aux%20entretiens%20techniques/Machine%20Learning%20Flashcards/Mean_Squared_Error_web.png>Mean_Squared_Error_web.png</a>
            </li>
          </ul>
        
    
    
        
          
          <ul class="p-2">
            <li class="m-2 list-unstyled"><span class="far fa-file mr-1"></span>
                <a class="course-file" href=/courses/jedha-full-stack-24-program/S2.3%20--%20Coaching%20carri%C3%A8re/S23-B%20-%20Pr%C3%A9paration%20aux%20entretiens%20techniques/Machine%20Learning%20Flashcards/Meanshift_Clustering_By_Analogy_web.png>Meanshift_Clustering_By_Analogy_web.png</a>
            </li>
          </ul>
        
    
    
        
          
          <ul class="p-2">
            <li class="m-2 list-unstyled"><span class="far fa-file mr-1"></span>
                <a class="course-file" href=/courses/jedha-full-stack-24-program/S2.3%20--%20Coaching%20carri%C3%A8re/S23-B%20-%20Pr%C3%A9paration%20aux%20entretiens%20techniques/Machine%20Learning%20Flashcards/MinMax_Scaling_web.png>MinMax_Scaling_web.png</a>
            </li>
          </ul>
        
    
    
        
          
          <ul class="p-2">
            <li class="m-2 list-unstyled"><span class="far fa-file mr-1"></span>
                <a class="course-file" href=/courses/jedha-full-stack-24-program/S2.3%20--%20Coaching%20carri%C3%A8re/S23-B%20-%20Pr%C3%A9paration%20aux%20entretiens%20techniques/Machine%20Learning%20Flashcards/Minibatch_web.png>Minibatch_web.png</a>
            </li>
          </ul>
        
    
    
        
          
          <ul class="p-2">
            <li class="m-2 list-unstyled"><span class="far fa-file mr-1"></span>
                <a class="course-file" href=/courses/jedha-full-stack-24-program/S2.3%20--%20Coaching%20carri%C3%A8re/S23-B%20-%20Pr%C3%A9paration%20aux%20entretiens%20techniques/Machine%20Learning%20Flashcards/Minimum_Of_A_Loss_Function_web.png>Minimum_Of_A_Loss_Function_web.png</a>
            </li>
          </ul>
        
    
    
        
          
          <ul class="p-2">
            <li class="m-2 list-unstyled"><span class="far fa-file mr-1"></span>
                <a class="course-file" href=/courses/jedha-full-stack-24-program/S2.3%20--%20Coaching%20carri%C3%A8re/S23-B%20-%20Pr%C3%A9paration%20aux%20entretiens%20techniques/Machine%20Learning%20Flashcards/Minkowski_Distance_web.png>Minkowski_Distance_web.png</a>
            </li>
          </ul>
        
    
    
        
          
          <ul class="p-2">
            <li class="m-2 list-unstyled"><span class="far fa-file mr-1"></span>
                <a class="course-file" href=/courses/jedha-full-stack-24-program/S2.3%20--%20Coaching%20carri%C3%A8re/S23-B%20-%20Pr%C3%A9paration%20aux%20entretiens%20techniques/Machine%20Learning%20Flashcards/Missing_At_Random_web.png>Missing_At_Random_web.png</a>
            </li>
          </ul>
        
    
    
        
          
          <ul class="p-2">
            <li class="m-2 list-unstyled"><span class="far fa-file mr-1"></span>
                <a class="course-file" href=/courses/jedha-full-stack-24-program/S2.3%20--%20Coaching%20carri%C3%A8re/S23-B%20-%20Pr%C3%A9paration%20aux%20entretiens%20techniques/Machine%20Learning%20Flashcards/Missing_Completely_At_Random_web.png>Missing_Completely_At_Random_web.png</a>
            </li>
          </ul>
        
    
    
        
          
          <ul class="p-2">
            <li class="m-2 list-unstyled"><span class="far fa-file mr-1"></span>
                <a class="course-file" href=/courses/jedha-full-stack-24-program/S2.3%20--%20Coaching%20carri%C3%A8re/S23-B%20-%20Pr%C3%A9paration%20aux%20entretiens%20techniques/Machine%20Learning%20Flashcards/Missing_Not_At_Random_web.png>Missing_Not_At_Random_web.png</a>
            </li>
          </ul>
        
    
    
        
          
          <ul class="p-2">
            <li class="m-2 list-unstyled"><span class="far fa-file mr-1"></span>
                <a class="course-file" href=/courses/jedha-full-stack-24-program/S2.3%20--%20Coaching%20carri%C3%A8re/S23-B%20-%20Pr%C3%A9paration%20aux%20entretiens%20techniques/Machine%20Learning%20Flashcards/Model_Complexity_web.png>Model_Complexity_web.png</a>
            </li>
          </ul>
        
    
    
        
          
          <ul class="p-2">
            <li class="m-2 list-unstyled"><span class="far fa-file mr-1"></span>
                <a class="course-file" href=/courses/jedha-full-stack-24-program/S2.3%20--%20Coaching%20carri%C3%A8re/S23-B%20-%20Pr%C3%A9paration%20aux%20entretiens%20techniques/Machine%20Learning%20Flashcards/Model_Identifiability_web.png>Model_Identifiability_web.png</a>
            </li>
          </ul>
        
    
    
        
          
          <ul class="p-2">
            <li class="m-2 list-unstyled"><span class="far fa-file mr-1"></span>
                <a class="course-file" href=/courses/jedha-full-stack-24-program/S2.3%20--%20Coaching%20carri%C3%A8re/S23-B%20-%20Pr%C3%A9paration%20aux%20entretiens%20techniques/Machine%20Learning%20Flashcards/Model_Selection_web.png>Model_Selection_web.png</a>
            </li>
          </ul>
        
    
    
        
          
          <ul class="p-2">
            <li class="m-2 list-unstyled"><span class="far fa-file mr-1"></span>
                <a class="course-file" href=/courses/jedha-full-stack-24-program/S2.3%20--%20Coaching%20carri%C3%A8re/S23-B%20-%20Pr%C3%A9paration%20aux%20entretiens%20techniques/Machine%20Learning%20Flashcards/Momentum_web.png>Momentum_web.png</a>
            </li>
          </ul>
        
    
    
        
          
          <ul class="p-2">
            <li class="m-2 list-unstyled"><span class="far fa-file mr-1"></span>
                <a class="course-file" href=/courses/jedha-full-stack-24-program/S2.3%20--%20Coaching%20carri%C3%A8re/S23-B%20-%20Pr%C3%A9paration%20aux%20entretiens%20techniques/Machine%20Learning%20Flashcards/Motivation_For_Deep_Layers_web.png>Motivation_For_Deep_Layers_web.png</a>
            </li>
          </ul>
        
    
    
        
          
          <ul class="p-2">
            <li class="m-2 list-unstyled"><span class="far fa-file mr-1"></span>
                <a class="course-file" href=/courses/jedha-full-stack-24-program/S2.3%20--%20Coaching%20carri%C3%A8re/S23-B%20-%20Pr%C3%A9paration%20aux%20entretiens%20techniques/Machine%20Learning%20Flashcards/Motivation_For_Deep_Learning_web.png>Motivation_For_Deep_Learning_web.png</a>
            </li>
          </ul>
        
    
    
        
          
          <ul class="p-2">
            <li class="m-2 list-unstyled"><span class="far fa-file mr-1"></span>
                <a class="course-file" href=/courses/jedha-full-stack-24-program/S2.3%20--%20Coaching%20carri%C3%A8re/S23-B%20-%20Pr%C3%A9paration%20aux%20entretiens%20techniques/Machine%20Learning%20Flashcards/Multinomial_Logistic_Regression_web.png>Multinomial_Logistic_Regression_web.png</a>
            </li>
          </ul>
        
    
    
        
          
          <ul class="p-2">
            <li class="m-2 list-unstyled"><span class="far fa-file mr-1"></span>
                <a class="course-file" href=/courses/jedha-full-stack-24-program/S2.3%20--%20Coaching%20carri%C3%A8re/S23-B%20-%20Pr%C3%A9paration%20aux%20entretiens%20techniques/Machine%20Learning%20Flashcards/Natural_Log_web.png>Natural_Log_web.png</a>
            </li>
          </ul>
        
    
    
        
          
          <ul class="p-2">
            <li class="m-2 list-unstyled"><span class="far fa-file mr-1"></span>
                <a class="course-file" href=/courses/jedha-full-stack-24-program/S2.3%20--%20Coaching%20carri%C3%A8re/S23-B%20-%20Pr%C3%A9paration%20aux%20entretiens%20techniques/Machine%20Learning%20Flashcards/Neuron_web.png>Neuron_web.png</a>
            </li>
          </ul>
        
    
    
        
          
          <ul class="p-2">
            <li class="m-2 list-unstyled"><span class="far fa-file mr-1"></span>
                <a class="course-file" href=/courses/jedha-full-stack-24-program/S2.3%20--%20Coaching%20carri%C3%A8re/S23-B%20-%20Pr%C3%A9paration%20aux%20entretiens%20techniques/Machine%20Learning%20Flashcards/No_Free_Lunch_Theorem_web.png>No_Free_Lunch_Theorem_web.png</a>
            </li>
          </ul>
        
    
    
        
          
          <ul class="p-2">
            <li class="m-2 list-unstyled"><span class="far fa-file mr-1"></span>
                <a class="course-file" href=/courses/jedha-full-stack-24-program/S2.3%20--%20Coaching%20carri%C3%A8re/S23-B%20-%20Pr%C3%A9paration%20aux%20entretiens%20techniques/Machine%20Learning%20Flashcards/Noisy_ReLU_web.png>Noisy_ReLU_web.png</a>
            </li>
          </ul>
        
    
    
        
          
          <ul class="p-2">
            <li class="m-2 list-unstyled"><span class="far fa-file mr-1"></span>
                <a class="course-file" href=/courses/jedha-full-stack-24-program/S2.3%20--%20Coaching%20carri%C3%A8re/S23-B%20-%20Pr%C3%A9paration%20aux%20entretiens%20techniques/Machine%20Learning%20Flashcards/Non-Parametric_Methods_web.png>Non-Parametric_Methods_web.png</a>
            </li>
          </ul>
        
    
    
        
          
          <ul class="p-2">
            <li class="m-2 list-unstyled"><span class="far fa-file mr-1"></span>
                <a class="course-file" href=/courses/jedha-full-stack-24-program/S2.3%20--%20Coaching%20carri%C3%A8re/S23-B%20-%20Pr%C3%A9paration%20aux%20entretiens%20techniques/Machine%20Learning%20Flashcards/Normal_Distribution_web.png>Normal_Distribution_web.png</a>
            </li>
          </ul>
        
    
    
        
          
          <ul class="p-2">
            <li class="m-2 list-unstyled"><span class="far fa-file mr-1"></span>
                <a class="course-file" href=/courses/jedha-full-stack-24-program/S2.3%20--%20Coaching%20carri%C3%A8re/S23-B%20-%20Pr%C3%A9paration%20aux%20entretiens%20techniques/Machine%20Learning%20Flashcards/Normalized_Initialization_Of_Neural_Network_Parameters_web.png>Normalized_Initialization_Of_Neural_Network_Parameters_web.png</a>
            </li>
          </ul>
        
    
    
        
          
          <ul class="p-2">
            <li class="m-2 list-unstyled"><span class="far fa-file mr-1"></span>
                <a class="course-file" href=/courses/jedha-full-stack-24-program/S2.3%20--%20Coaching%20carri%C3%A8re/S23-B%20-%20Pr%C3%A9paration%20aux%20entretiens%20techniques/Machine%20Learning%20Flashcards/Normalizing_Observations_web.png>Normalizing_Observations_web.png</a>
            </li>
          </ul>
        
    
    
        
          
          <ul class="p-2">
            <li class="m-2 list-unstyled"><span class="far fa-file mr-1"></span>
                <a class="course-file" href=/courses/jedha-full-stack-24-program/S2.3%20--%20Coaching%20carri%C3%A8re/S23-B%20-%20Pr%C3%A9paration%20aux%20entretiens%20techniques/Machine%20Learning%20Flashcards/Notation_1_web.png>Notation_1_web.png</a>
            </li>
          </ul>
        
    
    
        
          
          <ul class="p-2">
            <li class="m-2 list-unstyled"><span class="far fa-file mr-1"></span>
                <a class="course-file" href=/courses/jedha-full-stack-24-program/S2.3%20--%20Coaching%20carri%C3%A8re/S23-B%20-%20Pr%C3%A9paration%20aux%20entretiens%20techniques/Machine%20Learning%20Flashcards/Notation_2_web.png>Notation_2_web.png</a>
            </li>
          </ul>
        
    
    
        
          
          <ul class="p-2">
            <li class="m-2 list-unstyled"><span class="far fa-file mr-1"></span>
                <a class="course-file" href=/courses/jedha-full-stack-24-program/S2.3%20--%20Coaching%20carri%C3%A8re/S23-B%20-%20Pr%C3%A9paration%20aux%20entretiens%20techniques/Machine%20Learning%20Flashcards/Notation_3_web.png>Notation_3_web.png</a>
            </li>
          </ul>
        
    
    
        
          
          <ul class="p-2">
            <li class="m-2 list-unstyled"><span class="far fa-file mr-1"></span>
                <a class="course-file" href=/courses/jedha-full-stack-24-program/S2.3%20--%20Coaching%20carri%C3%A8re/S23-B%20-%20Pr%C3%A9paration%20aux%20entretiens%20techniques/Machine%20Learning%20Flashcards/Notation_4_web.png>Notation_4_web.png</a>
            </li>
          </ul>
        
    
    
        
          
          <ul class="p-2">
            <li class="m-2 list-unstyled"><span class="far fa-file mr-1"></span>
                <a class="course-file" href=/courses/jedha-full-stack-24-program/S2.3%20--%20Coaching%20carri%C3%A8re/S23-B%20-%20Pr%C3%A9paration%20aux%20entretiens%20techniques/Machine%20Learning%20Flashcards/Notation_5_web.png>Notation_5_web.png</a>
            </li>
          </ul>
        
    
    
        
          
          <ul class="p-2">
            <li class="m-2 list-unstyled"><span class="far fa-file mr-1"></span>
                <a class="course-file" href=/courses/jedha-full-stack-24-program/S2.3%20--%20Coaching%20carri%C3%A8re/S23-B%20-%20Pr%C3%A9paration%20aux%20entretiens%20techniques/Machine%20Learning%20Flashcards/Notions_Of_Probability_web.png>Notions_Of_Probability_web.png</a>
            </li>
          </ul>
        
    
    
        
          
          <ul class="p-2">
            <li class="m-2 list-unstyled"><span class="far fa-file mr-1"></span>
                <a class="course-file" href=/courses/jedha-full-stack-24-program/S2.3%20--%20Coaching%20carri%C3%A8re/S23-B%20-%20Pr%C3%A9paration%20aux%20entretiens%20techniques/Machine%20Learning%20Flashcards/Occams_Razor_web.png>Occams_Razor_web.png</a>
            </li>
          </ul>
        
    
    
        
          
          <ul class="p-2">
            <li class="m-2 list-unstyled"><span class="far fa-file mr-1"></span>
                <a class="course-file" href=/courses/jedha-full-stack-24-program/S2.3%20--%20Coaching%20carri%C3%A8re/S23-B%20-%20Pr%C3%A9paration%20aux%20entretiens%20techniques/Machine%20Learning%20Flashcards/Odds_Ratio_web.png>Odds_Ratio_web.png</a>
            </li>
          </ul>
        
    
    
        
          
          <ul class="p-2">
            <li class="m-2 list-unstyled"><span class="far fa-file mr-1"></span>
                <a class="course-file" href=/courses/jedha-full-stack-24-program/S2.3%20--%20Coaching%20carri%C3%A8re/S23-B%20-%20Pr%C3%A9paration%20aux%20entretiens%20techniques/Machine%20Learning%20Flashcards/Odds_web.png>Odds_web.png</a>
            </li>
          </ul>
        
    
    
        
          
          <ul class="p-2">
            <li class="m-2 list-unstyled"><span class="far fa-file mr-1"></span>
                <a class="course-file" href=/courses/jedha-full-stack-24-program/S2.3%20--%20Coaching%20carri%C3%A8re/S23-B%20-%20Pr%C3%A9paration%20aux%20entretiens%20techniques/Machine%20Learning%20Flashcards/One-Hot_Encoding_web.png>One-Hot_Encoding_web.png</a>
            </li>
          </ul>
        
    
    
        
          
          <ul class="p-2">
            <li class="m-2 list-unstyled"><span class="far fa-file mr-1"></span>
                <a class="course-file" href=/courses/jedha-full-stack-24-program/S2.3%20--%20Coaching%20carri%C3%A8re/S23-B%20-%20Pr%C3%A9paration%20aux%20entretiens%20techniques/Machine%20Learning%20Flashcards/One-Sided_Label_Smoothing_web.png>One-Sided_Label_Smoothing_web.png</a>
            </li>
          </ul>
        
    
    
        
          
          <ul class="p-2">
            <li class="m-2 list-unstyled"><span class="far fa-file mr-1"></span>
                <a class="course-file" href=/courses/jedha-full-stack-24-program/S2.3%20--%20Coaching%20carri%C3%A8re/S23-B%20-%20Pr%C3%A9paration%20aux%20entretiens%20techniques/Machine%20Learning%20Flashcards/One-Vs-Rest_Logistic_Regression_web.png>One-Vs-Rest_Logistic_Regression_web.png</a>
            </li>
          </ul>
        
    
    
        
          
          <ul class="p-2">
            <li class="m-2 list-unstyled"><span class="far fa-file mr-1"></span>
                <a class="course-file" href=/courses/jedha-full-stack-24-program/S2.3%20--%20Coaching%20carri%C3%A8re/S23-B%20-%20Pr%C3%A9paration%20aux%20entretiens%20techniques/Machine%20Learning%20Flashcards/Ordinary_Least_Squares_web.png>Ordinary_Least_Squares_web.png</a>
            </li>
          </ul>
        
    
    
        
          
          <ul class="p-2">
            <li class="m-2 list-unstyled"><span class="far fa-file mr-1"></span>
                <a class="course-file" href=/courses/jedha-full-stack-24-program/S2.3%20--%20Coaching%20carri%C3%A8re/S23-B%20-%20Pr%C3%A9paration%20aux%20entretiens%20techniques/Machine%20Learning%20Flashcards/Out-Of-Bag_Error_web.png>Out-Of-Bag_Error_web.png</a>
            </li>
          </ul>
        
    
    
        
          
          <ul class="p-2">
            <li class="m-2 list-unstyled"><span class="far fa-file mr-1"></span>
                <a class="course-file" href=/courses/jedha-full-stack-24-program/S2.3%20--%20Coaching%20carri%C3%A8re/S23-B%20-%20Pr%C3%A9paration%20aux%20entretiens%20techniques/Machine%20Learning%20Flashcards/Out-Of-Core_web.png>Out-Of-Core_web.png</a>
            </li>
          </ul>
        
    
    
        
          
          <ul class="p-2">
            <li class="m-2 list-unstyled"><span class="far fa-file mr-1"></span>
                <a class="course-file" href=/courses/jedha-full-stack-24-program/S2.3%20--%20Coaching%20carri%C3%A8re/S23-B%20-%20Pr%C3%A9paration%20aux%20entretiens%20techniques/Machine%20Learning%20Flashcards/Outlier_web.png>Outlier_web.png</a>
            </li>
          </ul>
        
    
    
        
          
          <ul class="p-2">
            <li class="m-2 list-unstyled"><span class="far fa-file mr-1"></span>
                <a class="course-file" href=/courses/jedha-full-stack-24-program/S2.3%20--%20Coaching%20carri%C3%A8re/S23-B%20-%20Pr%C3%A9paration%20aux%20entretiens%20techniques/Machine%20Learning%20Flashcards/Overfit_Vs_Underfit_web.png>Overfit_Vs_Underfit_web.png</a>
            </li>
          </ul>
        
    
    
        
          
          <ul class="p-2">
            <li class="m-2 list-unstyled"><span class="far fa-file mr-1"></span>
                <a class="course-file" href=/courses/jedha-full-stack-24-program/S2.3%20--%20Coaching%20carri%C3%A8re/S23-B%20-%20Pr%C3%A9paration%20aux%20entretiens%20techniques/Machine%20Learning%20Flashcards/Overfitting_web.png>Overfitting_web.png</a>
            </li>
          </ul>
        
    
    
        
          
          <ul class="p-2">
            <li class="m-2 list-unstyled"><span class="far fa-file mr-1"></span>
                <a class="course-file" href=/courses/jedha-full-stack-24-program/S2.3%20--%20Coaching%20carri%C3%A8re/S23-B%20-%20Pr%C3%A9paration%20aux%20entretiens%20techniques/Machine%20Learning%20Flashcards/Parameter_Norm_web.png>Parameter_Norm_web.png</a>
            </li>
          </ul>
        
    
    
        
          
          <ul class="p-2">
            <li class="m-2 list-unstyled"><span class="far fa-file mr-1"></span>
                <a class="course-file" href=/courses/jedha-full-stack-24-program/S2.3%20--%20Coaching%20carri%C3%A8re/S23-B%20-%20Pr%C3%A9paration%20aux%20entretiens%20techniques/Machine%20Learning%20Flashcards/Parameter_Sharing_web.png>Parameter_Sharing_web.png</a>
            </li>
          </ul>
        
    
    
        
          
          <ul class="p-2">
            <li class="m-2 list-unstyled"><span class="far fa-file mr-1"></span>
                <a class="course-file" href=/courses/jedha-full-stack-24-program/S2.3%20--%20Coaching%20carri%C3%A8re/S23-B%20-%20Pr%C3%A9paration%20aux%20entretiens%20techniques/Machine%20Learning%20Flashcards/Parameters_vs_Hyperparameters_web.png>Parameters_vs_Hyperparameters_web.png</a>
            </li>
          </ul>
        
    
    
        
          
          <ul class="p-2">
            <li class="m-2 list-unstyled"><span class="far fa-file mr-1"></span>
                <a class="course-file" href=/courses/jedha-full-stack-24-program/S2.3%20--%20Coaching%20carri%C3%A8re/S23-B%20-%20Pr%C3%A9paration%20aux%20entretiens%20techniques/Machine%20Learning%20Flashcards/Parametric_Modeling_web.png>Parametric_Modeling_web.png</a>
            </li>
          </ul>
        
    
    
        
          
          <ul class="p-2">
            <li class="m-2 list-unstyled"><span class="far fa-file mr-1"></span>
                <a class="course-file" href=/courses/jedha-full-stack-24-program/S2.3%20--%20Coaching%20carri%C3%A8re/S23-B%20-%20Pr%C3%A9paration%20aux%20entretiens%20techniques/Machine%20Learning%20Flashcards/Partial_Derivative_web.png>Partial_Derivative_web.png</a>
            </li>
          </ul>
        
    
    
        
          
          <ul class="p-2">
            <li class="m-2 list-unstyled"><span class="far fa-file mr-1"></span>
                <a class="course-file" href=/courses/jedha-full-stack-24-program/S2.3%20--%20Coaching%20carri%C3%A8re/S23-B%20-%20Pr%C3%A9paration%20aux%20entretiens%20techniques/Machine%20Learning%20Flashcards/Pearsons_Correlation_web.png>Pearsons_Correlation_web.png</a>
            </li>
          </ul>
        
    
    
        
          
          <ul class="p-2">
            <li class="m-2 list-unstyled"><span class="far fa-file mr-1"></span>
                <a class="course-file" href=/courses/jedha-full-stack-24-program/S2.3%20--%20Coaching%20carri%C3%A8re/S23-B%20-%20Pr%C3%A9paration%20aux%20entretiens%20techniques/Machine%20Learning%20Flashcards/Perceptron_Learning_web.png>Perceptron_Learning_web.png</a>
            </li>
          </ul>
        
    
    
        
          
          <ul class="p-2">
            <li class="m-2 list-unstyled"><span class="far fa-file mr-1"></span>
                <a class="course-file" href=/courses/jedha-full-stack-24-program/S2.3%20--%20Coaching%20carri%C3%A8re/S23-B%20-%20Pr%C3%A9paration%20aux%20entretiens%20techniques/Machine%20Learning%20Flashcards/Perceptron_web.png>Perceptron_web.png</a>
            </li>
          </ul>
        
    
    
        
          
          <ul class="p-2">
            <li class="m-2 list-unstyled"><span class="far fa-file mr-1"></span>
                <a class="course-file" href=/courses/jedha-full-stack-24-program/S2.3%20--%20Coaching%20carri%C3%A8re/S23-B%20-%20Pr%C3%A9paration%20aux%20entretiens%20techniques/Machine%20Learning%20Flashcards/Platt_Scaling_web.png>Platt_Scaling_web.png</a>
            </li>
          </ul>
        
    
    
        
          
          <ul class="p-2">
            <li class="m-2 list-unstyled"><span class="far fa-file mr-1"></span>
                <a class="course-file" href=/courses/jedha-full-stack-24-program/S2.3%20--%20Coaching%20carri%C3%A8re/S23-B%20-%20Pr%C3%A9paration%20aux%20entretiens%20techniques/Machine%20Learning%20Flashcards/Polynomial_Regression_web.png>Polynomial_Regression_web.png</a>
            </li>
          </ul>
        
    
    
        
          
          <ul class="p-2">
            <li class="m-2 list-unstyled"><span class="far fa-file mr-1"></span>
                <a class="course-file" href=/courses/jedha-full-stack-24-program/S2.3%20--%20Coaching%20carri%C3%A8re/S23-B%20-%20Pr%C3%A9paration%20aux%20entretiens%20techniques/Machine%20Learning%20Flashcards/Power_Rule_web.png>Power_Rule_web.png</a>
            </li>
          </ul>
        
    
    
        
          
          <ul class="p-2">
            <li class="m-2 list-unstyled"><span class="far fa-file mr-1"></span>
                <a class="course-file" href=/courses/jedha-full-stack-24-program/S2.3%20--%20Coaching%20carri%C3%A8re/S23-B%20-%20Pr%C3%A9paration%20aux%20entretiens%20techniques/Machine%20Learning%20Flashcards/Precision_web.png>Precision_web.png</a>
            </li>
          </ul>
        
    
    
        
          
          <ul class="p-2">
            <li class="m-2 list-unstyled"><span class="far fa-file mr-1"></span>
                <a class="course-file" href=/courses/jedha-full-stack-24-program/S2.3%20--%20Coaching%20carri%C3%A8re/S23-B%20-%20Pr%C3%A9paration%20aux%20entretiens%20techniques/Machine%20Learning%20Flashcards/Preprocessing_Training_And_Test_Sets_web.png>Preprocessing_Training_And_Test_Sets_web.png</a>
            </li>
          </ul>
        
    
    
        
          
          <ul class="p-2">
            <li class="m-2 list-unstyled"><span class="far fa-file mr-1"></span>
                <a class="course-file" href=/courses/jedha-full-stack-24-program/S2.3%20--%20Coaching%20carri%C3%A8re/S23-B%20-%20Pr%C3%A9paration%20aux%20entretiens%20techniques/Machine%20Learning%20Flashcards/Principal_Component_Analysis_web.png>Principal_Component_Analysis_web.png</a>
            </li>
          </ul>
        
    
    
        
          
          <ul class="p-2">
            <li class="m-2 list-unstyled"><span class="far fa-file mr-1"></span>
                <a class="course-file" href=/courses/jedha-full-stack-24-program/S2.3%20--%20Coaching%20carri%C3%A8re/S23-B%20-%20Pr%C3%A9paration%20aux%20entretiens%20techniques/Machine%20Learning%20Flashcards/Principal_Components_web.png>Principal_Components_web.png</a>
            </li>
          </ul>
        
    
    
        
          
          <ul class="p-2">
            <li class="m-2 list-unstyled"><span class="far fa-file mr-1"></span>
                <a class="course-file" href=/courses/jedha-full-stack-24-program/S2.3%20--%20Coaching%20carri%C3%A8re/S23-B%20-%20Pr%C3%A9paration%20aux%20entretiens%20techniques/Machine%20Learning%20Flashcards/Probability_Density_Function_web.png>Probability_Density_Function_web.png</a>
            </li>
          </ul>
        
    
    
        
          
          <ul class="p-2">
            <li class="m-2 list-unstyled"><span class="far fa-file mr-1"></span>
                <a class="course-file" href=/courses/jedha-full-stack-24-program/S2.3%20--%20Coaching%20carri%C3%A8re/S23-B%20-%20Pr%C3%A9paration%20aux%20entretiens%20techniques/Machine%20Learning%20Flashcards/Probability_Mass_Function_web.png>Probability_Mass_Function_web.png</a>
            </li>
          </ul>
        
    
    
        
          
          <ul class="p-2">
            <li class="m-2 list-unstyled"><span class="far fa-file mr-1"></span>
                <a class="course-file" href=/courses/jedha-full-stack-24-program/S2.3%20--%20Coaching%20carri%C3%A8re/S23-B%20-%20Pr%C3%A9paration%20aux%20entretiens%20techniques/Machine%20Learning%20Flashcards/R-Squared_web.png>R-Squared_web.png</a>
            </li>
          </ul>
        
    
    
        
          
          <ul class="p-2">
            <li class="m-2 list-unstyled"><span class="far fa-file mr-1"></span>
                <a class="course-file" href=/courses/jedha-full-stack-24-program/S2.3%20--%20Coaching%20carri%C3%A8re/S23-B%20-%20Pr%C3%A9paration%20aux%20entretiens%20techniques/Machine%20Learning%20Flashcards/RMSprop_web.png>RMSprop_web.png</a>
            </li>
          </ul>
        
    
    
        
          
          <ul class="p-2">
            <li class="m-2 list-unstyled"><span class="far fa-file mr-1"></span>
                <a class="course-file" href=/courses/jedha-full-stack-24-program/S2.3%20--%20Coaching%20carri%C3%A8re/S23-B%20-%20Pr%C3%A9paration%20aux%20entretiens%20techniques/Machine%20Learning%20Flashcards/Radius-Based_Nearest_Neighbor_Classifier_web.png>Radius-Based_Nearest_Neighbor_Classifier_web.png</a>
            </li>
          </ul>
        
    
    
        
          
          <ul class="p-2">
            <li class="m-2 list-unstyled"><span class="far fa-file mr-1"></span>
                <a class="course-file" href=/courses/jedha-full-stack-24-program/S2.3%20--%20Coaching%20carri%C3%A8re/S23-B%20-%20Pr%C3%A9paration%20aux%20entretiens%20techniques/Machine%20Learning%20Flashcards/Random_Forest_web.png>Random_Forest_web.png</a>
            </li>
          </ul>
        
    
    
        
          
          <ul class="p-2">
            <li class="m-2 list-unstyled"><span class="far fa-file mr-1"></span>
                <a class="course-file" href=/courses/jedha-full-stack-24-program/S2.3%20--%20Coaching%20carri%C3%A8re/S23-B%20-%20Pr%C3%A9paration%20aux%20entretiens%20techniques/Machine%20Learning%20Flashcards/Random_Variable_web.png>Random_Variable_web.png</a>
            </li>
          </ul>
        
    
    
        
          
          <ul class="p-2">
            <li class="m-2 list-unstyled"><span class="far fa-file mr-1"></span>
                <a class="course-file" href=/courses/jedha-full-stack-24-program/S2.3%20--%20Coaching%20carri%C3%A8re/S23-B%20-%20Pr%C3%A9paration%20aux%20entretiens%20techniques/Machine%20Learning%20Flashcards/Randomized_Search_web.png>Randomized_Search_web.png</a>
            </li>
          </ul>
        
    
    
        
          
          <ul class="p-2">
            <li class="m-2 list-unstyled"><span class="far fa-file mr-1"></span>
                <a class="course-file" href=/courses/jedha-full-stack-24-program/S2.3%20--%20Coaching%20carri%C3%A8re/S23-B%20-%20Pr%C3%A9paration%20aux%20entretiens%20techniques/Machine%20Learning%20Flashcards/ReLU_Activation_Function_web.png>ReLU_Activation_Function_web.png</a>
            </li>
          </ul>
        
    
    
        
          
          <ul class="p-2">
            <li class="m-2 list-unstyled"><span class="far fa-file mr-1"></span>
                <a class="course-file" href=/courses/jedha-full-stack-24-program/S2.3%20--%20Coaching%20carri%C3%A8re/S23-B%20-%20Pr%C3%A9paration%20aux%20entretiens%20techniques/Machine%20Learning%20Flashcards/Recall_web.png>Recall_web.png</a>
            </li>
          </ul>
        
    
    
        
          
          <ul class="p-2">
            <li class="m-2 list-unstyled"><span class="far fa-file mr-1"></span>
                <a class="course-file" href=/courses/jedha-full-stack-24-program/S2.3%20--%20Coaching%20carri%C3%A8re/S23-B%20-%20Pr%C3%A9paration%20aux%20entretiens%20techniques/Machine%20Learning%20Flashcards/Receiver_Operating_Characteristic_web.png>Receiver_Operating_Characteristic_web.png</a>
            </li>
          </ul>
        
    
    
        
          
          <ul class="p-2">
            <li class="m-2 list-unstyled"><span class="far fa-file mr-1"></span>
                <a class="course-file" href=/courses/jedha-full-stack-24-program/S2.3%20--%20Coaching%20carri%C3%A8re/S23-B%20-%20Pr%C3%A9paration%20aux%20entretiens%20techniques/Machine%20Learning%20Flashcards/Regression_web.png>Regression_web.png</a>
            </li>
          </ul>
        
    
    
        
          
          <ul class="p-2">
            <li class="m-2 list-unstyled"><span class="far fa-file mr-1"></span>
                <a class="course-file" href=/courses/jedha-full-stack-24-program/S2.3%20--%20Coaching%20carri%C3%A8re/S23-B%20-%20Pr%C3%A9paration%20aux%20entretiens%20techniques/Machine%20Learning%20Flashcards/Regularization_web.png>Regularization_web.png</a>
            </li>
          </ul>
        
    
    
        
          
          <ul class="p-2">
            <li class="m-2 list-unstyled"><span class="far fa-file mr-1"></span>
                <a class="course-file" href=/courses/jedha-full-stack-24-program/S2.3%20--%20Coaching%20carri%C3%A8re/S23-B%20-%20Pr%C3%A9paration%20aux%20entretiens%20techniques/Machine%20Learning%20Flashcards/Residual_Sum_Of_Squares_web.png>Residual_Sum_Of_Squares_web.png</a>
            </li>
          </ul>
        
    
    
        
          
          <ul class="p-2">
            <li class="m-2 list-unstyled"><span class="far fa-file mr-1"></span>
                <a class="course-file" href=/courses/jedha-full-stack-24-program/S2.3%20--%20Coaching%20carri%C3%A8re/S23-B%20-%20Pr%C3%A9paration%20aux%20entretiens%20techniques/Machine%20Learning%20Flashcards/Ridge_Regression_web.png>Ridge_Regression_web.png</a>
            </li>
          </ul>
        
    
    
        
          
          <ul class="p-2">
            <li class="m-2 list-unstyled"><span class="far fa-file mr-1"></span>
                <a class="course-file" href=/courses/jedha-full-stack-24-program/S2.3%20--%20Coaching%20carri%C3%A8re/S23-B%20-%20Pr%C3%A9paration%20aux%20entretiens%20techniques/Machine%20Learning%20Flashcards/SVC_Radial_Basis_Function_Kernel_web.png>SVC_Radial_Basis_Function_Kernel_web.png</a>
            </li>
          </ul>
        
    
    
        
          
          <ul class="p-2">
            <li class="m-2 list-unstyled"><span class="far fa-file mr-1"></span>
                <a class="course-file" href=/courses/jedha-full-stack-24-program/S2.3%20--%20Coaching%20carri%C3%A8re/S23-B%20-%20Pr%C3%A9paration%20aux%20entretiens%20techniques/Machine%20Learning%20Flashcards/Saddle_Point_web.png>Saddle_Point_web.png</a>
            </li>
          </ul>
        
    
    
        
          
          <ul class="p-2">
            <li class="m-2 list-unstyled"><span class="far fa-file mr-1"></span>
                <a class="course-file" href=/courses/jedha-full-stack-24-program/S2.3%20--%20Coaching%20carri%C3%A8re/S23-B%20-%20Pr%C3%A9paration%20aux%20entretiens%20techniques/Machine%20Learning%20Flashcards/Saturation_Of_The_Loss_Function_web.png>Saturation_Of_The_Loss_Function_web.png</a>
            </li>
          </ul>
        
    
    
        
          
          <ul class="p-2">
            <li class="m-2 list-unstyled"><span class="far fa-file mr-1"></span>
                <a class="course-file" href=/courses/jedha-full-stack-24-program/S2.3%20--%20Coaching%20carri%C3%A8re/S23-B%20-%20Pr%C3%A9paration%20aux%20entretiens%20techniques/Machine%20Learning%20Flashcards/Saturation_web.png>Saturation_web.png</a>
            </li>
          </ul>
        
    
    
        
          
          <ul class="p-2">
            <li class="m-2 list-unstyled"><span class="far fa-file mr-1"></span>
                <a class="course-file" href=/courses/jedha-full-stack-24-program/S2.3%20--%20Coaching%20carri%C3%A8re/S23-B%20-%20Pr%C3%A9paration%20aux%20entretiens%20techniques/Machine%20Learning%20Flashcards/Scalars_web.png>Scalars_web.png</a>
            </li>
          </ul>
        
    
    
        
          
          <ul class="p-2">
            <li class="m-2 list-unstyled"><span class="far fa-file mr-1"></span>
                <a class="course-file" href=/courses/jedha-full-stack-24-program/S2.3%20--%20Coaching%20carri%C3%A8re/S23-B%20-%20Pr%C3%A9paration%20aux%20entretiens%20techniques/Machine%20Learning%20Flashcards/Selecting_Number_Of_Components_In_PCA_web.png>Selecting_Number_Of_Components_In_PCA_web.png</a>
            </li>
          </ul>
        
    
    
        
          
          <ul class="p-2">
            <li class="m-2 list-unstyled"><span class="far fa-file mr-1"></span>
                <a class="course-file" href=/courses/jedha-full-stack-24-program/S2.3%20--%20Coaching%20carri%C3%A8re/S23-B%20-%20Pr%C3%A9paration%20aux%20entretiens%20techniques/Machine%20Learning%20Flashcards/Sensitivity_web.png>Sensitivity_web.png</a>
            </li>
          </ul>
        
    
    
        
          
          <ul class="p-2">
            <li class="m-2 list-unstyled"><span class="far fa-file mr-1"></span>
                <a class="course-file" href=/courses/jedha-full-stack-24-program/S2.3%20--%20Coaching%20carri%C3%A8re/S23-B%20-%20Pr%C3%A9paration%20aux%20entretiens%20techniques/Machine%20Learning%20Flashcards/Sigmoid_Activation_Function_web.png>Sigmoid_Activation_Function_web.png</a>
            </li>
          </ul>
        
    
    
        
          
          <ul class="p-2">
            <li class="m-2 list-unstyled"><span class="far fa-file mr-1"></span>
                <a class="course-file" href=/courses/jedha-full-stack-24-program/S2.3%20--%20Coaching%20carri%C3%A8re/S23-B%20-%20Pr%C3%A9paration%20aux%20entretiens%20techniques/Machine%20Learning%20Flashcards/Silhouette_Coefficients_web.png>Silhouette_Coefficients_web.png</a>
            </li>
          </ul>
        
    
    
        
          
          <ul class="p-2">
            <li class="m-2 list-unstyled"><span class="far fa-file mr-1"></span>
                <a class="course-file" href=/courses/jedha-full-stack-24-program/S2.3%20--%20Coaching%20carri%C3%A8re/S23-B%20-%20Pr%C3%A9paration%20aux%20entretiens%20techniques/Machine%20Learning%20Flashcards/Simpsons_Paradox_web.png>Simpsons_Paradox_web.png</a>
            </li>
          </ul>
        
    
    
        
          
          <ul class="p-2">
            <li class="m-2 list-unstyled"><span class="far fa-file mr-1"></span>
                <a class="course-file" href=/courses/jedha-full-stack-24-program/S2.3%20--%20Coaching%20carri%C3%A8re/S23-B%20-%20Pr%C3%A9paration%20aux%20entretiens%20techniques/Machine%20Learning%20Flashcards/Slack_Variable_In_Soft-Margin_SVM_web.png>Slack_Variable_In_Soft-Margin_SVM_web.png</a>
            </li>
          </ul>
        
    
    
        
          
          <ul class="p-2">
            <li class="m-2 list-unstyled"><span class="far fa-file mr-1"></span>
                <a class="course-file" href=/courses/jedha-full-stack-24-program/S2.3%20--%20Coaching%20carri%C3%A8re/S23-B%20-%20Pr%C3%A9paration%20aux%20entretiens%20techniques/Machine%20Learning%20Flashcards/Softmax_Activation_Function_web.png>Softmax_Activation_Function_web.png</a>
            </li>
          </ul>
        
    
    
        
          
          <ul class="p-2">
            <li class="m-2 list-unstyled"><span class="far fa-file mr-1"></span>
                <a class="course-file" href=/courses/jedha-full-stack-24-program/S2.3%20--%20Coaching%20carri%C3%A8re/S23-B%20-%20Pr%C3%A9paration%20aux%20entretiens%20techniques/Machine%20Learning%20Flashcards/Softmax_Normalization_web.png>Softmax_Normalization_web.png</a>
            </li>
          </ul>
        
    
    
        
          
          <ul class="p-2">
            <li class="m-2 list-unstyled"><span class="far fa-file mr-1"></span>
                <a class="course-file" href=/courses/jedha-full-stack-24-program/S2.3%20--%20Coaching%20carri%C3%A8re/S23-B%20-%20Pr%C3%A9paration%20aux%20entretiens%20techniques/Machine%20Learning%20Flashcards/Softplus_Function_web.png>Softplus_Function_web.png</a>
            </li>
          </ul>
        
    
    
        
          
          <ul class="p-2">
            <li class="m-2 list-unstyled"><span class="far fa-file mr-1"></span>
                <a class="course-file" href=/courses/jedha-full-stack-24-program/S2.3%20--%20Coaching%20carri%C3%A8re/S23-B%20-%20Pr%C3%A9paration%20aux%20entretiens%20techniques/Machine%20Learning%20Flashcards/Sources_Of_Uncertainty_web.png>Sources_Of_Uncertainty_web.png</a>
            </li>
          </ul>
        
    
    
        
          
          <ul class="p-2">
            <li class="m-2 list-unstyled"><span class="far fa-file mr-1"></span>
                <a class="course-file" href=/courses/jedha-full-stack-24-program/S2.3%20--%20Coaching%20carri%C3%A8re/S23-B%20-%20Pr%C3%A9paration%20aux%20entretiens%20techniques/Machine%20Learning%20Flashcards/Span_web.png>Span_web.png</a>
            </li>
          </ul>
        
    
    
        
          
          <ul class="p-2">
            <li class="m-2 list-unstyled"><span class="far fa-file mr-1"></span>
                <a class="course-file" href=/courses/jedha-full-stack-24-program/S2.3%20--%20Coaching%20carri%C3%A8re/S23-B%20-%20Pr%C3%A9paration%20aux%20entretiens%20techniques/Machine%20Learning%20Flashcards/Sparsity_web.png>Sparsity_web.png</a>
            </li>
          </ul>
        
    
    
        
          
          <ul class="p-2">
            <li class="m-2 list-unstyled"><span class="far fa-file mr-1"></span>
                <a class="course-file" href=/courses/jedha-full-stack-24-program/S2.3%20--%20Coaching%20carri%C3%A8re/S23-B%20-%20Pr%C3%A9paration%20aux%20entretiens%20techniques/Machine%20Learning%20Flashcards/Square_Root_web.png>Square_Root_web.png</a>
            </li>
          </ul>
        
    
    
        
          
          <ul class="p-2">
            <li class="m-2 list-unstyled"><span class="far fa-file mr-1"></span>
                <a class="course-file" href=/courses/jedha-full-stack-24-program/S2.3%20--%20Coaching%20carri%C3%A8re/S23-B%20-%20Pr%C3%A9paration%20aux%20entretiens%20techniques/Machine%20Learning%20Flashcards/Standard_Deviation_web.png>Standard_Deviation_web.png</a>
            </li>
          </ul>
        
    
    
        
          
          <ul class="p-2">
            <li class="m-2 list-unstyled"><span class="far fa-file mr-1"></span>
                <a class="course-file" href=/courses/jedha-full-stack-24-program/S2.3%20--%20Coaching%20carri%C3%A8re/S23-B%20-%20Pr%C3%A9paration%20aux%20entretiens%20techniques/Machine%20Learning%20Flashcards/Standard_Error_Of_The_Mean_web.png>Standard_Error_Of_The_Mean_web.png</a>
            </li>
          </ul>
        
    
    
        
          
          <ul class="p-2">
            <li class="m-2 list-unstyled"><span class="far fa-file mr-1"></span>
                <a class="course-file" href=/courses/jedha-full-stack-24-program/S2.3%20--%20Coaching%20carri%C3%A8re/S23-B%20-%20Pr%C3%A9paration%20aux%20entretiens%20techniques/Machine%20Learning%20Flashcards/Standardization_web.png>Standardization_web.png</a>
            </li>
          </ul>
        
    
    
        
          
          <ul class="p-2">
            <li class="m-2 list-unstyled"><span class="far fa-file mr-1"></span>
                <a class="course-file" href=/courses/jedha-full-stack-24-program/S2.3%20--%20Coaching%20carri%C3%A8re/S23-B%20-%20Pr%C3%A9paration%20aux%20entretiens%20techniques/Machine%20Learning%20Flashcards/Stationary_Points_web.png>Stationary_Points_web.png</a>
            </li>
          </ul>
        
    
    
        
          
          <ul class="p-2">
            <li class="m-2 list-unstyled"><span class="far fa-file mr-1"></span>
                <a class="course-file" href=/courses/jedha-full-stack-24-program/S2.3%20--%20Coaching%20carri%C3%A8re/S23-B%20-%20Pr%C3%A9paration%20aux%20entretiens%20techniques/Machine%20Learning%20Flashcards/Stemming_Words_web.png>Stemming_Words_web.png</a>
            </li>
          </ul>
        
    
    
        
          
          <ul class="p-2">
            <li class="m-2 list-unstyled"><span class="far fa-file mr-1"></span>
                <a class="course-file" href=/courses/jedha-full-stack-24-program/S2.3%20--%20Coaching%20carri%C3%A8re/S23-B%20-%20Pr%C3%A9paration%20aux%20entretiens%20techniques/Machine%20Learning%20Flashcards/Stochastic_Gradient_Descent_web.png>Stochastic_Gradient_Descent_web.png</a>
            </li>
          </ul>
        
    
    
        
          
          <ul class="p-2">
            <li class="m-2 list-unstyled"><span class="far fa-file mr-1"></span>
                <a class="course-file" href=/courses/jedha-full-stack-24-program/S2.3%20--%20Coaching%20carri%C3%A8re/S23-B%20-%20Pr%C3%A9paration%20aux%20entretiens%20techniques/Machine%20Learning%20Flashcards/Stop_Words_web.png>Stop_Words_web.png</a>
            </li>
          </ul>
        
    
    
        
          
          <ul class="p-2">
            <li class="m-2 list-unstyled"><span class="far fa-file mr-1"></span>
                <a class="course-file" href=/courses/jedha-full-stack-24-program/S2.3%20--%20Coaching%20carri%C3%A8re/S23-B%20-%20Pr%C3%A9paration%20aux%20entretiens%20techniques/Machine%20Learning%20Flashcards/Strategies_For_Highly_Imbalanced_Classes_web.png>Strategies_For_Highly_Imbalanced_Classes_web.png</a>
            </li>
          </ul>
        
    
    
        
          
          <ul class="p-2">
            <li class="m-2 list-unstyled"><span class="far fa-file mr-1"></span>
                <a class="course-file" href=/courses/jedha-full-stack-24-program/S2.3%20--%20Coaching%20carri%C3%A8re/S23-B%20-%20Pr%C3%A9paration%20aux%20entretiens%20techniques/Machine%20Learning%20Flashcards/Strategies_When_You_Have_High_Variance_web.png>Strategies_When_You_Have_High_Variance_web.png</a>
            </li>
          </ul>
        
    
    
        
          
          <ul class="p-2">
            <li class="m-2 list-unstyled"><span class="far fa-file mr-1"></span>
                <a class="course-file" href=/courses/jedha-full-stack-24-program/S2.3%20--%20Coaching%20carri%C3%A8re/S23-B%20-%20Pr%C3%A9paration%20aux%20entretiens%20techniques/Machine%20Learning%20Flashcards/Supervised_Deep_Learning_Rule_Of_Thumb_web.png>Supervised_Deep_Learning_Rule_Of_Thumb_web.png</a>
            </li>
          </ul>
        
    
    
        
          
          <ul class="p-2">
            <li class="m-2 list-unstyled"><span class="far fa-file mr-1"></span>
                <a class="course-file" href=/courses/jedha-full-stack-24-program/S2.3%20--%20Coaching%20carri%C3%A8re/S23-B%20-%20Pr%C3%A9paration%20aux%20entretiens%20techniques/Machine%20Learning%20Flashcards/Supervised_Vs_Unsupervised_web.png>Supervised_Vs_Unsupervised_web.png</a>
            </li>
          </ul>
        
    
    
        
          
          <ul class="p-2">
            <li class="m-2 list-unstyled"><span class="far fa-file mr-1"></span>
                <a class="course-file" href=/courses/jedha-full-stack-24-program/S2.3%20--%20Coaching%20carri%C3%A8re/S23-B%20-%20Pr%C3%A9paration%20aux%20entretiens%20techniques/Machine%20Learning%20Flashcards/Support_Vector_Classifier_web.png>Support_Vector_Classifier_web.png</a>
            </li>
          </ul>
        
    
    
        
          
          <ul class="p-2">
            <li class="m-2 list-unstyled"><span class="far fa-file mr-1"></span>
                <a class="course-file" href=/courses/jedha-full-stack-24-program/S2.3%20--%20Coaching%20carri%C3%A8re/S23-B%20-%20Pr%C3%A9paration%20aux%20entretiens%20techniques/Machine%20Learning%20Flashcards/Support_Vector_Machine_Soft-Margin_Classification_web.png>Support_Vector_Machine_Soft-Margin_Classification_web.png</a>
            </li>
          </ul>
        
    
    
        
          
          <ul class="p-2">
            <li class="m-2 list-unstyled"><span class="far fa-file mr-1"></span>
                <a class="course-file" href=/courses/jedha-full-stack-24-program/S2.3%20--%20Coaching%20carri%C3%A8re/S23-B%20-%20Pr%C3%A9paration%20aux%20entretiens%20techniques/Machine%20Learning%20Flashcards/Support_Vectors_web.png>Support_Vectors_web.png</a>
            </li>
          </ul>
        
    
    
        
          
          <ul class="p-2">
            <li class="m-2 list-unstyled"><span class="far fa-file mr-1"></span>
                <a class="course-file" href=/courses/jedha-full-stack-24-program/S2.3%20--%20Coaching%20carri%C3%A8re/S23-B%20-%20Pr%C3%A9paration%20aux%20entretiens%20techniques/Machine%20Learning%20Flashcards/T-Statistic_web.png>T-Statistic_web.png</a>
            </li>
          </ul>
        
    
    
        
          
          <ul class="p-2">
            <li class="m-2 list-unstyled"><span class="far fa-file mr-1"></span>
                <a class="course-file" href=/courses/jedha-full-stack-24-program/S2.3%20--%20Coaching%20carri%C3%A8re/S23-B%20-%20Pr%C3%A9paration%20aux%20entretiens%20techniques/Machine%20Learning%20Flashcards/TF-IDF_web.png>TF-IDF_web.png</a>
            </li>
          </ul>
        
    
    
        
          
          <ul class="p-2">
            <li class="m-2 list-unstyled"><span class="far fa-file mr-1"></span>
                <a class="course-file" href=/courses/jedha-full-stack-24-program/S2.3%20--%20Coaching%20carri%C3%A8re/S23-B%20-%20Pr%C3%A9paration%20aux%20entretiens%20techniques/Machine%20Learning%20Flashcards/TanH_Activation_Function_web.png>TanH_Activation_Function_web.png</a>
            </li>
          </ul>
        
    
    
        
          
          <ul class="p-2">
            <li class="m-2 list-unstyled"><span class="far fa-file mr-1"></span>
                <a class="course-file" href=/courses/jedha-full-stack-24-program/S2.3%20--%20Coaching%20carri%C3%A8re/S23-B%20-%20Pr%C3%A9paration%20aux%20entretiens%20techniques/Machine%20Learning%20Flashcards/Tensors_web.png>Tensors_web.png</a>
            </li>
          </ul>
        
    
    
        
          
          <ul class="p-2">
            <li class="m-2 list-unstyled"><span class="far fa-file mr-1"></span>
                <a class="course-file" href=/courses/jedha-full-stack-24-program/S2.3%20--%20Coaching%20carri%C3%A8re/S23-B%20-%20Pr%C3%A9paration%20aux%20entretiens%20techniques/Machine%20Learning%20Flashcards/Test_Training_And_Validation_Sets_web.png>Test_Training_And_Validation_Sets_web.png</a>
            </li>
          </ul>
        
    
    
        
          
          <ul class="p-2">
            <li class="m-2 list-unstyled"><span class="far fa-file mr-1"></span>
                <a class="course-file" href=/courses/jedha-full-stack-24-program/S2.3%20--%20Coaching%20carri%C3%A8re/S23-B%20-%20Pr%C3%A9paration%20aux%20entretiens%20techniques/Machine%20Learning%20Flashcards/The_Effect_Of_Dropout_On_Hidden_Units_web.png>The_Effect_Of_Dropout_On_Hidden_Units_web.png</a>
            </li>
          </ul>
        
    
    
        
          
          <ul class="p-2">
            <li class="m-2 list-unstyled"><span class="far fa-file mr-1"></span>
                <a class="course-file" href=/courses/jedha-full-stack-24-program/S2.3%20--%20Coaching%20carri%C3%A8re/S23-B%20-%20Pr%C3%A9paration%20aux%20entretiens%20techniques/Machine%20Learning%20Flashcards/The_Effect_Of_Feature_Scaling_On_Gradient_Descent_web.png>The_Effect_Of_Feature_Scaling_On_Gradient_Descent_web.png</a>
            </li>
          </ul>
        
    
    
        
          
          <ul class="p-2">
            <li class="m-2 list-unstyled"><span class="far fa-file mr-1"></span>
                <a class="course-file" href=/courses/jedha-full-stack-24-program/S2.3%20--%20Coaching%20carri%C3%A8re/S23-B%20-%20Pr%C3%A9paration%20aux%20entretiens%20techniques/Machine%20Learning%20Flashcards/The_Effect_Of_Model_Complexity_On_Training_And_Test_Error_web.png>The_Effect_Of_Model_Complexity_On_Training_And_Test_Error_web.png</a>
            </li>
          </ul>
        
    
    
        
          
          <ul class="p-2">
            <li class="m-2 list-unstyled"><span class="far fa-file mr-1"></span>
                <a class="course-file" href=/courses/jedha-full-stack-24-program/S2.3%20--%20Coaching%20carri%C3%A8re/S23-B%20-%20Pr%C3%A9paration%20aux%20entretiens%20techniques/Machine%20Learning%20Flashcards/The_Random_In_Random_Forest_web.png>The_Random_In_Random_Forest_web.png</a>
            </li>
          </ul>
        
    
    
        
          
          <ul class="p-2">
            <li class="m-2 list-unstyled"><span class="far fa-file mr-1"></span>
                <a class="course-file" href=/courses/jedha-full-stack-24-program/S2.3%20--%20Coaching%20carri%C3%A8re/S23-B%20-%20Pr%C3%A9paration%20aux%20entretiens%20techniques/Machine%20Learning%20Flashcards/Therefore_And_Because_Notation_web.png>Therefore_And_Because_Notation_web.png</a>
            </li>
          </ul>
        
    
    
        
          
          <ul class="p-2">
            <li class="m-2 list-unstyled"><span class="far fa-file mr-1"></span>
                <a class="course-file" href=/courses/jedha-full-stack-24-program/S2.3%20--%20Coaching%20carri%C3%A8re/S23-B%20-%20Pr%C3%A9paration%20aux%20entretiens%20techniques/Machine%20Learning%20Flashcards/Threshold_Activation_web.png>Threshold_Activation_web.png</a>
            </li>
          </ul>
        
    
    
        
          
          <ul class="p-2">
            <li class="m-2 list-unstyled"><span class="far fa-file mr-1"></span>
                <a class="course-file" href=/courses/jedha-full-stack-24-program/S2.3%20--%20Coaching%20carri%C3%A8re/S23-B%20-%20Pr%C3%A9paration%20aux%20entretiens%20techniques/Machine%20Learning%20Flashcards/Thresholding_Categorical_Feature_Variance_web.png>Thresholding_Categorical_Feature_Variance_web.png</a>
            </li>
          </ul>
        
    
    
        
          
          <ul class="p-2">
            <li class="m-2 list-unstyled"><span class="far fa-file mr-1"></span>
                <a class="course-file" href=/courses/jedha-full-stack-24-program/S2.3%20--%20Coaching%20carri%C3%A8re/S23-B%20-%20Pr%C3%A9paration%20aux%20entretiens%20techniques/Machine%20Learning%20Flashcards/Tokenizing_Text_web.png>Tokenizing_Text_web.png</a>
            </li>
          </ul>
        
    
    
        
          
          <ul class="p-2">
            <li class="m-2 list-unstyled"><span class="far fa-file mr-1"></span>
                <a class="course-file" href=/courses/jedha-full-stack-24-program/S2.3%20--%20Coaching%20carri%C3%A8re/S23-B%20-%20Pr%C3%A9paration%20aux%20entretiens%20techniques/Machine%20Learning%20Flashcards/Tomek_Link_web.png>Tomek_Link_web.png</a>
            </li>
          </ul>
        
    
    
        
          
          <ul class="p-2">
            <li class="m-2 list-unstyled"><span class="far fa-file mr-1"></span>
                <a class="course-file" href=/courses/jedha-full-stack-24-program/S2.3%20--%20Coaching%20carri%C3%A8re/S23-B%20-%20Pr%C3%A9paration%20aux%20entretiens%20techniques/Machine%20Learning%20Flashcards/Total_Sum-Of-Squares_web.png>Total_Sum-Of-Squares_web.png</a>
            </li>
          </ul>
        
    
    
        
          
          <ul class="p-2">
            <li class="m-2 list-unstyled"><span class="far fa-file mr-1"></span>
                <a class="course-file" href=/courses/jedha-full-stack-24-program/S2.3%20--%20Coaching%20carri%C3%A8re/S23-B%20-%20Pr%C3%A9paration%20aux%20entretiens%20techniques/Machine%20Learning%20Flashcards/Training_And_Test_Error_web.png>Training_And_Test_Error_web.png</a>
            </li>
          </ul>
        
    
    
        
          
          <ul class="p-2">
            <li class="m-2 list-unstyled"><span class="far fa-file mr-1"></span>
                <a class="course-file" href=/courses/jedha-full-stack-24-program/S2.3%20--%20Coaching%20carri%C3%A8re/S23-B%20-%20Pr%C3%A9paration%20aux%20entretiens%20techniques/Machine%20Learning%20Flashcards/Training_Error_Rate_web.png>Training_Error_Rate_web.png</a>
            </li>
          </ul>
        
    
    
        
          
          <ul class="p-2">
            <li class="m-2 list-unstyled"><span class="far fa-file mr-1"></span>
                <a class="course-file" href=/courses/jedha-full-stack-24-program/S2.3%20--%20Coaching%20carri%C3%A8re/S23-B%20-%20Pr%C3%A9paration%20aux%20entretiens%20techniques/Machine%20Learning%20Flashcards/True_Positive_Rate_web.png>True_Positive_Rate_web.png</a>
            </li>
          </ul>
        
    
    
        
          
          <ul class="p-2">
            <li class="m-2 list-unstyled"><span class="far fa-file mr-1"></span>
                <a class="course-file" href=/courses/jedha-full-stack-24-program/S2.3%20--%20Coaching%20carri%C3%A8re/S23-B%20-%20Pr%C3%A9paration%20aux%20entretiens%20techniques/Machine%20Learning%20Flashcards/Typical_Dropout_Probabilities_web.png>Typical_Dropout_Probabilities_web.png</a>
            </li>
          </ul>
        
    
    
        
          
          <ul class="p-2">
            <li class="m-2 list-unstyled"><span class="far fa-file mr-1"></span>
                <a class="course-file" href=/courses/jedha-full-stack-24-program/S2.3%20--%20Coaching%20carri%C3%A8re/S23-B%20-%20Pr%C3%A9paration%20aux%20entretiens%20techniques/Machine%20Learning%20Flashcards/Underfitting_web.png>Underfitting_web.png</a>
            </li>
          </ul>
        
    
    
        
          
          <ul class="p-2">
            <li class="m-2 list-unstyled"><span class="far fa-file mr-1"></span>
                <a class="course-file" href=/courses/jedha-full-stack-24-program/S2.3%20--%20Coaching%20carri%C3%A8re/S23-B%20-%20Pr%C3%A9paration%20aux%20entretiens%20techniques/Machine%20Learning%20Flashcards/Underflow_web.png>Underflow_web.png</a>
            </li>
          </ul>
        
    
    
        
          
          <ul class="p-2">
            <li class="m-2 list-unstyled"><span class="far fa-file mr-1"></span>
                <a class="course-file" href=/courses/jedha-full-stack-24-program/S2.3%20--%20Coaching%20carri%C3%A8re/S23-B%20-%20Pr%C3%A9paration%20aux%20entretiens%20techniques/Machine%20Learning%20Flashcards/Uniform_Distribution_web.png>Uniform_Distribution_web.png</a>
            </li>
          </ul>
        
    
    
        
          
          <ul class="p-2">
            <li class="m-2 list-unstyled"><span class="far fa-file mr-1"></span>
                <a class="course-file" href=/courses/jedha-full-stack-24-program/S2.3%20--%20Coaching%20carri%C3%A8re/S23-B%20-%20Pr%C3%A9paration%20aux%20entretiens%20techniques/Machine%20Learning%20Flashcards/Unit-Step_Activation_Function_web.png>Unit-Step_Activation_Function_web.png</a>
            </li>
          </ul>
        
    
    
        
          
          <ul class="p-2">
            <li class="m-2 list-unstyled"><span class="far fa-file mr-1"></span>
                <a class="course-file" href=/courses/jedha-full-stack-24-program/S2.3%20--%20Coaching%20carri%C3%A8re/S23-B%20-%20Pr%C3%A9paration%20aux%20entretiens%20techniques/Machine%20Learning%20Flashcards/Upsampling_web.png>Upsampling_web.png</a>
            </li>
          </ul>
        
    
    
        
          
          <ul class="p-2">
            <li class="m-2 list-unstyled"><span class="far fa-file mr-1"></span>
                <a class="course-file" href=/courses/jedha-full-stack-24-program/S2.3%20--%20Coaching%20carri%C3%A8re/S23-B%20-%20Pr%C3%A9paration%20aux%20entretiens%20techniques/Machine%20Learning%20Flashcards/Validation_Curve_web.png>Validation_Curve_web.png</a>
            </li>
          </ul>
        
    
    
        
          
          <ul class="p-2">
            <li class="m-2 list-unstyled"><span class="far fa-file mr-1"></span>
                <a class="course-file" href=/courses/jedha-full-stack-24-program/S2.3%20--%20Coaching%20carri%C3%A8re/S23-B%20-%20Pr%C3%A9paration%20aux%20entretiens%20techniques/Machine%20Learning%20Flashcards/Vanishing_Gradient_Problem_web.png>Vanishing_Gradient_Problem_web.png</a>
            </li>
          </ul>
        
    
    
        
          
          <ul class="p-2">
            <li class="m-2 list-unstyled"><span class="far fa-file mr-1"></span>
                <a class="course-file" href=/courses/jedha-full-stack-24-program/S2.3%20--%20Coaching%20carri%C3%A8re/S23-B%20-%20Pr%C3%A9paration%20aux%20entretiens%20techniques/Machine%20Learning%20Flashcards/Variance_Inflation_Factor_web.png>Variance_Inflation_Factor_web.png</a>
            </li>
          </ul>
        
    
    
        
          
          <ul class="p-2">
            <li class="m-2 list-unstyled"><span class="far fa-file mr-1"></span>
                <a class="course-file" href=/courses/jedha-full-stack-24-program/S2.3%20--%20Coaching%20carri%C3%A8re/S23-B%20-%20Pr%C3%A9paration%20aux%20entretiens%20techniques/Machine%20Learning%20Flashcards/Variance_Thresholding_For_Feature_Selection_web.png>Variance_Thresholding_For_Feature_Selection_web.png</a>
            </li>
          </ul>
        
    
    
        
          
          <ul class="p-2">
            <li class="m-2 list-unstyled"><span class="far fa-file mr-1"></span>
                <a class="course-file" href=/courses/jedha-full-stack-24-program/S2.3%20--%20Coaching%20carri%C3%A8re/S23-B%20-%20Pr%C3%A9paration%20aux%20entretiens%20techniques/Machine%20Learning%20Flashcards/Variance_web.png>Variance_web.png</a>
            </li>
          </ul>
        
    
    
        
          
          <ul class="p-2">
            <li class="m-2 list-unstyled"><span class="far fa-file mr-1"></span>
                <a class="course-file" href=/courses/jedha-full-stack-24-program/S2.3%20--%20Coaching%20carri%C3%A8re/S23-B%20-%20Pr%C3%A9paration%20aux%20entretiens%20techniques/Machine%20Learning%20Flashcards/Vectors_web.png>Vectors_web.png</a>
            </li>
          </ul>
        
    
    
        
          
          <ul class="p-2">
            <li class="m-2 list-unstyled"><span class="far fa-file mr-1"></span>
                <a class="course-file" href=/courses/jedha-full-stack-24-program/S2.3%20--%20Coaching%20carri%C3%A8re/S23-B%20-%20Pr%C3%A9paration%20aux%20entretiens%20techniques/Machine%20Learning%20Flashcards/Visualizing_RSS_web.png>Visualizing_RSS_web.png</a>
            </li>
          </ul>
        
    
    
        
          
          <ul class="p-2">
            <li class="m-2 list-unstyled"><span class="far fa-file mr-1"></span>
                <a class="course-file" href=/courses/jedha-full-stack-24-program/S2.3%20--%20Coaching%20carri%C3%A8re/S23-B%20-%20Pr%C3%A9paration%20aux%20entretiens%20techniques/Machine%20Learning%20Flashcards/Weak_Learners_web.png>Weak_Learners_web.png</a>
            </li>
          </ul>
        
    
    
        
          
          <ul class="p-2">
            <li class="m-2 list-unstyled"><span class="far fa-file mr-1"></span>
                <a class="course-file" href=/courses/jedha-full-stack-24-program/S2.3%20--%20Coaching%20carri%C3%A8re/S23-B%20-%20Pr%C3%A9paration%20aux%20entretiens%20techniques/Machine%20Learning%20Flashcards/Weight_Decay_web.png>Weight_Decay_web.png</a>
            </li>
          </ul>
        
    
    
        
          
          <ul class="p-2">
            <li class="m-2 list-unstyled"><span class="far fa-file mr-1"></span>
                <a class="course-file" href=/courses/jedha-full-stack-24-program/S2.3%20--%20Coaching%20carri%C3%A8re/S23-B%20-%20Pr%C3%A9paration%20aux%20entretiens%20techniques/Machine%20Learning%20Flashcards/When_Can_We_Delete_Observations_With_Missing_Values_web.png>When_Can_We_Delete_Observations_With_Missing_Values_web.png</a>
            </li>
          </ul>
        
    
    
        
          
          <ul class="p-2">
            <li class="m-2 list-unstyled"><span class="far fa-file mr-1"></span>
                <a class="course-file" href=/courses/jedha-full-stack-24-program/S2.3%20--%20Coaching%20carri%C3%A8re/S23-B%20-%20Pr%C3%A9paration%20aux%20entretiens%20techniques/Machine%20Learning%20Flashcards/When_N_Equals_Population_web.png>When_N_Equals_Population_web.png</a>
            </li>
          </ul>
        
    
    
        
          
          <ul class="p-2">
            <li class="m-2 list-unstyled"><span class="far fa-file mr-1"></span>
                <a class="course-file" href=/courses/jedha-full-stack-24-program/S2.3%20--%20Coaching%20carri%C3%A8re/S23-B%20-%20Pr%C3%A9paration%20aux%20entretiens%20techniques/Machine%20Learning%20Flashcards/Why_Is_It_Called_A_Cost_Function_web.png>Why_Is_It_Called_A_Cost_Function_web.png</a>
            </li>
          </ul>
        
    
    
        
          
          <ul class="p-2">
            <li class="m-2 list-unstyled"><span class="far fa-file mr-1"></span>
                <a class="course-file" href=/courses/jedha-full-stack-24-program/S2.3%20--%20Coaching%20carri%C3%A8re/S23-B%20-%20Pr%C3%A9paration%20aux%20entretiens%20techniques/Machine%20Learning%20Flashcards/Word2Vec_web.png>Word2Vec_web.png</a>
            </li>
          </ul>
        
    
    
        
          
          <ul class="p-2">
            <li class="m-2 list-unstyled"><span class="far fa-file mr-1"></span>
                <a class="course-file" href=/courses/jedha-full-stack-24-program/S2.3%20--%20Coaching%20carri%C3%A8re/S23-B%20-%20Pr%C3%A9paration%20aux%20entretiens%20techniques/Machine%20Learning%20Flashcards/XOR_Function_web.png>XOR_Function_web.png</a>
            </li>
          </ul>
        
    
    
        
          
          <ul class="p-2">
            <li class="m-2 list-unstyled"><span class="far fa-file mr-1"></span>
                <a class="course-file" href=/courses/jedha-full-stack-24-program/S2.3%20--%20Coaching%20carri%C3%A8re/S23-B%20-%20Pr%C3%A9paration%20aux%20entretiens%20techniques/Machine%20Learning%20Flashcards/Youdens_J_Statistic_web.png>Youdens_J_Statistic_web.png</a>
            </li>
          </ul>
        
    
    
        
          
          <ul class="p-2">
            <li class="m-2 list-unstyled"><span class="far fa-file mr-1"></span>
                <a class="course-file" href=/courses/jedha-full-stack-24-program/S2.3%20--%20Coaching%20carri%C3%A8re/S23-B%20-%20Pr%C3%A9paration%20aux%20entretiens%20techniques/Machine%20Learning%20Flashcards/Zero-One_Loss_web.png>Zero-One_Loss_web.png</a>
            </li>
          </ul>
        
    
    
        
          
          <ul class="p-2">
            <li class="m-2 list-unstyled"><span class="far fa-file mr-1"></span>
                <a class="course-file" href=/courses/jedha-full-stack-24-program/S2.3%20--%20Coaching%20carri%C3%A8re/S23-B%20-%20Pr%C3%A9paration%20aux%20entretiens%20techniques/Machine%20Learning%20Flashcards/k-Nearest_Neighbors_web.png>k-Nearest_Neighbors_web.png</a>
            </li>
          </ul>
        
    </ul>
        
    </ul>
        
    </ul>
        
    
    
        
          <ul class="p-0 mt-4">
            <button class="btn m-0 p-0 col-12" data-toggle="collapse" data-target="#course_s24--projetsfinaux" role="button" aria-expanded="false" aria-controls="course_s24--projetsfinaux">
              
                <span class="pl-5 pr-5 pt-3 pb-3 d-flex flex-row justify-content-between child-folders">
              
                <span>S2.4 -- Projets finaux</span>
                <i class="fas fa-sort-down"></i>
              </span>
            </button>
          </ul>
          <ul class ="collapse" id="course_s24--projetsfinaux"> 
    
        
          <ul class="p-0 mt-4">
            <button class="btn m-0 p-0 col-12" data-toggle="collapse" data-target="#course_listedesourcesdedonnées" role="button" aria-expanded="false" aria-controls="course_listedesourcesdedonnées">
              
                <span class="pl-5 pr-5 pt-3 pb-3 d-flex flex-row justify-content-between parent-folder">
              
                <span>Liste de sources de données</span>
                <i class="fas fa-sort-down"></i>
              </span>
            </button>
          </ul>
          <ul class ="collapse" id="course_listedesourcesdedonnées"> 
    
        
          
          <ul class="p-2">
            <li class="m-2 list-unstyled"><span class="far fa-file mr-1"></span>
                <a class="course-file" href=/courses/jedha-full-stack-24-program/S2.4%20--%20Projets%20finaux/Liste%20de%20sources%20de%20donn%C3%A9es/README.md>README.md</a>
            </li>
          </ul>
        
    </ul>
        
    
    
        
          
          <ul class="p-2">
            <li class="m-2 list-unstyled"><span class="far fa-file mr-1"></span>
                <a class="course-file" href=/courses/jedha-full-stack-24-program/S2.4%20--%20Projets%20finaux/README.md>README.md</a>
            </li>
          </ul>
        
    </ul>
        
    
  </ul>
</div>

<div class="course-content p-5 mt-4">
  <div class="cell border-box-sizing text_cell rendered"><div class="prompt input_prompt">
</div><div class="inner_cell">
<div class="text_cell_render border-box-sizing rendered_html">
<h1 id="Construire-un-quiz">Construire un quiz<a class="anchor-link" href="#Construire-un-quiz">&#182;</a></h1><hr>

</div>
</div>
</div>
<div class="cell border-box-sizing text_cell rendered"><div class="prompt input_prompt">
</div><div class="inner_cell">
<div class="text_cell_render border-box-sizing rendered_html">
<p><em>Un bon moyen de pratiquer les conditions est de construire un quiz. Faisons le étape par étape</em></p>

</div>
</div>
</div>
<div class="cell border-box-sizing text_cell rendered"><div class="prompt input_prompt">
</div><div class="inner_cell">
<div class="text_cell_render border-box-sizing rendered_html">

<pre><code>1. Posez une question à l’utilisateur via la console 
2. Vérifier que la réponse de l’utilisateur soit vraie ou fausse
3. Si la réponse est vraie, la console devra sortir : 

</code></pre>

<pre><code>Bravo, c’est la bonne réponse</code></pre>

<pre><code>4. Si la réponse est fausse, la console devra sortir :

</code></pre>

<pre><code>Dommage, ce n’est pas la bonne réponse</code></pre>

<pre><code>5. Posez 3 autres questions sur le même modèle</code></pre>

</div>
</div>
</div>
<div class="cell border-box-sizing code_cell rendered">
<div class="input">
<div class="prompt input_prompt">In&nbsp;[2]:</div>
<div class="inner_cell">
    <div class="input_area">
<div class=" highlight hl-ipython3"><pre><span></span>
</pre></div>

    </div>
</div>
</div>

<div class="output_wrapper">
<div class="output">


<div class="output_area">

    <div class="prompt"></div>


<div class="output_subarea output_stream output_stdout output_text">
<pre>Voici notre quiz
Combien de fois la France a gagné la coupe du monde ?4
Dommage, ce n’est pas la bonne réponse
Quand a été fondé Apple ?1980
Dommage, ce n’est pas la bonne réponse
Qui a fondé SpaceXelon musk
Bravo, c’est la bonne réponse
</pre>
</div>
</div>

</div>
</div>

</div>
<div class="cell border-box-sizing text_cell rendered"><div class="prompt input_prompt">
</div><div class="inner_cell">
<div class="text_cell_render border-box-sizing rendered_html">
<p>Nous avons un problème avec notre quiz. Si l’utilisateur n’a pas donné la bonne réponse, le programme passe à la question suivante. On souhaite plutôt que le programme repose la question si l’utilisateur n’a pas donné la bonne réponse</p>

<pre><code>6. En utilisant une boucle WHILE, faites en sorte que le programme repose la question à l’utilisateur s’il n’a pas donné la bonne réponse

7. Réécrivez votre programme pour toutes les autres questions</code></pre>

</div>
</div>
</div>
<div class="cell border-box-sizing code_cell rendered">
<div class="input">
<div class="prompt input_prompt">In&nbsp;[1]:</div>
<div class="inner_cell">
    <div class="input_area">
<div class=" highlight hl-ipython3"><pre><span></span>
</pre></div>

    </div>
</div>
</div>

<div class="output_wrapper">
<div class="output">


<div class="output_area">

    <div class="prompt"></div>


<div class="output_subarea output_stream output_stdout output_text">
<pre>Voici notre quiz
Combien de fois la France a gagné la coupe du monde ?4
Combien de fois la France a gagné la coupe du monde ?4
Combien de fois la France a gagné la coupe du monde ?2
Quand a été fondé Apple1976
Qui a fondé SpaceXelon musk
Bravo ! Tu as gagné le quiz !
</pre>
</div>
</div>

</div>
</div>

</div>
<div class="cell border-box-sizing text_cell rendered"><div class="prompt input_prompt">
</div><div class="inner_cell">
<div class="text_cell_render border-box-sizing rendered_html">
<p>Maintenant, nous avons un dernier problème. On voudrait que l’utilisateur n’ait que 3 chances pour réussir le quiz</p>

<pre><code>1. Améliorer votre programme pour que l’utilisateur n’ait que 3 chances pour réussir le quiz. Si l’utilisateur a répondu faux plus de 3 alors la console devra sortir “Dommage tu as perdu le jeu” et sortir du programme.</code></pre>

</div>
</div>
</div>
<div class="cell border-box-sizing code_cell rendered">
<div class="input">
<div class="prompt input_prompt">In&nbsp;[0]:</div>
<div class="inner_cell">
    <div class="input_area">
<div class=" highlight hl-ipython3"><pre><span></span>
</pre></div>

    </div>
</div>
</div>

<div class="output_wrapper">
<div class="output">


<div class="output_area">

    <div class="prompt"></div>


<div class="output_subarea output_stream output_stdout output_text">
<pre>Voici notre quiz, tu as trois chances !
Combien de fois la France a gagné la coupe du monde ?2
Quand a été fondé Applelol
Dommage ! Il te reste 2 chances
Quand a été fondé Apple ?1976
Qui a fondé SpaceXElon Musk
Bravo ! Tu as gagné le quiz !
</pre>
</div>
</div>

</div>
</div>

</div>
<div class="cell border-box-sizing code_cell rendered">
<div class="input">
<div class="prompt input_prompt">In&nbsp;[0]:</div>
<div class="inner_cell">
    <div class="input_area">
<div class=" highlight hl-ipython3"><pre><span></span>
</pre></div>

    </div>
</div>
</div>

</div>
 


</div>

      </div>
  </body>

  <!-- jQuery CDN - Slim version (=without AJAX) -->
  <script src="https://code.jquery.com/jquery-3.3.1.slim.min.js" integrity="sha384-q8i/X+965DzO0rT7abK41JStQIAqVgRVzpbzo5smXKp4YfRvH+8abtTE1Pi6jizo" crossorigin="anonymous"></script>
  <script src="/static/animation.js"></script>

</html>