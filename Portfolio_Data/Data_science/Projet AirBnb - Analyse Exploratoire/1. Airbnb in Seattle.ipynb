{
 "cells": [
  {
   "cell_type": "markdown",
   "metadata": {
    "colab_type": "text",
    "id": "DfGRSwmleSZs"
   },
   "source": [
    "# Airbnb in Seattle "
   ]
  },
  {
   "cell_type": "markdown",
   "metadata": {
    "colab_type": "text",
    "id": "sJBMrcAKkIN0"
   },
   "source": [
    "**1. Import des librairies** \n",
    "\n",
    "Pandas pour l'analyse des données et la manipulation de celle-ci\n",
    "Matplotlib et seaborn afin de visualiser les données"
   ]
  },
  {
   "cell_type": "code",
   "execution_count": 1,
   "metadata": {
    "colab": {},
    "colab_type": "code",
    "id": "tHNZ8x8peMnT"
   },
   "outputs": [],
   "source": [
    "import pandas as pd\n",
    "import matplotlib as plt\n",
    "import seaborn as sns\n"
   ]
  },
  {
   "cell_type": "markdown",
   "metadata": {},
   "source": [
    "#### 2. Import des données (format csv)"
   ]
  },
  {
   "cell_type": "code",
   "execution_count": 2,
   "metadata": {},
   "outputs": [],
   "source": [
    "listings = pd.read_csv('listings.csv')\n",
    "reviews = pd.read_csv('reviews.csv')"
   ]
  },
  {
   "cell_type": "markdown",
   "metadata": {},
   "source": [
    "#### 3. Observations des colonnes "
   ]
  },
  {
   "cell_type": "code",
   "execution_count": 3,
   "metadata": {},
   "outputs": [
    {
     "data": {
      "text/plain": [
       "Index(['id', 'listing_url', 'scrape_id', 'last_scraped', 'name', 'summary',\n",
       "       'space', 'description', 'experiences_offered', 'neighborhood_overview',\n",
       "       'notes', 'transit', 'thumbnail_url', 'medium_url', 'picture_url',\n",
       "       'xl_picture_url', 'host_id', 'host_url', 'host_name', 'host_since',\n",
       "       'host_location', 'host_about', 'host_response_time',\n",
       "       'host_response_rate', 'host_acceptance_rate', 'host_is_superhost',\n",
       "       'host_thumbnail_url', 'host_picture_url', 'host_neighbourhood',\n",
       "       'host_listings_count', 'host_total_listings_count',\n",
       "       'host_verifications', 'host_has_profile_pic', 'host_identity_verified',\n",
       "       'street', 'neighbourhood', 'neighbourhood_cleansed',\n",
       "       'neighbourhood_group_cleansed', 'city', 'state', 'zipcode', 'market',\n",
       "       'smart_location', 'country_code', 'country', 'latitude', 'longitude',\n",
       "       'is_location_exact', 'property_type', 'room_type', 'accommodates',\n",
       "       'bathrooms', 'bedrooms', 'beds', 'bed_type', 'amenities', 'square_feet',\n",
       "       'price', 'weekly_price', 'monthly_price', 'security_deposit',\n",
       "       'cleaning_fee', 'guests_included', 'extra_people', 'minimum_nights',\n",
       "       'maximum_nights', 'calendar_updated', 'has_availability',\n",
       "       'availability_30', 'availability_60', 'availability_90',\n",
       "       'availability_365', 'calendar_last_scraped', 'number_of_reviews',\n",
       "       'first_review', 'last_review', 'review_scores_rating',\n",
       "       'review_scores_accuracy', 'review_scores_cleanliness',\n",
       "       'review_scores_checkin', 'review_scores_communication',\n",
       "       'review_scores_location', 'review_scores_value', 'requires_license',\n",
       "       'license', 'jurisdiction_names', 'instant_bookable',\n",
       "       'cancellation_policy', 'require_guest_profile_picture',\n",
       "       'require_guest_phone_verification', 'calculated_host_listings_count',\n",
       "       'reviews_per_month'],\n",
       "      dtype='object')"
      ]
     },
     "execution_count": 3,
     "metadata": {},
     "output_type": "execute_result"
    }
   ],
   "source": [
    "listings.columns"
   ]
  },
  {
   "cell_type": "code",
   "execution_count": 4,
   "metadata": {},
   "outputs": [
    {
     "data": {
      "text/plain": [
       "Index(['listing_id', 'id', 'date', 'reviewer_id', 'reviewer_name', 'comments'], dtype='object')"
      ]
     },
     "execution_count": 4,
     "metadata": {},
     "output_type": "execute_result"
    }
   ],
   "source": [
    "reviews.columns"
   ]
  },
  {
   "cell_type": "markdown",
   "metadata": {
    "colab_type": "text",
    "id": "JIG0iPyskMrM"
   },
   "source": [
    "**4. Jointure des deux dataset`**"
   ]
  },
  {
   "cell_type": "code",
   "execution_count": 5,
   "metadata": {},
   "outputs": [],
   "source": [
    "df_merged = listings.merge(reviews, left_on='id',right_on='listing_id')"
   ]
  },
  {
   "cell_type": "code",
   "execution_count": 6,
   "metadata": {},
   "outputs": [
    {
     "data": {
      "text/plain": [
       "(84849, 98)"
      ]
     },
     "execution_count": 6,
     "metadata": {},
     "output_type": "execute_result"
    }
   ],
   "source": [
    "df_merged.shape"
   ]
  },
  {
   "cell_type": "code",
   "execution_count": 7,
   "metadata": {},
   "outputs": [
    {
     "data": {
      "text/html": [
       "<div>\n",
       "<style scoped>\n",
       "    .dataframe tbody tr th:only-of-type {\n",
       "        vertical-align: middle;\n",
       "    }\n",
       "\n",
       "    .dataframe tbody tr th {\n",
       "        vertical-align: top;\n",
       "    }\n",
       "\n",
       "    .dataframe thead th {\n",
       "        text-align: right;\n",
       "    }\n",
       "</style>\n",
       "<table border=\"1\" class=\"dataframe\">\n",
       "  <thead>\n",
       "    <tr style=\"text-align: right;\">\n",
       "      <th></th>\n",
       "      <th>id_x</th>\n",
       "      <th>listing_url</th>\n",
       "      <th>scrape_id</th>\n",
       "      <th>last_scraped</th>\n",
       "      <th>name</th>\n",
       "      <th>summary</th>\n",
       "      <th>space</th>\n",
       "      <th>description</th>\n",
       "      <th>experiences_offered</th>\n",
       "      <th>neighborhood_overview</th>\n",
       "      <th>...</th>\n",
       "      <th>require_guest_profile_picture</th>\n",
       "      <th>require_guest_phone_verification</th>\n",
       "      <th>calculated_host_listings_count</th>\n",
       "      <th>reviews_per_month</th>\n",
       "      <th>listing_id</th>\n",
       "      <th>id_y</th>\n",
       "      <th>date</th>\n",
       "      <th>reviewer_id</th>\n",
       "      <th>reviewer_name</th>\n",
       "      <th>comments</th>\n",
       "    </tr>\n",
       "  </thead>\n",
       "  <tbody>\n",
       "    <tr>\n",
       "      <th>0</th>\n",
       "      <td>241032</td>\n",
       "      <td>https://www.airbnb.com/rooms/241032</td>\n",
       "      <td>20160104002432</td>\n",
       "      <td>2016-01-04</td>\n",
       "      <td>Stylish Queen Anne Apartment</td>\n",
       "      <td>NaN</td>\n",
       "      <td>Make your self at home in this charming one-be...</td>\n",
       "      <td>Make your self at home in this charming one-be...</td>\n",
       "      <td>none</td>\n",
       "      <td>NaN</td>\n",
       "      <td>...</td>\n",
       "      <td>f</td>\n",
       "      <td>f</td>\n",
       "      <td>2</td>\n",
       "      <td>4.07</td>\n",
       "      <td>241032</td>\n",
       "      <td>682061</td>\n",
       "      <td>2011-11-01</td>\n",
       "      <td>479824</td>\n",
       "      <td>Bro</td>\n",
       "      <td>Excellent all the way around. \\n\\nMaija was an...</td>\n",
       "    </tr>\n",
       "    <tr>\n",
       "      <th>1</th>\n",
       "      <td>241032</td>\n",
       "      <td>https://www.airbnb.com/rooms/241032</td>\n",
       "      <td>20160104002432</td>\n",
       "      <td>2016-01-04</td>\n",
       "      <td>Stylish Queen Anne Apartment</td>\n",
       "      <td>NaN</td>\n",
       "      <td>Make your self at home in this charming one-be...</td>\n",
       "      <td>Make your self at home in this charming one-be...</td>\n",
       "      <td>none</td>\n",
       "      <td>NaN</td>\n",
       "      <td>...</td>\n",
       "      <td>f</td>\n",
       "      <td>f</td>\n",
       "      <td>2</td>\n",
       "      <td>4.07</td>\n",
       "      <td>241032</td>\n",
       "      <td>691712</td>\n",
       "      <td>2011-11-04</td>\n",
       "      <td>357699</td>\n",
       "      <td>Megan</td>\n",
       "      <td>Maija's apartment was a wonderful place to sta...</td>\n",
       "    </tr>\n",
       "    <tr>\n",
       "      <th>2</th>\n",
       "      <td>241032</td>\n",
       "      <td>https://www.airbnb.com/rooms/241032</td>\n",
       "      <td>20160104002432</td>\n",
       "      <td>2016-01-04</td>\n",
       "      <td>Stylish Queen Anne Apartment</td>\n",
       "      <td>NaN</td>\n",
       "      <td>Make your self at home in this charming one-be...</td>\n",
       "      <td>Make your self at home in this charming one-be...</td>\n",
       "      <td>none</td>\n",
       "      <td>NaN</td>\n",
       "      <td>...</td>\n",
       "      <td>f</td>\n",
       "      <td>f</td>\n",
       "      <td>2</td>\n",
       "      <td>4.07</td>\n",
       "      <td>241032</td>\n",
       "      <td>702999</td>\n",
       "      <td>2011-11-08</td>\n",
       "      <td>1285567</td>\n",
       "      <td>Marylee</td>\n",
       "      <td>one of the most pleasant stays i've had in my ...</td>\n",
       "    </tr>\n",
       "  </tbody>\n",
       "</table>\n",
       "<p>3 rows × 98 columns</p>\n",
       "</div>"
      ],
      "text/plain": [
       "     id_x                          listing_url       scrape_id last_scraped  \\\n",
       "0  241032  https://www.airbnb.com/rooms/241032  20160104002432   2016-01-04   \n",
       "1  241032  https://www.airbnb.com/rooms/241032  20160104002432   2016-01-04   \n",
       "2  241032  https://www.airbnb.com/rooms/241032  20160104002432   2016-01-04   \n",
       "\n",
       "                           name summary  \\\n",
       "0  Stylish Queen Anne Apartment     NaN   \n",
       "1  Stylish Queen Anne Apartment     NaN   \n",
       "2  Stylish Queen Anne Apartment     NaN   \n",
       "\n",
       "                                               space  \\\n",
       "0  Make your self at home in this charming one-be...   \n",
       "1  Make your self at home in this charming one-be...   \n",
       "2  Make your self at home in this charming one-be...   \n",
       "\n",
       "                                         description experiences_offered  \\\n",
       "0  Make your self at home in this charming one-be...                none   \n",
       "1  Make your self at home in this charming one-be...                none   \n",
       "2  Make your self at home in this charming one-be...                none   \n",
       "\n",
       "  neighborhood_overview  ... require_guest_profile_picture  \\\n",
       "0                   NaN  ...                             f   \n",
       "1                   NaN  ...                             f   \n",
       "2                   NaN  ...                             f   \n",
       "\n",
       "  require_guest_phone_verification calculated_host_listings_count  \\\n",
       "0                                f                              2   \n",
       "1                                f                              2   \n",
       "2                                f                              2   \n",
       "\n",
       "  reviews_per_month listing_id    id_y        date reviewer_id reviewer_name  \\\n",
       "0              4.07     241032  682061  2011-11-01      479824           Bro   \n",
       "1              4.07     241032  691712  2011-11-04      357699         Megan   \n",
       "2              4.07     241032  702999  2011-11-08     1285567       Marylee   \n",
       "\n",
       "                                            comments  \n",
       "0  Excellent all the way around. \\n\\nMaija was an...  \n",
       "1  Maija's apartment was a wonderful place to sta...  \n",
       "2  one of the most pleasant stays i've had in my ...  \n",
       "\n",
       "[3 rows x 98 columns]"
      ]
     },
     "execution_count": 7,
     "metadata": {},
     "output_type": "execute_result"
    }
   ],
   "source": [
    "df_merged[:3]"
   ]
  },
  {
   "cell_type": "markdown",
   "metadata": {
    "colab_type": "text",
    "id": "nV5HsfWbqDcY"
   },
   "source": [
    "**5. Essayons de voir ce qui influence le prix d'un appartement Airbnb à Seattle** \n",
    "\n",
    "**Observons la distribution des prix** "
   ]
  },
  {
   "cell_type": "code",
   "execution_count": 8,
   "metadata": {
    "colab": {
     "base_uri": "https://localhost:8080/",
     "height": 301
    },
    "colab_type": "code",
    "id": "MkKMyDUtqpx3",
    "outputId": "b2c9c3d9-b173-4264-fec9-0c6a6921e827"
   },
   "outputs": [
    {
     "data": {
      "text/plain": [
       "0    $85.00\n",
       "1    $85.00\n",
       "2    $85.00\n",
       "3    $85.00\n",
       "4    $85.00\n",
       "5    $85.00\n",
       "6    $85.00\n",
       "7    $85.00\n",
       "8    $85.00\n",
       "9    $85.00\n",
       "Name: price, dtype: object"
      ]
     },
     "execution_count": 8,
     "metadata": {},
     "output_type": "execute_result"
    }
   ],
   "source": [
    "df_merged.price[:10]"
   ]
  },
  {
   "cell_type": "markdown",
   "metadata": {},
   "source": [
    "###### La variable prix est de type \"object\", faisons une focntion one shot afin de la transformer en float. Cela nous permettra de suivre la variation \"Price\" de manière quantitative"
   ]
  },
  {
   "cell_type": "code",
   "execution_count": 9,
   "metadata": {},
   "outputs": [],
   "source": [
    "df_merged.price = df_merged.price.apply(lambda x: float(x[1:].replace(\",\",\"\")))"
   ]
  },
  {
   "cell_type": "markdown",
   "metadata": {
    "colab_type": "text",
    "id": "tFHNdowXsWxI"
   },
   "source": [
    "##### 8.On voit très clairement des outliers dans ces prix. Nous allons créer un nouveau dataset afin de tronquer les outliers"
   ]
  },
  {
   "cell_type": "code",
   "execution_count": 10,
   "metadata": {},
   "outputs": [],
   "source": [
    "avg_merged = df_merged[df_merged.price <= 400]"
   ]
  },
  {
   "cell_type": "code",
   "execution_count": 11,
   "metadata": {},
   "outputs": [
    {
     "data": {
      "text/html": [
       "<div>\n",
       "<style scoped>\n",
       "    .dataframe tbody tr th:only-of-type {\n",
       "        vertical-align: middle;\n",
       "    }\n",
       "\n",
       "    .dataframe tbody tr th {\n",
       "        vertical-align: top;\n",
       "    }\n",
       "\n",
       "    .dataframe thead th {\n",
       "        text-align: right;\n",
       "    }\n",
       "</style>\n",
       "<table border=\"1\" class=\"dataframe\">\n",
       "  <thead>\n",
       "    <tr style=\"text-align: right;\">\n",
       "      <th></th>\n",
       "      <th>id_x</th>\n",
       "      <th>scrape_id</th>\n",
       "      <th>host_id</th>\n",
       "      <th>host_listings_count</th>\n",
       "      <th>host_total_listings_count</th>\n",
       "      <th>latitude</th>\n",
       "      <th>longitude</th>\n",
       "      <th>accommodates</th>\n",
       "      <th>bathrooms</th>\n",
       "      <th>bedrooms</th>\n",
       "      <th>...</th>\n",
       "      <th>review_scores_checkin</th>\n",
       "      <th>review_scores_communication</th>\n",
       "      <th>review_scores_location</th>\n",
       "      <th>review_scores_value</th>\n",
       "      <th>license</th>\n",
       "      <th>calculated_host_listings_count</th>\n",
       "      <th>reviews_per_month</th>\n",
       "      <th>listing_id</th>\n",
       "      <th>id_y</th>\n",
       "      <th>reviewer_id</th>\n",
       "    </tr>\n",
       "  </thead>\n",
       "  <tbody>\n",
       "    <tr>\n",
       "      <th>count</th>\n",
       "      <td>8.427600e+04</td>\n",
       "      <td>8.427600e+04</td>\n",
       "      <td>8.427600e+04</td>\n",
       "      <td>84276.000000</td>\n",
       "      <td>84276.000000</td>\n",
       "      <td>84276.000000</td>\n",
       "      <td>84276.000000</td>\n",
       "      <td>84276.000000</td>\n",
       "      <td>83667.000000</td>\n",
       "      <td>83986.000000</td>\n",
       "      <td>...</td>\n",
       "      <td>84243.000000</td>\n",
       "      <td>84252.000000</td>\n",
       "      <td>84246.000000</td>\n",
       "      <td>84245.000000</td>\n",
       "      <td>0.0</td>\n",
       "      <td>84276.000000</td>\n",
       "      <td>84276.000000</td>\n",
       "      <td>8.427600e+04</td>\n",
       "      <td>8.427600e+04</td>\n",
       "      <td>8.427600e+04</td>\n",
       "    </tr>\n",
       "    <tr>\n",
       "      <th>mean</th>\n",
       "      <td>3.000882e+06</td>\n",
       "      <td>2.016010e+13</td>\n",
       "      <td>9.285215e+06</td>\n",
       "      <td>4.142567</td>\n",
       "      <td>4.142567</td>\n",
       "      <td>47.626526</td>\n",
       "      <td>-122.333485</td>\n",
       "      <td>3.070127</td>\n",
       "      <td>1.157213</td>\n",
       "      <td>1.133713</td>\n",
       "      <td>...</td>\n",
       "      <td>9.865247</td>\n",
       "      <td>9.870769</td>\n",
       "      <td>9.599269</td>\n",
       "      <td>9.501941</td>\n",
       "      <td>NaN</td>\n",
       "      <td>2.273969</td>\n",
       "      <td>3.624716</td>\n",
       "      <td>3.000882e+06</td>\n",
       "      <td>3.057100e+07</td>\n",
       "      <td>1.701100e+07</td>\n",
       "    </tr>\n",
       "    <tr>\n",
       "      <th>std</th>\n",
       "      <td>2.472995e+06</td>\n",
       "      <td>4.114087e+01</td>\n",
       "      <td>1.017225e+07</td>\n",
       "      <td>14.219709</td>\n",
       "      <td>14.219709</td>\n",
       "      <td>0.042949</td>\n",
       "      <td>0.031303</td>\n",
       "      <td>1.676846</td>\n",
       "      <td>0.438961</td>\n",
       "      <td>0.667682</td>\n",
       "      <td>...</td>\n",
       "      <td>0.369126</td>\n",
       "      <td>0.359835</td>\n",
       "      <td>0.545658</td>\n",
       "      <td>0.567287</td>\n",
       "      <td>NaN</td>\n",
       "      <td>3.437275</td>\n",
       "      <td>2.186954</td>\n",
       "      <td>2.472995e+06</td>\n",
       "      <td>1.637916e+07</td>\n",
       "      <td>1.354158e+07</td>\n",
       "    </tr>\n",
       "    <tr>\n",
       "      <th>min</th>\n",
       "      <td>4.291000e+03</td>\n",
       "      <td>2.016010e+13</td>\n",
       "      <td>4.193000e+03</td>\n",
       "      <td>1.000000</td>\n",
       "      <td>1.000000</td>\n",
       "      <td>47.505088</td>\n",
       "      <td>-122.417219</td>\n",
       "      <td>1.000000</td>\n",
       "      <td>0.000000</td>\n",
       "      <td>0.000000</td>\n",
       "      <td>...</td>\n",
       "      <td>2.000000</td>\n",
       "      <td>2.000000</td>\n",
       "      <td>4.000000</td>\n",
       "      <td>2.000000</td>\n",
       "      <td>NaN</td>\n",
       "      <td>1.000000</td>\n",
       "      <td>0.020000</td>\n",
       "      <td>4.291000e+03</td>\n",
       "      <td>3.721000e+03</td>\n",
       "      <td>1.500000e+01</td>\n",
       "    </tr>\n",
       "    <tr>\n",
       "      <th>25%</th>\n",
       "      <td>7.946330e+05</td>\n",
       "      <td>2.016010e+13</td>\n",
       "      <td>1.393266e+06</td>\n",
       "      <td>1.000000</td>\n",
       "      <td>1.000000</td>\n",
       "      <td>47.606737</td>\n",
       "      <td>-122.356266</td>\n",
       "      <td>2.000000</td>\n",
       "      <td>1.000000</td>\n",
       "      <td>1.000000</td>\n",
       "      <td>...</td>\n",
       "      <td>10.000000</td>\n",
       "      <td>10.000000</td>\n",
       "      <td>9.000000</td>\n",
       "      <td>9.000000</td>\n",
       "      <td>NaN</td>\n",
       "      <td>1.000000</td>\n",
       "      <td>1.940000</td>\n",
       "      <td>7.946330e+05</td>\n",
       "      <td>1.722488e+07</td>\n",
       "      <td>5.045034e+06</td>\n",
       "    </tr>\n",
       "    <tr>\n",
       "      <th>50%</th>\n",
       "      <td>2.488228e+06</td>\n",
       "      <td>2.016010e+13</td>\n",
       "      <td>5.486995e+06</td>\n",
       "      <td>1.000000</td>\n",
       "      <td>1.000000</td>\n",
       "      <td>47.621627</td>\n",
       "      <td>-122.329441</td>\n",
       "      <td>2.000000</td>\n",
       "      <td>1.000000</td>\n",
       "      <td>1.000000</td>\n",
       "      <td>...</td>\n",
       "      <td>10.000000</td>\n",
       "      <td>10.000000</td>\n",
       "      <td>10.000000</td>\n",
       "      <td>10.000000</td>\n",
       "      <td>NaN</td>\n",
       "      <td>1.000000</td>\n",
       "      <td>3.290000</td>\n",
       "      <td>2.488228e+06</td>\n",
       "      <td>3.225987e+07</td>\n",
       "      <td>1.413230e+07</td>\n",
       "    </tr>\n",
       "    <tr>\n",
       "      <th>75%</th>\n",
       "      <td>4.681885e+06</td>\n",
       "      <td>2.016010e+13</td>\n",
       "      <td>1.378638e+07</td>\n",
       "      <td>3.000000</td>\n",
       "      <td>3.000000</td>\n",
       "      <td>47.661991</td>\n",
       "      <td>-122.311762</td>\n",
       "      <td>4.000000</td>\n",
       "      <td>1.000000</td>\n",
       "      <td>1.000000</td>\n",
       "      <td>...</td>\n",
       "      <td>10.000000</td>\n",
       "      <td>10.000000</td>\n",
       "      <td>10.000000</td>\n",
       "      <td>10.000000</td>\n",
       "      <td>NaN</td>\n",
       "      <td>2.000000</td>\n",
       "      <td>4.940000</td>\n",
       "      <td>4.681885e+06</td>\n",
       "      <td>4.458225e+07</td>\n",
       "      <td>2.762409e+07</td>\n",
       "    </tr>\n",
       "    <tr>\n",
       "      <th>max</th>\n",
       "      <td>1.024814e+07</td>\n",
       "      <td>2.016010e+13</td>\n",
       "      <td>5.076344e+07</td>\n",
       "      <td>502.000000</td>\n",
       "      <td>502.000000</td>\n",
       "      <td>47.733358</td>\n",
       "      <td>-122.254189</td>\n",
       "      <td>16.000000</td>\n",
       "      <td>8.000000</td>\n",
       "      <td>7.000000</td>\n",
       "      <td>...</td>\n",
       "      <td>10.000000</td>\n",
       "      <td>10.000000</td>\n",
       "      <td>10.000000</td>\n",
       "      <td>10.000000</td>\n",
       "      <td>NaN</td>\n",
       "      <td>37.000000</td>\n",
       "      <td>12.150000</td>\n",
       "      <td>1.024814e+07</td>\n",
       "      <td>5.873651e+07</td>\n",
       "      <td>5.281274e+07</td>\n",
       "    </tr>\n",
       "  </tbody>\n",
       "</table>\n",
       "<p>8 rows × 34 columns</p>\n",
       "</div>"
      ],
      "text/plain": [
       "               id_x     scrape_id       host_id  host_listings_count  \\\n",
       "count  8.427600e+04  8.427600e+04  8.427600e+04         84276.000000   \n",
       "mean   3.000882e+06  2.016010e+13  9.285215e+06             4.142567   \n",
       "std    2.472995e+06  4.114087e+01  1.017225e+07            14.219709   \n",
       "min    4.291000e+03  2.016010e+13  4.193000e+03             1.000000   \n",
       "25%    7.946330e+05  2.016010e+13  1.393266e+06             1.000000   \n",
       "50%    2.488228e+06  2.016010e+13  5.486995e+06             1.000000   \n",
       "75%    4.681885e+06  2.016010e+13  1.378638e+07             3.000000   \n",
       "max    1.024814e+07  2.016010e+13  5.076344e+07           502.000000   \n",
       "\n",
       "       host_total_listings_count      latitude     longitude  accommodates  \\\n",
       "count               84276.000000  84276.000000  84276.000000  84276.000000   \n",
       "mean                    4.142567     47.626526   -122.333485      3.070127   \n",
       "std                    14.219709      0.042949      0.031303      1.676846   \n",
       "min                     1.000000     47.505088   -122.417219      1.000000   \n",
       "25%                     1.000000     47.606737   -122.356266      2.000000   \n",
       "50%                     1.000000     47.621627   -122.329441      2.000000   \n",
       "75%                     3.000000     47.661991   -122.311762      4.000000   \n",
       "max                   502.000000     47.733358   -122.254189     16.000000   \n",
       "\n",
       "          bathrooms      bedrooms  ...  review_scores_checkin  \\\n",
       "count  83667.000000  83986.000000  ...           84243.000000   \n",
       "mean       1.157213      1.133713  ...               9.865247   \n",
       "std        0.438961      0.667682  ...               0.369126   \n",
       "min        0.000000      0.000000  ...               2.000000   \n",
       "25%        1.000000      1.000000  ...              10.000000   \n",
       "50%        1.000000      1.000000  ...              10.000000   \n",
       "75%        1.000000      1.000000  ...              10.000000   \n",
       "max        8.000000      7.000000  ...              10.000000   \n",
       "\n",
       "       review_scores_communication  review_scores_location  \\\n",
       "count                 84252.000000            84246.000000   \n",
       "mean                      9.870769                9.599269   \n",
       "std                       0.359835                0.545658   \n",
       "min                       2.000000                4.000000   \n",
       "25%                      10.000000                9.000000   \n",
       "50%                      10.000000               10.000000   \n",
       "75%                      10.000000               10.000000   \n",
       "max                      10.000000               10.000000   \n",
       "\n",
       "       review_scores_value  license  calculated_host_listings_count  \\\n",
       "count         84245.000000      0.0                    84276.000000   \n",
       "mean              9.501941      NaN                        2.273969   \n",
       "std               0.567287      NaN                        3.437275   \n",
       "min               2.000000      NaN                        1.000000   \n",
       "25%               9.000000      NaN                        1.000000   \n",
       "50%              10.000000      NaN                        1.000000   \n",
       "75%              10.000000      NaN                        2.000000   \n",
       "max              10.000000      NaN                       37.000000   \n",
       "\n",
       "       reviews_per_month    listing_id          id_y   reviewer_id  \n",
       "count       84276.000000  8.427600e+04  8.427600e+04  8.427600e+04  \n",
       "mean            3.624716  3.000882e+06  3.057100e+07  1.701100e+07  \n",
       "std             2.186954  2.472995e+06  1.637916e+07  1.354158e+07  \n",
       "min             0.020000  4.291000e+03  3.721000e+03  1.500000e+01  \n",
       "25%             1.940000  7.946330e+05  1.722488e+07  5.045034e+06  \n",
       "50%             3.290000  2.488228e+06  3.225987e+07  1.413230e+07  \n",
       "75%             4.940000  4.681885e+06  4.458225e+07  2.762409e+07  \n",
       "max            12.150000  1.024814e+07  5.873651e+07  5.281274e+07  \n",
       "\n",
       "[8 rows x 34 columns]"
      ]
     },
     "execution_count": 11,
     "metadata": {},
     "output_type": "execute_result"
    }
   ],
   "source": [
    "avg_merged.describe()"
   ]
  },
  {
   "cell_type": "markdown",
   "metadata": {
    "colab_type": "text",
    "id": "uLbEcYQvuT5D"
   },
   "source": [
    "#### 9. Calculons la proportion du nombre total des données du nouveau dataset"
   ]
  },
  {
   "cell_type": "code",
   "execution_count": 12,
   "metadata": {},
   "outputs": [
    {
     "data": {
      "text/plain": [
       "0.993246826715695"
      ]
     },
     "execution_count": 12,
     "metadata": {},
     "output_type": "execute_result"
    }
   ],
   "source": [
    "proportion = len(avg_merged) / len(df_merged)\n",
    "proportion"
   ]
  },
  {
   "cell_type": "markdown",
   "metadata": {
    "colab_type": "text",
    "id": "POh3oLcwuH2S"
   },
   "source": [
    "Pour l'instant nous allons continuer sur ce dataset qui nous semble plus pertinant** \n",
    "\n",
    "**Regardons si le quartier a une influence sur les prix. On utilisera la colonne *neighbourhood_group_cleansed***"
   ]
  },
  {
   "cell_type": "code",
   "execution_count": 13,
   "metadata": {},
   "outputs": [
    {
     "data": {
      "text/plain": [
       "<seaborn.axisgrid.FacetGrid at 0x2a5733db5f8>"
      ]
     },
     "execution_count": 13,
     "metadata": {},
     "output_type": "execute_result"
    },
    {
     "data": {
      "image/png": "[encoded data removed]",
      "text/plain": [
       "<Figure size 1440x576 with 1 Axes>"
      ]
     },
     "metadata": {
      "needs_background": "light"
     },
     "output_type": "display_data"
    }
   ],
   "source": [
    "sns.catplot(x='neighbourhood_group_cleansed',y='price',data=avg_merged,height=8,aspect=2.5,kind='bar')"
   ]
  },
  {
   "cell_type": "markdown",
   "metadata": {
    "colab_type": "text",
    "id": "3oOk8myjx_8n"
   },
   "source": [
    "**Regardons de même avec le type de propriété**"
   ]
  },
  {
   "cell_type": "code",
   "execution_count": 14,
   "metadata": {},
   "outputs": [
    {
     "data": {
      "text/plain": [
       "<seaborn.axisgrid.FacetGrid at 0x2a50144c6d8>"
      ]
     },
     "execution_count": 14,
     "metadata": {},
     "output_type": "execute_result"
    },
    {
     "data": {
      "image/png": "[encoded data removed]",
      "text/plain": [
       "<Figure size 1440x576 with 1 Axes>"
      ]
     },
     "metadata": {
      "needs_background": "light"
     },
     "output_type": "display_data"
    }
   ],
   "source": [
    "sns.catplot(x='property_type',y='price',data=avg_merged,height=8,aspect=2.5,kind='bar')"
   ]
  },
  {
   "cell_type": "markdown",
   "metadata": {
    "colab_type": "text",
    "id": "U-xbv5VGzVYE"
   },
   "source": [
    "**Regardons cette fois les prix par rapport au type de chambre**"
   ]
  },
  {
   "cell_type": "code",
   "execution_count": 15,
   "metadata": {},
   "outputs": [
    {
     "data": {
      "text/plain": [
       "<seaborn.axisgrid.FacetGrid at 0x2a50141ddd8>"
      ]
     },
     "execution_count": 15,
     "metadata": {},
     "output_type": "execute_result"
    },
    {
     "data": {
      "image/png": "[encoded data removed]",
      "text/plain": [
       "<Figure size 1440x576 with 1 Axes>"
      ]
     },
     "metadata": {
      "needs_background": "light"
     },
     "output_type": "display_data"
    }
   ],
   "source": [
    "sns.catplot(x='room_type',y='price',data=avg_merged,height=8,aspect=2.5,kind='bar')"
   ]
  },
  {
   "cell_type": "code",
   "execution_count": null,
   "metadata": {},
   "outputs": [],
   "source": []
  },
  {
   "cell_type": "markdown",
   "metadata": {
    "colab_type": "text",
    "id": "Zw2wWq4E0CQf"
   },
   "source": [
    "#### On pourrait se demander si le temps de réponse du _Host_ aurait une influence sur le prix. Vérifions"
   ]
  },
  {
   "cell_type": "code",
   "execution_count": 16,
   "metadata": {},
   "outputs": [
    {
     "data": {
      "text/plain": [
       "<seaborn.axisgrid.FacetGrid at 0x2a5010e1c50>"
      ]
     },
     "execution_count": 16,
     "metadata": {},
     "output_type": "execute_result"
    },
    {
     "data": {
      "image/png": "[encoded data removed]",
      "text/plain": [
       "<Figure size 1440x576 with 1 Axes>"
      ]
     },
     "metadata": {
      "needs_background": "light"
     },
     "output_type": "display_data"
    }
   ],
   "source": [
    "sns.catplot(x='host_response_time',y='price',data=avg_merged,height=8,aspect=2.5,kind='bar')"
   ]
  },
  {
   "cell_type": "markdown",
   "metadata": {
    "colab_type": "text",
    "id": "CRz_HdaG0hub"
   },
   "source": [
    "#### Ce graphique semble être intéressant et surtout. Regardons de plus près la distribution des prix des _host_ qui répondent _within few days or more"
   ]
  },
  {
   "cell_type": "code",
   "execution_count": 17,
   "metadata": {},
   "outputs": [
    {
     "data": {
      "text/plain": [
       "<matplotlib.axes._subplots.AxesSubplot at 0x2a500eff780>"
      ]
     },
     "execution_count": 17,
     "metadata": {},
     "output_type": "execute_result"
    },
    {
     "data": {
      "image/png": "[encoded data removed]",
      "text/plain": [
       "<Figure size 432x288 with 1 Axes>"
      ]
     },
     "metadata": {
      "needs_background": "light"
     },
     "output_type": "display_data"
    }
   ],
   "source": [
    "sns.distplot(avg_merged['price'][avg_merged['host_response_time']=='a few days or more'])"
   ]
  },
  {
   "cell_type": "markdown",
   "metadata": {
    "colab_type": "text",
    "id": "PPRbUVVd1Kyh"
   },
   "source": [
    "#### Il semblerait en effet que les host qui répondent lentement soient dans la moyenne haute des prix. Cependant, cela ne veut pas dire que l'expérience des clients soit bonne. \n",
    "\n",
    "Regardons l'influence du fait d'être _super host_ sur les prix\n"
   ]
  },
  {
   "cell_type": "code",
   "execution_count": 18,
   "metadata": {},
   "outputs": [
    {
     "data": {
      "text/plain": [
       "<seaborn.axisgrid.FacetGrid at 0x2a514a98a58>"
      ]
     },
     "execution_count": 18,
     "metadata": {},
     "output_type": "execute_result"
    },
    {
     "data": {
      "image/png": "[encoded data removed]",
      "text/plain": [
       "<Figure size 1440x576 with 1 Axes>"
      ]
     },
     "metadata": {
      "needs_background": "light"
     },
     "output_type": "display_data"
    }
   ],
   "source": [
    "sns.catplot(x='host_is_superhost',y='price',data=avg_merged ,kind='bar',height=8,aspect=2.5)"
   ]
  },
  {
   "cell_type": "markdown",
   "metadata": {
    "colab_type": "text",
    "id": "_CSdCU891_JE"
   },
   "source": [
    "**Regardons cette fois l'influence de la maison en elle-même sur le prix d'un Airbnb** \n",
    "\n",
    "**Regardez l'influence des prix par rapport au nombre de lits, de chambres, de salles de bains et du nombre de personnes possibles dans le logement**"
   ]
  },
  {
   "cell_type": "code",
   "execution_count": 19,
   "metadata": {},
   "outputs": [
    {
     "data": {
      "text/plain": [
       "<seaborn.axisgrid.FacetGrid at 0x2a51521dc18>"
      ]
     },
     "execution_count": 19,
     "metadata": {},
     "output_type": "execute_result"
    },
    {
     "data": {
      "image/png": "[encoded data removed]",
      "text/plain": [
       "<Figure size 1440x576 with 1 Axes>"
      ]
     },
     "metadata": {
      "needs_background": "light"
     },
     "output_type": "display_data"
    }
   ],
   "source": [
    "sns.catplot(x='beds',y='price',data=avg_merged ,kind='bar',height=8,aspect=2.5)"
   ]
  },
  {
   "cell_type": "code",
   "execution_count": 20,
   "metadata": {
    "scrolled": true
   },
   "outputs": [
    {
     "data": {
      "text/plain": [
       "<seaborn.axisgrid.FacetGrid at 0x2a500f80588>"
      ]
     },
     "execution_count": 20,
     "metadata": {},
     "output_type": "execute_result"
    },
    {
     "data": {
      "image/png": "[encoded data removed]",
      "text/plain": [
       "<Figure size 1440x576 with 1 Axes>"
      ]
     },
     "metadata": {
      "needs_background": "light"
     },
     "output_type": "display_data"
    }
   ],
   "source": [
    "sns.catplot(x='bedrooms',y='price',data=avg_merged ,kind='bar',height=8,aspect=2.5)"
   ]
  },
  {
   "cell_type": "code",
   "execution_count": 21,
   "metadata": {},
   "outputs": [
    {
     "data": {
      "text/plain": [
       "<seaborn.axisgrid.FacetGrid at 0x2a515072550>"
      ]
     },
     "execution_count": 21,
     "metadata": {},
     "output_type": "execute_result"
    },
    {
     "data": {
      "image/png": "[encoded data removed]",
      "text/plain": [
       "<Figure size 1440x576 with 1 Axes>"
      ]
     },
     "metadata": {
      "needs_background": "light"
     },
     "output_type": "display_data"
    }
   ],
   "source": [
    "sns.catplot(x='bathrooms',y='price',data=avg_merged ,kind='bar',height=8,aspect=2.5)"
   ]
  },
  {
   "cell_type": "markdown",
   "metadata": {
    "colab_type": "text",
    "id": "k7Uwt5di10Dv"
   },
   "source": [
    "**Enfin, nous aimerions voir si les _amenities_ ont une influence sur le prix. Pour cela, nous ne pouvons pas utiliser les valeurs telles quelles dans le dataset. Trouvez donc un moyenne de les parser pour les mettre dans seaborn**\n"
   ]
  },
  {
   "cell_type": "code",
   "execution_count": null,
   "metadata": {
    "colab": {
     "base_uri": "https://localhost:8080/",
     "height": 707
    },
    "colab_type": "code",
    "id": "M1_2duql2_uP",
    "outputId": "19cc0692-629e-44df-f401-a4980615310c"
   },
   "outputs": [],
   "source": []
  },
  {
   "cell_type": "markdown",
   "metadata": {
    "colab_type": "text",
    "id": "gLzpals_7A8r"
   },
   "source": [
    "**7. Attaquons maintenant les reviews, il semblerait bon de commencer par la distribution des reviews**"
   ]
  },
  {
   "cell_type": "code",
   "execution_count": null,
   "metadata": {
    "colab": {
     "base_uri": "https://localhost:8080/",
     "height": 35
    },
    "colab_type": "code",
    "id": "EhAF6DZr89e9",
    "outputId": "dc450ec1-f7cb-4f8d-97fc-64a968ec96cb"
   },
   "outputs": [],
   "source": []
  },
  {
   "cell_type": "markdown",
   "metadata": {
    "colab_type": "text",
    "id": "l3kjJF3P9XJ2"
   },
   "source": [
    "**Nous avons pris la moyenne sur le dataset sans les outliers. Prenez les dataset complet et regardez si vous voyez une différence**"
   ]
  },
  {
   "cell_type": "code",
   "execution_count": null,
   "metadata": {
    "colab": {
     "base_uri": "https://localhost:8080/",
     "height": 35
    },
    "colab_type": "code",
    "id": "wh0aJOJb9gUf",
    "outputId": "94ea98b3-aeae-4948-fa64-2c9d23d92dbf"
   },
   "outputs": [],
   "source": []
  },
  {
   "cell_type": "markdown",
   "metadata": {
    "colab_type": "text",
    "id": "Uo_G3dYg9l_x"
   },
   "source": [
    "**8. On peut voir que les notes sont extrêmement élevée pour la plupart des biens. Mais voyons si nous pouvons trouver des facteurs qui influencent une meilleure review**\n",
    "\n",
    "**Commencez par regarder la *cancellation_policy* sur les reviews**"
   ]
  },
  {
   "cell_type": "markdown",
   "metadata": {
    "colab_type": "text",
    "id": "h4RYvFaW_JIj"
   },
   "source": [
    "**9. Est ce que le nombre de reviews peut influencer le score de chacun des biens ?** "
   ]
  },
  {
   "cell_type": "markdown",
   "metadata": {
    "colab_type": "text",
    "id": "rQEjvR-A_0Hn"
   },
   "source": [
    "**10. Nous avions vu tout à l'heure que les personnes qui mettaient du temps à répondre avaient tendance à pratiquer des prix plus élevés. Est ce que pour autant ceux-ci ont des bonnes reviews ?**"
   ]
  },
  {
   "cell_type": "code",
   "execution_count": null,
   "metadata": {
    "colab": {
     "base_uri": "https://localhost:8080/",
     "height": 387
    },
    "colab_type": "code",
    "id": "CWbVIZki_Uw2",
    "outputId": "72681ca9-45e6-4a43-ddee-bbb4d76598fd"
   },
   "outputs": [],
   "source": []
  },
  {
   "cell_type": "markdown",
   "metadata": {
    "colab_type": "text",
    "id": "rUPfRhSvA6mu"
   },
   "source": [
    "**11. Bravo ! Vous avez fait une étude très approfondie du marché de l'immobilier Airbnb à Seattle. Ceci n'a pas été vain, imaginez maintenant que vous avez été mandaté par un propriétaire qui souhaite mettre sur appartement sur Airbnb.**\n",
    "\n",
    "**Quelles seraient vos recommandations ?**"
   ]
  },
  {
   "cell_type": "markdown",
   "metadata": {
    "colab_type": "text",
    "id": "ZsSUs-tdBQhh"
   },
   "source": []
  },
  {
   "cell_type": "code",
   "execution_count": null,
   "metadata": {
    "colab": {},
    "colab_type": "code",
    "id": "OzBlPSnGAJ--"
   },
   "outputs": [],
   "source": []
  }
 ],
 "metadata": {
  "colab": {
   "name": "Airbnb in Seattle - Exercice.ipynb",
   "provenance": [],
   "version": "0.3.2"
  },
  "kernelspec": {
   "display_name": "Python 3",
   "language": "python",
   "name": "python3"
  },
  "language_info": {
   "codemirror_mode": {
    "name": "ipython",
    "version": 3
   },
   "file_extension": ".py",
   "mimetype": "text/x-python",
   "name": "python",
   "nbconvert_exporter": "python",
   "pygments_lexer": "ipython3",
   "version": "3.7.3"
  }
 },
 "nbformat": 4,
 "nbformat_minor": 1
}
